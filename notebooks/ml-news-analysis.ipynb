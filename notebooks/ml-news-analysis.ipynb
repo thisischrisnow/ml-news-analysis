{
 "cells": [
  {
   "cell_type": "markdown",
   "id": "5a31883a",
   "metadata": {
    "execution": {
     "iopub.execute_input": "2025-01-21T01:15:31.656410Z",
     "iopub.status.busy": "2025-01-21T01:15:31.655959Z",
     "iopub.status.idle": "2025-01-21T01:15:31.662800Z",
     "shell.execute_reply": "2025-01-21T01:15:31.661529Z",
     "shell.execute_reply.started": "2025-01-21T01:15:31.656382Z"
    },
    "papermill": {
     "duration": 0.0032,
     "end_time": "2025-01-21T02:32:07.480396",
     "exception": false,
     "start_time": "2025-01-21T02:32:07.477196",
     "status": "completed"
    },
    "tags": []
   },
   "source": [
    "@dataset{\n",
    "    dataset,\n",
    "    author = {Timilsina, Bimal},\n",
    "    year = {2021},\n",
    "    month = {08},\n",
    "    pages = {},\n",
    "    title = {News Article Category Dataset},\n",
    "}"
   ]
  },
  {
   "cell_type": "code",
   "execution_count": 1,
   "id": "d521dc24",
   "metadata": {
    "execution": {
     "iopub.execute_input": "2025-01-21T02:32:07.487532Z",
     "iopub.status.busy": "2025-01-21T02:32:07.487011Z",
     "iopub.status.idle": "2025-01-21T02:32:08.577177Z",
     "shell.execute_reply": "2025-01-21T02:32:08.576346Z"
    },
    "papermill": {
     "duration": 1.095679,
     "end_time": "2025-01-21T02:32:08.579024",
     "exception": false,
     "start_time": "2025-01-21T02:32:07.483345",
     "status": "completed"
    },
    "tags": []
   },
   "outputs": [],
   "source": [
    "import pandas as pd"
   ]
  },
  {
   "cell_type": "code",
   "execution_count": 2,
   "id": "4aeb4058",
   "metadata": {
    "execution": {
     "iopub.execute_input": "2025-01-21T02:32:08.586527Z",
     "iopub.status.busy": "2025-01-21T02:32:08.585967Z",
     "iopub.status.idle": "2025-01-21T02:32:09.407394Z",
     "shell.execute_reply": "2025-01-21T02:32:09.406438Z"
    },
    "papermill": {
     "duration": 0.82725,
     "end_time": "2025-01-21T02:32:09.409359",
     "exception": false,
     "start_time": "2025-01-21T02:32:08.582109",
     "status": "completed"
    },
    "tags": []
   },
   "outputs": [],
   "source": [
    "df = pd.read_csv('../input/newsarticlecategories/news-article-categories.csv')"
   ]
  },
  {
   "cell_type": "code",
   "execution_count": 3,
   "id": "3df635f5",
   "metadata": {
    "execution": {
     "iopub.execute_input": "2025-01-21T02:32:09.416192Z",
     "iopub.status.busy": "2025-01-21T02:32:09.415884Z",
     "iopub.status.idle": "2025-01-21T02:32:09.446141Z",
     "shell.execute_reply": "2025-01-21T02:32:09.445159Z"
    },
    "papermill": {
     "duration": 0.035705,
     "end_time": "2025-01-21T02:32:09.447906",
     "exception": false,
     "start_time": "2025-01-21T02:32:09.412201",
     "status": "completed"
    },
    "tags": []
   },
   "outputs": [
    {
     "data": {
      "text/html": [
       "<div>\n",
       "<style scoped>\n",
       "    .dataframe tbody tr th:only-of-type {\n",
       "        vertical-align: middle;\n",
       "    }\n",
       "\n",
       "    .dataframe tbody tr th {\n",
       "        vertical-align: top;\n",
       "    }\n",
       "\n",
       "    .dataframe thead th {\n",
       "        text-align: right;\n",
       "    }\n",
       "</style>\n",
       "<table border=\"1\" class=\"dataframe\">\n",
       "  <thead>\n",
       "    <tr style=\"text-align: right;\">\n",
       "      <th></th>\n",
       "      <th>category</th>\n",
       "      <th>title</th>\n",
       "      <th>body</th>\n",
       "    </tr>\n",
       "  </thead>\n",
       "  <tbody>\n",
       "    <tr>\n",
       "      <th>0</th>\n",
       "      <td>ARTS &amp; CULTURE</td>\n",
       "      <td>Modeling Agencies Enabled Sexual Predators For...</td>\n",
       "      <td>In October 2017, Carolyn Kramer received a dis...</td>\n",
       "    </tr>\n",
       "    <tr>\n",
       "      <th>1</th>\n",
       "      <td>ARTS &amp; CULTURE</td>\n",
       "      <td>Actor Jeff Hiller Talks “Bright Colors And Bol...</td>\n",
       "      <td>This week I talked with actor Jeff Hiller abou...</td>\n",
       "    </tr>\n",
       "    <tr>\n",
       "      <th>2</th>\n",
       "      <td>ARTS &amp; CULTURE</td>\n",
       "      <td>New Yorker Cover Puts Trump 'In The Hole' Afte...</td>\n",
       "      <td>The New Yorker is taking on President Donald T...</td>\n",
       "    </tr>\n",
       "    <tr>\n",
       "      <th>3</th>\n",
       "      <td>ARTS &amp; CULTURE</td>\n",
       "      <td>Man Surprises Girlfriend By Drawing Them In Di...</td>\n",
       "      <td>Kellen Hickey, a 26-year-old who lives in Huds...</td>\n",
       "    </tr>\n",
       "    <tr>\n",
       "      <th>4</th>\n",
       "      <td>ARTS &amp; CULTURE</td>\n",
       "      <td>This Artist Gives Renaissance-Style Sculptures...</td>\n",
       "      <td>There’s something about combining the traditio...</td>\n",
       "    </tr>\n",
       "    <tr>\n",
       "      <th>...</th>\n",
       "      <td>...</td>\n",
       "      <td>...</td>\n",
       "      <td>...</td>\n",
       "    </tr>\n",
       "    <tr>\n",
       "      <th>6872</th>\n",
       "      <td>WOMEN</td>\n",
       "      <td>Casually Fearless: Why Millennials Are Natural...</td>\n",
       "      <td>I still think about that Tuesday night dinner ...</td>\n",
       "    </tr>\n",
       "    <tr>\n",
       "      <th>6873</th>\n",
       "      <td>WOMEN</td>\n",
       "      <td>Happy Birthday To Us</td>\n",
       "      <td>I remember the morning of my high school gradu...</td>\n",
       "    </tr>\n",
       "    <tr>\n",
       "      <th>6874</th>\n",
       "      <td>WOMEN</td>\n",
       "      <td>The Culture of Love</td>\n",
       "      <td>My husband, Gene, doesn't wear pajamas. I aske...</td>\n",
       "    </tr>\n",
       "    <tr>\n",
       "      <th>6875</th>\n",
       "      <td>WOMEN</td>\n",
       "      <td>Carpe Diem, Oprah Style</td>\n",
       "      <td>\\nBy AntonioGuillem, via ThinkStock\\nBy  Lisa ...</td>\n",
       "    </tr>\n",
       "    <tr>\n",
       "      <th>6876</th>\n",
       "      <td>WOMEN</td>\n",
       "      <td>My Month of Online Dating Detox</td>\n",
       "      <td>My name is Jamie and I'm an online date-aholic...</td>\n",
       "    </tr>\n",
       "  </tbody>\n",
       "</table>\n",
       "<p>6877 rows × 3 columns</p>\n",
       "</div>"
      ],
      "text/plain": [
       "            category                                              title  \\\n",
       "0     ARTS & CULTURE  Modeling Agencies Enabled Sexual Predators For...   \n",
       "1     ARTS & CULTURE  Actor Jeff Hiller Talks “Bright Colors And Bol...   \n",
       "2     ARTS & CULTURE  New Yorker Cover Puts Trump 'In The Hole' Afte...   \n",
       "3     ARTS & CULTURE  Man Surprises Girlfriend By Drawing Them In Di...   \n",
       "4     ARTS & CULTURE  This Artist Gives Renaissance-Style Sculptures...   \n",
       "...              ...                                                ...   \n",
       "6872           WOMEN  Casually Fearless: Why Millennials Are Natural...   \n",
       "6873           WOMEN                               Happy Birthday To Us   \n",
       "6874           WOMEN                                The Culture of Love   \n",
       "6875           WOMEN                            Carpe Diem, Oprah Style   \n",
       "6876           WOMEN                    My Month of Online Dating Detox   \n",
       "\n",
       "                                                   body  \n",
       "0     In October 2017, Carolyn Kramer received a dis...  \n",
       "1     This week I talked with actor Jeff Hiller abou...  \n",
       "2     The New Yorker is taking on President Donald T...  \n",
       "3     Kellen Hickey, a 26-year-old who lives in Huds...  \n",
       "4     There’s something about combining the traditio...  \n",
       "...                                                 ...  \n",
       "6872  I still think about that Tuesday night dinner ...  \n",
       "6873  I remember the morning of my high school gradu...  \n",
       "6874  My husband, Gene, doesn't wear pajamas. I aske...  \n",
       "6875  \\nBy AntonioGuillem, via ThinkStock\\nBy  Lisa ...  \n",
       "6876  My name is Jamie and I'm an online date-aholic...  \n",
       "\n",
       "[6877 rows x 3 columns]"
      ]
     },
     "metadata": {},
     "output_type": "display_data"
    }
   ],
   "source": [
    "display(df)"
   ]
  },
  {
   "cell_type": "markdown",
   "id": "aa7e3623",
   "metadata": {
    "papermill": {
     "duration": 0.002611,
     "end_time": "2025-01-21T02:32:09.453600",
     "exception": false,
     "start_time": "2025-01-21T02:32:09.450989",
     "status": "completed"
    },
    "tags": []
   },
   "source": [
    "# Prepare Data"
   ]
  },
  {
   "cell_type": "markdown",
   "id": "a7cc06a5",
   "metadata": {
    "papermill": {
     "duration": 0.002529,
     "end_time": "2025-01-21T02:32:09.459183",
     "exception": false,
     "start_time": "2025-01-21T02:32:09.456654",
     "status": "completed"
    },
    "tags": []
   },
   "source": [
    "## Remove stop words\n",
    "\n",
    "Stop words are words that do not significantly contribute to the meaning of the text. Words like 'is', 'a', and 'the' can be removed as part of the data preparation so that the categorization can focus on the words that contribute the most meaning.\n",
    "\n",
    "To accomplish this, we'll import the Natural Language Toolkit and then download the English stop words dataset."
   ]
  },
  {
   "cell_type": "code",
   "execution_count": 4,
   "id": "defe77ee",
   "metadata": {
    "execution": {
     "iopub.execute_input": "2025-01-21T02:32:09.465918Z",
     "iopub.status.busy": "2025-01-21T02:32:09.465579Z",
     "iopub.status.idle": "2025-01-21T02:32:12.326412Z",
     "shell.execute_reply": "2025-01-21T02:32:12.325187Z"
    },
    "papermill": {
     "duration": 2.866173,
     "end_time": "2025-01-21T02:32:12.328071",
     "exception": false,
     "start_time": "2025-01-21T02:32:09.461898",
     "status": "completed"
    },
    "tags": []
   },
   "outputs": [
    {
     "name": "stdout",
     "output_type": "stream",
     "text": [
      "[nltk_data] Downloading package stopwords to /usr/share/nltk_data...\n",
      "[nltk_data]   Package stopwords is already up-to-date!\n"
     ]
    }
   ],
   "source": [
    "import nltk\n",
    "from nltk.corpus import stopwords\n",
    " \n",
    "nltk.download('stopwords')\n",
    "stopwords = (stopwords.words('english'))"
   ]
  },
  {
   "cell_type": "code",
   "execution_count": 5,
   "id": "6a0dd6b1",
   "metadata": {
    "execution": {
     "iopub.execute_input": "2025-01-21T02:32:12.335478Z",
     "iopub.status.busy": "2025-01-21T02:32:12.334842Z",
     "iopub.status.idle": "2025-01-21T02:32:13.418726Z",
     "shell.execute_reply": "2025-01-21T02:32:13.417554Z"
    },
    "papermill": {
     "duration": 1.089591,
     "end_time": "2025-01-21T02:32:13.420767",
     "exception": false,
     "start_time": "2025-01-21T02:32:12.331176",
     "status": "completed"
    },
    "tags": []
   },
   "outputs": [],
   "source": [
    "import re\n",
    "from nltk import pos_tag, word_tokenize\n",
    "\n",
    "def tokenize_title(title):\n",
    "    tokens = word_tokenize(title)\n",
    "    cleaned = []\n",
    "    for t in tokens:\n",
    "        if t.lower() in stopwords:\n",
    "            continue\n",
    "        filtered_word = re.sub(r'[\\'\"\\s+,]', '', t).strip()\n",
    "        if len(filtered_word) > 1:\n",
    "            cleaned.append(filtered_word)\n",
    "    return cleaned\n",
    "\n",
    "df['tokenized'] = df['title'].map(tokenize_title)"
   ]
  },
  {
   "cell_type": "code",
   "execution_count": 6,
   "id": "c4e7b5be",
   "metadata": {
    "execution": {
     "iopub.execute_input": "2025-01-21T02:32:13.428289Z",
     "iopub.status.busy": "2025-01-21T02:32:13.427948Z",
     "iopub.status.idle": "2025-01-21T02:32:13.436040Z",
     "shell.execute_reply": "2025-01-21T02:32:13.434831Z"
    },
    "papermill": {
     "duration": 0.013481,
     "end_time": "2025-01-21T02:32:13.437626",
     "exception": false,
     "start_time": "2025-01-21T02:32:13.424145",
     "status": "completed"
    },
    "tags": []
   },
   "outputs": [
    {
     "name": "stdout",
     "output_type": "stream",
     "text": [
      "0       [Modeling, Agencies, Enabled, Sexual, Predator...\n",
      "1       [Actor, Jeff, Hiller, Talks, Bright, Colors, B...\n",
      "2       [New, Yorker, Cover, Puts, Trump, In, Hole, Ra...\n",
      "3       [Man, Surprises, Girlfriend, Drawing, Differen...\n",
      "4       [Artist, Gives, Renaissance-Style, Sculptures,...\n",
      "                              ...                        \n",
      "6872    [Casually, Fearless, Millennials, Natural, Ent...\n",
      "6873                                [Happy, Birthday, Us]\n",
      "6874                                      [Culture, Love]\n",
      "6875                          [Carpe, Diem, Oprah, Style]\n",
      "6876                       [Month, Online, Dating, Detox]\n",
      "Name: tokenized, Length: 6877, dtype: object\n"
     ]
    }
   ],
   "source": [
    "print(df['tokenized'])"
   ]
  }
 ],
 "metadata": {
  "kaggle": {
   "accelerator": "none",
   "dataSources": [
    {
     "datasetId": 1550907,
     "sourceId": 2556316,
     "sourceType": "datasetVersion"
    }
   ],
   "dockerImageVersionId": 30839,
   "isGpuEnabled": false,
   "isInternetEnabled": true,
   "language": "python",
   "sourceType": "notebook"
  },
  "kernelspec": {
   "display_name": "Python 3",
   "language": "python",
   "name": "python3"
  },
  "language_info": {
   "codemirror_mode": {
    "name": "ipython",
    "version": 3
   },
   "file_extension": ".py",
   "mimetype": "text/x-python",
   "name": "python",
   "nbconvert_exporter": "python",
   "pygments_lexer": "ipython3",
   "version": "3.10.12"
  },
  "papermill": {
   "default_parameters": {},
   "duration": 10.186642,
   "end_time": "2025-01-21T02:32:14.160926",
   "environment_variables": {},
   "exception": null,
   "input_path": "__notebook__.ipynb",
   "output_path": "__notebook__.ipynb",
   "parameters": {},
   "start_time": "2025-01-21T02:32:03.974284",
   "version": "2.6.0"
  }
 },
 "nbformat": 4,
 "nbformat_minor": 5
}
