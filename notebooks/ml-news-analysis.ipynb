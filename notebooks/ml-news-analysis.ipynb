{
 "cells": [
  {
   "cell_type": "markdown",
   "id": "ae7cca8d3174b8d6",
   "metadata": {},
   "source": [
    "# News Classification with Machine Learning\n",
    "\n",
    "This project demonstrates an application of natural language processing (NLP) to classify news stories.\n",
    "\n",
    "## Overview\n",
    "The notebook should be run in order. More details are documented with each section and in comments on code.\n",
    "1. Load and setup data\n",
    "2. Vectorize data\n",
    "3. Group categories using K-means clustering\n",
    "4. Visualize category clusters\n",
    "5. Visualize cluster features (keywords)\n",
    "6. Train classification model\n",
    "7. Predict from user input"
   ]
  },
  {
   "metadata": {},
   "cell_type": "markdown",
   "source": [
    "## **1** - Load and Setup Data\n",
    "\n",
    "1. Load data from json file\n",
    "2. Split into x (input, independent variable) and y (output, dependent variable)\n",
    "3. Split into train (80%) and test (remaining 20%)\n",
    "4. Create new articles_by_category dataframe with all text grouped into each category to use for clustering categories together\n",
    "\n",
    "### About the source dataset\n",
    "Load data from the CSV in the input directory.\n",
    "Data is structured as individual JSON lines with the following properties:\n",
    "\n",
    "| Column Name        | Type       | Description                    |\n",
    "|:-------------------|:-----------|:-------------------------------|\n",
    "| category           | category   | One of 42 categories           |\n",
    "| headline           | string     | Story headline                 |\n",
    "| short_description  | string     | Brief description of the story |\n",
    "| link               | string     | URL to story                   |\n",
    "| authors            | string     | Name of article authors        |\n",
    "| date               | YYYY-MM-DD | Date article was published     |\n",
    "\n",
    "#### Data source\n",
    "    Misra, Rishabh. \"News Category Dataset.\" arXiv preprint arXiv:2209.11429 (2022).\n",
    "    Misra, Rishabh and Jigyasa Grover. \"Sculpting Data for ML: The first act of Machine Learning.\" ISBN 9798585463570 (2021).\n",
    "    https://rishabhmisra.github.io/publications/"
   ],
   "id": "806fd44f7d24c8e"
  },
  {
   "cell_type": "code",
   "id": "8845fe4a",
   "metadata": {
    "papermill": {
     "duration": 0.919199,
     "end_time": "2025-01-22T12:57:58.995884",
     "exception": false,
     "start_time": "2025-01-22T12:57:58.076685",
     "status": "completed"
    },
    "tags": [],
    "ExecuteTime": {
     "end_time": "2025-01-26T18:13:12.547046Z",
     "start_time": "2025-01-26T18:13:10.523817Z"
    }
   },
   "source": [
    "import pandas as pd\n",
    "\n",
    "df = pd.read_json('../input/news-category-dataset/News_Category_Dataset_v3.json', lines=True)\n",
    "df['category'] = df['category'].astype('category') # Set category column as panda's category type to ensure efficient processing\n",
    "\n",
    "\n",
    "from sklearn.model_selection import train_test_split\n",
    "\n",
    "x = df['headline'] + ' ' + df['short_description'] # x, input, independent variable, is all text headline + short_description\n",
    "y = df[['category']] # y, output, dependent variable, is dataframe with only category column\n",
    "\n",
    "# Split data into train (80%) and test (remaining 20%). Use stratify to ensure even split of categories\n",
    "x_train, x_test, y_train, y_test = train_test_split(x, y, test_size=0.2, stratify=y['category'], random_state=5)\n",
    "\n",
    "# Group training data by category\n",
    "articles_by_category = (\n",
    "    x_train\n",
    "        .groupby(y_train['category'], observed=True)\n",
    "        .apply(lambda article: ' '.join(article.astype(str))) # all_articles column contains text from all articles for the category\n",
    "        .reset_index(name='all_articles')\n",
    ")\n",
    "\n",
    "category_names = articles_by_category['category']"
   ],
   "outputs": [],
   "execution_count": 1618
  },
  {
   "metadata": {},
   "cell_type": "markdown",
   "source": [
    "## **2** - Vectorize Data\n",
    "\n",
    "Using a term frequency - inverse document frequency (TF-IDF) algorithm, extract the top 15k words used amongst all categories. Use a score to determine weight of each term based on frequency and uniqueness to a specific category.\n",
    "\n",
    "1. Articles are tokenized\n",
    "    1. **Separate** \"all_articles\" by words into a list\n",
    "    2. **Lowercase** all words so words like \"President\" and \"president\" are treated as equal\n",
    "    3. **Lemmatize** each word so \"runs\" and \"run\" are treated as equal\n",
    "    4. Filter out **stop words** so words like \"the\" and \"and\" that do not add meaning do not skew results.\n",
    "    5. Filter out words **less than 3 characters**.\n",
    "2. Count terms in each document\n",
    "3. Score term frequency by determining frequency in individual documents and weighting terms that are more distinct in particular documents\n",
    "4. Limit to top 15k words (max features)"
   ],
   "id": "d05cc2883d94a34d"
  },
  {
   "cell_type": "code",
   "id": "464057fe3a8a14a3",
   "metadata": {
    "ExecuteTime": {
     "end_time": "2025-01-26T18:18:35.141113Z",
     "start_time": "2025-01-26T18:17:40.191989Z"
    }
   },
   "source": [
    "import nltk\n",
    "import subprocess\n",
    "import sys\n",
    "import re\n",
    "from nltk.tokenize import word_tokenize\n",
    "from nltk.stem import WordNetLemmatizer\n",
    "from nltk.corpus import stopwords\n",
    "from sklearn.feature_extraction.text import TfidfVectorizer\n",
    "\n",
    "'''\n",
    "Download data needed for tokenization\n",
    "'''\n",
    "try:\n",
    "    nltk.data.find('wordnet') # Attempt to locate wordnet\n",
    "except LookupError:\n",
    "    # When wordnet data is not found, download to working directory and unzip.\n",
    "    nltk.download('wordnet', download_dir='../working/', quiet=True)\n",
    "    if sys.platform.startswith('linux'): # Unzip is necessary on Kaggle but this will work in any linux based environment\n",
    "        command = \"unzip ../working/corpora/wordnet.zip -d ../working/corpora\"\n",
    "        subprocess.run(command.split())\n",
    "        nltk.data.path.append('../working/')\n",
    "\n",
    "nltk.download('stopwords', quiet=True)\n",
    "nltk.download('punkt', quiet=True)\n",
    "nltk.download('punkt_tab', quiet=True)\n",
    "\n",
    "'''\n",
    "TF-IDF Vectorizer\n",
    "'''\n",
    "# lemmatizer is used to convert words to a common version. For example, \"runs\" and \"run\" become \"run\"\n",
    "lemmatizer = WordNetLemmatizer()\n",
    "# stopwords are common words that do not add meaning. Words like \"the\" \"and\" add noise so this list can filter these\n",
    "stopwords_list = stopwords.words('english') + ['want', 'say', 'way', 'need', 'said', 'get', 'like', 'could', 'thing']\n",
    "\n",
    "# Define tokenizer function for use during vectorization\n",
    "def tokenizer(text):\n",
    "    # tokenize the string - split the sentence to the individual words, remove non-alphanumeric characters, and lowercase the tokens\n",
    "    tokens = [re.sub(r'[^A-Za-z0-9]', '', t).strip() for t in word_tokenize(text.lower())]\n",
    "    # remove stopwords and words less than 3 characters\n",
    "    return [lemmatizer.lemmatize(token) for token in tokens if token not in stopwords_list and len(token) > 2]\n",
    "\n",
    "# TfidfVectorizer counts words in each document, then uses the TF-IDF algorithm to determine each term (features) weight\n",
    "vectorizer_settings = dict(tokenizer=tokenizer, max_features=15000, token_pattern=None)\n",
    "vectorizer = TfidfVectorizer(**vectorizer_settings)\n",
    "# Apply vectorizer to the articles by category dataframe\n",
    "tfidf_category_matrix = vectorizer.fit_transform(articles_by_category['all_articles'])"
   ],
   "outputs": [],
   "execution_count": 1626
  },
  {
   "metadata": {},
   "cell_type": "markdown",
   "source": [
    "## **3** - Group Categories Using K-Means Clustering\n",
    "\n",
    "Use the K-Means clustering algorithm to determine categories that should be grouped together. The K-Means algorithm is an unsupervised clustering algorithm used to identify a specific number of clusters from the provided data.\n",
    "\n",
    "1. Find clusters using K-Means algorithm\n",
    "2. Calculate mean TF-IDF matrix for each cluster\n",
    "3. Find the dominant categories in each cluster using the cosine_similarity to the cluster TF-IDF matrix (60%) and article count (40%)\n",
    "4. Use the top categories for the cluster to create a cluster name in the format \"Category 1 - Category 2 - Category 3\" where \"Category #\" is the name of the category.\n",
    "5. Add a column to the y dataframes with the cluster name"
   ],
   "id": "1616e938fa493ba"
  },
  {
   "cell_type": "code",
   "id": "1f89e360a98a4800",
   "metadata": {
    "ExecuteTime": {
     "end_time": "2025-01-26T18:14:01.927246Z",
     "start_time": "2025-01-26T18:13:59.038317Z"
    }
   },
   "source": [
    "from sklearn.cluster import KMeans\n",
    "import numpy as np\n",
    "from collections import defaultdict\n",
    "from sklearn.metrics.pairwise import cosine_similarity\n",
    "\n",
    "'''\n",
    "K-Means Clustering\n",
    "\n",
    "Find specific number of clusters\n",
    "'''\n",
    "kmeans = KMeans(n_clusters=4, random_state=20, max_iter=500, init='random', n_init=300)\n",
    "kmeans_results = kmeans.fit(tfidf_category_matrix)\n",
    "\n",
    "'''\n",
    " For each category, find the assigned cluster. Use cluster_categories dict to store the list of categories for each cluster.\n",
    "\n",
    " Example where 6 categories are clustered in two groups:\n",
    "    # input\n",
    "    kmeans_results.labels_ == [1, 1, 0, 0, 1, 1]\n",
    "    # expected output\n",
    "    cluster_categories == {\n",
    "        0: [2, 3],\n",
    "        1: [0, 1, 4, 5]\n",
    "    }\n",
    "'''\n",
    "cluster_categories = defaultdict(list)\n",
    "for i, label in enumerate(kmeans_results.labels_):\n",
    "    cluster_categories[label].append(i)\n",
    "\n",
    "# Find mean for all TF-IDF matrices in each cluster.\n",
    "cluster_tfidf_matrices = {}\n",
    "for cluster_id, category_indices in cluster_categories.items():\n",
    "    cluster_tfidf_matrices[cluster_id] = np.asarray(np.mean(tfidf_category_matrix[category_indices], axis=0))\n",
    "\n",
    "# Use mean matrices to determine dominant categories in each cluster\n",
    "dominant_categories = [] # After following for loop, result in name of each cluster using dominant categories in each cluster\n",
    "category_dominance_scores = [0] * len(category_names) # Initialize an array of 0 for each category\n",
    "for cluster_id, category_indices in cluster_categories.items(): # Use cluster_categories generated above\n",
    "    # Compare each category TF-IDF matrix to the overall cluster TF-IDF mean matrix using cosine similarity.\n",
    "    # Cosine similarity compares the **angle** between the vectors which ensures clusters with more articles are not unfairly weighted at this stage.\n",
    "    cluster_tfidf = cluster_tfidf_matrices[cluster_id]\n",
    "    similarity = cosine_similarity(tfidf_category_matrix[category_indices], cluster_tfidf)\n",
    "\n",
    "    # Get the article counts for each category using the x_train (from before the articles_by_category grouping)\n",
    "    article_counts = np.array([len(x_train[y_train['category'] == category_names[i]]) for i in category_indices])\n",
    "    article_counts = article_counts / article_counts.sum() # normalize counts\n",
    "\n",
    "    # Use a combination of similarity and article count with a high weight on the TF-IDF similarity aspect\n",
    "    combined_scores = 0.6 * similarity.flatten() + 0.4 * article_counts\n",
    "\n",
    "    top_3_indices = np.argsort(combined_scores)[-3:][::-1] # Find top 3 scores - returns indices of combined_scores\n",
    "    top_3_names = [category_names[category_indices[i]] for i in top_3_indices] # Use top_3 indexes to index over the category_indices and map to category names\n",
    "\n",
    "    dominant_categories.append(\" - \".join(top_3_names)) # Join top_3_names with \" - \" between each category\n",
    "\n",
    "    # Store dominance scores to be used by the 3D scatter plot later\n",
    "    # Will inform the size of the scatter points to show dominance within the category\n",
    "    for list_idx, cat_idx in enumerate(category_indices):\n",
    "        category_dominance_scores[cat_idx] = combined_scores[list_idx]\n",
    "\n",
    "def map_to_cluster(category):\n",
    "    sub_cat_idx = articles_by_category[articles_by_category['category'] == category].index[0] # Determine index for matching category string\n",
    "    cluster_idx = kmeans_results.labels_[sub_cat_idx] # Use index to find cluster index\n",
    "    return dominant_categories[cluster_idx] # use name instead of cluster number\n",
    "\n",
    "# Add the clusters as a new column on the training data\n",
    "y_train['cluster_category'] = y_train['category'].map(map_to_cluster).astype('category')\n",
    "y_test['cluster_category'] = y_test['category'].map(map_to_cluster).astype('category')\n",
    "\n",
    "print(dominant_categories)"
   ],
   "outputs": [
    {
     "name": "stdout",
     "output_type": "stream",
     "text": [
      "['ENTERTAINMENT - STYLE & BEAUTY - ARTS', 'WELLNESS - IMPACT - HEALTHY LIVING', 'POLITICS - WORLD NEWS - THE WORLDPOST', 'FOOD & DRINK - TASTE']\n"
     ]
    }
   ],
   "execution_count": 1620
  },
  {
   "metadata": {},
   "cell_type": "markdown",
   "source": [
    "## **4** - Visualize Category Clusters\n",
    "\n",
    "1. Use a t-SNE dimensionality reduction algorithm to reduce the 15k features to 3 dimensions\n",
    "2. Plot to 3D scatter plot\n",
    "   1. Plot point **size** is based on category **dominance** in the cluster.\n",
    "   2. Plot point **color** is based on the **cluster**. Same color categories are grouped together in a single cluster.\n",
    "\n",
    "\n",
    "**Click and drag** on the visualization. Scatter plot is interactive."
   ],
   "id": "68a5205087969f4c"
  },
  {
   "cell_type": "code",
   "id": "91675bac39315d3",
   "metadata": {
    "ExecuteTime": {
     "end_time": "2025-01-26T18:34:46.374313Z",
     "start_time": "2025-01-26T18:34:42.931546Z"
    }
   },
   "source": [
    "from sklearn.manifold import TSNE\n",
    "import plotly.graph_objects as go\n",
    "\n",
    "'''\n",
    "t-SNE Dimensionality Reduction\n",
    "\n",
    "Algorithm takes highly dimensional feature matrix and reduces it to 3d array that can be used to visualize the clusters\n",
    "'''\n",
    "tsne = TSNE(n_components=3, init='random', random_state=5, perplexity=20, learning_rate=100, early_exaggeration=32, max_iter=15000)\n",
    "reduced_data = tsne.fit_transform(tfidf_category_matrix)\n",
    "\n",
    "# Calculate marker_sizes using the category_dominance_scores as the weight\n",
    "marker_sizes = np.array(category_dominance_scores) * 30\n",
    "axis_base = dict(showbackground=False, showgrid=True, gridcolor='#ddd', zerolinecolor='black')\n",
    "\n",
    "fig = go.Figure(\n",
    "    data=[go.Scatter3d(\n",
    "        x=reduced_data[:, 0], y=reduced_data[:, 1], z=reduced_data[:, 2],\n",
    "        text=category_names, mode='markers', textposition='top center',\n",
    "        marker=dict(size=marker_sizes, color=kmeans_results.labels_, colorscale='Rainbow', symbol='circle'),\n",
    "    )],\n",
    "    layout=go.Layout(\n",
    "        width=800, height=800, margin=dict(l=0, r=0, b=0, t=30, pad=0),\n",
    "        scene=dict(\n",
    "            xaxis=dict(axis_base, title='t-SNE Dimension 1'),\n",
    "            yaxis=dict(axis_base, title='t-SNE Dimension 2'),\n",
    "            zaxis=dict(axis_base, title='t-SNE Dimension 3'),\n",
    "        ),\n",
    "        title='Category Cluster Scatterplot'\n",
    "    ),\n",
    ")\n",
    "\n",
    "fig.update_traces(mode='markers+text') # show labels on points\n",
    "\n",
    "fig.show()"
   ],
   "outputs": [
    {
     "data": {
      "application/vnd.plotly.v1+json": {
       "data": [
        {
         "marker": {
          "color": [
           1,
           1,
           0,
           0,
           0,
           2,
           0,
           1,
           0,
           0,
           1,
           0,
           0,
           3,
           0,
           0,
           0,
           1,
           0,
           2,
           2,
           0,
           0,
           0,
           2,
           0,
           0,
           0,
           0,
           1,
           1,
           3,
           0,
           2,
           0,
           2,
           1,
           0,
           0,
           0,
           2,
           2
          ],
          "colorscale": [
           [
            0.0,
            "rgb(150,0,90)"
           ],
           [
            0.125,
            "rgb(0,0,200)"
           ],
           [
            0.25,
            "rgb(0,25,255)"
           ],
           [
            0.375,
            "rgb(0,152,255)"
           ],
           [
            0.5,
            "rgb(44,255,150)"
           ],
           [
            0.625,
            "rgb(151,255,0)"
           ],
           [
            0.75,
            "rgb(255,234,0)"
           ],
           [
            0.875,
            "rgb(255,111,0)"
           ],
           [
            1.0,
            "rgb(255,0,0)"
           ]
          ],
          "size": [
           14.25054515394372,
           13.809351990362124,
           12.308368619122605,
           14.326847114522755,
           9.728890522903304,
           13.045256509331496,
           9.841064888736122,
           14.066137092121087,
           8.57837894410528,
           10.099699458761814,
           18.424416939334307,
           11.734304696157945,
           15.038045593152782,
           26.611228423353325,
           13.428030856767117,
           12.03617411162693,
           15.30996455498327,
           13.032049343281361,
           15.80245550868655,
           11.168084159689617,
           13.434208400254036,
           11.995289935353354,
           14.38489058507484,
           13.296333495064253,
           21.890361619621814,
           11.196678539709424,
           10.903622689685351,
           11.223976781882609,
           10.687845428271023,
           13.510725630309762,
           15.923184850117797,
           20.574778578931483,
           11.041542161899512,
           15.046508988205005,
           13.076357445558369,
           13.10721981934764,
           10.01021694868762,
           13.082360197340574,
           16.4522643636337,
           11.879424990880858,
           15.544944910420869,
           13.696802355537503
          ],
          "symbol": "circle"
         },
         "mode": "markers+text",
         "text": [
          "ARTS",
          "ARTS & CULTURE",
          "BLACK VOICES",
          "BUSINESS",
          "COLLEGE",
          "COMEDY",
          "CRIME",
          "CULTURE & ARTS",
          "DIVORCE",
          "EDUCATION",
          "ENTERTAINMENT",
          "ENVIRONMENT",
          "FIFTY",
          "FOOD & DRINK",
          "GOOD NEWS",
          "GREEN",
          "HEALTHY LIVING",
          "HOME & LIVING",
          "IMPACT",
          "LATINO VOICES",
          "MEDIA",
          "MONEY",
          "PARENTING",
          "PARENTS",
          "POLITICS",
          "QUEER VOICES",
          "RELIGION",
          "SCIENCE",
          "SPORTS",
          "STYLE",
          "STYLE & BEAUTY",
          "TASTE",
          "TECH",
          "THE WORLDPOST",
          "TRAVEL",
          "U.S. NEWS",
          "WEDDINGS",
          "WEIRD NEWS",
          "WELLNESS",
          "WOMEN",
          "WORLD NEWS",
          "WORLDPOST"
         ],
         "textposition": "top center",
         "x": [
          -282.5011901855469,
          76.54743194580078,
          -731.176025390625,
          -104.31690216064453,
          -540.6504516601562,
          520.3028564453125,
          -855.1564331054688,
          1025.609619140625,
          357.2682189941406,
          -751.0518188476562,
          451.0274963378906,
          -449.3022766113281,
          299.1184997558594,
          380.5174865722656,
          -578.6176147460938,
          -465.8838195800781,
          -134.5909881591797,
          195.9637451171875,
          -161.63815307617188,
          -1002.5540771484375,
          -19.444215774536133,
          -121.27218627929688,
          803.5051879882812,
          762.48974609375,
          861.4954223632812,
          132.2986297607422,
          -131.14178466796875,
          -469.8125,
          886.160400390625,
          495.37469482421875,
          381.8984680175781,
          711.4613647460938,
          -76.50164031982422,
          -153.79507446289062,
          -221.47857666015625,
          -531.343505859375,
          620.4055786132812,
          -781.5151977539062,
          -48.834388732910156,
          331.52911376953125,
          -106.79670715332031,
          -1072.9290771484375
         ],
         "y": [
          -295.9715881347656,
          -90.02401733398438,
          698.6534423828125,
          -507.33935546875,
          -749.201904296875,
          -777.760986328125,
          522.3212890625,
          -187.7275390625,
          600.95263671875,
          -704.568115234375,
          -301.9698486328125,
          258.59185791015625,
          205.5051727294922,
          -653.6921997070312,
          -212.8760528564453,
          -66.7848129272461,
          372.9823303222656,
          22.313533782958984,
          -32.291900634765625,
          -180.49679565429688,
          935.4329223632812,
          -945.2433471679688,
          401.0030517578125,
          782.0833740234375,
          -819.0249633789062,
          153.9610595703125,
          945.87841796875,
          502.6077575683594,
          160.13783264160156,
          -349.92974853515625,
          -316.9859924316406,
          -660.2620239257812,
          -537.9735717773438,
          907.234375,
          -861.0931396484375,
          356.4208984375,
          99.52239227294922,
          130.35708618164062,
          64.64086151123047,
          627.578857421875,
          559.8345336914062,
          -47.793251037597656
         ],
         "z": [
          -768.1174926757812,
          -857.4813842773438,
          -148.1861114501953,
          294.67626953125,
          740.1505737304688,
          -8.332140922546387,
          -706.54052734375,
          -230.68572998046875,
          -395.0519104003906,
          400.36181640625,
          -21.357160568237305,
          928.2584228515625,
          3.556729555130005,
          -831.437744140625,
          -93.89064025878906,
          729.0284423828125,
          -51.9150276184082,
          1160.3984375,
          191.84207153320312,
          -572.1019897460938,
          745.632080078125,
          261.31695556640625,
          -44.96061706542969,
          -56.43320083618164,
          281.923828125,
          541.4246826171875,
          -19.62967300415039,
          417.3563537597656,
          547.168212890625,
          537.156982421875,
          921.0925903320312,
          -658.2288818359375,
          -159.66796875,
          -718.876708984375,
          -577.430419921875,
          -558.05859375,
          -617.173583984375,
          -6.953217029571533,
          -279.92364501953125,
          346.5530700683594,
          -929.9746704101562,
          513.3297119140625
         ],
         "type": "scatter3d"
        }
       ],
       "layout": {
        "height": 800,
        "margin": {
         "b": 0,
         "l": 0,
         "pad": 0,
         "r": 0,
         "t": 30
        },
        "scene": {
         "xaxis": {
          "gridcolor": "#ddd",
          "showbackground": false,
          "showgrid": true,
          "title": {
           "text": "t-SNE Dimension 1"
          },
          "zerolinecolor": "black"
         },
         "yaxis": {
          "gridcolor": "#ddd",
          "showbackground": false,
          "showgrid": true,
          "title": {
           "text": "t-SNE Dimension 2"
          },
          "zerolinecolor": "black"
         },
         "zaxis": {
          "gridcolor": "#ddd",
          "showbackground": false,
          "showgrid": true,
          "title": {
           "text": "t-SNE Dimension 3"
          },
          "zerolinecolor": "black"
         }
        },
        "title": {
         "text": "Category Cluster Scatterplot"
        },
        "width": 800,
        "template": {
         "data": {
          "histogram2dcontour": [
           {
            "type": "histogram2dcontour",
            "colorbar": {
             "outlinewidth": 0,
             "ticks": ""
            },
            "colorscale": [
             [
              0.0,
              "#0d0887"
             ],
             [
              0.1111111111111111,
              "#46039f"
             ],
             [
              0.2222222222222222,
              "#7201a8"
             ],
             [
              0.3333333333333333,
              "#9c179e"
             ],
             [
              0.4444444444444444,
              "#bd3786"
             ],
             [
              0.5555555555555556,
              "#d8576b"
             ],
             [
              0.6666666666666666,
              "#ed7953"
             ],
             [
              0.7777777777777778,
              "#fb9f3a"
             ],
             [
              0.8888888888888888,
              "#fdca26"
             ],
             [
              1.0,
              "#f0f921"
             ]
            ]
           }
          ],
          "choropleth": [
           {
            "type": "choropleth",
            "colorbar": {
             "outlinewidth": 0,
             "ticks": ""
            }
           }
          ],
          "histogram2d": [
           {
            "type": "histogram2d",
            "colorbar": {
             "outlinewidth": 0,
             "ticks": ""
            },
            "colorscale": [
             [
              0.0,
              "#0d0887"
             ],
             [
              0.1111111111111111,
              "#46039f"
             ],
             [
              0.2222222222222222,
              "#7201a8"
             ],
             [
              0.3333333333333333,
              "#9c179e"
             ],
             [
              0.4444444444444444,
              "#bd3786"
             ],
             [
              0.5555555555555556,
              "#d8576b"
             ],
             [
              0.6666666666666666,
              "#ed7953"
             ],
             [
              0.7777777777777778,
              "#fb9f3a"
             ],
             [
              0.8888888888888888,
              "#fdca26"
             ],
             [
              1.0,
              "#f0f921"
             ]
            ]
           }
          ],
          "heatmap": [
           {
            "type": "heatmap",
            "colorbar": {
             "outlinewidth": 0,
             "ticks": ""
            },
            "colorscale": [
             [
              0.0,
              "#0d0887"
             ],
             [
              0.1111111111111111,
              "#46039f"
             ],
             [
              0.2222222222222222,
              "#7201a8"
             ],
             [
              0.3333333333333333,
              "#9c179e"
             ],
             [
              0.4444444444444444,
              "#bd3786"
             ],
             [
              0.5555555555555556,
              "#d8576b"
             ],
             [
              0.6666666666666666,
              "#ed7953"
             ],
             [
              0.7777777777777778,
              "#fb9f3a"
             ],
             [
              0.8888888888888888,
              "#fdca26"
             ],
             [
              1.0,
              "#f0f921"
             ]
            ]
           }
          ],
          "heatmapgl": [
           {
            "type": "heatmapgl",
            "colorbar": {
             "outlinewidth": 0,
             "ticks": ""
            },
            "colorscale": [
             [
              0.0,
              "#0d0887"
             ],
             [
              0.1111111111111111,
              "#46039f"
             ],
             [
              0.2222222222222222,
              "#7201a8"
             ],
             [
              0.3333333333333333,
              "#9c179e"
             ],
             [
              0.4444444444444444,
              "#bd3786"
             ],
             [
              0.5555555555555556,
              "#d8576b"
             ],
             [
              0.6666666666666666,
              "#ed7953"
             ],
             [
              0.7777777777777778,
              "#fb9f3a"
             ],
             [
              0.8888888888888888,
              "#fdca26"
             ],
             [
              1.0,
              "#f0f921"
             ]
            ]
           }
          ],
          "contourcarpet": [
           {
            "type": "contourcarpet",
            "colorbar": {
             "outlinewidth": 0,
             "ticks": ""
            }
           }
          ],
          "contour": [
           {
            "type": "contour",
            "colorbar": {
             "outlinewidth": 0,
             "ticks": ""
            },
            "colorscale": [
             [
              0.0,
              "#0d0887"
             ],
             [
              0.1111111111111111,
              "#46039f"
             ],
             [
              0.2222222222222222,
              "#7201a8"
             ],
             [
              0.3333333333333333,
              "#9c179e"
             ],
             [
              0.4444444444444444,
              "#bd3786"
             ],
             [
              0.5555555555555556,
              "#d8576b"
             ],
             [
              0.6666666666666666,
              "#ed7953"
             ],
             [
              0.7777777777777778,
              "#fb9f3a"
             ],
             [
              0.8888888888888888,
              "#fdca26"
             ],
             [
              1.0,
              "#f0f921"
             ]
            ]
           }
          ],
          "surface": [
           {
            "type": "surface",
            "colorbar": {
             "outlinewidth": 0,
             "ticks": ""
            },
            "colorscale": [
             [
              0.0,
              "#0d0887"
             ],
             [
              0.1111111111111111,
              "#46039f"
             ],
             [
              0.2222222222222222,
              "#7201a8"
             ],
             [
              0.3333333333333333,
              "#9c179e"
             ],
             [
              0.4444444444444444,
              "#bd3786"
             ],
             [
              0.5555555555555556,
              "#d8576b"
             ],
             [
              0.6666666666666666,
              "#ed7953"
             ],
             [
              0.7777777777777778,
              "#fb9f3a"
             ],
             [
              0.8888888888888888,
              "#fdca26"
             ],
             [
              1.0,
              "#f0f921"
             ]
            ]
           }
          ],
          "mesh3d": [
           {
            "type": "mesh3d",
            "colorbar": {
             "outlinewidth": 0,
             "ticks": ""
            }
           }
          ],
          "scatter": [
           {
            "fillpattern": {
             "fillmode": "overlay",
             "size": 10,
             "solidity": 0.2
            },
            "type": "scatter"
           }
          ],
          "parcoords": [
           {
            "type": "parcoords",
            "line": {
             "colorbar": {
              "outlinewidth": 0,
              "ticks": ""
             }
            }
           }
          ],
          "scatterpolargl": [
           {
            "type": "scatterpolargl",
            "marker": {
             "colorbar": {
              "outlinewidth": 0,
              "ticks": ""
             }
            }
           }
          ],
          "bar": [
           {
            "error_x": {
             "color": "#2a3f5f"
            },
            "error_y": {
             "color": "#2a3f5f"
            },
            "marker": {
             "line": {
              "color": "#E5ECF6",
              "width": 0.5
             },
             "pattern": {
              "fillmode": "overlay",
              "size": 10,
              "solidity": 0.2
             }
            },
            "type": "bar"
           }
          ],
          "scattergeo": [
           {
            "type": "scattergeo",
            "marker": {
             "colorbar": {
              "outlinewidth": 0,
              "ticks": ""
             }
            }
           }
          ],
          "scatterpolar": [
           {
            "type": "scatterpolar",
            "marker": {
             "colorbar": {
              "outlinewidth": 0,
              "ticks": ""
             }
            }
           }
          ],
          "histogram": [
           {
            "marker": {
             "pattern": {
              "fillmode": "overlay",
              "size": 10,
              "solidity": 0.2
             }
            },
            "type": "histogram"
           }
          ],
          "scattergl": [
           {
            "type": "scattergl",
            "marker": {
             "colorbar": {
              "outlinewidth": 0,
              "ticks": ""
             }
            }
           }
          ],
          "scatter3d": [
           {
            "type": "scatter3d",
            "line": {
             "colorbar": {
              "outlinewidth": 0,
              "ticks": ""
             }
            },
            "marker": {
             "colorbar": {
              "outlinewidth": 0,
              "ticks": ""
             }
            }
           }
          ],
          "scattermapbox": [
           {
            "type": "scattermapbox",
            "marker": {
             "colorbar": {
              "outlinewidth": 0,
              "ticks": ""
             }
            }
           }
          ],
          "scatterternary": [
           {
            "type": "scatterternary",
            "marker": {
             "colorbar": {
              "outlinewidth": 0,
              "ticks": ""
             }
            }
           }
          ],
          "scattercarpet": [
           {
            "type": "scattercarpet",
            "marker": {
             "colorbar": {
              "outlinewidth": 0,
              "ticks": ""
             }
            }
           }
          ],
          "carpet": [
           {
            "aaxis": {
             "endlinecolor": "#2a3f5f",
             "gridcolor": "white",
             "linecolor": "white",
             "minorgridcolor": "white",
             "startlinecolor": "#2a3f5f"
            },
            "baxis": {
             "endlinecolor": "#2a3f5f",
             "gridcolor": "white",
             "linecolor": "white",
             "minorgridcolor": "white",
             "startlinecolor": "#2a3f5f"
            },
            "type": "carpet"
           }
          ],
          "table": [
           {
            "cells": {
             "fill": {
              "color": "#EBF0F8"
             },
             "line": {
              "color": "white"
             }
            },
            "header": {
             "fill": {
              "color": "#C8D4E3"
             },
             "line": {
              "color": "white"
             }
            },
            "type": "table"
           }
          ],
          "barpolar": [
           {
            "marker": {
             "line": {
              "color": "#E5ECF6",
              "width": 0.5
             },
             "pattern": {
              "fillmode": "overlay",
              "size": 10,
              "solidity": 0.2
             }
            },
            "type": "barpolar"
           }
          ],
          "pie": [
           {
            "automargin": true,
            "type": "pie"
           }
          ]
         },
         "layout": {
          "autotypenumbers": "strict",
          "colorway": [
           "#636efa",
           "#EF553B",
           "#00cc96",
           "#ab63fa",
           "#FFA15A",
           "#19d3f3",
           "#FF6692",
           "#B6E880",
           "#FF97FF",
           "#FECB52"
          ],
          "font": {
           "color": "#2a3f5f"
          },
          "hovermode": "closest",
          "hoverlabel": {
           "align": "left"
          },
          "paper_bgcolor": "white",
          "plot_bgcolor": "#E5ECF6",
          "polar": {
           "bgcolor": "#E5ECF6",
           "angularaxis": {
            "gridcolor": "white",
            "linecolor": "white",
            "ticks": ""
           },
           "radialaxis": {
            "gridcolor": "white",
            "linecolor": "white",
            "ticks": ""
           }
          },
          "ternary": {
           "bgcolor": "#E5ECF6",
           "aaxis": {
            "gridcolor": "white",
            "linecolor": "white",
            "ticks": ""
           },
           "baxis": {
            "gridcolor": "white",
            "linecolor": "white",
            "ticks": ""
           },
           "caxis": {
            "gridcolor": "white",
            "linecolor": "white",
            "ticks": ""
           }
          },
          "coloraxis": {
           "colorbar": {
            "outlinewidth": 0,
            "ticks": ""
           }
          },
          "colorscale": {
           "sequential": [
            [
             0.0,
             "#0d0887"
            ],
            [
             0.1111111111111111,
             "#46039f"
            ],
            [
             0.2222222222222222,
             "#7201a8"
            ],
            [
             0.3333333333333333,
             "#9c179e"
            ],
            [
             0.4444444444444444,
             "#bd3786"
            ],
            [
             0.5555555555555556,
             "#d8576b"
            ],
            [
             0.6666666666666666,
             "#ed7953"
            ],
            [
             0.7777777777777778,
             "#fb9f3a"
            ],
            [
             0.8888888888888888,
             "#fdca26"
            ],
            [
             1.0,
             "#f0f921"
            ]
           ],
           "sequentialminus": [
            [
             0.0,
             "#0d0887"
            ],
            [
             0.1111111111111111,
             "#46039f"
            ],
            [
             0.2222222222222222,
             "#7201a8"
            ],
            [
             0.3333333333333333,
             "#9c179e"
            ],
            [
             0.4444444444444444,
             "#bd3786"
            ],
            [
             0.5555555555555556,
             "#d8576b"
            ],
            [
             0.6666666666666666,
             "#ed7953"
            ],
            [
             0.7777777777777778,
             "#fb9f3a"
            ],
            [
             0.8888888888888888,
             "#fdca26"
            ],
            [
             1.0,
             "#f0f921"
            ]
           ],
           "diverging": [
            [
             0,
             "#8e0152"
            ],
            [
             0.1,
             "#c51b7d"
            ],
            [
             0.2,
             "#de77ae"
            ],
            [
             0.3,
             "#f1b6da"
            ],
            [
             0.4,
             "#fde0ef"
            ],
            [
             0.5,
             "#f7f7f7"
            ],
            [
             0.6,
             "#e6f5d0"
            ],
            [
             0.7,
             "#b8e186"
            ],
            [
             0.8,
             "#7fbc41"
            ],
            [
             0.9,
             "#4d9221"
            ],
            [
             1,
             "#276419"
            ]
           ]
          },
          "xaxis": {
           "gridcolor": "white",
           "linecolor": "white",
           "ticks": "",
           "title": {
            "standoff": 15
           },
           "zerolinecolor": "white",
           "automargin": true,
           "zerolinewidth": 2
          },
          "yaxis": {
           "gridcolor": "white",
           "linecolor": "white",
           "ticks": "",
           "title": {
            "standoff": 15
           },
           "zerolinecolor": "white",
           "automargin": true,
           "zerolinewidth": 2
          },
          "scene": {
           "xaxis": {
            "backgroundcolor": "#E5ECF6",
            "gridcolor": "white",
            "linecolor": "white",
            "showbackground": true,
            "ticks": "",
            "zerolinecolor": "white",
            "gridwidth": 2
           },
           "yaxis": {
            "backgroundcolor": "#E5ECF6",
            "gridcolor": "white",
            "linecolor": "white",
            "showbackground": true,
            "ticks": "",
            "zerolinecolor": "white",
            "gridwidth": 2
           },
           "zaxis": {
            "backgroundcolor": "#E5ECF6",
            "gridcolor": "white",
            "linecolor": "white",
            "showbackground": true,
            "ticks": "",
            "zerolinecolor": "white",
            "gridwidth": 2
           }
          },
          "shapedefaults": {
           "line": {
            "color": "#2a3f5f"
           }
          },
          "annotationdefaults": {
           "arrowcolor": "#2a3f5f",
           "arrowhead": 0,
           "arrowwidth": 1
          },
          "geo": {
           "bgcolor": "white",
           "landcolor": "#E5ECF6",
           "subunitcolor": "white",
           "showland": true,
           "showlakes": true,
           "lakecolor": "white"
          },
          "title": {
           "x": 0.05
          },
          "mapbox": {
           "style": "light"
          }
         }
        }
       },
       "config": {
        "plotlyServerURL": "https://plot.ly"
       }
      },
      "text/html": [
       "<div>                            <div id=\"fa0067ff-dac3-459a-8c8b-e23bc55d26d3\" class=\"plotly-graph-div\" style=\"height:800px; width:800px;\"></div>            <script type=\"text/javascript\">                require([\"plotly\"], function(Plotly) {                    window.PLOTLYENV=window.PLOTLYENV || {};                                    if (document.getElementById(\"fa0067ff-dac3-459a-8c8b-e23bc55d26d3\")) {                    Plotly.newPlot(                        \"fa0067ff-dac3-459a-8c8b-e23bc55d26d3\",                        [{\"marker\":{\"color\":[1,1,0,0,0,2,0,1,0,0,1,0,0,3,0,0,0,1,0,2,2,0,0,0,2,0,0,0,0,1,1,3,0,2,0,2,1,0,0,0,2,2],\"colorscale\":[[0.0,\"rgb(150,0,90)\"],[0.125,\"rgb(0,0,200)\"],[0.25,\"rgb(0,25,255)\"],[0.375,\"rgb(0,152,255)\"],[0.5,\"rgb(44,255,150)\"],[0.625,\"rgb(151,255,0)\"],[0.75,\"rgb(255,234,0)\"],[0.875,\"rgb(255,111,0)\"],[1.0,\"rgb(255,0,0)\"]],\"size\":[14.25054515394372,13.809351990362124,12.308368619122605,14.326847114522755,9.728890522903304,13.045256509331496,9.841064888736122,14.066137092121087,8.57837894410528,10.099699458761814,18.424416939334307,11.734304696157945,15.038045593152782,26.611228423353325,13.428030856767117,12.03617411162693,15.30996455498327,13.032049343281361,15.80245550868655,11.168084159689617,13.434208400254036,11.995289935353354,14.38489058507484,13.296333495064253,21.890361619621814,11.196678539709424,10.903622689685351,11.223976781882609,10.687845428271023,13.510725630309762,15.923184850117797,20.574778578931483,11.041542161899512,15.046508988205005,13.076357445558369,13.10721981934764,10.01021694868762,13.082360197340574,16.4522643636337,11.879424990880858,15.544944910420869,13.696802355537503],\"symbol\":\"circle\"},\"mode\":\"markers+text\",\"text\":[\"ARTS\",\"ARTS & CULTURE\",\"BLACK VOICES\",\"BUSINESS\",\"COLLEGE\",\"COMEDY\",\"CRIME\",\"CULTURE & ARTS\",\"DIVORCE\",\"EDUCATION\",\"ENTERTAINMENT\",\"ENVIRONMENT\",\"FIFTY\",\"FOOD & DRINK\",\"GOOD NEWS\",\"GREEN\",\"HEALTHY LIVING\",\"HOME & LIVING\",\"IMPACT\",\"LATINO VOICES\",\"MEDIA\",\"MONEY\",\"PARENTING\",\"PARENTS\",\"POLITICS\",\"QUEER VOICES\",\"RELIGION\",\"SCIENCE\",\"SPORTS\",\"STYLE\",\"STYLE & BEAUTY\",\"TASTE\",\"TECH\",\"THE WORLDPOST\",\"TRAVEL\",\"U.S. NEWS\",\"WEDDINGS\",\"WEIRD NEWS\",\"WELLNESS\",\"WOMEN\",\"WORLD NEWS\",\"WORLDPOST\"],\"textposition\":\"top center\",\"x\":[-282.5011901855469,76.54743194580078,-731.176025390625,-104.31690216064453,-540.6504516601562,520.3028564453125,-855.1564331054688,1025.609619140625,357.2682189941406,-751.0518188476562,451.0274963378906,-449.3022766113281,299.1184997558594,380.5174865722656,-578.6176147460938,-465.8838195800781,-134.5909881591797,195.9637451171875,-161.63815307617188,-1002.5540771484375,-19.444215774536133,-121.27218627929688,803.5051879882812,762.48974609375,861.4954223632812,132.2986297607422,-131.14178466796875,-469.8125,886.160400390625,495.37469482421875,381.8984680175781,711.4613647460938,-76.50164031982422,-153.79507446289062,-221.47857666015625,-531.343505859375,620.4055786132812,-781.5151977539062,-48.834388732910156,331.52911376953125,-106.79670715332031,-1072.9290771484375],\"y\":[-295.9715881347656,-90.02401733398438,698.6534423828125,-507.33935546875,-749.201904296875,-777.760986328125,522.3212890625,-187.7275390625,600.95263671875,-704.568115234375,-301.9698486328125,258.59185791015625,205.5051727294922,-653.6921997070312,-212.8760528564453,-66.7848129272461,372.9823303222656,22.313533782958984,-32.291900634765625,-180.49679565429688,935.4329223632812,-945.2433471679688,401.0030517578125,782.0833740234375,-819.0249633789062,153.9610595703125,945.87841796875,502.6077575683594,160.13783264160156,-349.92974853515625,-316.9859924316406,-660.2620239257812,-537.9735717773438,907.234375,-861.0931396484375,356.4208984375,99.52239227294922,130.35708618164062,64.64086151123047,627.578857421875,559.8345336914062,-47.793251037597656],\"z\":[-768.1174926757812,-857.4813842773438,-148.1861114501953,294.67626953125,740.1505737304688,-8.332140922546387,-706.54052734375,-230.68572998046875,-395.0519104003906,400.36181640625,-21.357160568237305,928.2584228515625,3.556729555130005,-831.437744140625,-93.89064025878906,729.0284423828125,-51.9150276184082,1160.3984375,191.84207153320312,-572.1019897460938,745.632080078125,261.31695556640625,-44.96061706542969,-56.43320083618164,281.923828125,541.4246826171875,-19.62967300415039,417.3563537597656,547.168212890625,537.156982421875,921.0925903320312,-658.2288818359375,-159.66796875,-718.876708984375,-577.430419921875,-558.05859375,-617.173583984375,-6.953217029571533,-279.92364501953125,346.5530700683594,-929.9746704101562,513.3297119140625],\"type\":\"scatter3d\"}],                        {\"height\":800,\"margin\":{\"b\":0,\"l\":0,\"pad\":0,\"r\":0,\"t\":30},\"scene\":{\"xaxis\":{\"gridcolor\":\"#ddd\",\"showbackground\":false,\"showgrid\":true,\"title\":{\"text\":\"t-SNE Dimension 1\"},\"zerolinecolor\":\"black\"},\"yaxis\":{\"gridcolor\":\"#ddd\",\"showbackground\":false,\"showgrid\":true,\"title\":{\"text\":\"t-SNE Dimension 2\"},\"zerolinecolor\":\"black\"},\"zaxis\":{\"gridcolor\":\"#ddd\",\"showbackground\":false,\"showgrid\":true,\"title\":{\"text\":\"t-SNE Dimension 3\"},\"zerolinecolor\":\"black\"}},\"title\":{\"text\":\"Category Cluster Scatterplot\"},\"width\":800,\"template\":{\"data\":{\"histogram2dcontour\":[{\"type\":\"histogram2dcontour\",\"colorbar\":{\"outlinewidth\":0,\"ticks\":\"\"},\"colorscale\":[[0.0,\"#0d0887\"],[0.1111111111111111,\"#46039f\"],[0.2222222222222222,\"#7201a8\"],[0.3333333333333333,\"#9c179e\"],[0.4444444444444444,\"#bd3786\"],[0.5555555555555556,\"#d8576b\"],[0.6666666666666666,\"#ed7953\"],[0.7777777777777778,\"#fb9f3a\"],[0.8888888888888888,\"#fdca26\"],[1.0,\"#f0f921\"]]}],\"choropleth\":[{\"type\":\"choropleth\",\"colorbar\":{\"outlinewidth\":0,\"ticks\":\"\"}}],\"histogram2d\":[{\"type\":\"histogram2d\",\"colorbar\":{\"outlinewidth\":0,\"ticks\":\"\"},\"colorscale\":[[0.0,\"#0d0887\"],[0.1111111111111111,\"#46039f\"],[0.2222222222222222,\"#7201a8\"],[0.3333333333333333,\"#9c179e\"],[0.4444444444444444,\"#bd3786\"],[0.5555555555555556,\"#d8576b\"],[0.6666666666666666,\"#ed7953\"],[0.7777777777777778,\"#fb9f3a\"],[0.8888888888888888,\"#fdca26\"],[1.0,\"#f0f921\"]]}],\"heatmap\":[{\"type\":\"heatmap\",\"colorbar\":{\"outlinewidth\":0,\"ticks\":\"\"},\"colorscale\":[[0.0,\"#0d0887\"],[0.1111111111111111,\"#46039f\"],[0.2222222222222222,\"#7201a8\"],[0.3333333333333333,\"#9c179e\"],[0.4444444444444444,\"#bd3786\"],[0.5555555555555556,\"#d8576b\"],[0.6666666666666666,\"#ed7953\"],[0.7777777777777778,\"#fb9f3a\"],[0.8888888888888888,\"#fdca26\"],[1.0,\"#f0f921\"]]}],\"heatmapgl\":[{\"type\":\"heatmapgl\",\"colorbar\":{\"outlinewidth\":0,\"ticks\":\"\"},\"colorscale\":[[0.0,\"#0d0887\"],[0.1111111111111111,\"#46039f\"],[0.2222222222222222,\"#7201a8\"],[0.3333333333333333,\"#9c179e\"],[0.4444444444444444,\"#bd3786\"],[0.5555555555555556,\"#d8576b\"],[0.6666666666666666,\"#ed7953\"],[0.7777777777777778,\"#fb9f3a\"],[0.8888888888888888,\"#fdca26\"],[1.0,\"#f0f921\"]]}],\"contourcarpet\":[{\"type\":\"contourcarpet\",\"colorbar\":{\"outlinewidth\":0,\"ticks\":\"\"}}],\"contour\":[{\"type\":\"contour\",\"colorbar\":{\"outlinewidth\":0,\"ticks\":\"\"},\"colorscale\":[[0.0,\"#0d0887\"],[0.1111111111111111,\"#46039f\"],[0.2222222222222222,\"#7201a8\"],[0.3333333333333333,\"#9c179e\"],[0.4444444444444444,\"#bd3786\"],[0.5555555555555556,\"#d8576b\"],[0.6666666666666666,\"#ed7953\"],[0.7777777777777778,\"#fb9f3a\"],[0.8888888888888888,\"#fdca26\"],[1.0,\"#f0f921\"]]}],\"surface\":[{\"type\":\"surface\",\"colorbar\":{\"outlinewidth\":0,\"ticks\":\"\"},\"colorscale\":[[0.0,\"#0d0887\"],[0.1111111111111111,\"#46039f\"],[0.2222222222222222,\"#7201a8\"],[0.3333333333333333,\"#9c179e\"],[0.4444444444444444,\"#bd3786\"],[0.5555555555555556,\"#d8576b\"],[0.6666666666666666,\"#ed7953\"],[0.7777777777777778,\"#fb9f3a\"],[0.8888888888888888,\"#fdca26\"],[1.0,\"#f0f921\"]]}],\"mesh3d\":[{\"type\":\"mesh3d\",\"colorbar\":{\"outlinewidth\":0,\"ticks\":\"\"}}],\"scatter\":[{\"fillpattern\":{\"fillmode\":\"overlay\",\"size\":10,\"solidity\":0.2},\"type\":\"scatter\"}],\"parcoords\":[{\"type\":\"parcoords\",\"line\":{\"colorbar\":{\"outlinewidth\":0,\"ticks\":\"\"}}}],\"scatterpolargl\":[{\"type\":\"scatterpolargl\",\"marker\":{\"colorbar\":{\"outlinewidth\":0,\"ticks\":\"\"}}}],\"bar\":[{\"error_x\":{\"color\":\"#2a3f5f\"},\"error_y\":{\"color\":\"#2a3f5f\"},\"marker\":{\"line\":{\"color\":\"#E5ECF6\",\"width\":0.5},\"pattern\":{\"fillmode\":\"overlay\",\"size\":10,\"solidity\":0.2}},\"type\":\"bar\"}],\"scattergeo\":[{\"type\":\"scattergeo\",\"marker\":{\"colorbar\":{\"outlinewidth\":0,\"ticks\":\"\"}}}],\"scatterpolar\":[{\"type\":\"scatterpolar\",\"marker\":{\"colorbar\":{\"outlinewidth\":0,\"ticks\":\"\"}}}],\"histogram\":[{\"marker\":{\"pattern\":{\"fillmode\":\"overlay\",\"size\":10,\"solidity\":0.2}},\"type\":\"histogram\"}],\"scattergl\":[{\"type\":\"scattergl\",\"marker\":{\"colorbar\":{\"outlinewidth\":0,\"ticks\":\"\"}}}],\"scatter3d\":[{\"type\":\"scatter3d\",\"line\":{\"colorbar\":{\"outlinewidth\":0,\"ticks\":\"\"}},\"marker\":{\"colorbar\":{\"outlinewidth\":0,\"ticks\":\"\"}}}],\"scattermapbox\":[{\"type\":\"scattermapbox\",\"marker\":{\"colorbar\":{\"outlinewidth\":0,\"ticks\":\"\"}}}],\"scatterternary\":[{\"type\":\"scatterternary\",\"marker\":{\"colorbar\":{\"outlinewidth\":0,\"ticks\":\"\"}}}],\"scattercarpet\":[{\"type\":\"scattercarpet\",\"marker\":{\"colorbar\":{\"outlinewidth\":0,\"ticks\":\"\"}}}],\"carpet\":[{\"aaxis\":{\"endlinecolor\":\"#2a3f5f\",\"gridcolor\":\"white\",\"linecolor\":\"white\",\"minorgridcolor\":\"white\",\"startlinecolor\":\"#2a3f5f\"},\"baxis\":{\"endlinecolor\":\"#2a3f5f\",\"gridcolor\":\"white\",\"linecolor\":\"white\",\"minorgridcolor\":\"white\",\"startlinecolor\":\"#2a3f5f\"},\"type\":\"carpet\"}],\"table\":[{\"cells\":{\"fill\":{\"color\":\"#EBF0F8\"},\"line\":{\"color\":\"white\"}},\"header\":{\"fill\":{\"color\":\"#C8D4E3\"},\"line\":{\"color\":\"white\"}},\"type\":\"table\"}],\"barpolar\":[{\"marker\":{\"line\":{\"color\":\"#E5ECF6\",\"width\":0.5},\"pattern\":{\"fillmode\":\"overlay\",\"size\":10,\"solidity\":0.2}},\"type\":\"barpolar\"}],\"pie\":[{\"automargin\":true,\"type\":\"pie\"}]},\"layout\":{\"autotypenumbers\":\"strict\",\"colorway\":[\"#636efa\",\"#EF553B\",\"#00cc96\",\"#ab63fa\",\"#FFA15A\",\"#19d3f3\",\"#FF6692\",\"#B6E880\",\"#FF97FF\",\"#FECB52\"],\"font\":{\"color\":\"#2a3f5f\"},\"hovermode\":\"closest\",\"hoverlabel\":{\"align\":\"left\"},\"paper_bgcolor\":\"white\",\"plot_bgcolor\":\"#E5ECF6\",\"polar\":{\"bgcolor\":\"#E5ECF6\",\"angularaxis\":{\"gridcolor\":\"white\",\"linecolor\":\"white\",\"ticks\":\"\"},\"radialaxis\":{\"gridcolor\":\"white\",\"linecolor\":\"white\",\"ticks\":\"\"}},\"ternary\":{\"bgcolor\":\"#E5ECF6\",\"aaxis\":{\"gridcolor\":\"white\",\"linecolor\":\"white\",\"ticks\":\"\"},\"baxis\":{\"gridcolor\":\"white\",\"linecolor\":\"white\",\"ticks\":\"\"},\"caxis\":{\"gridcolor\":\"white\",\"linecolor\":\"white\",\"ticks\":\"\"}},\"coloraxis\":{\"colorbar\":{\"outlinewidth\":0,\"ticks\":\"\"}},\"colorscale\":{\"sequential\":[[0.0,\"#0d0887\"],[0.1111111111111111,\"#46039f\"],[0.2222222222222222,\"#7201a8\"],[0.3333333333333333,\"#9c179e\"],[0.4444444444444444,\"#bd3786\"],[0.5555555555555556,\"#d8576b\"],[0.6666666666666666,\"#ed7953\"],[0.7777777777777778,\"#fb9f3a\"],[0.8888888888888888,\"#fdca26\"],[1.0,\"#f0f921\"]],\"sequentialminus\":[[0.0,\"#0d0887\"],[0.1111111111111111,\"#46039f\"],[0.2222222222222222,\"#7201a8\"],[0.3333333333333333,\"#9c179e\"],[0.4444444444444444,\"#bd3786\"],[0.5555555555555556,\"#d8576b\"],[0.6666666666666666,\"#ed7953\"],[0.7777777777777778,\"#fb9f3a\"],[0.8888888888888888,\"#fdca26\"],[1.0,\"#f0f921\"]],\"diverging\":[[0,\"#8e0152\"],[0.1,\"#c51b7d\"],[0.2,\"#de77ae\"],[0.3,\"#f1b6da\"],[0.4,\"#fde0ef\"],[0.5,\"#f7f7f7\"],[0.6,\"#e6f5d0\"],[0.7,\"#b8e186\"],[0.8,\"#7fbc41\"],[0.9,\"#4d9221\"],[1,\"#276419\"]]},\"xaxis\":{\"gridcolor\":\"white\",\"linecolor\":\"white\",\"ticks\":\"\",\"title\":{\"standoff\":15},\"zerolinecolor\":\"white\",\"automargin\":true,\"zerolinewidth\":2},\"yaxis\":{\"gridcolor\":\"white\",\"linecolor\":\"white\",\"ticks\":\"\",\"title\":{\"standoff\":15},\"zerolinecolor\":\"white\",\"automargin\":true,\"zerolinewidth\":2},\"scene\":{\"xaxis\":{\"backgroundcolor\":\"#E5ECF6\",\"gridcolor\":\"white\",\"linecolor\":\"white\",\"showbackground\":true,\"ticks\":\"\",\"zerolinecolor\":\"white\",\"gridwidth\":2},\"yaxis\":{\"backgroundcolor\":\"#E5ECF6\",\"gridcolor\":\"white\",\"linecolor\":\"white\",\"showbackground\":true,\"ticks\":\"\",\"zerolinecolor\":\"white\",\"gridwidth\":2},\"zaxis\":{\"backgroundcolor\":\"#E5ECF6\",\"gridcolor\":\"white\",\"linecolor\":\"white\",\"showbackground\":true,\"ticks\":\"\",\"zerolinecolor\":\"white\",\"gridwidth\":2}},\"shapedefaults\":{\"line\":{\"color\":\"#2a3f5f\"}},\"annotationdefaults\":{\"arrowcolor\":\"#2a3f5f\",\"arrowhead\":0,\"arrowwidth\":1},\"geo\":{\"bgcolor\":\"white\",\"landcolor\":\"#E5ECF6\",\"subunitcolor\":\"white\",\"showland\":true,\"showlakes\":true,\"lakecolor\":\"white\"},\"title\":{\"x\":0.05},\"mapbox\":{\"style\":\"light\"}}}},                        {\"responsive\": true}                    ).then(function(){\n",
       "                            \n",
       "var gd = document.getElementById('fa0067ff-dac3-459a-8c8b-e23bc55d26d3');\n",
       "var x = new MutationObserver(function (mutations, observer) {{\n",
       "        var display = window.getComputedStyle(gd).display;\n",
       "        if (!display || display === 'none') {{\n",
       "            console.log([gd, 'removed!']);\n",
       "            Plotly.purge(gd);\n",
       "            observer.disconnect();\n",
       "        }}\n",
       "}});\n",
       "\n",
       "// Listen for the removal of the full notebook cells\n",
       "var notebookContainer = gd.closest('#notebook-container');\n",
       "if (notebookContainer) {{\n",
       "    x.observe(notebookContainer, {childList: true});\n",
       "}}\n",
       "\n",
       "// Listen for the clearing of the current output cell\n",
       "var outputEl = gd.closest('.output');\n",
       "if (outputEl) {{\n",
       "    x.observe(outputEl, {childList: true});\n",
       "}}\n",
       "\n",
       "                        })                };                });            </script>        </div>"
      ]
     },
     "metadata": {},
     "output_type": "display_data"
    }
   ],
   "execution_count": 1640
  },
  {
   "metadata": {},
   "cell_type": "markdown",
   "source": [
    "## **5** - Visualize Cluster Features\n",
    "\n",
    "1. Create list of top 50 keywords based on the TF-IDF scores\n",
    "2. Save cluster association and the associated TF-IDF score for each word\n",
    "3. Build graph with clusters in green and words in blue, edges to connect words to clusters weighted based on TF-IDF score for that cluster"
   ],
   "id": "8d59d0a5f1976645"
  },
  {
   "metadata": {
    "scrolled": true,
    "ExecuteTime": {
     "end_time": "2025-01-26T18:50:27.047283Z",
     "start_time": "2025-01-26T18:50:26.547072Z"
    }
   },
   "cell_type": "code",
   "source": [
    "from collections import defaultdict\n",
    "import networkx as nx\n",
    "import plotly.graph_objects as go\n",
    "\n",
    "feature_names = vectorizer.get_feature_names_out() # keywords found by vectorizer\n",
    "keyword_cluster_association = defaultdict(lambda: defaultdict(float)) # dictionary of {keyword: { cluster_name: tfidf_score } }\n",
    "for cluster_id, cluster_tfidf in cluster_tfidf_matrices.items():\n",
    "    top_word_indices = np.argsort(cluster_tfidf.flatten())[::-1][:50] # keep top 50\n",
    "    for word_index in top_word_indices:\n",
    "        tfidf_score = cluster_tfidf.flatten()[word_index]\n",
    "        word = feature_names[word_index]\n",
    "        keyword_cluster_association[word][dominant_categories[cluster_id]] = tfidf_score\n",
    "\n",
    "# Initialize network graph\n",
    "G = nx.Graph()\n",
    "\n",
    "# Add node for each keyword\n",
    "for keyword, associations in keyword_cluster_association.items():\n",
    "    G.add_node(keyword, type='keyword')\n",
    "    for cluster_name in set(dominant_categories):\n",
    "        score = associations.get(cluster_name)\n",
    "        if score is not None: # add edge to match keyword to associated clusters\n",
    "            G.add_edge(keyword, cluster_name, weight=score)\n",
    "\n",
    "# Add node for each cluster\n",
    "for cluster_name in set(dominant_categories):\n",
    "    G.add_node(cluster_name, type='cluster')\n",
    "\n",
    "# Set fixed positions for clusters to ensure graph is spaced out\n",
    "num_clusters = len(set(dominant_categories))\n",
    "x_positions = np.linspace(-10, 100, num_clusters)\n",
    "y_positions = [20 + 2*i if i%2 == 0 else 2*i for i in range(num_clusters)]\n",
    "cluster_positions = { cluster_name: (x, y) for cluster_name, x, y in zip(set(dominant_categories), x_positions, y_positions) }\n",
    "\n",
    "# Calculate positions - used for positioning in Plotly figure\n",
    "pos = nx.spring_layout(G, k=3, iterations=500, scale=2, pos=cluster_positions, fixed=list(cluster_positions.keys()))\n",
    "\n",
    "# Add edges to figure\n",
    "edge_x = []\n",
    "edge_y = []\n",
    "edge_weights = []\n",
    "for edge in G.edges():\n",
    "    x0, y0 = pos[edge[0]]\n",
    "    x1, y1 = pos[edge[1]]\n",
    "    edge_x.extend([x0, x1, None])\n",
    "    edge_y.extend([y0, y1, None])\n",
    "    edge_weights.append(G.edges[edge]['weight'])\n",
    "edge_trace = go.Scatter(x=edge_x, y=edge_y, line=dict(width=0.5, color=\"#888\"), hoverinfo=\"none\", mode=\"lines\")\n",
    "\n",
    "# Add nodes to figure\n",
    "node_x = []\n",
    "node_y = []\n",
    "node_colors = []\n",
    "node_sizes = []\n",
    "all_nodes = []\n",
    "for node, data in G.nodes(data=True):\n",
    "    all_nodes.append(node)\n",
    "    x, y = pos[node]\n",
    "    node_x.append(x)\n",
    "    node_y.append(y)\n",
    "    if data[\"type\"] == \"keyword\":\n",
    "        node_colors.append(\"lightblue\")\n",
    "        node_sizes.append(10)\n",
    "    else: # Cluster properties\n",
    "        node_colors.append(\"lightgreen\")\n",
    "        node_sizes.append(25)\n",
    "node_trace = go.Scatter(\n",
    "    x=node_x, y=node_y, mode=\"markers+text\", hoverinfo=\"text\", textposition=\"bottom center\",\n",
    "    text=[t if t not in dominant_categories else '' for t in all_nodes], # Hide default label for cluster nodes\n",
    "    marker=dict(showscale=False, colorscale=\"YlGnBu\", size=node_sizes, color=node_colors, line_width=2),\n",
    ")\n",
    "\n",
    "# Create figure\n",
    "fig = go.Figure(\n",
    "    data=[edge_trace, node_trace],\n",
    "    layout=go.Layout(\n",
    "        title=\"Keyword-Cluster Network Graph\",\n",
    "        width=1000, height=600, showlegend=False, hovermode=\"closest\", margin=dict(b=20, l=5, r=5, t=40),\n",
    "        xaxis=dict(showgrid=False, zeroline=False, showticklabels=False),\n",
    "        yaxis=dict(showgrid=False, zeroline=False, showticklabels=False),\n",
    "    ),\n",
    ")\n",
    "fig.update_layout(plot_bgcolor='rgba(0,0,0,0)')\n",
    "\n",
    "# Make cluster node labels more prominent\n",
    "for i, cluster_name in enumerate(dominant_categories):\n",
    "    fig.add_annotation(\n",
    "        text=cluster_name, x=node_x[all_nodes.index(cluster_name)], y=node_y[all_nodes.index(cluster_name)],\n",
    "        font=dict(size=10, color=\"black\"), showarrow=False, bgcolor=\"lightgreen\", borderpad=4, yanchor=\"bottom\", textangle=360\n",
    "    )\n",
    "\n",
    "fig.show()"
   ],
   "id": "607d5c3a7e753221",
   "outputs": [
    {
     "data": {
      "application/vnd.plotly.v1+json": {
       "data": [
        {
         "hoverinfo": "none",
         "line": {
          "color": "#888",
          "width": 0.5
         },
         "mode": "lines",
         "x": [
          25.254958947711607,
          -10.0,
          null,
          25.254958947711607,
          26.666666666666664,
          null,
          25.254958947711607,
          100.0,
          null,
          -10.0,
          42.14745774569043,
          null,
          -10.0,
          -19.27062584422434,
          null,
          -10.0,
          45.61168227141397,
          null,
          -10.0,
          -25.6485894259776,
          null,
          -10.0,
          -25.260855548853524,
          null,
          -10.0,
          47.92316425809299,
          null,
          -10.0,
          31.05521683858436,
          null,
          -10.0,
          40.726107956791815,
          null,
          -10.0,
          48.72168531595723,
          null,
          -10.0,
          46.1758009878158,
          null,
          -10.0,
          36.474776434641036,
          null,
          -10.0,
          -30.59417560021715,
          null,
          -10.0,
          44.06527343520321,
          null,
          -10.0,
          53.3408522126142,
          null,
          -10.0,
          43.27776647198112,
          null,
          -10.0,
          -31.381839420410525,
          null,
          -10.0,
          -24.197594997533233,
          null,
          -10.0,
          45.9920958011883,
          null,
          -10.0,
          51.60338989414468,
          null,
          -10.0,
          39.79947240698901,
          null,
          -10.0,
          36.684255865885895,
          null,
          -10.0,
          55.188246104810084,
          null,
          -10.0,
          39.02564671783689,
          null,
          -10.0,
          -20.698379896457944,
          null,
          -10.0,
          58.2548934948732,
          null,
          -10.0,
          -31.342886483832263,
          null,
          -10.0,
          49.575571090153844,
          null,
          -10.0,
          -35.704952679403824,
          null,
          -10.0,
          -38.66600077934747,
          null,
          -10.0,
          47.86075390286475,
          null,
          -10.0,
          39.458338026204366,
          null,
          -10.0,
          -36.559528772026425,
          null,
          -10.0,
          40.63400010875109,
          null,
          -10.0,
          -27.57062911198455,
          null,
          -10.0,
          -42.049388430746355,
          null,
          -10.0,
          54.064344164139214,
          null,
          -10.0,
          -39.129077981486084,
          null,
          -10.0,
          -43.003703786291766,
          null,
          -10.0,
          -44.99603735727762,
          null,
          -10.0,
          -46.767624658042074,
          null,
          -10.0,
          49.77050124223911,
          null,
          -10.0,
          44.718202547019324,
          null,
          -10.0,
          -36.21531525835808,
          null,
          -10.0,
          47.42322258448721,
          null,
          -10.0,
          57.99573333975352,
          null,
          -10.0,
          48.40429167779526,
          null,
          -10.0,
          -45.84626526719637,
          null,
          -10.0,
          50.7230646888148,
          null,
          -10.0,
          52.46659861408404,
          null,
          26.666666666666664,
          42.14745774569043,
          null,
          26.666666666666664,
          45.61168227141397,
          null,
          26.666666666666664,
          47.92316425809299,
          null,
          26.666666666666664,
          40.726107956791815,
          null,
          26.666666666666664,
          48.72168531595723,
          null,
          26.666666666666664,
          46.1758009878158,
          null,
          26.666666666666664,
          39.79947240698901,
          null,
          26.666666666666664,
          36.684255865885895,
          null,
          26.666666666666664,
          47.86075390286475,
          null,
          26.666666666666664,
          44.718202547019324,
          null,
          26.666666666666664,
          64.65495401010946,
          null,
          26.666666666666664,
          23.796946689336767,
          null,
          26.666666666666664,
          18.743462328158717,
          null,
          26.666666666666664,
          14.347560786781449,
          null,
          26.666666666666664,
          26.01349108792036,
          null,
          26.666666666666664,
          10.759274285313559,
          null,
          26.666666666666664,
          11.496246546455986,
          null,
          26.666666666666664,
          6.07907682504004,
          null,
          26.666666666666664,
          8.099334104009255,
          null,
          26.666666666666664,
          14.151518106859177,
          null,
          26.666666666666664,
          18.756017624034897,
          null,
          26.666666666666664,
          13.43708082323046,
          null,
          26.666666666666664,
          7.774487811734325,
          null,
          26.666666666666664,
          30.47254462389085,
          null,
          26.666666666666664,
          23.408751582754572,
          null,
          26.666666666666664,
          36.66551850125819,
          null,
          26.666666666666664,
          4.1845829034941024,
          null,
          26.666666666666664,
          11.33043767098293,
          null,
          26.666666666666664,
          16.62186410233238,
          null,
          26.666666666666664,
          33.374964055923996,
          null,
          26.666666666666664,
          27.70783794460683,
          null,
          26.666666666666664,
          2.1020529781257893,
          null,
          26.666666666666664,
          41.072778231534706,
          null,
          26.666666666666664,
          6.022197220809828,
          null,
          26.666666666666664,
          21.59131606947423,
          null,
          26.666666666666664,
          38.17462856138271,
          null,
          26.666666666666664,
          -1.257579217979058,
          null,
          26.666666666666664,
          4.329407594623364,
          null,
          26.666666666666664,
          9.736347299272769,
          null,
          26.666666666666664,
          -0.6987884786985117,
          null,
          26.666666666666664,
          3.6579245099073154,
          null,
          26.666666666666664,
          -0.7890907010243263,
          null,
          26.666666666666664,
          14.14894398624509,
          null,
          26.666666666666664,
          18.972335601751258,
          null,
          26.666666666666664,
          10.053676177863405,
          null,
          26.666666666666664,
          25.998504542777866,
          null,
          26.666666666666664,
          8.174556348726782,
          null,
          26.666666666666664,
          -3.878118911584258,
          null,
          26.666666666666664,
          32.67170005981828,
          null,
          100.0,
          42.14745774569043,
          null,
          100.0,
          45.61168227141397,
          null,
          100.0,
          47.92316425809299,
          null,
          100.0,
          31.05521683858436,
          null,
          100.0,
          40.726107956791815,
          null,
          100.0,
          48.72168531595723,
          null,
          100.0,
          46.1758009878158,
          null,
          100.0,
          36.474776434641036,
          null,
          100.0,
          44.06527343520321,
          null,
          100.0,
          53.3408522126142,
          null,
          100.0,
          43.27776647198112,
          null,
          100.0,
          45.9920958011883,
          null,
          100.0,
          51.60338989414468,
          null,
          100.0,
          39.79947240698901,
          null,
          100.0,
          36.684255865885895,
          null,
          100.0,
          55.188246104810084,
          null,
          100.0,
          39.02564671783689,
          null,
          100.0,
          58.2548934948732,
          null,
          100.0,
          49.575571090153844,
          null,
          100.0,
          47.86075390286475,
          null,
          100.0,
          39.458338026204366,
          null,
          100.0,
          54.064344164139214,
          null,
          100.0,
          49.77050124223911,
          null,
          100.0,
          44.718202547019324,
          null,
          100.0,
          47.42322258448721,
          null,
          100.0,
          57.99573333975352,
          null,
          100.0,
          48.40429167779526,
          null,
          100.0,
          50.7230646888148,
          null,
          100.0,
          52.46659861408404,
          null,
          100.0,
          97.91293502559823,
          null,
          100.0,
          121.27574147264966,
          null,
          100.0,
          123.45079123498681,
          null,
          100.0,
          120.3088942244024,
          null,
          100.0,
          121.20421880771583,
          null,
          100.0,
          115.67608788745709,
          null,
          100.0,
          125.77224442626269,
          null,
          100.0,
          114.89506378050169,
          null,
          100.0,
          128.26859470804064,
          null,
          100.0,
          128.54348297583743,
          null,
          100.0,
          90.9692623370949,
          null,
          100.0,
          64.65495401010946,
          null,
          100.0,
          132.93084129054517,
          null,
          100.0,
          123.73302982485123,
          null,
          100.0,
          92.38826973789097,
          null,
          100.0,
          88.21369899644658,
          null,
          100.0,
          130.25283695939243,
          null,
          100.0,
          83.21269523605513,
          null,
          100.0,
          133.7537464056094,
          null,
          100.0,
          135.46011871445097,
          null,
          42.14745774569043,
          63.33333333333333,
          null,
          63.33333333333333,
          45.61168227141397,
          null,
          63.33333333333333,
          47.92316425809299,
          null,
          63.33333333333333,
          40.726107956791815,
          null,
          63.33333333333333,
          48.72168531595723,
          null,
          63.33333333333333,
          46.1758009878158,
          null,
          63.33333333333333,
          36.474776434641036,
          null,
          63.33333333333333,
          44.06527343520321,
          null,
          63.33333333333333,
          53.3408522126142,
          null,
          63.33333333333333,
          43.27776647198112,
          null,
          63.33333333333333,
          45.9920958011883,
          null,
          63.33333333333333,
          51.60338989414468,
          null,
          63.33333333333333,
          58.2548934948732,
          null,
          63.33333333333333,
          49.575571090153844,
          null,
          63.33333333333333,
          40.63400010875109,
          null,
          63.33333333333333,
          54.064344164139214,
          null,
          63.33333333333333,
          49.77050124223911,
          null,
          63.33333333333333,
          57.99573333975352,
          null,
          63.33333333333333,
          97.91293502559823,
          null,
          63.33333333333333,
          90.9692623370949,
          null,
          63.33333333333333,
          92.38826973789097,
          null,
          63.33333333333333,
          88.21369899644658,
          null,
          63.33333333333333,
          83.21269523605513,
          null,
          63.33333333333333,
          76.04302579441314,
          null,
          63.33333333333333,
          79.3705216153493,
          null,
          63.33333333333333,
          71.16648376290428,
          null,
          63.33333333333333,
          66.25441609377292,
          null,
          63.33333333333333,
          74.67255037631035,
          null,
          63.33333333333333,
          58.731289655042644,
          null,
          63.33333333333333,
          81.14387868510728,
          null,
          63.33333333333333,
          81.88970659643768,
          null,
          63.33333333333333,
          62.17669426333009,
          null,
          63.33333333333333,
          87.0586707043537,
          null,
          63.33333333333333,
          90.5796428129973,
          null,
          63.33333333333333,
          72.51954113297897,
          null,
          63.33333333333333,
          84.2609535136831,
          null,
          63.33333333333333,
          89.03512794610567,
          null,
          63.33333333333333,
          67.00538818819335,
          null,
          63.33333333333333,
          94.38942922455125,
          null,
          63.33333333333333,
          79.74915951268997,
          null,
          63.33333333333333,
          53.841455767368814,
          null,
          63.33333333333333,
          96.80994874321148,
          null,
          63.33333333333333,
          79.61467424484329,
          null,
          63.33333333333333,
          92.89391248117559,
          null,
          63.33333333333333,
          89.08170608743526,
          null,
          63.33333333333333,
          84.57735504616166,
          null,
          63.33333333333333,
          87.65262188230092,
          null,
          63.33333333333333,
          74.14235567781978,
          null,
          63.33333333333333,
          66.34438820400148,
          null,
          63.33333333333333,
          58.573177976737355,
          null
         ],
         "y": [
          15.189330516654335,
          20.0,
          null,
          15.189330516654335,
          2.0,
          null,
          15.189330516654335,
          6.0,
          null,
          20.0,
          13.921210129572257,
          null,
          20.0,
          29.109273542113435,
          null,
          20.0,
          12.230016978634128,
          null,
          20.0,
          18.916328375066207,
          null,
          20.0,
          28.074860126054595,
          null,
          20.0,
          13.192185267638534,
          null,
          20.0,
          17.509944421557407,
          null,
          20.0,
          10.00153904078774,
          null,
          20.0,
          10.26233474802815,
          null,
          20.0,
          9.636437392229357,
          null,
          20.0,
          20.385590543039463,
          null,
          20.0,
          23.458886192673848,
          null,
          20.0,
          16.939759992563577,
          null,
          20.0,
          12.58355092692869,
          null,
          20.0,
          20.300625137404836,
          null,
          20.0,
          13.674341293353217,
          null,
          20.0,
          37.0774648361661,
          null,
          20.0,
          19.280094267360933,
          null,
          20.0,
          15.076735117540641,
          null,
          20.0,
          7.016440763459264,
          null,
          20.0,
          8.879400252374701,
          null,
          20.0,
          8.439556645091242,
          null,
          20.0,
          22.088902330555136,
          null,
          20.0,
          43.61323710584126,
          null,
          20.0,
          14.125776149942897,
          null,
          20.0,
          37.831483857858224,
          null,
          20.0,
          18.200739343932923,
          null,
          20.0,
          30.832013355959695,
          null,
          20.0,
          19.00836015274945,
          null,
          20.0,
          5.58974158740237,
          null,
          20.0,
          16.332933398427844,
          null,
          20.0,
          6.76462316056993,
          null,
          20.0,
          29.42961073411837,
          null,
          20.0,
          46.27340028556769,
          null,
          20.0,
          27.394781967541864,
          null,
          20.0,
          18.0288724609952,
          null,
          20.0,
          38.51855282670656,
          null,
          20.0,
          8.500247673209397,
          null,
          20.0,
          15.188764683371692,
          null,
          20.0,
          22.534981754665026,
          null,
          20.0,
          23.7217310339398,
          null,
          20.0,
          2.4270799357525643,
          null,
          20.0,
          46.05398054478631,
          null,
          20.0,
          26.120512920876365,
          null,
          20.0,
          10.380338083387919,
          null,
          20.0,
          0.1847873395790875,
          null,
          20.0,
          34.01152423514579,
          null,
          20.0,
          2.8718743652138605,
          null,
          20.0,
          22.491654365383578,
          null,
          2.0,
          13.921210129572257,
          null,
          2.0,
          12.230016978634128,
          null,
          2.0,
          13.192185267638534,
          null,
          2.0,
          10.00153904078774,
          null,
          2.0,
          10.26233474802815,
          null,
          2.0,
          9.636437392229357,
          null,
          2.0,
          7.016440763459264,
          null,
          2.0,
          8.879400252374701,
          null,
          2.0,
          5.58974158740237,
          null,
          2.0,
          2.4270799357525643,
          null,
          2.0,
          -5.247159156553485,
          null,
          2.0,
          -3.74180605012209,
          null,
          2.0,
          0.3220569927399594,
          null,
          2.0,
          10.702881787380448,
          null,
          2.0,
          -12.719990137423007,
          null,
          2.0,
          4.549239763750997,
          null,
          2.0,
          -3.7465346906383625,
          null,
          2.0,
          1.999866350385831,
          null,
          2.0,
          10.999112531173859,
          null,
          2.0,
          -10.46148031470277,
          null,
          2.0,
          -14.816506789731173,
          null,
          2.0,
          18.291603111019064,
          null,
          2.0,
          -8.967740747641132,
          null,
          2.0,
          -17.592326498072694,
          null,
          2.0,
          -19.24909653154192,
          null,
          2.0,
          -16.367962629120978,
          null,
          2.0,
          -3.7678682694600876,
          null,
          2.0,
          -15.547875163991451,
          null,
          2.0,
          -20.71714203417102,
          null,
          2.0,
          -22.739395283390106,
          null,
          2.0,
          -24.12497114126106,
          null,
          2.0,
          8.381308002336922,
          null,
          2.0,
          -20.106529122538713,
          null,
          2.0,
          16.85648853324935,
          null,
          2.0,
          -25.90384060562499,
          null,
          2.0,
          -25.631428019884044,
          null,
          2.0,
          1.8864556582952043,
          null,
          2.0,
          -15.617057183096625,
          null,
          2.0,
          -21.9579629544499,
          null,
          2.0,
          -9.66207414680521,
          null,
          2.0,
          -21.11697834923248,
          null,
          2.0,
          -15.254337024856266,
          null,
          2.0,
          -27.664697711393494,
          null,
          2.0,
          -30.59504284704476,
          null,
          2.0,
          24.440271653065864,
          null,
          2.0,
          -31.25513360970251,
          null,
          2.0,
          -26.901362855609413,
          null,
          2.0,
          -4.968024968999211,
          null,
          2.0,
          -30.7210309953524,
          null,
          6.0,
          13.921210129572257,
          null,
          6.0,
          12.230016978634128,
          null,
          6.0,
          13.192185267638534,
          null,
          6.0,
          17.509944421557407,
          null,
          6.0,
          10.00153904078774,
          null,
          6.0,
          10.26233474802815,
          null,
          6.0,
          9.636437392229357,
          null,
          6.0,
          20.385590543039463,
          null,
          6.0,
          16.939759992563577,
          null,
          6.0,
          12.58355092692869,
          null,
          6.0,
          20.300625137404836,
          null,
          6.0,
          19.280094267360933,
          null,
          6.0,
          15.076735117540641,
          null,
          6.0,
          7.016440763459264,
          null,
          6.0,
          8.879400252374701,
          null,
          6.0,
          8.439556645091242,
          null,
          6.0,
          22.088902330555136,
          null,
          6.0,
          14.125776149942897,
          null,
          6.0,
          18.200739343932923,
          null,
          6.0,
          5.58974158740237,
          null,
          6.0,
          16.332933398427844,
          null,
          6.0,
          18.0288724609952,
          null,
          6.0,
          23.7217310339398,
          null,
          6.0,
          2.4270799357525643,
          null,
          6.0,
          26.120512920876365,
          null,
          6.0,
          10.380338083387919,
          null,
          6.0,
          0.1847873395790875,
          null,
          6.0,
          2.8718743652138605,
          null,
          6.0,
          22.491654365383578,
          null,
          6.0,
          16.576889105262765,
          null,
          6.0,
          3.6938725334134737,
          null,
          6.0,
          10.316440410629715,
          null,
          6.0,
          -3.03632802659383,
          null,
          6.0,
          -9.088073908148118,
          null,
          6.0,
          -11.680105372363201,
          null,
          6.0,
          16.58685586573397,
          null,
          6.0,
          -17.646791048773313,
          null,
          6.0,
          2.600786601164278,
          null,
          6.0,
          -5.057504889776965,
          null,
          6.0,
          12.740717488108604,
          null,
          6.0,
          -5.247159156553485,
          null,
          6.0,
          7.445424577152688,
          null,
          6.0,
          -17.256800925248932,
          null,
          6.0,
          21.153026069261163,
          null,
          6.0,
          18.13147427481854,
          null,
          6.0,
          -11.819918466766223,
          null,
          6.0,
          16.79937026373227,
          null,
          6.0,
          14.531243053352073,
          null,
          6.0,
          -1.2910369658644123,
          null,
          13.921210129572257,
          24.0,
          null,
          24.0,
          12.230016978634128,
          null,
          24.0,
          13.192185267638534,
          null,
          24.0,
          10.00153904078774,
          null,
          24.0,
          10.26233474802815,
          null,
          24.0,
          9.636437392229357,
          null,
          24.0,
          20.385590543039463,
          null,
          24.0,
          16.939759992563577,
          null,
          24.0,
          12.58355092692869,
          null,
          24.0,
          20.300625137404836,
          null,
          24.0,
          19.280094267360933,
          null,
          24.0,
          15.076735117540641,
          null,
          24.0,
          14.125776149942897,
          null,
          24.0,
          18.200739343932923,
          null,
          24.0,
          29.42961073411837,
          null,
          24.0,
          18.0288724609952,
          null,
          24.0,
          23.7217310339398,
          null,
          24.0,
          10.380338083387919,
          null,
          24.0,
          16.576889105262765,
          null,
          24.0,
          12.740717488108604,
          null,
          24.0,
          21.153026069261163,
          null,
          24.0,
          18.13147427481854,
          null,
          24.0,
          16.79937026373227,
          null,
          24.0,
          32.42314290685978,
          null,
          24.0,
          26.943458656413203,
          null,
          24.0,
          38.44025289893991,
          null,
          24.0,
          43.42417446762617,
          null,
          24.0,
          42.74850786592219,
          null,
          24.0,
          46.23382659350388,
          null,
          24.0,
          39.03404923420871,
          null,
          24.0,
          10.009287225076688,
          null,
          24.0,
          51.24485437832664,
          null,
          24.0,
          35.34695758077839,
          null,
          24.0,
          30.04150451435741,
          null,
          24.0,
          51.79763407040236,
          null,
          24.0,
          47.725978336037606,
          null,
          24.0,
          43.18846678987923,
          null,
          24.0,
          55.9629213891327,
          null,
          24.0,
          39.664240909564235,
          null,
          24.0,
          51.890094225554634,
          null,
          24.0,
          55.23384538637556,
          null,
          24.0,
          33.62316460943798,
          null,
          24.0,
          57.48443236840528,
          null,
          24.0,
          47.98749543454215,
          null,
          24.0,
          5.378356806165007,
          null,
          24.0,
          -0.5934221816784052,
          null,
          24.0,
          54.6973999311263,
          null,
          24.0,
          61.20258570508622,
          null,
          24.0,
          62.45309077168393,
          null,
          24.0,
          61.06020682763967,
          null
         ],
         "type": "scatter"
        },
        {
         "hoverinfo": "text",
         "marker": {
          "color": [
           "lightblue",
           "lightgreen",
           "lightgreen",
           "lightgreen",
           "lightblue",
           "lightgreen",
           "lightblue",
           "lightblue",
           "lightblue",
           "lightblue",
           "lightblue",
           "lightblue",
           "lightblue",
           "lightblue",
           "lightblue",
           "lightblue",
           "lightblue",
           "lightblue",
           "lightblue",
           "lightblue",
           "lightblue",
           "lightblue",
           "lightblue",
           "lightblue",
           "lightblue",
           "lightblue",
           "lightblue",
           "lightblue",
           "lightblue",
           "lightblue",
           "lightblue",
           "lightblue",
           "lightblue",
           "lightblue",
           "lightblue",
           "lightblue",
           "lightblue",
           "lightblue",
           "lightblue",
           "lightblue",
           "lightblue",
           "lightblue",
           "lightblue",
           "lightblue",
           "lightblue",
           "lightblue",
           "lightblue",
           "lightblue",
           "lightblue",
           "lightblue",
           "lightblue",
           "lightblue",
           "lightblue",
           "lightblue",
           "lightblue",
           "lightblue",
           "lightblue",
           "lightblue",
           "lightblue",
           "lightblue",
           "lightblue",
           "lightblue",
           "lightblue",
           "lightblue",
           "lightblue",
           "lightblue",
           "lightblue",
           "lightblue",
           "lightblue",
           "lightblue",
           "lightblue",
           "lightblue",
           "lightblue",
           "lightblue",
           "lightblue",
           "lightblue",
           "lightblue",
           "lightblue",
           "lightblue",
           "lightblue",
           "lightblue",
           "lightblue",
           "lightblue",
           "lightblue",
           "lightblue",
           "lightblue",
           "lightblue",
           "lightblue",
           "lightblue",
           "lightblue",
           "lightblue",
           "lightblue",
           "lightblue",
           "lightblue",
           "lightblue",
           "lightblue",
           "lightblue",
           "lightblue",
           "lightblue",
           "lightblue",
           "lightblue",
           "lightblue",
           "lightblue",
           "lightblue",
           "lightblue",
           "lightblue",
           "lightblue",
           "lightblue",
           "lightblue",
           "lightblue",
           "lightblue",
           "lightblue",
           "lightblue",
           "lightblue",
           "lightblue",
           "lightblue",
           "lightblue",
           "lightblue",
           "lightblue",
           "lightblue",
           "lightblue",
           "lightblue",
           "lightblue",
           "lightblue",
           "lightblue",
           "lightblue",
           "lightblue",
           "lightblue",
           "lightblue",
           "lightblue",
           "lightblue",
           "lightblue",
           "lightblue",
           "lightblue",
           "lightblue",
           "lightblue",
           "lightblue",
           "lightblue",
           "lightblue"
          ],
          "colorscale": [
           [
            0.0,
            "rgb(255,255,217)"
           ],
           [
            0.125,
            "rgb(237,248,177)"
           ],
           [
            0.25,
            "rgb(199,233,180)"
           ],
           [
            0.375,
            "rgb(127,205,187)"
           ],
           [
            0.5,
            "rgb(65,182,196)"
           ],
           [
            0.625,
            "rgb(29,145,192)"
           ],
           [
            0.75,
            "rgb(34,94,168)"
           ],
           [
            0.875,
            "rgb(37,52,148)"
           ],
           [
            1.0,
            "rgb(8,29,88)"
           ]
          ],
          "line": {
           "width": 2
          },
          "showscale": false,
          "size": [
           10,
           25,
           25,
           25,
           10,
           25,
           10,
           10,
           10,
           10,
           10,
           10,
           10,
           10,
           10,
           10,
           10,
           10,
           10,
           10,
           10,
           10,
           10,
           10,
           10,
           10,
           10,
           10,
           10,
           10,
           10,
           10,
           10,
           10,
           10,
           10,
           10,
           10,
           10,
           10,
           10,
           10,
           10,
           10,
           10,
           10,
           10,
           10,
           10,
           10,
           10,
           10,
           10,
           10,
           10,
           10,
           10,
           10,
           10,
           10,
           10,
           10,
           10,
           10,
           10,
           10,
           10,
           10,
           10,
           10,
           10,
           10,
           10,
           10,
           10,
           10,
           10,
           10,
           10,
           10,
           10,
           10,
           10,
           10,
           10,
           10,
           10,
           10,
           10,
           10,
           10,
           10,
           10,
           10,
           10,
           10,
           10,
           10,
           10,
           10,
           10,
           10,
           10,
           10,
           10,
           10,
           10,
           10,
           10,
           10,
           10,
           10,
           10,
           10,
           10,
           10,
           10,
           10,
           10,
           10,
           10,
           10,
           10,
           10,
           10,
           10,
           10,
           10,
           10,
           10,
           10,
           10,
           10,
           10,
           10,
           10,
           10,
           10,
           10
          ]
         },
         "mode": "markers+text",
         "text": [
          "photo",
          "",
          "",
          "",
          "new",
          "",
          "art",
          "one",
          "wedding",
          "artist",
          "year",
          "look",
          "make",
          "time",
          "day",
          "show",
          "home",
          "week",
          "woman",
          "video",
          "fashion",
          "style",
          "first",
          "world",
          "love",
          "best",
          "life",
          "work",
          "dress",
          "people",
          "book",
          "take",
          "star",
          "imageblog",
          "know",
          "see",
          "film",
          "trump",
          "beauty",
          "pinterest",
          "would",
          "york",
          "music",
          "story",
          "check",
          "two",
          "good",
          "hair",
          "come",
          "may",
          "think",
          "girl",
          "find",
          "back",
          "child",
          "kid",
          "school",
          "help",
          "man",
          "many",
          "student",
          "family",
          "change",
          "thing",
          "right",
          "even",
          "college",
          "parent",
          "american",
          "police",
          "black",
          "state",
          "mom",
          "every",
          "president",
          "donald",
          "say",
          "latino",
          "news",
          "attack",
          "country",
          "war",
          "isi",
          "syria",
          "iran",
          "killed",
          "leader",
          "medium",
          "election",
          "death",
          "russia",
          "korea",
          "government",
          "north",
          "city",
          "official",
          "last",
          "report",
          "syrian",
          "china",
          "fox",
          "recipe",
          "food",
          "wine",
          "delicious",
          "dessert",
          "cooking",
          "cake",
          "salad",
          "eat",
          "cheese",
          "chocolate",
          "flavor",
          "cocktail",
          "easy",
          "dish",
          "taste",
          "chef",
          "chicken",
          "cream",
          "restaurant",
          "burger",
          "summer",
          "sweet",
          "beer",
          "dinner",
          "soup",
          "drink",
          "cooky",
          "meal",
          "kitchen",
          "breakfast",
          "favorite",
          "cook",
          "sauce",
          "cuff",
          "butter",
          "bacon",
          "sandwich"
         ],
         "textposition": "bottom center",
         "x": [
          25.254958947711607,
          -10.0,
          26.666666666666664,
          100.0,
          42.14745774569043,
          63.33333333333333,
          -19.27062584422434,
          45.61168227141397,
          -25.6485894259776,
          -25.260855548853524,
          47.92316425809299,
          31.05521683858436,
          40.726107956791815,
          48.72168531595723,
          46.1758009878158,
          36.474776434641036,
          -30.59417560021715,
          44.06527343520321,
          53.3408522126142,
          43.27776647198112,
          -31.381839420410525,
          -24.197594997533233,
          45.9920958011883,
          51.60338989414468,
          39.79947240698901,
          36.684255865885895,
          55.188246104810084,
          39.02564671783689,
          -20.698379896457944,
          58.2548934948732,
          -31.342886483832263,
          49.575571090153844,
          -35.704952679403824,
          -38.66600077934747,
          47.86075390286475,
          39.458338026204366,
          -36.559528772026425,
          40.63400010875109,
          -27.57062911198455,
          -42.049388430746355,
          54.064344164139214,
          -39.129077981486084,
          -43.003703786291766,
          -44.99603735727762,
          -46.767624658042074,
          49.77050124223911,
          44.718202547019324,
          -36.21531525835808,
          47.42322258448721,
          57.99573333975352,
          48.40429167779526,
          -45.84626526719637,
          50.7230646888148,
          52.46659861408404,
          97.91293502559823,
          121.27574147264966,
          123.45079123498681,
          120.3088942244024,
          121.20421880771583,
          115.67608788745709,
          125.77224442626269,
          114.89506378050169,
          128.26859470804064,
          128.54348297583743,
          90.9692623370949,
          64.65495401010946,
          132.93084129054517,
          123.73302982485123,
          92.38826973789097,
          88.21369899644658,
          130.25283695939243,
          83.21269523605513,
          133.7537464056094,
          135.46011871445097,
          76.04302579441314,
          79.3705216153493,
          71.16648376290428,
          66.25441609377292,
          74.67255037631035,
          58.731289655042644,
          81.14387868510728,
          81.88970659643768,
          62.17669426333009,
          87.0586707043537,
          90.5796428129973,
          72.51954113297897,
          84.2609535136831,
          89.03512794610567,
          67.00538818819335,
          94.38942922455125,
          79.74915951268997,
          53.841455767368814,
          96.80994874321148,
          79.61467424484329,
          92.89391248117559,
          89.08170608743526,
          84.57735504616166,
          87.65262188230092,
          74.14235567781978,
          66.34438820400148,
          58.573177976737355,
          23.796946689336767,
          18.743462328158717,
          14.347560786781449,
          26.01349108792036,
          10.759274285313559,
          11.496246546455986,
          6.07907682504004,
          8.099334104009255,
          14.151518106859177,
          18.756017624034897,
          13.43708082323046,
          7.774487811734325,
          30.47254462389085,
          23.408751582754572,
          36.66551850125819,
          4.1845829034941024,
          11.33043767098293,
          16.62186410233238,
          33.374964055923996,
          27.70783794460683,
          2.1020529781257893,
          41.072778231534706,
          6.022197220809828,
          21.59131606947423,
          38.17462856138271,
          -1.257579217979058,
          4.329407594623364,
          9.736347299272769,
          -0.6987884786985117,
          3.6579245099073154,
          -0.7890907010243263,
          14.14894398624509,
          18.972335601751258,
          10.053676177863405,
          25.998504542777866,
          8.174556348726782,
          -3.878118911584258,
          32.67170005981828
         ],
         "y": [
          15.189330516654335,
          20.0,
          2.0,
          6.0,
          13.921210129572257,
          24.0,
          29.109273542113435,
          12.230016978634128,
          18.916328375066207,
          28.074860126054595,
          13.192185267638534,
          17.509944421557407,
          10.00153904078774,
          10.26233474802815,
          9.636437392229357,
          20.385590543039463,
          23.458886192673848,
          16.939759992563577,
          12.58355092692869,
          20.300625137404836,
          13.674341293353217,
          37.0774648361661,
          19.280094267360933,
          15.076735117540641,
          7.016440763459264,
          8.879400252374701,
          8.439556645091242,
          22.088902330555136,
          43.61323710584126,
          14.125776149942897,
          37.831483857858224,
          18.200739343932923,
          30.832013355959695,
          19.00836015274945,
          5.58974158740237,
          16.332933398427844,
          6.76462316056993,
          29.42961073411837,
          46.27340028556769,
          27.394781967541864,
          18.0288724609952,
          38.51855282670656,
          8.500247673209397,
          15.188764683371692,
          22.534981754665026,
          23.7217310339398,
          2.4270799357525643,
          46.05398054478631,
          26.120512920876365,
          10.380338083387919,
          0.1847873395790875,
          34.01152423514579,
          2.8718743652138605,
          22.491654365383578,
          16.576889105262765,
          3.6938725334134737,
          10.316440410629715,
          -3.03632802659383,
          -9.088073908148118,
          -11.680105372363201,
          16.58685586573397,
          -17.646791048773313,
          2.600786601164278,
          -5.057504889776965,
          12.740717488108604,
          -5.247159156553485,
          7.445424577152688,
          -17.256800925248932,
          21.153026069261163,
          18.13147427481854,
          -11.819918466766223,
          16.79937026373227,
          14.531243053352073,
          -1.2910369658644123,
          32.42314290685978,
          26.943458656413203,
          38.44025289893991,
          43.42417446762617,
          42.74850786592219,
          46.23382659350388,
          39.03404923420871,
          10.009287225076688,
          51.24485437832664,
          35.34695758077839,
          30.04150451435741,
          51.79763407040236,
          47.725978336037606,
          43.18846678987923,
          55.9629213891327,
          39.664240909564235,
          51.890094225554634,
          55.23384538637556,
          33.62316460943798,
          57.48443236840528,
          47.98749543454215,
          5.378356806165007,
          -0.5934221816784052,
          54.6973999311263,
          61.20258570508622,
          62.45309077168393,
          61.06020682763967,
          -3.74180605012209,
          0.3220569927399594,
          10.702881787380448,
          -12.719990137423007,
          4.549239763750997,
          -3.7465346906383625,
          1.999866350385831,
          10.999112531173859,
          -10.46148031470277,
          -14.816506789731173,
          18.291603111019064,
          -8.967740747641132,
          -17.592326498072694,
          -19.24909653154192,
          -16.367962629120978,
          -3.7678682694600876,
          -15.547875163991451,
          -20.71714203417102,
          -22.739395283390106,
          -24.12497114126106,
          8.381308002336922,
          -20.106529122538713,
          16.85648853324935,
          -25.90384060562499,
          -25.631428019884044,
          1.8864556582952043,
          -15.617057183096625,
          -21.9579629544499,
          -9.66207414680521,
          -21.11697834923248,
          -15.254337024856266,
          -27.664697711393494,
          -30.59504284704476,
          24.440271653065864,
          -31.25513360970251,
          -26.901362855609413,
          -4.968024968999211,
          -30.7210309953524
         ],
         "type": "scatter"
        }
       ],
       "layout": {
        "height": 600,
        "hovermode": "closest",
        "margin": {
         "b": 20,
         "l": 5,
         "r": 5,
         "t": 40
        },
        "showlegend": false,
        "title": {
         "text": "Keyword-Cluster Network Graph"
        },
        "width": 1000,
        "xaxis": {
         "showgrid": false,
         "showticklabels": false,
         "zeroline": false
        },
        "yaxis": {
         "showgrid": false,
         "showticklabels": false,
         "zeroline": false
        },
        "template": {
         "data": {
          "histogram2dcontour": [
           {
            "type": "histogram2dcontour",
            "colorbar": {
             "outlinewidth": 0,
             "ticks": ""
            },
            "colorscale": [
             [
              0.0,
              "#0d0887"
             ],
             [
              0.1111111111111111,
              "#46039f"
             ],
             [
              0.2222222222222222,
              "#7201a8"
             ],
             [
              0.3333333333333333,
              "#9c179e"
             ],
             [
              0.4444444444444444,
              "#bd3786"
             ],
             [
              0.5555555555555556,
              "#d8576b"
             ],
             [
              0.6666666666666666,
              "#ed7953"
             ],
             [
              0.7777777777777778,
              "#fb9f3a"
             ],
             [
              0.8888888888888888,
              "#fdca26"
             ],
             [
              1.0,
              "#f0f921"
             ]
            ]
           }
          ],
          "choropleth": [
           {
            "type": "choropleth",
            "colorbar": {
             "outlinewidth": 0,
             "ticks": ""
            }
           }
          ],
          "histogram2d": [
           {
            "type": "histogram2d",
            "colorbar": {
             "outlinewidth": 0,
             "ticks": ""
            },
            "colorscale": [
             [
              0.0,
              "#0d0887"
             ],
             [
              0.1111111111111111,
              "#46039f"
             ],
             [
              0.2222222222222222,
              "#7201a8"
             ],
             [
              0.3333333333333333,
              "#9c179e"
             ],
             [
              0.4444444444444444,
              "#bd3786"
             ],
             [
              0.5555555555555556,
              "#d8576b"
             ],
             [
              0.6666666666666666,
              "#ed7953"
             ],
             [
              0.7777777777777778,
              "#fb9f3a"
             ],
             [
              0.8888888888888888,
              "#fdca26"
             ],
             [
              1.0,
              "#f0f921"
             ]
            ]
           }
          ],
          "heatmap": [
           {
            "type": "heatmap",
            "colorbar": {
             "outlinewidth": 0,
             "ticks": ""
            },
            "colorscale": [
             [
              0.0,
              "#0d0887"
             ],
             [
              0.1111111111111111,
              "#46039f"
             ],
             [
              0.2222222222222222,
              "#7201a8"
             ],
             [
              0.3333333333333333,
              "#9c179e"
             ],
             [
              0.4444444444444444,
              "#bd3786"
             ],
             [
              0.5555555555555556,
              "#d8576b"
             ],
             [
              0.6666666666666666,
              "#ed7953"
             ],
             [
              0.7777777777777778,
              "#fb9f3a"
             ],
             [
              0.8888888888888888,
              "#fdca26"
             ],
             [
              1.0,
              "#f0f921"
             ]
            ]
           }
          ],
          "heatmapgl": [
           {
            "type": "heatmapgl",
            "colorbar": {
             "outlinewidth": 0,
             "ticks": ""
            },
            "colorscale": [
             [
              0.0,
              "#0d0887"
             ],
             [
              0.1111111111111111,
              "#46039f"
             ],
             [
              0.2222222222222222,
              "#7201a8"
             ],
             [
              0.3333333333333333,
              "#9c179e"
             ],
             [
              0.4444444444444444,
              "#bd3786"
             ],
             [
              0.5555555555555556,
              "#d8576b"
             ],
             [
              0.6666666666666666,
              "#ed7953"
             ],
             [
              0.7777777777777778,
              "#fb9f3a"
             ],
             [
              0.8888888888888888,
              "#fdca26"
             ],
             [
              1.0,
              "#f0f921"
             ]
            ]
           }
          ],
          "contourcarpet": [
           {
            "type": "contourcarpet",
            "colorbar": {
             "outlinewidth": 0,
             "ticks": ""
            }
           }
          ],
          "contour": [
           {
            "type": "contour",
            "colorbar": {
             "outlinewidth": 0,
             "ticks": ""
            },
            "colorscale": [
             [
              0.0,
              "#0d0887"
             ],
             [
              0.1111111111111111,
              "#46039f"
             ],
             [
              0.2222222222222222,
              "#7201a8"
             ],
             [
              0.3333333333333333,
              "#9c179e"
             ],
             [
              0.4444444444444444,
              "#bd3786"
             ],
             [
              0.5555555555555556,
              "#d8576b"
             ],
             [
              0.6666666666666666,
              "#ed7953"
             ],
             [
              0.7777777777777778,
              "#fb9f3a"
             ],
             [
              0.8888888888888888,
              "#fdca26"
             ],
             [
              1.0,
              "#f0f921"
             ]
            ]
           }
          ],
          "surface": [
           {
            "type": "surface",
            "colorbar": {
             "outlinewidth": 0,
             "ticks": ""
            },
            "colorscale": [
             [
              0.0,
              "#0d0887"
             ],
             [
              0.1111111111111111,
              "#46039f"
             ],
             [
              0.2222222222222222,
              "#7201a8"
             ],
             [
              0.3333333333333333,
              "#9c179e"
             ],
             [
              0.4444444444444444,
              "#bd3786"
             ],
             [
              0.5555555555555556,
              "#d8576b"
             ],
             [
              0.6666666666666666,
              "#ed7953"
             ],
             [
              0.7777777777777778,
              "#fb9f3a"
             ],
             [
              0.8888888888888888,
              "#fdca26"
             ],
             [
              1.0,
              "#f0f921"
             ]
            ]
           }
          ],
          "mesh3d": [
           {
            "type": "mesh3d",
            "colorbar": {
             "outlinewidth": 0,
             "ticks": ""
            }
           }
          ],
          "scatter": [
           {
            "fillpattern": {
             "fillmode": "overlay",
             "size": 10,
             "solidity": 0.2
            },
            "type": "scatter"
           }
          ],
          "parcoords": [
           {
            "type": "parcoords",
            "line": {
             "colorbar": {
              "outlinewidth": 0,
              "ticks": ""
             }
            }
           }
          ],
          "scatterpolargl": [
           {
            "type": "scatterpolargl",
            "marker": {
             "colorbar": {
              "outlinewidth": 0,
              "ticks": ""
             }
            }
           }
          ],
          "bar": [
           {
            "error_x": {
             "color": "#2a3f5f"
            },
            "error_y": {
             "color": "#2a3f5f"
            },
            "marker": {
             "line": {
              "color": "#E5ECF6",
              "width": 0.5
             },
             "pattern": {
              "fillmode": "overlay",
              "size": 10,
              "solidity": 0.2
             }
            },
            "type": "bar"
           }
          ],
          "scattergeo": [
           {
            "type": "scattergeo",
            "marker": {
             "colorbar": {
              "outlinewidth": 0,
              "ticks": ""
             }
            }
           }
          ],
          "scatterpolar": [
           {
            "type": "scatterpolar",
            "marker": {
             "colorbar": {
              "outlinewidth": 0,
              "ticks": ""
             }
            }
           }
          ],
          "histogram": [
           {
            "marker": {
             "pattern": {
              "fillmode": "overlay",
              "size": 10,
              "solidity": 0.2
             }
            },
            "type": "histogram"
           }
          ],
          "scattergl": [
           {
            "type": "scattergl",
            "marker": {
             "colorbar": {
              "outlinewidth": 0,
              "ticks": ""
             }
            }
           }
          ],
          "scatter3d": [
           {
            "type": "scatter3d",
            "line": {
             "colorbar": {
              "outlinewidth": 0,
              "ticks": ""
             }
            },
            "marker": {
             "colorbar": {
              "outlinewidth": 0,
              "ticks": ""
             }
            }
           }
          ],
          "scattermapbox": [
           {
            "type": "scattermapbox",
            "marker": {
             "colorbar": {
              "outlinewidth": 0,
              "ticks": ""
             }
            }
           }
          ],
          "scatterternary": [
           {
            "type": "scatterternary",
            "marker": {
             "colorbar": {
              "outlinewidth": 0,
              "ticks": ""
             }
            }
           }
          ],
          "scattercarpet": [
           {
            "type": "scattercarpet",
            "marker": {
             "colorbar": {
              "outlinewidth": 0,
              "ticks": ""
             }
            }
           }
          ],
          "carpet": [
           {
            "aaxis": {
             "endlinecolor": "#2a3f5f",
             "gridcolor": "white",
             "linecolor": "white",
             "minorgridcolor": "white",
             "startlinecolor": "#2a3f5f"
            },
            "baxis": {
             "endlinecolor": "#2a3f5f",
             "gridcolor": "white",
             "linecolor": "white",
             "minorgridcolor": "white",
             "startlinecolor": "#2a3f5f"
            },
            "type": "carpet"
           }
          ],
          "table": [
           {
            "cells": {
             "fill": {
              "color": "#EBF0F8"
             },
             "line": {
              "color": "white"
             }
            },
            "header": {
             "fill": {
              "color": "#C8D4E3"
             },
             "line": {
              "color": "white"
             }
            },
            "type": "table"
           }
          ],
          "barpolar": [
           {
            "marker": {
             "line": {
              "color": "#E5ECF6",
              "width": 0.5
             },
             "pattern": {
              "fillmode": "overlay",
              "size": 10,
              "solidity": 0.2
             }
            },
            "type": "barpolar"
           }
          ],
          "pie": [
           {
            "automargin": true,
            "type": "pie"
           }
          ]
         },
         "layout": {
          "autotypenumbers": "strict",
          "colorway": [
           "#636efa",
           "#EF553B",
           "#00cc96",
           "#ab63fa",
           "#FFA15A",
           "#19d3f3",
           "#FF6692",
           "#B6E880",
           "#FF97FF",
           "#FECB52"
          ],
          "font": {
           "color": "#2a3f5f"
          },
          "hovermode": "closest",
          "hoverlabel": {
           "align": "left"
          },
          "paper_bgcolor": "white",
          "plot_bgcolor": "#E5ECF6",
          "polar": {
           "bgcolor": "#E5ECF6",
           "angularaxis": {
            "gridcolor": "white",
            "linecolor": "white",
            "ticks": ""
           },
           "radialaxis": {
            "gridcolor": "white",
            "linecolor": "white",
            "ticks": ""
           }
          },
          "ternary": {
           "bgcolor": "#E5ECF6",
           "aaxis": {
            "gridcolor": "white",
            "linecolor": "white",
            "ticks": ""
           },
           "baxis": {
            "gridcolor": "white",
            "linecolor": "white",
            "ticks": ""
           },
           "caxis": {
            "gridcolor": "white",
            "linecolor": "white",
            "ticks": ""
           }
          },
          "coloraxis": {
           "colorbar": {
            "outlinewidth": 0,
            "ticks": ""
           }
          },
          "colorscale": {
           "sequential": [
            [
             0.0,
             "#0d0887"
            ],
            [
             0.1111111111111111,
             "#46039f"
            ],
            [
             0.2222222222222222,
             "#7201a8"
            ],
            [
             0.3333333333333333,
             "#9c179e"
            ],
            [
             0.4444444444444444,
             "#bd3786"
            ],
            [
             0.5555555555555556,
             "#d8576b"
            ],
            [
             0.6666666666666666,
             "#ed7953"
            ],
            [
             0.7777777777777778,
             "#fb9f3a"
            ],
            [
             0.8888888888888888,
             "#fdca26"
            ],
            [
             1.0,
             "#f0f921"
            ]
           ],
           "sequentialminus": [
            [
             0.0,
             "#0d0887"
            ],
            [
             0.1111111111111111,
             "#46039f"
            ],
            [
             0.2222222222222222,
             "#7201a8"
            ],
            [
             0.3333333333333333,
             "#9c179e"
            ],
            [
             0.4444444444444444,
             "#bd3786"
            ],
            [
             0.5555555555555556,
             "#d8576b"
            ],
            [
             0.6666666666666666,
             "#ed7953"
            ],
            [
             0.7777777777777778,
             "#fb9f3a"
            ],
            [
             0.8888888888888888,
             "#fdca26"
            ],
            [
             1.0,
             "#f0f921"
            ]
           ],
           "diverging": [
            [
             0,
             "#8e0152"
            ],
            [
             0.1,
             "#c51b7d"
            ],
            [
             0.2,
             "#de77ae"
            ],
            [
             0.3,
             "#f1b6da"
            ],
            [
             0.4,
             "#fde0ef"
            ],
            [
             0.5,
             "#f7f7f7"
            ],
            [
             0.6,
             "#e6f5d0"
            ],
            [
             0.7,
             "#b8e186"
            ],
            [
             0.8,
             "#7fbc41"
            ],
            [
             0.9,
             "#4d9221"
            ],
            [
             1,
             "#276419"
            ]
           ]
          },
          "xaxis": {
           "gridcolor": "white",
           "linecolor": "white",
           "ticks": "",
           "title": {
            "standoff": 15
           },
           "zerolinecolor": "white",
           "automargin": true,
           "zerolinewidth": 2
          },
          "yaxis": {
           "gridcolor": "white",
           "linecolor": "white",
           "ticks": "",
           "title": {
            "standoff": 15
           },
           "zerolinecolor": "white",
           "automargin": true,
           "zerolinewidth": 2
          },
          "scene": {
           "xaxis": {
            "backgroundcolor": "#E5ECF6",
            "gridcolor": "white",
            "linecolor": "white",
            "showbackground": true,
            "ticks": "",
            "zerolinecolor": "white",
            "gridwidth": 2
           },
           "yaxis": {
            "backgroundcolor": "#E5ECF6",
            "gridcolor": "white",
            "linecolor": "white",
            "showbackground": true,
            "ticks": "",
            "zerolinecolor": "white",
            "gridwidth": 2
           },
           "zaxis": {
            "backgroundcolor": "#E5ECF6",
            "gridcolor": "white",
            "linecolor": "white",
            "showbackground": true,
            "ticks": "",
            "zerolinecolor": "white",
            "gridwidth": 2
           }
          },
          "shapedefaults": {
           "line": {
            "color": "#2a3f5f"
           }
          },
          "annotationdefaults": {
           "arrowcolor": "#2a3f5f",
           "arrowhead": 0,
           "arrowwidth": 1
          },
          "geo": {
           "bgcolor": "white",
           "landcolor": "#E5ECF6",
           "subunitcolor": "white",
           "showland": true,
           "showlakes": true,
           "lakecolor": "white"
          },
          "title": {
           "x": 0.05
          },
          "mapbox": {
           "style": "light"
          }
         }
        },
        "plot_bgcolor": "rgba(0,0,0,0)",
        "annotations": [
         {
          "bgcolor": "lightgreen",
          "borderpad": 4,
          "font": {
           "color": "black",
           "size": 10
          },
          "showarrow": false,
          "text": "ENTERTAINMENT - STYLE & BEAUTY - ARTS",
          "textangle": 0,
          "x": 100.0,
          "y": 6.0,
          "yanchor": "bottom"
         },
         {
          "bgcolor": "lightgreen",
          "borderpad": 4,
          "font": {
           "color": "black",
           "size": 10
          },
          "showarrow": false,
          "text": "WELLNESS - IMPACT - HEALTHY LIVING",
          "textangle": 0,
          "x": -10.0,
          "y": 20.0,
          "yanchor": "bottom"
         },
         {
          "bgcolor": "lightgreen",
          "borderpad": 4,
          "font": {
           "color": "black",
           "size": 10
          },
          "showarrow": false,
          "text": "POLITICS - WORLD NEWS - THE WORLDPOST",
          "textangle": 0,
          "x": 63.33333333333333,
          "y": 24.0,
          "yanchor": "bottom"
         },
         {
          "bgcolor": "lightgreen",
          "borderpad": 4,
          "font": {
           "color": "black",
           "size": 10
          },
          "showarrow": false,
          "text": "FOOD & DRINK - TASTE",
          "textangle": 0,
          "x": 26.666666666666664,
          "y": 2.0,
          "yanchor": "bottom"
         }
        ]
       },
       "config": {
        "plotlyServerURL": "https://plot.ly"
       }
      },
      "text/html": [
       "<div>                            <div id=\"432516eb-9ae2-44f7-9473-6b99afcbc0ef\" class=\"plotly-graph-div\" style=\"height:600px; width:1000px;\"></div>            <script type=\"text/javascript\">                require([\"plotly\"], function(Plotly) {                    window.PLOTLYENV=window.PLOTLYENV || {};                                    if (document.getElementById(\"432516eb-9ae2-44f7-9473-6b99afcbc0ef\")) {                    Plotly.newPlot(                        \"432516eb-9ae2-44f7-9473-6b99afcbc0ef\",                        [{\"hoverinfo\":\"none\",\"line\":{\"color\":\"#888\",\"width\":0.5},\"mode\":\"lines\",\"x\":[25.254958947711607,-10.0,null,25.254958947711607,26.666666666666664,null,25.254958947711607,100.0,null,-10.0,42.14745774569043,null,-10.0,-19.27062584422434,null,-10.0,45.61168227141397,null,-10.0,-25.6485894259776,null,-10.0,-25.260855548853524,null,-10.0,47.92316425809299,null,-10.0,31.05521683858436,null,-10.0,40.726107956791815,null,-10.0,48.72168531595723,null,-10.0,46.1758009878158,null,-10.0,36.474776434641036,null,-10.0,-30.59417560021715,null,-10.0,44.06527343520321,null,-10.0,53.3408522126142,null,-10.0,43.27776647198112,null,-10.0,-31.381839420410525,null,-10.0,-24.197594997533233,null,-10.0,45.9920958011883,null,-10.0,51.60338989414468,null,-10.0,39.79947240698901,null,-10.0,36.684255865885895,null,-10.0,55.188246104810084,null,-10.0,39.02564671783689,null,-10.0,-20.698379896457944,null,-10.0,58.2548934948732,null,-10.0,-31.342886483832263,null,-10.0,49.575571090153844,null,-10.0,-35.704952679403824,null,-10.0,-38.66600077934747,null,-10.0,47.86075390286475,null,-10.0,39.458338026204366,null,-10.0,-36.559528772026425,null,-10.0,40.63400010875109,null,-10.0,-27.57062911198455,null,-10.0,-42.049388430746355,null,-10.0,54.064344164139214,null,-10.0,-39.129077981486084,null,-10.0,-43.003703786291766,null,-10.0,-44.99603735727762,null,-10.0,-46.767624658042074,null,-10.0,49.77050124223911,null,-10.0,44.718202547019324,null,-10.0,-36.21531525835808,null,-10.0,47.42322258448721,null,-10.0,57.99573333975352,null,-10.0,48.40429167779526,null,-10.0,-45.84626526719637,null,-10.0,50.7230646888148,null,-10.0,52.46659861408404,null,26.666666666666664,42.14745774569043,null,26.666666666666664,45.61168227141397,null,26.666666666666664,47.92316425809299,null,26.666666666666664,40.726107956791815,null,26.666666666666664,48.72168531595723,null,26.666666666666664,46.1758009878158,null,26.666666666666664,39.79947240698901,null,26.666666666666664,36.684255865885895,null,26.666666666666664,47.86075390286475,null,26.666666666666664,44.718202547019324,null,26.666666666666664,64.65495401010946,null,26.666666666666664,23.796946689336767,null,26.666666666666664,18.743462328158717,null,26.666666666666664,14.347560786781449,null,26.666666666666664,26.01349108792036,null,26.666666666666664,10.759274285313559,null,26.666666666666664,11.496246546455986,null,26.666666666666664,6.07907682504004,null,26.666666666666664,8.099334104009255,null,26.666666666666664,14.151518106859177,null,26.666666666666664,18.756017624034897,null,26.666666666666664,13.43708082323046,null,26.666666666666664,7.774487811734325,null,26.666666666666664,30.47254462389085,null,26.666666666666664,23.408751582754572,null,26.666666666666664,36.66551850125819,null,26.666666666666664,4.1845829034941024,null,26.666666666666664,11.33043767098293,null,26.666666666666664,16.62186410233238,null,26.666666666666664,33.374964055923996,null,26.666666666666664,27.70783794460683,null,26.666666666666664,2.1020529781257893,null,26.666666666666664,41.072778231534706,null,26.666666666666664,6.022197220809828,null,26.666666666666664,21.59131606947423,null,26.666666666666664,38.17462856138271,null,26.666666666666664,-1.257579217979058,null,26.666666666666664,4.329407594623364,null,26.666666666666664,9.736347299272769,null,26.666666666666664,-0.6987884786985117,null,26.666666666666664,3.6579245099073154,null,26.666666666666664,-0.7890907010243263,null,26.666666666666664,14.14894398624509,null,26.666666666666664,18.972335601751258,null,26.666666666666664,10.053676177863405,null,26.666666666666664,25.998504542777866,null,26.666666666666664,8.174556348726782,null,26.666666666666664,-3.878118911584258,null,26.666666666666664,32.67170005981828,null,100.0,42.14745774569043,null,100.0,45.61168227141397,null,100.0,47.92316425809299,null,100.0,31.05521683858436,null,100.0,40.726107956791815,null,100.0,48.72168531595723,null,100.0,46.1758009878158,null,100.0,36.474776434641036,null,100.0,44.06527343520321,null,100.0,53.3408522126142,null,100.0,43.27776647198112,null,100.0,45.9920958011883,null,100.0,51.60338989414468,null,100.0,39.79947240698901,null,100.0,36.684255865885895,null,100.0,55.188246104810084,null,100.0,39.02564671783689,null,100.0,58.2548934948732,null,100.0,49.575571090153844,null,100.0,47.86075390286475,null,100.0,39.458338026204366,null,100.0,54.064344164139214,null,100.0,49.77050124223911,null,100.0,44.718202547019324,null,100.0,47.42322258448721,null,100.0,57.99573333975352,null,100.0,48.40429167779526,null,100.0,50.7230646888148,null,100.0,52.46659861408404,null,100.0,97.91293502559823,null,100.0,121.27574147264966,null,100.0,123.45079123498681,null,100.0,120.3088942244024,null,100.0,121.20421880771583,null,100.0,115.67608788745709,null,100.0,125.77224442626269,null,100.0,114.89506378050169,null,100.0,128.26859470804064,null,100.0,128.54348297583743,null,100.0,90.9692623370949,null,100.0,64.65495401010946,null,100.0,132.93084129054517,null,100.0,123.73302982485123,null,100.0,92.38826973789097,null,100.0,88.21369899644658,null,100.0,130.25283695939243,null,100.0,83.21269523605513,null,100.0,133.7537464056094,null,100.0,135.46011871445097,null,42.14745774569043,63.33333333333333,null,63.33333333333333,45.61168227141397,null,63.33333333333333,47.92316425809299,null,63.33333333333333,40.726107956791815,null,63.33333333333333,48.72168531595723,null,63.33333333333333,46.1758009878158,null,63.33333333333333,36.474776434641036,null,63.33333333333333,44.06527343520321,null,63.33333333333333,53.3408522126142,null,63.33333333333333,43.27776647198112,null,63.33333333333333,45.9920958011883,null,63.33333333333333,51.60338989414468,null,63.33333333333333,58.2548934948732,null,63.33333333333333,49.575571090153844,null,63.33333333333333,40.63400010875109,null,63.33333333333333,54.064344164139214,null,63.33333333333333,49.77050124223911,null,63.33333333333333,57.99573333975352,null,63.33333333333333,97.91293502559823,null,63.33333333333333,90.9692623370949,null,63.33333333333333,92.38826973789097,null,63.33333333333333,88.21369899644658,null,63.33333333333333,83.21269523605513,null,63.33333333333333,76.04302579441314,null,63.33333333333333,79.3705216153493,null,63.33333333333333,71.16648376290428,null,63.33333333333333,66.25441609377292,null,63.33333333333333,74.67255037631035,null,63.33333333333333,58.731289655042644,null,63.33333333333333,81.14387868510728,null,63.33333333333333,81.88970659643768,null,63.33333333333333,62.17669426333009,null,63.33333333333333,87.0586707043537,null,63.33333333333333,90.5796428129973,null,63.33333333333333,72.51954113297897,null,63.33333333333333,84.2609535136831,null,63.33333333333333,89.03512794610567,null,63.33333333333333,67.00538818819335,null,63.33333333333333,94.38942922455125,null,63.33333333333333,79.74915951268997,null,63.33333333333333,53.841455767368814,null,63.33333333333333,96.80994874321148,null,63.33333333333333,79.61467424484329,null,63.33333333333333,92.89391248117559,null,63.33333333333333,89.08170608743526,null,63.33333333333333,84.57735504616166,null,63.33333333333333,87.65262188230092,null,63.33333333333333,74.14235567781978,null,63.33333333333333,66.34438820400148,null,63.33333333333333,58.573177976737355,null],\"y\":[15.189330516654335,20.0,null,15.189330516654335,2.0,null,15.189330516654335,6.0,null,20.0,13.921210129572257,null,20.0,29.109273542113435,null,20.0,12.230016978634128,null,20.0,18.916328375066207,null,20.0,28.074860126054595,null,20.0,13.192185267638534,null,20.0,17.509944421557407,null,20.0,10.00153904078774,null,20.0,10.26233474802815,null,20.0,9.636437392229357,null,20.0,20.385590543039463,null,20.0,23.458886192673848,null,20.0,16.939759992563577,null,20.0,12.58355092692869,null,20.0,20.300625137404836,null,20.0,13.674341293353217,null,20.0,37.0774648361661,null,20.0,19.280094267360933,null,20.0,15.076735117540641,null,20.0,7.016440763459264,null,20.0,8.879400252374701,null,20.0,8.439556645091242,null,20.0,22.088902330555136,null,20.0,43.61323710584126,null,20.0,14.125776149942897,null,20.0,37.831483857858224,null,20.0,18.200739343932923,null,20.0,30.832013355959695,null,20.0,19.00836015274945,null,20.0,5.58974158740237,null,20.0,16.332933398427844,null,20.0,6.76462316056993,null,20.0,29.42961073411837,null,20.0,46.27340028556769,null,20.0,27.394781967541864,null,20.0,18.0288724609952,null,20.0,38.51855282670656,null,20.0,8.500247673209397,null,20.0,15.188764683371692,null,20.0,22.534981754665026,null,20.0,23.7217310339398,null,20.0,2.4270799357525643,null,20.0,46.05398054478631,null,20.0,26.120512920876365,null,20.0,10.380338083387919,null,20.0,0.1847873395790875,null,20.0,34.01152423514579,null,20.0,2.8718743652138605,null,20.0,22.491654365383578,null,2.0,13.921210129572257,null,2.0,12.230016978634128,null,2.0,13.192185267638534,null,2.0,10.00153904078774,null,2.0,10.26233474802815,null,2.0,9.636437392229357,null,2.0,7.016440763459264,null,2.0,8.879400252374701,null,2.0,5.58974158740237,null,2.0,2.4270799357525643,null,2.0,-5.247159156553485,null,2.0,-3.74180605012209,null,2.0,0.3220569927399594,null,2.0,10.702881787380448,null,2.0,-12.719990137423007,null,2.0,4.549239763750997,null,2.0,-3.7465346906383625,null,2.0,1.999866350385831,null,2.0,10.999112531173859,null,2.0,-10.46148031470277,null,2.0,-14.816506789731173,null,2.0,18.291603111019064,null,2.0,-8.967740747641132,null,2.0,-17.592326498072694,null,2.0,-19.24909653154192,null,2.0,-16.367962629120978,null,2.0,-3.7678682694600876,null,2.0,-15.547875163991451,null,2.0,-20.71714203417102,null,2.0,-22.739395283390106,null,2.0,-24.12497114126106,null,2.0,8.381308002336922,null,2.0,-20.106529122538713,null,2.0,16.85648853324935,null,2.0,-25.90384060562499,null,2.0,-25.631428019884044,null,2.0,1.8864556582952043,null,2.0,-15.617057183096625,null,2.0,-21.9579629544499,null,2.0,-9.66207414680521,null,2.0,-21.11697834923248,null,2.0,-15.254337024856266,null,2.0,-27.664697711393494,null,2.0,-30.59504284704476,null,2.0,24.440271653065864,null,2.0,-31.25513360970251,null,2.0,-26.901362855609413,null,2.0,-4.968024968999211,null,2.0,-30.7210309953524,null,6.0,13.921210129572257,null,6.0,12.230016978634128,null,6.0,13.192185267638534,null,6.0,17.509944421557407,null,6.0,10.00153904078774,null,6.0,10.26233474802815,null,6.0,9.636437392229357,null,6.0,20.385590543039463,null,6.0,16.939759992563577,null,6.0,12.58355092692869,null,6.0,20.300625137404836,null,6.0,19.280094267360933,null,6.0,15.076735117540641,null,6.0,7.016440763459264,null,6.0,8.879400252374701,null,6.0,8.439556645091242,null,6.0,22.088902330555136,null,6.0,14.125776149942897,null,6.0,18.200739343932923,null,6.0,5.58974158740237,null,6.0,16.332933398427844,null,6.0,18.0288724609952,null,6.0,23.7217310339398,null,6.0,2.4270799357525643,null,6.0,26.120512920876365,null,6.0,10.380338083387919,null,6.0,0.1847873395790875,null,6.0,2.8718743652138605,null,6.0,22.491654365383578,null,6.0,16.576889105262765,null,6.0,3.6938725334134737,null,6.0,10.316440410629715,null,6.0,-3.03632802659383,null,6.0,-9.088073908148118,null,6.0,-11.680105372363201,null,6.0,16.58685586573397,null,6.0,-17.646791048773313,null,6.0,2.600786601164278,null,6.0,-5.057504889776965,null,6.0,12.740717488108604,null,6.0,-5.247159156553485,null,6.0,7.445424577152688,null,6.0,-17.256800925248932,null,6.0,21.153026069261163,null,6.0,18.13147427481854,null,6.0,-11.819918466766223,null,6.0,16.79937026373227,null,6.0,14.531243053352073,null,6.0,-1.2910369658644123,null,13.921210129572257,24.0,null,24.0,12.230016978634128,null,24.0,13.192185267638534,null,24.0,10.00153904078774,null,24.0,10.26233474802815,null,24.0,9.636437392229357,null,24.0,20.385590543039463,null,24.0,16.939759992563577,null,24.0,12.58355092692869,null,24.0,20.300625137404836,null,24.0,19.280094267360933,null,24.0,15.076735117540641,null,24.0,14.125776149942897,null,24.0,18.200739343932923,null,24.0,29.42961073411837,null,24.0,18.0288724609952,null,24.0,23.7217310339398,null,24.0,10.380338083387919,null,24.0,16.576889105262765,null,24.0,12.740717488108604,null,24.0,21.153026069261163,null,24.0,18.13147427481854,null,24.0,16.79937026373227,null,24.0,32.42314290685978,null,24.0,26.943458656413203,null,24.0,38.44025289893991,null,24.0,43.42417446762617,null,24.0,42.74850786592219,null,24.0,46.23382659350388,null,24.0,39.03404923420871,null,24.0,10.009287225076688,null,24.0,51.24485437832664,null,24.0,35.34695758077839,null,24.0,30.04150451435741,null,24.0,51.79763407040236,null,24.0,47.725978336037606,null,24.0,43.18846678987923,null,24.0,55.9629213891327,null,24.0,39.664240909564235,null,24.0,51.890094225554634,null,24.0,55.23384538637556,null,24.0,33.62316460943798,null,24.0,57.48443236840528,null,24.0,47.98749543454215,null,24.0,5.378356806165007,null,24.0,-0.5934221816784052,null,24.0,54.6973999311263,null,24.0,61.20258570508622,null,24.0,62.45309077168393,null,24.0,61.06020682763967,null],\"type\":\"scatter\"},{\"hoverinfo\":\"text\",\"marker\":{\"color\":[\"lightblue\",\"lightgreen\",\"lightgreen\",\"lightgreen\",\"lightblue\",\"lightgreen\",\"lightblue\",\"lightblue\",\"lightblue\",\"lightblue\",\"lightblue\",\"lightblue\",\"lightblue\",\"lightblue\",\"lightblue\",\"lightblue\",\"lightblue\",\"lightblue\",\"lightblue\",\"lightblue\",\"lightblue\",\"lightblue\",\"lightblue\",\"lightblue\",\"lightblue\",\"lightblue\",\"lightblue\",\"lightblue\",\"lightblue\",\"lightblue\",\"lightblue\",\"lightblue\",\"lightblue\",\"lightblue\",\"lightblue\",\"lightblue\",\"lightblue\",\"lightblue\",\"lightblue\",\"lightblue\",\"lightblue\",\"lightblue\",\"lightblue\",\"lightblue\",\"lightblue\",\"lightblue\",\"lightblue\",\"lightblue\",\"lightblue\",\"lightblue\",\"lightblue\",\"lightblue\",\"lightblue\",\"lightblue\",\"lightblue\",\"lightblue\",\"lightblue\",\"lightblue\",\"lightblue\",\"lightblue\",\"lightblue\",\"lightblue\",\"lightblue\",\"lightblue\",\"lightblue\",\"lightblue\",\"lightblue\",\"lightblue\",\"lightblue\",\"lightblue\",\"lightblue\",\"lightblue\",\"lightblue\",\"lightblue\",\"lightblue\",\"lightblue\",\"lightblue\",\"lightblue\",\"lightblue\",\"lightblue\",\"lightblue\",\"lightblue\",\"lightblue\",\"lightblue\",\"lightblue\",\"lightblue\",\"lightblue\",\"lightblue\",\"lightblue\",\"lightblue\",\"lightblue\",\"lightblue\",\"lightblue\",\"lightblue\",\"lightblue\",\"lightblue\",\"lightblue\",\"lightblue\",\"lightblue\",\"lightblue\",\"lightblue\",\"lightblue\",\"lightblue\",\"lightblue\",\"lightblue\",\"lightblue\",\"lightblue\",\"lightblue\",\"lightblue\",\"lightblue\",\"lightblue\",\"lightblue\",\"lightblue\",\"lightblue\",\"lightblue\",\"lightblue\",\"lightblue\",\"lightblue\",\"lightblue\",\"lightblue\",\"lightblue\",\"lightblue\",\"lightblue\",\"lightblue\",\"lightblue\",\"lightblue\",\"lightblue\",\"lightblue\",\"lightblue\",\"lightblue\",\"lightblue\",\"lightblue\",\"lightblue\",\"lightblue\",\"lightblue\",\"lightblue\",\"lightblue\",\"lightblue\",\"lightblue\"],\"colorscale\":[[0.0,\"rgb(255,255,217)\"],[0.125,\"rgb(237,248,177)\"],[0.25,\"rgb(199,233,180)\"],[0.375,\"rgb(127,205,187)\"],[0.5,\"rgb(65,182,196)\"],[0.625,\"rgb(29,145,192)\"],[0.75,\"rgb(34,94,168)\"],[0.875,\"rgb(37,52,148)\"],[1.0,\"rgb(8,29,88)\"]],\"line\":{\"width\":2},\"showscale\":false,\"size\":[10,25,25,25,10,25,10,10,10,10,10,10,10,10,10,10,10,10,10,10,10,10,10,10,10,10,10,10,10,10,10,10,10,10,10,10,10,10,10,10,10,10,10,10,10,10,10,10,10,10,10,10,10,10,10,10,10,10,10,10,10,10,10,10,10,10,10,10,10,10,10,10,10,10,10,10,10,10,10,10,10,10,10,10,10,10,10,10,10,10,10,10,10,10,10,10,10,10,10,10,10,10,10,10,10,10,10,10,10,10,10,10,10,10,10,10,10,10,10,10,10,10,10,10,10,10,10,10,10,10,10,10,10,10,10,10,10,10,10]},\"mode\":\"markers+text\",\"text\":[\"photo\",\"\",\"\",\"\",\"new\",\"\",\"art\",\"one\",\"wedding\",\"artist\",\"year\",\"look\",\"make\",\"time\",\"day\",\"show\",\"home\",\"week\",\"woman\",\"video\",\"fashion\",\"style\",\"first\",\"world\",\"love\",\"best\",\"life\",\"work\",\"dress\",\"people\",\"book\",\"take\",\"star\",\"imageblog\",\"know\",\"see\",\"film\",\"trump\",\"beauty\",\"pinterest\",\"would\",\"york\",\"music\",\"story\",\"check\",\"two\",\"good\",\"hair\",\"come\",\"may\",\"think\",\"girl\",\"find\",\"back\",\"child\",\"kid\",\"school\",\"help\",\"man\",\"many\",\"student\",\"family\",\"change\",\"thing\",\"right\",\"even\",\"college\",\"parent\",\"american\",\"police\",\"black\",\"state\",\"mom\",\"every\",\"president\",\"donald\",\"say\",\"latino\",\"news\",\"attack\",\"country\",\"war\",\"isi\",\"syria\",\"iran\",\"killed\",\"leader\",\"medium\",\"election\",\"death\",\"russia\",\"korea\",\"government\",\"north\",\"city\",\"official\",\"last\",\"report\",\"syrian\",\"china\",\"fox\",\"recipe\",\"food\",\"wine\",\"delicious\",\"dessert\",\"cooking\",\"cake\",\"salad\",\"eat\",\"cheese\",\"chocolate\",\"flavor\",\"cocktail\",\"easy\",\"dish\",\"taste\",\"chef\",\"chicken\",\"cream\",\"restaurant\",\"burger\",\"summer\",\"sweet\",\"beer\",\"dinner\",\"soup\",\"drink\",\"cooky\",\"meal\",\"kitchen\",\"breakfast\",\"favorite\",\"cook\",\"sauce\",\"cuff\",\"butter\",\"bacon\",\"sandwich\"],\"textposition\":\"bottom center\",\"x\":[25.254958947711607,-10.0,26.666666666666664,100.0,42.14745774569043,63.33333333333333,-19.27062584422434,45.61168227141397,-25.6485894259776,-25.260855548853524,47.92316425809299,31.05521683858436,40.726107956791815,48.72168531595723,46.1758009878158,36.474776434641036,-30.59417560021715,44.06527343520321,53.3408522126142,43.27776647198112,-31.381839420410525,-24.197594997533233,45.9920958011883,51.60338989414468,39.79947240698901,36.684255865885895,55.188246104810084,39.02564671783689,-20.698379896457944,58.2548934948732,-31.342886483832263,49.575571090153844,-35.704952679403824,-38.66600077934747,47.86075390286475,39.458338026204366,-36.559528772026425,40.63400010875109,-27.57062911198455,-42.049388430746355,54.064344164139214,-39.129077981486084,-43.003703786291766,-44.99603735727762,-46.767624658042074,49.77050124223911,44.718202547019324,-36.21531525835808,47.42322258448721,57.99573333975352,48.40429167779526,-45.84626526719637,50.7230646888148,52.46659861408404,97.91293502559823,121.27574147264966,123.45079123498681,120.3088942244024,121.20421880771583,115.67608788745709,125.77224442626269,114.89506378050169,128.26859470804064,128.54348297583743,90.9692623370949,64.65495401010946,132.93084129054517,123.73302982485123,92.38826973789097,88.21369899644658,130.25283695939243,83.21269523605513,133.7537464056094,135.46011871445097,76.04302579441314,79.3705216153493,71.16648376290428,66.25441609377292,74.67255037631035,58.731289655042644,81.14387868510728,81.88970659643768,62.17669426333009,87.0586707043537,90.5796428129973,72.51954113297897,84.2609535136831,89.03512794610567,67.00538818819335,94.38942922455125,79.74915951268997,53.841455767368814,96.80994874321148,79.61467424484329,92.89391248117559,89.08170608743526,84.57735504616166,87.65262188230092,74.14235567781978,66.34438820400148,58.573177976737355,23.796946689336767,18.743462328158717,14.347560786781449,26.01349108792036,10.759274285313559,11.496246546455986,6.07907682504004,8.099334104009255,14.151518106859177,18.756017624034897,13.43708082323046,7.774487811734325,30.47254462389085,23.408751582754572,36.66551850125819,4.1845829034941024,11.33043767098293,16.62186410233238,33.374964055923996,27.70783794460683,2.1020529781257893,41.072778231534706,6.022197220809828,21.59131606947423,38.17462856138271,-1.257579217979058,4.329407594623364,9.736347299272769,-0.6987884786985117,3.6579245099073154,-0.7890907010243263,14.14894398624509,18.972335601751258,10.053676177863405,25.998504542777866,8.174556348726782,-3.878118911584258,32.67170005981828],\"y\":[15.189330516654335,20.0,2.0,6.0,13.921210129572257,24.0,29.109273542113435,12.230016978634128,18.916328375066207,28.074860126054595,13.192185267638534,17.509944421557407,10.00153904078774,10.26233474802815,9.636437392229357,20.385590543039463,23.458886192673848,16.939759992563577,12.58355092692869,20.300625137404836,13.674341293353217,37.0774648361661,19.280094267360933,15.076735117540641,7.016440763459264,8.879400252374701,8.439556645091242,22.088902330555136,43.61323710584126,14.125776149942897,37.831483857858224,18.200739343932923,30.832013355959695,19.00836015274945,5.58974158740237,16.332933398427844,6.76462316056993,29.42961073411837,46.27340028556769,27.394781967541864,18.0288724609952,38.51855282670656,8.500247673209397,15.188764683371692,22.534981754665026,23.7217310339398,2.4270799357525643,46.05398054478631,26.120512920876365,10.380338083387919,0.1847873395790875,34.01152423514579,2.8718743652138605,22.491654365383578,16.576889105262765,3.6938725334134737,10.316440410629715,-3.03632802659383,-9.088073908148118,-11.680105372363201,16.58685586573397,-17.646791048773313,2.600786601164278,-5.057504889776965,12.740717488108604,-5.247159156553485,7.445424577152688,-17.256800925248932,21.153026069261163,18.13147427481854,-11.819918466766223,16.79937026373227,14.531243053352073,-1.2910369658644123,32.42314290685978,26.943458656413203,38.44025289893991,43.42417446762617,42.74850786592219,46.23382659350388,39.03404923420871,10.009287225076688,51.24485437832664,35.34695758077839,30.04150451435741,51.79763407040236,47.725978336037606,43.18846678987923,55.9629213891327,39.664240909564235,51.890094225554634,55.23384538637556,33.62316460943798,57.48443236840528,47.98749543454215,5.378356806165007,-0.5934221816784052,54.6973999311263,61.20258570508622,62.45309077168393,61.06020682763967,-3.74180605012209,0.3220569927399594,10.702881787380448,-12.719990137423007,4.549239763750997,-3.7465346906383625,1.999866350385831,10.999112531173859,-10.46148031470277,-14.816506789731173,18.291603111019064,-8.967740747641132,-17.592326498072694,-19.24909653154192,-16.367962629120978,-3.7678682694600876,-15.547875163991451,-20.71714203417102,-22.739395283390106,-24.12497114126106,8.381308002336922,-20.106529122538713,16.85648853324935,-25.90384060562499,-25.631428019884044,1.8864556582952043,-15.617057183096625,-21.9579629544499,-9.66207414680521,-21.11697834923248,-15.254337024856266,-27.664697711393494,-30.59504284704476,24.440271653065864,-31.25513360970251,-26.901362855609413,-4.968024968999211,-30.7210309953524],\"type\":\"scatter\"}],                        {\"height\":600,\"hovermode\":\"closest\",\"margin\":{\"b\":20,\"l\":5,\"r\":5,\"t\":40},\"showlegend\":false,\"title\":{\"text\":\"Keyword-Cluster Network Graph\"},\"width\":1000,\"xaxis\":{\"showgrid\":false,\"showticklabels\":false,\"zeroline\":false},\"yaxis\":{\"showgrid\":false,\"showticklabels\":false,\"zeroline\":false},\"template\":{\"data\":{\"histogram2dcontour\":[{\"type\":\"histogram2dcontour\",\"colorbar\":{\"outlinewidth\":0,\"ticks\":\"\"},\"colorscale\":[[0.0,\"#0d0887\"],[0.1111111111111111,\"#46039f\"],[0.2222222222222222,\"#7201a8\"],[0.3333333333333333,\"#9c179e\"],[0.4444444444444444,\"#bd3786\"],[0.5555555555555556,\"#d8576b\"],[0.6666666666666666,\"#ed7953\"],[0.7777777777777778,\"#fb9f3a\"],[0.8888888888888888,\"#fdca26\"],[1.0,\"#f0f921\"]]}],\"choropleth\":[{\"type\":\"choropleth\",\"colorbar\":{\"outlinewidth\":0,\"ticks\":\"\"}}],\"histogram2d\":[{\"type\":\"histogram2d\",\"colorbar\":{\"outlinewidth\":0,\"ticks\":\"\"},\"colorscale\":[[0.0,\"#0d0887\"],[0.1111111111111111,\"#46039f\"],[0.2222222222222222,\"#7201a8\"],[0.3333333333333333,\"#9c179e\"],[0.4444444444444444,\"#bd3786\"],[0.5555555555555556,\"#d8576b\"],[0.6666666666666666,\"#ed7953\"],[0.7777777777777778,\"#fb9f3a\"],[0.8888888888888888,\"#fdca26\"],[1.0,\"#f0f921\"]]}],\"heatmap\":[{\"type\":\"heatmap\",\"colorbar\":{\"outlinewidth\":0,\"ticks\":\"\"},\"colorscale\":[[0.0,\"#0d0887\"],[0.1111111111111111,\"#46039f\"],[0.2222222222222222,\"#7201a8\"],[0.3333333333333333,\"#9c179e\"],[0.4444444444444444,\"#bd3786\"],[0.5555555555555556,\"#d8576b\"],[0.6666666666666666,\"#ed7953\"],[0.7777777777777778,\"#fb9f3a\"],[0.8888888888888888,\"#fdca26\"],[1.0,\"#f0f921\"]]}],\"heatmapgl\":[{\"type\":\"heatmapgl\",\"colorbar\":{\"outlinewidth\":0,\"ticks\":\"\"},\"colorscale\":[[0.0,\"#0d0887\"],[0.1111111111111111,\"#46039f\"],[0.2222222222222222,\"#7201a8\"],[0.3333333333333333,\"#9c179e\"],[0.4444444444444444,\"#bd3786\"],[0.5555555555555556,\"#d8576b\"],[0.6666666666666666,\"#ed7953\"],[0.7777777777777778,\"#fb9f3a\"],[0.8888888888888888,\"#fdca26\"],[1.0,\"#f0f921\"]]}],\"contourcarpet\":[{\"type\":\"contourcarpet\",\"colorbar\":{\"outlinewidth\":0,\"ticks\":\"\"}}],\"contour\":[{\"type\":\"contour\",\"colorbar\":{\"outlinewidth\":0,\"ticks\":\"\"},\"colorscale\":[[0.0,\"#0d0887\"],[0.1111111111111111,\"#46039f\"],[0.2222222222222222,\"#7201a8\"],[0.3333333333333333,\"#9c179e\"],[0.4444444444444444,\"#bd3786\"],[0.5555555555555556,\"#d8576b\"],[0.6666666666666666,\"#ed7953\"],[0.7777777777777778,\"#fb9f3a\"],[0.8888888888888888,\"#fdca26\"],[1.0,\"#f0f921\"]]}],\"surface\":[{\"type\":\"surface\",\"colorbar\":{\"outlinewidth\":0,\"ticks\":\"\"},\"colorscale\":[[0.0,\"#0d0887\"],[0.1111111111111111,\"#46039f\"],[0.2222222222222222,\"#7201a8\"],[0.3333333333333333,\"#9c179e\"],[0.4444444444444444,\"#bd3786\"],[0.5555555555555556,\"#d8576b\"],[0.6666666666666666,\"#ed7953\"],[0.7777777777777778,\"#fb9f3a\"],[0.8888888888888888,\"#fdca26\"],[1.0,\"#f0f921\"]]}],\"mesh3d\":[{\"type\":\"mesh3d\",\"colorbar\":{\"outlinewidth\":0,\"ticks\":\"\"}}],\"scatter\":[{\"fillpattern\":{\"fillmode\":\"overlay\",\"size\":10,\"solidity\":0.2},\"type\":\"scatter\"}],\"parcoords\":[{\"type\":\"parcoords\",\"line\":{\"colorbar\":{\"outlinewidth\":0,\"ticks\":\"\"}}}],\"scatterpolargl\":[{\"type\":\"scatterpolargl\",\"marker\":{\"colorbar\":{\"outlinewidth\":0,\"ticks\":\"\"}}}],\"bar\":[{\"error_x\":{\"color\":\"#2a3f5f\"},\"error_y\":{\"color\":\"#2a3f5f\"},\"marker\":{\"line\":{\"color\":\"#E5ECF6\",\"width\":0.5},\"pattern\":{\"fillmode\":\"overlay\",\"size\":10,\"solidity\":0.2}},\"type\":\"bar\"}],\"scattergeo\":[{\"type\":\"scattergeo\",\"marker\":{\"colorbar\":{\"outlinewidth\":0,\"ticks\":\"\"}}}],\"scatterpolar\":[{\"type\":\"scatterpolar\",\"marker\":{\"colorbar\":{\"outlinewidth\":0,\"ticks\":\"\"}}}],\"histogram\":[{\"marker\":{\"pattern\":{\"fillmode\":\"overlay\",\"size\":10,\"solidity\":0.2}},\"type\":\"histogram\"}],\"scattergl\":[{\"type\":\"scattergl\",\"marker\":{\"colorbar\":{\"outlinewidth\":0,\"ticks\":\"\"}}}],\"scatter3d\":[{\"type\":\"scatter3d\",\"line\":{\"colorbar\":{\"outlinewidth\":0,\"ticks\":\"\"}},\"marker\":{\"colorbar\":{\"outlinewidth\":0,\"ticks\":\"\"}}}],\"scattermapbox\":[{\"type\":\"scattermapbox\",\"marker\":{\"colorbar\":{\"outlinewidth\":0,\"ticks\":\"\"}}}],\"scatterternary\":[{\"type\":\"scatterternary\",\"marker\":{\"colorbar\":{\"outlinewidth\":0,\"ticks\":\"\"}}}],\"scattercarpet\":[{\"type\":\"scattercarpet\",\"marker\":{\"colorbar\":{\"outlinewidth\":0,\"ticks\":\"\"}}}],\"carpet\":[{\"aaxis\":{\"endlinecolor\":\"#2a3f5f\",\"gridcolor\":\"white\",\"linecolor\":\"white\",\"minorgridcolor\":\"white\",\"startlinecolor\":\"#2a3f5f\"},\"baxis\":{\"endlinecolor\":\"#2a3f5f\",\"gridcolor\":\"white\",\"linecolor\":\"white\",\"minorgridcolor\":\"white\",\"startlinecolor\":\"#2a3f5f\"},\"type\":\"carpet\"}],\"table\":[{\"cells\":{\"fill\":{\"color\":\"#EBF0F8\"},\"line\":{\"color\":\"white\"}},\"header\":{\"fill\":{\"color\":\"#C8D4E3\"},\"line\":{\"color\":\"white\"}},\"type\":\"table\"}],\"barpolar\":[{\"marker\":{\"line\":{\"color\":\"#E5ECF6\",\"width\":0.5},\"pattern\":{\"fillmode\":\"overlay\",\"size\":10,\"solidity\":0.2}},\"type\":\"barpolar\"}],\"pie\":[{\"automargin\":true,\"type\":\"pie\"}]},\"layout\":{\"autotypenumbers\":\"strict\",\"colorway\":[\"#636efa\",\"#EF553B\",\"#00cc96\",\"#ab63fa\",\"#FFA15A\",\"#19d3f3\",\"#FF6692\",\"#B6E880\",\"#FF97FF\",\"#FECB52\"],\"font\":{\"color\":\"#2a3f5f\"},\"hovermode\":\"closest\",\"hoverlabel\":{\"align\":\"left\"},\"paper_bgcolor\":\"white\",\"plot_bgcolor\":\"#E5ECF6\",\"polar\":{\"bgcolor\":\"#E5ECF6\",\"angularaxis\":{\"gridcolor\":\"white\",\"linecolor\":\"white\",\"ticks\":\"\"},\"radialaxis\":{\"gridcolor\":\"white\",\"linecolor\":\"white\",\"ticks\":\"\"}},\"ternary\":{\"bgcolor\":\"#E5ECF6\",\"aaxis\":{\"gridcolor\":\"white\",\"linecolor\":\"white\",\"ticks\":\"\"},\"baxis\":{\"gridcolor\":\"white\",\"linecolor\":\"white\",\"ticks\":\"\"},\"caxis\":{\"gridcolor\":\"white\",\"linecolor\":\"white\",\"ticks\":\"\"}},\"coloraxis\":{\"colorbar\":{\"outlinewidth\":0,\"ticks\":\"\"}},\"colorscale\":{\"sequential\":[[0.0,\"#0d0887\"],[0.1111111111111111,\"#46039f\"],[0.2222222222222222,\"#7201a8\"],[0.3333333333333333,\"#9c179e\"],[0.4444444444444444,\"#bd3786\"],[0.5555555555555556,\"#d8576b\"],[0.6666666666666666,\"#ed7953\"],[0.7777777777777778,\"#fb9f3a\"],[0.8888888888888888,\"#fdca26\"],[1.0,\"#f0f921\"]],\"sequentialminus\":[[0.0,\"#0d0887\"],[0.1111111111111111,\"#46039f\"],[0.2222222222222222,\"#7201a8\"],[0.3333333333333333,\"#9c179e\"],[0.4444444444444444,\"#bd3786\"],[0.5555555555555556,\"#d8576b\"],[0.6666666666666666,\"#ed7953\"],[0.7777777777777778,\"#fb9f3a\"],[0.8888888888888888,\"#fdca26\"],[1.0,\"#f0f921\"]],\"diverging\":[[0,\"#8e0152\"],[0.1,\"#c51b7d\"],[0.2,\"#de77ae\"],[0.3,\"#f1b6da\"],[0.4,\"#fde0ef\"],[0.5,\"#f7f7f7\"],[0.6,\"#e6f5d0\"],[0.7,\"#b8e186\"],[0.8,\"#7fbc41\"],[0.9,\"#4d9221\"],[1,\"#276419\"]]},\"xaxis\":{\"gridcolor\":\"white\",\"linecolor\":\"white\",\"ticks\":\"\",\"title\":{\"standoff\":15},\"zerolinecolor\":\"white\",\"automargin\":true,\"zerolinewidth\":2},\"yaxis\":{\"gridcolor\":\"white\",\"linecolor\":\"white\",\"ticks\":\"\",\"title\":{\"standoff\":15},\"zerolinecolor\":\"white\",\"automargin\":true,\"zerolinewidth\":2},\"scene\":{\"xaxis\":{\"backgroundcolor\":\"#E5ECF6\",\"gridcolor\":\"white\",\"linecolor\":\"white\",\"showbackground\":true,\"ticks\":\"\",\"zerolinecolor\":\"white\",\"gridwidth\":2},\"yaxis\":{\"backgroundcolor\":\"#E5ECF6\",\"gridcolor\":\"white\",\"linecolor\":\"white\",\"showbackground\":true,\"ticks\":\"\",\"zerolinecolor\":\"white\",\"gridwidth\":2},\"zaxis\":{\"backgroundcolor\":\"#E5ECF6\",\"gridcolor\":\"white\",\"linecolor\":\"white\",\"showbackground\":true,\"ticks\":\"\",\"zerolinecolor\":\"white\",\"gridwidth\":2}},\"shapedefaults\":{\"line\":{\"color\":\"#2a3f5f\"}},\"annotationdefaults\":{\"arrowcolor\":\"#2a3f5f\",\"arrowhead\":0,\"arrowwidth\":1},\"geo\":{\"bgcolor\":\"white\",\"landcolor\":\"#E5ECF6\",\"subunitcolor\":\"white\",\"showland\":true,\"showlakes\":true,\"lakecolor\":\"white\"},\"title\":{\"x\":0.05},\"mapbox\":{\"style\":\"light\"}}},\"plot_bgcolor\":\"rgba(0,0,0,0)\",\"annotations\":[{\"bgcolor\":\"lightgreen\",\"borderpad\":4,\"font\":{\"color\":\"black\",\"size\":10},\"showarrow\":false,\"text\":\"ENTERTAINMENT - STYLE & BEAUTY - ARTS\",\"textangle\":0,\"x\":100.0,\"y\":6.0,\"yanchor\":\"bottom\"},{\"bgcolor\":\"lightgreen\",\"borderpad\":4,\"font\":{\"color\":\"black\",\"size\":10},\"showarrow\":false,\"text\":\"WELLNESS - IMPACT - HEALTHY LIVING\",\"textangle\":0,\"x\":-10.0,\"y\":20.0,\"yanchor\":\"bottom\"},{\"bgcolor\":\"lightgreen\",\"borderpad\":4,\"font\":{\"color\":\"black\",\"size\":10},\"showarrow\":false,\"text\":\"POLITICS - WORLD NEWS - THE WORLDPOST\",\"textangle\":0,\"x\":63.33333333333333,\"y\":24.0,\"yanchor\":\"bottom\"},{\"bgcolor\":\"lightgreen\",\"borderpad\":4,\"font\":{\"color\":\"black\",\"size\":10},\"showarrow\":false,\"text\":\"FOOD & DRINK - TASTE\",\"textangle\":0,\"x\":26.666666666666664,\"y\":2.0,\"yanchor\":\"bottom\"}]},                        {\"responsive\": true}                    ).then(function(){\n",
       "                            \n",
       "var gd = document.getElementById('432516eb-9ae2-44f7-9473-6b99afcbc0ef');\n",
       "var x = new MutationObserver(function (mutations, observer) {{\n",
       "        var display = window.getComputedStyle(gd).display;\n",
       "        if (!display || display === 'none') {{\n",
       "            console.log([gd, 'removed!']);\n",
       "            Plotly.purge(gd);\n",
       "            observer.disconnect();\n",
       "        }}\n",
       "}});\n",
       "\n",
       "// Listen for the removal of the full notebook cells\n",
       "var notebookContainer = gd.closest('#notebook-container');\n",
       "if (notebookContainer) {{\n",
       "    x.observe(notebookContainer, {childList: true});\n",
       "}}\n",
       "\n",
       "// Listen for the clearing of the current output cell\n",
       "var outputEl = gd.closest('.output');\n",
       "if (outputEl) {{\n",
       "    x.observe(outputEl, {childList: true});\n",
       "}}\n",
       "\n",
       "                        })                };                });            </script>        </div>"
      ]
     },
     "metadata": {},
     "output_type": "display_data"
    }
   ],
   "execution_count": 1644
  },
  {
   "metadata": {},
   "cell_type": "markdown",
   "source": [
    "## **6** - Train Classification Model\n",
    "\n",
    "1. Create model pipeline so that training and predictions are vectorized in the same way\n",
    "    1. First step: TF-IDF vectorizer first (same process and parameters as vectorizer for K-Means)\n",
    "    2. Second step: Multinomial Naive Bayes classifier. Naive Bayes is a supervised learning algorithm for text classification.\n",
    "2. Train model with cluster category as expected output\n",
    "3. Use model to predict categories for test data\n",
    "4. Calculate metrics based on predicted calories compared to the expected categories\n",
    "5. Display overall F1 score\n",
    "6. Render confusion matrix using a heatmap"
   ],
   "id": "49fc26d6e601d1d7"
  },
  {
   "cell_type": "code",
   "id": "dadfe3e0",
   "metadata": {
    "papermill": {
     "duration": 3.105991,
     "end_time": "2025-01-22T12:58:06.799604",
     "exception": false,
     "start_time": "2025-01-22T12:58:03.693613",
     "status": "completed"
    },
    "tags": [],
    "ExecuteTime": {
     "end_time": "2025-01-26T18:15:20.209286Z",
     "start_time": "2025-01-26T18:14:06.673319Z"
    }
   },
   "source": [
    "from sklearn.naive_bayes import MultinomialNB\n",
    "from sklearn.pipeline import make_pipeline\n",
    "from sklearn.metrics import confusion_matrix, f1_score\n",
    "import matplotlib.pyplot as plt\n",
    "import seaborn as sns\n",
    "\n",
    "# Fit the training data to the model\n",
    "model = make_pipeline(TfidfVectorizer(**vectorizer_settings), MultinomialNB())\n",
    "model.fit(x_train, y_train['cluster_category'])\n",
    "\n",
    "# Test the model using reserved test data not included in the training\n",
    "predicted_categories = model.predict(x_test)\n",
    "\n",
    "# calculate the confusion matrix and overall F1 score\n",
    "c_matrix = confusion_matrix(y_test['cluster_category'], predicted_categories, labels=dominant_categories, normalize='true')\n",
    "f1_score_result = f1_score(y_test['cluster_category'], predicted_categories, average='micro')\n",
    "\n",
    "\n",
    "print('Overall F1 Score: {:.2%}'.format(f1_score_result))\n",
    "\n",
    "plt.rcParams.update({'font.size': 8, 'figure.figsize': [6, 6]})\n",
    "sns.set_theme(font_scale=0.8)\n",
    "sns.color_palette(\"Blues\", as_cmap=True)\n",
    "sns.heatmap(c_matrix.T, square=True, cmap='Blues', annot=True, cbar=True, xticklabels=dominant_categories, yticklabels=dominant_categories)\n",
    "plt.xlabel('TRUE label')\n",
    "plt.ylabel('PREDICTED label')\n",
    "\n",
    "plt.show()"
   ],
   "outputs": [
    {
     "name": "stdout",
     "output_type": "stream",
     "text": [
      "Overall F1 Score: 78.63%\n"
     ]
    },
    {
     "data": {
      "text/plain": [
       "<Figure size 600x600 with 2 Axes>"
      ],
      "image/png": "[encoded data removed]"
     },
     "metadata": {},
     "output_type": "display_data"
    }
   ],
   "execution_count": 1623
  },
  {
   "metadata": {},
   "cell_type": "markdown",
   "source": [
    "## **7** - Predict from user input\n",
    "\n",
    "1. Prompt user to enter a headline\n",
    "2. Use model to predict category for headline\n",
    "3. Show the prediction to the user\n",
    "\n",
    "This section can be run multiple times."
   ],
   "id": "7fd9b895c0013337"
  },
  {
   "cell_type": "code",
   "id": "f283d0707be1f62a",
   "metadata": {
    "ExecuteTime": {
     "end_time": "2025-01-26T18:15:25.150883Z",
     "start_time": "2025-01-26T18:15:20.595291Z"
    }
   },
   "source": [
    "headline = input('Enter a headline') # Prompt the user for a headline\n",
    "pred = model.predict([headline]) # Use the model to make a prediction\n",
    "print('The headline \"' + headline + '\" is in the category ' + pred[0]) # Show the prediction to the user"
   ],
   "outputs": [
    {
     "name": "stdout",
     "output_type": "stream",
     "text": [
      "The headline \"C.I.A. Now Favors Lab Leak Theory to Explain Covid’s Origins\" is in the category POLITICS - WORLD NEWS - THE WORLDPOST\n"
     ]
    }
   ],
   "execution_count": 1624
  }
 ],
 "metadata": {
  "kaggle": {
   "accelerator": "none",
   "dataSources": [
    {
     "datasetId": 1550907,
     "sourceId": 2556316,
     "sourceType": "datasetVersion"
    },
    {
     "datasetId": 32526,
     "sourceId": 4243451,
     "sourceType": "datasetVersion"
    }
   ],
   "dockerImageVersionId": 30839,
   "isGpuEnabled": false,
   "isInternetEnabled": true,
   "language": "python",
   "sourceType": "notebook"
  },
  "kernelspec": {
   "display_name": "Python 3 (ipykernel)",
   "language": "python",
   "name": "python3"
  },
  "language_info": {
   "codemirror_mode": {
    "name": "ipython",
    "version": 3
   },
   "file_extension": ".py",
   "mimetype": "text/x-python",
   "name": "python",
   "nbconvert_exporter": "python",
   "pygments_lexer": "ipython3",
   "version": "3.13.0"
  },
  "papermill": {
   "default_parameters": {},
   "duration": 18.520466,
   "end_time": "2025-01-22T12:58:13.920573",
   "environment_variables": {},
   "exception": null,
   "input_path": "__notebook__.ipynb",
   "output_path": "__notebook__.ipynb",
   "parameters": {},
   "start_time": "2025-01-22T12:57:55.400107",
   "version": "2.6.0"
  }
 },
 "nbformat": 4,
 "nbformat_minor": 5
}
