{
 "cells": [
  {
   "metadata": {},
   "cell_type": "markdown",
   "source": "## Setup",
   "id": "ae7cca8d3174b8d6"
  },
  {
   "cell_type": "code",
   "id": "8845fe4a",
   "metadata": {
    "execution": {
     "iopub.execute_input": "2025-01-22T12:57:58.081101Z",
     "iopub.status.busy": "2025-01-22T12:57:58.080712Z",
     "iopub.status.idle": "2025-01-22T12:57:58.994167Z",
     "shell.execute_reply": "2025-01-22T12:57:58.993341Z"
    },
    "papermill": {
     "duration": 0.919199,
     "end_time": "2025-01-22T12:57:58.995884",
     "exception": false,
     "start_time": "2025-01-22T12:57:58.076685",
     "status": "completed"
    },
    "tags": [],
    "ExecuteTime": {
     "end_time": "2025-01-24T13:42:44.798089Z",
     "start_time": "2025-01-24T13:42:44.794717Z"
    }
   },
   "source": [
    "import pandas as pd\n",
    "from nltk import word_tokenize\n",
    "from sklearn.naive_bayes import MultinomialNB"
   ],
   "outputs": [],
   "execution_count": 989
  },
  {
   "cell_type": "code",
   "id": "83c85909",
   "metadata": {
    "execution": {
     "iopub.execute_input": "2025-01-22T12:57:59.003212Z",
     "iopub.status.busy": "2025-01-22T12:57:59.002739Z",
     "iopub.status.idle": "2025-01-22T12:58:02.072310Z",
     "shell.execute_reply": "2025-01-22T12:58:02.070655Z"
    },
    "papermill": {
     "duration": 3.075414,
     "end_time": "2025-01-22T12:58:02.074470",
     "exception": false,
     "start_time": "2025-01-22T12:57:58.999056",
     "status": "completed"
    },
    "tags": [],
    "ExecuteTime": {
     "end_time": "2025-01-24T13:42:46.140047Z",
     "start_time": "2025-01-24T13:42:44.858085Z"
    }
   },
   "source": [
    "df = pd.read_json('../input/news-category-dataset/News_Category_Dataset_v3.json', lines=True)"
   ],
   "outputs": [],
   "execution_count": 990
  },
  {
   "cell_type": "code",
   "id": "af4e856c",
   "metadata": {
    "execution": {
     "iopub.execute_input": "2025-01-22T12:58:02.119416Z",
     "iopub.status.busy": "2025-01-22T12:58:02.119100Z",
     "iopub.status.idle": "2025-01-22T12:58:02.164882Z",
     "shell.execute_reply": "2025-01-22T12:58:02.164008Z"
    },
    "papermill": {
     "duration": 0.051793,
     "end_time": "2025-01-22T12:58:02.166814",
     "exception": false,
     "start_time": "2025-01-22T12:58:02.115021",
     "status": "completed"
    },
    "tags": [],
    "ExecuteTime": {
     "end_time": "2025-01-24T13:42:46.194649Z",
     "start_time": "2025-01-24T13:42:46.145814Z"
    }
   },
   "source": [
    "df['category'] = df['category'].astype('category')"
   ],
   "outputs": [],
   "execution_count": 991
  },
  {
   "metadata": {
    "execution": {
     "iopub.execute_input": "2025-01-22T12:58:02.175023Z",
     "iopub.status.busy": "2025-01-22T12:58:02.174613Z",
     "iopub.status.idle": "2025-01-22T12:58:03.688051Z",
     "shell.execute_reply": "2025-01-22T12:58:03.686930Z"
    },
    "papermill": {
     "duration": 1.519624,
     "end_time": "2025-01-22T12:58:03.689986",
     "exception": false,
     "start_time": "2025-01-22T12:58:02.170362",
     "status": "completed"
    },
    "tags": [],
    "ExecuteTime": {
     "end_time": "2025-01-24T13:42:46.604863Z",
     "start_time": "2025-01-24T13:42:46.236782Z"
    }
   },
   "cell_type": "code",
   "source": [
    "from sklearn.model_selection import train_test_split\n",
    "\n",
    "x = df['headline'] + ' ' + df['short_description']\n",
    "y = df\n",
    "\n",
    "x_train, x_test, y_train, y_test = train_test_split(x, y, test_size=0.2, stratify=y['category'], random_state=5)"
   ],
   "id": "fe6d9d4b",
   "outputs": [],
   "execution_count": 992
  },
  {
   "metadata": {
    "ExecuteTime": {
     "end_time": "2025-01-24T13:42:46.791330Z",
     "start_time": "2025-01-24T13:42:46.657740Z"
    }
   },
   "cell_type": "code",
   "source": "articles_by_category = x_train.groupby(y_train['category'], observed=True).apply(lambda x: ' '.join(x.astype(str))).reset_index(name='all_articles')",
   "id": "c78c41e472498550",
   "outputs": [],
   "execution_count": 993
  },
  {
   "metadata": {},
   "cell_type": "markdown",
   "source": "## Feature Extraction",
   "id": "6cf6f5c20d7187d0"
  },
  {
   "metadata": {
    "ExecuteTime": {
     "end_time": "2025-01-24T14:12:27.806518Z",
     "start_time": "2025-01-24T14:12:27.799607Z"
    }
   },
   "cell_type": "code",
   "source": [
    "from sklearn.feature_extraction.text import TfidfVectorizer\n",
    "import nltk\n",
    "from nltk.tokenize import word_tokenize\n",
    "from nltk.stem import WordNetLemmatizer\n",
    "from nltk.corpus import stopwords\n",
    "import re\n",
    "\n",
    "nltk.download('wordnet', quiet=True)\n",
    "nltk.download('stopwords', quiet=True)\n",
    "nltk.download('punkt', quiet=True)\n",
    "\n",
    "lemmatizer = WordNetLemmatizer()\n",
    "stopwords_list = stopwords.words('english')\n",
    "\n",
    "def tokenizer(text):\n",
    "    tokens = [re.sub(r'[^A-Za-z0-9]', '', t).strip() for t in word_tokenize(text.lower())]\n",
    "    return [lemmatizer.lemmatize(token) for token in tokens if token not in stopwords_list and len(token) > 2]\n",
    "\n",
    "vectorizer = TfidfVectorizer(tokenizer=tokenizer, max_features=10000, token_pattern=None)"
   ],
   "id": "1dfd39a95d63f244",
   "outputs": [],
   "execution_count": 1030
  },
  {
   "metadata": {
    "ExecuteTime": {
     "end_time": "2025-01-24T14:13:15.213305Z",
     "start_time": "2025-01-24T14:12:30.077775Z"
    }
   },
   "cell_type": "code",
   "source": "tfidf_sub_matrix = vectorizer.fit_transform(articles_by_category['all_articles'])",
   "id": "464057fe3a8a14a3",
   "outputs": [],
   "execution_count": 1031
  },
  {
   "metadata": {
    "ExecuteTime": {
     "end_time": "2025-01-24T14:13:15.302595Z",
     "start_time": "2025-01-24T14:13:15.218522Z"
    }
   },
   "cell_type": "code",
   "source": [
    "from sklearn.cluster import KMeans\n",
    "\n",
    "kmeans = KMeans(n_clusters=4, random_state=20, max_iter=5000, init='random')\n",
    "kmeans_results = kmeans.fit(tfidf_sub_matrix)"
   ],
   "id": "1f89e360a98a4800",
   "outputs": [],
   "execution_count": 1032
  },
  {
   "metadata": {
    "ExecuteTime": {
     "end_time": "2025-01-24T14:13:15.605906Z",
     "start_time": "2025-01-24T14:13:15.371914Z"
    }
   },
   "cell_type": "code",
   "source": [
    "from sklearn.manifold import TSNE\n",
    "\n",
    "tsne = TSNE(n_components=3, init='random', random_state=42)\n",
    "reduced_data = tsne.fit_transform(tfidf_sub_matrix)"
   ],
   "id": "70f02b8f5994f4f0",
   "outputs": [],
   "execution_count": 1033
  },
  {
   "metadata": {
    "ExecuteTime": {
     "end_time": "2025-01-24T14:13:15.732208Z",
     "start_time": "2025-01-24T14:13:15.666054Z"
    }
   },
   "cell_type": "code",
   "source": [
    "import numpy as np\n",
    "from collections import defaultdict\n",
    "from sklearn.metrics.pairwise import cosine_similarity\n",
    "\n",
    "category_names = articles_by_category['category']\n",
    "\n",
    "cluster_categories = defaultdict(list)\n",
    "for i, label in enumerate(kmeans_results.labels_):\n",
    "    cluster_categories[label].append(i)\n",
    "\n",
    "cluster_tfidf_matrices = {}\n",
    "for cluster_id, category_indices in cluster_categories.items():\n",
    "    cluster_tfidf_matrices[cluster_id] = np.asarray(np.mean(tfidf_sub_matrix[category_indices], axis=0))\n",
    "\n",
    "dominant_categories = []\n",
    "category_dominance_scores = [0] * len(category_names)\n",
    "for cluster_id, category_indices in cluster_categories.items():\n",
    "    cluster_tfidf = cluster_tfidf_matrices[cluster_id]\n",
    "    similarity = cosine_similarity(tfidf_sub_matrix[category_indices], cluster_tfidf.reshape(1, -1))\n",
    "\n",
    "    article_counts = np.array([len(x_train[y_train['category'] == category_names[i]]) for i in category_indices])\n",
    "    article_counts = article_counts / article_counts.sum()\n",
    "\n",
    "    combined_score = 0.6 * similarity.flatten() + 0.4 * article_counts\n",
    "\n",
    "    top_3_indices = np.argsort(combined_score)[-3:][::-1]\n",
    "    top_3_names = [category_names[category_indices[i]] for i in top_3_indices]\n",
    "\n",
    "    # dominant_category_index = category_indices[np.argmax(combined_score)]\n",
    "    dominant_categories.append(\" - \".join(top_3_names))\n",
    "\n",
    "    for list_idx, cat_idx in enumerate(category_indices):\n",
    "        category_dominance_scores[cat_idx] = combined_score[list_idx]\n"
   ],
   "id": "576a6393e2a203c8",
   "outputs": [],
   "execution_count": 1034
  },
  {
   "metadata": {
    "ExecuteTime": {
     "end_time": "2025-01-24T14:13:15.785096Z",
     "start_time": "2025-01-24T14:13:15.781165Z"
    }
   },
   "cell_type": "code",
   "source": "print(dominant_categories)",
   "id": "909a39768ec78afc",
   "outputs": [
    {
     "name": "stdout",
     "output_type": "stream",
     "text": [
      "['ENTERTAINMENT - WEIRD NEWS - ARTS & CULTURE', 'POLITICS - WORLD NEWS - THE WORLDPOST', 'WELLNESS - HEALTHY LIVING - IMPACT', 'TRAVEL - FOOD & DRINK - STYLE & BEAUTY']\n"
     ]
    }
   ],
   "execution_count": 1035
  },
  {
   "metadata": {
    "ExecuteTime": {
     "end_time": "2025-01-24T14:51:38.311760Z",
     "start_time": "2025-01-24T14:51:38.286083Z"
    }
   },
   "cell_type": "code",
   "source": [
    "from collections import defaultdict\n",
    "\n",
    "feature_names = vectorizer.get_feature_names_out()\n",
    "keyword_cluster_association = defaultdict(lambda: defaultdict(float))\n",
    "\n",
    "for cluster_id, cluster_tfidf in cluster_tfidf_matrices.items():\n",
    "    top_word_indices = np.argsort(cluster_tfidf.flatten())[::-1][:20]\n",
    "    for word_index in top_word_indices:\n",
    "        tfidf_score = cluster_tfidf.flatten()[word_index]\n",
    "        word = feature_names[word_index]\n",
    "        keyword_cluster_association[word][dominant_categories[cluster_id]] = tfidf_score\n"
   ],
   "id": "8f79a22038c2d74c",
   "outputs": [],
   "execution_count": 1052
  },
  {
   "metadata": {
    "ExecuteTime": {
     "end_time": "2025-01-24T14:51:40.185500Z",
     "start_time": "2025-01-24T14:51:40.180461Z"
    }
   },
   "cell_type": "code",
   "source": "print(keyword_cluster_association)",
   "id": "91cfec380cd21981",
   "outputs": [
    {
     "name": "stdout",
     "output_type": "stream",
     "text": [
      "defaultdict(<function <lambda> at 0x00000185ADE2CEA0>, {'new': defaultdict(<class 'float'>, {'ENTERTAINMENT - WEIRD NEWS - ARTS & CULTURE': np.float64(0.1804813728656232), 'POLITICS - WORLD NEWS - THE WORLDPOST': np.float64(0.14648813713901093), 'TRAVEL - FOOD & DRINK - STYLE & BEAUTY': np.float64(0.11595862639996937), 'WELLNESS - HEALTHY LIVING - IMPACT': np.float64(0.135062389564459)}), 'woman': defaultdict(<class 'float'>, {'ENTERTAINMENT - WEIRD NEWS - ARTS & CULTURE': np.float64(0.13801195550437034), 'POLITICS - WORLD NEWS - THE WORLDPOST': np.float64(0.07458521937790603), 'TRAVEL - FOOD & DRINK - STYLE & BEAUTY': np.float64(0.08086555900744441)}), 'one': defaultdict(<class 'float'>, {'ENTERTAINMENT - WEIRD NEWS - ARTS & CULTURE': np.float64(0.12116565500449769), 'POLITICS - WORLD NEWS - THE WORLDPOST': np.float64(0.09803558499745137), 'TRAVEL - FOOD & DRINK - STYLE & BEAUTY': np.float64(0.13687899665741826), 'WELLNESS - HEALTHY LIVING - IMPACT': np.float64(0.11900719179185519)}), 'year': defaultdict(<class 'float'>, {'ENTERTAINMENT - WEIRD NEWS - ARTS & CULTURE': np.float64(0.10643621054445393), 'POLITICS - WORLD NEWS - THE WORLDPOST': np.float64(0.0998500920582498), 'TRAVEL - FOOD & DRINK - STYLE & BEAUTY': np.float64(0.12309039517132604), 'WELLNESS - HEALTHY LIVING - IMPACT': np.float64(0.07501226748431405)}), 'week': defaultdict(<class 'float'>, {'ENTERTAINMENT - WEIRD NEWS - ARTS & CULTURE': np.float64(0.09360716717262045)}), 'art': defaultdict(<class 'float'>, {'ENTERTAINMENT - WEIRD NEWS - ARTS & CULTURE': np.float64(0.0932373952210476)}), 'time': defaultdict(<class 'float'>, {'ENTERTAINMENT - WEIRD NEWS - ARTS & CULTURE': np.float64(0.09215621247264895), 'POLITICS - WORLD NEWS - THE WORLDPOST': np.float64(0.07821182910081823), 'TRAVEL - FOOD & DRINK - STYLE & BEAUTY': np.float64(0.12285115050628201), 'WELLNESS - HEALTHY LIVING - IMPACT': np.float64(0.09142192477621729)}), 'like': defaultdict(<class 'float'>, {'ENTERTAINMENT - WEIRD NEWS - ARTS & CULTURE': np.float64(0.09142675744549891), 'TRAVEL - FOOD & DRINK - STYLE & BEAUTY': np.float64(0.09132903419675956), 'WELLNESS - HEALTHY LIVING - IMPACT': np.float64(0.10033420643082572)}), 'photo': defaultdict(<class 'float'>, {'ENTERTAINMENT - WEIRD NEWS - ARTS & CULTURE': np.float64(0.09076555676005035), 'WELLNESS - HEALTHY LIVING - IMPACT': np.float64(0.29883402141979754)}), 'say': defaultdict(<class 'float'>, {'ENTERTAINMENT - WEIRD NEWS - ARTS & CULTURE': np.float64(0.08947247567997951), 'POLITICS - WORLD NEWS - THE WORLDPOST': np.float64(0.1263480382253036)}), 'world': defaultdict(<class 'float'>, {'ENTERTAINMENT - WEIRD NEWS - ARTS & CULTURE': np.float64(0.08843782159252814), 'POLITICS - WORLD NEWS - THE WORLDPOST': np.float64(0.06968125834537411), 'TRAVEL - FOOD & DRINK - STYLE & BEAUTY': np.float64(0.07530164052491001), 'WELLNESS - HEALTHY LIVING - IMPACT': np.float64(0.07119635032374189)}), 'video': defaultdict(<class 'float'>, {'ENTERTAINMENT - WEIRD NEWS - ARTS & CULTURE': np.float64(0.0860194911086416), 'WELLNESS - HEALTHY LIVING - IMPACT': np.float64(0.067459822800133)}), 'people': defaultdict(<class 'float'>, {'ENTERTAINMENT - WEIRD NEWS - ARTS & CULTURE': np.float64(0.08258907865891764), 'POLITICS - WORLD NEWS - THE WORLDPOST': np.float64(0.11314100921485422), 'TRAVEL - FOOD & DRINK - STYLE & BEAUTY': np.float64(0.11325427301473867)}), 'get': defaultdict(<class 'float'>, {'ENTERTAINMENT - WEIRD NEWS - ARTS & CULTURE': np.float64(0.07846231838406165), 'TRAVEL - FOOD & DRINK - STYLE & BEAUTY': np.float64(0.09015046483599068), 'WELLNESS - HEALTHY LIVING - IMPACT': np.float64(0.0944452011337125)}), 'make': defaultdict(<class 'float'>, {'ENTERTAINMENT - WEIRD NEWS - ARTS & CULTURE': np.float64(0.07494635127073926), 'TRAVEL - FOOD & DRINK - STYLE & BEAUTY': np.float64(0.09169397992851179), 'WELLNESS - HEALTHY LIVING - IMPACT': np.float64(0.15458229440352536)}), 'man': defaultdict(<class 'float'>, {'ENTERTAINMENT - WEIRD NEWS - ARTS & CULTURE': np.float64(0.0738235972134537)}), 'show': defaultdict(<class 'float'>, {'ENTERTAINMENT - WEIRD NEWS - ARTS & CULTURE': np.float64(0.07349909472993152), 'POLITICS - WORLD NEWS - THE WORLDPOST': np.float64(0.06479725249307518)}), 'life': defaultdict(<class 'float'>, {'ENTERTAINMENT - WEIRD NEWS - ARTS & CULTURE': np.float64(0.07215646109607712), 'TRAVEL - FOOD & DRINK - STYLE & BEAUTY': np.float64(0.127716207952503)}), 'first': defaultdict(<class 'float'>, {'ENTERTAINMENT - WEIRD NEWS - ARTS & CULTURE': np.float64(0.07187919474613426), 'POLITICS - WORLD NEWS - THE WORLDPOST': np.float64(0.06309900963404927)}), 'day': defaultdict(<class 'float'>, {'ENTERTAINMENT - WEIRD NEWS - ARTS & CULTURE': np.float64(0.07126466158102597), 'POLITICS - WORLD NEWS - THE WORLDPOST': np.float64(0.0746610073898259), 'TRAVEL - FOOD & DRINK - STYLE & BEAUTY': np.float64(0.11647833415515463), 'WELLNESS - HEALTHY LIVING - IMPACT': np.float64(0.12428222149457574)}), 'trump': defaultdict(<class 'float'>, {'POLITICS - WORLD NEWS - THE WORLDPOST': np.float64(0.23859295929869495)}), 'said': defaultdict(<class 'float'>, {'POLITICS - WORLD NEWS - THE WORLDPOST': np.float64(0.10687963703921481)}), 'president': defaultdict(<class 'float'>, {'POLITICS - WORLD NEWS - THE WORLDPOST': np.float64(0.09508319937528549)}), 'donald': defaultdict(<class 'float'>, {'POLITICS - WORLD NEWS - THE WORLDPOST': np.float64(0.08893703897726338)}), 'black': defaultdict(<class 'float'>, {'POLITICS - WORLD NEWS - THE WORLDPOST': np.float64(0.08166605855910158)}), 'state': defaultdict(<class 'float'>, {'POLITICS - WORLD NEWS - THE WORLDPOST': np.float64(0.08014276658278456)}), 'police': defaultdict(<class 'float'>, {'POLITICS - WORLD NEWS - THE WORLDPOST': np.float64(0.0751489879677702)}), 'latino': defaultdict(<class 'float'>, {'POLITICS - WORLD NEWS - THE WORLDPOST': np.float64(0.07160296016848057)}), 'news': defaultdict(<class 'float'>, {'POLITICS - WORLD NEWS - THE WORLDPOST': np.float64(0.0671596708932833)}), 'way': defaultdict(<class 'float'>, {'TRAVEL - FOOD & DRINK - STYLE & BEAUTY': np.float64(0.10022881182985612), 'WELLNESS - HEALTHY LIVING - IMPACT': np.float64(0.09445724658536243)}), 'child': defaultdict(<class 'float'>, {'TRAVEL - FOOD & DRINK - STYLE & BEAUTY': np.float64(0.09598101003104605)}), 'need': defaultdict(<class 'float'>, {'TRAVEL - FOOD & DRINK - STYLE & BEAUTY': np.float64(0.08535943444382067)}), 'thing': defaultdict(<class 'float'>, {'TRAVEL - FOOD & DRINK - STYLE & BEAUTY': np.float64(0.08073279228852386), 'WELLNESS - HEALTHY LIVING - IMPACT': np.float64(0.06581335114556616)}), 'kid': defaultdict(<class 'float'>, {'TRAVEL - FOOD & DRINK - STYLE & BEAUTY': np.float64(0.08062190160986792)}), 'school': defaultdict(<class 'float'>, {'TRAVEL - FOOD & DRINK - STYLE & BEAUTY': np.float64(0.07422554910097932)}), 'know': defaultdict(<class 'float'>, {'TRAVEL - FOOD & DRINK - STYLE & BEAUTY': np.float64(0.07278682005748596)}), 'help': defaultdict(<class 'float'>, {'TRAVEL - FOOD & DRINK - STYLE & BEAUTY': np.float64(0.07072211524175859)}), 'recipe': defaultdict(<class 'float'>, {'WELLNESS - HEALTHY LIVING - IMPACT': np.float64(0.17757649308231852)}), 'home': defaultdict(<class 'float'>, {'WELLNESS - HEALTHY LIVING - IMPACT': np.float64(0.12715469343526012)}), 'food': defaultdict(<class 'float'>, {'WELLNESS - HEALTHY LIVING - IMPACT': np.float64(0.12116319013352249)}), 'best': defaultdict(<class 'float'>, {'WELLNESS - HEALTHY LIVING - IMPACT': np.float64(0.11668765651215848)}), 'look': defaultdict(<class 'float'>, {'WELLNESS - HEALTHY LIVING - IMPACT': np.float64(0.07179452083635252)}), 'want': defaultdict(<class 'float'>, {'WELLNESS - HEALTHY LIVING - IMPACT': np.float64(0.06455365584298443)}), 'style': defaultdict(<class 'float'>, {'WELLNESS - HEALTHY LIVING - IMPACT': np.float64(0.06436845368632428)})})\n"
     ]
    }
   ],
   "execution_count": 1053
  },
  {
   "metadata": {
    "ExecuteTime": {
     "end_time": "2025-01-24T15:16:45.949440Z",
     "start_time": "2025-01-24T15:16:45.743721Z"
    }
   },
   "cell_type": "code",
   "source": [
    "import networkx as nx\n",
    "import matplotlib.pyplot as plt\n",
    "\n",
    "plt.figure(1, figsize=(10, 10))\n",
    "G = nx.Graph()\n",
    "G.clear()\n",
    "\n",
    "for keyword, associations in keyword_cluster_association.items():\n",
    "    G.add_node(keyword, type='keyword')\n",
    "    for cluster_name in set(dominant_categories):\n",
    "        score = associations.get(cluster_name)\n",
    "        if score is not None and score > 0.05:\n",
    "            G.add_edge(keyword, cluster_name, weight=score)\n",
    "\n",
    "\n",
    "for cluster_name in set(dominant_categories):\n",
    "    G.add_node(cluster_name, type='cluster')\n",
    "\n",
    "num_clusters = len(set(dominant_categories))\n",
    "x_start = -10\n",
    "x_end = 100\n",
    "x_positions = np.linspace(x_start, x_end, num_clusters)\n",
    "y_positions = [20 + 2*i if i%2 == 0 else 2*i for i in range(num_clusters)]\n",
    "\n",
    "cluster_positions = {\n",
    "    cluster_name: (x, y)\n",
    "    for cluster_name, x, y in zip(set(dominant_categories), x_positions, y_positions)\n",
    "}\n",
    "\n",
    "fixed_positions = cluster_positions\n",
    "\n",
    "fixed_nodes = list(cluster_positions.keys())\n",
    "\n",
    "\n",
    "pos = nx.spring_layout(G, k=5, iterations=300, scale=10, pos=fixed_positions, fixed=fixed_nodes)\n",
    "keyword_nodes = [node for node, data in G.nodes(data=True) if data['type'] == 'keyword']\n",
    "cluster_nodes = [node for node, data in G.nodes(data=True) if data['type'] == 'cluster']\n",
    "\n",
    "nx.draw_networkx_nodes(G, pos, nodelist=keyword_nodes, node_color='lightblue', node_size=500)\n",
    "nx.draw_networkx_nodes(G, pos, nodelist=cluster_nodes, node_color='lightgreen', node_size=10000)\n",
    "nx.draw_networkx_edges(G, pos, width=[d[\"weight\"] * 10 for u, v, d in G.edges(data=True)])\n",
    "nx.draw_networkx_labels(G, pos, font_size=10)\n",
    "\n",
    "plt.title('Keyword-Cluster Network Graph (Optimized)')\n",
    "plt.axis('off')\n",
    "plt.show()"
   ],
   "id": "607d5c3a7e753221",
   "outputs": [
    {
     "data": {
      "text/plain": [
       "<Figure size 1000x1000 with 1 Axes>"
      ],
      "image/png": "[encoded data removed]"
     },
     "metadata": {},
     "output_type": "display_data"
    }
   ],
   "execution_count": 1088
  },
  {
   "metadata": {},
   "cell_type": "markdown",
   "source": "## Visualize Category Clusterization",
   "id": "158e5c7d00dcca1"
  },
  {
   "metadata": {
    "ExecuteTime": {
     "end_time": "2025-01-24T14:13:15.854284Z",
     "start_time": "2025-01-24T14:13:15.840173Z"
    }
   },
   "cell_type": "code",
   "source": [
    "import plotly.graph_objects as go\n",
    "\n",
    "size_scale_factor = 30\n",
    "marker_sizes = np.array(category_dominance_scores) * size_scale_factor\n",
    "\n",
    "fig = go.Figure(\n",
    "    data=[go.Scatter3d(\n",
    "        x=reduced_data[:, 0],\n",
    "        y=reduced_data[:, 1],\n",
    "        z=reduced_data[:, 2],\n",
    "        mode='markers',\n",
    "        marker=dict(\n",
    "            size=marker_sizes,\n",
    "            color=kmeans_results.labels_,\n",
    "            colorscale='Rainbow',\n",
    "            symbol='circle',\n",
    "        ),\n",
    "        text=category_names,\n",
    "        textposition='top center',\n",
    "    )],\n",
    "    layout=go.Layout(\n",
    "        width=1000,\n",
    "        height=1200,\n",
    "        scene=dict(\n",
    "            xaxis=dict(\n",
    "                showbackground=False,\n",
    "                showgrid=True,\n",
    "                gridcolor='#ddd',\n",
    "                zerolinecolor='black',\n",
    "            ),\n",
    "            yaxis=dict(\n",
    "                showbackground=False,\n",
    "                showgrid=True,\n",
    "                gridcolor='#ddd',\n",
    "                zerolinecolor='black',\n",
    "            ),\n",
    "            zaxis=dict(\n",
    "                showbackground=False,\n",
    "                showgrid=True,\n",
    "                gridcolor='#ddd',\n",
    "                zerolinecolor='black',\n",
    "            ),\n",
    "            xaxis_title='t-SNE Dimension 1',\n",
    "            yaxis_title='t-SNE Dimension 2',\n",
    "            zaxis_title='t-SNE Dimension 3',\n",
    "        ),\n",
    "        title='K-Means Clustering Visualization with t-SNE'\n",
    "    ),\n",
    ")\n",
    "\n",
    "\n",
    "fig.update_traces(mode='markers+text')\n",
    "\n",
    "fig.show()"
   ],
   "id": "91675bac39315d3",
   "outputs": [
    {
     "data": {
      "application/vnd.plotly.v1+json": {
       "data": [
        {
         "marker": {
          "color": [
           0,
           0,
           1,
           3,
           3,
           1,
           0,
           0,
           3,
           3,
           0,
           0,
           3,
           2,
           3,
           3,
           3,
           2,
           3,
           1,
           1,
           3,
           3,
           3,
           1,
           0,
           3,
           0,
           0,
           0,
           2,
           2,
           0,
           1,
           2,
           1,
           3,
           0,
           3,
           0,
           1,
           1
          ],
          "colorscale": [
           [
            0.0,
            "rgb(150,0,90)"
           ],
           [
            0.125,
            "rgb(0,0,200)"
           ],
           [
            0.25,
            "rgb(0,25,255)"
           ],
           [
            0.375,
            "rgb(0,152,255)"
           ],
           [
            0.5,
            "rgb(44,255,150)"
           ],
           [
            0.625,
            "rgb(151,255,0)"
           ],
           [
            0.75,
            "rgb(255,234,0)"
           ],
           [
            0.875,
            "rgb(255,111,0)"
           ],
           [
            1.0,
            "rgb(255,0,0)"
           ]
          ],
          "size": [
           13.766938001838415,
           14.026085270459145,
           12.996493872883459,
           14.946952605446233,
           10.573556603794453,
           13.046543929787296,
           10.691792170495303,
           12.346257948292852,
           9.8229791406773,
           11.141783775413488,
           18.46198326810462,
           12.162813348071385,
           15.830000415518668,
           17.32258232821432,
           13.708914022970383,
           11.960213128996822,
           16.556253655643978,
           15.162983908872894,
           16.213605194759303,
           11.517655549817395,
           13.492098503504243,
           12.977546282933377,
           15.921426441441383,
           14.561934340742384,
           21.28135741662044,
           12.650835200892345,
           11.45080302130528,
           12.49385817783324,
           12.435446053134969,
           12.337857988378003,
           16.18245309106663,
           14.829795902920326,
           12.15602678269297,
           14.830908620575011,
           17.46479504022741,
           13.64006554916893,
           8.339439469180945,
           14.44710336528971,
           18.401516480707837,
           12.741787343279878,
           15.39955847336524,
           13.47337205245075
          ],
          "symbol": "circle"
         },
         "mode": "markers+text",
         "text": [
          "ARTS",
          "ARTS & CULTURE",
          "BLACK VOICES",
          "BUSINESS",
          "COLLEGE",
          "COMEDY",
          "CRIME",
          "CULTURE & ARTS",
          "DIVORCE",
          "EDUCATION",
          "ENTERTAINMENT",
          "ENVIRONMENT",
          "FIFTY",
          "FOOD & DRINK",
          "GOOD NEWS",
          "GREEN",
          "HEALTHY LIVING",
          "HOME & LIVING",
          "IMPACT",
          "LATINO VOICES",
          "MEDIA",
          "MONEY",
          "PARENTING",
          "PARENTS",
          "POLITICS",
          "QUEER VOICES",
          "RELIGION",
          "SCIENCE",
          "SPORTS",
          "STYLE",
          "STYLE & BEAUTY",
          "TASTE",
          "TECH",
          "THE WORLDPOST",
          "TRAVEL",
          "U.S. NEWS",
          "WEDDINGS",
          "WEIRD NEWS",
          "WELLNESS",
          "WOMEN",
          "WORLD NEWS",
          "WORLDPOST"
         ],
         "textposition": "top center",
         "x": [
          -33.47443771362305,
          -91.7735824584961,
          20.41775131225586,
          8.736532211303711,
          -119.41633605957031,
          106.54383087158203,
          -134.15377807617188,
          60.817649841308594,
          21.58333969116211,
          -68.00596618652344,
          79.41368103027344,
          25.845121383666992,
          -28.241008758544922,
          7.418452739715576,
          -31.532398223876953,
          0.7160174250602722,
          -34.00196075439453,
          93.94972229003906,
          -91.15088653564453,
          -24.595991134643555,
          -99.88600158691406,
          13.232383728027344,
          -27.067838668823242,
          -51.118446350097656,
          81.92700958251953,
          -79.79381561279297,
          -110.05046081542969,
          34.528228759765625,
          1.244803786277771,
          98.99359130859375,
          43.46480178833008,
          -27.74203872680664,
          -3.0444788932800293,
          60.9636344909668,
          60.806270599365234,
          -42.31431579589844,
          80.16339111328125,
          -71.16226959228516,
          105.97837829589844,
          -48.787261962890625,
          117.51646423339844,
          57.212554931640625
         ],
         "y": [
          121.05601501464844,
          82.1838150024414,
          -16.209842681884766,
          124.21237182617188,
          -29.891700744628906,
          76.512939453125,
          -11.473127365112305,
          -128.52984619140625,
          65.06593322753906,
          -32.68647384643555,
          12.523309707641602,
          -25.776493072509766,
          32.376487731933594,
          -86.1458969116211,
          -13.23770809173584,
          -63.943458557128906,
          73.44434356689453,
          107.7652816772461,
          43.28717803955078,
          70.66940307617188,
          -44.401824951171875,
          -81.00379943847656,
          9.97775650024414,
          -107.8133316040039,
          54.92161560058594,
          114.98685455322266,
          -89.84322357177734,
          70.80764770507812,
          -1.7658089399337769,
          -83.57264709472656,
          127.24791717529297,
          -131.3432159423828,
          73.35629272460938,
          -35.348960876464844,
          -15.289510726928711,
          -1.139333963394165,
          -78.28308868408203,
          26.142616271972656,
          -52.26119613647461,
          -46.385498046875,
          2.3320107460021973,
          27.09904670715332
         ],
         "z": [
          82.88467407226562,
          84.50592041015625,
          55.993141174316406,
          -1.7458902597427368,
          91.0766372680664,
          70.30384826660156,
          -16.10296058654785,
          -5.45440149307251,
          128.72946166992188,
          59.490577697753906,
          67.45173645019531,
          169.2799530029297,
          73.56941223144531,
          31.33928680419922,
          -121.50823211669922,
          123.21806335449219,
          24.34642219543457,
          -16.402549743652344,
          11.743273735046387,
          -124.3923110961914,
          -91.81805419921875,
          -81.58555603027344,
          4.613162517547607,
          -49.924407958984375,
          -84.04462432861328,
          -27.861906051635742,
          13.85385799407959,
          44.994388580322266,
          -59.5478630065918,
          -73.75090026855469,
          -81.87260437011719,
          39.85839080810547,
          -45.37422561645508,
          -22.287078857421875,
          -111.04266357421875,
          137.0990447998047,
          100.42416381835938,
          -67.45833587646484,
          33.175750732421875,
          -17.063365936279297,
          -28.914966583251953,
          -13.321761131286621
         ],
         "type": "scatter3d"
        }
       ],
       "layout": {
        "height": 1200,
        "scene": {
         "xaxis": {
          "gridcolor": "#ddd",
          "showbackground": false,
          "showgrid": true,
          "title": {
           "text": "t-SNE Dimension 1"
          },
          "zerolinecolor": "black"
         },
         "yaxis": {
          "gridcolor": "#ddd",
          "showbackground": false,
          "showgrid": true,
          "title": {
           "text": "t-SNE Dimension 2"
          },
          "zerolinecolor": "black"
         },
         "zaxis": {
          "gridcolor": "#ddd",
          "showbackground": false,
          "showgrid": true,
          "title": {
           "text": "t-SNE Dimension 3"
          },
          "zerolinecolor": "black"
         }
        },
        "title": {
         "text": "K-Means Clustering Visualization with t-SNE"
        },
        "width": 1000,
        "template": {
         "data": {
          "histogram2dcontour": [
           {
            "type": "histogram2dcontour",
            "colorbar": {
             "outlinewidth": 0,
             "ticks": ""
            },
            "colorscale": [
             [
              0.0,
              "#0d0887"
             ],
             [
              0.1111111111111111,
              "#46039f"
             ],
             [
              0.2222222222222222,
              "#7201a8"
             ],
             [
              0.3333333333333333,
              "#9c179e"
             ],
             [
              0.4444444444444444,
              "#bd3786"
             ],
             [
              0.5555555555555556,
              "#d8576b"
             ],
             [
              0.6666666666666666,
              "#ed7953"
             ],
             [
              0.7777777777777778,
              "#fb9f3a"
             ],
             [
              0.8888888888888888,
              "#fdca26"
             ],
             [
              1.0,
              "#f0f921"
             ]
            ]
           }
          ],
          "choropleth": [
           {
            "type": "choropleth",
            "colorbar": {
             "outlinewidth": 0,
             "ticks": ""
            }
           }
          ],
          "histogram2d": [
           {
            "type": "histogram2d",
            "colorbar": {
             "outlinewidth": 0,
             "ticks": ""
            },
            "colorscale": [
             [
              0.0,
              "#0d0887"
             ],
             [
              0.1111111111111111,
              "#46039f"
             ],
             [
              0.2222222222222222,
              "#7201a8"
             ],
             [
              0.3333333333333333,
              "#9c179e"
             ],
             [
              0.4444444444444444,
              "#bd3786"
             ],
             [
              0.5555555555555556,
              "#d8576b"
             ],
             [
              0.6666666666666666,
              "#ed7953"
             ],
             [
              0.7777777777777778,
              "#fb9f3a"
             ],
             [
              0.8888888888888888,
              "#fdca26"
             ],
             [
              1.0,
              "#f0f921"
             ]
            ]
           }
          ],
          "heatmap": [
           {
            "type": "heatmap",
            "colorbar": {
             "outlinewidth": 0,
             "ticks": ""
            },
            "colorscale": [
             [
              0.0,
              "#0d0887"
             ],
             [
              0.1111111111111111,
              "#46039f"
             ],
             [
              0.2222222222222222,
              "#7201a8"
             ],
             [
              0.3333333333333333,
              "#9c179e"
             ],
             [
              0.4444444444444444,
              "#bd3786"
             ],
             [
              0.5555555555555556,
              "#d8576b"
             ],
             [
              0.6666666666666666,
              "#ed7953"
             ],
             [
              0.7777777777777778,
              "#fb9f3a"
             ],
             [
              0.8888888888888888,
              "#fdca26"
             ],
             [
              1.0,
              "#f0f921"
             ]
            ]
           }
          ],
          "heatmapgl": [
           {
            "type": "heatmapgl",
            "colorbar": {
             "outlinewidth": 0,
             "ticks": ""
            },
            "colorscale": [
             [
              0.0,
              "#0d0887"
             ],
             [
              0.1111111111111111,
              "#46039f"
             ],
             [
              0.2222222222222222,
              "#7201a8"
             ],
             [
              0.3333333333333333,
              "#9c179e"
             ],
             [
              0.4444444444444444,
              "#bd3786"
             ],
             [
              0.5555555555555556,
              "#d8576b"
             ],
             [
              0.6666666666666666,
              "#ed7953"
             ],
             [
              0.7777777777777778,
              "#fb9f3a"
             ],
             [
              0.8888888888888888,
              "#fdca26"
             ],
             [
              1.0,
              "#f0f921"
             ]
            ]
           }
          ],
          "contourcarpet": [
           {
            "type": "contourcarpet",
            "colorbar": {
             "outlinewidth": 0,
             "ticks": ""
            }
           }
          ],
          "contour": [
           {
            "type": "contour",
            "colorbar": {
             "outlinewidth": 0,
             "ticks": ""
            },
            "colorscale": [
             [
              0.0,
              "#0d0887"
             ],
             [
              0.1111111111111111,
              "#46039f"
             ],
             [
              0.2222222222222222,
              "#7201a8"
             ],
             [
              0.3333333333333333,
              "#9c179e"
             ],
             [
              0.4444444444444444,
              "#bd3786"
             ],
             [
              0.5555555555555556,
              "#d8576b"
             ],
             [
              0.6666666666666666,
              "#ed7953"
             ],
             [
              0.7777777777777778,
              "#fb9f3a"
             ],
             [
              0.8888888888888888,
              "#fdca26"
             ],
             [
              1.0,
              "#f0f921"
             ]
            ]
           }
          ],
          "surface": [
           {
            "type": "surface",
            "colorbar": {
             "outlinewidth": 0,
             "ticks": ""
            },
            "colorscale": [
             [
              0.0,
              "#0d0887"
             ],
             [
              0.1111111111111111,
              "#46039f"
             ],
             [
              0.2222222222222222,
              "#7201a8"
             ],
             [
              0.3333333333333333,
              "#9c179e"
             ],
             [
              0.4444444444444444,
              "#bd3786"
             ],
             [
              0.5555555555555556,
              "#d8576b"
             ],
             [
              0.6666666666666666,
              "#ed7953"
             ],
             [
              0.7777777777777778,
              "#fb9f3a"
             ],
             [
              0.8888888888888888,
              "#fdca26"
             ],
             [
              1.0,
              "#f0f921"
             ]
            ]
           }
          ],
          "mesh3d": [
           {
            "type": "mesh3d",
            "colorbar": {
             "outlinewidth": 0,
             "ticks": ""
            }
           }
          ],
          "scatter": [
           {
            "fillpattern": {
             "fillmode": "overlay",
             "size": 10,
             "solidity": 0.2
            },
            "type": "scatter"
           }
          ],
          "parcoords": [
           {
            "type": "parcoords",
            "line": {
             "colorbar": {
              "outlinewidth": 0,
              "ticks": ""
             }
            }
           }
          ],
          "scatterpolargl": [
           {
            "type": "scatterpolargl",
            "marker": {
             "colorbar": {
              "outlinewidth": 0,
              "ticks": ""
             }
            }
           }
          ],
          "bar": [
           {
            "error_x": {
             "color": "#2a3f5f"
            },
            "error_y": {
             "color": "#2a3f5f"
            },
            "marker": {
             "line": {
              "color": "#E5ECF6",
              "width": 0.5
             },
             "pattern": {
              "fillmode": "overlay",
              "size": 10,
              "solidity": 0.2
             }
            },
            "type": "bar"
           }
          ],
          "scattergeo": [
           {
            "type": "scattergeo",
            "marker": {
             "colorbar": {
              "outlinewidth": 0,
              "ticks": ""
             }
            }
           }
          ],
          "scatterpolar": [
           {
            "type": "scatterpolar",
            "marker": {
             "colorbar": {
              "outlinewidth": 0,
              "ticks": ""
             }
            }
           }
          ],
          "histogram": [
           {
            "marker": {
             "pattern": {
              "fillmode": "overlay",
              "size": 10,
              "solidity": 0.2
             }
            },
            "type": "histogram"
           }
          ],
          "scattergl": [
           {
            "type": "scattergl",
            "marker": {
             "colorbar": {
              "outlinewidth": 0,
              "ticks": ""
             }
            }
           }
          ],
          "scatter3d": [
           {
            "type": "scatter3d",
            "line": {
             "colorbar": {
              "outlinewidth": 0,
              "ticks": ""
             }
            },
            "marker": {
             "colorbar": {
              "outlinewidth": 0,
              "ticks": ""
             }
            }
           }
          ],
          "scattermapbox": [
           {
            "type": "scattermapbox",
            "marker": {
             "colorbar": {
              "outlinewidth": 0,
              "ticks": ""
             }
            }
           }
          ],
          "scatterternary": [
           {
            "type": "scatterternary",
            "marker": {
             "colorbar": {
              "outlinewidth": 0,
              "ticks": ""
             }
            }
           }
          ],
          "scattercarpet": [
           {
            "type": "scattercarpet",
            "marker": {
             "colorbar": {
              "outlinewidth": 0,
              "ticks": ""
             }
            }
           }
          ],
          "carpet": [
           {
            "aaxis": {
             "endlinecolor": "#2a3f5f",
             "gridcolor": "white",
             "linecolor": "white",
             "minorgridcolor": "white",
             "startlinecolor": "#2a3f5f"
            },
            "baxis": {
             "endlinecolor": "#2a3f5f",
             "gridcolor": "white",
             "linecolor": "white",
             "minorgridcolor": "white",
             "startlinecolor": "#2a3f5f"
            },
            "type": "carpet"
           }
          ],
          "table": [
           {
            "cells": {
             "fill": {
              "color": "#EBF0F8"
             },
             "line": {
              "color": "white"
             }
            },
            "header": {
             "fill": {
              "color": "#C8D4E3"
             },
             "line": {
              "color": "white"
             }
            },
            "type": "table"
           }
          ],
          "barpolar": [
           {
            "marker": {
             "line": {
              "color": "#E5ECF6",
              "width": 0.5
             },
             "pattern": {
              "fillmode": "overlay",
              "size": 10,
              "solidity": 0.2
             }
            },
            "type": "barpolar"
           }
          ],
          "pie": [
           {
            "automargin": true,
            "type": "pie"
           }
          ]
         },
         "layout": {
          "autotypenumbers": "strict",
          "colorway": [
           "#636efa",
           "#EF553B",
           "#00cc96",
           "#ab63fa",
           "#FFA15A",
           "#19d3f3",
           "#FF6692",
           "#B6E880",
           "#FF97FF",
           "#FECB52"
          ],
          "font": {
           "color": "#2a3f5f"
          },
          "hovermode": "closest",
          "hoverlabel": {
           "align": "left"
          },
          "paper_bgcolor": "white",
          "plot_bgcolor": "#E5ECF6",
          "polar": {
           "bgcolor": "#E5ECF6",
           "angularaxis": {
            "gridcolor": "white",
            "linecolor": "white",
            "ticks": ""
           },
           "radialaxis": {
            "gridcolor": "white",
            "linecolor": "white",
            "ticks": ""
           }
          },
          "ternary": {
           "bgcolor": "#E5ECF6",
           "aaxis": {
            "gridcolor": "white",
            "linecolor": "white",
            "ticks": ""
           },
           "baxis": {
            "gridcolor": "white",
            "linecolor": "white",
            "ticks": ""
           },
           "caxis": {
            "gridcolor": "white",
            "linecolor": "white",
            "ticks": ""
           }
          },
          "coloraxis": {
           "colorbar": {
            "outlinewidth": 0,
            "ticks": ""
           }
          },
          "colorscale": {
           "sequential": [
            [
             0.0,
             "#0d0887"
            ],
            [
             0.1111111111111111,
             "#46039f"
            ],
            [
             0.2222222222222222,
             "#7201a8"
            ],
            [
             0.3333333333333333,
             "#9c179e"
            ],
            [
             0.4444444444444444,
             "#bd3786"
            ],
            [
             0.5555555555555556,
             "#d8576b"
            ],
            [
             0.6666666666666666,
             "#ed7953"
            ],
            [
             0.7777777777777778,
             "#fb9f3a"
            ],
            [
             0.8888888888888888,
             "#fdca26"
            ],
            [
             1.0,
             "#f0f921"
            ]
           ],
           "sequentialminus": [
            [
             0.0,
             "#0d0887"
            ],
            [
             0.1111111111111111,
             "#46039f"
            ],
            [
             0.2222222222222222,
             "#7201a8"
            ],
            [
             0.3333333333333333,
             "#9c179e"
            ],
            [
             0.4444444444444444,
             "#bd3786"
            ],
            [
             0.5555555555555556,
             "#d8576b"
            ],
            [
             0.6666666666666666,
             "#ed7953"
            ],
            [
             0.7777777777777778,
             "#fb9f3a"
            ],
            [
             0.8888888888888888,
             "#fdca26"
            ],
            [
             1.0,
             "#f0f921"
            ]
           ],
           "diverging": [
            [
             0,
             "#8e0152"
            ],
            [
             0.1,
             "#c51b7d"
            ],
            [
             0.2,
             "#de77ae"
            ],
            [
             0.3,
             "#f1b6da"
            ],
            [
             0.4,
             "#fde0ef"
            ],
            [
             0.5,
             "#f7f7f7"
            ],
            [
             0.6,
             "#e6f5d0"
            ],
            [
             0.7,
             "#b8e186"
            ],
            [
             0.8,
             "#7fbc41"
            ],
            [
             0.9,
             "#4d9221"
            ],
            [
             1,
             "#276419"
            ]
           ]
          },
          "xaxis": {
           "gridcolor": "white",
           "linecolor": "white",
           "ticks": "",
           "title": {
            "standoff": 15
           },
           "zerolinecolor": "white",
           "automargin": true,
           "zerolinewidth": 2
          },
          "yaxis": {
           "gridcolor": "white",
           "linecolor": "white",
           "ticks": "",
           "title": {
            "standoff": 15
           },
           "zerolinecolor": "white",
           "automargin": true,
           "zerolinewidth": 2
          },
          "scene": {
           "xaxis": {
            "backgroundcolor": "#E5ECF6",
            "gridcolor": "white",
            "linecolor": "white",
            "showbackground": true,
            "ticks": "",
            "zerolinecolor": "white",
            "gridwidth": 2
           },
           "yaxis": {
            "backgroundcolor": "#E5ECF6",
            "gridcolor": "white",
            "linecolor": "white",
            "showbackground": true,
            "ticks": "",
            "zerolinecolor": "white",
            "gridwidth": 2
           },
           "zaxis": {
            "backgroundcolor": "#E5ECF6",
            "gridcolor": "white",
            "linecolor": "white",
            "showbackground": true,
            "ticks": "",
            "zerolinecolor": "white",
            "gridwidth": 2
           }
          },
          "shapedefaults": {
           "line": {
            "color": "#2a3f5f"
           }
          },
          "annotationdefaults": {
           "arrowcolor": "#2a3f5f",
           "arrowhead": 0,
           "arrowwidth": 1
          },
          "geo": {
           "bgcolor": "white",
           "landcolor": "#E5ECF6",
           "subunitcolor": "white",
           "showland": true,
           "showlakes": true,
           "lakecolor": "white"
          },
          "title": {
           "x": 0.05
          },
          "mapbox": {
           "style": "light"
          }
         }
        }
       },
       "config": {
        "plotlyServerURL": "https://plot.ly"
       }
      },
      "text/html": [
       "<div>                            <div id=\"251785c7-f955-4f4d-b119-5e687d94a9c4\" class=\"plotly-graph-div\" style=\"height:1200px; width:1000px;\"></div>            <script type=\"text/javascript\">                require([\"plotly\"], function(Plotly) {                    window.PLOTLYENV=window.PLOTLYENV || {};                                    if (document.getElementById(\"251785c7-f955-4f4d-b119-5e687d94a9c4\")) {                    Plotly.newPlot(                        \"251785c7-f955-4f4d-b119-5e687d94a9c4\",                        [{\"marker\":{\"color\":[0,0,1,3,3,1,0,0,3,3,0,0,3,2,3,3,3,2,3,1,1,3,3,3,1,0,3,0,0,0,2,2,0,1,2,1,3,0,3,0,1,1],\"colorscale\":[[0.0,\"rgb(150,0,90)\"],[0.125,\"rgb(0,0,200)\"],[0.25,\"rgb(0,25,255)\"],[0.375,\"rgb(0,152,255)\"],[0.5,\"rgb(44,255,150)\"],[0.625,\"rgb(151,255,0)\"],[0.75,\"rgb(255,234,0)\"],[0.875,\"rgb(255,111,0)\"],[1.0,\"rgb(255,0,0)\"]],\"size\":[13.766938001838415,14.026085270459145,12.996493872883459,14.946952605446233,10.573556603794453,13.046543929787296,10.691792170495303,12.346257948292852,9.8229791406773,11.141783775413488,18.46198326810462,12.162813348071385,15.830000415518668,17.32258232821432,13.708914022970383,11.960213128996822,16.556253655643978,15.162983908872894,16.213605194759303,11.517655549817395,13.492098503504243,12.977546282933377,15.921426441441383,14.561934340742384,21.28135741662044,12.650835200892345,11.45080302130528,12.49385817783324,12.435446053134969,12.337857988378003,16.18245309106663,14.829795902920326,12.15602678269297,14.830908620575011,17.46479504022741,13.64006554916893,8.339439469180945,14.44710336528971,18.401516480707837,12.741787343279878,15.39955847336524,13.47337205245075],\"symbol\":\"circle\"},\"mode\":\"markers+text\",\"text\":[\"ARTS\",\"ARTS & CULTURE\",\"BLACK VOICES\",\"BUSINESS\",\"COLLEGE\",\"COMEDY\",\"CRIME\",\"CULTURE & ARTS\",\"DIVORCE\",\"EDUCATION\",\"ENTERTAINMENT\",\"ENVIRONMENT\",\"FIFTY\",\"FOOD & DRINK\",\"GOOD NEWS\",\"GREEN\",\"HEALTHY LIVING\",\"HOME & LIVING\",\"IMPACT\",\"LATINO VOICES\",\"MEDIA\",\"MONEY\",\"PARENTING\",\"PARENTS\",\"POLITICS\",\"QUEER VOICES\",\"RELIGION\",\"SCIENCE\",\"SPORTS\",\"STYLE\",\"STYLE & BEAUTY\",\"TASTE\",\"TECH\",\"THE WORLDPOST\",\"TRAVEL\",\"U.S. NEWS\",\"WEDDINGS\",\"WEIRD NEWS\",\"WELLNESS\",\"WOMEN\",\"WORLD NEWS\",\"WORLDPOST\"],\"textposition\":\"top center\",\"x\":[-33.47443771362305,-91.7735824584961,20.41775131225586,8.736532211303711,-119.41633605957031,106.54383087158203,-134.15377807617188,60.817649841308594,21.58333969116211,-68.00596618652344,79.41368103027344,25.845121383666992,-28.241008758544922,7.418452739715576,-31.532398223876953,0.7160174250602722,-34.00196075439453,93.94972229003906,-91.15088653564453,-24.595991134643555,-99.88600158691406,13.232383728027344,-27.067838668823242,-51.118446350097656,81.92700958251953,-79.79381561279297,-110.05046081542969,34.528228759765625,1.244803786277771,98.99359130859375,43.46480178833008,-27.74203872680664,-3.0444788932800293,60.9636344909668,60.806270599365234,-42.31431579589844,80.16339111328125,-71.16226959228516,105.97837829589844,-48.787261962890625,117.51646423339844,57.212554931640625],\"y\":[121.05601501464844,82.1838150024414,-16.209842681884766,124.21237182617188,-29.891700744628906,76.512939453125,-11.473127365112305,-128.52984619140625,65.06593322753906,-32.68647384643555,12.523309707641602,-25.776493072509766,32.376487731933594,-86.1458969116211,-13.23770809173584,-63.943458557128906,73.44434356689453,107.7652816772461,43.28717803955078,70.66940307617188,-44.401824951171875,-81.00379943847656,9.97775650024414,-107.8133316040039,54.92161560058594,114.98685455322266,-89.84322357177734,70.80764770507812,-1.7658089399337769,-83.57264709472656,127.24791717529297,-131.3432159423828,73.35629272460938,-35.348960876464844,-15.289510726928711,-1.139333963394165,-78.28308868408203,26.142616271972656,-52.26119613647461,-46.385498046875,2.3320107460021973,27.09904670715332],\"z\":[82.88467407226562,84.50592041015625,55.993141174316406,-1.7458902597427368,91.0766372680664,70.30384826660156,-16.10296058654785,-5.45440149307251,128.72946166992188,59.490577697753906,67.45173645019531,169.2799530029297,73.56941223144531,31.33928680419922,-121.50823211669922,123.21806335449219,24.34642219543457,-16.402549743652344,11.743273735046387,-124.3923110961914,-91.81805419921875,-81.58555603027344,4.613162517547607,-49.924407958984375,-84.04462432861328,-27.861906051635742,13.85385799407959,44.994388580322266,-59.5478630065918,-73.75090026855469,-81.87260437011719,39.85839080810547,-45.37422561645508,-22.287078857421875,-111.04266357421875,137.0990447998047,100.42416381835938,-67.45833587646484,33.175750732421875,-17.063365936279297,-28.914966583251953,-13.321761131286621],\"type\":\"scatter3d\"}],                        {\"height\":1200,\"scene\":{\"xaxis\":{\"gridcolor\":\"#ddd\",\"showbackground\":false,\"showgrid\":true,\"title\":{\"text\":\"t-SNE Dimension 1\"},\"zerolinecolor\":\"black\"},\"yaxis\":{\"gridcolor\":\"#ddd\",\"showbackground\":false,\"showgrid\":true,\"title\":{\"text\":\"t-SNE Dimension 2\"},\"zerolinecolor\":\"black\"},\"zaxis\":{\"gridcolor\":\"#ddd\",\"showbackground\":false,\"showgrid\":true,\"title\":{\"text\":\"t-SNE Dimension 3\"},\"zerolinecolor\":\"black\"}},\"title\":{\"text\":\"K-Means Clustering Visualization with t-SNE\"},\"width\":1000,\"template\":{\"data\":{\"histogram2dcontour\":[{\"type\":\"histogram2dcontour\",\"colorbar\":{\"outlinewidth\":0,\"ticks\":\"\"},\"colorscale\":[[0.0,\"#0d0887\"],[0.1111111111111111,\"#46039f\"],[0.2222222222222222,\"#7201a8\"],[0.3333333333333333,\"#9c179e\"],[0.4444444444444444,\"#bd3786\"],[0.5555555555555556,\"#d8576b\"],[0.6666666666666666,\"#ed7953\"],[0.7777777777777778,\"#fb9f3a\"],[0.8888888888888888,\"#fdca26\"],[1.0,\"#f0f921\"]]}],\"choropleth\":[{\"type\":\"choropleth\",\"colorbar\":{\"outlinewidth\":0,\"ticks\":\"\"}}],\"histogram2d\":[{\"type\":\"histogram2d\",\"colorbar\":{\"outlinewidth\":0,\"ticks\":\"\"},\"colorscale\":[[0.0,\"#0d0887\"],[0.1111111111111111,\"#46039f\"],[0.2222222222222222,\"#7201a8\"],[0.3333333333333333,\"#9c179e\"],[0.4444444444444444,\"#bd3786\"],[0.5555555555555556,\"#d8576b\"],[0.6666666666666666,\"#ed7953\"],[0.7777777777777778,\"#fb9f3a\"],[0.8888888888888888,\"#fdca26\"],[1.0,\"#f0f921\"]]}],\"heatmap\":[{\"type\":\"heatmap\",\"colorbar\":{\"outlinewidth\":0,\"ticks\":\"\"},\"colorscale\":[[0.0,\"#0d0887\"],[0.1111111111111111,\"#46039f\"],[0.2222222222222222,\"#7201a8\"],[0.3333333333333333,\"#9c179e\"],[0.4444444444444444,\"#bd3786\"],[0.5555555555555556,\"#d8576b\"],[0.6666666666666666,\"#ed7953\"],[0.7777777777777778,\"#fb9f3a\"],[0.8888888888888888,\"#fdca26\"],[1.0,\"#f0f921\"]]}],\"heatmapgl\":[{\"type\":\"heatmapgl\",\"colorbar\":{\"outlinewidth\":0,\"ticks\":\"\"},\"colorscale\":[[0.0,\"#0d0887\"],[0.1111111111111111,\"#46039f\"],[0.2222222222222222,\"#7201a8\"],[0.3333333333333333,\"#9c179e\"],[0.4444444444444444,\"#bd3786\"],[0.5555555555555556,\"#d8576b\"],[0.6666666666666666,\"#ed7953\"],[0.7777777777777778,\"#fb9f3a\"],[0.8888888888888888,\"#fdca26\"],[1.0,\"#f0f921\"]]}],\"contourcarpet\":[{\"type\":\"contourcarpet\",\"colorbar\":{\"outlinewidth\":0,\"ticks\":\"\"}}],\"contour\":[{\"type\":\"contour\",\"colorbar\":{\"outlinewidth\":0,\"ticks\":\"\"},\"colorscale\":[[0.0,\"#0d0887\"],[0.1111111111111111,\"#46039f\"],[0.2222222222222222,\"#7201a8\"],[0.3333333333333333,\"#9c179e\"],[0.4444444444444444,\"#bd3786\"],[0.5555555555555556,\"#d8576b\"],[0.6666666666666666,\"#ed7953\"],[0.7777777777777778,\"#fb9f3a\"],[0.8888888888888888,\"#fdca26\"],[1.0,\"#f0f921\"]]}],\"surface\":[{\"type\":\"surface\",\"colorbar\":{\"outlinewidth\":0,\"ticks\":\"\"},\"colorscale\":[[0.0,\"#0d0887\"],[0.1111111111111111,\"#46039f\"],[0.2222222222222222,\"#7201a8\"],[0.3333333333333333,\"#9c179e\"],[0.4444444444444444,\"#bd3786\"],[0.5555555555555556,\"#d8576b\"],[0.6666666666666666,\"#ed7953\"],[0.7777777777777778,\"#fb9f3a\"],[0.8888888888888888,\"#fdca26\"],[1.0,\"#f0f921\"]]}],\"mesh3d\":[{\"type\":\"mesh3d\",\"colorbar\":{\"outlinewidth\":0,\"ticks\":\"\"}}],\"scatter\":[{\"fillpattern\":{\"fillmode\":\"overlay\",\"size\":10,\"solidity\":0.2},\"type\":\"scatter\"}],\"parcoords\":[{\"type\":\"parcoords\",\"line\":{\"colorbar\":{\"outlinewidth\":0,\"ticks\":\"\"}}}],\"scatterpolargl\":[{\"type\":\"scatterpolargl\",\"marker\":{\"colorbar\":{\"outlinewidth\":0,\"ticks\":\"\"}}}],\"bar\":[{\"error_x\":{\"color\":\"#2a3f5f\"},\"error_y\":{\"color\":\"#2a3f5f\"},\"marker\":{\"line\":{\"color\":\"#E5ECF6\",\"width\":0.5},\"pattern\":{\"fillmode\":\"overlay\",\"size\":10,\"solidity\":0.2}},\"type\":\"bar\"}],\"scattergeo\":[{\"type\":\"scattergeo\",\"marker\":{\"colorbar\":{\"outlinewidth\":0,\"ticks\":\"\"}}}],\"scatterpolar\":[{\"type\":\"scatterpolar\",\"marker\":{\"colorbar\":{\"outlinewidth\":0,\"ticks\":\"\"}}}],\"histogram\":[{\"marker\":{\"pattern\":{\"fillmode\":\"overlay\",\"size\":10,\"solidity\":0.2}},\"type\":\"histogram\"}],\"scattergl\":[{\"type\":\"scattergl\",\"marker\":{\"colorbar\":{\"outlinewidth\":0,\"ticks\":\"\"}}}],\"scatter3d\":[{\"type\":\"scatter3d\",\"line\":{\"colorbar\":{\"outlinewidth\":0,\"ticks\":\"\"}},\"marker\":{\"colorbar\":{\"outlinewidth\":0,\"ticks\":\"\"}}}],\"scattermapbox\":[{\"type\":\"scattermapbox\",\"marker\":{\"colorbar\":{\"outlinewidth\":0,\"ticks\":\"\"}}}],\"scatterternary\":[{\"type\":\"scatterternary\",\"marker\":{\"colorbar\":{\"outlinewidth\":0,\"ticks\":\"\"}}}],\"scattercarpet\":[{\"type\":\"scattercarpet\",\"marker\":{\"colorbar\":{\"outlinewidth\":0,\"ticks\":\"\"}}}],\"carpet\":[{\"aaxis\":{\"endlinecolor\":\"#2a3f5f\",\"gridcolor\":\"white\",\"linecolor\":\"white\",\"minorgridcolor\":\"white\",\"startlinecolor\":\"#2a3f5f\"},\"baxis\":{\"endlinecolor\":\"#2a3f5f\",\"gridcolor\":\"white\",\"linecolor\":\"white\",\"minorgridcolor\":\"white\",\"startlinecolor\":\"#2a3f5f\"},\"type\":\"carpet\"}],\"table\":[{\"cells\":{\"fill\":{\"color\":\"#EBF0F8\"},\"line\":{\"color\":\"white\"}},\"header\":{\"fill\":{\"color\":\"#C8D4E3\"},\"line\":{\"color\":\"white\"}},\"type\":\"table\"}],\"barpolar\":[{\"marker\":{\"line\":{\"color\":\"#E5ECF6\",\"width\":0.5},\"pattern\":{\"fillmode\":\"overlay\",\"size\":10,\"solidity\":0.2}},\"type\":\"barpolar\"}],\"pie\":[{\"automargin\":true,\"type\":\"pie\"}]},\"layout\":{\"autotypenumbers\":\"strict\",\"colorway\":[\"#636efa\",\"#EF553B\",\"#00cc96\",\"#ab63fa\",\"#FFA15A\",\"#19d3f3\",\"#FF6692\",\"#B6E880\",\"#FF97FF\",\"#FECB52\"],\"font\":{\"color\":\"#2a3f5f\"},\"hovermode\":\"closest\",\"hoverlabel\":{\"align\":\"left\"},\"paper_bgcolor\":\"white\",\"plot_bgcolor\":\"#E5ECF6\",\"polar\":{\"bgcolor\":\"#E5ECF6\",\"angularaxis\":{\"gridcolor\":\"white\",\"linecolor\":\"white\",\"ticks\":\"\"},\"radialaxis\":{\"gridcolor\":\"white\",\"linecolor\":\"white\",\"ticks\":\"\"}},\"ternary\":{\"bgcolor\":\"#E5ECF6\",\"aaxis\":{\"gridcolor\":\"white\",\"linecolor\":\"white\",\"ticks\":\"\"},\"baxis\":{\"gridcolor\":\"white\",\"linecolor\":\"white\",\"ticks\":\"\"},\"caxis\":{\"gridcolor\":\"white\",\"linecolor\":\"white\",\"ticks\":\"\"}},\"coloraxis\":{\"colorbar\":{\"outlinewidth\":0,\"ticks\":\"\"}},\"colorscale\":{\"sequential\":[[0.0,\"#0d0887\"],[0.1111111111111111,\"#46039f\"],[0.2222222222222222,\"#7201a8\"],[0.3333333333333333,\"#9c179e\"],[0.4444444444444444,\"#bd3786\"],[0.5555555555555556,\"#d8576b\"],[0.6666666666666666,\"#ed7953\"],[0.7777777777777778,\"#fb9f3a\"],[0.8888888888888888,\"#fdca26\"],[1.0,\"#f0f921\"]],\"sequentialminus\":[[0.0,\"#0d0887\"],[0.1111111111111111,\"#46039f\"],[0.2222222222222222,\"#7201a8\"],[0.3333333333333333,\"#9c179e\"],[0.4444444444444444,\"#bd3786\"],[0.5555555555555556,\"#d8576b\"],[0.6666666666666666,\"#ed7953\"],[0.7777777777777778,\"#fb9f3a\"],[0.8888888888888888,\"#fdca26\"],[1.0,\"#f0f921\"]],\"diverging\":[[0,\"#8e0152\"],[0.1,\"#c51b7d\"],[0.2,\"#de77ae\"],[0.3,\"#f1b6da\"],[0.4,\"#fde0ef\"],[0.5,\"#f7f7f7\"],[0.6,\"#e6f5d0\"],[0.7,\"#b8e186\"],[0.8,\"#7fbc41\"],[0.9,\"#4d9221\"],[1,\"#276419\"]]},\"xaxis\":{\"gridcolor\":\"white\",\"linecolor\":\"white\",\"ticks\":\"\",\"title\":{\"standoff\":15},\"zerolinecolor\":\"white\",\"automargin\":true,\"zerolinewidth\":2},\"yaxis\":{\"gridcolor\":\"white\",\"linecolor\":\"white\",\"ticks\":\"\",\"title\":{\"standoff\":15},\"zerolinecolor\":\"white\",\"automargin\":true,\"zerolinewidth\":2},\"scene\":{\"xaxis\":{\"backgroundcolor\":\"#E5ECF6\",\"gridcolor\":\"white\",\"linecolor\":\"white\",\"showbackground\":true,\"ticks\":\"\",\"zerolinecolor\":\"white\",\"gridwidth\":2},\"yaxis\":{\"backgroundcolor\":\"#E5ECF6\",\"gridcolor\":\"white\",\"linecolor\":\"white\",\"showbackground\":true,\"ticks\":\"\",\"zerolinecolor\":\"white\",\"gridwidth\":2},\"zaxis\":{\"backgroundcolor\":\"#E5ECF6\",\"gridcolor\":\"white\",\"linecolor\":\"white\",\"showbackground\":true,\"ticks\":\"\",\"zerolinecolor\":\"white\",\"gridwidth\":2}},\"shapedefaults\":{\"line\":{\"color\":\"#2a3f5f\"}},\"annotationdefaults\":{\"arrowcolor\":\"#2a3f5f\",\"arrowhead\":0,\"arrowwidth\":1},\"geo\":{\"bgcolor\":\"white\",\"landcolor\":\"#E5ECF6\",\"subunitcolor\":\"white\",\"showland\":true,\"showlakes\":true,\"lakecolor\":\"white\"},\"title\":{\"x\":0.05},\"mapbox\":{\"style\":\"light\"}}}},                        {\"responsive\": true}                    ).then(function(){\n",
       "                            \n",
       "var gd = document.getElementById('251785c7-f955-4f4d-b119-5e687d94a9c4');\n",
       "var x = new MutationObserver(function (mutations, observer) {{\n",
       "        var display = window.getComputedStyle(gd).display;\n",
       "        if (!display || display === 'none') {{\n",
       "            console.log([gd, 'removed!']);\n",
       "            Plotly.purge(gd);\n",
       "            observer.disconnect();\n",
       "        }}\n",
       "}});\n",
       "\n",
       "// Listen for the removal of the full notebook cells\n",
       "var notebookContainer = gd.closest('#notebook-container');\n",
       "if (notebookContainer) {{\n",
       "    x.observe(notebookContainer, {childList: true});\n",
       "}}\n",
       "\n",
       "// Listen for the clearing of the current output cell\n",
       "var outputEl = gd.closest('.output');\n",
       "if (outputEl) {{\n",
       "    x.observe(outputEl, {childList: true});\n",
       "}}\n",
       "\n",
       "                        })                };                });            </script>        </div>"
      ]
     },
     "metadata": {},
     "output_type": "display_data"
    }
   ],
   "execution_count": 1036
  },
  {
   "metadata": {
    "ExecuteTime": {
     "end_time": "2025-01-24T13:43:28.910239Z",
     "start_time": "2025-01-24T13:43:28.877165Z"
    }
   },
   "cell_type": "code",
   "source": [
    "def map_to_cluster(category):\n",
    "    sub_cat_idx = articles_by_category[articles_by_category['category'] == category].index[0]\n",
    "    cluster_idx = kmeans_results.labels_[sub_cat_idx]\n",
    "    return dominant_categories[cluster_idx]\n",
    "\n",
    "y_train['cluster_category'] = y_train['category'].map(map_to_cluster).astype(str)\n",
    "y_test['cluster_category'] = y_test['category'].map(map_to_cluster).astype(str)"
   ],
   "id": "fd657a1e2bc8e839",
   "outputs": [],
   "execution_count": 1001
  },
  {
   "cell_type": "code",
   "id": "dadfe3e0",
   "metadata": {
    "execution": {
     "iopub.execute_input": "2025-01-22T12:58:03.698374Z",
     "iopub.status.busy": "2025-01-22T12:58:03.697820Z",
     "iopub.status.idle": "2025-01-22T12:58:06.798040Z",
     "shell.execute_reply": "2025-01-22T12:58:06.796935Z"
    },
    "papermill": {
     "duration": 3.105991,
     "end_time": "2025-01-22T12:58:06.799604",
     "exception": false,
     "start_time": "2025-01-22T12:58:03.693613",
     "status": "completed"
    },
    "tags": [],
    "ExecuteTime": {
     "end_time": "2025-01-24T14:04:09.362952Z",
     "start_time": "2025-01-24T14:03:22.998770Z"
    }
   },
   "source": [
    "%%capture\n",
    "from sklearn.naive_bayes import MultinomialNB\n",
    "from sklearn.pipeline import make_pipeline\n",
    "\n",
    "model = make_pipeline(vectorizer, MultinomialNB())\n",
    "\n",
    "model.fit(x_train, y_train['cluster_category'])"
   ],
   "outputs": [],
   "execution_count": 1019
  },
  {
   "cell_type": "code",
   "id": "a8b407cf",
   "metadata": {
    "execution": {
     "iopub.execute_input": "2025-01-22T12:58:06.807686Z",
     "iopub.status.busy": "2025-01-22T12:58:06.807356Z",
     "iopub.status.idle": "2025-01-22T12:58:07.345956Z",
     "shell.execute_reply": "2025-01-22T12:58:07.345020Z"
    },
    "papermill": {
     "duration": 0.54464,
     "end_time": "2025-01-22T12:58:07.347847",
     "exception": false,
     "start_time": "2025-01-22T12:58:06.803207",
     "status": "completed"
    },
    "tags": [],
    "ExecuteTime": {
     "end_time": "2025-01-24T13:53:54.974884Z",
     "start_time": "2025-01-24T13:53:43.194224Z"
    }
   },
   "source": "labels = model.predict(x_test)",
   "outputs": [],
   "execution_count": 1012
  },
  {
   "cell_type": "code",
   "id": "f7470f45",
   "metadata": {
    "execution": {
     "iopub.execute_input": "2025-01-22T12:58:07.379283Z",
     "iopub.status.busy": "2025-01-22T12:58:07.378929Z",
     "iopub.status.idle": "2025-01-22T12:58:07.710870Z",
     "shell.execute_reply": "2025-01-22T12:58:07.710013Z"
    },
    "papermill": {
     "duration": 0.338471,
     "end_time": "2025-01-22T12:58:07.712682",
     "exception": false,
     "start_time": "2025-01-22T12:58:07.374211",
     "status": "completed"
    },
    "tags": [],
    "ExecuteTime": {
     "end_time": "2025-01-24T13:53:55.561997Z",
     "start_time": "2025-01-24T13:53:54.984972Z"
    }
   },
   "source": [
    "from sklearn.metrics import confusion_matrix, f1_score, classification_report\n",
    "\n",
    "category_names = pd.unique(y_train['cluster_category'])\n",
    "print(classification_report(y_test['cluster_category'], labels, target_names=dominant_categories))\n",
    "mat = confusion_matrix(y_test['cluster_category'], labels, labels=dominant_categories)\n",
    "f1_score_result = f1_score(y_test['cluster_category'], labels, average='micro')"
   ],
   "outputs": [
    {
     "name": "stdout",
     "output_type": "stream",
     "text": [
      "                                             precision    recall  f1-score   support\n",
      "\n",
      "ENTERTAINMENT - WEIRD NEWS - ARTS & CULTURE       0.69      0.63      0.66     10125\n",
      "      POLITICS - WORLD NEWS - THE WORLDPOST       0.78      0.78      0.78     12117\n",
      "         WELLNESS - HEALTHY LIVING - IMPACT       0.73      0.80      0.76     13170\n",
      "     TRAVEL - FOOD & DRINK - STYLE & BEAUTY       0.80      0.72      0.76      6494\n",
      "\n",
      "                                   accuracy                           0.74     41906\n",
      "                                  macro avg       0.75      0.73      0.74     41906\n",
      "                               weighted avg       0.74      0.74      0.74     41906\n",
      "\n"
     ]
    }
   ],
   "execution_count": 1013
  },
  {
   "cell_type": "code",
   "id": "5fbb9ab2",
   "metadata": {
    "execution": {
     "iopub.execute_input": "2025-01-22T12:58:07.721453Z",
     "iopub.status.busy": "2025-01-22T12:58:07.721131Z",
     "iopub.status.idle": "2025-01-22T12:58:12.784005Z",
     "shell.execute_reply": "2025-01-22T12:58:12.782899Z"
    },
    "papermill": {
     "duration": 5.071959,
     "end_time": "2025-01-22T12:58:12.788542",
     "exception": false,
     "start_time": "2025-01-22T12:58:07.716583",
     "status": "completed"
    },
    "tags": [],
    "ExecuteTime": {
     "end_time": "2025-01-24T13:53:55.769548Z",
     "start_time": "2025-01-24T13:53:55.609793Z"
    }
   },
   "source": [
    "import matplotlib.pyplot as plt\n",
    "import seaborn as sns\n",
    "import numpy as np\n",
    "\n",
    "np.set_printoptions(threshold=1000)\n",
    "\n",
    "print('Overall F1 Score: {:.2%}'.format(f1_score_result))\n",
    "\n",
    "plt.rcParams.update({'font.size': 8, 'figure.figsize': [6, 6]})\n",
    "sns.set_theme(font_scale=0.8)\n",
    "sns.heatmap(mat.T, square=True, annot=True, fmt='d', cbar=False, xticklabels=dominant_categories, yticklabels=dominant_categories)\n",
    "plt.xlabel('true label')\n",
    "plt.ylabel('predicted label')\n",
    "\n",
    "plt.show()"
   ],
   "outputs": [
    {
     "name": "stdout",
     "output_type": "stream",
     "text": [
      "Overall F1 Score: 74.29%\n"
     ]
    },
    {
     "data": {
      "text/plain": [
       "Text(47.74999999999998, 0.5, 'predicted label')"
      ]
     },
     "execution_count": 1014,
     "metadata": {},
     "output_type": "execute_result"
    },
    {
     "data": {
      "text/plain": [
       "<Figure size 600x600 with 1 Axes>"
      ],
      "image/png": "[encoded data removed]"
     },
     "metadata": {},
     "output_type": "display_data"
    }
   ],
   "execution_count": 1014
  },
  {
   "metadata": {
    "ExecuteTime": {
     "end_time": "2025-01-24T13:46:00.770813Z",
     "start_time": "2025-01-24T13:45:58.453672Z"
    }
   },
   "cell_type": "code",
   "source": [
    "headline = input('Enter a headline')\n",
    "pred = model.predict([headline])\n",
    "print('The headline \"' + headline + '\" is in the category ' + pred[0])"
   ],
   "id": "f283d0707be1f62a",
   "outputs": [
    {
     "name": "stdout",
     "output_type": "stream",
     "text": [
      "The headline \"Instagram Debuts New Video-Editing App, as TikTok Deals With a Ban\" is in the category ENTERTAINMENT - WEIRD NEWS - ARTS & CULTURE\n"
     ]
    }
   ],
   "execution_count": 1008
  }
 ],
 "metadata": {
  "kaggle": {
   "accelerator": "none",
   "dataSources": [
    {
     "datasetId": 1550907,
     "sourceId": 2556316,
     "sourceType": "datasetVersion"
    },
    {
     "datasetId": 32526,
     "sourceId": 4243451,
     "sourceType": "datasetVersion"
    }
   ],
   "dockerImageVersionId": 30839,
   "isGpuEnabled": false,
   "isInternetEnabled": true,
   "language": "python",
   "sourceType": "notebook"
  },
  "kernelspec": {
   "display_name": "Python 3",
   "language": "python",
   "name": "python3"
  },
  "language_info": {
   "codemirror_mode": {
    "name": "ipython",
    "version": 3
   },
   "file_extension": ".py",
   "mimetype": "text/x-python",
   "name": "python",
   "nbconvert_exporter": "python",
   "pygments_lexer": "ipython3",
   "version": "3.10.12"
  },
  "papermill": {
   "default_parameters": {},
   "duration": 18.520466,
   "end_time": "2025-01-22T12:58:13.920573",
   "environment_variables": {},
   "exception": null,
   "input_path": "__notebook__.ipynb",
   "output_path": "__notebook__.ipynb",
   "parameters": {},
   "start_time": "2025-01-22T12:57:55.400107",
   "version": "2.6.0"
  }
 },
 "nbformat": 4,
 "nbformat_minor": 5
}
