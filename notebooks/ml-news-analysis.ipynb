{
 "cells": [
  {
   "cell_type": "markdown",
   "id": "118831d0",
   "metadata": {
    "execution": {
     "iopub.execute_input": "2025-01-21T01:15:31.656410Z",
     "iopub.status.busy": "2025-01-21T01:15:31.655959Z",
     "iopub.status.idle": "2025-01-21T01:15:31.662800Z",
     "shell.execute_reply": "2025-01-21T01:15:31.661529Z",
     "shell.execute_reply.started": "2025-01-21T01:15:31.656382Z"
    },
    "papermill": {
     "duration": 0.003326,
     "end_time": "2025-01-21T13:17:39.948147",
     "exception": false,
     "start_time": "2025-01-21T13:17:39.944821",
     "status": "completed"
    },
    "tags": []
   },
   "source": [
    "@dataset{\n",
    "    dataset,\n",
    "    author = {Timilsina, Bimal},\n",
    "    year = {2021},\n",
    "    month = {08},\n",
    "    pages = {},\n",
    "    title = {News Article Category Dataset},\n",
    "}"
   ]
  },
  {
   "cell_type": "code",
   "execution_count": 1,
   "id": "7aa6e468",
   "metadata": {
    "execution": {
     "iopub.execute_input": "2025-01-21T13:17:39.955288Z",
     "iopub.status.busy": "2025-01-21T13:17:39.954904Z",
     "iopub.status.idle": "2025-01-21T13:17:40.980447Z",
     "shell.execute_reply": "2025-01-21T13:17:40.979175Z"
    },
    "papermill": {
     "duration": 1.031033,
     "end_time": "2025-01-21T13:17:40.982328",
     "exception": false,
     "start_time": "2025-01-21T13:17:39.951295",
     "status": "completed"
    },
    "tags": []
   },
   "outputs": [],
   "source": [
    "import pandas as pd"
   ]
  },
  {
   "cell_type": "code",
   "execution_count": 2,
   "id": "ece7ca98",
   "metadata": {
    "execution": {
     "iopub.execute_input": "2025-01-21T13:17:40.989659Z",
     "iopub.status.busy": "2025-01-21T13:17:40.989186Z",
     "iopub.status.idle": "2025-01-21T13:17:41.836028Z",
     "shell.execute_reply": "2025-01-21T13:17:41.834871Z"
    },
    "papermill": {
     "duration": 0.852713,
     "end_time": "2025-01-21T13:17:41.838146",
     "exception": false,
     "start_time": "2025-01-21T13:17:40.985433",
     "status": "completed"
    },
    "tags": []
   },
   "outputs": [],
   "source": [
    "df = pd.read_csv('../input/newsarticlecategories/news-article-categories.csv')"
   ]
  },
  {
   "cell_type": "code",
   "execution_count": 3,
   "id": "749e570c",
   "metadata": {
    "execution": {
     "iopub.execute_input": "2025-01-21T13:17:41.845611Z",
     "iopub.status.busy": "2025-01-21T13:17:41.845269Z",
     "iopub.status.idle": "2025-01-21T13:17:41.865410Z",
     "shell.execute_reply": "2025-01-21T13:17:41.864223Z"
    },
    "papermill": {
     "duration": 0.026007,
     "end_time": "2025-01-21T13:17:41.867374",
     "exception": false,
     "start_time": "2025-01-21T13:17:41.841367",
     "status": "completed"
    },
    "tags": []
   },
   "outputs": [],
   "source": [
    "df['category'] = df['category'].astype('category')"
   ]
  },
  {
   "cell_type": "markdown",
   "id": "8399f07a",
   "metadata": {
    "papermill": {
     "duration": 0.002447,
     "end_time": "2025-01-21T13:17:41.872822",
     "exception": false,
     "start_time": "2025-01-21T13:17:41.870375",
     "status": "completed"
    },
    "tags": []
   },
   "source": [
    "# Prepare Data"
   ]
  },
  {
   "cell_type": "markdown",
   "id": "45358072",
   "metadata": {
    "papermill": {
     "duration": 0.00238,
     "end_time": "2025-01-21T13:17:41.877849",
     "exception": false,
     "start_time": "2025-01-21T13:17:41.875469",
     "status": "completed"
    },
    "tags": []
   },
   "source": [
    "## Remove stop words\n",
    "\n",
    "Stop words are words that do not significantly contribute to the meaning of the text. Words like 'is', 'a', and 'the' can be removed as part of the data preparation so that the categorization can focus on the words that contribute the most meaning.\n",
    "\n",
    "To accomplish this, we'll import the Natural Language Toolkit and then download the English stop words dataset."
   ]
  },
  {
   "cell_type": "code",
   "execution_count": 4,
   "id": "51988d57",
   "metadata": {
    "execution": {
     "iopub.execute_input": "2025-01-21T13:17:41.884526Z",
     "iopub.status.busy": "2025-01-21T13:17:41.884178Z",
     "iopub.status.idle": "2025-01-21T13:17:44.359662Z",
     "shell.execute_reply": "2025-01-21T13:17:44.358071Z"
    },
    "papermill": {
     "duration": 2.481431,
     "end_time": "2025-01-21T13:17:44.361888",
     "exception": false,
     "start_time": "2025-01-21T13:17:41.880457",
     "status": "completed"
    },
    "tags": []
   },
   "outputs": [
    {
     "name": "stdout",
     "output_type": "stream",
     "text": [
      "[nltk_data] Downloading package stopwords to /usr/share/nltk_data...\n",
      "[nltk_data]   Package stopwords is already up-to-date!\n"
     ]
    }
   ],
   "source": [
    "import nltk\n",
    "from nltk.corpus import stopwords\n",
    "\n",
    "nltk.download('stopwords')\n",
    "stopwords = (stopwords.words('english'))"
   ]
  },
  {
   "cell_type": "code",
   "execution_count": 5,
   "id": "93121139",
   "metadata": {
    "execution": {
     "iopub.execute_input": "2025-01-21T13:17:44.370519Z",
     "iopub.status.busy": "2025-01-21T13:17:44.369845Z",
     "iopub.status.idle": "2025-01-21T13:17:45.799494Z",
     "shell.execute_reply": "2025-01-21T13:17:45.798418Z"
    },
    "papermill": {
     "duration": 1.436169,
     "end_time": "2025-01-21T13:17:45.801494",
     "exception": false,
     "start_time": "2025-01-21T13:17:44.365325",
     "status": "completed"
    },
    "tags": []
   },
   "outputs": [],
   "source": [
    "import re\n",
    "from nltk import pos_tag, word_tokenize\n",
    "\n",
    "def tokenize_title(title):\n",
    "    tokens = word_tokenize(title)\n",
    "    cleaned = []\n",
    "    for t in tokens:\n",
    "        if t.lower() in stopwords:\n",
    "            continue\n",
    "        t = re.sub(r'(?i)\\d{1,3}-year-old', 'AGE', t)\n",
    "        t = re.sub(r'[^A-Za-z0-9]', '', t).strip()\n",
    "        t = re.sub(r'^20\\d{2}$', '21STCENTURY',t)\n",
    "        t = re.sub(r'^19\\d{2}$', '20THCENTURY',t)\n",
    "        t = re.sub(r'^\\d+$', 'NUMBERCOUNT', t)\n",
    "        if len(t) > 1:\n",
    "            cleaned.append(t)\n",
    "    return cleaned\n",
    "\n",
    "df['tokenized'] = df['title'].map(tokenize_title)\n",
    "\n",
    "df = df.drop(columns=['title', 'body'], axis=1).explode('tokenized')"
   ]
  },
  {
   "cell_type": "code",
   "execution_count": 6,
   "id": "d4286b4c",
   "metadata": {
    "execution": {
     "iopub.execute_input": "2025-01-21T13:17:45.809379Z",
     "iopub.status.busy": "2025-01-21T13:17:45.809006Z",
     "iopub.status.idle": "2025-01-21T13:17:45.902313Z",
     "shell.execute_reply": "2025-01-21T13:17:45.900984Z"
    },
    "papermill": {
     "duration": 0.099672,
     "end_time": "2025-01-21T13:17:45.904326",
     "exception": false,
     "start_time": "2025-01-21T13:17:45.804654",
     "status": "completed"
    },
    "tags": []
   },
   "outputs": [],
   "source": [
    "categories = (df\n",
    "    .groupby(['category', 'tokenized'], observed=True)\n",
    "    .value_counts().to_frame('count')\n",
    ")\n",
    "categories = categories[categories['count'] > 2].reset_index()"
   ]
  },
  {
   "cell_type": "code",
   "execution_count": 7,
   "id": "067483b5",
   "metadata": {
    "execution": {
     "iopub.execute_input": "2025-01-21T13:17:45.911708Z",
     "iopub.status.busy": "2025-01-21T13:17:45.911344Z",
     "iopub.status.idle": "2025-01-21T13:17:45.931035Z",
     "shell.execute_reply": "2025-01-21T13:17:45.929832Z"
    },
    "papermill": {
     "duration": 0.025401,
     "end_time": "2025-01-21T13:17:45.932819",
     "exception": false,
     "start_time": "2025-01-21T13:17:45.907418",
     "status": "completed"
    },
    "tags": []
   },
   "outputs": [
    {
     "data": {
      "text/html": [
       "<div>\n",
       "<style scoped>\n",
       "    .dataframe tbody tr th:only-of-type {\n",
       "        vertical-align: middle;\n",
       "    }\n",
       "\n",
       "    .dataframe tbody tr th {\n",
       "        vertical-align: top;\n",
       "    }\n",
       "\n",
       "    .dataframe thead th {\n",
       "        text-align: right;\n",
       "    }\n",
       "</style>\n",
       "<table border=\"1\" class=\"dataframe\">\n",
       "  <thead>\n",
       "    <tr style=\"text-align: right;\">\n",
       "      <th></th>\n",
       "      <th>category</th>\n",
       "      <th>tokenized</th>\n",
       "      <th>count</th>\n",
       "    </tr>\n",
       "  </thead>\n",
       "  <tbody>\n",
       "    <tr>\n",
       "      <th>0</th>\n",
       "      <td>ARTS &amp; CULTURE</td>\n",
       "      <td>20THCENTURY</td>\n",
       "      <td>8</td>\n",
       "    </tr>\n",
       "    <tr>\n",
       "      <th>1</th>\n",
       "      <td>ARTS &amp; CULTURE</td>\n",
       "      <td>21STCENTURY</td>\n",
       "      <td>26</td>\n",
       "    </tr>\n",
       "    <tr>\n",
       "      <th>2</th>\n",
       "      <td>ARTS &amp; CULTURE</td>\n",
       "      <td>AGE</td>\n",
       "      <td>7</td>\n",
       "    </tr>\n",
       "    <tr>\n",
       "      <th>3</th>\n",
       "      <td>ARTS &amp; CULTURE</td>\n",
       "      <td>Abandoned</td>\n",
       "      <td>3</td>\n",
       "    </tr>\n",
       "    <tr>\n",
       "      <th>4</th>\n",
       "      <td>ARTS &amp; CULTURE</td>\n",
       "      <td>Acclaimed</td>\n",
       "      <td>3</td>\n",
       "    </tr>\n",
       "    <tr>\n",
       "      <th>...</th>\n",
       "      <td>...</td>\n",
       "      <td>...</td>\n",
       "      <td>...</td>\n",
       "    </tr>\n",
       "    <tr>\n",
       "      <th>3894</th>\n",
       "      <td>WOMEN</td>\n",
       "      <td>Year</td>\n",
       "      <td>6</td>\n",
       "    </tr>\n",
       "    <tr>\n",
       "      <th>3895</th>\n",
       "      <td>WOMEN</td>\n",
       "      <td>Years</td>\n",
       "      <td>3</td>\n",
       "    </tr>\n",
       "    <tr>\n",
       "      <th>3896</th>\n",
       "      <td>WOMEN</td>\n",
       "      <td>Young</td>\n",
       "      <td>4</td>\n",
       "    </tr>\n",
       "    <tr>\n",
       "      <th>3897</th>\n",
       "      <td>WOMEN</td>\n",
       "      <td>nt</td>\n",
       "      <td>14</td>\n",
       "    </tr>\n",
       "    <tr>\n",
       "      <th>3898</th>\n",
       "      <td>WOMEN</td>\n",
       "      <td>ve</td>\n",
       "      <td>4</td>\n",
       "    </tr>\n",
       "  </tbody>\n",
       "</table>\n",
       "<p>3899 rows × 3 columns</p>\n",
       "</div>"
      ],
      "text/plain": [
       "            category    tokenized  count\n",
       "0     ARTS & CULTURE  20THCENTURY      8\n",
       "1     ARTS & CULTURE  21STCENTURY     26\n",
       "2     ARTS & CULTURE          AGE      7\n",
       "3     ARTS & CULTURE    Abandoned      3\n",
       "4     ARTS & CULTURE    Acclaimed      3\n",
       "...              ...          ...    ...\n",
       "3894           WOMEN         Year      6\n",
       "3895           WOMEN        Years      3\n",
       "3896           WOMEN        Young      4\n",
       "3897           WOMEN           nt     14\n",
       "3898           WOMEN           ve      4\n",
       "\n",
       "[3899 rows x 3 columns]"
      ]
     },
     "metadata": {},
     "output_type": "display_data"
    }
   ],
   "source": [
    "display(categories)"
   ]
  }
 ],
 "metadata": {
  "kaggle": {
   "accelerator": "none",
   "dataSources": [
    {
     "datasetId": 1550907,
     "sourceId": 2556316,
     "sourceType": "datasetVersion"
    }
   ],
   "dockerImageVersionId": 30839,
   "isGpuEnabled": false,
   "isInternetEnabled": true,
   "language": "python",
   "sourceType": "notebook"
  },
  "kernelspec": {
   "display_name": "Python 3",
   "language": "python",
   "name": "python3"
  },
  "language_info": {
   "codemirror_mode": {
    "name": "ipython",
    "version": 3
   },
   "file_extension": ".py",
   "mimetype": "text/x-python",
   "name": "python",
   "nbconvert_exporter": "python",
   "pygments_lexer": "ipython3",
   "version": "3.10.12"
  },
  "papermill": {
   "default_parameters": {},
   "duration": 9.748754,
   "end_time": "2025-01-21T13:17:46.757207",
   "environment_variables": {},
   "exception": null,
   "input_path": "__notebook__.ipynb",
   "output_path": "__notebook__.ipynb",
   "parameters": {},
   "start_time": "2025-01-21T13:17:37.008453",
   "version": "2.6.0"
  }
 },
 "nbformat": 4,
 "nbformat_minor": 5
}
