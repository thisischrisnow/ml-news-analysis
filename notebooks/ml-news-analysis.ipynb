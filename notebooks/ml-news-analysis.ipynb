{
 "cells": [
  {
   "cell_type": "code",
   "execution_count": 1,
   "id": "8ea1f59e",
   "metadata": {
    "execution": {
     "iopub.execute_input": "2025-01-21T00:38:13.161542Z",
     "iopub.status.busy": "2025-01-21T00:38:13.161052Z",
     "iopub.status.idle": "2025-01-21T00:38:14.088047Z",
     "shell.execute_reply": "2025-01-21T00:38:14.086862Z"
    },
    "papermill": {
     "duration": 0.932485,
     "end_time": "2025-01-21T00:38:14.089979",
     "exception": false,
     "start_time": "2025-01-21T00:38:13.157494",
     "status": "completed"
    },
    "tags": []
   },
   "outputs": [],
   "source": [
    "import pandas as pd"
   ]
  },
  {
   "cell_type": "code",
   "execution_count": 2,
   "id": "b79e078b",
   "metadata": {
    "execution": {
     "iopub.execute_input": "2025-01-21T00:38:14.095470Z",
     "iopub.status.busy": "2025-01-21T00:38:14.094960Z",
     "iopub.status.idle": "2025-01-21T00:38:14.945308Z",
     "shell.execute_reply": "2025-01-21T00:38:14.944179Z"
    },
    "papermill": {
     "duration": 0.85522,
     "end_time": "2025-01-21T00:38:14.947684",
     "exception": false,
     "start_time": "2025-01-21T00:38:14.092464",
     "status": "completed"
    },
    "tags": []
   },
   "outputs": [],
   "source": [
    "df = pd.read_csv('../input/newsarticlecategories/news-article-categories.csv')"
   ]
  },
  {
   "cell_type": "code",
   "execution_count": 3,
   "id": "b8510625",
   "metadata": {
    "execution": {
     "iopub.execute_input": "2025-01-21T00:38:14.952991Z",
     "iopub.status.busy": "2025-01-21T00:38:14.952644Z",
     "iopub.status.idle": "2025-01-21T00:38:14.980905Z",
     "shell.execute_reply": "2025-01-21T00:38:14.979859Z"
    },
    "papermill": {
     "duration": 0.032784,
     "end_time": "2025-01-21T00:38:14.982777",
     "exception": false,
     "start_time": "2025-01-21T00:38:14.949993",
     "status": "completed"
    },
    "tags": []
   },
   "outputs": [
    {
     "data": {
      "text/html": [
       "<div>\n",
       "<style scoped>\n",
       "    .dataframe tbody tr th:only-of-type {\n",
       "        vertical-align: middle;\n",
       "    }\n",
       "\n",
       "    .dataframe tbody tr th {\n",
       "        vertical-align: top;\n",
       "    }\n",
       "\n",
       "    .dataframe thead th {\n",
       "        text-align: right;\n",
       "    }\n",
       "</style>\n",
       "<table border=\"1\" class=\"dataframe\">\n",
       "  <thead>\n",
       "    <tr style=\"text-align: right;\">\n",
       "      <th></th>\n",
       "      <th>category</th>\n",
       "      <th>title</th>\n",
       "      <th>body</th>\n",
       "    </tr>\n",
       "  </thead>\n",
       "  <tbody>\n",
       "    <tr>\n",
       "      <th>0</th>\n",
       "      <td>ARTS &amp; CULTURE</td>\n",
       "      <td>Modeling Agencies Enabled Sexual Predators For...</td>\n",
       "      <td>In October 2017, Carolyn Kramer received a dis...</td>\n",
       "    </tr>\n",
       "    <tr>\n",
       "      <th>1</th>\n",
       "      <td>ARTS &amp; CULTURE</td>\n",
       "      <td>Actor Jeff Hiller Talks “Bright Colors And Bol...</td>\n",
       "      <td>This week I talked with actor Jeff Hiller abou...</td>\n",
       "    </tr>\n",
       "    <tr>\n",
       "      <th>2</th>\n",
       "      <td>ARTS &amp; CULTURE</td>\n",
       "      <td>New Yorker Cover Puts Trump 'In The Hole' Afte...</td>\n",
       "      <td>The New Yorker is taking on President Donald T...</td>\n",
       "    </tr>\n",
       "    <tr>\n",
       "      <th>3</th>\n",
       "      <td>ARTS &amp; CULTURE</td>\n",
       "      <td>Man Surprises Girlfriend By Drawing Them In Di...</td>\n",
       "      <td>Kellen Hickey, a 26-year-old who lives in Huds...</td>\n",
       "    </tr>\n",
       "    <tr>\n",
       "      <th>4</th>\n",
       "      <td>ARTS &amp; CULTURE</td>\n",
       "      <td>This Artist Gives Renaissance-Style Sculptures...</td>\n",
       "      <td>There’s something about combining the traditio...</td>\n",
       "    </tr>\n",
       "    <tr>\n",
       "      <th>...</th>\n",
       "      <td>...</td>\n",
       "      <td>...</td>\n",
       "      <td>...</td>\n",
       "    </tr>\n",
       "    <tr>\n",
       "      <th>6872</th>\n",
       "      <td>WOMEN</td>\n",
       "      <td>Casually Fearless: Why Millennials Are Natural...</td>\n",
       "      <td>I still think about that Tuesday night dinner ...</td>\n",
       "    </tr>\n",
       "    <tr>\n",
       "      <th>6873</th>\n",
       "      <td>WOMEN</td>\n",
       "      <td>Happy Birthday To Us</td>\n",
       "      <td>I remember the morning of my high school gradu...</td>\n",
       "    </tr>\n",
       "    <tr>\n",
       "      <th>6874</th>\n",
       "      <td>WOMEN</td>\n",
       "      <td>The Culture of Love</td>\n",
       "      <td>My husband, Gene, doesn't wear pajamas. I aske...</td>\n",
       "    </tr>\n",
       "    <tr>\n",
       "      <th>6875</th>\n",
       "      <td>WOMEN</td>\n",
       "      <td>Carpe Diem, Oprah Style</td>\n",
       "      <td>\\nBy AntonioGuillem, via ThinkStock\\nBy  Lisa ...</td>\n",
       "    </tr>\n",
       "    <tr>\n",
       "      <th>6876</th>\n",
       "      <td>WOMEN</td>\n",
       "      <td>My Month of Online Dating Detox</td>\n",
       "      <td>My name is Jamie and I'm an online date-aholic...</td>\n",
       "    </tr>\n",
       "  </tbody>\n",
       "</table>\n",
       "<p>6877 rows × 3 columns</p>\n",
       "</div>"
      ],
      "text/plain": [
       "            category                                              title  \\\n",
       "0     ARTS & CULTURE  Modeling Agencies Enabled Sexual Predators For...   \n",
       "1     ARTS & CULTURE  Actor Jeff Hiller Talks “Bright Colors And Bol...   \n",
       "2     ARTS & CULTURE  New Yorker Cover Puts Trump 'In The Hole' Afte...   \n",
       "3     ARTS & CULTURE  Man Surprises Girlfriend By Drawing Them In Di...   \n",
       "4     ARTS & CULTURE  This Artist Gives Renaissance-Style Sculptures...   \n",
       "...              ...                                                ...   \n",
       "6872           WOMEN  Casually Fearless: Why Millennials Are Natural...   \n",
       "6873           WOMEN                               Happy Birthday To Us   \n",
       "6874           WOMEN                                The Culture of Love   \n",
       "6875           WOMEN                            Carpe Diem, Oprah Style   \n",
       "6876           WOMEN                    My Month of Online Dating Detox   \n",
       "\n",
       "                                                   body  \n",
       "0     In October 2017, Carolyn Kramer received a dis...  \n",
       "1     This week I talked with actor Jeff Hiller abou...  \n",
       "2     The New Yorker is taking on President Donald T...  \n",
       "3     Kellen Hickey, a 26-year-old who lives in Huds...  \n",
       "4     There’s something about combining the traditio...  \n",
       "...                                                 ...  \n",
       "6872  I still think about that Tuesday night dinner ...  \n",
       "6873  I remember the morning of my high school gradu...  \n",
       "6874  My husband, Gene, doesn't wear pajamas. I aske...  \n",
       "6875  \\nBy AntonioGuillem, via ThinkStock\\nBy  Lisa ...  \n",
       "6876  My name is Jamie and I'm an online date-aholic...  \n",
       "\n",
       "[6877 rows x 3 columns]"
      ]
     },
     "metadata": {},
     "output_type": "display_data"
    }
   ],
   "source": [
    "display(df)"
   ]
  }
 ],
 "metadata": {
  "kaggle": {
   "accelerator": "none",
   "dataSources": [
    {
     "datasetId": 1550907,
     "sourceId": 2556316,
     "sourceType": "datasetVersion"
    }
   ],
   "dockerImageVersionId": 30839,
   "isGpuEnabled": false,
   "isInternetEnabled": true,
   "language": "python",
   "sourceType": "notebook"
  },
  "kernelspec": {
   "display_name": "Python 3",
   "language": "python",
   "name": "python3"
  },
  "language_info": {
   "codemirror_mode": {
    "name": "ipython",
    "version": 3
   },
   "file_extension": ".py",
   "mimetype": "text/x-python",
   "name": "python",
   "nbconvert_exporter": "python",
   "pygments_lexer": "ipython3",
   "version": "3.10.12"
  },
  "papermill": {
   "default_parameters": {},
   "duration": 5.226144,
   "end_time": "2025-01-21T00:38:15.607646",
   "environment_variables": {},
   "exception": null,
   "input_path": "__notebook__.ipynb",
   "output_path": "__notebook__.ipynb",
   "parameters": {},
   "start_time": "2025-01-21T00:38:10.381502",
   "version": "2.6.0"
  }
 },
 "nbformat": 4,
 "nbformat_minor": 5
}
