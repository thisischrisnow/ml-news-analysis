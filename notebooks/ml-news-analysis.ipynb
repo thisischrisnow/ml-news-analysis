{
 "cells": [
  {
   "cell_type": "markdown",
   "id": "0d81b0c8",
   "metadata": {
    "execution": {
     "iopub.execute_input": "2025-01-21T01:15:31.656410Z",
     "iopub.status.busy": "2025-01-21T01:15:31.655959Z",
     "iopub.status.idle": "2025-01-21T01:15:31.662800Z",
     "shell.execute_reply": "2025-01-21T01:15:31.661529Z",
     "shell.execute_reply.started": "2025-01-21T01:15:31.656382Z"
    },
    "papermill": {
     "duration": 0.003824,
     "end_time": "2025-01-22T12:57:58.073182",
     "exception": false,
     "start_time": "2025-01-22T12:57:58.069358",
     "status": "completed"
    },
    "tags": []
   },
   "source": [
    "@dataset{\n",
    "    dataset,\n",
    "    author = {Timilsina, Bimal},\n",
    "    year = {2021},\n",
    "    month = {08},\n",
    "    pages = {},\n",
    "    title = {News Article Category Dataset},\n",
    "}"
   ]
  },
  {
   "cell_type": "code",
   "id": "8845fe4a",
   "metadata": {
    "execution": {
     "iopub.execute_input": "2025-01-22T12:57:58.081101Z",
     "iopub.status.busy": "2025-01-22T12:57:58.080712Z",
     "iopub.status.idle": "2025-01-22T12:57:58.994167Z",
     "shell.execute_reply": "2025-01-22T12:57:58.993341Z"
    },
    "papermill": {
     "duration": 0.919199,
     "end_time": "2025-01-22T12:57:58.995884",
     "exception": false,
     "start_time": "2025-01-22T12:57:58.076685",
     "status": "completed"
    },
    "tags": [],
    "ExecuteTime": {
     "end_time": "2025-01-23T15:56:28.264552Z",
     "start_time": "2025-01-23T15:56:28.261319Z"
    }
   },
   "source": [
    "import pandas as pd"
   ],
   "outputs": [],
   "execution_count": 1
  },
  {
   "cell_type": "code",
   "id": "83c85909",
   "metadata": {
    "execution": {
     "iopub.execute_input": "2025-01-22T12:57:59.003212Z",
     "iopub.status.busy": "2025-01-22T12:57:59.002739Z",
     "iopub.status.idle": "2025-01-22T12:58:02.072310Z",
     "shell.execute_reply": "2025-01-22T12:58:02.070655Z"
    },
    "papermill": {
     "duration": 3.075414,
     "end_time": "2025-01-22T12:58:02.074470",
     "exception": false,
     "start_time": "2025-01-22T12:57:58.999056",
     "status": "completed"
    },
    "tags": [],
    "ExecuteTime": {
     "end_time": "2025-01-23T15:56:36.517092Z",
     "start_time": "2025-01-23T15:56:35.153646Z"
    }
   },
   "source": [
    "df = pd.read_json('../input/news-category-dataset/News_Category_Dataset_v3.json', lines=True)"
   ],
   "outputs": [],
   "execution_count": 2
  },
  {
   "cell_type": "code",
   "id": "af4e856c",
   "metadata": {
    "execution": {
     "iopub.execute_input": "2025-01-22T12:58:02.119416Z",
     "iopub.status.busy": "2025-01-22T12:58:02.119100Z",
     "iopub.status.idle": "2025-01-22T12:58:02.164882Z",
     "shell.execute_reply": "2025-01-22T12:58:02.164008Z"
    },
    "papermill": {
     "duration": 0.051793,
     "end_time": "2025-01-22T12:58:02.166814",
     "exception": false,
     "start_time": "2025-01-22T12:58:02.115021",
     "status": "completed"
    },
    "tags": [],
    "ExecuteTime": {
     "end_time": "2025-01-23T15:56:38.389872Z",
     "start_time": "2025-01-23T15:56:38.347329Z"
    }
   },
   "source": [
    "df['category'] = df['category'].astype('category')"
   ],
   "outputs": [],
   "execution_count": 3
  },
  {
   "metadata": {},
   "cell_type": "code",
   "outputs": [],
   "execution_count": null,
   "source": "",
   "id": "8356da5c0f422b3d"
  },
  {
   "metadata": {
    "ExecuteTime": {
     "end_time": "2025-01-23T15:57:17.612387Z",
     "start_time": "2025-01-23T15:57:17.599472Z"
    }
   },
   "cell_type": "code",
   "source": "categories = pd.read_csv('../input/category_map.csv', index_col=1, dtype={'CATEGORY': 'category', 'SUB_CATEGORY': 'category'})",
   "id": "37f4f09ffdfb0713",
   "outputs": [],
   "execution_count": 4
  },
  {
   "metadata": {
    "ExecuteTime": {
     "end_time": "2025-01-23T15:57:18.561497Z",
     "start_time": "2025-01-23T15:57:18.554882Z"
    }
   },
   "cell_type": "code",
   "source": "category_mapping = categories.to_dict()['CATEGORY']",
   "id": "4f78eab0cee7217c",
   "outputs": [],
   "execution_count": 5
  },
  {
   "metadata": {
    "ExecuteTime": {
     "end_time": "2025-01-23T15:57:29.745331Z",
     "start_time": "2025-01-23T15:57:29.735242Z"
    }
   },
   "cell_type": "code",
   "source": "df['main_category'] = df['category'].map(category_mapping)",
   "id": "6df3c1b3a24b4577",
   "outputs": [],
   "execution_count": 7
  },
  {
   "cell_type": "code",
   "id": "fe6d9d4b",
   "metadata": {
    "execution": {
     "iopub.execute_input": "2025-01-22T12:58:02.175023Z",
     "iopub.status.busy": "2025-01-22T12:58:02.174613Z",
     "iopub.status.idle": "2025-01-22T12:58:03.688051Z",
     "shell.execute_reply": "2025-01-22T12:58:03.686930Z"
    },
    "papermill": {
     "duration": 1.519624,
     "end_time": "2025-01-22T12:58:03.689986",
     "exception": false,
     "start_time": "2025-01-22T12:58:02.170362",
     "status": "completed"
    },
    "tags": [],
    "ExecuteTime": {
     "end_time": "2025-01-23T15:59:37.605117Z",
     "start_time": "2025-01-23T15:59:37.296347Z"
    }
   },
   "source": [
    "from sklearn.model_selection import train_test_split\n",
    "\n",
    "x = df['headline'] + ' ' + df['short_description']\n",
    "y = df\n",
    "\n",
    "x_train, x_test, y_train, y_test = train_test_split(x, y, test_size=0.2, stratify=y['category'])"
   ],
   "outputs": [],
   "execution_count": 9
  },
  {
   "metadata": {
    "ExecuteTime": {
     "end_time": "2025-01-23T16:00:44.619039Z",
     "start_time": "2025-01-23T16:00:44.615322Z"
    }
   },
   "cell_type": "code",
   "source": [
    "from sklearn.feature_extraction.text import TfidfVectorizer\n",
    "\n",
    "vectorizer = TfidfVectorizer(stop_words='english', lowercase=True, ngram_range=(1, 2), max_features=5000)"
   ],
   "id": "1dfd39a95d63f244",
   "outputs": [],
   "execution_count": 15
  },
  {
   "metadata": {
    "ExecuteTime": {
     "end_time": "2025-01-23T16:05:35.479937Z",
     "start_time": "2025-01-23T16:05:21.747447Z"
    }
   },
   "cell_type": "code",
   "source": "tfidf_article_matrix = vectorizer.fit_transform(x_train)",
   "id": "73bf671e92c00488",
   "outputs": [],
   "execution_count": 20
  },
  {
   "metadata": {
    "ExecuteTime": {
     "end_time": "2025-01-23T16:15:10.406387Z",
     "start_time": "2025-01-23T16:15:10.267137Z"
    }
   },
   "cell_type": "code",
   "source": "articles_by_category = x_train.groupby(y_train['category'], observed=True).apply(lambda x: ' '.join(x.astype(str))).reset_index(name='all_articles')",
   "id": "c78c41e472498550",
   "outputs": [],
   "execution_count": 30
  },
  {
   "metadata": {
    "ExecuteTime": {
     "end_time": "2025-01-23T16:15:12.037063Z",
     "start_time": "2025-01-23T16:15:12.008355Z"
    }
   },
   "cell_type": "code",
   "source": "display(articles_by_category.head())",
   "id": "6ca7c1e0d6e09143",
   "outputs": [
    {
     "data": {
      "text/plain": [
       "         category                                       all_articles\n",
       "0            ARTS  Music in the Southwest Part 2: The Tucson Symp...\n",
       "1  ARTS & CULTURE  Duncan Jones Finds A Literary Way To Remember ...\n",
       "2    BLACK VOICES  One In Seven NFL Players Protested Yesterday. ...\n",
       "3        BUSINESS  Volkswagen Works Council Set To Seek Labor Rep...\n",
       "4         COLLEGE  We're All on Our Way Out: 16 Pieces of Advice ..."
      ],
      "text/html": [
       "<div>\n",
       "<style scoped>\n",
       "    .dataframe tbody tr th:only-of-type {\n",
       "        vertical-align: middle;\n",
       "    }\n",
       "\n",
       "    .dataframe tbody tr th {\n",
       "        vertical-align: top;\n",
       "    }\n",
       "\n",
       "    .dataframe thead th {\n",
       "        text-align: right;\n",
       "    }\n",
       "</style>\n",
       "<table border=\"1\" class=\"dataframe\">\n",
       "  <thead>\n",
       "    <tr style=\"text-align: right;\">\n",
       "      <th></th>\n",
       "      <th>category</th>\n",
       "      <th>all_articles</th>\n",
       "    </tr>\n",
       "  </thead>\n",
       "  <tbody>\n",
       "    <tr>\n",
       "      <th>0</th>\n",
       "      <td>ARTS</td>\n",
       "      <td>Music in the Southwest Part 2: The Tucson Symp...</td>\n",
       "    </tr>\n",
       "    <tr>\n",
       "      <th>1</th>\n",
       "      <td>ARTS &amp; CULTURE</td>\n",
       "      <td>Duncan Jones Finds A Literary Way To Remember ...</td>\n",
       "    </tr>\n",
       "    <tr>\n",
       "      <th>2</th>\n",
       "      <td>BLACK VOICES</td>\n",
       "      <td>One In Seven NFL Players Protested Yesterday. ...</td>\n",
       "    </tr>\n",
       "    <tr>\n",
       "      <th>3</th>\n",
       "      <td>BUSINESS</td>\n",
       "      <td>Volkswagen Works Council Set To Seek Labor Rep...</td>\n",
       "    </tr>\n",
       "    <tr>\n",
       "      <th>4</th>\n",
       "      <td>COLLEGE</td>\n",
       "      <td>We're All on Our Way Out: 16 Pieces of Advice ...</td>\n",
       "    </tr>\n",
       "  </tbody>\n",
       "</table>\n",
       "</div>"
      ]
     },
     "metadata": {},
     "output_type": "display_data"
    }
   ],
   "execution_count": 31
  },
  {
   "metadata": {
    "ExecuteTime": {
     "end_time": "2025-01-23T16:16:38.537249Z",
     "start_time": "2025-01-23T16:16:25.084655Z"
    }
   },
   "cell_type": "code",
   "source": "tfid_sub_matrix = vectorizer.fit_transform(articles_by_category['all_articles'])",
   "id": "464057fe3a8a14a3",
   "outputs": [],
   "execution_count": 36
  },
  {
   "metadata": {
    "ExecuteTime": {
     "end_time": "2025-01-23T17:15:28.707748Z",
     "start_time": "2025-01-23T17:15:28.680246Z"
    }
   },
   "cell_type": "code",
   "source": [
    "from sklearn.cluster import DBSCAN\n",
    "\n",
    "cluster_results = DBSCAN(eps=.5, min_samples=1).fit(tfid_sub_matrix)"
   ],
   "id": "e923b5e0d4cab2c0",
   "outputs": [],
   "execution_count": 135
  },
  {
   "metadata": {
    "ExecuteTime": {
     "end_time": "2025-01-23T17:15:30.219138Z",
     "start_time": "2025-01-23T17:15:30.215265Z"
    }
   },
   "cell_type": "code",
   "source": "print(cluster_results.labels_)",
   "id": "e4938cb88ce29b95",
   "outputs": [
    {
     "name": "stdout",
     "output_type": "stream",
     "text": [
      "[ 0  1  2  3  4  5  6  7  8  9 10 11 12 13 14 15 16 17 18 19 20 21 22 22\n",
      " 23 24 25 26 27 28 29 13 30 31 32 33 34 35 16 36 37 38]\n"
     ]
    }
   ],
   "execution_count": 136
  },
  {
   "metadata": {
    "ExecuteTime": {
     "end_time": "2025-01-23T17:15:36.982377Z",
     "start_time": "2025-01-23T17:15:36.950103Z"
    }
   },
   "cell_type": "code",
   "source": [
    "from sklearn.cluster import KMeans\n",
    "\n",
    "kmeans = KMeans(n_clusters=4)\n",
    "kmeans_results = kmeans.fit(tfid_sub_matrix)"
   ],
   "id": "1f89e360a98a4800",
   "outputs": [],
   "execution_count": 137
  },
  {
   "metadata": {
    "ExecuteTime": {
     "end_time": "2025-01-23T17:15:39.342899Z",
     "start_time": "2025-01-23T17:15:39.338083Z"
    }
   },
   "cell_type": "code",
   "source": "print(kmeans_results.labels_)",
   "id": "a5dffcb84902d808",
   "outputs": [
    {
     "name": "stdout",
     "output_type": "stream",
     "text": [
      "[1 1 3 0 2 1 3 1 2 2 1 0 2 2 2 0 0 2 0 1 1 2 2 2 1 2 0 0 2 2 2 2 2 3 2 3 2\n",
      " 2 0 2 3 3]\n"
     ]
    }
   ],
   "execution_count": 138
  },
  {
   "metadata": {
    "ExecuteTime": {
     "end_time": "2025-01-23T17:15:41.556961Z",
     "start_time": "2025-01-23T17:15:41.359855Z"
    }
   },
   "cell_type": "code",
   "source": [
    "from sklearn.manifold import TSNE\n",
    "\n",
    "tsne = TSNE(n_components=2, init='random')\n",
    "reduced_data = tsne.fit_transform(tfid_sub_matrix)"
   ],
   "id": "70f02b8f5994f4f0",
   "outputs": [],
   "execution_count": 139
  },
  {
   "metadata": {
    "ExecuteTime": {
     "end_time": "2025-01-23T17:31:12.937898Z",
     "start_time": "2025-01-23T17:31:12.758949Z"
    }
   },
   "cell_type": "code",
   "source": [
    "import matplotlib.pyplot as plt\n",
    "\n",
    "plt.figure(figsize=(10, 10))\n",
    "\n",
    "plt.scatter(reduced_data[:, 0], reduced_data[:, 1], c=kmeans_results.labels_, cmap='viridis')\n",
    "plt.title('K-Means Clustering Visualization with t-SNE')\n",
    "plt.xlabel('t-SNE Dimension 1')\n",
    "plt.ylabel('t-SNE Dimension 2')\n",
    "plt.tick_params(\n",
    "    axis='both',\n",
    "    which='both',\n",
    "    bottom=False,\n",
    "    top=False,\n",
    "    left=False,\n",
    "    right=False,\n",
    "    labelbottom=False,\n",
    "    labelleft=False,\n",
    ")\n",
    "\n",
    "for i, name in enumerate(articles_by_category['category']):\n",
    "    plt.annotate(name, xy=(reduced_data[i, 0], reduced_data[i, 1]), ha='left', va='center', xytext=(5, 0), textcoords='offset points', fontsize=8)\n",
    "\n",
    "plt.show()"
   ],
   "id": "8c0c2b820b477996",
   "outputs": [
    {
     "data": {
      "text/plain": [
       "<Figure size 1000x1000 with 1 Axes>"
      ],
      "image/png": "[encoded data removed]"
     },
     "metadata": {},
     "output_type": "display_data"
    }
   ],
   "execution_count": 164
  },
  {
   "metadata": {
    "ExecuteTime": {
     "end_time": "2025-01-23T16:19:09.229926Z",
     "start_time": "2025-01-23T16:19:09.024163Z"
    }
   },
   "cell_type": "code",
   "source": [
    "from sklearn.cluster import DBSCAN\n",
    "\n",
    "dbscan = DBSCAN(eps=0.5, min_samples=5)\n",
    "dbscan.fit(tfid_sub_matrix)\n",
    "labels = dbscan.labels_"
   ],
   "id": "acf7a4f433f70786",
   "outputs": [],
   "execution_count": 41
  },
  {
   "metadata": {
    "ExecuteTime": {
     "end_time": "2025-01-23T16:19:44.804351Z",
     "start_time": "2025-01-23T16:19:44.800063Z"
    }
   },
   "cell_type": "code",
   "source": "print(dbscan.components_)",
   "id": "f97fef43bc490192",
   "outputs": [
    {
     "name": "stdout",
     "output_type": "stream",
     "text": [
      "[]\n"
     ]
    }
   ],
   "execution_count": 44
  },
  {
   "cell_type": "code",
   "id": "dadfe3e0",
   "metadata": {
    "execution": {
     "iopub.execute_input": "2025-01-22T12:58:03.698374Z",
     "iopub.status.busy": "2025-01-22T12:58:03.697820Z",
     "iopub.status.idle": "2025-01-22T12:58:06.798040Z",
     "shell.execute_reply": "2025-01-22T12:58:06.796935Z"
    },
    "papermill": {
     "duration": 3.105991,
     "end_time": "2025-01-22T12:58:06.799604",
     "exception": false,
     "start_time": "2025-01-22T12:58:03.693613",
     "status": "completed"
    },
    "tags": [],
    "ExecuteTime": {
     "end_time": "2025-01-23T16:00:59.596731Z",
     "start_time": "2025-01-23T16:00:46.098988Z"
    }
   },
   "source": [
    "from sklearn.naive_bayes import MultinomialNB\n",
    "from sklearn.linear_model import LogisticRegression\n",
    "from sklearn.pipeline import make_pipeline\n",
    "\n",
    "model = make_pipeline(vectorizer, MultinomialNB())\n",
    "\n",
    "model.fit(x_train, y_train['main_category'])\n"
   ],
   "outputs": [
    {
     "data": {
      "text/plain": [
       "Pipeline(steps=[('tfidfvectorizer',\n",
       "                 TfidfVectorizer(max_features=5000, ngram_range=(1, 2),\n",
       "                                 stop_words='english')),\n",
       "                ('multinomialnb', MultinomialNB())])"
      ],
      "text/html": [
       "<style>#sk-container-id-2 {\n",
       "  /* Definition of color scheme common for light and dark mode */\n",
       "  --sklearn-color-text: #000;\n",
       "  --sklearn-color-text-muted: #666;\n",
       "  --sklearn-color-line: gray;\n",
       "  /* Definition of color scheme for unfitted estimators */\n",
       "  --sklearn-color-unfitted-level-0: #fff5e6;\n",
       "  --sklearn-color-unfitted-level-1: #f6e4d2;\n",
       "  --sklearn-color-unfitted-level-2: #ffe0b3;\n",
       "  --sklearn-color-unfitted-level-3: chocolate;\n",
       "  /* Definition of color scheme for fitted estimators */\n",
       "  --sklearn-color-fitted-level-0: #f0f8ff;\n",
       "  --sklearn-color-fitted-level-1: #d4ebff;\n",
       "  --sklearn-color-fitted-level-2: #b3dbfd;\n",
       "  --sklearn-color-fitted-level-3: cornflowerblue;\n",
       "\n",
       "  /* Specific color for light theme */\n",
       "  --sklearn-color-text-on-default-background: var(--sg-text-color, var(--theme-code-foreground, var(--jp-content-font-color1, black)));\n",
       "  --sklearn-color-background: var(--sg-background-color, var(--theme-background, var(--jp-layout-color0, white)));\n",
       "  --sklearn-color-border-box: var(--sg-text-color, var(--theme-code-foreground, var(--jp-content-font-color1, black)));\n",
       "  --sklearn-color-icon: #696969;\n",
       "\n",
       "  @media (prefers-color-scheme: dark) {\n",
       "    /* Redefinition of color scheme for dark theme */\n",
       "    --sklearn-color-text-on-default-background: var(--sg-text-color, var(--theme-code-foreground, var(--jp-content-font-color1, white)));\n",
       "    --sklearn-color-background: var(--sg-background-color, var(--theme-background, var(--jp-layout-color0, #111)));\n",
       "    --sklearn-color-border-box: var(--sg-text-color, var(--theme-code-foreground, var(--jp-content-font-color1, white)));\n",
       "    --sklearn-color-icon: #878787;\n",
       "  }\n",
       "}\n",
       "\n",
       "#sk-container-id-2 {\n",
       "  color: var(--sklearn-color-text);\n",
       "}\n",
       "\n",
       "#sk-container-id-2 pre {\n",
       "  padding: 0;\n",
       "}\n",
       "\n",
       "#sk-container-id-2 input.sk-hidden--visually {\n",
       "  border: 0;\n",
       "  clip: rect(1px 1px 1px 1px);\n",
       "  clip: rect(1px, 1px, 1px, 1px);\n",
       "  height: 1px;\n",
       "  margin: -1px;\n",
       "  overflow: hidden;\n",
       "  padding: 0;\n",
       "  position: absolute;\n",
       "  width: 1px;\n",
       "}\n",
       "\n",
       "#sk-container-id-2 div.sk-dashed-wrapped {\n",
       "  border: 1px dashed var(--sklearn-color-line);\n",
       "  margin: 0 0.4em 0.5em 0.4em;\n",
       "  box-sizing: border-box;\n",
       "  padding-bottom: 0.4em;\n",
       "  background-color: var(--sklearn-color-background);\n",
       "}\n",
       "\n",
       "#sk-container-id-2 div.sk-container {\n",
       "  /* jupyter's `normalize.less` sets `[hidden] { display: none; }`\n",
       "     but bootstrap.min.css set `[hidden] { display: none !important; }`\n",
       "     so we also need the `!important` here to be able to override the\n",
       "     default hidden behavior on the sphinx rendered scikit-learn.org.\n",
       "     See: https://github.com/scikit-learn/scikit-learn/issues/21755 */\n",
       "  display: inline-block !important;\n",
       "  position: relative;\n",
       "}\n",
       "\n",
       "#sk-container-id-2 div.sk-text-repr-fallback {\n",
       "  display: none;\n",
       "}\n",
       "\n",
       "div.sk-parallel-item,\n",
       "div.sk-serial,\n",
       "div.sk-item {\n",
       "  /* draw centered vertical line to link estimators */\n",
       "  background-image: linear-gradient(var(--sklearn-color-text-on-default-background), var(--sklearn-color-text-on-default-background));\n",
       "  background-size: 2px 100%;\n",
       "  background-repeat: no-repeat;\n",
       "  background-position: center center;\n",
       "}\n",
       "\n",
       "/* Parallel-specific style estimator block */\n",
       "\n",
       "#sk-container-id-2 div.sk-parallel-item::after {\n",
       "  content: \"\";\n",
       "  width: 100%;\n",
       "  border-bottom: 2px solid var(--sklearn-color-text-on-default-background);\n",
       "  flex-grow: 1;\n",
       "}\n",
       "\n",
       "#sk-container-id-2 div.sk-parallel {\n",
       "  display: flex;\n",
       "  align-items: stretch;\n",
       "  justify-content: center;\n",
       "  background-color: var(--sklearn-color-background);\n",
       "  position: relative;\n",
       "}\n",
       "\n",
       "#sk-container-id-2 div.sk-parallel-item {\n",
       "  display: flex;\n",
       "  flex-direction: column;\n",
       "}\n",
       "\n",
       "#sk-container-id-2 div.sk-parallel-item:first-child::after {\n",
       "  align-self: flex-end;\n",
       "  width: 50%;\n",
       "}\n",
       "\n",
       "#sk-container-id-2 div.sk-parallel-item:last-child::after {\n",
       "  align-self: flex-start;\n",
       "  width: 50%;\n",
       "}\n",
       "\n",
       "#sk-container-id-2 div.sk-parallel-item:only-child::after {\n",
       "  width: 0;\n",
       "}\n",
       "\n",
       "/* Serial-specific style estimator block */\n",
       "\n",
       "#sk-container-id-2 div.sk-serial {\n",
       "  display: flex;\n",
       "  flex-direction: column;\n",
       "  align-items: center;\n",
       "  background-color: var(--sklearn-color-background);\n",
       "  padding-right: 1em;\n",
       "  padding-left: 1em;\n",
       "}\n",
       "\n",
       "\n",
       "/* Toggleable style: style used for estimator/Pipeline/ColumnTransformer box that is\n",
       "clickable and can be expanded/collapsed.\n",
       "- Pipeline and ColumnTransformer use this feature and define the default style\n",
       "- Estimators will overwrite some part of the style using the `sk-estimator` class\n",
       "*/\n",
       "\n",
       "/* Pipeline and ColumnTransformer style (default) */\n",
       "\n",
       "#sk-container-id-2 div.sk-toggleable {\n",
       "  /* Default theme specific background. It is overwritten whether we have a\n",
       "  specific estimator or a Pipeline/ColumnTransformer */\n",
       "  background-color: var(--sklearn-color-background);\n",
       "}\n",
       "\n",
       "/* Toggleable label */\n",
       "#sk-container-id-2 label.sk-toggleable__label {\n",
       "  cursor: pointer;\n",
       "  display: flex;\n",
       "  width: 100%;\n",
       "  margin-bottom: 0;\n",
       "  padding: 0.5em;\n",
       "  box-sizing: border-box;\n",
       "  text-align: center;\n",
       "  align-items: start;\n",
       "  justify-content: space-between;\n",
       "  gap: 0.5em;\n",
       "}\n",
       "\n",
       "#sk-container-id-2 label.sk-toggleable__label .caption {\n",
       "  font-size: 0.6rem;\n",
       "  font-weight: lighter;\n",
       "  color: var(--sklearn-color-text-muted);\n",
       "}\n",
       "\n",
       "#sk-container-id-2 label.sk-toggleable__label-arrow:before {\n",
       "  /* Arrow on the left of the label */\n",
       "  content: \"▸\";\n",
       "  float: left;\n",
       "  margin-right: 0.25em;\n",
       "  color: var(--sklearn-color-icon);\n",
       "}\n",
       "\n",
       "#sk-container-id-2 label.sk-toggleable__label-arrow:hover:before {\n",
       "  color: var(--sklearn-color-text);\n",
       "}\n",
       "\n",
       "/* Toggleable content - dropdown */\n",
       "\n",
       "#sk-container-id-2 div.sk-toggleable__content {\n",
       "  max-height: 0;\n",
       "  max-width: 0;\n",
       "  overflow: hidden;\n",
       "  text-align: left;\n",
       "  /* unfitted */\n",
       "  background-color: var(--sklearn-color-unfitted-level-0);\n",
       "}\n",
       "\n",
       "#sk-container-id-2 div.sk-toggleable__content.fitted {\n",
       "  /* fitted */\n",
       "  background-color: var(--sklearn-color-fitted-level-0);\n",
       "}\n",
       "\n",
       "#sk-container-id-2 div.sk-toggleable__content pre {\n",
       "  margin: 0.2em;\n",
       "  border-radius: 0.25em;\n",
       "  color: var(--sklearn-color-text);\n",
       "  /* unfitted */\n",
       "  background-color: var(--sklearn-color-unfitted-level-0);\n",
       "}\n",
       "\n",
       "#sk-container-id-2 div.sk-toggleable__content.fitted pre {\n",
       "  /* unfitted */\n",
       "  background-color: var(--sklearn-color-fitted-level-0);\n",
       "}\n",
       "\n",
       "#sk-container-id-2 input.sk-toggleable__control:checked~div.sk-toggleable__content {\n",
       "  /* Expand drop-down */\n",
       "  max-height: 200px;\n",
       "  max-width: 100%;\n",
       "  overflow: auto;\n",
       "}\n",
       "\n",
       "#sk-container-id-2 input.sk-toggleable__control:checked~label.sk-toggleable__label-arrow:before {\n",
       "  content: \"▾\";\n",
       "}\n",
       "\n",
       "/* Pipeline/ColumnTransformer-specific style */\n",
       "\n",
       "#sk-container-id-2 div.sk-label input.sk-toggleable__control:checked~label.sk-toggleable__label {\n",
       "  color: var(--sklearn-color-text);\n",
       "  background-color: var(--sklearn-color-unfitted-level-2);\n",
       "}\n",
       "\n",
       "#sk-container-id-2 div.sk-label.fitted input.sk-toggleable__control:checked~label.sk-toggleable__label {\n",
       "  background-color: var(--sklearn-color-fitted-level-2);\n",
       "}\n",
       "\n",
       "/* Estimator-specific style */\n",
       "\n",
       "/* Colorize estimator box */\n",
       "#sk-container-id-2 div.sk-estimator input.sk-toggleable__control:checked~label.sk-toggleable__label {\n",
       "  /* unfitted */\n",
       "  background-color: var(--sklearn-color-unfitted-level-2);\n",
       "}\n",
       "\n",
       "#sk-container-id-2 div.sk-estimator.fitted input.sk-toggleable__control:checked~label.sk-toggleable__label {\n",
       "  /* fitted */\n",
       "  background-color: var(--sklearn-color-fitted-level-2);\n",
       "}\n",
       "\n",
       "#sk-container-id-2 div.sk-label label.sk-toggleable__label,\n",
       "#sk-container-id-2 div.sk-label label {\n",
       "  /* The background is the default theme color */\n",
       "  color: var(--sklearn-color-text-on-default-background);\n",
       "}\n",
       "\n",
       "/* On hover, darken the color of the background */\n",
       "#sk-container-id-2 div.sk-label:hover label.sk-toggleable__label {\n",
       "  color: var(--sklearn-color-text);\n",
       "  background-color: var(--sklearn-color-unfitted-level-2);\n",
       "}\n",
       "\n",
       "/* Label box, darken color on hover, fitted */\n",
       "#sk-container-id-2 div.sk-label.fitted:hover label.sk-toggleable__label.fitted {\n",
       "  color: var(--sklearn-color-text);\n",
       "  background-color: var(--sklearn-color-fitted-level-2);\n",
       "}\n",
       "\n",
       "/* Estimator label */\n",
       "\n",
       "#sk-container-id-2 div.sk-label label {\n",
       "  font-family: monospace;\n",
       "  font-weight: bold;\n",
       "  display: inline-block;\n",
       "  line-height: 1.2em;\n",
       "}\n",
       "\n",
       "#sk-container-id-2 div.sk-label-container {\n",
       "  text-align: center;\n",
       "}\n",
       "\n",
       "/* Estimator-specific */\n",
       "#sk-container-id-2 div.sk-estimator {\n",
       "  font-family: monospace;\n",
       "  border: 1px dotted var(--sklearn-color-border-box);\n",
       "  border-radius: 0.25em;\n",
       "  box-sizing: border-box;\n",
       "  margin-bottom: 0.5em;\n",
       "  /* unfitted */\n",
       "  background-color: var(--sklearn-color-unfitted-level-0);\n",
       "}\n",
       "\n",
       "#sk-container-id-2 div.sk-estimator.fitted {\n",
       "  /* fitted */\n",
       "  background-color: var(--sklearn-color-fitted-level-0);\n",
       "}\n",
       "\n",
       "/* on hover */\n",
       "#sk-container-id-2 div.sk-estimator:hover {\n",
       "  /* unfitted */\n",
       "  background-color: var(--sklearn-color-unfitted-level-2);\n",
       "}\n",
       "\n",
       "#sk-container-id-2 div.sk-estimator.fitted:hover {\n",
       "  /* fitted */\n",
       "  background-color: var(--sklearn-color-fitted-level-2);\n",
       "}\n",
       "\n",
       "/* Specification for estimator info (e.g. \"i\" and \"?\") */\n",
       "\n",
       "/* Common style for \"i\" and \"?\" */\n",
       "\n",
       ".sk-estimator-doc-link,\n",
       "a:link.sk-estimator-doc-link,\n",
       "a:visited.sk-estimator-doc-link {\n",
       "  float: right;\n",
       "  font-size: smaller;\n",
       "  line-height: 1em;\n",
       "  font-family: monospace;\n",
       "  background-color: var(--sklearn-color-background);\n",
       "  border-radius: 1em;\n",
       "  height: 1em;\n",
       "  width: 1em;\n",
       "  text-decoration: none !important;\n",
       "  margin-left: 0.5em;\n",
       "  text-align: center;\n",
       "  /* unfitted */\n",
       "  border: var(--sklearn-color-unfitted-level-1) 1pt solid;\n",
       "  color: var(--sklearn-color-unfitted-level-1);\n",
       "}\n",
       "\n",
       ".sk-estimator-doc-link.fitted,\n",
       "a:link.sk-estimator-doc-link.fitted,\n",
       "a:visited.sk-estimator-doc-link.fitted {\n",
       "  /* fitted */\n",
       "  border: var(--sklearn-color-fitted-level-1) 1pt solid;\n",
       "  color: var(--sklearn-color-fitted-level-1);\n",
       "}\n",
       "\n",
       "/* On hover */\n",
       "div.sk-estimator:hover .sk-estimator-doc-link:hover,\n",
       ".sk-estimator-doc-link:hover,\n",
       "div.sk-label-container:hover .sk-estimator-doc-link:hover,\n",
       ".sk-estimator-doc-link:hover {\n",
       "  /* unfitted */\n",
       "  background-color: var(--sklearn-color-unfitted-level-3);\n",
       "  color: var(--sklearn-color-background);\n",
       "  text-decoration: none;\n",
       "}\n",
       "\n",
       "div.sk-estimator.fitted:hover .sk-estimator-doc-link.fitted:hover,\n",
       ".sk-estimator-doc-link.fitted:hover,\n",
       "div.sk-label-container:hover .sk-estimator-doc-link.fitted:hover,\n",
       ".sk-estimator-doc-link.fitted:hover {\n",
       "  /* fitted */\n",
       "  background-color: var(--sklearn-color-fitted-level-3);\n",
       "  color: var(--sklearn-color-background);\n",
       "  text-decoration: none;\n",
       "}\n",
       "\n",
       "/* Span, style for the box shown on hovering the info icon */\n",
       ".sk-estimator-doc-link span {\n",
       "  display: none;\n",
       "  z-index: 9999;\n",
       "  position: relative;\n",
       "  font-weight: normal;\n",
       "  right: .2ex;\n",
       "  padding: .5ex;\n",
       "  margin: .5ex;\n",
       "  width: min-content;\n",
       "  min-width: 20ex;\n",
       "  max-width: 50ex;\n",
       "  color: var(--sklearn-color-text);\n",
       "  box-shadow: 2pt 2pt 4pt #999;\n",
       "  /* unfitted */\n",
       "  background: var(--sklearn-color-unfitted-level-0);\n",
       "  border: .5pt solid var(--sklearn-color-unfitted-level-3);\n",
       "}\n",
       "\n",
       ".sk-estimator-doc-link.fitted span {\n",
       "  /* fitted */\n",
       "  background: var(--sklearn-color-fitted-level-0);\n",
       "  border: var(--sklearn-color-fitted-level-3);\n",
       "}\n",
       "\n",
       ".sk-estimator-doc-link:hover span {\n",
       "  display: block;\n",
       "}\n",
       "\n",
       "/* \"?\"-specific style due to the `<a>` HTML tag */\n",
       "\n",
       "#sk-container-id-2 a.estimator_doc_link {\n",
       "  float: right;\n",
       "  font-size: 1rem;\n",
       "  line-height: 1em;\n",
       "  font-family: monospace;\n",
       "  background-color: var(--sklearn-color-background);\n",
       "  border-radius: 1rem;\n",
       "  height: 1rem;\n",
       "  width: 1rem;\n",
       "  text-decoration: none;\n",
       "  /* unfitted */\n",
       "  color: var(--sklearn-color-unfitted-level-1);\n",
       "  border: var(--sklearn-color-unfitted-level-1) 1pt solid;\n",
       "}\n",
       "\n",
       "#sk-container-id-2 a.estimator_doc_link.fitted {\n",
       "  /* fitted */\n",
       "  border: var(--sklearn-color-fitted-level-1) 1pt solid;\n",
       "  color: var(--sklearn-color-fitted-level-1);\n",
       "}\n",
       "\n",
       "/* On hover */\n",
       "#sk-container-id-2 a.estimator_doc_link:hover {\n",
       "  /* unfitted */\n",
       "  background-color: var(--sklearn-color-unfitted-level-3);\n",
       "  color: var(--sklearn-color-background);\n",
       "  text-decoration: none;\n",
       "}\n",
       "\n",
       "#sk-container-id-2 a.estimator_doc_link.fitted:hover {\n",
       "  /* fitted */\n",
       "  background-color: var(--sklearn-color-fitted-level-3);\n",
       "}\n",
       "</style><div id=\"sk-container-id-2\" class=\"sk-top-container\"><div class=\"sk-text-repr-fallback\"><pre>Pipeline(steps=[(&#x27;tfidfvectorizer&#x27;,\n",
       "                 TfidfVectorizer(max_features=5000, ngram_range=(1, 2),\n",
       "                                 stop_words=&#x27;english&#x27;)),\n",
       "                (&#x27;multinomialnb&#x27;, MultinomialNB())])</pre><b>In a Jupyter environment, please rerun this cell to show the HTML representation or trust the notebook. <br />On GitHub, the HTML representation is unable to render, please try loading this page with nbviewer.org.</b></div><div class=\"sk-container\" hidden><div class=\"sk-item sk-dashed-wrapped\"><div class=\"sk-label-container\"><div class=\"sk-label fitted sk-toggleable\"><input class=\"sk-toggleable__control sk-hidden--visually\" id=\"sk-estimator-id-4\" type=\"checkbox\" ><label for=\"sk-estimator-id-4\" class=\"sk-toggleable__label fitted sk-toggleable__label-arrow\"><div><div>Pipeline</div></div><div><a class=\"sk-estimator-doc-link fitted\" rel=\"noreferrer\" target=\"_blank\" href=\"https://scikit-learn.org/1.6/modules/generated/sklearn.pipeline.Pipeline.html\">?<span>Documentation for Pipeline</span></a><span class=\"sk-estimator-doc-link fitted\">i<span>Fitted</span></span></div></label><div class=\"sk-toggleable__content fitted\"><pre>Pipeline(steps=[(&#x27;tfidfvectorizer&#x27;,\n",
       "                 TfidfVectorizer(max_features=5000, ngram_range=(1, 2),\n",
       "                                 stop_words=&#x27;english&#x27;)),\n",
       "                (&#x27;multinomialnb&#x27;, MultinomialNB())])</pre></div> </div></div><div class=\"sk-serial\"><div class=\"sk-item\"><div class=\"sk-estimator fitted sk-toggleable\"><input class=\"sk-toggleable__control sk-hidden--visually\" id=\"sk-estimator-id-5\" type=\"checkbox\" ><label for=\"sk-estimator-id-5\" class=\"sk-toggleable__label fitted sk-toggleable__label-arrow\"><div><div>TfidfVectorizer</div></div><div><a class=\"sk-estimator-doc-link fitted\" rel=\"noreferrer\" target=\"_blank\" href=\"https://scikit-learn.org/1.6/modules/generated/sklearn.feature_extraction.text.TfidfVectorizer.html\">?<span>Documentation for TfidfVectorizer</span></a></div></label><div class=\"sk-toggleable__content fitted\"><pre>TfidfVectorizer(max_features=5000, ngram_range=(1, 2), stop_words=&#x27;english&#x27;)</pre></div> </div></div><div class=\"sk-item\"><div class=\"sk-estimator fitted sk-toggleable\"><input class=\"sk-toggleable__control sk-hidden--visually\" id=\"sk-estimator-id-6\" type=\"checkbox\" ><label for=\"sk-estimator-id-6\" class=\"sk-toggleable__label fitted sk-toggleable__label-arrow\"><div><div>MultinomialNB</div></div><div><a class=\"sk-estimator-doc-link fitted\" rel=\"noreferrer\" target=\"_blank\" href=\"https://scikit-learn.org/1.6/modules/generated/sklearn.naive_bayes.MultinomialNB.html\">?<span>Documentation for MultinomialNB</span></a></div></label><div class=\"sk-toggleable__content fitted\"><pre>MultinomialNB()</pre></div> </div></div></div></div></div></div>"
      ]
     },
     "execution_count": 16,
     "metadata": {},
     "output_type": "execute_result"
    }
   ],
   "execution_count": 16
  },
  {
   "cell_type": "code",
   "id": "a8b407cf",
   "metadata": {
    "execution": {
     "iopub.execute_input": "2025-01-22T12:58:06.807686Z",
     "iopub.status.busy": "2025-01-22T12:58:06.807356Z",
     "iopub.status.idle": "2025-01-22T12:58:07.345956Z",
     "shell.execute_reply": "2025-01-22T12:58:07.345020Z"
    },
    "papermill": {
     "duration": 0.54464,
     "end_time": "2025-01-22T12:58:07.347847",
     "exception": false,
     "start_time": "2025-01-22T12:58:06.803207",
     "status": "completed"
    },
    "tags": [],
    "ExecuteTime": {
     "end_time": "2025-01-23T16:01:03.688677Z",
     "start_time": "2025-01-23T16:01:02.150016Z"
    }
   },
   "source": "labels = model.predict(x_test)",
   "outputs": [],
   "execution_count": 17
  },
  {
   "cell_type": "code",
   "id": "f7470f45",
   "metadata": {
    "execution": {
     "iopub.execute_input": "2025-01-22T12:58:07.379283Z",
     "iopub.status.busy": "2025-01-22T12:58:07.378929Z",
     "iopub.status.idle": "2025-01-22T12:58:07.710870Z",
     "shell.execute_reply": "2025-01-22T12:58:07.710013Z"
    },
    "papermill": {
     "duration": 0.338471,
     "end_time": "2025-01-22T12:58:07.712682",
     "exception": false,
     "start_time": "2025-01-22T12:58:07.374211",
     "status": "completed"
    },
    "tags": [],
    "ExecuteTime": {
     "end_time": "2025-01-23T16:01:05.185044Z",
     "start_time": "2025-01-23T16:01:04.697396Z"
    }
   },
   "source": [
    "from sklearn.metrics import confusion_matrix, f1_score, classification_report\n",
    "\n",
    "category_names = pd.unique(y_train['main_category'])\n",
    "print(classification_report(y_test['main_category'], labels, target_names=category_names))\n",
    "mat = confusion_matrix(y_test['main_category'], labels, labels=category_names)\n",
    "f1_score_result = f1_score(y_test['main_category'], labels, average='micro')"
   ],
   "outputs": [
    {
     "name": "stdout",
     "output_type": "stream",
     "text": [
      "               precision    recall  f1-score   support\n",
      "\n",
      "      SCIENCE       0.73      0.78      0.76     12604\n",
      "    LIFESTYLE       0.66      0.57      0.61      8051\n",
      "ENTERTAINMENT       0.76      0.83      0.79     14648\n",
      "         NEWS       0.73      0.61      0.67      6603\n",
      "\n",
      "     accuracy                           0.73     41906\n",
      "    macro avg       0.72      0.70      0.71     41906\n",
      " weighted avg       0.73      0.73      0.73     41906\n",
      "\n"
     ]
    }
   ],
   "execution_count": 18
  },
  {
   "cell_type": "code",
   "id": "5fbb9ab2",
   "metadata": {
    "execution": {
     "iopub.execute_input": "2025-01-22T12:58:07.721453Z",
     "iopub.status.busy": "2025-01-22T12:58:07.721131Z",
     "iopub.status.idle": "2025-01-22T12:58:12.784005Z",
     "shell.execute_reply": "2025-01-22T12:58:12.782899Z"
    },
    "papermill": {
     "duration": 5.071959,
     "end_time": "2025-01-22T12:58:12.788542",
     "exception": false,
     "start_time": "2025-01-22T12:58:07.716583",
     "status": "completed"
    },
    "tags": [],
    "ExecuteTime": {
     "end_time": "2025-01-23T16:01:08.278679Z",
     "start_time": "2025-01-23T16:01:08.061030Z"
    }
   },
   "source": [
    "import matplotlib.pyplot as plt\n",
    "import seaborn as sns; sns.set_theme()\n",
    "import numpy as np\n",
    "\n",
    "np.set_printoptions(threshold=1000)\n",
    "\n",
    "print(f1_score_result)\n",
    "\n",
    "print(mat)\n",
    "\n",
    "plt.rcParams.update({'font.size': 8, 'figure.figsize': [2, 2]})\n",
    "sns.set(font_scale=0.8)\n",
    "sns.heatmap(mat.T, square=True, annot=True, fmt='d', cbar=False, xticklabels=category_names, yticklabels=category_names)\n",
    "plt.xlabel('true label')\n",
    "plt.ylabel('predicted label')"
   ],
   "outputs": [
    {
     "name": "stdout",
     "output_type": "stream",
     "text": [
      "0.7304204648499022\n",
      "[[ 4056   795   864   888]\n",
      " [  652  4572  1505  1322]\n",
      " [  385   804  9875  1540]\n",
      " [  499   752  1291 12106]]\n"
     ]
    },
    {
     "data": {
      "text/plain": [
       "Text(-3.250000000000007, 0.5, 'predicted label')"
      ]
     },
     "execution_count": 19,
     "metadata": {},
     "output_type": "execute_result"
    },
    {
     "data": {
      "text/plain": [
       "<Figure size 200x200 with 1 Axes>"
      ],
      "image/png": "[encoded data removed]"
     },
     "metadata": {},
     "output_type": "display_data"
    }
   ],
   "execution_count": 19
  },
  {
   "metadata": {
    "ExecuteTime": {
     "end_time": "2025-01-23T15:26:48.310641Z",
     "start_time": "2025-01-23T15:26:40.618455Z"
    }
   },
   "cell_type": "code",
   "source": [
    "headline = input('Enter a headline')\n",
    "model.predict([headline])"
   ],
   "id": "f283d0707be1f62a",
   "outputs": [
    {
     "data": {
      "text/plain": [
       "array(['NEWS'], dtype='<U13')"
      ]
     },
     "execution_count": 144,
     "metadata": {},
     "output_type": "execute_result"
    }
   ],
   "execution_count": 144
  }
 ],
 "metadata": {
  "kaggle": {
   "accelerator": "none",
   "dataSources": [
    {
     "datasetId": 1550907,
     "sourceId": 2556316,
     "sourceType": "datasetVersion"
    },
    {
     "datasetId": 32526,
     "sourceId": 4243451,
     "sourceType": "datasetVersion"
    }
   ],
   "dockerImageVersionId": 30839,
   "isGpuEnabled": false,
   "isInternetEnabled": true,
   "language": "python",
   "sourceType": "notebook"
  },
  "kernelspec": {
   "display_name": "Python 3",
   "language": "python",
   "name": "python3"
  },
  "language_info": {
   "codemirror_mode": {
    "name": "ipython",
    "version": 3
   },
   "file_extension": ".py",
   "mimetype": "text/x-python",
   "name": "python",
   "nbconvert_exporter": "python",
   "pygments_lexer": "ipython3",
   "version": "3.10.12"
  },
  "papermill": {
   "default_parameters": {},
   "duration": 18.520466,
   "end_time": "2025-01-22T12:58:13.920573",
   "environment_variables": {},
   "exception": null,
   "input_path": "__notebook__.ipynb",
   "output_path": "__notebook__.ipynb",
   "parameters": {},
   "start_time": "2025-01-22T12:57:55.400107",
   "version": "2.6.0"
  }
 },
 "nbformat": 4,
 "nbformat_minor": 5
}
