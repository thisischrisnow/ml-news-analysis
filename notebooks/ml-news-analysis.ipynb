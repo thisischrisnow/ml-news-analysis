{
 "cells": [
  {
   "cell_type": "markdown",
   "id": "ae7cca8d3174b8d6",
   "metadata": {},
   "source": [
    "# News Classification with Machine Learning\n",
    "\n",
    "This project demonstrates an application of natural language processing (NLP) to classify news stories.\n",
    "\n",
    "1. [Setup](#Setup) -\n",
    "2. [Feature Extration](#Feature-Extraction)"
   ]
  },
  {
   "metadata": {},
   "cell_type": "markdown",
   "source": [
    "## Load and setup data\n",
    "\n",
    "Load data from the CSV in the input directory.\n",
    "Data is structured as individual JSON lines with the following properties:\n",
    "\n",
    "| Column Name        | Type       | Description                    |\n",
    "|:-------------------|:-----------|:-------------------------------|\n",
    "| category           | category   | One of 42 categories           |\n",
    "| headline           | string     | Story headline                 |\n",
    "| short_description  | string     | Brief description of the story |\n",
    "| link               | string     | URL to story                   |\n",
    "| authors            | string     | Name of article authors        |\n",
    "| date               | YYYY-MM-DD | Date article was published     |\n",
    "\n",
    "### Data source\n",
    "    Misra, Rishabh. \"News Category Dataset.\" arXiv preprint arXiv:2209.11429 (2022).\n",
    "    Misra, Rishabh and Jigyasa Grover. \"Sculpting Data for ML: The first act of Machine Learning.\" ISBN 9798585463570 (2021).\n",
    "    https://rishabhmisra.github.io/publications/"
   ],
   "id": "806fd44f7d24c8e"
  },
  {
   "cell_type": "code",
   "id": "8845fe4a",
   "metadata": {
    "papermill": {
     "duration": 0.919199,
     "end_time": "2025-01-22T12:57:58.995884",
     "exception": false,
     "start_time": "2025-01-22T12:57:58.076685",
     "status": "completed"
    },
    "tags": [],
    "ExecuteTime": {
     "end_time": "2025-01-26T06:08:33.699276Z",
     "start_time": "2025-01-26T06:08:30.732373Z"
    }
   },
   "source": [
    "import pandas as pd\n",
    "from babel.messages.frontend import SetupError\n",
    "\n",
    "df = pd.read_json('../input/news-category-dataset/News_Category_Dataset_v3.json', lines=True)\n",
    "df['category'] = df['category'].astype('category') # Set category column as panda's category type to ensure efficient processing\n",
    "\n",
    "display(df.head())"
   ],
   "outputs": [
    {
     "data": {
      "text/plain": [
       "                                                link  \\\n",
       "0  https://www.huffpost.com/entry/covid-boosters-...   \n",
       "1  https://www.huffpost.com/entry/american-airlin...   \n",
       "2  https://www.huffpost.com/entry/funniest-tweets...   \n",
       "3  https://www.huffpost.com/entry/funniest-parent...   \n",
       "4  https://www.huffpost.com/entry/amy-cooper-lose...   \n",
       "\n",
       "                                            headline   category  \\\n",
       "0  Over 4 Million Americans Roll Up Sleeves For O...  U.S. NEWS   \n",
       "1  American Airlines Flyer Charged, Banned For Li...  U.S. NEWS   \n",
       "2  23 Of The Funniest Tweets About Cats And Dogs ...     COMEDY   \n",
       "3  The Funniest Tweets From Parents This Week (Se...  PARENTING   \n",
       "4  Woman Who Called Cops On Black Bird-Watcher Lo...  U.S. NEWS   \n",
       "\n",
       "                                   short_description               authors  \\\n",
       "0  Health experts said it is too early to predict...  Carla K. Johnson, AP   \n",
       "1  He was subdued by passengers and crew when he ...        Mary Papenfuss   \n",
       "2  \"Until you have a dog you don't understand wha...         Elyse Wanshel   \n",
       "3  \"Accidentally put grown-up toothpaste on my to...      Caroline Bologna   \n",
       "4  Amy Cooper accused investment firm Franklin Te...        Nina Golgowski   \n",
       "\n",
       "        date  \n",
       "0 2022-09-23  \n",
       "1 2022-09-23  \n",
       "2 2022-09-23  \n",
       "3 2022-09-23  \n",
       "4 2022-09-22  "
      ],
      "text/html": [
       "<div>\n",
       "<style scoped>\n",
       "    .dataframe tbody tr th:only-of-type {\n",
       "        vertical-align: middle;\n",
       "    }\n",
       "\n",
       "    .dataframe tbody tr th {\n",
       "        vertical-align: top;\n",
       "    }\n",
       "\n",
       "    .dataframe thead th {\n",
       "        text-align: right;\n",
       "    }\n",
       "</style>\n",
       "<table border=\"1\" class=\"dataframe\">\n",
       "  <thead>\n",
       "    <tr style=\"text-align: right;\">\n",
       "      <th></th>\n",
       "      <th>link</th>\n",
       "      <th>headline</th>\n",
       "      <th>category</th>\n",
       "      <th>short_description</th>\n",
       "      <th>authors</th>\n",
       "      <th>date</th>\n",
       "    </tr>\n",
       "  </thead>\n",
       "  <tbody>\n",
       "    <tr>\n",
       "      <th>0</th>\n",
       "      <td>https://www.huffpost.com/entry/covid-boosters-...</td>\n",
       "      <td>Over 4 Million Americans Roll Up Sleeves For O...</td>\n",
       "      <td>U.S. NEWS</td>\n",
       "      <td>Health experts said it is too early to predict...</td>\n",
       "      <td>Carla K. Johnson, AP</td>\n",
       "      <td>2022-09-23</td>\n",
       "    </tr>\n",
       "    <tr>\n",
       "      <th>1</th>\n",
       "      <td>https://www.huffpost.com/entry/american-airlin...</td>\n",
       "      <td>American Airlines Flyer Charged, Banned For Li...</td>\n",
       "      <td>U.S. NEWS</td>\n",
       "      <td>He was subdued by passengers and crew when he ...</td>\n",
       "      <td>Mary Papenfuss</td>\n",
       "      <td>2022-09-23</td>\n",
       "    </tr>\n",
       "    <tr>\n",
       "      <th>2</th>\n",
       "      <td>https://www.huffpost.com/entry/funniest-tweets...</td>\n",
       "      <td>23 Of The Funniest Tweets About Cats And Dogs ...</td>\n",
       "      <td>COMEDY</td>\n",
       "      <td>\"Until you have a dog you don't understand wha...</td>\n",
       "      <td>Elyse Wanshel</td>\n",
       "      <td>2022-09-23</td>\n",
       "    </tr>\n",
       "    <tr>\n",
       "      <th>3</th>\n",
       "      <td>https://www.huffpost.com/entry/funniest-parent...</td>\n",
       "      <td>The Funniest Tweets From Parents This Week (Se...</td>\n",
       "      <td>PARENTING</td>\n",
       "      <td>\"Accidentally put grown-up toothpaste on my to...</td>\n",
       "      <td>Caroline Bologna</td>\n",
       "      <td>2022-09-23</td>\n",
       "    </tr>\n",
       "    <tr>\n",
       "      <th>4</th>\n",
       "      <td>https://www.huffpost.com/entry/amy-cooper-lose...</td>\n",
       "      <td>Woman Who Called Cops On Black Bird-Watcher Lo...</td>\n",
       "      <td>U.S. NEWS</td>\n",
       "      <td>Amy Cooper accused investment firm Franklin Te...</td>\n",
       "      <td>Nina Golgowski</td>\n",
       "      <td>2022-09-22</td>\n",
       "    </tr>\n",
       "  </tbody>\n",
       "</table>\n",
       "</div>"
      ]
     },
     "metadata": {},
     "output_type": "display_data"
    }
   ],
   "execution_count": 1377
  },
  {
   "cell_type": "code",
   "id": "fe6d9d4b",
   "metadata": {
    "papermill": {
     "duration": 1.519624,
     "end_time": "2025-01-22T12:58:03.689986",
     "exception": false,
     "start_time": "2025-01-22T12:58:02.170362",
     "status": "completed"
    },
    "tags": [],
    "ExecuteTime": {
     "end_time": "2025-01-26T06:08:36.081503Z",
     "start_time": "2025-01-26T06:08:35.770611Z"
    }
   },
   "source": [
    "from sklearn.model_selection import train_test_split\n",
    "\n",
    "x = df['headline'] + ' ' + df['short_description'] # x, input, independent variable, is all text headline + short_description\n",
    "y = df[['category']] # y, output, dependent variable, is dataframe with only category column\n",
    "\n",
    "# Split data into train (80%) and test (remaining 20%). Use stratify to ensure even split of categories\n",
    "x_train, x_test, y_train, y_test = train_test_split(x, y, test_size=0.2, stratify=y['category'], random_state=5)"
   ],
   "outputs": [],
   "execution_count": 1378
  },
  {
   "cell_type": "code",
   "id": "c78c41e472498550",
   "metadata": {
    "ExecuteTime": {
     "end_time": "2025-01-26T06:08:39.290044Z",
     "start_time": "2025-01-26T06:08:39.168569Z"
    }
   },
   "source": [
    "# Group training data by category\n",
    "articles_by_category = (\n",
    "    x_train\n",
    "        .groupby(y_train['category'], observed=True)\n",
    "        .apply(lambda article: ' '.join(article.astype(str))) # all_articles column contains text from all articles for the category\n",
    "        .reset_index(name='all_articles')\n",
    ")"
   ],
   "outputs": [],
   "execution_count": 1379
  },
  {
   "cell_type": "markdown",
   "id": "6cf6f5c20d7187d0",
   "metadata": {},
   "source": [
    "## Feature Extraction"
   ]
  },
  {
   "cell_type": "code",
   "id": "1dfd39a95d63f244",
   "metadata": {
    "ExecuteTime": {
     "end_time": "2025-01-26T06:08:59.331051Z",
     "start_time": "2025-01-26T06:08:59.295213Z"
    }
   },
   "source": [
    "%%capture\n",
    "import nltk\n",
    "import subprocess\n",
    "import sys\n",
    "\n",
    "'''\n",
    "Download data needed for tokenization\n",
    "'''\n",
    "try:\n",
    "    nltk.data.find('wordnet') # Attempt to locate wordnet\n",
    "except LookupError:\n",
    "    # When wordnet data is not found, download to working directory and unzip.\n",
    "    nltk.download('wordnet', download_dir='../working/', quiet=True)\n",
    "    if sys.platform.startswith('linux'): # Unzip is necessary on Kaggle but this will work in any linux based environment\n",
    "        command = \"unzip ../working/corpora/wordnet.zip -d ../working/corpora\"\n",
    "        subprocess.run(command.split())\n",
    "        nltk.data.path.append('../working/')\n",
    "\n",
    "nltk.download('stopwords', quiet=True)\n",
    "nltk.download('punkt', quiet=True)\n",
    "nltk.download('punkt_tab', quiet=True)"
   ],
   "outputs": [],
   "execution_count": 1381
  },
  {
   "metadata": {},
   "cell_type": "markdown",
   "source": [
    "### Vectorize Data\n",
    "\n",
    "Using a term frequency - inverse document frequency (TF-IDF) algorithm, extract the top 15k words used amongst all categories.\n",
    "\n",
    "1. Articles are tokenized\n",
    "    1. **Separate** \"all_articles\" by words into a list\n",
    "    2. **Lowercase** all words so words like \"President\" and \"president\" are treated as equal\n",
    "    3. **Lemmatize** each word so \"runs\" and \"run\" are treated as equal\n",
    "    4. Filter out **stop words** so words like \"the\" and \"and\" that do not add meaning do not skew results.\n",
    "    5. Filter out words **less than 3 characters**.\n",
    "2. Count terms in each document\n",
    "3. Score term frequency by determining frequency in individual documents and weighting terms that are more distinct in particular documents\n",
    "4. Limit to top 15k words (max features)"
   ],
   "id": "d05cc2883d94a34d"
  },
  {
   "cell_type": "code",
   "id": "464057fe3a8a14a3",
   "metadata": {
    "ExecuteTime": {
     "end_time": "2025-01-26T06:09:51.193406Z",
     "start_time": "2025-01-26T06:09:03.276183Z"
    }
   },
   "source": [
    "import re\n",
    "from nltk.tokenize import word_tokenize\n",
    "from nltk.stem import WordNetLemmatizer\n",
    "from nltk.corpus import stopwords\n",
    "from sklearn.feature_extraction.text import TfidfVectorizer\n",
    "\n",
    "# lemmatizer is used to convert words to a common version. For example, \"runs\" and \"run\" become \"run\"\n",
    "lemmatizer = WordNetLemmatizer()\n",
    "# stopwords are common words that do not add meaning. Words like \"the\" \"and\" add noise so this list can filter these\n",
    "stopwords_list = stopwords.words('english') + ['want', 'say', 'way', 'need', 'said', 'get', 'like', 'could', 'thing']\n",
    "\n",
    "# Define tokenizer function for use during vectorization\n",
    "def tokenizer(text):\n",
    "    # tokenize the string - split the sentence to the individual words, remove non-alphanumeric characters, and lowercase the tokens\n",
    "    tokens = [re.sub(r'[^A-Za-z0-9]', '', t).strip() for t in word_tokenize(text.lower())]\n",
    "    # remove stopwords and words less than 3 characters\n",
    "    return [lemmatizer.lemmatize(token) for token in tokens if token not in stopwords_list and len(token) > 2]\n",
    "\n",
    "# TfidfVectorizer counts words in each document, then uses the TF-IDF algorithm to determine each term (features) weight\n",
    "vectorizer = TfidfVectorizer(tokenizer=tokenizer, max_features=15000, token_pattern=None)\n",
    "# Apply vectorizer to the articles by category dataframe\n",
    "tfidf_category_matrix = vectorizer.fit_transform(articles_by_category['all_articles'])"
   ],
   "outputs": [],
   "execution_count": 1382
  },
  {
   "metadata": {},
   "cell_type": "markdown",
   "source": [
    "### Group Categories Using K-Means Clustering\n",
    "\n",
    "The K-Means algorithm is an unsupervised clustering algorithm used to identify a specific number of clusters from the provided data.\n",
    "\n"
   ],
   "id": "1616e938fa493ba"
  },
  {
   "cell_type": "code",
   "id": "1f89e360a98a4800",
   "metadata": {
    "ExecuteTime": {
     "end_time": "2025-01-26T06:32:23.199475Z",
     "start_time": "2025-01-26T06:32:20.598024Z"
    }
   },
   "source": [
    "from sklearn.cluster import KMeans\n",
    "\n",
    "kmeans = KMeans(n_clusters=4, random_state=20, max_iter=500, init='random', n_init=300)\n",
    "kmeans_results = kmeans.fit(tfidf_category_matrix)"
   ],
   "outputs": [],
   "execution_count": 1468
  },
  {
   "cell_type": "code",
   "id": "70f02b8f5994f4f0",
   "metadata": {
    "ExecuteTime": {
     "end_time": "2025-01-26T06:32:24.887019Z",
     "start_time": "2025-01-26T06:32:24.661852Z"
    }
   },
   "source": [
    "from sklearn.manifold import TSNE\n",
    "\n",
    "tsne = TSNE(n_components=3, init='random', random_state=5)\n",
    "reduced_data = tsne.fit_transform(tfidf_category_matrix)"
   ],
   "outputs": [],
   "execution_count": 1469
  },
  {
   "cell_type": "code",
   "id": "576a6393e2a203c8",
   "metadata": {
    "ExecuteTime": {
     "end_time": "2025-01-26T06:32:25.773950Z",
     "start_time": "2025-01-26T06:32:25.702469Z"
    }
   },
   "source": [
    "import numpy as np\n",
    "from collections import defaultdict\n",
    "from sklearn.metrics.pairwise import cosine_similarity\n",
    "\n",
    "category_names = articles_by_category['category']\n",
    "\n",
    "cluster_categories = defaultdict(list)\n",
    "for i, label in enumerate(kmeans_results.labels_):\n",
    "    cluster_categories[label].append(i)\n",
    "\n",
    "cluster_tfidf_matrices = {}\n",
    "for cluster_id, category_indices in cluster_categories.items():\n",
    "    cluster_tfidf_matrices[cluster_id] = np.asarray(np.mean(tfidf_category_matrix[category_indices], axis=0))\n",
    "\n",
    "dominant_categories = []\n",
    "category_dominance_scores = [0] * len(category_names)\n",
    "for cluster_id, category_indices in cluster_categories.items():\n",
    "    cluster_tfidf = cluster_tfidf_matrices[cluster_id]\n",
    "    similarity = cosine_similarity(tfidf_category_matrix[category_indices], cluster_tfidf.reshape(1, -1))\n",
    "\n",
    "    article_counts = np.array([len(x_train[y_train['category'] == category_names[i]]) for i in category_indices])\n",
    "    article_counts = article_counts / article_counts.sum()\n",
    "\n",
    "    combined_score = 0.6 * similarity.flatten() + 0.4 * article_counts\n",
    "\n",
    "    top_3_indices = np.argsort(combined_score)[-3:][::-1]\n",
    "    top_3_names = [category_names[category_indices[i]] for i in top_3_indices]\n",
    "\n",
    "    # dominant_category_index = category_indices[np.argmax(combined_score)]\n",
    "    dominant_categories.append(\" - \".join(top_3_names))\n",
    "\n",
    "    for list_idx, cat_idx in enumerate(category_indices):\n",
    "        category_dominance_scores[cat_idx] = combined_score[list_idx]\n"
   ],
   "outputs": [],
   "execution_count": 1470
  },
  {
   "cell_type": "code",
   "id": "909a39768ec78afc",
   "metadata": {
    "ExecuteTime": {
     "end_time": "2025-01-26T06:32:26.671069Z",
     "start_time": "2025-01-26T06:32:26.666896Z"
    }
   },
   "source": [
    "print(dominant_categories)"
   ],
   "outputs": [
    {
     "name": "stdout",
     "output_type": "stream",
     "text": [
      "['ENTERTAINMENT - STYLE & BEAUTY - ARTS', 'WELLNESS - IMPACT - HEALTHY LIVING', 'POLITICS - WORLD NEWS - THE WORLDPOST', 'FOOD & DRINK - TASTE']\n"
     ]
    }
   ],
   "execution_count": 1471
  },
  {
   "cell_type": "code",
   "id": "8f79a22038c2d74c",
   "metadata": {
    "ExecuteTime": {
     "end_time": "2025-01-26T06:32:30.332802Z",
     "start_time": "2025-01-26T06:32:30.296419Z"
    }
   },
   "source": [
    "from collections import defaultdict\n",
    "\n",
    "feature_names = vectorizer.get_feature_names_out()\n",
    "keyword_cluster_association = defaultdict(lambda: defaultdict(float))\n",
    "\n",
    "for cluster_id, cluster_tfidf in cluster_tfidf_matrices.items():\n",
    "    top_word_indices = np.argsort(cluster_tfidf.flatten())[::-1][:50]\n",
    "    for word_index in top_word_indices:\n",
    "        tfidf_score = cluster_tfidf.flatten()[word_index]\n",
    "        word = feature_names[word_index]\n",
    "        keyword_cluster_association[word][dominant_categories[cluster_id]] = tfidf_score\n"
   ],
   "outputs": [],
   "execution_count": 1472
  },
  {
   "cell_type": "code",
   "id": "607d5c3a7e753221",
   "metadata": {
    "scrolled": true,
    "ExecuteTime": {
     "end_time": "2025-01-26T06:32:36.351886Z",
     "start_time": "2025-01-26T06:32:36.005088Z"
    }
   },
   "source": [
    "import networkx as nx\n",
    "import plotly.graph_objects as go\n",
    "\n",
    "G = nx.Graph()\n",
    "G.clear()\n",
    "\n",
    "for keyword, associations in keyword_cluster_association.items():\n",
    "    G.add_node(keyword, type='keyword')\n",
    "    for cluster_name in set(dominant_categories):\n",
    "        score = associations.get(cluster_name)\n",
    "        if score is not None and score > 0.01:\n",
    "            G.add_edge(keyword, cluster_name, weight=score)\n",
    "\n",
    "\n",
    "for cluster_name in set(dominant_categories):\n",
    "    G.add_node(cluster_name, type='cluster')\n",
    "\n",
    "num_clusters = len(set(dominant_categories))\n",
    "x_start = -10\n",
    "x_end = 100\n",
    "x_positions = np.linspace(x_start, x_end, num_clusters)\n",
    "y_positions = [20 + 2*i if i%2 == 0 else 2*i for i in range(num_clusters)]\n",
    "\n",
    "cluster_positions = {\n",
    "    cluster_name: (x, y)\n",
    "    for cluster_name, x, y in zip(set(dominant_categories), x_positions, y_positions)\n",
    "}\n",
    "\n",
    "fixed_positions = cluster_positions\n",
    "\n",
    "fixed_nodes = list(cluster_positions.keys())\n",
    "\n",
    "pos = nx.spring_layout(G, k=3, iterations=500, scale=2, pos=fixed_positions, fixed=fixed_nodes)\n",
    "\n",
    "edge_x = []\n",
    "edge_y = []\n",
    "edge_weights = []\n",
    "for edge in G.edges():\n",
    "    x0, y0 = pos[edge[0]]\n",
    "    x1, y1 = pos[edge[1]]\n",
    "    edge_x.extend([x0, x1, None])\n",
    "    edge_y.extend([y0, y1, None])\n",
    "    edge_weights.append(G.edges[edge]['weight'])\n",
    "\n",
    "edge_trace = go.Scatter(\n",
    "    x=edge_x,\n",
    "    y=edge_y,\n",
    "    line=dict(width=0.5, color=\"#888\"),\n",
    "    hoverinfo=\"none\",\n",
    "    mode=\"lines\",\n",
    ")\n",
    "\n",
    "node_x = []\n",
    "node_y = []\n",
    "node_colors = []\n",
    "node_sizes = []\n",
    "all_nodes = []\n",
    "for node, data in G.nodes(data=True):\n",
    "    all_nodes.append(node)\n",
    "    x, y = pos[node]\n",
    "    node_x.append(x)\n",
    "    node_y.append(y)\n",
    "    if data[\"type\"] == \"keyword\":\n",
    "        node_colors.append(\"lightblue\")\n",
    "        node_sizes.append(10)\n",
    "    else:\n",
    "        node_colors.append(\"lightgreen\")\n",
    "        node_sizes.append(25)\n",
    "\n",
    "node_trace = go.Scatter(\n",
    "    x=node_x,\n",
    "    y=node_y,\n",
    "    mode=\"markers+text\",\n",
    "    hoverinfo=\"text\",\n",
    "    text=[t if t not in dominant_categories else '' for t in all_nodes],\n",
    "    textposition=\"bottom center\",\n",
    "    marker=dict(\n",
    "        showscale=False,\n",
    "        colorscale=\"YlGnBu\",\n",
    "        size=node_sizes,\n",
    "        color=node_colors,\n",
    "        line_width=2,\n",
    "    ),\n",
    ")\n",
    "\n",
    "# Create figure\n",
    "fig = go.Figure(\n",
    "    data=[edge_trace, node_trace],\n",
    "    layout=go.Layout(\n",
    "        width=1000,\n",
    "        height=600,\n",
    "        title=\"Keyword-Cluster Network Graph\",\n",
    "        showlegend=False,\n",
    "        hovermode=\"closest\",\n",
    "        margin=dict(b=20, l=5, r=5, t=40),\n",
    "        xaxis=dict(showgrid=False, zeroline=False, showticklabels=False),\n",
    "        yaxis=dict(showgrid=False, zeroline=False, showticklabels=False),\n",
    "    ),\n",
    ")\n",
    "\n",
    "# Customize cluster node labels (make them more prominent)\n",
    "for i, cluster_name in enumerate(dominant_categories):\n",
    "    fig.add_annotation(\n",
    "        x=node_x[all_nodes.index(cluster_name)],\n",
    "        y=node_y[all_nodes.index(cluster_name)],\n",
    "        text=cluster_name,\n",
    "        showarrow=False,\n",
    "        font=dict(size=10, color=\"black\"),\n",
    "        bgcolor=\"lightgreen\",\n",
    "        borderpad=4,\n",
    "        yanchor=\"bottom\",\n",
    "        textangle=360\n",
    "    )\n",
    "\n",
    "fig.show()"
   ],
   "outputs": [
    {
     "data": {
      "application/vnd.plotly.v1+json": {
       "data": [
        {
         "hoverinfo": "none",
         "line": {
          "color": "#888",
          "width": 0.5
         },
         "mode": "lines",
         "x": [
          25.246013260955024,
          -10.0,
          null,
          25.246013260955024,
          26.666666666666664,
          null,
          25.246013260955024,
          100.0,
          null,
          -10.0,
          42.092488323696294,
          null,
          -10.0,
          -19.28379605846899,
          null,
          -10.0,
          45.56295405962169,
          null,
          -10.0,
          -25.067710848598566,
          null,
          -10.0,
          -26.876417408971392,
          null,
          -10.0,
          47.96889862410165,
          null,
          -10.0,
          31.087165242143676,
          null,
          -10.0,
          40.71004050645911,
          null,
          -10.0,
          48.74353592725207,
          null,
          -10.0,
          46.181106797958975,
          null,
          -10.0,
          36.757323178377575,
          null,
          -10.0,
          -29.777852927278886,
          null,
          -10.0,
          44.290709271086186,
          null,
          -10.0,
          53.366958111427955,
          null,
          -10.0,
          42.722376485295,
          null,
          -10.0,
          -21.162700278182548,
          null,
          -10.0,
          -27.679331661150048,
          null,
          -10.0,
          45.858779277730314,
          null,
          -10.0,
          51.65632906044187,
          null,
          -10.0,
          39.821811158214224,
          null,
          -10.0,
          36.65773665040712,
          null,
          -10.0,
          55.22578668737223,
          null,
          -10.0,
          37.65032147197867,
          null,
          -10.0,
          -33.98721831139169,
          null,
          -10.0,
          58.23047625155217,
          null,
          -10.0,
          -36.81350021634554,
          null,
          -10.0,
          49.61083302818694,
          null,
          -10.0,
          -35.94834773126516,
          null,
          -10.0,
          -38.62134469854315,
          null,
          -10.0,
          47.816615890204304,
          null,
          -10.0,
          41.341270002817225,
          null,
          -10.0,
          -33.05369824182642,
          null,
          -10.0,
          40.64963664505933,
          null,
          -10.0,
          -23.86145795271521,
          null,
          -10.0,
          -30.91622653708637,
          null,
          -10.0,
          54.10000364236078,
          null,
          -10.0,
          -44.31070372444887,
          null,
          -10.0,
          -44.50625381136094,
          null,
          -10.0,
          -45.920226573418475,
          null,
          -10.0,
          -42.391873214462066,
          null,
          -10.0,
          49.396894609093586,
          null,
          -10.0,
          44.732966487621994,
          null,
          -10.0,
          -39.85527667883631,
          null,
          -10.0,
          49.92333564378666,
          null,
          -10.0,
          58.05889022821569,
          null,
          -10.0,
          48.24273296245301,
          null,
          -10.0,
          -44.927604126854774,
          null,
          -10.0,
          49.011696936101636,
          null,
          -10.0,
          52.509351146320185,
          null,
          26.666666666666664,
          42.092488323696294,
          null,
          26.666666666666664,
          45.56295405962169,
          null,
          26.666666666666664,
          47.96889862410165,
          null,
          26.666666666666664,
          40.71004050645911,
          null,
          26.666666666666664,
          48.74353592725207,
          null,
          26.666666666666664,
          46.181106797958975,
          null,
          26.666666666666664,
          39.821811158214224,
          null,
          26.666666666666664,
          36.65773665040712,
          null,
          26.666666666666664,
          47.816615890204304,
          null,
          26.666666666666664,
          44.732966487621994,
          null,
          26.666666666666664,
          64.70355582215984,
          null,
          26.666666666666664,
          20.410872107657443,
          null,
          26.666666666666664,
          23.940110548673953,
          null,
          26.666666666666664,
          16.943437345665046,
          null,
          26.666666666666664,
          12.238733641035521,
          null,
          26.666666666666664,
          24.675454639953752,
          null,
          26.666666666666664,
          12.110728916360172,
          null,
          26.666666666666664,
          9.701733804349445,
          null,
          26.666666666666664,
          32.051742139073866,
          null,
          26.666666666666664,
          13.564437535712958,
          null,
          26.666666666666664,
          6.361749004015188,
          null,
          26.666666666666664,
          38.00306404445008,
          null,
          26.666666666666664,
          6.827675316747602,
          null,
          26.666666666666664,
          27.44981944439883,
          null,
          26.666666666666664,
          21.602993451047492,
          null,
          26.666666666666664,
          10.85581213479582,
          null,
          26.666666666666664,
          15.895597277288049,
          null,
          26.666666666666664,
          6.213594199150705,
          null,
          26.666666666666664,
          2.0740596494132686,
          null,
          26.666666666666664,
          14.803705365392304,
          null,
          26.666666666666664,
          5.374156766766811,
          null,
          26.666666666666664,
          0.3199071107802413,
          null,
          26.666666666666664,
          33.44108714627568,
          null,
          26.666666666666664,
          12.536190773042375,
          null,
          26.666666666666664,
          8.392889086945326,
          null,
          26.666666666666664,
          19.887853119387216,
          null,
          26.666666666666664,
          36.63067455326768,
          null,
          26.666666666666664,
          26.907003748496287,
          null,
          26.666666666666664,
          0.6696760496933254,
          null,
          26.666666666666664,
          -0.9769795540464662,
          null,
          26.666666666666664,
          41.68855963838401,
          null,
          26.666666666666664,
          31.56065621890019,
          null,
          26.666666666666664,
          22.74425381786804,
          null,
          26.666666666666664,
          -3.400140746456252,
          null,
          26.666666666666664,
          5.385928544139949,
          null,
          26.666666666666664,
          0.6663701866137217,
          null,
          26.666666666666664,
          15.751069962805122,
          null,
          26.666666666666664,
          10.314589190850931,
          null,
          26.666666666666664,
          4.539792680747874,
          null,
          100.0,
          42.092488323696294,
          null,
          100.0,
          45.56295405962169,
          null,
          100.0,
          47.96889862410165,
          null,
          100.0,
          31.087165242143676,
          null,
          100.0,
          40.71004050645911,
          null,
          100.0,
          48.74353592725207,
          null,
          100.0,
          46.181106797958975,
          null,
          100.0,
          36.757323178377575,
          null,
          100.0,
          44.290709271086186,
          null,
          100.0,
          53.366958111427955,
          null,
          100.0,
          42.722376485295,
          null,
          100.0,
          45.858779277730314,
          null,
          100.0,
          51.65632906044187,
          null,
          100.0,
          39.821811158214224,
          null,
          100.0,
          36.65773665040712,
          null,
          100.0,
          55.22578668737223,
          null,
          100.0,
          37.65032147197867,
          null,
          100.0,
          58.23047625155217,
          null,
          100.0,
          49.61083302818694,
          null,
          100.0,
          47.816615890204304,
          null,
          100.0,
          41.341270002817225,
          null,
          100.0,
          54.10000364236078,
          null,
          100.0,
          49.396894609093586,
          null,
          100.0,
          44.732966487621994,
          null,
          100.0,
          49.92333564378666,
          null,
          100.0,
          58.05889022821569,
          null,
          100.0,
          48.24273296245301,
          null,
          100.0,
          49.011696936101636,
          null,
          100.0,
          52.509351146320185,
          null,
          100.0,
          97.75450679266132,
          null,
          100.0,
          115.68373764359632,
          null,
          100.0,
          120.95446350839113,
          null,
          100.0,
          113.68109839441485,
          null,
          100.0,
          123.37913573518036,
          null,
          100.0,
          121.37856988705126,
          null,
          100.0,
          126.04605887608272,
          null,
          100.0,
          125.24715155172893,
          null,
          100.0,
          128.408982491429,
          null,
          100.0,
          130.29672242066937,
          null,
          100.0,
          89.7908747438138,
          null,
          100.0,
          64.70355582215984,
          null,
          100.0,
          126.03744467455685,
          null,
          100.0,
          133.73088398204382,
          null,
          100.0,
          90.60543334050269,
          null,
          100.0,
          89.08280730057213,
          null,
          100.0,
          121.60063361450125,
          null,
          100.0,
          83.06052085301357,
          null,
          100.0,
          132.32820091992656,
          null,
          100.0,
          135.65588158355723,
          null,
          42.092488323696294,
          63.33333333333333,
          null,
          63.33333333333333,
          45.56295405962169,
          null,
          63.33333333333333,
          47.96889862410165,
          null,
          63.33333333333333,
          40.71004050645911,
          null,
          63.33333333333333,
          48.74353592725207,
          null,
          63.33333333333333,
          46.181106797958975,
          null,
          63.33333333333333,
          36.757323178377575,
          null,
          63.33333333333333,
          44.290709271086186,
          null,
          63.33333333333333,
          53.366958111427955,
          null,
          63.33333333333333,
          42.722376485295,
          null,
          63.33333333333333,
          45.858779277730314,
          null,
          63.33333333333333,
          51.65632906044187,
          null,
          63.33333333333333,
          58.23047625155217,
          null,
          63.33333333333333,
          49.61083302818694,
          null,
          63.33333333333333,
          40.64963664505933,
          null,
          63.33333333333333,
          54.10000364236078,
          null,
          63.33333333333333,
          49.396894609093586,
          null,
          63.33333333333333,
          58.05889022821569,
          null,
          63.33333333333333,
          97.75450679266132,
          null,
          63.33333333333333,
          89.7908747438138,
          null,
          63.33333333333333,
          90.60543334050269,
          null,
          63.33333333333333,
          89.08280730057213,
          null,
          63.33333333333333,
          83.06052085301357,
          null,
          63.33333333333333,
          78.53504444643548,
          null,
          63.33333333333333,
          73.19523479336506,
          null,
          63.33333333333333,
          80.1673885892692,
          null,
          63.33333333333333,
          68.7525986778091,
          null,
          63.33333333333333,
          79.31720441523177,
          null,
          63.33333333333333,
          63.58450281570068,
          null,
          63.33333333333333,
          72.98938664885767,
          null,
          63.33333333333333,
          87.54943820796308,
          null,
          63.33333333333333,
          57.1259708126287,
          null,
          63.33333333333333,
          90.34730154110184,
          null,
          63.33333333333333,
          80.99310084856232,
          null,
          63.33333333333333,
          63.95285462829769,
          null,
          63.33333333333333,
          70.29361113496168,
          null,
          63.33333333333333,
          53.07335072154484,
          null,
          63.33333333333333,
          88.83372913238132,
          null,
          63.33333333333333,
          83.86437145190564,
          null,
          63.33333333333333,
          76.76215566194884,
          null,
          63.33333333333333,
          84.61365540368817,
          null,
          63.33333333333333,
          59.05673926125111,
          null,
          63.33333333333333,
          93.32250380523327,
          null,
          63.33333333333333,
          82.67155833132497,
          null,
          63.33333333333333,
          90.0108924647626,
          null,
          63.33333333333333,
          66.34727877349567,
          null,
          63.33333333333333,
          98.27522623228846,
          null,
          63.33333333333333,
          97.47489745622251,
          null,
          63.33333333333333,
          75.11136789481986,
          null,
          63.33333333333333,
          85.8612085995259,
          null
         ],
         "y": [
          15.188264534391584,
          20.0,
          null,
          15.188264534391584,
          2.0,
          null,
          15.188264534391584,
          6.0,
          null,
          20.0,
          14.041176203589163,
          null,
          20.0,
          29.319586351775527,
          null,
          20.0,
          12.27135146896651,
          null,
          20.0,
          26.510284833294477,
          null,
          20.0,
          20.800038830777062,
          null,
          20.0,
          13.149900385253225,
          null,
          20.0,
          17.681334089309974,
          null,
          20.0,
          10.016034883920659,
          null,
          20.0,
          10.301689433793923,
          null,
          20.0,
          9.651210718341764,
          null,
          20.0,
          21.0072589285537,
          null,
          20.0,
          15.171534653014895,
          null,
          20.0,
          19.962918521875345,
          null,
          20.0,
          12.582392292256632,
          null,
          20.0,
          17.785991861527165,
          null,
          20.0,
          38.984079717868944,
          null,
          20.0,
          34.010178935450476,
          null,
          20.0,
          17.422913930620624,
          null,
          20.0,
          15.02012030457502,
          null,
          20.0,
          7.049992980762283,
          null,
          20.0,
          8.778955710537174,
          null,
          20.0,
          8.355136766752485,
          null,
          20.0,
          15.88944215757135,
          null,
          20.0,
          8.864342646554569,
          null,
          20.0,
          14.102702387957198,
          null,
          20.0,
          24.65221035894471,
          null,
          20.0,
          18.299924427619068,
          null,
          20.0,
          31.787452831883172,
          null,
          20.0,
          17.107431748291926,
          null,
          20.0,
          5.730026382504228,
          null,
          20.0,
          23.37236769756848,
          null,
          20.0,
          39.244889337717076,
          null,
          20.0,
          29.442892741645103,
          null,
          20.0,
          47.17277539887992,
          null,
          20.0,
          46.149991121936836,
          null,
          20.0,
          18.01600340462743,
          null,
          20.0,
          13.473672894100599,
          null,
          20.0,
          27.94998605351422,
          null,
          20.0,
          21.06410450880733,
          null,
          20.0,
          6.222661128643447,
          null,
          20.0,
          22.847666103268658,
          null,
          20.0,
          2.2676648970740283,
          null,
          20.0,
          42.46074292181334,
          null,
          20.0,
          3.1315233613223583,
          null,
          20.0,
          10.299180971037751,
          null,
          20.0,
          26.220868720297524,
          null,
          20.0,
          35.35962877729436,
          null,
          20.0,
          -0.1144586598786546,
          null,
          20.0,
          23.00747594410702,
          null,
          2.0,
          14.041176203589163,
          null,
          2.0,
          12.27135146896651,
          null,
          2.0,
          13.149900385253225,
          null,
          2.0,
          10.016034883920659,
          null,
          2.0,
          10.301689433793923,
          null,
          2.0,
          9.651210718341764,
          null,
          2.0,
          7.049992980762283,
          null,
          2.0,
          8.778955710537174,
          null,
          2.0,
          5.730026382504228,
          null,
          2.0,
          2.2676648970740283,
          null,
          2.0,
          -5.215834234987467,
          null,
          2.0,
          1.0475459689071023,
          null,
          2.0,
          -5.540388905412897,
          null,
          2.0,
          -8.914286131897892,
          null,
          2.0,
          -3.27428086921181,
          null,
          2.0,
          -13.773996502617681,
          null,
          2.0,
          6.501150786499533,
          null,
          2.0,
          12.653334096910854,
          null,
          2.0,
          -15.641755879733369,
          null,
          2.0,
          16.769949192202734,
          null,
          2.0,
          7.066583166440955,
          null,
          2.0,
          -16.453749325510987,
          null,
          2.0,
          0.5316426024678624,
          null,
          2.0,
          -20.277685787017475,
          null,
          2.0,
          -19.402309457869013,
          null,
          2.0,
          -12.746083975316775,
          null,
          2.0,
          -16.122343355198794,
          null,
          2.0,
          -7.349869610010235,
          null,
          2.0,
          -3.2533668162746823,
          null,
          2.0,
          -21.410987525612946,
          null,
          2.0,
          -13.267410247299445,
          null,
          2.0,
          2.5905329433676036,
          null,
          2.0,
          -22.355689267784204,
          null,
          2.0,
          23.039667736680272,
          null,
          2.0,
          -19.765493457641863,
          null,
          2.0,
          -25.715006324406808,
          null,
          2.0,
          -26.593639830603358,
          null,
          2.0,
          -27.581641943203,
          null,
          2.0,
          10.111804497464433,
          null,
          2.0,
          -12.072665243344458,
          null,
          2.0,
          -23.586505000677086,
          null,
          2.0,
          -30.00934856713842,
          null,
          2.0,
          -30.909265394849307,
          null,
          2.0,
          -6.253648366176954,
          null,
          2.0,
          19.516488367564666,
          null,
          2.0,
          -18.356762158317174,
          null,
          2.0,
          -30.01698928045569,
          null,
          2.0,
          -27.270741088347545,
          null,
          2.0,
          -24.03057571293477,
          null,
          6.0,
          14.041176203589163,
          null,
          6.0,
          12.27135146896651,
          null,
          6.0,
          13.149900385253225,
          null,
          6.0,
          17.681334089309974,
          null,
          6.0,
          10.016034883920659,
          null,
          6.0,
          10.301689433793923,
          null,
          6.0,
          9.651210718341764,
          null,
          6.0,
          21.0072589285537,
          null,
          6.0,
          19.962918521875345,
          null,
          6.0,
          12.582392292256632,
          null,
          6.0,
          17.785991861527165,
          null,
          6.0,
          17.422913930620624,
          null,
          6.0,
          15.02012030457502,
          null,
          6.0,
          7.049992980762283,
          null,
          6.0,
          8.778955710537174,
          null,
          6.0,
          8.355136766752485,
          null,
          6.0,
          15.88944215757135,
          null,
          6.0,
          14.102702387957198,
          null,
          6.0,
          18.299924427619068,
          null,
          6.0,
          5.730026382504228,
          null,
          6.0,
          23.37236769756848,
          null,
          6.0,
          18.01600340462743,
          null,
          6.0,
          22.847666103268658,
          null,
          6.0,
          2.2676648970740283,
          null,
          6.0,
          3.1315233613223583,
          null,
          6.0,
          10.299180971037751,
          null,
          6.0,
          26.220868720297524,
          null,
          6.0,
          -0.1144586598786546,
          null,
          6.0,
          23.00747594410702,
          null,
          6.0,
          16.67782596197246,
          null,
          6.0,
          -8.318131034225601,
          null,
          6.0,
          0.9327479059992915,
          null,
          6.0,
          -14.871796486397573,
          null,
          6.0,
          7.934760098650225,
          null,
          6.0,
          -8.126656517770819,
          null,
          6.0,
          -2.954823430799193,
          null,
          6.0,
          17.32931829061029,
          null,
          6.0,
          12.464458352923604,
          null,
          6.0,
          4.628112256626422,
          null,
          6.0,
          10.435661445775484,
          null,
          6.0,
          -5.215834234987467,
          null,
          6.0,
          -13.599442823805074,
          null,
          6.0,
          -0.9752240543190418,
          null,
          6.0,
          15.931132339930933,
          null,
          6.0,
          20.268052814752153,
          null,
          6.0,
          -19.53707281687575,
          null,
          6.0,
          15.268967508219637,
          null,
          6.0,
          -8.870178953205732,
          null,
          6.0,
          10.234432503228252,
          null,
          14.041176203589163,
          24.0,
          null,
          24.0,
          12.27135146896651,
          null,
          24.0,
          13.149900385253225,
          null,
          24.0,
          10.016034883920659,
          null,
          24.0,
          10.301689433793923,
          null,
          24.0,
          9.651210718341764,
          null,
          24.0,
          21.0072589285537,
          null,
          24.0,
          19.962918521875345,
          null,
          24.0,
          12.582392292256632,
          null,
          24.0,
          17.785991861527165,
          null,
          24.0,
          17.422913930620624,
          null,
          24.0,
          15.02012030457502,
          null,
          24.0,
          14.102702387957198,
          null,
          24.0,
          18.299924427619068,
          null,
          24.0,
          29.442892741645103,
          null,
          24.0,
          18.01600340462743,
          null,
          24.0,
          22.847666103268658,
          null,
          24.0,
          10.299180971037751,
          null,
          24.0,
          16.67782596197246,
          null,
          24.0,
          10.435661445775484,
          null,
          24.0,
          15.931132339930933,
          null,
          24.0,
          20.268052814752153,
          null,
          24.0,
          15.268967508219637,
          null,
          24.0,
          24.353393684504038,
          null,
          24.0,
          35.26238154266591,
          null,
          24.0,
          30.282798420968696,
          null,
          24.0,
          41.31994360252327,
          null,
          24.0,
          37.451021902572094,
          null,
          24.0,
          45.84234554961911,
          null,
          24.0,
          46.06586447395707,
          null,
          24.0,
          34.8624692882773,
          null,
          24.0,
          49.564563103531626,
          null,
          24.0,
          29.018740744575908,
          null,
          24.0,
          45.106264585370674,
          null,
          24.0,
          53.92476716550196,
          null,
          24.0,
          55.18222640771549,
          null,
          24.0,
          55.174798704475556,
          null,
          24.0,
          41.95505900899815,
          null,
          24.0,
          50.40564308945417,
          null,
          24.0,
          54.08878919342935,
          null,
          24.0,
          5.794571317066248,
          null,
          24.0,
          58.99128301252014,
          null,
          24.0,
          45.35660364686197,
          null,
          24.0,
          56.992703904537194,
          null,
          24.0,
          51.67371225218483,
          null,
          24.0,
          62.108219586475535,
          null,
          24.0,
          32.77978412578537,
          null,
          24.0,
          39.9696275940874,
          null,
          24.0,
          61.492665812596464,
          null,
          24.0,
          -0.6369584882621501,
          null
         ],
         "type": "scatter"
        },
        {
         "hoverinfo": "text",
         "marker": {
          "color": [
           "lightblue",
           "lightgreen",
           "lightgreen",
           "lightgreen",
           "lightblue",
           "lightgreen",
           "lightblue",
           "lightblue",
           "lightblue",
           "lightblue",
           "lightblue",
           "lightblue",
           "lightblue",
           "lightblue",
           "lightblue",
           "lightblue",
           "lightblue",
           "lightblue",
           "lightblue",
           "lightblue",
           "lightblue",
           "lightblue",
           "lightblue",
           "lightblue",
           "lightblue",
           "lightblue",
           "lightblue",
           "lightblue",
           "lightblue",
           "lightblue",
           "lightblue",
           "lightblue",
           "lightblue",
           "lightblue",
           "lightblue",
           "lightblue",
           "lightblue",
           "lightblue",
           "lightblue",
           "lightblue",
           "lightblue",
           "lightblue",
           "lightblue",
           "lightblue",
           "lightblue",
           "lightblue",
           "lightblue",
           "lightblue",
           "lightblue",
           "lightblue",
           "lightblue",
           "lightblue",
           "lightblue",
           "lightblue",
           "lightblue",
           "lightblue",
           "lightblue",
           "lightblue",
           "lightblue",
           "lightblue",
           "lightblue",
           "lightblue",
           "lightblue",
           "lightblue",
           "lightblue",
           "lightblue",
           "lightblue",
           "lightblue",
           "lightblue",
           "lightblue",
           "lightblue",
           "lightblue",
           "lightblue",
           "lightblue",
           "lightblue",
           "lightblue",
           "lightblue",
           "lightblue",
           "lightblue",
           "lightblue",
           "lightblue",
           "lightblue",
           "lightblue",
           "lightblue",
           "lightblue",
           "lightblue",
           "lightblue",
           "lightblue",
           "lightblue",
           "lightblue",
           "lightblue",
           "lightblue",
           "lightblue",
           "lightblue",
           "lightblue",
           "lightblue",
           "lightblue",
           "lightblue",
           "lightblue",
           "lightblue",
           "lightblue",
           "lightblue",
           "lightblue",
           "lightblue",
           "lightblue",
           "lightblue",
           "lightblue",
           "lightblue",
           "lightblue",
           "lightblue",
           "lightblue",
           "lightblue",
           "lightblue",
           "lightblue",
           "lightblue",
           "lightblue",
           "lightblue",
           "lightblue",
           "lightblue",
           "lightblue",
           "lightblue",
           "lightblue",
           "lightblue",
           "lightblue",
           "lightblue",
           "lightblue",
           "lightblue",
           "lightblue",
           "lightblue",
           "lightblue",
           "lightblue",
           "lightblue",
           "lightblue",
           "lightblue",
           "lightblue",
           "lightblue",
           "lightblue",
           "lightblue",
           "lightblue"
          ],
          "colorscale": [
           [
            0.0,
            "rgb(255,255,217)"
           ],
           [
            0.125,
            "rgb(237,248,177)"
           ],
           [
            0.25,
            "rgb(199,233,180)"
           ],
           [
            0.375,
            "rgb(127,205,187)"
           ],
           [
            0.5,
            "rgb(65,182,196)"
           ],
           [
            0.625,
            "rgb(29,145,192)"
           ],
           [
            0.75,
            "rgb(34,94,168)"
           ],
           [
            0.875,
            "rgb(37,52,148)"
           ],
           [
            1.0,
            "rgb(8,29,88)"
           ]
          ],
          "line": {
           "width": 2
          },
          "showscale": false,
          "size": [
           10,
           25,
           25,
           25,
           10,
           25,
           10,
           10,
           10,
           10,
           10,
           10,
           10,
           10,
           10,
           10,
           10,
           10,
           10,
           10,
           10,
           10,
           10,
           10,
           10,
           10,
           10,
           10,
           10,
           10,
           10,
           10,
           10,
           10,
           10,
           10,
           10,
           10,
           10,
           10,
           10,
           10,
           10,
           10,
           10,
           10,
           10,
           10,
           10,
           10,
           10,
           10,
           10,
           10,
           10,
           10,
           10,
           10,
           10,
           10,
           10,
           10,
           10,
           10,
           10,
           10,
           10,
           10,
           10,
           10,
           10,
           10,
           10,
           10,
           10,
           10,
           10,
           10,
           10,
           10,
           10,
           10,
           10,
           10,
           10,
           10,
           10,
           10,
           10,
           10,
           10,
           10,
           10,
           10,
           10,
           10,
           10,
           10,
           10,
           10,
           10,
           10,
           10,
           10,
           10,
           10,
           10,
           10,
           10,
           10,
           10,
           10,
           10,
           10,
           10,
           10,
           10,
           10,
           10,
           10,
           10,
           10,
           10,
           10,
           10,
           10,
           10,
           10,
           10,
           10,
           10,
           10,
           10,
           10,
           10,
           10,
           10,
           10,
           10
          ]
         },
         "mode": "markers+text",
         "text": [
          "photo",
          "",
          "",
          "",
          "new",
          "",
          "art",
          "one",
          "wedding",
          "artist",
          "year",
          "look",
          "make",
          "time",
          "day",
          "show",
          "home",
          "week",
          "woman",
          "video",
          "fashion",
          "style",
          "first",
          "world",
          "love",
          "best",
          "life",
          "work",
          "dress",
          "people",
          "book",
          "take",
          "star",
          "imageblog",
          "know",
          "see",
          "film",
          "trump",
          "beauty",
          "pinterest",
          "would",
          "york",
          "music",
          "story",
          "check",
          "two",
          "good",
          "hair",
          "come",
          "may",
          "think",
          "girl",
          "find",
          "back",
          "child",
          "kid",
          "school",
          "help",
          "man",
          "many",
          "student",
          "family",
          "change",
          "thing",
          "right",
          "even",
          "college",
          "parent",
          "american",
          "police",
          "black",
          "state",
          "mom",
          "every",
          "president",
          "donald",
          "say",
          "latino",
          "news",
          "attack",
          "country",
          "war",
          "isi",
          "syria",
          "iran",
          "killed",
          "leader",
          "medium",
          "election",
          "death",
          "russia",
          "korea",
          "government",
          "north",
          "city",
          "official",
          "last",
          "report",
          "syrian",
          "china",
          "fox",
          "recipe",
          "food",
          "wine",
          "delicious",
          "dessert",
          "cooking",
          "cake",
          "salad",
          "eat",
          "cheese",
          "chocolate",
          "flavor",
          "cocktail",
          "easy",
          "dish",
          "taste",
          "chef",
          "chicken",
          "cream",
          "restaurant",
          "burger",
          "summer",
          "sweet",
          "beer",
          "dinner",
          "soup",
          "drink",
          "cooky",
          "meal",
          "kitchen",
          "breakfast",
          "favorite",
          "cook",
          "sauce",
          "cuff",
          "butter",
          "bacon",
          "sandwich"
         ],
         "textposition": "bottom center",
         "x": [
          25.246013260955024,
          -10.0,
          26.666666666666664,
          100.0,
          42.092488323696294,
          63.33333333333333,
          -19.28379605846899,
          45.56295405962169,
          -25.067710848598566,
          -26.876417408971392,
          47.96889862410165,
          31.087165242143676,
          40.71004050645911,
          48.74353592725207,
          46.181106797958975,
          36.757323178377575,
          -29.777852927278886,
          44.290709271086186,
          53.366958111427955,
          42.722376485295,
          -21.162700278182548,
          -27.679331661150048,
          45.858779277730314,
          51.65632906044187,
          39.821811158214224,
          36.65773665040712,
          55.22578668737223,
          37.65032147197867,
          -33.98721831139169,
          58.23047625155217,
          -36.81350021634554,
          49.61083302818694,
          -35.94834773126516,
          -38.62134469854315,
          47.816615890204304,
          41.341270002817225,
          -33.05369824182642,
          40.64963664505933,
          -23.86145795271521,
          -30.91622653708637,
          54.10000364236078,
          -44.31070372444887,
          -44.50625381136094,
          -45.920226573418475,
          -42.391873214462066,
          49.396894609093586,
          44.732966487621994,
          -39.85527667883631,
          49.92333564378666,
          58.05889022821569,
          48.24273296245301,
          -44.927604126854774,
          49.011696936101636,
          52.509351146320185,
          97.75450679266132,
          115.68373764359632,
          120.95446350839113,
          113.68109839441485,
          123.37913573518036,
          121.37856988705126,
          126.04605887608272,
          125.24715155172893,
          128.408982491429,
          130.29672242066937,
          89.7908747438138,
          64.70355582215984,
          126.03744467455685,
          133.73088398204382,
          90.60543334050269,
          89.08280730057213,
          121.60063361450125,
          83.06052085301357,
          132.32820091992656,
          135.65588158355723,
          78.53504444643548,
          73.19523479336506,
          80.1673885892692,
          68.7525986778091,
          79.31720441523177,
          63.58450281570068,
          72.98938664885767,
          87.54943820796308,
          57.1259708126287,
          90.34730154110184,
          80.99310084856232,
          63.95285462829769,
          70.29361113496168,
          53.07335072154484,
          88.83372913238132,
          83.86437145190564,
          76.76215566194884,
          84.61365540368817,
          59.05673926125111,
          93.32250380523327,
          82.67155833132497,
          90.0108924647626,
          66.34727877349567,
          98.27522623228846,
          97.47489745622251,
          75.11136789481986,
          85.8612085995259,
          20.410872107657443,
          23.940110548673953,
          16.943437345665046,
          12.238733641035521,
          24.675454639953752,
          12.110728916360172,
          9.701733804349445,
          32.051742139073866,
          13.564437535712958,
          6.361749004015188,
          38.00306404445008,
          6.827675316747602,
          27.44981944439883,
          21.602993451047492,
          10.85581213479582,
          15.895597277288049,
          6.213594199150705,
          2.0740596494132686,
          14.803705365392304,
          5.374156766766811,
          0.3199071107802413,
          33.44108714627568,
          12.536190773042375,
          8.392889086945326,
          19.887853119387216,
          36.63067455326768,
          26.907003748496287,
          0.6696760496933254,
          -0.9769795540464662,
          41.68855963838401,
          31.56065621890019,
          22.74425381786804,
          -3.400140746456252,
          5.385928544139949,
          0.6663701866137217,
          15.751069962805122,
          10.314589190850931,
          4.539792680747874
         ],
         "y": [
          15.188264534391584,
          20.0,
          2.0,
          6.0,
          14.041176203589163,
          24.0,
          29.319586351775527,
          12.27135146896651,
          26.510284833294477,
          20.800038830777062,
          13.149900385253225,
          17.681334089309974,
          10.016034883920659,
          10.301689433793923,
          9.651210718341764,
          21.0072589285537,
          15.171534653014895,
          19.962918521875345,
          12.582392292256632,
          17.785991861527165,
          38.984079717868944,
          34.010178935450476,
          17.422913930620624,
          15.02012030457502,
          7.049992980762283,
          8.778955710537174,
          8.355136766752485,
          15.88944215757135,
          8.864342646554569,
          14.102702387957198,
          24.65221035894471,
          18.299924427619068,
          31.787452831883172,
          17.107431748291926,
          5.730026382504228,
          23.37236769756848,
          39.244889337717076,
          29.442892741645103,
          47.17277539887992,
          46.149991121936836,
          18.01600340462743,
          13.473672894100599,
          27.94998605351422,
          21.06410450880733,
          6.222661128643447,
          22.847666103268658,
          2.2676648970740283,
          42.46074292181334,
          3.1315233613223583,
          10.299180971037751,
          26.220868720297524,
          35.35962877729436,
          -0.1144586598786546,
          23.00747594410702,
          16.67782596197246,
          -8.318131034225601,
          0.9327479059992915,
          -14.871796486397573,
          7.934760098650225,
          -8.126656517770819,
          -2.954823430799193,
          17.32931829061029,
          12.464458352923604,
          4.628112256626422,
          10.435661445775484,
          -5.215834234987467,
          -13.599442823805074,
          -0.9752240543190418,
          15.931132339930933,
          20.268052814752153,
          -19.53707281687575,
          15.268967508219637,
          -8.870178953205732,
          10.234432503228252,
          24.353393684504038,
          35.26238154266591,
          30.282798420968696,
          41.31994360252327,
          37.451021902572094,
          45.84234554961911,
          46.06586447395707,
          34.8624692882773,
          49.564563103531626,
          29.018740744575908,
          45.106264585370674,
          53.92476716550196,
          55.18222640771549,
          55.174798704475556,
          41.95505900899815,
          50.40564308945417,
          54.08878919342935,
          5.794571317066248,
          58.99128301252014,
          45.35660364686197,
          56.992703904537194,
          51.67371225218483,
          62.108219586475535,
          32.77978412578537,
          39.9696275940874,
          61.492665812596464,
          -0.6369584882621501,
          1.0475459689071023,
          -5.540388905412897,
          -8.914286131897892,
          -3.27428086921181,
          -13.773996502617681,
          6.501150786499533,
          12.653334096910854,
          -15.641755879733369,
          16.769949192202734,
          7.066583166440955,
          -16.453749325510987,
          0.5316426024678624,
          -20.277685787017475,
          -19.402309457869013,
          -12.746083975316775,
          -16.122343355198794,
          -7.349869610010235,
          -3.2533668162746823,
          -21.410987525612946,
          -13.267410247299445,
          2.5905329433676036,
          -22.355689267784204,
          23.039667736680272,
          -19.765493457641863,
          -25.715006324406808,
          -26.593639830603358,
          -27.581641943203,
          10.111804497464433,
          -12.072665243344458,
          -23.586505000677086,
          -30.00934856713842,
          -30.909265394849307,
          -6.253648366176954,
          19.516488367564666,
          -18.356762158317174,
          -30.01698928045569,
          -27.270741088347545,
          -24.03057571293477
         ],
         "type": "scatter"
        }
       ],
       "layout": {
        "height": 600,
        "hovermode": "closest",
        "margin": {
         "b": 20,
         "l": 5,
         "r": 5,
         "t": 40
        },
        "showlegend": false,
        "title": {
         "text": "Keyword-Cluster Network Graph"
        },
        "width": 1000,
        "xaxis": {
         "showgrid": false,
         "showticklabels": false,
         "zeroline": false
        },
        "yaxis": {
         "showgrid": false,
         "showticklabels": false,
         "zeroline": false
        },
        "template": {
         "data": {
          "histogram2dcontour": [
           {
            "type": "histogram2dcontour",
            "colorbar": {
             "outlinewidth": 0,
             "ticks": ""
            },
            "colorscale": [
             [
              0.0,
              "#0d0887"
             ],
             [
              0.1111111111111111,
              "#46039f"
             ],
             [
              0.2222222222222222,
              "#7201a8"
             ],
             [
              0.3333333333333333,
              "#9c179e"
             ],
             [
              0.4444444444444444,
              "#bd3786"
             ],
             [
              0.5555555555555556,
              "#d8576b"
             ],
             [
              0.6666666666666666,
              "#ed7953"
             ],
             [
              0.7777777777777778,
              "#fb9f3a"
             ],
             [
              0.8888888888888888,
              "#fdca26"
             ],
             [
              1.0,
              "#f0f921"
             ]
            ]
           }
          ],
          "choropleth": [
           {
            "type": "choropleth",
            "colorbar": {
             "outlinewidth": 0,
             "ticks": ""
            }
           }
          ],
          "histogram2d": [
           {
            "type": "histogram2d",
            "colorbar": {
             "outlinewidth": 0,
             "ticks": ""
            },
            "colorscale": [
             [
              0.0,
              "#0d0887"
             ],
             [
              0.1111111111111111,
              "#46039f"
             ],
             [
              0.2222222222222222,
              "#7201a8"
             ],
             [
              0.3333333333333333,
              "#9c179e"
             ],
             [
              0.4444444444444444,
              "#bd3786"
             ],
             [
              0.5555555555555556,
              "#d8576b"
             ],
             [
              0.6666666666666666,
              "#ed7953"
             ],
             [
              0.7777777777777778,
              "#fb9f3a"
             ],
             [
              0.8888888888888888,
              "#fdca26"
             ],
             [
              1.0,
              "#f0f921"
             ]
            ]
           }
          ],
          "heatmap": [
           {
            "type": "heatmap",
            "colorbar": {
             "outlinewidth": 0,
             "ticks": ""
            },
            "colorscale": [
             [
              0.0,
              "#0d0887"
             ],
             [
              0.1111111111111111,
              "#46039f"
             ],
             [
              0.2222222222222222,
              "#7201a8"
             ],
             [
              0.3333333333333333,
              "#9c179e"
             ],
             [
              0.4444444444444444,
              "#bd3786"
             ],
             [
              0.5555555555555556,
              "#d8576b"
             ],
             [
              0.6666666666666666,
              "#ed7953"
             ],
             [
              0.7777777777777778,
              "#fb9f3a"
             ],
             [
              0.8888888888888888,
              "#fdca26"
             ],
             [
              1.0,
              "#f0f921"
             ]
            ]
           }
          ],
          "heatmapgl": [
           {
            "type": "heatmapgl",
            "colorbar": {
             "outlinewidth": 0,
             "ticks": ""
            },
            "colorscale": [
             [
              0.0,
              "#0d0887"
             ],
             [
              0.1111111111111111,
              "#46039f"
             ],
             [
              0.2222222222222222,
              "#7201a8"
             ],
             [
              0.3333333333333333,
              "#9c179e"
             ],
             [
              0.4444444444444444,
              "#bd3786"
             ],
             [
              0.5555555555555556,
              "#d8576b"
             ],
             [
              0.6666666666666666,
              "#ed7953"
             ],
             [
              0.7777777777777778,
              "#fb9f3a"
             ],
             [
              0.8888888888888888,
              "#fdca26"
             ],
             [
              1.0,
              "#f0f921"
             ]
            ]
           }
          ],
          "contourcarpet": [
           {
            "type": "contourcarpet",
            "colorbar": {
             "outlinewidth": 0,
             "ticks": ""
            }
           }
          ],
          "contour": [
           {
            "type": "contour",
            "colorbar": {
             "outlinewidth": 0,
             "ticks": ""
            },
            "colorscale": [
             [
              0.0,
              "#0d0887"
             ],
             [
              0.1111111111111111,
              "#46039f"
             ],
             [
              0.2222222222222222,
              "#7201a8"
             ],
             [
              0.3333333333333333,
              "#9c179e"
             ],
             [
              0.4444444444444444,
              "#bd3786"
             ],
             [
              0.5555555555555556,
              "#d8576b"
             ],
             [
              0.6666666666666666,
              "#ed7953"
             ],
             [
              0.7777777777777778,
              "#fb9f3a"
             ],
             [
              0.8888888888888888,
              "#fdca26"
             ],
             [
              1.0,
              "#f0f921"
             ]
            ]
           }
          ],
          "surface": [
           {
            "type": "surface",
            "colorbar": {
             "outlinewidth": 0,
             "ticks": ""
            },
            "colorscale": [
             [
              0.0,
              "#0d0887"
             ],
             [
              0.1111111111111111,
              "#46039f"
             ],
             [
              0.2222222222222222,
              "#7201a8"
             ],
             [
              0.3333333333333333,
              "#9c179e"
             ],
             [
              0.4444444444444444,
              "#bd3786"
             ],
             [
              0.5555555555555556,
              "#d8576b"
             ],
             [
              0.6666666666666666,
              "#ed7953"
             ],
             [
              0.7777777777777778,
              "#fb9f3a"
             ],
             [
              0.8888888888888888,
              "#fdca26"
             ],
             [
              1.0,
              "#f0f921"
             ]
            ]
           }
          ],
          "mesh3d": [
           {
            "type": "mesh3d",
            "colorbar": {
             "outlinewidth": 0,
             "ticks": ""
            }
           }
          ],
          "scatter": [
           {
            "fillpattern": {
             "fillmode": "overlay",
             "size": 10,
             "solidity": 0.2
            },
            "type": "scatter"
           }
          ],
          "parcoords": [
           {
            "type": "parcoords",
            "line": {
             "colorbar": {
              "outlinewidth": 0,
              "ticks": ""
             }
            }
           }
          ],
          "scatterpolargl": [
           {
            "type": "scatterpolargl",
            "marker": {
             "colorbar": {
              "outlinewidth": 0,
              "ticks": ""
             }
            }
           }
          ],
          "bar": [
           {
            "error_x": {
             "color": "#2a3f5f"
            },
            "error_y": {
             "color": "#2a3f5f"
            },
            "marker": {
             "line": {
              "color": "#E5ECF6",
              "width": 0.5
             },
             "pattern": {
              "fillmode": "overlay",
              "size": 10,
              "solidity": 0.2
             }
            },
            "type": "bar"
           }
          ],
          "scattergeo": [
           {
            "type": "scattergeo",
            "marker": {
             "colorbar": {
              "outlinewidth": 0,
              "ticks": ""
             }
            }
           }
          ],
          "scatterpolar": [
           {
            "type": "scatterpolar",
            "marker": {
             "colorbar": {
              "outlinewidth": 0,
              "ticks": ""
             }
            }
           }
          ],
          "histogram": [
           {
            "marker": {
             "pattern": {
              "fillmode": "overlay",
              "size": 10,
              "solidity": 0.2
             }
            },
            "type": "histogram"
           }
          ],
          "scattergl": [
           {
            "type": "scattergl",
            "marker": {
             "colorbar": {
              "outlinewidth": 0,
              "ticks": ""
             }
            }
           }
          ],
          "scatter3d": [
           {
            "type": "scatter3d",
            "line": {
             "colorbar": {
              "outlinewidth": 0,
              "ticks": ""
             }
            },
            "marker": {
             "colorbar": {
              "outlinewidth": 0,
              "ticks": ""
             }
            }
           }
          ],
          "scattermapbox": [
           {
            "type": "scattermapbox",
            "marker": {
             "colorbar": {
              "outlinewidth": 0,
              "ticks": ""
             }
            }
           }
          ],
          "scatterternary": [
           {
            "type": "scatterternary",
            "marker": {
             "colorbar": {
              "outlinewidth": 0,
              "ticks": ""
             }
            }
           }
          ],
          "scattercarpet": [
           {
            "type": "scattercarpet",
            "marker": {
             "colorbar": {
              "outlinewidth": 0,
              "ticks": ""
             }
            }
           }
          ],
          "carpet": [
           {
            "aaxis": {
             "endlinecolor": "#2a3f5f",
             "gridcolor": "white",
             "linecolor": "white",
             "minorgridcolor": "white",
             "startlinecolor": "#2a3f5f"
            },
            "baxis": {
             "endlinecolor": "#2a3f5f",
             "gridcolor": "white",
             "linecolor": "white",
             "minorgridcolor": "white",
             "startlinecolor": "#2a3f5f"
            },
            "type": "carpet"
           }
          ],
          "table": [
           {
            "cells": {
             "fill": {
              "color": "#EBF0F8"
             },
             "line": {
              "color": "white"
             }
            },
            "header": {
             "fill": {
              "color": "#C8D4E3"
             },
             "line": {
              "color": "white"
             }
            },
            "type": "table"
           }
          ],
          "barpolar": [
           {
            "marker": {
             "line": {
              "color": "#E5ECF6",
              "width": 0.5
             },
             "pattern": {
              "fillmode": "overlay",
              "size": 10,
              "solidity": 0.2
             }
            },
            "type": "barpolar"
           }
          ],
          "pie": [
           {
            "automargin": true,
            "type": "pie"
           }
          ]
         },
         "layout": {
          "autotypenumbers": "strict",
          "colorway": [
           "#636efa",
           "#EF553B",
           "#00cc96",
           "#ab63fa",
           "#FFA15A",
           "#19d3f3",
           "#FF6692",
           "#B6E880",
           "#FF97FF",
           "#FECB52"
          ],
          "font": {
           "color": "#2a3f5f"
          },
          "hovermode": "closest",
          "hoverlabel": {
           "align": "left"
          },
          "paper_bgcolor": "white",
          "plot_bgcolor": "#E5ECF6",
          "polar": {
           "bgcolor": "#E5ECF6",
           "angularaxis": {
            "gridcolor": "white",
            "linecolor": "white",
            "ticks": ""
           },
           "radialaxis": {
            "gridcolor": "white",
            "linecolor": "white",
            "ticks": ""
           }
          },
          "ternary": {
           "bgcolor": "#E5ECF6",
           "aaxis": {
            "gridcolor": "white",
            "linecolor": "white",
            "ticks": ""
           },
           "baxis": {
            "gridcolor": "white",
            "linecolor": "white",
            "ticks": ""
           },
           "caxis": {
            "gridcolor": "white",
            "linecolor": "white",
            "ticks": ""
           }
          },
          "coloraxis": {
           "colorbar": {
            "outlinewidth": 0,
            "ticks": ""
           }
          },
          "colorscale": {
           "sequential": [
            [
             0.0,
             "#0d0887"
            ],
            [
             0.1111111111111111,
             "#46039f"
            ],
            [
             0.2222222222222222,
             "#7201a8"
            ],
            [
             0.3333333333333333,
             "#9c179e"
            ],
            [
             0.4444444444444444,
             "#bd3786"
            ],
            [
             0.5555555555555556,
             "#d8576b"
            ],
            [
             0.6666666666666666,
             "#ed7953"
            ],
            [
             0.7777777777777778,
             "#fb9f3a"
            ],
            [
             0.8888888888888888,
             "#fdca26"
            ],
            [
             1.0,
             "#f0f921"
            ]
           ],
           "sequentialminus": [
            [
             0.0,
             "#0d0887"
            ],
            [
             0.1111111111111111,
             "#46039f"
            ],
            [
             0.2222222222222222,
             "#7201a8"
            ],
            [
             0.3333333333333333,
             "#9c179e"
            ],
            [
             0.4444444444444444,
             "#bd3786"
            ],
            [
             0.5555555555555556,
             "#d8576b"
            ],
            [
             0.6666666666666666,
             "#ed7953"
            ],
            [
             0.7777777777777778,
             "#fb9f3a"
            ],
            [
             0.8888888888888888,
             "#fdca26"
            ],
            [
             1.0,
             "#f0f921"
            ]
           ],
           "diverging": [
            [
             0,
             "#8e0152"
            ],
            [
             0.1,
             "#c51b7d"
            ],
            [
             0.2,
             "#de77ae"
            ],
            [
             0.3,
             "#f1b6da"
            ],
            [
             0.4,
             "#fde0ef"
            ],
            [
             0.5,
             "#f7f7f7"
            ],
            [
             0.6,
             "#e6f5d0"
            ],
            [
             0.7,
             "#b8e186"
            ],
            [
             0.8,
             "#7fbc41"
            ],
            [
             0.9,
             "#4d9221"
            ],
            [
             1,
             "#276419"
            ]
           ]
          },
          "xaxis": {
           "gridcolor": "white",
           "linecolor": "white",
           "ticks": "",
           "title": {
            "standoff": 15
           },
           "zerolinecolor": "white",
           "automargin": true,
           "zerolinewidth": 2
          },
          "yaxis": {
           "gridcolor": "white",
           "linecolor": "white",
           "ticks": "",
           "title": {
            "standoff": 15
           },
           "zerolinecolor": "white",
           "automargin": true,
           "zerolinewidth": 2
          },
          "scene": {
           "xaxis": {
            "backgroundcolor": "#E5ECF6",
            "gridcolor": "white",
            "linecolor": "white",
            "showbackground": true,
            "ticks": "",
            "zerolinecolor": "white",
            "gridwidth": 2
           },
           "yaxis": {
            "backgroundcolor": "#E5ECF6",
            "gridcolor": "white",
            "linecolor": "white",
            "showbackground": true,
            "ticks": "",
            "zerolinecolor": "white",
            "gridwidth": 2
           },
           "zaxis": {
            "backgroundcolor": "#E5ECF6",
            "gridcolor": "white",
            "linecolor": "white",
            "showbackground": true,
            "ticks": "",
            "zerolinecolor": "white",
            "gridwidth": 2
           }
          },
          "shapedefaults": {
           "line": {
            "color": "#2a3f5f"
           }
          },
          "annotationdefaults": {
           "arrowcolor": "#2a3f5f",
           "arrowhead": 0,
           "arrowwidth": 1
          },
          "geo": {
           "bgcolor": "white",
           "landcolor": "#E5ECF6",
           "subunitcolor": "white",
           "showland": true,
           "showlakes": true,
           "lakecolor": "white"
          },
          "title": {
           "x": 0.05
          },
          "mapbox": {
           "style": "light"
          }
         }
        },
        "annotations": [
         {
          "bgcolor": "lightgreen",
          "borderpad": 4,
          "font": {
           "color": "black",
           "size": 10
          },
          "showarrow": false,
          "text": "ENTERTAINMENT - STYLE & BEAUTY - ARTS",
          "textangle": 0,
          "x": 100.0,
          "y": 6.0,
          "yanchor": "bottom"
         },
         {
          "bgcolor": "lightgreen",
          "borderpad": 4,
          "font": {
           "color": "black",
           "size": 10
          },
          "showarrow": false,
          "text": "WELLNESS - IMPACT - HEALTHY LIVING",
          "textangle": 0,
          "x": -10.0,
          "y": 20.0,
          "yanchor": "bottom"
         },
         {
          "bgcolor": "lightgreen",
          "borderpad": 4,
          "font": {
           "color": "black",
           "size": 10
          },
          "showarrow": false,
          "text": "POLITICS - WORLD NEWS - THE WORLDPOST",
          "textangle": 0,
          "x": 63.33333333333333,
          "y": 24.0,
          "yanchor": "bottom"
         },
         {
          "bgcolor": "lightgreen",
          "borderpad": 4,
          "font": {
           "color": "black",
           "size": 10
          },
          "showarrow": false,
          "text": "FOOD & DRINK - TASTE",
          "textangle": 0,
          "x": 26.666666666666664,
          "y": 2.0,
          "yanchor": "bottom"
         }
        ]
       },
       "config": {
        "plotlyServerURL": "https://plot.ly"
       }
      },
      "text/html": [
       "<div>                            <div id=\"e9be33ba-a18f-4714-9aba-196708fcea27\" class=\"plotly-graph-div\" style=\"height:600px; width:1000px;\"></div>            <script type=\"text/javascript\">                require([\"plotly\"], function(Plotly) {                    window.PLOTLYENV=window.PLOTLYENV || {};                                    if (document.getElementById(\"e9be33ba-a18f-4714-9aba-196708fcea27\")) {                    Plotly.newPlot(                        \"e9be33ba-a18f-4714-9aba-196708fcea27\",                        [{\"hoverinfo\":\"none\",\"line\":{\"color\":\"#888\",\"width\":0.5},\"mode\":\"lines\",\"x\":[25.246013260955024,-10.0,null,25.246013260955024,26.666666666666664,null,25.246013260955024,100.0,null,-10.0,42.092488323696294,null,-10.0,-19.28379605846899,null,-10.0,45.56295405962169,null,-10.0,-25.067710848598566,null,-10.0,-26.876417408971392,null,-10.0,47.96889862410165,null,-10.0,31.087165242143676,null,-10.0,40.71004050645911,null,-10.0,48.74353592725207,null,-10.0,46.181106797958975,null,-10.0,36.757323178377575,null,-10.0,-29.777852927278886,null,-10.0,44.290709271086186,null,-10.0,53.366958111427955,null,-10.0,42.722376485295,null,-10.0,-21.162700278182548,null,-10.0,-27.679331661150048,null,-10.0,45.858779277730314,null,-10.0,51.65632906044187,null,-10.0,39.821811158214224,null,-10.0,36.65773665040712,null,-10.0,55.22578668737223,null,-10.0,37.65032147197867,null,-10.0,-33.98721831139169,null,-10.0,58.23047625155217,null,-10.0,-36.81350021634554,null,-10.0,49.61083302818694,null,-10.0,-35.94834773126516,null,-10.0,-38.62134469854315,null,-10.0,47.816615890204304,null,-10.0,41.341270002817225,null,-10.0,-33.05369824182642,null,-10.0,40.64963664505933,null,-10.0,-23.86145795271521,null,-10.0,-30.91622653708637,null,-10.0,54.10000364236078,null,-10.0,-44.31070372444887,null,-10.0,-44.50625381136094,null,-10.0,-45.920226573418475,null,-10.0,-42.391873214462066,null,-10.0,49.396894609093586,null,-10.0,44.732966487621994,null,-10.0,-39.85527667883631,null,-10.0,49.92333564378666,null,-10.0,58.05889022821569,null,-10.0,48.24273296245301,null,-10.0,-44.927604126854774,null,-10.0,49.011696936101636,null,-10.0,52.509351146320185,null,26.666666666666664,42.092488323696294,null,26.666666666666664,45.56295405962169,null,26.666666666666664,47.96889862410165,null,26.666666666666664,40.71004050645911,null,26.666666666666664,48.74353592725207,null,26.666666666666664,46.181106797958975,null,26.666666666666664,39.821811158214224,null,26.666666666666664,36.65773665040712,null,26.666666666666664,47.816615890204304,null,26.666666666666664,44.732966487621994,null,26.666666666666664,64.70355582215984,null,26.666666666666664,20.410872107657443,null,26.666666666666664,23.940110548673953,null,26.666666666666664,16.943437345665046,null,26.666666666666664,12.238733641035521,null,26.666666666666664,24.675454639953752,null,26.666666666666664,12.110728916360172,null,26.666666666666664,9.701733804349445,null,26.666666666666664,32.051742139073866,null,26.666666666666664,13.564437535712958,null,26.666666666666664,6.361749004015188,null,26.666666666666664,38.00306404445008,null,26.666666666666664,6.827675316747602,null,26.666666666666664,27.44981944439883,null,26.666666666666664,21.602993451047492,null,26.666666666666664,10.85581213479582,null,26.666666666666664,15.895597277288049,null,26.666666666666664,6.213594199150705,null,26.666666666666664,2.0740596494132686,null,26.666666666666664,14.803705365392304,null,26.666666666666664,5.374156766766811,null,26.666666666666664,0.3199071107802413,null,26.666666666666664,33.44108714627568,null,26.666666666666664,12.536190773042375,null,26.666666666666664,8.392889086945326,null,26.666666666666664,19.887853119387216,null,26.666666666666664,36.63067455326768,null,26.666666666666664,26.907003748496287,null,26.666666666666664,0.6696760496933254,null,26.666666666666664,-0.9769795540464662,null,26.666666666666664,41.68855963838401,null,26.666666666666664,31.56065621890019,null,26.666666666666664,22.74425381786804,null,26.666666666666664,-3.400140746456252,null,26.666666666666664,5.385928544139949,null,26.666666666666664,0.6663701866137217,null,26.666666666666664,15.751069962805122,null,26.666666666666664,10.314589190850931,null,26.666666666666664,4.539792680747874,null,100.0,42.092488323696294,null,100.0,45.56295405962169,null,100.0,47.96889862410165,null,100.0,31.087165242143676,null,100.0,40.71004050645911,null,100.0,48.74353592725207,null,100.0,46.181106797958975,null,100.0,36.757323178377575,null,100.0,44.290709271086186,null,100.0,53.366958111427955,null,100.0,42.722376485295,null,100.0,45.858779277730314,null,100.0,51.65632906044187,null,100.0,39.821811158214224,null,100.0,36.65773665040712,null,100.0,55.22578668737223,null,100.0,37.65032147197867,null,100.0,58.23047625155217,null,100.0,49.61083302818694,null,100.0,47.816615890204304,null,100.0,41.341270002817225,null,100.0,54.10000364236078,null,100.0,49.396894609093586,null,100.0,44.732966487621994,null,100.0,49.92333564378666,null,100.0,58.05889022821569,null,100.0,48.24273296245301,null,100.0,49.011696936101636,null,100.0,52.509351146320185,null,100.0,97.75450679266132,null,100.0,115.68373764359632,null,100.0,120.95446350839113,null,100.0,113.68109839441485,null,100.0,123.37913573518036,null,100.0,121.37856988705126,null,100.0,126.04605887608272,null,100.0,125.24715155172893,null,100.0,128.408982491429,null,100.0,130.29672242066937,null,100.0,89.7908747438138,null,100.0,64.70355582215984,null,100.0,126.03744467455685,null,100.0,133.73088398204382,null,100.0,90.60543334050269,null,100.0,89.08280730057213,null,100.0,121.60063361450125,null,100.0,83.06052085301357,null,100.0,132.32820091992656,null,100.0,135.65588158355723,null,42.092488323696294,63.33333333333333,null,63.33333333333333,45.56295405962169,null,63.33333333333333,47.96889862410165,null,63.33333333333333,40.71004050645911,null,63.33333333333333,48.74353592725207,null,63.33333333333333,46.181106797958975,null,63.33333333333333,36.757323178377575,null,63.33333333333333,44.290709271086186,null,63.33333333333333,53.366958111427955,null,63.33333333333333,42.722376485295,null,63.33333333333333,45.858779277730314,null,63.33333333333333,51.65632906044187,null,63.33333333333333,58.23047625155217,null,63.33333333333333,49.61083302818694,null,63.33333333333333,40.64963664505933,null,63.33333333333333,54.10000364236078,null,63.33333333333333,49.396894609093586,null,63.33333333333333,58.05889022821569,null,63.33333333333333,97.75450679266132,null,63.33333333333333,89.7908747438138,null,63.33333333333333,90.60543334050269,null,63.33333333333333,89.08280730057213,null,63.33333333333333,83.06052085301357,null,63.33333333333333,78.53504444643548,null,63.33333333333333,73.19523479336506,null,63.33333333333333,80.1673885892692,null,63.33333333333333,68.7525986778091,null,63.33333333333333,79.31720441523177,null,63.33333333333333,63.58450281570068,null,63.33333333333333,72.98938664885767,null,63.33333333333333,87.54943820796308,null,63.33333333333333,57.1259708126287,null,63.33333333333333,90.34730154110184,null,63.33333333333333,80.99310084856232,null,63.33333333333333,63.95285462829769,null,63.33333333333333,70.29361113496168,null,63.33333333333333,53.07335072154484,null,63.33333333333333,88.83372913238132,null,63.33333333333333,83.86437145190564,null,63.33333333333333,76.76215566194884,null,63.33333333333333,84.61365540368817,null,63.33333333333333,59.05673926125111,null,63.33333333333333,93.32250380523327,null,63.33333333333333,82.67155833132497,null,63.33333333333333,90.0108924647626,null,63.33333333333333,66.34727877349567,null,63.33333333333333,98.27522623228846,null,63.33333333333333,97.47489745622251,null,63.33333333333333,75.11136789481986,null,63.33333333333333,85.8612085995259,null],\"y\":[15.188264534391584,20.0,null,15.188264534391584,2.0,null,15.188264534391584,6.0,null,20.0,14.041176203589163,null,20.0,29.319586351775527,null,20.0,12.27135146896651,null,20.0,26.510284833294477,null,20.0,20.800038830777062,null,20.0,13.149900385253225,null,20.0,17.681334089309974,null,20.0,10.016034883920659,null,20.0,10.301689433793923,null,20.0,9.651210718341764,null,20.0,21.0072589285537,null,20.0,15.171534653014895,null,20.0,19.962918521875345,null,20.0,12.582392292256632,null,20.0,17.785991861527165,null,20.0,38.984079717868944,null,20.0,34.010178935450476,null,20.0,17.422913930620624,null,20.0,15.02012030457502,null,20.0,7.049992980762283,null,20.0,8.778955710537174,null,20.0,8.355136766752485,null,20.0,15.88944215757135,null,20.0,8.864342646554569,null,20.0,14.102702387957198,null,20.0,24.65221035894471,null,20.0,18.299924427619068,null,20.0,31.787452831883172,null,20.0,17.107431748291926,null,20.0,5.730026382504228,null,20.0,23.37236769756848,null,20.0,39.244889337717076,null,20.0,29.442892741645103,null,20.0,47.17277539887992,null,20.0,46.149991121936836,null,20.0,18.01600340462743,null,20.0,13.473672894100599,null,20.0,27.94998605351422,null,20.0,21.06410450880733,null,20.0,6.222661128643447,null,20.0,22.847666103268658,null,20.0,2.2676648970740283,null,20.0,42.46074292181334,null,20.0,3.1315233613223583,null,20.0,10.299180971037751,null,20.0,26.220868720297524,null,20.0,35.35962877729436,null,20.0,-0.1144586598786546,null,20.0,23.00747594410702,null,2.0,14.041176203589163,null,2.0,12.27135146896651,null,2.0,13.149900385253225,null,2.0,10.016034883920659,null,2.0,10.301689433793923,null,2.0,9.651210718341764,null,2.0,7.049992980762283,null,2.0,8.778955710537174,null,2.0,5.730026382504228,null,2.0,2.2676648970740283,null,2.0,-5.215834234987467,null,2.0,1.0475459689071023,null,2.0,-5.540388905412897,null,2.0,-8.914286131897892,null,2.0,-3.27428086921181,null,2.0,-13.773996502617681,null,2.0,6.501150786499533,null,2.0,12.653334096910854,null,2.0,-15.641755879733369,null,2.0,16.769949192202734,null,2.0,7.066583166440955,null,2.0,-16.453749325510987,null,2.0,0.5316426024678624,null,2.0,-20.277685787017475,null,2.0,-19.402309457869013,null,2.0,-12.746083975316775,null,2.0,-16.122343355198794,null,2.0,-7.349869610010235,null,2.0,-3.2533668162746823,null,2.0,-21.410987525612946,null,2.0,-13.267410247299445,null,2.0,2.5905329433676036,null,2.0,-22.355689267784204,null,2.0,23.039667736680272,null,2.0,-19.765493457641863,null,2.0,-25.715006324406808,null,2.0,-26.593639830603358,null,2.0,-27.581641943203,null,2.0,10.111804497464433,null,2.0,-12.072665243344458,null,2.0,-23.586505000677086,null,2.0,-30.00934856713842,null,2.0,-30.909265394849307,null,2.0,-6.253648366176954,null,2.0,19.516488367564666,null,2.0,-18.356762158317174,null,2.0,-30.01698928045569,null,2.0,-27.270741088347545,null,2.0,-24.03057571293477,null,6.0,14.041176203589163,null,6.0,12.27135146896651,null,6.0,13.149900385253225,null,6.0,17.681334089309974,null,6.0,10.016034883920659,null,6.0,10.301689433793923,null,6.0,9.651210718341764,null,6.0,21.0072589285537,null,6.0,19.962918521875345,null,6.0,12.582392292256632,null,6.0,17.785991861527165,null,6.0,17.422913930620624,null,6.0,15.02012030457502,null,6.0,7.049992980762283,null,6.0,8.778955710537174,null,6.0,8.355136766752485,null,6.0,15.88944215757135,null,6.0,14.102702387957198,null,6.0,18.299924427619068,null,6.0,5.730026382504228,null,6.0,23.37236769756848,null,6.0,18.01600340462743,null,6.0,22.847666103268658,null,6.0,2.2676648970740283,null,6.0,3.1315233613223583,null,6.0,10.299180971037751,null,6.0,26.220868720297524,null,6.0,-0.1144586598786546,null,6.0,23.00747594410702,null,6.0,16.67782596197246,null,6.0,-8.318131034225601,null,6.0,0.9327479059992915,null,6.0,-14.871796486397573,null,6.0,7.934760098650225,null,6.0,-8.126656517770819,null,6.0,-2.954823430799193,null,6.0,17.32931829061029,null,6.0,12.464458352923604,null,6.0,4.628112256626422,null,6.0,10.435661445775484,null,6.0,-5.215834234987467,null,6.0,-13.599442823805074,null,6.0,-0.9752240543190418,null,6.0,15.931132339930933,null,6.0,20.268052814752153,null,6.0,-19.53707281687575,null,6.0,15.268967508219637,null,6.0,-8.870178953205732,null,6.0,10.234432503228252,null,14.041176203589163,24.0,null,24.0,12.27135146896651,null,24.0,13.149900385253225,null,24.0,10.016034883920659,null,24.0,10.301689433793923,null,24.0,9.651210718341764,null,24.0,21.0072589285537,null,24.0,19.962918521875345,null,24.0,12.582392292256632,null,24.0,17.785991861527165,null,24.0,17.422913930620624,null,24.0,15.02012030457502,null,24.0,14.102702387957198,null,24.0,18.299924427619068,null,24.0,29.442892741645103,null,24.0,18.01600340462743,null,24.0,22.847666103268658,null,24.0,10.299180971037751,null,24.0,16.67782596197246,null,24.0,10.435661445775484,null,24.0,15.931132339930933,null,24.0,20.268052814752153,null,24.0,15.268967508219637,null,24.0,24.353393684504038,null,24.0,35.26238154266591,null,24.0,30.282798420968696,null,24.0,41.31994360252327,null,24.0,37.451021902572094,null,24.0,45.84234554961911,null,24.0,46.06586447395707,null,24.0,34.8624692882773,null,24.0,49.564563103531626,null,24.0,29.018740744575908,null,24.0,45.106264585370674,null,24.0,53.92476716550196,null,24.0,55.18222640771549,null,24.0,55.174798704475556,null,24.0,41.95505900899815,null,24.0,50.40564308945417,null,24.0,54.08878919342935,null,24.0,5.794571317066248,null,24.0,58.99128301252014,null,24.0,45.35660364686197,null,24.0,56.992703904537194,null,24.0,51.67371225218483,null,24.0,62.108219586475535,null,24.0,32.77978412578537,null,24.0,39.9696275940874,null,24.0,61.492665812596464,null,24.0,-0.6369584882621501,null],\"type\":\"scatter\"},{\"hoverinfo\":\"text\",\"marker\":{\"color\":[\"lightblue\",\"lightgreen\",\"lightgreen\",\"lightgreen\",\"lightblue\",\"lightgreen\",\"lightblue\",\"lightblue\",\"lightblue\",\"lightblue\",\"lightblue\",\"lightblue\",\"lightblue\",\"lightblue\",\"lightblue\",\"lightblue\",\"lightblue\",\"lightblue\",\"lightblue\",\"lightblue\",\"lightblue\",\"lightblue\",\"lightblue\",\"lightblue\",\"lightblue\",\"lightblue\",\"lightblue\",\"lightblue\",\"lightblue\",\"lightblue\",\"lightblue\",\"lightblue\",\"lightblue\",\"lightblue\",\"lightblue\",\"lightblue\",\"lightblue\",\"lightblue\",\"lightblue\",\"lightblue\",\"lightblue\",\"lightblue\",\"lightblue\",\"lightblue\",\"lightblue\",\"lightblue\",\"lightblue\",\"lightblue\",\"lightblue\",\"lightblue\",\"lightblue\",\"lightblue\",\"lightblue\",\"lightblue\",\"lightblue\",\"lightblue\",\"lightblue\",\"lightblue\",\"lightblue\",\"lightblue\",\"lightblue\",\"lightblue\",\"lightblue\",\"lightblue\",\"lightblue\",\"lightblue\",\"lightblue\",\"lightblue\",\"lightblue\",\"lightblue\",\"lightblue\",\"lightblue\",\"lightblue\",\"lightblue\",\"lightblue\",\"lightblue\",\"lightblue\",\"lightblue\",\"lightblue\",\"lightblue\",\"lightblue\",\"lightblue\",\"lightblue\",\"lightblue\",\"lightblue\",\"lightblue\",\"lightblue\",\"lightblue\",\"lightblue\",\"lightblue\",\"lightblue\",\"lightblue\",\"lightblue\",\"lightblue\",\"lightblue\",\"lightblue\",\"lightblue\",\"lightblue\",\"lightblue\",\"lightblue\",\"lightblue\",\"lightblue\",\"lightblue\",\"lightblue\",\"lightblue\",\"lightblue\",\"lightblue\",\"lightblue\",\"lightblue\",\"lightblue\",\"lightblue\",\"lightblue\",\"lightblue\",\"lightblue\",\"lightblue\",\"lightblue\",\"lightblue\",\"lightblue\",\"lightblue\",\"lightblue\",\"lightblue\",\"lightblue\",\"lightblue\",\"lightblue\",\"lightblue\",\"lightblue\",\"lightblue\",\"lightblue\",\"lightblue\",\"lightblue\",\"lightblue\",\"lightblue\",\"lightblue\",\"lightblue\",\"lightblue\",\"lightblue\",\"lightblue\",\"lightblue\",\"lightblue\"],\"colorscale\":[[0.0,\"rgb(255,255,217)\"],[0.125,\"rgb(237,248,177)\"],[0.25,\"rgb(199,233,180)\"],[0.375,\"rgb(127,205,187)\"],[0.5,\"rgb(65,182,196)\"],[0.625,\"rgb(29,145,192)\"],[0.75,\"rgb(34,94,168)\"],[0.875,\"rgb(37,52,148)\"],[1.0,\"rgb(8,29,88)\"]],\"line\":{\"width\":2},\"showscale\":false,\"size\":[10,25,25,25,10,25,10,10,10,10,10,10,10,10,10,10,10,10,10,10,10,10,10,10,10,10,10,10,10,10,10,10,10,10,10,10,10,10,10,10,10,10,10,10,10,10,10,10,10,10,10,10,10,10,10,10,10,10,10,10,10,10,10,10,10,10,10,10,10,10,10,10,10,10,10,10,10,10,10,10,10,10,10,10,10,10,10,10,10,10,10,10,10,10,10,10,10,10,10,10,10,10,10,10,10,10,10,10,10,10,10,10,10,10,10,10,10,10,10,10,10,10,10,10,10,10,10,10,10,10,10,10,10,10,10,10,10,10,10]},\"mode\":\"markers+text\",\"text\":[\"photo\",\"\",\"\",\"\",\"new\",\"\",\"art\",\"one\",\"wedding\",\"artist\",\"year\",\"look\",\"make\",\"time\",\"day\",\"show\",\"home\",\"week\",\"woman\",\"video\",\"fashion\",\"style\",\"first\",\"world\",\"love\",\"best\",\"life\",\"work\",\"dress\",\"people\",\"book\",\"take\",\"star\",\"imageblog\",\"know\",\"see\",\"film\",\"trump\",\"beauty\",\"pinterest\",\"would\",\"york\",\"music\",\"story\",\"check\",\"two\",\"good\",\"hair\",\"come\",\"may\",\"think\",\"girl\",\"find\",\"back\",\"child\",\"kid\",\"school\",\"help\",\"man\",\"many\",\"student\",\"family\",\"change\",\"thing\",\"right\",\"even\",\"college\",\"parent\",\"american\",\"police\",\"black\",\"state\",\"mom\",\"every\",\"president\",\"donald\",\"say\",\"latino\",\"news\",\"attack\",\"country\",\"war\",\"isi\",\"syria\",\"iran\",\"killed\",\"leader\",\"medium\",\"election\",\"death\",\"russia\",\"korea\",\"government\",\"north\",\"city\",\"official\",\"last\",\"report\",\"syrian\",\"china\",\"fox\",\"recipe\",\"food\",\"wine\",\"delicious\",\"dessert\",\"cooking\",\"cake\",\"salad\",\"eat\",\"cheese\",\"chocolate\",\"flavor\",\"cocktail\",\"easy\",\"dish\",\"taste\",\"chef\",\"chicken\",\"cream\",\"restaurant\",\"burger\",\"summer\",\"sweet\",\"beer\",\"dinner\",\"soup\",\"drink\",\"cooky\",\"meal\",\"kitchen\",\"breakfast\",\"favorite\",\"cook\",\"sauce\",\"cuff\",\"butter\",\"bacon\",\"sandwich\"],\"textposition\":\"bottom center\",\"x\":[25.246013260955024,-10.0,26.666666666666664,100.0,42.092488323696294,63.33333333333333,-19.28379605846899,45.56295405962169,-25.067710848598566,-26.876417408971392,47.96889862410165,31.087165242143676,40.71004050645911,48.74353592725207,46.181106797958975,36.757323178377575,-29.777852927278886,44.290709271086186,53.366958111427955,42.722376485295,-21.162700278182548,-27.679331661150048,45.858779277730314,51.65632906044187,39.821811158214224,36.65773665040712,55.22578668737223,37.65032147197867,-33.98721831139169,58.23047625155217,-36.81350021634554,49.61083302818694,-35.94834773126516,-38.62134469854315,47.816615890204304,41.341270002817225,-33.05369824182642,40.64963664505933,-23.86145795271521,-30.91622653708637,54.10000364236078,-44.31070372444887,-44.50625381136094,-45.920226573418475,-42.391873214462066,49.396894609093586,44.732966487621994,-39.85527667883631,49.92333564378666,58.05889022821569,48.24273296245301,-44.927604126854774,49.011696936101636,52.509351146320185,97.75450679266132,115.68373764359632,120.95446350839113,113.68109839441485,123.37913573518036,121.37856988705126,126.04605887608272,125.24715155172893,128.408982491429,130.29672242066937,89.7908747438138,64.70355582215984,126.03744467455685,133.73088398204382,90.60543334050269,89.08280730057213,121.60063361450125,83.06052085301357,132.32820091992656,135.65588158355723,78.53504444643548,73.19523479336506,80.1673885892692,68.7525986778091,79.31720441523177,63.58450281570068,72.98938664885767,87.54943820796308,57.1259708126287,90.34730154110184,80.99310084856232,63.95285462829769,70.29361113496168,53.07335072154484,88.83372913238132,83.86437145190564,76.76215566194884,84.61365540368817,59.05673926125111,93.32250380523327,82.67155833132497,90.0108924647626,66.34727877349567,98.27522623228846,97.47489745622251,75.11136789481986,85.8612085995259,20.410872107657443,23.940110548673953,16.943437345665046,12.238733641035521,24.675454639953752,12.110728916360172,9.701733804349445,32.051742139073866,13.564437535712958,6.361749004015188,38.00306404445008,6.827675316747602,27.44981944439883,21.602993451047492,10.85581213479582,15.895597277288049,6.213594199150705,2.0740596494132686,14.803705365392304,5.374156766766811,0.3199071107802413,33.44108714627568,12.536190773042375,8.392889086945326,19.887853119387216,36.63067455326768,26.907003748496287,0.6696760496933254,-0.9769795540464662,41.68855963838401,31.56065621890019,22.74425381786804,-3.400140746456252,5.385928544139949,0.6663701866137217,15.751069962805122,10.314589190850931,4.539792680747874],\"y\":[15.188264534391584,20.0,2.0,6.0,14.041176203589163,24.0,29.319586351775527,12.27135146896651,26.510284833294477,20.800038830777062,13.149900385253225,17.681334089309974,10.016034883920659,10.301689433793923,9.651210718341764,21.0072589285537,15.171534653014895,19.962918521875345,12.582392292256632,17.785991861527165,38.984079717868944,34.010178935450476,17.422913930620624,15.02012030457502,7.049992980762283,8.778955710537174,8.355136766752485,15.88944215757135,8.864342646554569,14.102702387957198,24.65221035894471,18.299924427619068,31.787452831883172,17.107431748291926,5.730026382504228,23.37236769756848,39.244889337717076,29.442892741645103,47.17277539887992,46.149991121936836,18.01600340462743,13.473672894100599,27.94998605351422,21.06410450880733,6.222661128643447,22.847666103268658,2.2676648970740283,42.46074292181334,3.1315233613223583,10.299180971037751,26.220868720297524,35.35962877729436,-0.1144586598786546,23.00747594410702,16.67782596197246,-8.318131034225601,0.9327479059992915,-14.871796486397573,7.934760098650225,-8.126656517770819,-2.954823430799193,17.32931829061029,12.464458352923604,4.628112256626422,10.435661445775484,-5.215834234987467,-13.599442823805074,-0.9752240543190418,15.931132339930933,20.268052814752153,-19.53707281687575,15.268967508219637,-8.870178953205732,10.234432503228252,24.353393684504038,35.26238154266591,30.282798420968696,41.31994360252327,37.451021902572094,45.84234554961911,46.06586447395707,34.8624692882773,49.564563103531626,29.018740744575908,45.106264585370674,53.92476716550196,55.18222640771549,55.174798704475556,41.95505900899815,50.40564308945417,54.08878919342935,5.794571317066248,58.99128301252014,45.35660364686197,56.992703904537194,51.67371225218483,62.108219586475535,32.77978412578537,39.9696275940874,61.492665812596464,-0.6369584882621501,1.0475459689071023,-5.540388905412897,-8.914286131897892,-3.27428086921181,-13.773996502617681,6.501150786499533,12.653334096910854,-15.641755879733369,16.769949192202734,7.066583166440955,-16.453749325510987,0.5316426024678624,-20.277685787017475,-19.402309457869013,-12.746083975316775,-16.122343355198794,-7.349869610010235,-3.2533668162746823,-21.410987525612946,-13.267410247299445,2.5905329433676036,-22.355689267784204,23.039667736680272,-19.765493457641863,-25.715006324406808,-26.593639830603358,-27.581641943203,10.111804497464433,-12.072665243344458,-23.586505000677086,-30.00934856713842,-30.909265394849307,-6.253648366176954,19.516488367564666,-18.356762158317174,-30.01698928045569,-27.270741088347545,-24.03057571293477],\"type\":\"scatter\"}],                        {\"height\":600,\"hovermode\":\"closest\",\"margin\":{\"b\":20,\"l\":5,\"r\":5,\"t\":40},\"showlegend\":false,\"title\":{\"text\":\"Keyword-Cluster Network Graph\"},\"width\":1000,\"xaxis\":{\"showgrid\":false,\"showticklabels\":false,\"zeroline\":false},\"yaxis\":{\"showgrid\":false,\"showticklabels\":false,\"zeroline\":false},\"template\":{\"data\":{\"histogram2dcontour\":[{\"type\":\"histogram2dcontour\",\"colorbar\":{\"outlinewidth\":0,\"ticks\":\"\"},\"colorscale\":[[0.0,\"#0d0887\"],[0.1111111111111111,\"#46039f\"],[0.2222222222222222,\"#7201a8\"],[0.3333333333333333,\"#9c179e\"],[0.4444444444444444,\"#bd3786\"],[0.5555555555555556,\"#d8576b\"],[0.6666666666666666,\"#ed7953\"],[0.7777777777777778,\"#fb9f3a\"],[0.8888888888888888,\"#fdca26\"],[1.0,\"#f0f921\"]]}],\"choropleth\":[{\"type\":\"choropleth\",\"colorbar\":{\"outlinewidth\":0,\"ticks\":\"\"}}],\"histogram2d\":[{\"type\":\"histogram2d\",\"colorbar\":{\"outlinewidth\":0,\"ticks\":\"\"},\"colorscale\":[[0.0,\"#0d0887\"],[0.1111111111111111,\"#46039f\"],[0.2222222222222222,\"#7201a8\"],[0.3333333333333333,\"#9c179e\"],[0.4444444444444444,\"#bd3786\"],[0.5555555555555556,\"#d8576b\"],[0.6666666666666666,\"#ed7953\"],[0.7777777777777778,\"#fb9f3a\"],[0.8888888888888888,\"#fdca26\"],[1.0,\"#f0f921\"]]}],\"heatmap\":[{\"type\":\"heatmap\",\"colorbar\":{\"outlinewidth\":0,\"ticks\":\"\"},\"colorscale\":[[0.0,\"#0d0887\"],[0.1111111111111111,\"#46039f\"],[0.2222222222222222,\"#7201a8\"],[0.3333333333333333,\"#9c179e\"],[0.4444444444444444,\"#bd3786\"],[0.5555555555555556,\"#d8576b\"],[0.6666666666666666,\"#ed7953\"],[0.7777777777777778,\"#fb9f3a\"],[0.8888888888888888,\"#fdca26\"],[1.0,\"#f0f921\"]]}],\"heatmapgl\":[{\"type\":\"heatmapgl\",\"colorbar\":{\"outlinewidth\":0,\"ticks\":\"\"},\"colorscale\":[[0.0,\"#0d0887\"],[0.1111111111111111,\"#46039f\"],[0.2222222222222222,\"#7201a8\"],[0.3333333333333333,\"#9c179e\"],[0.4444444444444444,\"#bd3786\"],[0.5555555555555556,\"#d8576b\"],[0.6666666666666666,\"#ed7953\"],[0.7777777777777778,\"#fb9f3a\"],[0.8888888888888888,\"#fdca26\"],[1.0,\"#f0f921\"]]}],\"contourcarpet\":[{\"type\":\"contourcarpet\",\"colorbar\":{\"outlinewidth\":0,\"ticks\":\"\"}}],\"contour\":[{\"type\":\"contour\",\"colorbar\":{\"outlinewidth\":0,\"ticks\":\"\"},\"colorscale\":[[0.0,\"#0d0887\"],[0.1111111111111111,\"#46039f\"],[0.2222222222222222,\"#7201a8\"],[0.3333333333333333,\"#9c179e\"],[0.4444444444444444,\"#bd3786\"],[0.5555555555555556,\"#d8576b\"],[0.6666666666666666,\"#ed7953\"],[0.7777777777777778,\"#fb9f3a\"],[0.8888888888888888,\"#fdca26\"],[1.0,\"#f0f921\"]]}],\"surface\":[{\"type\":\"surface\",\"colorbar\":{\"outlinewidth\":0,\"ticks\":\"\"},\"colorscale\":[[0.0,\"#0d0887\"],[0.1111111111111111,\"#46039f\"],[0.2222222222222222,\"#7201a8\"],[0.3333333333333333,\"#9c179e\"],[0.4444444444444444,\"#bd3786\"],[0.5555555555555556,\"#d8576b\"],[0.6666666666666666,\"#ed7953\"],[0.7777777777777778,\"#fb9f3a\"],[0.8888888888888888,\"#fdca26\"],[1.0,\"#f0f921\"]]}],\"mesh3d\":[{\"type\":\"mesh3d\",\"colorbar\":{\"outlinewidth\":0,\"ticks\":\"\"}}],\"scatter\":[{\"fillpattern\":{\"fillmode\":\"overlay\",\"size\":10,\"solidity\":0.2},\"type\":\"scatter\"}],\"parcoords\":[{\"type\":\"parcoords\",\"line\":{\"colorbar\":{\"outlinewidth\":0,\"ticks\":\"\"}}}],\"scatterpolargl\":[{\"type\":\"scatterpolargl\",\"marker\":{\"colorbar\":{\"outlinewidth\":0,\"ticks\":\"\"}}}],\"bar\":[{\"error_x\":{\"color\":\"#2a3f5f\"},\"error_y\":{\"color\":\"#2a3f5f\"},\"marker\":{\"line\":{\"color\":\"#E5ECF6\",\"width\":0.5},\"pattern\":{\"fillmode\":\"overlay\",\"size\":10,\"solidity\":0.2}},\"type\":\"bar\"}],\"scattergeo\":[{\"type\":\"scattergeo\",\"marker\":{\"colorbar\":{\"outlinewidth\":0,\"ticks\":\"\"}}}],\"scatterpolar\":[{\"type\":\"scatterpolar\",\"marker\":{\"colorbar\":{\"outlinewidth\":0,\"ticks\":\"\"}}}],\"histogram\":[{\"marker\":{\"pattern\":{\"fillmode\":\"overlay\",\"size\":10,\"solidity\":0.2}},\"type\":\"histogram\"}],\"scattergl\":[{\"type\":\"scattergl\",\"marker\":{\"colorbar\":{\"outlinewidth\":0,\"ticks\":\"\"}}}],\"scatter3d\":[{\"type\":\"scatter3d\",\"line\":{\"colorbar\":{\"outlinewidth\":0,\"ticks\":\"\"}},\"marker\":{\"colorbar\":{\"outlinewidth\":0,\"ticks\":\"\"}}}],\"scattermapbox\":[{\"type\":\"scattermapbox\",\"marker\":{\"colorbar\":{\"outlinewidth\":0,\"ticks\":\"\"}}}],\"scatterternary\":[{\"type\":\"scatterternary\",\"marker\":{\"colorbar\":{\"outlinewidth\":0,\"ticks\":\"\"}}}],\"scattercarpet\":[{\"type\":\"scattercarpet\",\"marker\":{\"colorbar\":{\"outlinewidth\":0,\"ticks\":\"\"}}}],\"carpet\":[{\"aaxis\":{\"endlinecolor\":\"#2a3f5f\",\"gridcolor\":\"white\",\"linecolor\":\"white\",\"minorgridcolor\":\"white\",\"startlinecolor\":\"#2a3f5f\"},\"baxis\":{\"endlinecolor\":\"#2a3f5f\",\"gridcolor\":\"white\",\"linecolor\":\"white\",\"minorgridcolor\":\"white\",\"startlinecolor\":\"#2a3f5f\"},\"type\":\"carpet\"}],\"table\":[{\"cells\":{\"fill\":{\"color\":\"#EBF0F8\"},\"line\":{\"color\":\"white\"}},\"header\":{\"fill\":{\"color\":\"#C8D4E3\"},\"line\":{\"color\":\"white\"}},\"type\":\"table\"}],\"barpolar\":[{\"marker\":{\"line\":{\"color\":\"#E5ECF6\",\"width\":0.5},\"pattern\":{\"fillmode\":\"overlay\",\"size\":10,\"solidity\":0.2}},\"type\":\"barpolar\"}],\"pie\":[{\"automargin\":true,\"type\":\"pie\"}]},\"layout\":{\"autotypenumbers\":\"strict\",\"colorway\":[\"#636efa\",\"#EF553B\",\"#00cc96\",\"#ab63fa\",\"#FFA15A\",\"#19d3f3\",\"#FF6692\",\"#B6E880\",\"#FF97FF\",\"#FECB52\"],\"font\":{\"color\":\"#2a3f5f\"},\"hovermode\":\"closest\",\"hoverlabel\":{\"align\":\"left\"},\"paper_bgcolor\":\"white\",\"plot_bgcolor\":\"#E5ECF6\",\"polar\":{\"bgcolor\":\"#E5ECF6\",\"angularaxis\":{\"gridcolor\":\"white\",\"linecolor\":\"white\",\"ticks\":\"\"},\"radialaxis\":{\"gridcolor\":\"white\",\"linecolor\":\"white\",\"ticks\":\"\"}},\"ternary\":{\"bgcolor\":\"#E5ECF6\",\"aaxis\":{\"gridcolor\":\"white\",\"linecolor\":\"white\",\"ticks\":\"\"},\"baxis\":{\"gridcolor\":\"white\",\"linecolor\":\"white\",\"ticks\":\"\"},\"caxis\":{\"gridcolor\":\"white\",\"linecolor\":\"white\",\"ticks\":\"\"}},\"coloraxis\":{\"colorbar\":{\"outlinewidth\":0,\"ticks\":\"\"}},\"colorscale\":{\"sequential\":[[0.0,\"#0d0887\"],[0.1111111111111111,\"#46039f\"],[0.2222222222222222,\"#7201a8\"],[0.3333333333333333,\"#9c179e\"],[0.4444444444444444,\"#bd3786\"],[0.5555555555555556,\"#d8576b\"],[0.6666666666666666,\"#ed7953\"],[0.7777777777777778,\"#fb9f3a\"],[0.8888888888888888,\"#fdca26\"],[1.0,\"#f0f921\"]],\"sequentialminus\":[[0.0,\"#0d0887\"],[0.1111111111111111,\"#46039f\"],[0.2222222222222222,\"#7201a8\"],[0.3333333333333333,\"#9c179e\"],[0.4444444444444444,\"#bd3786\"],[0.5555555555555556,\"#d8576b\"],[0.6666666666666666,\"#ed7953\"],[0.7777777777777778,\"#fb9f3a\"],[0.8888888888888888,\"#fdca26\"],[1.0,\"#f0f921\"]],\"diverging\":[[0,\"#8e0152\"],[0.1,\"#c51b7d\"],[0.2,\"#de77ae\"],[0.3,\"#f1b6da\"],[0.4,\"#fde0ef\"],[0.5,\"#f7f7f7\"],[0.6,\"#e6f5d0\"],[0.7,\"#b8e186\"],[0.8,\"#7fbc41\"],[0.9,\"#4d9221\"],[1,\"#276419\"]]},\"xaxis\":{\"gridcolor\":\"white\",\"linecolor\":\"white\",\"ticks\":\"\",\"title\":{\"standoff\":15},\"zerolinecolor\":\"white\",\"automargin\":true,\"zerolinewidth\":2},\"yaxis\":{\"gridcolor\":\"white\",\"linecolor\":\"white\",\"ticks\":\"\",\"title\":{\"standoff\":15},\"zerolinecolor\":\"white\",\"automargin\":true,\"zerolinewidth\":2},\"scene\":{\"xaxis\":{\"backgroundcolor\":\"#E5ECF6\",\"gridcolor\":\"white\",\"linecolor\":\"white\",\"showbackground\":true,\"ticks\":\"\",\"zerolinecolor\":\"white\",\"gridwidth\":2},\"yaxis\":{\"backgroundcolor\":\"#E5ECF6\",\"gridcolor\":\"white\",\"linecolor\":\"white\",\"showbackground\":true,\"ticks\":\"\",\"zerolinecolor\":\"white\",\"gridwidth\":2},\"zaxis\":{\"backgroundcolor\":\"#E5ECF6\",\"gridcolor\":\"white\",\"linecolor\":\"white\",\"showbackground\":true,\"ticks\":\"\",\"zerolinecolor\":\"white\",\"gridwidth\":2}},\"shapedefaults\":{\"line\":{\"color\":\"#2a3f5f\"}},\"annotationdefaults\":{\"arrowcolor\":\"#2a3f5f\",\"arrowhead\":0,\"arrowwidth\":1},\"geo\":{\"bgcolor\":\"white\",\"landcolor\":\"#E5ECF6\",\"subunitcolor\":\"white\",\"showland\":true,\"showlakes\":true,\"lakecolor\":\"white\"},\"title\":{\"x\":0.05},\"mapbox\":{\"style\":\"light\"}}},\"annotations\":[{\"bgcolor\":\"lightgreen\",\"borderpad\":4,\"font\":{\"color\":\"black\",\"size\":10},\"showarrow\":false,\"text\":\"ENTERTAINMENT - STYLE & BEAUTY - ARTS\",\"textangle\":0,\"x\":100.0,\"y\":6.0,\"yanchor\":\"bottom\"},{\"bgcolor\":\"lightgreen\",\"borderpad\":4,\"font\":{\"color\":\"black\",\"size\":10},\"showarrow\":false,\"text\":\"WELLNESS - IMPACT - HEALTHY LIVING\",\"textangle\":0,\"x\":-10.0,\"y\":20.0,\"yanchor\":\"bottom\"},{\"bgcolor\":\"lightgreen\",\"borderpad\":4,\"font\":{\"color\":\"black\",\"size\":10},\"showarrow\":false,\"text\":\"POLITICS - WORLD NEWS - THE WORLDPOST\",\"textangle\":0,\"x\":63.33333333333333,\"y\":24.0,\"yanchor\":\"bottom\"},{\"bgcolor\":\"lightgreen\",\"borderpad\":4,\"font\":{\"color\":\"black\",\"size\":10},\"showarrow\":false,\"text\":\"FOOD & DRINK - TASTE\",\"textangle\":0,\"x\":26.666666666666664,\"y\":2.0,\"yanchor\":\"bottom\"}]},                        {\"responsive\": true}                    ).then(function(){\n",
       "                            \n",
       "var gd = document.getElementById('e9be33ba-a18f-4714-9aba-196708fcea27');\n",
       "var x = new MutationObserver(function (mutations, observer) {{\n",
       "        var display = window.getComputedStyle(gd).display;\n",
       "        if (!display || display === 'none') {{\n",
       "            console.log([gd, 'removed!']);\n",
       "            Plotly.purge(gd);\n",
       "            observer.disconnect();\n",
       "        }}\n",
       "}});\n",
       "\n",
       "// Listen for the removal of the full notebook cells\n",
       "var notebookContainer = gd.closest('#notebook-container');\n",
       "if (notebookContainer) {{\n",
       "    x.observe(notebookContainer, {childList: true});\n",
       "}}\n",
       "\n",
       "// Listen for the clearing of the current output cell\n",
       "var outputEl = gd.closest('.output');\n",
       "if (outputEl) {{\n",
       "    x.observe(outputEl, {childList: true});\n",
       "}}\n",
       "\n",
       "                        })                };                });            </script>        </div>"
      ]
     },
     "metadata": {},
     "output_type": "display_data"
    }
   ],
   "execution_count": 1474
  },
  {
   "cell_type": "markdown",
   "id": "158e5c7d00dcca1",
   "metadata": {},
   "source": [
    "<h2 id=\"visualization\">Visualize Category Clusterization</a>"
   ]
  },
  {
   "cell_type": "code",
   "id": "91675bac39315d3",
   "metadata": {
    "ExecuteTime": {
     "end_time": "2025-01-26T06:32:47.547169Z",
     "start_time": "2025-01-26T06:32:47.528013Z"
    }
   },
   "source": [
    "import plotly.graph_objects as go\n",
    "\n",
    "size_scale_factor = 30\n",
    "marker_sizes = np.array(category_dominance_scores) * size_scale_factor\n",
    "\n",
    "fig = go.Figure(\n",
    "    data=[go.Scatter3d(\n",
    "        x=reduced_data[:, 0],\n",
    "        y=reduced_data[:, 1],\n",
    "        z=reduced_data[:, 2],\n",
    "        mode='markers',\n",
    "        marker=dict(\n",
    "            size=marker_sizes,\n",
    "            color=kmeans_results.labels_,\n",
    "            colorscale='Rainbow',\n",
    "            symbol='circle',\n",
    "        ),\n",
    "        text=category_names,\n",
    "        textposition='top center',\n",
    "    )],\n",
    "    layout=go.Layout(\n",
    "        width=1000,\n",
    "        height=1200,\n",
    "        scene=dict(\n",
    "            xaxis=dict(\n",
    "                showbackground=False,\n",
    "                showgrid=True,\n",
    "                gridcolor='#ddd',\n",
    "                zerolinecolor='black',\n",
    "            ),\n",
    "            yaxis=dict(\n",
    "                showbackground=False,\n",
    "                showgrid=True,\n",
    "                gridcolor='#ddd',\n",
    "                zerolinecolor='black',\n",
    "            ),\n",
    "            zaxis=dict(\n",
    "                showbackground=False,\n",
    "                showgrid=True,\n",
    "                gridcolor='#ddd',\n",
    "                zerolinecolor='black',\n",
    "            ),\n",
    "            xaxis_title='t-SNE Dimension 1',\n",
    "            yaxis_title='t-SNE Dimension 2',\n",
    "            zaxis_title='t-SNE Dimension 3',\n",
    "        ),\n",
    "        title='K-Means Clustering Visualization with t-SNE'\n",
    "    ),\n",
    ")\n",
    "\n",
    "\n",
    "fig.update_traces(mode='markers+text')\n",
    "\n",
    "fig.show()"
   ],
   "outputs": [
    {
     "data": {
      "application/vnd.plotly.v1+json": {
       "data": [
        {
         "marker": {
          "color": [
           1,
           1,
           0,
           0,
           0,
           2,
           0,
           1,
           0,
           0,
           1,
           0,
           0,
           3,
           0,
           0,
           0,
           1,
           0,
           2,
           2,
           0,
           0,
           0,
           2,
           0,
           0,
           0,
           0,
           1,
           1,
           3,
           0,
           2,
           0,
           2,
           1,
           0,
           0,
           0,
           2,
           2
          ],
          "colorscale": [
           [
            0.0,
            "rgb(150,0,90)"
           ],
           [
            0.125,
            "rgb(0,0,200)"
           ],
           [
            0.25,
            "rgb(0,25,255)"
           ],
           [
            0.375,
            "rgb(0,152,255)"
           ],
           [
            0.5,
            "rgb(44,255,150)"
           ],
           [
            0.625,
            "rgb(151,255,0)"
           ],
           [
            0.75,
            "rgb(255,234,0)"
           ],
           [
            0.875,
            "rgb(255,111,0)"
           ],
           [
            1.0,
            "rgb(255,0,0)"
           ]
          ],
          "size": [
           14.25054515394372,
           13.809351990362124,
           12.308368619122605,
           14.326847114522755,
           9.728890522903304,
           13.045256509331496,
           9.841064888736122,
           14.066137092121087,
           8.57837894410528,
           10.099699458761814,
           18.424416939334307,
           11.734304696157945,
           15.038045593152782,
           26.611228423353325,
           13.428030856767117,
           12.03617411162693,
           15.30996455498327,
           13.032049343281361,
           15.80245550868655,
           11.168084159689617,
           13.434208400254036,
           11.995289935353354,
           14.38489058507484,
           13.296333495064253,
           21.890361619621814,
           11.196678539709424,
           10.903622689685351,
           11.223976781882609,
           10.687845428271023,
           13.510725630309762,
           15.923184850117797,
           20.574778578931483,
           11.041542161899512,
           15.046508988205005,
           13.076357445558369,
           13.10721981934764,
           10.01021694868762,
           13.082360197340574,
           16.4522643636337,
           11.879424990880858,
           15.544944910420869,
           13.696802355537503
          ],
          "symbol": "circle"
         },
         "mode": "markers+text",
         "text": [
          "ARTS",
          "ARTS & CULTURE",
          "BLACK VOICES",
          "BUSINESS",
          "COLLEGE",
          "COMEDY",
          "CRIME",
          "CULTURE & ARTS",
          "DIVORCE",
          "EDUCATION",
          "ENTERTAINMENT",
          "ENVIRONMENT",
          "FIFTY",
          "FOOD & DRINK",
          "GOOD NEWS",
          "GREEN",
          "HEALTHY LIVING",
          "HOME & LIVING",
          "IMPACT",
          "LATINO VOICES",
          "MEDIA",
          "MONEY",
          "PARENTING",
          "PARENTS",
          "POLITICS",
          "QUEER VOICES",
          "RELIGION",
          "SCIENCE",
          "SPORTS",
          "STYLE",
          "STYLE & BEAUTY",
          "TASTE",
          "TECH",
          "THE WORLDPOST",
          "TRAVEL",
          "U.S. NEWS",
          "WEDDINGS",
          "WEIRD NEWS",
          "WELLNESS",
          "WOMEN",
          "WORLD NEWS",
          "WORLDPOST"
         ],
         "textposition": "top center",
         "x": [
          61.72544860839844,
          -49.53342819213867,
          -21.620695114135742,
          8.725614547729492,
          -49.80487823486328,
          -23.827280044555664,
          -67.1734619140625,
          12.261228561401367,
          130.98362731933594,
          79.36148071289062,
          116.07036590576172,
          84.84814453125,
          -15.902754783630371,
          -122.91083526611328,
          -102.03998565673828,
          130.6554718017578,
          -1.3327580690383911,
          83.09930419921875,
          21.214399337768555,
          -87.0833969116211,
          61.77947235107422,
          59.508934020996094,
          8.986236572265625,
          -84.00897979736328,
          -127.25482940673828,
          1.818231225013733,
          15.38183307647705,
          51.271270751953125,
          -26.713062286376953,
          -85.87396240234375,
          -62.7916145324707,
          -144.06932067871094,
          -79.67874908447266,
          49.40025329589844,
          29.110746383666992,
          -40.75907516479492,
          86.97692108154297,
          -31.67025375366211,
          52.69866943359375,
          123.61328125,
          7.314555644989014,
          -8.06032657623291
         ],
         "y": [
          1.3981692790985107,
          7.2646613121032715,
          7.631618022918701,
          138.5550537109375,
          -60.295467376708984,
          -8.198566436767578,
          -68.20075988769531,
          -30.374618530273438,
          -21.999374389648438,
          44.65574264526367,
          58.30368423461914,
          -49.621402740478516,
          -33.810157775878906,
          -68.75194549560547,
          71.37551879882812,
          -21.53309440612793,
          68.54154968261719,
          -97.85778045654297,
          -82.17330932617188,
          45.611270904541016,
          94.05794525146484,
          -21.99071502685547,
          -104.0262222290039,
          34.96389389038086,
          -7.436579704284668,
          73.81544494628906,
          -95.66517639160156,
          14.056495666503906,
          4.144829750061035,
          -39.625572204589844,
          117.83727264404297,
          -21.40593719482422,
          -115.52527618408203,
          34.75122833251953,
          -48.99644470214844,
          114.93253326416016,
          -117.7201156616211,
          -117.02385711669922,
          100.42747497558594,
          59.19437026977539,
          73.31388854980469,
          46.09578323364258
         ],
         "z": [
          69.16352844238281,
          72.35121154785156,
          141.75094604492188,
          -1.7715805768966675,
          -88.05532836914062,
          -140.94314575195312,
          98.11611938476562,
          75.42523956298828,
          -66.51422882080078,
          130.23583984375,
          -73.07941436767578,
          1.935314655303955,
          7.452331066131592,
          -78.3454818725586,
          39.67176055908203,
          25.552064895629883,
          -34.64105987548828,
          58.26144027709961,
          -93.20003509521484,
          -101.69951629638672,
          40.4943733215332,
          -117.04304504394531,
          22.730928421020508,
          -18.668020248413086,
          63.35067367553711,
          -120.7353515625,
          114.66537475585938,
          -4.348320484161377,
          -56.99587631225586,
          1.4873461723327637,
          -53.1051139831543,
          -49.7628173828125,
          23.875308990478516,
          -73.4340591430664,
          -37.01279067993164,
          55.81730651855469,
          -44.62989044189453,
          -39.575889587402344,
          -42.98477554321289,
          9.898113250732422,
          92.22615051269531,
          30.45265769958496
         ],
         "type": "scatter3d"
        }
       ],
       "layout": {
        "height": 1200,
        "scene": {
         "xaxis": {
          "gridcolor": "#ddd",
          "showbackground": false,
          "showgrid": true,
          "title": {
           "text": "t-SNE Dimension 1"
          },
          "zerolinecolor": "black"
         },
         "yaxis": {
          "gridcolor": "#ddd",
          "showbackground": false,
          "showgrid": true,
          "title": {
           "text": "t-SNE Dimension 2"
          },
          "zerolinecolor": "black"
         },
         "zaxis": {
          "gridcolor": "#ddd",
          "showbackground": false,
          "showgrid": true,
          "title": {
           "text": "t-SNE Dimension 3"
          },
          "zerolinecolor": "black"
         }
        },
        "title": {
         "text": "K-Means Clustering Visualization with t-SNE"
        },
        "width": 1000,
        "template": {
         "data": {
          "histogram2dcontour": [
           {
            "type": "histogram2dcontour",
            "colorbar": {
             "outlinewidth": 0,
             "ticks": ""
            },
            "colorscale": [
             [
              0.0,
              "#0d0887"
             ],
             [
              0.1111111111111111,
              "#46039f"
             ],
             [
              0.2222222222222222,
              "#7201a8"
             ],
             [
              0.3333333333333333,
              "#9c179e"
             ],
             [
              0.4444444444444444,
              "#bd3786"
             ],
             [
              0.5555555555555556,
              "#d8576b"
             ],
             [
              0.6666666666666666,
              "#ed7953"
             ],
             [
              0.7777777777777778,
              "#fb9f3a"
             ],
             [
              0.8888888888888888,
              "#fdca26"
             ],
             [
              1.0,
              "#f0f921"
             ]
            ]
           }
          ],
          "choropleth": [
           {
            "type": "choropleth",
            "colorbar": {
             "outlinewidth": 0,
             "ticks": ""
            }
           }
          ],
          "histogram2d": [
           {
            "type": "histogram2d",
            "colorbar": {
             "outlinewidth": 0,
             "ticks": ""
            },
            "colorscale": [
             [
              0.0,
              "#0d0887"
             ],
             [
              0.1111111111111111,
              "#46039f"
             ],
             [
              0.2222222222222222,
              "#7201a8"
             ],
             [
              0.3333333333333333,
              "#9c179e"
             ],
             [
              0.4444444444444444,
              "#bd3786"
             ],
             [
              0.5555555555555556,
              "#d8576b"
             ],
             [
              0.6666666666666666,
              "#ed7953"
             ],
             [
              0.7777777777777778,
              "#fb9f3a"
             ],
             [
              0.8888888888888888,
              "#fdca26"
             ],
             [
              1.0,
              "#f0f921"
             ]
            ]
           }
          ],
          "heatmap": [
           {
            "type": "heatmap",
            "colorbar": {
             "outlinewidth": 0,
             "ticks": ""
            },
            "colorscale": [
             [
              0.0,
              "#0d0887"
             ],
             [
              0.1111111111111111,
              "#46039f"
             ],
             [
              0.2222222222222222,
              "#7201a8"
             ],
             [
              0.3333333333333333,
              "#9c179e"
             ],
             [
              0.4444444444444444,
              "#bd3786"
             ],
             [
              0.5555555555555556,
              "#d8576b"
             ],
             [
              0.6666666666666666,
              "#ed7953"
             ],
             [
              0.7777777777777778,
              "#fb9f3a"
             ],
             [
              0.8888888888888888,
              "#fdca26"
             ],
             [
              1.0,
              "#f0f921"
             ]
            ]
           }
          ],
          "heatmapgl": [
           {
            "type": "heatmapgl",
            "colorbar": {
             "outlinewidth": 0,
             "ticks": ""
            },
            "colorscale": [
             [
              0.0,
              "#0d0887"
             ],
             [
              0.1111111111111111,
              "#46039f"
             ],
             [
              0.2222222222222222,
              "#7201a8"
             ],
             [
              0.3333333333333333,
              "#9c179e"
             ],
             [
              0.4444444444444444,
              "#bd3786"
             ],
             [
              0.5555555555555556,
              "#d8576b"
             ],
             [
              0.6666666666666666,
              "#ed7953"
             ],
             [
              0.7777777777777778,
              "#fb9f3a"
             ],
             [
              0.8888888888888888,
              "#fdca26"
             ],
             [
              1.0,
              "#f0f921"
             ]
            ]
           }
          ],
          "contourcarpet": [
           {
            "type": "contourcarpet",
            "colorbar": {
             "outlinewidth": 0,
             "ticks": ""
            }
           }
          ],
          "contour": [
           {
            "type": "contour",
            "colorbar": {
             "outlinewidth": 0,
             "ticks": ""
            },
            "colorscale": [
             [
              0.0,
              "#0d0887"
             ],
             [
              0.1111111111111111,
              "#46039f"
             ],
             [
              0.2222222222222222,
              "#7201a8"
             ],
             [
              0.3333333333333333,
              "#9c179e"
             ],
             [
              0.4444444444444444,
              "#bd3786"
             ],
             [
              0.5555555555555556,
              "#d8576b"
             ],
             [
              0.6666666666666666,
              "#ed7953"
             ],
             [
              0.7777777777777778,
              "#fb9f3a"
             ],
             [
              0.8888888888888888,
              "#fdca26"
             ],
             [
              1.0,
              "#f0f921"
             ]
            ]
           }
          ],
          "surface": [
           {
            "type": "surface",
            "colorbar": {
             "outlinewidth": 0,
             "ticks": ""
            },
            "colorscale": [
             [
              0.0,
              "#0d0887"
             ],
             [
              0.1111111111111111,
              "#46039f"
             ],
             [
              0.2222222222222222,
              "#7201a8"
             ],
             [
              0.3333333333333333,
              "#9c179e"
             ],
             [
              0.4444444444444444,
              "#bd3786"
             ],
             [
              0.5555555555555556,
              "#d8576b"
             ],
             [
              0.6666666666666666,
              "#ed7953"
             ],
             [
              0.7777777777777778,
              "#fb9f3a"
             ],
             [
              0.8888888888888888,
              "#fdca26"
             ],
             [
              1.0,
              "#f0f921"
             ]
            ]
           }
          ],
          "mesh3d": [
           {
            "type": "mesh3d",
            "colorbar": {
             "outlinewidth": 0,
             "ticks": ""
            }
           }
          ],
          "scatter": [
           {
            "fillpattern": {
             "fillmode": "overlay",
             "size": 10,
             "solidity": 0.2
            },
            "type": "scatter"
           }
          ],
          "parcoords": [
           {
            "type": "parcoords",
            "line": {
             "colorbar": {
              "outlinewidth": 0,
              "ticks": ""
             }
            }
           }
          ],
          "scatterpolargl": [
           {
            "type": "scatterpolargl",
            "marker": {
             "colorbar": {
              "outlinewidth": 0,
              "ticks": ""
             }
            }
           }
          ],
          "bar": [
           {
            "error_x": {
             "color": "#2a3f5f"
            },
            "error_y": {
             "color": "#2a3f5f"
            },
            "marker": {
             "line": {
              "color": "#E5ECF6",
              "width": 0.5
             },
             "pattern": {
              "fillmode": "overlay",
              "size": 10,
              "solidity": 0.2
             }
            },
            "type": "bar"
           }
          ],
          "scattergeo": [
           {
            "type": "scattergeo",
            "marker": {
             "colorbar": {
              "outlinewidth": 0,
              "ticks": ""
             }
            }
           }
          ],
          "scatterpolar": [
           {
            "type": "scatterpolar",
            "marker": {
             "colorbar": {
              "outlinewidth": 0,
              "ticks": ""
             }
            }
           }
          ],
          "histogram": [
           {
            "marker": {
             "pattern": {
              "fillmode": "overlay",
              "size": 10,
              "solidity": 0.2
             }
            },
            "type": "histogram"
           }
          ],
          "scattergl": [
           {
            "type": "scattergl",
            "marker": {
             "colorbar": {
              "outlinewidth": 0,
              "ticks": ""
             }
            }
           }
          ],
          "scatter3d": [
           {
            "type": "scatter3d",
            "line": {
             "colorbar": {
              "outlinewidth": 0,
              "ticks": ""
             }
            },
            "marker": {
             "colorbar": {
              "outlinewidth": 0,
              "ticks": ""
             }
            }
           }
          ],
          "scattermapbox": [
           {
            "type": "scattermapbox",
            "marker": {
             "colorbar": {
              "outlinewidth": 0,
              "ticks": ""
             }
            }
           }
          ],
          "scatterternary": [
           {
            "type": "scatterternary",
            "marker": {
             "colorbar": {
              "outlinewidth": 0,
              "ticks": ""
             }
            }
           }
          ],
          "scattercarpet": [
           {
            "type": "scattercarpet",
            "marker": {
             "colorbar": {
              "outlinewidth": 0,
              "ticks": ""
             }
            }
           }
          ],
          "carpet": [
           {
            "aaxis": {
             "endlinecolor": "#2a3f5f",
             "gridcolor": "white",
             "linecolor": "white",
             "minorgridcolor": "white",
             "startlinecolor": "#2a3f5f"
            },
            "baxis": {
             "endlinecolor": "#2a3f5f",
             "gridcolor": "white",
             "linecolor": "white",
             "minorgridcolor": "white",
             "startlinecolor": "#2a3f5f"
            },
            "type": "carpet"
           }
          ],
          "table": [
           {
            "cells": {
             "fill": {
              "color": "#EBF0F8"
             },
             "line": {
              "color": "white"
             }
            },
            "header": {
             "fill": {
              "color": "#C8D4E3"
             },
             "line": {
              "color": "white"
             }
            },
            "type": "table"
           }
          ],
          "barpolar": [
           {
            "marker": {
             "line": {
              "color": "#E5ECF6",
              "width": 0.5
             },
             "pattern": {
              "fillmode": "overlay",
              "size": 10,
              "solidity": 0.2
             }
            },
            "type": "barpolar"
           }
          ],
          "pie": [
           {
            "automargin": true,
            "type": "pie"
           }
          ]
         },
         "layout": {
          "autotypenumbers": "strict",
          "colorway": [
           "#636efa",
           "#EF553B",
           "#00cc96",
           "#ab63fa",
           "#FFA15A",
           "#19d3f3",
           "#FF6692",
           "#B6E880",
           "#FF97FF",
           "#FECB52"
          ],
          "font": {
           "color": "#2a3f5f"
          },
          "hovermode": "closest",
          "hoverlabel": {
           "align": "left"
          },
          "paper_bgcolor": "white",
          "plot_bgcolor": "#E5ECF6",
          "polar": {
           "bgcolor": "#E5ECF6",
           "angularaxis": {
            "gridcolor": "white",
            "linecolor": "white",
            "ticks": ""
           },
           "radialaxis": {
            "gridcolor": "white",
            "linecolor": "white",
            "ticks": ""
           }
          },
          "ternary": {
           "bgcolor": "#E5ECF6",
           "aaxis": {
            "gridcolor": "white",
            "linecolor": "white",
            "ticks": ""
           },
           "baxis": {
            "gridcolor": "white",
            "linecolor": "white",
            "ticks": ""
           },
           "caxis": {
            "gridcolor": "white",
            "linecolor": "white",
            "ticks": ""
           }
          },
          "coloraxis": {
           "colorbar": {
            "outlinewidth": 0,
            "ticks": ""
           }
          },
          "colorscale": {
           "sequential": [
            [
             0.0,
             "#0d0887"
            ],
            [
             0.1111111111111111,
             "#46039f"
            ],
            [
             0.2222222222222222,
             "#7201a8"
            ],
            [
             0.3333333333333333,
             "#9c179e"
            ],
            [
             0.4444444444444444,
             "#bd3786"
            ],
            [
             0.5555555555555556,
             "#d8576b"
            ],
            [
             0.6666666666666666,
             "#ed7953"
            ],
            [
             0.7777777777777778,
             "#fb9f3a"
            ],
            [
             0.8888888888888888,
             "#fdca26"
            ],
            [
             1.0,
             "#f0f921"
            ]
           ],
           "sequentialminus": [
            [
             0.0,
             "#0d0887"
            ],
            [
             0.1111111111111111,
             "#46039f"
            ],
            [
             0.2222222222222222,
             "#7201a8"
            ],
            [
             0.3333333333333333,
             "#9c179e"
            ],
            [
             0.4444444444444444,
             "#bd3786"
            ],
            [
             0.5555555555555556,
             "#d8576b"
            ],
            [
             0.6666666666666666,
             "#ed7953"
            ],
            [
             0.7777777777777778,
             "#fb9f3a"
            ],
            [
             0.8888888888888888,
             "#fdca26"
            ],
            [
             1.0,
             "#f0f921"
            ]
           ],
           "diverging": [
            [
             0,
             "#8e0152"
            ],
            [
             0.1,
             "#c51b7d"
            ],
            [
             0.2,
             "#de77ae"
            ],
            [
             0.3,
             "#f1b6da"
            ],
            [
             0.4,
             "#fde0ef"
            ],
            [
             0.5,
             "#f7f7f7"
            ],
            [
             0.6,
             "#e6f5d0"
            ],
            [
             0.7,
             "#b8e186"
            ],
            [
             0.8,
             "#7fbc41"
            ],
            [
             0.9,
             "#4d9221"
            ],
            [
             1,
             "#276419"
            ]
           ]
          },
          "xaxis": {
           "gridcolor": "white",
           "linecolor": "white",
           "ticks": "",
           "title": {
            "standoff": 15
           },
           "zerolinecolor": "white",
           "automargin": true,
           "zerolinewidth": 2
          },
          "yaxis": {
           "gridcolor": "white",
           "linecolor": "white",
           "ticks": "",
           "title": {
            "standoff": 15
           },
           "zerolinecolor": "white",
           "automargin": true,
           "zerolinewidth": 2
          },
          "scene": {
           "xaxis": {
            "backgroundcolor": "#E5ECF6",
            "gridcolor": "white",
            "linecolor": "white",
            "showbackground": true,
            "ticks": "",
            "zerolinecolor": "white",
            "gridwidth": 2
           },
           "yaxis": {
            "backgroundcolor": "#E5ECF6",
            "gridcolor": "white",
            "linecolor": "white",
            "showbackground": true,
            "ticks": "",
            "zerolinecolor": "white",
            "gridwidth": 2
           },
           "zaxis": {
            "backgroundcolor": "#E5ECF6",
            "gridcolor": "white",
            "linecolor": "white",
            "showbackground": true,
            "ticks": "",
            "zerolinecolor": "white",
            "gridwidth": 2
           }
          },
          "shapedefaults": {
           "line": {
            "color": "#2a3f5f"
           }
          },
          "annotationdefaults": {
           "arrowcolor": "#2a3f5f",
           "arrowhead": 0,
           "arrowwidth": 1
          },
          "geo": {
           "bgcolor": "white",
           "landcolor": "#E5ECF6",
           "subunitcolor": "white",
           "showland": true,
           "showlakes": true,
           "lakecolor": "white"
          },
          "title": {
           "x": 0.05
          },
          "mapbox": {
           "style": "light"
          }
         }
        }
       },
       "config": {
        "plotlyServerURL": "https://plot.ly"
       }
      },
      "text/html": [
       "<div>                            <div id=\"8d0dcad2-c441-4b8b-8722-71ff169e39c4\" class=\"plotly-graph-div\" style=\"height:1200px; width:1000px;\"></div>            <script type=\"text/javascript\">                require([\"plotly\"], function(Plotly) {                    window.PLOTLYENV=window.PLOTLYENV || {};                                    if (document.getElementById(\"8d0dcad2-c441-4b8b-8722-71ff169e39c4\")) {                    Plotly.newPlot(                        \"8d0dcad2-c441-4b8b-8722-71ff169e39c4\",                        [{\"marker\":{\"color\":[1,1,0,0,0,2,0,1,0,0,1,0,0,3,0,0,0,1,0,2,2,0,0,0,2,0,0,0,0,1,1,3,0,2,0,2,1,0,0,0,2,2],\"colorscale\":[[0.0,\"rgb(150,0,90)\"],[0.125,\"rgb(0,0,200)\"],[0.25,\"rgb(0,25,255)\"],[0.375,\"rgb(0,152,255)\"],[0.5,\"rgb(44,255,150)\"],[0.625,\"rgb(151,255,0)\"],[0.75,\"rgb(255,234,0)\"],[0.875,\"rgb(255,111,0)\"],[1.0,\"rgb(255,0,0)\"]],\"size\":[14.25054515394372,13.809351990362124,12.308368619122605,14.326847114522755,9.728890522903304,13.045256509331496,9.841064888736122,14.066137092121087,8.57837894410528,10.099699458761814,18.424416939334307,11.734304696157945,15.038045593152782,26.611228423353325,13.428030856767117,12.03617411162693,15.30996455498327,13.032049343281361,15.80245550868655,11.168084159689617,13.434208400254036,11.995289935353354,14.38489058507484,13.296333495064253,21.890361619621814,11.196678539709424,10.903622689685351,11.223976781882609,10.687845428271023,13.510725630309762,15.923184850117797,20.574778578931483,11.041542161899512,15.046508988205005,13.076357445558369,13.10721981934764,10.01021694868762,13.082360197340574,16.4522643636337,11.879424990880858,15.544944910420869,13.696802355537503],\"symbol\":\"circle\"},\"mode\":\"markers+text\",\"text\":[\"ARTS\",\"ARTS & CULTURE\",\"BLACK VOICES\",\"BUSINESS\",\"COLLEGE\",\"COMEDY\",\"CRIME\",\"CULTURE & ARTS\",\"DIVORCE\",\"EDUCATION\",\"ENTERTAINMENT\",\"ENVIRONMENT\",\"FIFTY\",\"FOOD & DRINK\",\"GOOD NEWS\",\"GREEN\",\"HEALTHY LIVING\",\"HOME & LIVING\",\"IMPACT\",\"LATINO VOICES\",\"MEDIA\",\"MONEY\",\"PARENTING\",\"PARENTS\",\"POLITICS\",\"QUEER VOICES\",\"RELIGION\",\"SCIENCE\",\"SPORTS\",\"STYLE\",\"STYLE & BEAUTY\",\"TASTE\",\"TECH\",\"THE WORLDPOST\",\"TRAVEL\",\"U.S. NEWS\",\"WEDDINGS\",\"WEIRD NEWS\",\"WELLNESS\",\"WOMEN\",\"WORLD NEWS\",\"WORLDPOST\"],\"textposition\":\"top center\",\"x\":[61.72544860839844,-49.53342819213867,-21.620695114135742,8.725614547729492,-49.80487823486328,-23.827280044555664,-67.1734619140625,12.261228561401367,130.98362731933594,79.36148071289062,116.07036590576172,84.84814453125,-15.902754783630371,-122.91083526611328,-102.03998565673828,130.6554718017578,-1.3327580690383911,83.09930419921875,21.214399337768555,-87.0833969116211,61.77947235107422,59.508934020996094,8.986236572265625,-84.00897979736328,-127.25482940673828,1.818231225013733,15.38183307647705,51.271270751953125,-26.713062286376953,-85.87396240234375,-62.7916145324707,-144.06932067871094,-79.67874908447266,49.40025329589844,29.110746383666992,-40.75907516479492,86.97692108154297,-31.67025375366211,52.69866943359375,123.61328125,7.314555644989014,-8.06032657623291],\"y\":[1.3981692790985107,7.2646613121032715,7.631618022918701,138.5550537109375,-60.295467376708984,-8.198566436767578,-68.20075988769531,-30.374618530273438,-21.999374389648438,44.65574264526367,58.30368423461914,-49.621402740478516,-33.810157775878906,-68.75194549560547,71.37551879882812,-21.53309440612793,68.54154968261719,-97.85778045654297,-82.17330932617188,45.611270904541016,94.05794525146484,-21.99071502685547,-104.0262222290039,34.96389389038086,-7.436579704284668,73.81544494628906,-95.66517639160156,14.056495666503906,4.144829750061035,-39.625572204589844,117.83727264404297,-21.40593719482422,-115.52527618408203,34.75122833251953,-48.99644470214844,114.93253326416016,-117.7201156616211,-117.02385711669922,100.42747497558594,59.19437026977539,73.31388854980469,46.09578323364258],\"z\":[69.16352844238281,72.35121154785156,141.75094604492188,-1.7715805768966675,-88.05532836914062,-140.94314575195312,98.11611938476562,75.42523956298828,-66.51422882080078,130.23583984375,-73.07941436767578,1.935314655303955,7.452331066131592,-78.3454818725586,39.67176055908203,25.552064895629883,-34.64105987548828,58.26144027709961,-93.20003509521484,-101.69951629638672,40.4943733215332,-117.04304504394531,22.730928421020508,-18.668020248413086,63.35067367553711,-120.7353515625,114.66537475585938,-4.348320484161377,-56.99587631225586,1.4873461723327637,-53.1051139831543,-49.7628173828125,23.875308990478516,-73.4340591430664,-37.01279067993164,55.81730651855469,-44.62989044189453,-39.575889587402344,-42.98477554321289,9.898113250732422,92.22615051269531,30.45265769958496],\"type\":\"scatter3d\"}],                        {\"height\":1200,\"scene\":{\"xaxis\":{\"gridcolor\":\"#ddd\",\"showbackground\":false,\"showgrid\":true,\"title\":{\"text\":\"t-SNE Dimension 1\"},\"zerolinecolor\":\"black\"},\"yaxis\":{\"gridcolor\":\"#ddd\",\"showbackground\":false,\"showgrid\":true,\"title\":{\"text\":\"t-SNE Dimension 2\"},\"zerolinecolor\":\"black\"},\"zaxis\":{\"gridcolor\":\"#ddd\",\"showbackground\":false,\"showgrid\":true,\"title\":{\"text\":\"t-SNE Dimension 3\"},\"zerolinecolor\":\"black\"}},\"title\":{\"text\":\"K-Means Clustering Visualization with t-SNE\"},\"width\":1000,\"template\":{\"data\":{\"histogram2dcontour\":[{\"type\":\"histogram2dcontour\",\"colorbar\":{\"outlinewidth\":0,\"ticks\":\"\"},\"colorscale\":[[0.0,\"#0d0887\"],[0.1111111111111111,\"#46039f\"],[0.2222222222222222,\"#7201a8\"],[0.3333333333333333,\"#9c179e\"],[0.4444444444444444,\"#bd3786\"],[0.5555555555555556,\"#d8576b\"],[0.6666666666666666,\"#ed7953\"],[0.7777777777777778,\"#fb9f3a\"],[0.8888888888888888,\"#fdca26\"],[1.0,\"#f0f921\"]]}],\"choropleth\":[{\"type\":\"choropleth\",\"colorbar\":{\"outlinewidth\":0,\"ticks\":\"\"}}],\"histogram2d\":[{\"type\":\"histogram2d\",\"colorbar\":{\"outlinewidth\":0,\"ticks\":\"\"},\"colorscale\":[[0.0,\"#0d0887\"],[0.1111111111111111,\"#46039f\"],[0.2222222222222222,\"#7201a8\"],[0.3333333333333333,\"#9c179e\"],[0.4444444444444444,\"#bd3786\"],[0.5555555555555556,\"#d8576b\"],[0.6666666666666666,\"#ed7953\"],[0.7777777777777778,\"#fb9f3a\"],[0.8888888888888888,\"#fdca26\"],[1.0,\"#f0f921\"]]}],\"heatmap\":[{\"type\":\"heatmap\",\"colorbar\":{\"outlinewidth\":0,\"ticks\":\"\"},\"colorscale\":[[0.0,\"#0d0887\"],[0.1111111111111111,\"#46039f\"],[0.2222222222222222,\"#7201a8\"],[0.3333333333333333,\"#9c179e\"],[0.4444444444444444,\"#bd3786\"],[0.5555555555555556,\"#d8576b\"],[0.6666666666666666,\"#ed7953\"],[0.7777777777777778,\"#fb9f3a\"],[0.8888888888888888,\"#fdca26\"],[1.0,\"#f0f921\"]]}],\"heatmapgl\":[{\"type\":\"heatmapgl\",\"colorbar\":{\"outlinewidth\":0,\"ticks\":\"\"},\"colorscale\":[[0.0,\"#0d0887\"],[0.1111111111111111,\"#46039f\"],[0.2222222222222222,\"#7201a8\"],[0.3333333333333333,\"#9c179e\"],[0.4444444444444444,\"#bd3786\"],[0.5555555555555556,\"#d8576b\"],[0.6666666666666666,\"#ed7953\"],[0.7777777777777778,\"#fb9f3a\"],[0.8888888888888888,\"#fdca26\"],[1.0,\"#f0f921\"]]}],\"contourcarpet\":[{\"type\":\"contourcarpet\",\"colorbar\":{\"outlinewidth\":0,\"ticks\":\"\"}}],\"contour\":[{\"type\":\"contour\",\"colorbar\":{\"outlinewidth\":0,\"ticks\":\"\"},\"colorscale\":[[0.0,\"#0d0887\"],[0.1111111111111111,\"#46039f\"],[0.2222222222222222,\"#7201a8\"],[0.3333333333333333,\"#9c179e\"],[0.4444444444444444,\"#bd3786\"],[0.5555555555555556,\"#d8576b\"],[0.6666666666666666,\"#ed7953\"],[0.7777777777777778,\"#fb9f3a\"],[0.8888888888888888,\"#fdca26\"],[1.0,\"#f0f921\"]]}],\"surface\":[{\"type\":\"surface\",\"colorbar\":{\"outlinewidth\":0,\"ticks\":\"\"},\"colorscale\":[[0.0,\"#0d0887\"],[0.1111111111111111,\"#46039f\"],[0.2222222222222222,\"#7201a8\"],[0.3333333333333333,\"#9c179e\"],[0.4444444444444444,\"#bd3786\"],[0.5555555555555556,\"#d8576b\"],[0.6666666666666666,\"#ed7953\"],[0.7777777777777778,\"#fb9f3a\"],[0.8888888888888888,\"#fdca26\"],[1.0,\"#f0f921\"]]}],\"mesh3d\":[{\"type\":\"mesh3d\",\"colorbar\":{\"outlinewidth\":0,\"ticks\":\"\"}}],\"scatter\":[{\"fillpattern\":{\"fillmode\":\"overlay\",\"size\":10,\"solidity\":0.2},\"type\":\"scatter\"}],\"parcoords\":[{\"type\":\"parcoords\",\"line\":{\"colorbar\":{\"outlinewidth\":0,\"ticks\":\"\"}}}],\"scatterpolargl\":[{\"type\":\"scatterpolargl\",\"marker\":{\"colorbar\":{\"outlinewidth\":0,\"ticks\":\"\"}}}],\"bar\":[{\"error_x\":{\"color\":\"#2a3f5f\"},\"error_y\":{\"color\":\"#2a3f5f\"},\"marker\":{\"line\":{\"color\":\"#E5ECF6\",\"width\":0.5},\"pattern\":{\"fillmode\":\"overlay\",\"size\":10,\"solidity\":0.2}},\"type\":\"bar\"}],\"scattergeo\":[{\"type\":\"scattergeo\",\"marker\":{\"colorbar\":{\"outlinewidth\":0,\"ticks\":\"\"}}}],\"scatterpolar\":[{\"type\":\"scatterpolar\",\"marker\":{\"colorbar\":{\"outlinewidth\":0,\"ticks\":\"\"}}}],\"histogram\":[{\"marker\":{\"pattern\":{\"fillmode\":\"overlay\",\"size\":10,\"solidity\":0.2}},\"type\":\"histogram\"}],\"scattergl\":[{\"type\":\"scattergl\",\"marker\":{\"colorbar\":{\"outlinewidth\":0,\"ticks\":\"\"}}}],\"scatter3d\":[{\"type\":\"scatter3d\",\"line\":{\"colorbar\":{\"outlinewidth\":0,\"ticks\":\"\"}},\"marker\":{\"colorbar\":{\"outlinewidth\":0,\"ticks\":\"\"}}}],\"scattermapbox\":[{\"type\":\"scattermapbox\",\"marker\":{\"colorbar\":{\"outlinewidth\":0,\"ticks\":\"\"}}}],\"scatterternary\":[{\"type\":\"scatterternary\",\"marker\":{\"colorbar\":{\"outlinewidth\":0,\"ticks\":\"\"}}}],\"scattercarpet\":[{\"type\":\"scattercarpet\",\"marker\":{\"colorbar\":{\"outlinewidth\":0,\"ticks\":\"\"}}}],\"carpet\":[{\"aaxis\":{\"endlinecolor\":\"#2a3f5f\",\"gridcolor\":\"white\",\"linecolor\":\"white\",\"minorgridcolor\":\"white\",\"startlinecolor\":\"#2a3f5f\"},\"baxis\":{\"endlinecolor\":\"#2a3f5f\",\"gridcolor\":\"white\",\"linecolor\":\"white\",\"minorgridcolor\":\"white\",\"startlinecolor\":\"#2a3f5f\"},\"type\":\"carpet\"}],\"table\":[{\"cells\":{\"fill\":{\"color\":\"#EBF0F8\"},\"line\":{\"color\":\"white\"}},\"header\":{\"fill\":{\"color\":\"#C8D4E3\"},\"line\":{\"color\":\"white\"}},\"type\":\"table\"}],\"barpolar\":[{\"marker\":{\"line\":{\"color\":\"#E5ECF6\",\"width\":0.5},\"pattern\":{\"fillmode\":\"overlay\",\"size\":10,\"solidity\":0.2}},\"type\":\"barpolar\"}],\"pie\":[{\"automargin\":true,\"type\":\"pie\"}]},\"layout\":{\"autotypenumbers\":\"strict\",\"colorway\":[\"#636efa\",\"#EF553B\",\"#00cc96\",\"#ab63fa\",\"#FFA15A\",\"#19d3f3\",\"#FF6692\",\"#B6E880\",\"#FF97FF\",\"#FECB52\"],\"font\":{\"color\":\"#2a3f5f\"},\"hovermode\":\"closest\",\"hoverlabel\":{\"align\":\"left\"},\"paper_bgcolor\":\"white\",\"plot_bgcolor\":\"#E5ECF6\",\"polar\":{\"bgcolor\":\"#E5ECF6\",\"angularaxis\":{\"gridcolor\":\"white\",\"linecolor\":\"white\",\"ticks\":\"\"},\"radialaxis\":{\"gridcolor\":\"white\",\"linecolor\":\"white\",\"ticks\":\"\"}},\"ternary\":{\"bgcolor\":\"#E5ECF6\",\"aaxis\":{\"gridcolor\":\"white\",\"linecolor\":\"white\",\"ticks\":\"\"},\"baxis\":{\"gridcolor\":\"white\",\"linecolor\":\"white\",\"ticks\":\"\"},\"caxis\":{\"gridcolor\":\"white\",\"linecolor\":\"white\",\"ticks\":\"\"}},\"coloraxis\":{\"colorbar\":{\"outlinewidth\":0,\"ticks\":\"\"}},\"colorscale\":{\"sequential\":[[0.0,\"#0d0887\"],[0.1111111111111111,\"#46039f\"],[0.2222222222222222,\"#7201a8\"],[0.3333333333333333,\"#9c179e\"],[0.4444444444444444,\"#bd3786\"],[0.5555555555555556,\"#d8576b\"],[0.6666666666666666,\"#ed7953\"],[0.7777777777777778,\"#fb9f3a\"],[0.8888888888888888,\"#fdca26\"],[1.0,\"#f0f921\"]],\"sequentialminus\":[[0.0,\"#0d0887\"],[0.1111111111111111,\"#46039f\"],[0.2222222222222222,\"#7201a8\"],[0.3333333333333333,\"#9c179e\"],[0.4444444444444444,\"#bd3786\"],[0.5555555555555556,\"#d8576b\"],[0.6666666666666666,\"#ed7953\"],[0.7777777777777778,\"#fb9f3a\"],[0.8888888888888888,\"#fdca26\"],[1.0,\"#f0f921\"]],\"diverging\":[[0,\"#8e0152\"],[0.1,\"#c51b7d\"],[0.2,\"#de77ae\"],[0.3,\"#f1b6da\"],[0.4,\"#fde0ef\"],[0.5,\"#f7f7f7\"],[0.6,\"#e6f5d0\"],[0.7,\"#b8e186\"],[0.8,\"#7fbc41\"],[0.9,\"#4d9221\"],[1,\"#276419\"]]},\"xaxis\":{\"gridcolor\":\"white\",\"linecolor\":\"white\",\"ticks\":\"\",\"title\":{\"standoff\":15},\"zerolinecolor\":\"white\",\"automargin\":true,\"zerolinewidth\":2},\"yaxis\":{\"gridcolor\":\"white\",\"linecolor\":\"white\",\"ticks\":\"\",\"title\":{\"standoff\":15},\"zerolinecolor\":\"white\",\"automargin\":true,\"zerolinewidth\":2},\"scene\":{\"xaxis\":{\"backgroundcolor\":\"#E5ECF6\",\"gridcolor\":\"white\",\"linecolor\":\"white\",\"showbackground\":true,\"ticks\":\"\",\"zerolinecolor\":\"white\",\"gridwidth\":2},\"yaxis\":{\"backgroundcolor\":\"#E5ECF6\",\"gridcolor\":\"white\",\"linecolor\":\"white\",\"showbackground\":true,\"ticks\":\"\",\"zerolinecolor\":\"white\",\"gridwidth\":2},\"zaxis\":{\"backgroundcolor\":\"#E5ECF6\",\"gridcolor\":\"white\",\"linecolor\":\"white\",\"showbackground\":true,\"ticks\":\"\",\"zerolinecolor\":\"white\",\"gridwidth\":2}},\"shapedefaults\":{\"line\":{\"color\":\"#2a3f5f\"}},\"annotationdefaults\":{\"arrowcolor\":\"#2a3f5f\",\"arrowhead\":0,\"arrowwidth\":1},\"geo\":{\"bgcolor\":\"white\",\"landcolor\":\"#E5ECF6\",\"subunitcolor\":\"white\",\"showland\":true,\"showlakes\":true,\"lakecolor\":\"white\"},\"title\":{\"x\":0.05},\"mapbox\":{\"style\":\"light\"}}}},                        {\"responsive\": true}                    ).then(function(){\n",
       "                            \n",
       "var gd = document.getElementById('8d0dcad2-c441-4b8b-8722-71ff169e39c4');\n",
       "var x = new MutationObserver(function (mutations, observer) {{\n",
       "        var display = window.getComputedStyle(gd).display;\n",
       "        if (!display || display === 'none') {{\n",
       "            console.log([gd, 'removed!']);\n",
       "            Plotly.purge(gd);\n",
       "            observer.disconnect();\n",
       "        }}\n",
       "}});\n",
       "\n",
       "// Listen for the removal of the full notebook cells\n",
       "var notebookContainer = gd.closest('#notebook-container');\n",
       "if (notebookContainer) {{\n",
       "    x.observe(notebookContainer, {childList: true});\n",
       "}}\n",
       "\n",
       "// Listen for the clearing of the current output cell\n",
       "var outputEl = gd.closest('.output');\n",
       "if (outputEl) {{\n",
       "    x.observe(outputEl, {childList: true});\n",
       "}}\n",
       "\n",
       "                        })                };                });            </script>        </div>"
      ]
     },
     "metadata": {},
     "output_type": "display_data"
    }
   ],
   "execution_count": 1475
  },
  {
   "cell_type": "code",
   "id": "fd657a1e2bc8e839",
   "metadata": {
    "ExecuteTime": {
     "end_time": "2025-01-26T06:33:06.069550Z",
     "start_time": "2025-01-26T06:33:06.021391Z"
    }
   },
   "source": [
    "def map_to_cluster(category):\n",
    "    sub_cat_idx = articles_by_category[articles_by_category['category'] == category].index[0]\n",
    "    cluster_idx = kmeans_results.labels_[sub_cat_idx]\n",
    "    return dominant_categories[cluster_idx]\n",
    "\n",
    "y_train['cluster_category'] = y_train['category'].map(map_to_cluster).astype(str)\n",
    "y_test['cluster_category'] = y_test['category'].map(map_to_cluster).astype(str)"
   ],
   "outputs": [],
   "execution_count": 1476
  },
  {
   "cell_type": "code",
   "id": "dadfe3e0",
   "metadata": {
    "papermill": {
     "duration": 3.105991,
     "end_time": "2025-01-22T12:58:06.799604",
     "exception": false,
     "start_time": "2025-01-22T12:58:03.693613",
     "status": "completed"
    },
    "tags": [],
    "ExecuteTime": {
     "end_time": "2025-01-26T06:33:55.890292Z",
     "start_time": "2025-01-26T06:33:08.490190Z"
    }
   },
   "source": [
    "%%capture\n",
    "from sklearn.naive_bayes import MultinomialNB\n",
    "from sklearn.pipeline import make_pipeline\n",
    "\n",
    "model = make_pipeline(vectorizer, MultinomialNB())\n",
    "\n",
    "model.fit(x_train, y_train['cluster_category'])"
   ],
   "outputs": [],
   "execution_count": 1477
  },
  {
   "cell_type": "code",
   "id": "a8b407cf",
   "metadata": {
    "papermill": {
     "duration": 0.54464,
     "end_time": "2025-01-22T12:58:07.347847",
     "exception": false,
     "start_time": "2025-01-22T12:58:06.803207",
     "status": "completed"
    },
    "tags": [],
    "ExecuteTime": {
     "end_time": "2025-01-26T06:34:07.640614Z",
     "start_time": "2025-01-26T06:33:55.895098Z"
    }
   },
   "source": [
    "labels = model.predict(x_test)"
   ],
   "outputs": [],
   "execution_count": 1478
  },
  {
   "cell_type": "code",
   "id": "f7470f45",
   "metadata": {
    "papermill": {
     "duration": 0.338471,
     "end_time": "2025-01-22T12:58:07.712682",
     "exception": false,
     "start_time": "2025-01-22T12:58:07.374211",
     "status": "completed"
    },
    "tags": [],
    "ExecuteTime": {
     "end_time": "2025-01-26T06:34:08.256470Z",
     "start_time": "2025-01-26T06:34:07.703589Z"
    }
   },
   "source": [
    "from sklearn.metrics import confusion_matrix, f1_score, classification_report\n",
    "\n",
    "category_names = pd.unique(y_train['cluster_category'])\n",
    "print(classification_report(y_test['cluster_category'], labels, target_names=dominant_categories))\n",
    "mat = confusion_matrix(y_test['cluster_category'], labels, labels=dominant_categories)\n",
    "f1_score_result = f1_score(y_test['cluster_category'], labels, average='micro')"
   ],
   "outputs": [
    {
     "name": "stdout",
     "output_type": "stream",
     "text": [
      "                                       precision    recall  f1-score   support\n",
      "\n",
      "ENTERTAINMENT - STYLE & BEAUTY - ARTS       0.76      0.89      0.82     20752\n",
      "   WELLNESS - IMPACT - HEALTHY LIVING       0.86      0.51      0.64      1687\n",
      "POLITICS - WORLD NEWS - THE WORLDPOST       0.83      0.75      0.78     11200\n",
      "                 FOOD & DRINK - TASTE       0.80      0.65      0.72      8267\n",
      "\n",
      "                             accuracy                           0.79     41906\n",
      "                            macro avg       0.81      0.70      0.74     41906\n",
      "                         weighted avg       0.79      0.79      0.78     41906\n",
      "\n"
     ]
    }
   ],
   "execution_count": 1479
  },
  {
   "cell_type": "code",
   "id": "5fbb9ab2",
   "metadata": {
    "papermill": {
     "duration": 5.071959,
     "end_time": "2025-01-22T12:58:12.788542",
     "exception": false,
     "start_time": "2025-01-22T12:58:07.716583",
     "status": "completed"
    },
    "tags": [],
    "ExecuteTime": {
     "end_time": "2025-01-26T06:34:08.483074Z",
     "start_time": "2025-01-26T06:34:08.350471Z"
    }
   },
   "source": [
    "import matplotlib.pyplot as plt\n",
    "import seaborn as sns\n",
    "import numpy as np\n",
    "\n",
    "np.set_printoptions(threshold=1000)\n",
    "\n",
    "print('Overall F1 Score: {:.2%}'.format(f1_score_result))\n",
    "\n",
    "plt.rcParams.update({'font.size': 8, 'figure.figsize': [6, 6]})\n",
    "sns.set_theme(font_scale=0.8)\n",
    "sns.heatmap(mat.T, square=True, annot=True, fmt='d', cbar=False, xticklabels=dominant_categories, yticklabels=dominant_categories)\n",
    "plt.xlabel('true label')\n",
    "plt.ylabel('predicted label')\n",
    "\n",
    "plt.show()"
   ],
   "outputs": [
    {
     "name": "stdout",
     "output_type": "stream",
     "text": [
      "Overall F1 Score: 78.63%\n"
     ]
    },
    {
     "data": {
      "text/plain": [
       "<Figure size 600x600 with 1 Axes>"
      ],
      "image/png": "[encoded data removed]"
     },
     "metadata": {},
     "output_type": "display_data"
    }
   ],
   "execution_count": 1480
  },
  {
   "cell_type": "code",
   "id": "f283d0707be1f62a",
   "metadata": {
    "ExecuteTime": {
     "end_time": "2025-01-26T06:36:42.451010Z",
     "start_time": "2025-01-26T06:36:39.549423Z"
    }
   },
   "source": [
    "headline = input('Enter a headline')\n",
    "pred = model.predict([headline])\n",
    "print('The headline \"' + headline + '\" is in the category ' + pred[0])"
   ],
   "outputs": [
    {
     "name": "stdout",
     "output_type": "stream",
     "text": [
      "The headline \"Chef Gordon Teaches about Cooking\" is in the category FOOD & DRINK - TASTE\n"
     ]
    }
   ],
   "execution_count": 1487
  }
 ],
 "metadata": {
  "kaggle": {
   "accelerator": "none",
   "dataSources": [
    {
     "datasetId": 1550907,
     "sourceId": 2556316,
     "sourceType": "datasetVersion"
    },
    {
     "datasetId": 32526,
     "sourceId": 4243451,
     "sourceType": "datasetVersion"
    }
   ],
   "dockerImageVersionId": 30839,
   "isGpuEnabled": false,
   "isInternetEnabled": true,
   "language": "python",
   "sourceType": "notebook"
  },
  "kernelspec": {
   "display_name": "Python 3 (ipykernel)",
   "language": "python",
   "name": "python3"
  },
  "language_info": {
   "codemirror_mode": {
    "name": "ipython",
    "version": 3
   },
   "file_extension": ".py",
   "mimetype": "text/x-python",
   "name": "python",
   "nbconvert_exporter": "python",
   "pygments_lexer": "ipython3",
   "version": "3.13.0"
  },
  "papermill": {
   "default_parameters": {},
   "duration": 18.520466,
   "end_time": "2025-01-22T12:58:13.920573",
   "environment_variables": {},
   "exception": null,
   "input_path": "__notebook__.ipynb",
   "output_path": "__notebook__.ipynb",
   "parameters": {},
   "start_time": "2025-01-22T12:57:55.400107",
   "version": "2.6.0"
  }
 },
 "nbformat": 4,
 "nbformat_minor": 5
}
