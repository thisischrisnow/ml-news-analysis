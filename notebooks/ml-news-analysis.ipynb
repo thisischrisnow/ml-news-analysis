{
 "cells": [
  {
   "metadata": {},
   "cell_type": "markdown",
   "source": "## Setup",
   "id": "ae7cca8d3174b8d6"
  },
  {
   "cell_type": "code",
   "id": "8845fe4a",
   "metadata": {
    "execution": {
     "iopub.execute_input": "2025-01-22T12:57:58.081101Z",
     "iopub.status.busy": "2025-01-22T12:57:58.080712Z",
     "iopub.status.idle": "2025-01-22T12:57:58.994167Z",
     "shell.execute_reply": "2025-01-22T12:57:58.993341Z"
    },
    "papermill": {
     "duration": 0.919199,
     "end_time": "2025-01-22T12:57:58.995884",
     "exception": false,
     "start_time": "2025-01-22T12:57:58.076685",
     "status": "completed"
    },
    "tags": [],
    "ExecuteTime": {
     "end_time": "2025-01-24T17:56:01.714045Z",
     "start_time": "2025-01-24T17:56:01.709800Z"
    }
   },
   "source": [
    "import pandas as pd\n",
    "from nltk import word_tokenize\n",
    "from sklearn.naive_bayes import MultinomialNB"
   ],
   "outputs": [],
   "execution_count": 1263
  },
  {
   "cell_type": "code",
   "id": "83c85909",
   "metadata": {
    "execution": {
     "iopub.execute_input": "2025-01-22T12:57:59.003212Z",
     "iopub.status.busy": "2025-01-22T12:57:59.002739Z",
     "iopub.status.idle": "2025-01-22T12:58:02.072310Z",
     "shell.execute_reply": "2025-01-22T12:58:02.070655Z"
    },
    "papermill": {
     "duration": 3.075414,
     "end_time": "2025-01-22T12:58:02.074470",
     "exception": false,
     "start_time": "2025-01-22T12:57:58.999056",
     "status": "completed"
    },
    "tags": [],
    "ExecuteTime": {
     "end_time": "2025-01-24T17:56:03.071254Z",
     "start_time": "2025-01-24T17:56:01.733066Z"
    }
   },
   "source": [
    "df = pd.read_json('../input/news-category-dataset/News_Category_Dataset_v3.json', lines=True)"
   ],
   "outputs": [],
   "execution_count": 1264
  },
  {
   "cell_type": "code",
   "id": "af4e856c",
   "metadata": {
    "execution": {
     "iopub.execute_input": "2025-01-22T12:58:02.119416Z",
     "iopub.status.busy": "2025-01-22T12:58:02.119100Z",
     "iopub.status.idle": "2025-01-22T12:58:02.164882Z",
     "shell.execute_reply": "2025-01-22T12:58:02.164008Z"
    },
    "papermill": {
     "duration": 0.051793,
     "end_time": "2025-01-22T12:58:02.166814",
     "exception": false,
     "start_time": "2025-01-22T12:58:02.115021",
     "status": "completed"
    },
    "tags": [],
    "ExecuteTime": {
     "end_time": "2025-01-24T17:56:03.180689Z",
     "start_time": "2025-01-24T17:56:03.133409Z"
    }
   },
   "source": [
    "df['category'] = df['category'].astype('category')"
   ],
   "outputs": [],
   "execution_count": 1265
  },
  {
   "metadata": {
    "execution": {
     "iopub.execute_input": "2025-01-22T12:58:02.175023Z",
     "iopub.status.busy": "2025-01-22T12:58:02.174613Z",
     "iopub.status.idle": "2025-01-22T12:58:03.688051Z",
     "shell.execute_reply": "2025-01-22T12:58:03.686930Z"
    },
    "papermill": {
     "duration": 1.519624,
     "end_time": "2025-01-22T12:58:03.689986",
     "exception": false,
     "start_time": "2025-01-22T12:58:02.170362",
     "status": "completed"
    },
    "tags": [],
    "ExecuteTime": {
     "end_time": "2025-01-24T17:56:03.554062Z",
     "start_time": "2025-01-24T17:56:03.234990Z"
    }
   },
   "cell_type": "code",
   "source": [
    "from sklearn.model_selection import train_test_split\n",
    "\n",
    "x = df['headline'] + ' ' + df['short_description']\n",
    "y = df\n",
    "\n",
    "x_train, x_test, y_train, y_test = train_test_split(x, y, test_size=0.2, stratify=y['category'], random_state=5)"
   ],
   "id": "fe6d9d4b",
   "outputs": [],
   "execution_count": 1266
  },
  {
   "metadata": {
    "ExecuteTime": {
     "end_time": "2025-01-24T17:56:03.713751Z",
     "start_time": "2025-01-24T17:56:03.608467Z"
    }
   },
   "cell_type": "code",
   "source": "articles_by_category = x_train.groupby(y_train['category'], observed=True).apply(lambda x: ' '.join(x.astype(str))).reset_index(name='all_articles')",
   "id": "c78c41e472498550",
   "outputs": [],
   "execution_count": 1267
  },
  {
   "metadata": {},
   "cell_type": "markdown",
   "source": "## Feature Extraction",
   "id": "6cf6f5c20d7187d0"
  },
  {
   "metadata": {
    "ExecuteTime": {
     "end_time": "2025-01-24T17:56:04.226059Z",
     "start_time": "2025-01-24T17:56:03.771283Z"
    }
   },
   "cell_type": "code",
   "source": [
    "from sklearn.feature_extraction.text import TfidfVectorizer\n",
    "import nltk\n",
    "from nltk.tokenize import word_tokenize\n",
    "from nltk.stem import WordNetLemmatizer\n",
    "from nltk.corpus import stopwords\n",
    "import re\n",
    "\n",
    "nltk.download('wordnet', quiet=True)\n",
    "nltk.download('stopwords', quiet=True)\n",
    "nltk.download('punkt', quiet=True)\n",
    "\n",
    "lemmatizer = WordNetLemmatizer()\n",
    "stopwords_list = stopwords.words('english') + ['want', 'say', 'way', 'need', 'said', 'get', 'like', 'could', 'thing']\n",
    "\n",
    "def tokenizer(text):\n",
    "    tokens = [re.sub(r'[^A-Za-z0-9]', '', t).strip() for t in word_tokenize(text.lower())]\n",
    "    return [lemmatizer.lemmatize(token) for token in tokens if token not in stopwords_list and len(token) > 2]\n",
    "\n",
    "vectorizer = TfidfVectorizer(tokenizer=tokenizer, max_features=15000, token_pattern=None)"
   ],
   "id": "1dfd39a95d63f244",
   "outputs": [],
   "execution_count": 1268
  },
  {
   "metadata": {
    "ExecuteTime": {
     "end_time": "2025-01-24T17:56:46.525074Z",
     "start_time": "2025-01-24T17:56:04.288144Z"
    }
   },
   "cell_type": "code",
   "source": "tfidf_sub_matrix = vectorizer.fit_transform(articles_by_category['all_articles'])",
   "id": "464057fe3a8a14a3",
   "outputs": [],
   "execution_count": 1269
  },
  {
   "metadata": {
    "ExecuteTime": {
     "end_time": "2025-01-24T17:56:46.658259Z",
     "start_time": "2025-01-24T17:56:46.578822Z"
    }
   },
   "cell_type": "code",
   "source": [
    "from sklearn.cluster import KMeans\n",
    "\n",
    "kmeans = KMeans(n_clusters=4, random_state=4, max_iter=10000, init='random')\n",
    "kmeans_results = kmeans.fit(tfidf_sub_matrix)"
   ],
   "id": "1f89e360a98a4800",
   "outputs": [],
   "execution_count": 1270
  },
  {
   "metadata": {
    "ExecuteTime": {
     "end_time": "2025-01-24T17:56:46.948596Z",
     "start_time": "2025-01-24T17:56:46.729665Z"
    }
   },
   "cell_type": "code",
   "source": [
    "from sklearn.manifold import TSNE\n",
    "\n",
    "tsne = TSNE(n_components=3, init='random', random_state=5)\n",
    "reduced_data = tsne.fit_transform(tfidf_sub_matrix)"
   ],
   "id": "70f02b8f5994f4f0",
   "outputs": [],
   "execution_count": 1271
  },
  {
   "metadata": {
    "ExecuteTime": {
     "end_time": "2025-01-24T17:56:47.072943Z",
     "start_time": "2025-01-24T17:56:47.012836Z"
    }
   },
   "cell_type": "code",
   "source": [
    "import numpy as np\n",
    "from collections import defaultdict\n",
    "from sklearn.metrics.pairwise import cosine_similarity\n",
    "\n",
    "category_names = articles_by_category['category']\n",
    "\n",
    "cluster_categories = defaultdict(list)\n",
    "for i, label in enumerate(kmeans_results.labels_):\n",
    "    cluster_categories[label].append(i)\n",
    "\n",
    "cluster_tfidf_matrices = {}\n",
    "for cluster_id, category_indices in cluster_categories.items():\n",
    "    cluster_tfidf_matrices[cluster_id] = np.asarray(np.mean(tfidf_sub_matrix[category_indices], axis=0))\n",
    "\n",
    "dominant_categories = []\n",
    "category_dominance_scores = [0] * len(category_names)\n",
    "for cluster_id, category_indices in cluster_categories.items():\n",
    "    cluster_tfidf = cluster_tfidf_matrices[cluster_id]\n",
    "    similarity = cosine_similarity(tfidf_sub_matrix[category_indices], cluster_tfidf.reshape(1, -1))\n",
    "\n",
    "    article_counts = np.array([len(x_train[y_train['category'] == category_names[i]]) for i in category_indices])\n",
    "    article_counts = article_counts / article_counts.sum()\n",
    "\n",
    "    combined_score = 0.6 * similarity.flatten() + 0.4 * article_counts\n",
    "\n",
    "    top_3_indices = np.argsort(combined_score)[-3:][::-1]\n",
    "    top_3_names = [category_names[category_indices[i]] for i in top_3_indices]\n",
    "\n",
    "    # dominant_category_index = category_indices[np.argmax(combined_score)]\n",
    "    dominant_categories.append(\" - \".join(top_3_names))\n",
    "\n",
    "    for list_idx, cat_idx in enumerate(category_indices):\n",
    "        category_dominance_scores[cat_idx] = combined_score[list_idx]\n"
   ],
   "id": "576a6393e2a203c8",
   "outputs": [],
   "execution_count": 1272
  },
  {
   "metadata": {
    "ExecuteTime": {
     "end_time": "2025-01-24T17:56:47.133257Z",
     "start_time": "2025-01-24T17:56:47.129827Z"
    }
   },
   "cell_type": "code",
   "source": "print(dominant_categories)",
   "id": "909a39768ec78afc",
   "outputs": [
    {
     "name": "stdout",
     "output_type": "stream",
     "text": [
      "['ENTERTAINMENT - ARTS - ARTS & CULTURE', 'IMPACT - BUSINESS - PARENTING', 'POLITICS - WORLD NEWS - THE WORLDPOST', 'WELLNESS - HEALTHY LIVING - FIFTY']\n"
     ]
    }
   ],
   "execution_count": 1273
  },
  {
   "metadata": {
    "ExecuteTime": {
     "end_time": "2025-01-24T17:56:47.214353Z",
     "start_time": "2025-01-24T17:56:47.190983Z"
    }
   },
   "cell_type": "code",
   "source": [
    "from collections import defaultdict\n",
    "\n",
    "feature_names = vectorizer.get_feature_names_out()\n",
    "keyword_cluster_association = defaultdict(lambda: defaultdict(float))\n",
    "\n",
    "for cluster_id, cluster_tfidf in cluster_tfidf_matrices.items():\n",
    "    top_word_indices = np.argsort(cluster_tfidf.flatten())[::-1][:50]\n",
    "    for word_index in top_word_indices:\n",
    "        tfidf_score = cluster_tfidf.flatten()[word_index]\n",
    "        word = feature_names[word_index]\n",
    "        keyword_cluster_association[word][dominant_categories[cluster_id]] = tfidf_score\n"
   ],
   "id": "8f79a22038c2d74c",
   "outputs": [],
   "execution_count": 1274
  },
  {
   "metadata": {
    "ExecuteTime": {
     "end_time": "2025-01-24T17:56:47.533613Z",
     "start_time": "2025-01-24T17:56:47.281028Z"
    }
   },
   "cell_type": "code",
   "source": [
    "import networkx as nx\n",
    "import matplotlib.pyplot as plt\n",
    "import plotly.graph_objects as go\n",
    "\n",
    "G = nx.Graph()\n",
    "G.clear()\n",
    "\n",
    "for keyword, associations in keyword_cluster_association.items():\n",
    "    G.add_node(keyword, type='keyword')\n",
    "    for cluster_name in set(dominant_categories):\n",
    "        score = associations.get(cluster_name)\n",
    "        if score is not None and score > 0.01:\n",
    "            G.add_edge(keyword, cluster_name, weight=score)\n",
    "\n",
    "\n",
    "for cluster_name in set(dominant_categories):\n",
    "    G.add_node(cluster_name, type='cluster')\n",
    "\n",
    "num_clusters = len(set(dominant_categories))\n",
    "x_start = -10\n",
    "x_end = 100\n",
    "x_positions = np.linspace(x_start, x_end, num_clusters)\n",
    "y_positions = [20 + 2*i if i%2 == 0 else 2*i for i in range(num_clusters)]\n",
    "\n",
    "cluster_positions = {\n",
    "    cluster_name: (x, y)\n",
    "    for cluster_name, x, y in zip(set(dominant_categories), x_positions, y_positions)\n",
    "}\n",
    "\n",
    "fixed_positions = cluster_positions\n",
    "\n",
    "fixed_nodes = list(cluster_positions.keys())\n",
    "\n",
    "pos = nx.spring_layout(G, k=3, iterations=500, scale=2, pos=fixed_positions, fixed=fixed_nodes)\n",
    "\n",
    "edge_x = []\n",
    "edge_y = []\n",
    "edge_weights = []\n",
    "for edge in G.edges():\n",
    "    x0, y0 = pos[edge[0]]\n",
    "    x1, y1 = pos[edge[1]]\n",
    "    edge_x.extend([x0, x1, None])\n",
    "    edge_y.extend([y0, y1, None])\n",
    "    edge_weights.append(G.edges[edge]['weight'])\n",
    "\n",
    "edge_trace = go.Scatter(\n",
    "    x=edge_x,\n",
    "    y=edge_y,\n",
    "    line=dict(width=0.5, color=\"#888\"),\n",
    "    hoverinfo=\"none\",\n",
    "    mode=\"lines\",\n",
    ")\n",
    "\n",
    "node_x = []\n",
    "node_y = []\n",
    "node_colors = []\n",
    "node_sizes = []\n",
    "all_nodes = []\n",
    "for node, data in G.nodes(data=True):\n",
    "    all_nodes.append(node)\n",
    "    x, y = pos[node]\n",
    "    node_x.append(x)\n",
    "    node_y.append(y)\n",
    "    if data[\"type\"] == \"keyword\":\n",
    "        node_colors.append(\"lightblue\")\n",
    "        node_sizes.append(10)\n",
    "    else:\n",
    "        node_colors.append(\"lightgreen\")\n",
    "        node_sizes.append(25)\n",
    "\n",
    "node_trace = go.Scatter(\n",
    "    x=node_x,\n",
    "    y=node_y,\n",
    "    mode=\"markers+text\",\n",
    "    hoverinfo=\"text\",\n",
    "    text=[t if t not in dominant_categories else '' for t in all_nodes],\n",
    "    textposition=\"bottom center\",\n",
    "    marker=dict(\n",
    "        showscale=False,\n",
    "        colorscale=\"YlGnBu\",\n",
    "        size=node_sizes,\n",
    "        color=node_colors,\n",
    "        line_width=2,\n",
    "    ),\n",
    ")\n",
    "\n",
    "# Create figure\n",
    "fig = go.Figure(\n",
    "    data=[edge_trace, node_trace],\n",
    "    layout=go.Layout(\n",
    "        width=1000,\n",
    "        height=600,\n",
    "        title=\"Keyword-Cluster Network Graph\",\n",
    "        showlegend=False,\n",
    "        hovermode=\"closest\",\n",
    "        margin=dict(b=20, l=5, r=5, t=40),\n",
    "        xaxis=dict(showgrid=False, zeroline=False, showticklabels=False),\n",
    "        yaxis=dict(showgrid=False, zeroline=False, showticklabels=False),\n",
    "    ),\n",
    ")\n",
    "\n",
    "# Customize cluster node labels (make them more prominent)\n",
    "for i, cluster_name in enumerate(dominant_categories):\n",
    "    fig.add_annotation(\n",
    "        x=node_x[all_nodes.index(cluster_name)],\n",
    "        y=node_y[all_nodes.index(cluster_name)],\n",
    "        text=cluster_name,\n",
    "        showarrow=False,\n",
    "        font=dict(size=10, color=\"black\"),\n",
    "        bgcolor=\"lightgreen\",\n",
    "        borderpad=4,\n",
    "        yanchor=\"bottom\",\n",
    "        textangle=360\n",
    "    )\n",
    "\n",
    "fig.show()"
   ],
   "id": "607d5c3a7e753221",
   "outputs": [
    {
     "data": {
      "application/vnd.plotly.v1+json": {
       "data": [
        {
         "hoverinfo": "none",
         "line": {
          "color": "#888",
          "width": 0.5
         },
         "mode": "lines",
         "x": [
          26.67688268200002,
          -10.0,
          null,
          26.67688268200002,
          26.666666666666664,
          null,
          26.67688268200002,
          100.0,
          null,
          -10.0,
          -17.80314765540682,
          null,
          -10.0,
          40.926912873468474,
          null,
          -10.0,
          -22.008983547412864,
          null,
          -10.0,
          37.76513889169262,
          null,
          -10.0,
          44.43446031355681,
          null,
          -10.0,
          31.03463440502722,
          null,
          -10.0,
          45.36793492999651,
          null,
          -10.0,
          36.209282834914404,
          null,
          -10.0,
          46.78637827095807,
          null,
          -10.0,
          51.10264936547844,
          null,
          -10.0,
          48.1150891415832,
          null,
          -10.0,
          41.316331089617485,
          null,
          -10.0,
          43.883909473648416,
          null,
          -10.0,
          41.24230930454041,
          null,
          -10.0,
          31.838947762860144,
          null,
          -10.0,
          49.43407248419864,
          null,
          -10.0,
          34.48446826994592,
          null,
          -10.0,
          52.19262699206067,
          null,
          -10.0,
          -27.636535421140454,
          null,
          -10.0,
          46.171832913618694,
          null,
          -10.0,
          -18.031274752953802,
          null,
          -10.0,
          24.26033552907366,
          null,
          -10.0,
          38.54548564472384,
          null,
          -10.0,
          -24.376403180081766,
          null,
          -10.0,
          -28.274970645310002,
          null,
          -10.0,
          43.23329875425318,
          null,
          -10.0,
          -34.12912166505686,
          null,
          -10.0,
          39.87560008944788,
          null,
          -10.0,
          45.90705170531836,
          null,
          -10.0,
          -31.539562201451645,
          null,
          -10.0,
          36.782085022251636,
          null,
          -10.0,
          -33.98914073074938,
          null,
          -10.0,
          47.37110790506538,
          null,
          -10.0,
          -31.585006078167773,
          null,
          -10.0,
          -39.07974766970196,
          null,
          -10.0,
          -20.589404129126915,
          null,
          -10.0,
          -39.243401088151,
          null,
          -10.0,
          -26.97745646254969,
          null,
          -10.0,
          -31.787438008150723,
          null,
          -10.0,
          46.175542675858715,
          null,
          -10.0,
          -39.593865975272124,
          null,
          -10.0,
          -38.09815660658483,
          null,
          -10.0,
          44.155832046326225,
          null,
          -10.0,
          -43.10608944321647,
          null,
          -10.0,
          51.89120056551262,
          null,
          -10.0,
          -38.359802742206575,
          null,
          -10.0,
          48.876448643154184,
          null,
          -10.0,
          50.48321280332101,
          null,
          -10.0,
          -45.500057170681295,
          null,
          26.666666666666664,
          40.926912873468474,
          null,
          26.666666666666664,
          44.43446031355681,
          null,
          26.666666666666664,
          31.03463440502722,
          null,
          26.666666666666664,
          45.36793492999651,
          null,
          26.666666666666664,
          36.209282834914404,
          null,
          26.666666666666664,
          46.78637827095807,
          null,
          26.666666666666664,
          51.10264936547844,
          null,
          26.666666666666664,
          48.1150891415832,
          null,
          26.666666666666664,
          41.316331089617485,
          null,
          26.666666666666664,
          43.883909473648416,
          null,
          26.666666666666664,
          41.24230930454041,
          null,
          26.666666666666664,
          31.838947762860144,
          null,
          26.666666666666664,
          49.43407248419864,
          null,
          26.666666666666664,
          34.48446826994592,
          null,
          26.666666666666664,
          52.19262699206067,
          null,
          26.666666666666664,
          46.171832913618694,
          null,
          26.666666666666664,
          38.54548564472384,
          null,
          26.666666666666664,
          43.23329875425318,
          null,
          26.666666666666664,
          39.87560008944788,
          null,
          26.666666666666664,
          45.90705170531836,
          null,
          26.666666666666664,
          36.782085022251636,
          null,
          26.666666666666664,
          47.37110790506538,
          null,
          26.666666666666664,
          48.876448643154184,
          null,
          26.666666666666664,
          69.66600224205773,
          null,
          26.666666666666664,
          66.36294023675917,
          null,
          26.666666666666664,
          72.62515082721134,
          null,
          26.666666666666664,
          69.23543067729867,
          null,
          26.666666666666664,
          61.9174924862382,
          null,
          26.666666666666664,
          64.01102078899078,
          null,
          26.666666666666664,
          60.75534320252005,
          null,
          26.666666666666664,
          67.20251822899293,
          null,
          26.666666666666664,
          21.901189504880627,
          null,
          26.666666666666664,
          10.083033531339755,
          null,
          26.666666666666664,
          11.420476759184004,
          null,
          26.666666666666664,
          7.978866975058582,
          null,
          26.666666666666664,
          14.948597469816047,
          null,
          26.666666666666664,
          1.4534750624558694,
          null,
          26.666666666666664,
          27.046934286805786,
          null,
          26.666666666666664,
          19.350432423250925,
          null,
          26.666666666666664,
          7.418176927169618,
          null,
          26.666666666666664,
          1.5089445791659117,
          null,
          26.666666666666664,
          11.995299005624625,
          null,
          26.666666666666664,
          31.870889835827832,
          null,
          26.666666666666664,
          -2.917831254434453,
          null,
          26.666666666666664,
          19.870724923215434,
          null,
          26.666666666666664,
          0.1874345888657119,
          null,
          26.666666666666664,
          5.170859843824056,
          null,
          26.666666666666664,
          12.665923551927792,
          null,
          26.666666666666664,
          25.50313267162839,
          null,
          100.0,
          40.926912873468474,
          null,
          100.0,
          37.76513889169262,
          null,
          100.0,
          44.43446031355681,
          null,
          100.0,
          31.03463440502722,
          null,
          100.0,
          45.36793492999651,
          null,
          100.0,
          36.209282834914404,
          null,
          100.0,
          46.78637827095807,
          null,
          100.0,
          51.10264936547844,
          null,
          100.0,
          48.1150891415832,
          null,
          100.0,
          41.316331089617485,
          null,
          100.0,
          43.883909473648416,
          null,
          100.0,
          41.24230930454041,
          null,
          100.0,
          31.838947762860144,
          null,
          100.0,
          49.43407248419864,
          null,
          100.0,
          34.48446826994592,
          null,
          100.0,
          52.19262699206067,
          null,
          100.0,
          46.171832913618694,
          null,
          100.0,
          38.54548564472384,
          null,
          100.0,
          43.23329875425318,
          null,
          100.0,
          39.87560008944788,
          null,
          100.0,
          45.90705170531836,
          null,
          100.0,
          36.782085022251636,
          null,
          100.0,
          47.37110790506538,
          null,
          100.0,
          46.175542675858715,
          null,
          100.0,
          44.155832046326225,
          null,
          100.0,
          51.89120056551262,
          null,
          100.0,
          48.876448643154184,
          null,
          100.0,
          50.48321280332101,
          null,
          100.0,
          92.99979402877321,
          null,
          100.0,
          117.16654411168868,
          null,
          100.0,
          97.11516197044972,
          null,
          100.0,
          121.64922165348301,
          null,
          100.0,
          69.66600224205773,
          null,
          100.0,
          123.7213646047195,
          null,
          100.0,
          66.36294023675917,
          null,
          100.0,
          72.62515082721134,
          null,
          100.0,
          116.78688102041205,
          null,
          100.0,
          88.19956236956997,
          null,
          100.0,
          69.23543067729867,
          null,
          100.0,
          122.68932333880272,
          null,
          100.0,
          82.22576732632884,
          null,
          100.0,
          130.4518105132431,
          null,
          100.0,
          130.559865691038,
          null,
          100.0,
          129.0343186768115,
          null,
          100.0,
          61.9174924862382,
          null,
          100.0,
          64.01102078899078,
          null,
          100.0,
          128.93836134467415,
          null,
          100.0,
          60.75534320252005,
          null,
          100.0,
          67.20251822899293,
          null,
          40.926912873468474,
          63.33333333333333,
          null,
          63.33333333333333,
          37.76513889169262,
          null,
          63.33333333333333,
          44.43446031355681,
          null,
          63.33333333333333,
          31.03463440502722,
          null,
          63.33333333333333,
          45.36793492999651,
          null,
          63.33333333333333,
          46.78637827095807,
          null,
          63.33333333333333,
          51.10264936547844,
          null,
          63.33333333333333,
          48.1150891415832,
          null,
          63.33333333333333,
          43.883909473648416,
          null,
          63.33333333333333,
          41.24230930454041,
          null,
          63.33333333333333,
          49.43407248419864,
          null,
          63.33333333333333,
          52.19262699206067,
          null,
          63.33333333333333,
          24.26033552907366,
          null,
          63.33333333333333,
          47.37110790506538,
          null,
          63.33333333333333,
          46.175542675858715,
          null,
          63.33333333333333,
          51.89120056551262,
          null,
          63.33333333333333,
          48.876448643154184,
          null,
          63.33333333333333,
          50.48321280332101,
          null,
          63.33333333333333,
          92.99979402877321,
          null,
          63.33333333333333,
          97.11516197044972,
          null,
          63.33333333333333,
          88.19956236956997,
          null,
          63.33333333333333,
          69.23543067729867,
          null,
          63.33333333333333,
          82.22576732632884,
          null,
          63.33333333333333,
          70.44061057983596,
          null,
          63.33333333333333,
          77.24980692202422,
          null,
          63.33333333333333,
          65.8776364009494,
          null,
          63.33333333333333,
          77.62226864808919,
          null,
          63.33333333333333,
          57.21873088835043,
          null,
          63.33333333333333,
          84.88487884492558,
          null,
          63.33333333333333,
          73.98079800907273,
          null,
          63.33333333333333,
          85.18453627904992,
          null,
          63.33333333333333,
          85.44842923635258,
          null,
          63.33333333333333,
          60.953318978876986,
          null,
          63.33333333333333,
          81.6488351830929,
          null,
          63.33333333333333,
          69.89095838588152,
          null,
          63.33333333333333,
          92.95822876584452,
          null,
          63.33333333333333,
          78.2532644633029,
          null,
          63.33333333333333,
          65.51125461895217,
          null,
          63.33333333333333,
          60.72094001095556,
          null,
          63.33333333333333,
          50.5242006598585,
          null,
          63.33333333333333,
          69.42103768363778,
          null,
          63.33333333333333,
          86.43911072217243,
          null,
          63.33333333333333,
          81.41017405513135,
          null,
          63.33333333333333,
          55.054825313177155,
          null,
          63.33333333333333,
          85.65572511199527,
          null,
          63.33333333333333,
          75.14675007041087,
          null,
          63.33333333333333,
          95.78573674310891,
          null,
          63.33333333333333,
          90.9748934060953,
          null,
          63.33333333333333,
          93.71753503938832,
          null,
          63.33333333333333,
          86.99905808256362,
          null
         ],
         "y": [
          14.225230433185052,
          20.0,
          null,
          14.225230433185052,
          2.0,
          null,
          14.225230433185052,
          6.0,
          null,
          20.0,
          25.515119980935985,
          null,
          20.0,
          14.272576402075785,
          null,
          20.0,
          17.967138309712976,
          null,
          20.0,
          21.905987977902953,
          null,
          20.0,
          11.74061032213265,
          null,
          20.0,
          18.256057420502163,
          null,
          20.0,
          13.686478308270908,
          null,
          20.0,
          12.372494700192691,
          null,
          20.0,
          10.503036778311209,
          null,
          20.0,
          13.112272730266811,
          null,
          20.0,
          14.000353638941565,
          null,
          20.0,
          8.321044297886862,
          null,
          20.0,
          16.274576086517012,
          null,
          20.0,
          17.219469441551055,
          null,
          20.0,
          11.090567178194322,
          null,
          20.0,
          9.41813154501429,
          null,
          20.0,
          15.66696436098218,
          null,
          20.0,
          11.012182359812856,
          null,
          20.0,
          24.987991888187196,
          null,
          20.0,
          6.379745861462486,
          null,
          20.0,
          37.91564221491606,
          null,
          20.0,
          28.76986333249657,
          null,
          20.0,
          8.833578279325915,
          null,
          20.0,
          34.63696847412582,
          null,
          20.0,
          10.001530530852751,
          null,
          20.0,
          4.531188312859462,
          null,
          20.0,
          25.207277188025365,
          null,
          20.0,
          2.936221504445307,
          null,
          20.0,
          2.5237428929044556,
          null,
          20.0,
          33.0847906406282,
          null,
          20.0,
          5.173053803143999,
          null,
          20.0,
          15.204844784672865,
          null,
          20.0,
          16.958049905100854,
          null,
          20.0,
          2.738048122117153,
          null,
          20.0,
          20.27754927978552,
          null,
          20.0,
          46.10630415380133,
          null,
          20.0,
          11.425449356484702,
          null,
          20.0,
          44.71243128713752,
          null,
          20.0,
          40.98169769494892,
          null,
          20.0,
          24.612392437933828,
          null,
          20.0,
          32.17312059543919,
          null,
          20.0,
          5.0730486177359255,
          null,
          20.0,
          22.284956797203566,
          null,
          20.0,
          26.437378953196873,
          null,
          20.0,
          19.19998778184831,
          null,
          20.0,
          39.09368281677519,
          null,
          20.0,
          5.8430278598214835,
          null,
          20.0,
          23.136531232712326,
          null,
          20.0,
          16.847646884585,
          null,
          2.0,
          14.272576402075785,
          null,
          2.0,
          11.74061032213265,
          null,
          2.0,
          18.256057420502163,
          null,
          2.0,
          13.686478308270908,
          null,
          2.0,
          12.372494700192691,
          null,
          2.0,
          10.503036778311209,
          null,
          2.0,
          13.112272730266811,
          null,
          2.0,
          14.000353638941565,
          null,
          2.0,
          8.321044297886862,
          null,
          2.0,
          16.274576086517012,
          null,
          2.0,
          17.219469441551055,
          null,
          2.0,
          11.090567178194322,
          null,
          2.0,
          9.41813154501429,
          null,
          2.0,
          15.66696436098218,
          null,
          2.0,
          11.012182359812856,
          null,
          2.0,
          6.379745861462486,
          null,
          2.0,
          8.833578279325915,
          null,
          2.0,
          4.531188312859462,
          null,
          2.0,
          2.936221504445307,
          null,
          2.0,
          2.5237428929044556,
          null,
          2.0,
          5.173053803143999,
          null,
          2.0,
          16.958049905100854,
          null,
          2.0,
          5.8430278598214835,
          null,
          2.0,
          -1.5648887093165473,
          null,
          2.0,
          -2.583767920768202,
          null,
          2.0,
          -7.311731031040678,
          null,
          2.0,
          5.987795734866909,
          null,
          2.0,
          -3.2119209803246944,
          null,
          2.0,
          -7.342972495150307,
          null,
          2.0,
          -9.261815010241566,
          null,
          2.0,
          -11.669944490848891,
          null,
          2.0,
          -14.000344737894478,
          null,
          2.0,
          -1.7477853053827281,
          null,
          2.0,
          -7.863964345221888,
          null,
          2.0,
          5.0595106306486155,
          null,
          2.0,
          -13.522599291781786,
          null,
          2.0,
          -2.0145413826507985,
          null,
          2.0,
          -23.904205037913016,
          null,
          2.0,
          -22.845550626028533,
          null,
          2.0,
          -18.106369713603677,
          null,
          2.0,
          -13.38127339539043,
          null,
          2.0,
          -24.326437166922517,
          null,
          2.0,
          -29.180854949095135,
          null,
          2.0,
          -8.955777525315884,
          null,
          2.0,
          -30.582486354890378,
          null,
          2.0,
          -20.45013958008468,
          null,
          2.0,
          -26.86027786128828,
          null,
          2.0,
          -31.797348876864195,
          null,
          2.0,
          -34.546479245410545,
          null,
          6.0,
          14.272576402075785,
          null,
          6.0,
          21.905987977902953,
          null,
          6.0,
          11.74061032213265,
          null,
          6.0,
          18.256057420502163,
          null,
          6.0,
          13.686478308270908,
          null,
          6.0,
          12.372494700192691,
          null,
          6.0,
          10.503036778311209,
          null,
          6.0,
          13.112272730266811,
          null,
          6.0,
          14.000353638941565,
          null,
          6.0,
          8.321044297886862,
          null,
          6.0,
          16.274576086517012,
          null,
          6.0,
          17.219469441551055,
          null,
          6.0,
          11.090567178194322,
          null,
          6.0,
          9.41813154501429,
          null,
          6.0,
          15.66696436098218,
          null,
          6.0,
          11.012182359812856,
          null,
          6.0,
          6.379745861462486,
          null,
          6.0,
          8.833578279325915,
          null,
          6.0,
          4.531188312859462,
          null,
          6.0,
          2.936221504445307,
          null,
          6.0,
          2.5237428929044556,
          null,
          6.0,
          5.173053803143999,
          null,
          6.0,
          16.958049905100854,
          null,
          6.0,
          24.612392437933828,
          null,
          6.0,
          22.284956797203566,
          null,
          6.0,
          19.19998778184831,
          null,
          6.0,
          5.8430278598214835,
          null,
          6.0,
          23.136531232712326,
          null,
          6.0,
          12.768853755693936,
          null,
          6.0,
          -4.93602838566959,
          null,
          6.0,
          17.667529701595683,
          null,
          6.0,
          6.680297900075719,
          null,
          6.0,
          -1.5648887093165473,
          null,
          6.0,
          -1.3421310730266336,
          null,
          6.0,
          -2.583767920768202,
          null,
          6.0,
          -7.311731031040678,
          null,
          6.0,
          -14.559170320273356,
          null,
          6.0,
          17.464954671037173,
          null,
          6.0,
          5.987795734866909,
          null,
          6.0,
          -11.697816096750248,
          null,
          6.0,
          15.91887638146815,
          null,
          6.0,
          -0.43235243152552505,
          null,
          6.0,
          6.502470558227425,
          null,
          6.0,
          13.298193204074131,
          null,
          6.0,
          -3.2119209803246944,
          null,
          6.0,
          -7.342972495150307,
          null,
          6.0,
          -8.323574012456525,
          null,
          6.0,
          -9.261815010241566,
          null,
          6.0,
          -11.669944490848891,
          null,
          14.272576402075785,
          24.0,
          null,
          24.0,
          21.905987977902953,
          null,
          24.0,
          11.74061032213265,
          null,
          24.0,
          18.256057420502163,
          null,
          24.0,
          13.686478308270908,
          null,
          24.0,
          10.503036778311209,
          null,
          24.0,
          13.112272730266811,
          null,
          24.0,
          14.000353638941565,
          null,
          24.0,
          16.274576086517012,
          null,
          24.0,
          17.219469441551055,
          null,
          24.0,
          9.41813154501429,
          null,
          24.0,
          11.012182359812856,
          null,
          24.0,
          28.76986333249657,
          null,
          24.0,
          16.958049905100854,
          null,
          24.0,
          24.612392437933828,
          null,
          24.0,
          19.19998778184831,
          null,
          24.0,
          5.8430278598214835,
          null,
          24.0,
          23.136531232712326,
          null,
          24.0,
          12.768853755693936,
          null,
          24.0,
          17.667529701595683,
          null,
          24.0,
          17.464954671037173,
          null,
          24.0,
          5.987795734866909,
          null,
          24.0,
          15.91887638146815,
          null,
          24.0,
          33.25873997119757,
          null,
          24.0,
          26.388348095827514,
          null,
          24.0,
          40.54541957400515,
          null,
          24.0,
          35.300820701264726,
          null,
          24.0,
          43.07727154852335,
          null,
          24.0,
          25.053288559089445,
          null,
          24.0,
          42.712717646385904,
          null,
          24.0,
          31.07636468532566,
          null,
          24.0,
          36.7866943992098,
          null,
          24.0,
          47.89725770397128,
          null,
          24.0,
          41.945747662879924,
          null,
          24.0,
          48.23960618473971,
          null,
          24.0,
          28.51128965705673,
          null,
          24.0,
          49.176248818097896,
          null,
          24.0,
          53.72897429925394,
          null,
          24.0,
          56.76120580428473,
          null,
          24.0,
          50.895385168515936,
          null,
          24.0,
          57.52912010332923,
          null,
          24.0,
          10.524123155422341,
          null,
          24.0,
          53.71363853594478,
          null,
          24.0,
          54.99468270251573,
          null,
          24.0,
          48.54047539655713,
          null,
          24.0,
          55.816824521123436,
          null,
          24.0,
          34.55910644049508,
          null,
          24.0,
          46.33361879488576,
          null,
          24.0,
          40.7037238768374,
          null,
          24.0,
          4.040900211395893,
          null
         ],
         "type": "scatter"
        },
        {
         "hoverinfo": "text",
         "marker": {
          "color": [
           "lightblue",
           "lightgreen",
           "lightgreen",
           "lightgreen",
           "lightblue",
           "lightblue",
           "lightgreen",
           "lightblue",
           "lightblue",
           "lightblue",
           "lightblue",
           "lightblue",
           "lightblue",
           "lightblue",
           "lightblue",
           "lightblue",
           "lightblue",
           "lightblue",
           "lightblue",
           "lightblue",
           "lightblue",
           "lightblue",
           "lightblue",
           "lightblue",
           "lightblue",
           "lightblue",
           "lightblue",
           "lightblue",
           "lightblue",
           "lightblue",
           "lightblue",
           "lightblue",
           "lightblue",
           "lightblue",
           "lightblue",
           "lightblue",
           "lightblue",
           "lightblue",
           "lightblue",
           "lightblue",
           "lightblue",
           "lightblue",
           "lightblue",
           "lightblue",
           "lightblue",
           "lightblue",
           "lightblue",
           "lightblue",
           "lightblue",
           "lightblue",
           "lightblue",
           "lightblue",
           "lightblue",
           "lightblue",
           "lightblue",
           "lightblue",
           "lightblue",
           "lightblue",
           "lightblue",
           "lightblue",
           "lightblue",
           "lightblue",
           "lightblue",
           "lightblue",
           "lightblue",
           "lightblue",
           "lightblue",
           "lightblue",
           "lightblue",
           "lightblue",
           "lightblue",
           "lightblue",
           "lightblue",
           "lightblue",
           "lightblue",
           "lightblue",
           "lightblue",
           "lightblue",
           "lightblue",
           "lightblue",
           "lightblue",
           "lightblue",
           "lightblue",
           "lightblue",
           "lightblue",
           "lightblue",
           "lightblue",
           "lightblue",
           "lightblue",
           "lightblue",
           "lightblue",
           "lightblue",
           "lightblue",
           "lightblue",
           "lightblue",
           "lightblue",
           "lightblue",
           "lightblue",
           "lightblue",
           "lightblue",
           "lightblue",
           "lightblue",
           "lightblue",
           "lightblue",
           "lightblue",
           "lightblue",
           "lightblue",
           "lightblue",
           "lightblue",
           "lightblue",
           "lightblue",
           "lightblue",
           "lightblue",
           "lightblue",
           "lightblue",
           "lightblue",
           "lightblue",
           "lightblue",
           "lightblue",
           "lightblue"
          ],
          "colorscale": [
           [
            0.0,
            "rgb(255,255,217)"
           ],
           [
            0.125,
            "rgb(237,248,177)"
           ],
           [
            0.25,
            "rgb(199,233,180)"
           ],
           [
            0.375,
            "rgb(127,205,187)"
           ],
           [
            0.5,
            "rgb(65,182,196)"
           ],
           [
            0.625,
            "rgb(29,145,192)"
           ],
           [
            0.75,
            "rgb(34,94,168)"
           ],
           [
            0.875,
            "rgb(37,52,148)"
           ],
           [
            1.0,
            "rgb(8,29,88)"
           ]
          ],
          "line": {
           "width": 2
          },
          "showscale": false,
          "size": [
           10,
           25,
           25,
           25,
           10,
           10,
           25,
           10,
           10,
           10,
           10,
           10,
           10,
           10,
           10,
           10,
           10,
           10,
           10,
           10,
           10,
           10,
           10,
           10,
           10,
           10,
           10,
           10,
           10,
           10,
           10,
           10,
           10,
           10,
           10,
           10,
           10,
           10,
           10,
           10,
           10,
           10,
           10,
           10,
           10,
           10,
           10,
           10,
           10,
           10,
           10,
           10,
           10,
           10,
           10,
           10,
           10,
           10,
           10,
           10,
           10,
           10,
           10,
           10,
           10,
           10,
           10,
           10,
           10,
           10,
           10,
           10,
           10,
           10,
           10,
           10,
           10,
           10,
           10,
           10,
           10,
           10,
           10,
           10,
           10,
           10,
           10,
           10,
           10,
           10,
           10,
           10,
           10,
           10,
           10,
           10,
           10,
           10,
           10,
           10,
           10,
           10,
           10,
           10,
           10,
           10,
           10,
           10,
           10,
           10,
           10,
           10,
           10,
           10,
           10,
           10,
           10,
           10,
           10,
           10
          ]
         },
         "mode": "markers+text",
         "text": [
          "photo",
          "",
          "",
          "",
          "art",
          "new",
          "",
          "artist",
          "trump",
          "one",
          "show",
          "year",
          "video",
          "time",
          "woman",
          "world",
          "make",
          "week",
          "first",
          "look",
          "day",
          "work",
          "people",
          "book",
          "life",
          "imageblog",
          "donald",
          "love",
          "film",
          "star",
          "take",
          "style",
          "best",
          "know",
          "snl",
          "see",
          "music",
          "would",
          "fashion",
          "story",
          "colbert",
          "night",
          "exhibition",
          "york",
          "two",
          "museum",
          "movie",
          "back",
          "gallery",
          "american",
          "painting",
          "may",
          "say",
          "theater",
          "child",
          "kid",
          "school",
          "student",
          "help",
          "college",
          "many",
          "family",
          "change",
          "man",
          "right",
          "black",
          "state",
          "climate",
          "parent",
          "dog",
          "good",
          "even",
          "mom",
          "thing",
          "come",
          "police",
          "president",
          "attack",
          "news",
          "killed",
          "country",
          "shooting",
          "isi",
          "syria",
          "death",
          "iran",
          "war",
          "leader",
          "korea",
          "russia",
          "dead",
          "medium",
          "government",
          "city",
          "officer",
          "official",
          "report",
          "north",
          "syrian",
          "former",
          "china",
          "election",
          "recipe",
          "wedding",
          "divorce",
          "food",
          "home",
          "find",
          "way",
          "health",
          "think",
          "better",
          "study",
          "really",
          "never",
          "much",
          "every",
          "feel",
          "marriage",
          "ever"
         ],
         "textposition": "bottom center",
         "x": [
          26.67688268200002,
          -10.0,
          26.666666666666664,
          100.0,
          -17.80314765540682,
          40.926912873468474,
          63.33333333333333,
          -22.008983547412864,
          37.76513889169262,
          44.43446031355681,
          31.03463440502722,
          45.36793492999651,
          36.209282834914404,
          46.78637827095807,
          51.10264936547844,
          48.1150891415832,
          41.316331089617485,
          43.883909473648416,
          41.24230930454041,
          31.838947762860144,
          49.43407248419864,
          34.48446826994592,
          52.19262699206067,
          -27.636535421140454,
          46.171832913618694,
          -18.031274752953802,
          24.26033552907366,
          38.54548564472384,
          -24.376403180081766,
          -28.274970645310002,
          43.23329875425318,
          -34.12912166505686,
          39.87560008944788,
          45.90705170531836,
          -31.539562201451645,
          36.782085022251636,
          -33.98914073074938,
          47.37110790506538,
          -31.585006078167773,
          -39.07974766970196,
          -20.589404129126915,
          -39.243401088151,
          -26.97745646254969,
          -31.787438008150723,
          46.175542675858715,
          -39.593865975272124,
          -38.09815660658483,
          44.155832046326225,
          -43.10608944321647,
          51.89120056551262,
          -38.359802742206575,
          48.876448643154184,
          50.48321280332101,
          -45.500057170681295,
          92.99979402877321,
          117.16654411168868,
          97.11516197044972,
          121.64922165348301,
          69.66600224205773,
          123.7213646047195,
          66.36294023675917,
          72.62515082721134,
          116.78688102041205,
          88.19956236956997,
          69.23543067729867,
          122.68932333880272,
          82.22576732632884,
          130.4518105132431,
          130.559865691038,
          129.0343186768115,
          61.9174924862382,
          64.01102078899078,
          128.93836134467415,
          60.75534320252005,
          67.20251822899293,
          70.44061057983596,
          77.24980692202422,
          65.8776364009494,
          77.62226864808919,
          57.21873088835043,
          84.88487884492558,
          73.98079800907273,
          85.18453627904992,
          85.44842923635258,
          60.953318978876986,
          81.6488351830929,
          69.89095838588152,
          92.95822876584452,
          78.2532644633029,
          65.51125461895217,
          60.72094001095556,
          50.5242006598585,
          69.42103768363778,
          86.43911072217243,
          81.41017405513135,
          55.054825313177155,
          85.65572511199527,
          75.14675007041087,
          95.78573674310891,
          90.9748934060953,
          93.71753503938832,
          86.99905808256362,
          21.901189504880627,
          10.083033531339755,
          11.420476759184004,
          7.978866975058582,
          14.948597469816047,
          1.4534750624558694,
          27.046934286805786,
          19.350432423250925,
          7.418176927169618,
          1.5089445791659117,
          11.995299005624625,
          31.870889835827832,
          -2.917831254434453,
          19.870724923215434,
          0.1874345888657119,
          5.170859843824056,
          12.665923551927792,
          25.50313267162839
         ],
         "y": [
          14.225230433185052,
          20.0,
          2.0,
          6.0,
          25.515119980935985,
          14.272576402075785,
          24.0,
          17.967138309712976,
          21.905987977902953,
          11.74061032213265,
          18.256057420502163,
          13.686478308270908,
          12.372494700192691,
          10.503036778311209,
          13.112272730266811,
          14.000353638941565,
          8.321044297886862,
          16.274576086517012,
          17.219469441551055,
          11.090567178194322,
          9.41813154501429,
          15.66696436098218,
          11.012182359812856,
          24.987991888187196,
          6.379745861462486,
          37.91564221491606,
          28.76986333249657,
          8.833578279325915,
          34.63696847412582,
          10.001530530852751,
          4.531188312859462,
          25.207277188025365,
          2.936221504445307,
          2.5237428929044556,
          33.0847906406282,
          5.173053803143999,
          15.204844784672865,
          16.958049905100854,
          2.738048122117153,
          20.27754927978552,
          46.10630415380133,
          11.425449356484702,
          44.71243128713752,
          40.98169769494892,
          24.612392437933828,
          32.17312059543919,
          5.0730486177359255,
          22.284956797203566,
          26.437378953196873,
          19.19998778184831,
          39.09368281677519,
          5.8430278598214835,
          23.136531232712326,
          16.847646884585,
          12.768853755693936,
          -4.93602838566959,
          17.667529701595683,
          6.680297900075719,
          -1.5648887093165473,
          -1.3421310730266336,
          -2.583767920768202,
          -7.311731031040678,
          -14.559170320273356,
          17.464954671037173,
          5.987795734866909,
          -11.697816096750248,
          15.91887638146815,
          -0.43235243152552505,
          6.502470558227425,
          13.298193204074131,
          -3.2119209803246944,
          -7.342972495150307,
          -8.323574012456525,
          -9.261815010241566,
          -11.669944490848891,
          33.25873997119757,
          26.388348095827514,
          40.54541957400515,
          35.300820701264726,
          43.07727154852335,
          25.053288559089445,
          42.712717646385904,
          31.07636468532566,
          36.7866943992098,
          47.89725770397128,
          41.945747662879924,
          48.23960618473971,
          28.51128965705673,
          49.176248818097896,
          53.72897429925394,
          56.76120580428473,
          50.895385168515936,
          57.52912010332923,
          10.524123155422341,
          53.71363853594478,
          54.99468270251573,
          48.54047539655713,
          55.816824521123436,
          34.55910644049508,
          46.33361879488576,
          40.7037238768374,
          4.040900211395893,
          -14.000344737894478,
          -1.7477853053827281,
          -7.863964345221888,
          5.0595106306486155,
          -13.522599291781786,
          -2.0145413826507985,
          -23.904205037913016,
          -22.845550626028533,
          -18.106369713603677,
          -13.38127339539043,
          -24.326437166922517,
          -29.180854949095135,
          -8.955777525315884,
          -30.582486354890378,
          -20.45013958008468,
          -26.86027786128828,
          -31.797348876864195,
          -34.546479245410545
         ],
         "type": "scatter"
        }
       ],
       "layout": {
        "height": 600,
        "hovermode": "closest",
        "margin": {
         "b": 20,
         "l": 5,
         "r": 5,
         "t": 40
        },
        "showlegend": false,
        "title": {
         "text": "Keyword-Cluster Network Graph"
        },
        "width": 1000,
        "xaxis": {
         "showgrid": false,
         "showticklabels": false,
         "zeroline": false
        },
        "yaxis": {
         "showgrid": false,
         "showticklabels": false,
         "zeroline": false
        },
        "template": {
         "data": {
          "histogram2dcontour": [
           {
            "type": "histogram2dcontour",
            "colorbar": {
             "outlinewidth": 0,
             "ticks": ""
            },
            "colorscale": [
             [
              0.0,
              "#0d0887"
             ],
             [
              0.1111111111111111,
              "#46039f"
             ],
             [
              0.2222222222222222,
              "#7201a8"
             ],
             [
              0.3333333333333333,
              "#9c179e"
             ],
             [
              0.4444444444444444,
              "#bd3786"
             ],
             [
              0.5555555555555556,
              "#d8576b"
             ],
             [
              0.6666666666666666,
              "#ed7953"
             ],
             [
              0.7777777777777778,
              "#fb9f3a"
             ],
             [
              0.8888888888888888,
              "#fdca26"
             ],
             [
              1.0,
              "#f0f921"
             ]
            ]
           }
          ],
          "choropleth": [
           {
            "type": "choropleth",
            "colorbar": {
             "outlinewidth": 0,
             "ticks": ""
            }
           }
          ],
          "histogram2d": [
           {
            "type": "histogram2d",
            "colorbar": {
             "outlinewidth": 0,
             "ticks": ""
            },
            "colorscale": [
             [
              0.0,
              "#0d0887"
             ],
             [
              0.1111111111111111,
              "#46039f"
             ],
             [
              0.2222222222222222,
              "#7201a8"
             ],
             [
              0.3333333333333333,
              "#9c179e"
             ],
             [
              0.4444444444444444,
              "#bd3786"
             ],
             [
              0.5555555555555556,
              "#d8576b"
             ],
             [
              0.6666666666666666,
              "#ed7953"
             ],
             [
              0.7777777777777778,
              "#fb9f3a"
             ],
             [
              0.8888888888888888,
              "#fdca26"
             ],
             [
              1.0,
              "#f0f921"
             ]
            ]
           }
          ],
          "heatmap": [
           {
            "type": "heatmap",
            "colorbar": {
             "outlinewidth": 0,
             "ticks": ""
            },
            "colorscale": [
             [
              0.0,
              "#0d0887"
             ],
             [
              0.1111111111111111,
              "#46039f"
             ],
             [
              0.2222222222222222,
              "#7201a8"
             ],
             [
              0.3333333333333333,
              "#9c179e"
             ],
             [
              0.4444444444444444,
              "#bd3786"
             ],
             [
              0.5555555555555556,
              "#d8576b"
             ],
             [
              0.6666666666666666,
              "#ed7953"
             ],
             [
              0.7777777777777778,
              "#fb9f3a"
             ],
             [
              0.8888888888888888,
              "#fdca26"
             ],
             [
              1.0,
              "#f0f921"
             ]
            ]
           }
          ],
          "heatmapgl": [
           {
            "type": "heatmapgl",
            "colorbar": {
             "outlinewidth": 0,
             "ticks": ""
            },
            "colorscale": [
             [
              0.0,
              "#0d0887"
             ],
             [
              0.1111111111111111,
              "#46039f"
             ],
             [
              0.2222222222222222,
              "#7201a8"
             ],
             [
              0.3333333333333333,
              "#9c179e"
             ],
             [
              0.4444444444444444,
              "#bd3786"
             ],
             [
              0.5555555555555556,
              "#d8576b"
             ],
             [
              0.6666666666666666,
              "#ed7953"
             ],
             [
              0.7777777777777778,
              "#fb9f3a"
             ],
             [
              0.8888888888888888,
              "#fdca26"
             ],
             [
              1.0,
              "#f0f921"
             ]
            ]
           }
          ],
          "contourcarpet": [
           {
            "type": "contourcarpet",
            "colorbar": {
             "outlinewidth": 0,
             "ticks": ""
            }
           }
          ],
          "contour": [
           {
            "type": "contour",
            "colorbar": {
             "outlinewidth": 0,
             "ticks": ""
            },
            "colorscale": [
             [
              0.0,
              "#0d0887"
             ],
             [
              0.1111111111111111,
              "#46039f"
             ],
             [
              0.2222222222222222,
              "#7201a8"
             ],
             [
              0.3333333333333333,
              "#9c179e"
             ],
             [
              0.4444444444444444,
              "#bd3786"
             ],
             [
              0.5555555555555556,
              "#d8576b"
             ],
             [
              0.6666666666666666,
              "#ed7953"
             ],
             [
              0.7777777777777778,
              "#fb9f3a"
             ],
             [
              0.8888888888888888,
              "#fdca26"
             ],
             [
              1.0,
              "#f0f921"
             ]
            ]
           }
          ],
          "surface": [
           {
            "type": "surface",
            "colorbar": {
             "outlinewidth": 0,
             "ticks": ""
            },
            "colorscale": [
             [
              0.0,
              "#0d0887"
             ],
             [
              0.1111111111111111,
              "#46039f"
             ],
             [
              0.2222222222222222,
              "#7201a8"
             ],
             [
              0.3333333333333333,
              "#9c179e"
             ],
             [
              0.4444444444444444,
              "#bd3786"
             ],
             [
              0.5555555555555556,
              "#d8576b"
             ],
             [
              0.6666666666666666,
              "#ed7953"
             ],
             [
              0.7777777777777778,
              "#fb9f3a"
             ],
             [
              0.8888888888888888,
              "#fdca26"
             ],
             [
              1.0,
              "#f0f921"
             ]
            ]
           }
          ],
          "mesh3d": [
           {
            "type": "mesh3d",
            "colorbar": {
             "outlinewidth": 0,
             "ticks": ""
            }
           }
          ],
          "scatter": [
           {
            "fillpattern": {
             "fillmode": "overlay",
             "size": 10,
             "solidity": 0.2
            },
            "type": "scatter"
           }
          ],
          "parcoords": [
           {
            "type": "parcoords",
            "line": {
             "colorbar": {
              "outlinewidth": 0,
              "ticks": ""
             }
            }
           }
          ],
          "scatterpolargl": [
           {
            "type": "scatterpolargl",
            "marker": {
             "colorbar": {
              "outlinewidth": 0,
              "ticks": ""
             }
            }
           }
          ],
          "bar": [
           {
            "error_x": {
             "color": "#2a3f5f"
            },
            "error_y": {
             "color": "#2a3f5f"
            },
            "marker": {
             "line": {
              "color": "#E5ECF6",
              "width": 0.5
             },
             "pattern": {
              "fillmode": "overlay",
              "size": 10,
              "solidity": 0.2
             }
            },
            "type": "bar"
           }
          ],
          "scattergeo": [
           {
            "type": "scattergeo",
            "marker": {
             "colorbar": {
              "outlinewidth": 0,
              "ticks": ""
             }
            }
           }
          ],
          "scatterpolar": [
           {
            "type": "scatterpolar",
            "marker": {
             "colorbar": {
              "outlinewidth": 0,
              "ticks": ""
             }
            }
           }
          ],
          "histogram": [
           {
            "marker": {
             "pattern": {
              "fillmode": "overlay",
              "size": 10,
              "solidity": 0.2
             }
            },
            "type": "histogram"
           }
          ],
          "scattergl": [
           {
            "type": "scattergl",
            "marker": {
             "colorbar": {
              "outlinewidth": 0,
              "ticks": ""
             }
            }
           }
          ],
          "scatter3d": [
           {
            "type": "scatter3d",
            "line": {
             "colorbar": {
              "outlinewidth": 0,
              "ticks": ""
             }
            },
            "marker": {
             "colorbar": {
              "outlinewidth": 0,
              "ticks": ""
             }
            }
           }
          ],
          "scattermapbox": [
           {
            "type": "scattermapbox",
            "marker": {
             "colorbar": {
              "outlinewidth": 0,
              "ticks": ""
             }
            }
           }
          ],
          "scatterternary": [
           {
            "type": "scatterternary",
            "marker": {
             "colorbar": {
              "outlinewidth": 0,
              "ticks": ""
             }
            }
           }
          ],
          "scattercarpet": [
           {
            "type": "scattercarpet",
            "marker": {
             "colorbar": {
              "outlinewidth": 0,
              "ticks": ""
             }
            }
           }
          ],
          "carpet": [
           {
            "aaxis": {
             "endlinecolor": "#2a3f5f",
             "gridcolor": "white",
             "linecolor": "white",
             "minorgridcolor": "white",
             "startlinecolor": "#2a3f5f"
            },
            "baxis": {
             "endlinecolor": "#2a3f5f",
             "gridcolor": "white",
             "linecolor": "white",
             "minorgridcolor": "white",
             "startlinecolor": "#2a3f5f"
            },
            "type": "carpet"
           }
          ],
          "table": [
           {
            "cells": {
             "fill": {
              "color": "#EBF0F8"
             },
             "line": {
              "color": "white"
             }
            },
            "header": {
             "fill": {
              "color": "#C8D4E3"
             },
             "line": {
              "color": "white"
             }
            },
            "type": "table"
           }
          ],
          "barpolar": [
           {
            "marker": {
             "line": {
              "color": "#E5ECF6",
              "width": 0.5
             },
             "pattern": {
              "fillmode": "overlay",
              "size": 10,
              "solidity": 0.2
             }
            },
            "type": "barpolar"
           }
          ],
          "pie": [
           {
            "automargin": true,
            "type": "pie"
           }
          ]
         },
         "layout": {
          "autotypenumbers": "strict",
          "colorway": [
           "#636efa",
           "#EF553B",
           "#00cc96",
           "#ab63fa",
           "#FFA15A",
           "#19d3f3",
           "#FF6692",
           "#B6E880",
           "#FF97FF",
           "#FECB52"
          ],
          "font": {
           "color": "#2a3f5f"
          },
          "hovermode": "closest",
          "hoverlabel": {
           "align": "left"
          },
          "paper_bgcolor": "white",
          "plot_bgcolor": "#E5ECF6",
          "polar": {
           "bgcolor": "#E5ECF6",
           "angularaxis": {
            "gridcolor": "white",
            "linecolor": "white",
            "ticks": ""
           },
           "radialaxis": {
            "gridcolor": "white",
            "linecolor": "white",
            "ticks": ""
           }
          },
          "ternary": {
           "bgcolor": "#E5ECF6",
           "aaxis": {
            "gridcolor": "white",
            "linecolor": "white",
            "ticks": ""
           },
           "baxis": {
            "gridcolor": "white",
            "linecolor": "white",
            "ticks": ""
           },
           "caxis": {
            "gridcolor": "white",
            "linecolor": "white",
            "ticks": ""
           }
          },
          "coloraxis": {
           "colorbar": {
            "outlinewidth": 0,
            "ticks": ""
           }
          },
          "colorscale": {
           "sequential": [
            [
             0.0,
             "#0d0887"
            ],
            [
             0.1111111111111111,
             "#46039f"
            ],
            [
             0.2222222222222222,
             "#7201a8"
            ],
            [
             0.3333333333333333,
             "#9c179e"
            ],
            [
             0.4444444444444444,
             "#bd3786"
            ],
            [
             0.5555555555555556,
             "#d8576b"
            ],
            [
             0.6666666666666666,
             "#ed7953"
            ],
            [
             0.7777777777777778,
             "#fb9f3a"
            ],
            [
             0.8888888888888888,
             "#fdca26"
            ],
            [
             1.0,
             "#f0f921"
            ]
           ],
           "sequentialminus": [
            [
             0.0,
             "#0d0887"
            ],
            [
             0.1111111111111111,
             "#46039f"
            ],
            [
             0.2222222222222222,
             "#7201a8"
            ],
            [
             0.3333333333333333,
             "#9c179e"
            ],
            [
             0.4444444444444444,
             "#bd3786"
            ],
            [
             0.5555555555555556,
             "#d8576b"
            ],
            [
             0.6666666666666666,
             "#ed7953"
            ],
            [
             0.7777777777777778,
             "#fb9f3a"
            ],
            [
             0.8888888888888888,
             "#fdca26"
            ],
            [
             1.0,
             "#f0f921"
            ]
           ],
           "diverging": [
            [
             0,
             "#8e0152"
            ],
            [
             0.1,
             "#c51b7d"
            ],
            [
             0.2,
             "#de77ae"
            ],
            [
             0.3,
             "#f1b6da"
            ],
            [
             0.4,
             "#fde0ef"
            ],
            [
             0.5,
             "#f7f7f7"
            ],
            [
             0.6,
             "#e6f5d0"
            ],
            [
             0.7,
             "#b8e186"
            ],
            [
             0.8,
             "#7fbc41"
            ],
            [
             0.9,
             "#4d9221"
            ],
            [
             1,
             "#276419"
            ]
           ]
          },
          "xaxis": {
           "gridcolor": "white",
           "linecolor": "white",
           "ticks": "",
           "title": {
            "standoff": 15
           },
           "zerolinecolor": "white",
           "automargin": true,
           "zerolinewidth": 2
          },
          "yaxis": {
           "gridcolor": "white",
           "linecolor": "white",
           "ticks": "",
           "title": {
            "standoff": 15
           },
           "zerolinecolor": "white",
           "automargin": true,
           "zerolinewidth": 2
          },
          "scene": {
           "xaxis": {
            "backgroundcolor": "#E5ECF6",
            "gridcolor": "white",
            "linecolor": "white",
            "showbackground": true,
            "ticks": "",
            "zerolinecolor": "white",
            "gridwidth": 2
           },
           "yaxis": {
            "backgroundcolor": "#E5ECF6",
            "gridcolor": "white",
            "linecolor": "white",
            "showbackground": true,
            "ticks": "",
            "zerolinecolor": "white",
            "gridwidth": 2
           },
           "zaxis": {
            "backgroundcolor": "#E5ECF6",
            "gridcolor": "white",
            "linecolor": "white",
            "showbackground": true,
            "ticks": "",
            "zerolinecolor": "white",
            "gridwidth": 2
           }
          },
          "shapedefaults": {
           "line": {
            "color": "#2a3f5f"
           }
          },
          "annotationdefaults": {
           "arrowcolor": "#2a3f5f",
           "arrowhead": 0,
           "arrowwidth": 1
          },
          "geo": {
           "bgcolor": "white",
           "landcolor": "#E5ECF6",
           "subunitcolor": "white",
           "showland": true,
           "showlakes": true,
           "lakecolor": "white"
          },
          "title": {
           "x": 0.05
          },
          "mapbox": {
           "style": "light"
          }
         }
        },
        "annotations": [
         {
          "bgcolor": "lightgreen",
          "borderpad": 4,
          "font": {
           "color": "black",
           "size": 10
          },
          "showarrow": false,
          "text": "ENTERTAINMENT - ARTS - ARTS & CULTURE",
          "textangle": 0,
          "x": 26.666666666666664,
          "y": 2.0,
          "yanchor": "bottom"
         },
         {
          "bgcolor": "lightgreen",
          "borderpad": 4,
          "font": {
           "color": "black",
           "size": 10
          },
          "showarrow": false,
          "text": "IMPACT - BUSINESS - PARENTING",
          "textangle": 0,
          "x": -10.0,
          "y": 20.0,
          "yanchor": "bottom"
         },
         {
          "bgcolor": "lightgreen",
          "borderpad": 4,
          "font": {
           "color": "black",
           "size": 10
          },
          "showarrow": false,
          "text": "POLITICS - WORLD NEWS - THE WORLDPOST",
          "textangle": 0,
          "x": 63.33333333333333,
          "y": 24.0,
          "yanchor": "bottom"
         },
         {
          "bgcolor": "lightgreen",
          "borderpad": 4,
          "font": {
           "color": "black",
           "size": 10
          },
          "showarrow": false,
          "text": "WELLNESS - HEALTHY LIVING - FIFTY",
          "textangle": 0,
          "x": 100.0,
          "y": 6.0,
          "yanchor": "bottom"
         }
        ]
       },
       "config": {
        "plotlyServerURL": "https://plot.ly"
       }
      },
      "text/html": [
       "<div>                            <div id=\"fa9deadd-3235-44a8-baab-592764d56253\" class=\"plotly-graph-div\" style=\"height:600px; width:1000px;\"></div>            <script type=\"text/javascript\">                require([\"plotly\"], function(Plotly) {                    window.PLOTLYENV=window.PLOTLYENV || {};                                    if (document.getElementById(\"fa9deadd-3235-44a8-baab-592764d56253\")) {                    Plotly.newPlot(                        \"fa9deadd-3235-44a8-baab-592764d56253\",                        [{\"hoverinfo\":\"none\",\"line\":{\"color\":\"#888\",\"width\":0.5},\"mode\":\"lines\",\"x\":[26.67688268200002,-10.0,null,26.67688268200002,26.666666666666664,null,26.67688268200002,100.0,null,-10.0,-17.80314765540682,null,-10.0,40.926912873468474,null,-10.0,-22.008983547412864,null,-10.0,37.76513889169262,null,-10.0,44.43446031355681,null,-10.0,31.03463440502722,null,-10.0,45.36793492999651,null,-10.0,36.209282834914404,null,-10.0,46.78637827095807,null,-10.0,51.10264936547844,null,-10.0,48.1150891415832,null,-10.0,41.316331089617485,null,-10.0,43.883909473648416,null,-10.0,41.24230930454041,null,-10.0,31.838947762860144,null,-10.0,49.43407248419864,null,-10.0,34.48446826994592,null,-10.0,52.19262699206067,null,-10.0,-27.636535421140454,null,-10.0,46.171832913618694,null,-10.0,-18.031274752953802,null,-10.0,24.26033552907366,null,-10.0,38.54548564472384,null,-10.0,-24.376403180081766,null,-10.0,-28.274970645310002,null,-10.0,43.23329875425318,null,-10.0,-34.12912166505686,null,-10.0,39.87560008944788,null,-10.0,45.90705170531836,null,-10.0,-31.539562201451645,null,-10.0,36.782085022251636,null,-10.0,-33.98914073074938,null,-10.0,47.37110790506538,null,-10.0,-31.585006078167773,null,-10.0,-39.07974766970196,null,-10.0,-20.589404129126915,null,-10.0,-39.243401088151,null,-10.0,-26.97745646254969,null,-10.0,-31.787438008150723,null,-10.0,46.175542675858715,null,-10.0,-39.593865975272124,null,-10.0,-38.09815660658483,null,-10.0,44.155832046326225,null,-10.0,-43.10608944321647,null,-10.0,51.89120056551262,null,-10.0,-38.359802742206575,null,-10.0,48.876448643154184,null,-10.0,50.48321280332101,null,-10.0,-45.500057170681295,null,26.666666666666664,40.926912873468474,null,26.666666666666664,44.43446031355681,null,26.666666666666664,31.03463440502722,null,26.666666666666664,45.36793492999651,null,26.666666666666664,36.209282834914404,null,26.666666666666664,46.78637827095807,null,26.666666666666664,51.10264936547844,null,26.666666666666664,48.1150891415832,null,26.666666666666664,41.316331089617485,null,26.666666666666664,43.883909473648416,null,26.666666666666664,41.24230930454041,null,26.666666666666664,31.838947762860144,null,26.666666666666664,49.43407248419864,null,26.666666666666664,34.48446826994592,null,26.666666666666664,52.19262699206067,null,26.666666666666664,46.171832913618694,null,26.666666666666664,38.54548564472384,null,26.666666666666664,43.23329875425318,null,26.666666666666664,39.87560008944788,null,26.666666666666664,45.90705170531836,null,26.666666666666664,36.782085022251636,null,26.666666666666664,47.37110790506538,null,26.666666666666664,48.876448643154184,null,26.666666666666664,69.66600224205773,null,26.666666666666664,66.36294023675917,null,26.666666666666664,72.62515082721134,null,26.666666666666664,69.23543067729867,null,26.666666666666664,61.9174924862382,null,26.666666666666664,64.01102078899078,null,26.666666666666664,60.75534320252005,null,26.666666666666664,67.20251822899293,null,26.666666666666664,21.901189504880627,null,26.666666666666664,10.083033531339755,null,26.666666666666664,11.420476759184004,null,26.666666666666664,7.978866975058582,null,26.666666666666664,14.948597469816047,null,26.666666666666664,1.4534750624558694,null,26.666666666666664,27.046934286805786,null,26.666666666666664,19.350432423250925,null,26.666666666666664,7.418176927169618,null,26.666666666666664,1.5089445791659117,null,26.666666666666664,11.995299005624625,null,26.666666666666664,31.870889835827832,null,26.666666666666664,-2.917831254434453,null,26.666666666666664,19.870724923215434,null,26.666666666666664,0.1874345888657119,null,26.666666666666664,5.170859843824056,null,26.666666666666664,12.665923551927792,null,26.666666666666664,25.50313267162839,null,100.0,40.926912873468474,null,100.0,37.76513889169262,null,100.0,44.43446031355681,null,100.0,31.03463440502722,null,100.0,45.36793492999651,null,100.0,36.209282834914404,null,100.0,46.78637827095807,null,100.0,51.10264936547844,null,100.0,48.1150891415832,null,100.0,41.316331089617485,null,100.0,43.883909473648416,null,100.0,41.24230930454041,null,100.0,31.838947762860144,null,100.0,49.43407248419864,null,100.0,34.48446826994592,null,100.0,52.19262699206067,null,100.0,46.171832913618694,null,100.0,38.54548564472384,null,100.0,43.23329875425318,null,100.0,39.87560008944788,null,100.0,45.90705170531836,null,100.0,36.782085022251636,null,100.0,47.37110790506538,null,100.0,46.175542675858715,null,100.0,44.155832046326225,null,100.0,51.89120056551262,null,100.0,48.876448643154184,null,100.0,50.48321280332101,null,100.0,92.99979402877321,null,100.0,117.16654411168868,null,100.0,97.11516197044972,null,100.0,121.64922165348301,null,100.0,69.66600224205773,null,100.0,123.7213646047195,null,100.0,66.36294023675917,null,100.0,72.62515082721134,null,100.0,116.78688102041205,null,100.0,88.19956236956997,null,100.0,69.23543067729867,null,100.0,122.68932333880272,null,100.0,82.22576732632884,null,100.0,130.4518105132431,null,100.0,130.559865691038,null,100.0,129.0343186768115,null,100.0,61.9174924862382,null,100.0,64.01102078899078,null,100.0,128.93836134467415,null,100.0,60.75534320252005,null,100.0,67.20251822899293,null,40.926912873468474,63.33333333333333,null,63.33333333333333,37.76513889169262,null,63.33333333333333,44.43446031355681,null,63.33333333333333,31.03463440502722,null,63.33333333333333,45.36793492999651,null,63.33333333333333,46.78637827095807,null,63.33333333333333,51.10264936547844,null,63.33333333333333,48.1150891415832,null,63.33333333333333,43.883909473648416,null,63.33333333333333,41.24230930454041,null,63.33333333333333,49.43407248419864,null,63.33333333333333,52.19262699206067,null,63.33333333333333,24.26033552907366,null,63.33333333333333,47.37110790506538,null,63.33333333333333,46.175542675858715,null,63.33333333333333,51.89120056551262,null,63.33333333333333,48.876448643154184,null,63.33333333333333,50.48321280332101,null,63.33333333333333,92.99979402877321,null,63.33333333333333,97.11516197044972,null,63.33333333333333,88.19956236956997,null,63.33333333333333,69.23543067729867,null,63.33333333333333,82.22576732632884,null,63.33333333333333,70.44061057983596,null,63.33333333333333,77.24980692202422,null,63.33333333333333,65.8776364009494,null,63.33333333333333,77.62226864808919,null,63.33333333333333,57.21873088835043,null,63.33333333333333,84.88487884492558,null,63.33333333333333,73.98079800907273,null,63.33333333333333,85.18453627904992,null,63.33333333333333,85.44842923635258,null,63.33333333333333,60.953318978876986,null,63.33333333333333,81.6488351830929,null,63.33333333333333,69.89095838588152,null,63.33333333333333,92.95822876584452,null,63.33333333333333,78.2532644633029,null,63.33333333333333,65.51125461895217,null,63.33333333333333,60.72094001095556,null,63.33333333333333,50.5242006598585,null,63.33333333333333,69.42103768363778,null,63.33333333333333,86.43911072217243,null,63.33333333333333,81.41017405513135,null,63.33333333333333,55.054825313177155,null,63.33333333333333,85.65572511199527,null,63.33333333333333,75.14675007041087,null,63.33333333333333,95.78573674310891,null,63.33333333333333,90.9748934060953,null,63.33333333333333,93.71753503938832,null,63.33333333333333,86.99905808256362,null],\"y\":[14.225230433185052,20.0,null,14.225230433185052,2.0,null,14.225230433185052,6.0,null,20.0,25.515119980935985,null,20.0,14.272576402075785,null,20.0,17.967138309712976,null,20.0,21.905987977902953,null,20.0,11.74061032213265,null,20.0,18.256057420502163,null,20.0,13.686478308270908,null,20.0,12.372494700192691,null,20.0,10.503036778311209,null,20.0,13.112272730266811,null,20.0,14.000353638941565,null,20.0,8.321044297886862,null,20.0,16.274576086517012,null,20.0,17.219469441551055,null,20.0,11.090567178194322,null,20.0,9.41813154501429,null,20.0,15.66696436098218,null,20.0,11.012182359812856,null,20.0,24.987991888187196,null,20.0,6.379745861462486,null,20.0,37.91564221491606,null,20.0,28.76986333249657,null,20.0,8.833578279325915,null,20.0,34.63696847412582,null,20.0,10.001530530852751,null,20.0,4.531188312859462,null,20.0,25.207277188025365,null,20.0,2.936221504445307,null,20.0,2.5237428929044556,null,20.0,33.0847906406282,null,20.0,5.173053803143999,null,20.0,15.204844784672865,null,20.0,16.958049905100854,null,20.0,2.738048122117153,null,20.0,20.27754927978552,null,20.0,46.10630415380133,null,20.0,11.425449356484702,null,20.0,44.71243128713752,null,20.0,40.98169769494892,null,20.0,24.612392437933828,null,20.0,32.17312059543919,null,20.0,5.0730486177359255,null,20.0,22.284956797203566,null,20.0,26.437378953196873,null,20.0,19.19998778184831,null,20.0,39.09368281677519,null,20.0,5.8430278598214835,null,20.0,23.136531232712326,null,20.0,16.847646884585,null,2.0,14.272576402075785,null,2.0,11.74061032213265,null,2.0,18.256057420502163,null,2.0,13.686478308270908,null,2.0,12.372494700192691,null,2.0,10.503036778311209,null,2.0,13.112272730266811,null,2.0,14.000353638941565,null,2.0,8.321044297886862,null,2.0,16.274576086517012,null,2.0,17.219469441551055,null,2.0,11.090567178194322,null,2.0,9.41813154501429,null,2.0,15.66696436098218,null,2.0,11.012182359812856,null,2.0,6.379745861462486,null,2.0,8.833578279325915,null,2.0,4.531188312859462,null,2.0,2.936221504445307,null,2.0,2.5237428929044556,null,2.0,5.173053803143999,null,2.0,16.958049905100854,null,2.0,5.8430278598214835,null,2.0,-1.5648887093165473,null,2.0,-2.583767920768202,null,2.0,-7.311731031040678,null,2.0,5.987795734866909,null,2.0,-3.2119209803246944,null,2.0,-7.342972495150307,null,2.0,-9.261815010241566,null,2.0,-11.669944490848891,null,2.0,-14.000344737894478,null,2.0,-1.7477853053827281,null,2.0,-7.863964345221888,null,2.0,5.0595106306486155,null,2.0,-13.522599291781786,null,2.0,-2.0145413826507985,null,2.0,-23.904205037913016,null,2.0,-22.845550626028533,null,2.0,-18.106369713603677,null,2.0,-13.38127339539043,null,2.0,-24.326437166922517,null,2.0,-29.180854949095135,null,2.0,-8.955777525315884,null,2.0,-30.582486354890378,null,2.0,-20.45013958008468,null,2.0,-26.86027786128828,null,2.0,-31.797348876864195,null,2.0,-34.546479245410545,null,6.0,14.272576402075785,null,6.0,21.905987977902953,null,6.0,11.74061032213265,null,6.0,18.256057420502163,null,6.0,13.686478308270908,null,6.0,12.372494700192691,null,6.0,10.503036778311209,null,6.0,13.112272730266811,null,6.0,14.000353638941565,null,6.0,8.321044297886862,null,6.0,16.274576086517012,null,6.0,17.219469441551055,null,6.0,11.090567178194322,null,6.0,9.41813154501429,null,6.0,15.66696436098218,null,6.0,11.012182359812856,null,6.0,6.379745861462486,null,6.0,8.833578279325915,null,6.0,4.531188312859462,null,6.0,2.936221504445307,null,6.0,2.5237428929044556,null,6.0,5.173053803143999,null,6.0,16.958049905100854,null,6.0,24.612392437933828,null,6.0,22.284956797203566,null,6.0,19.19998778184831,null,6.0,5.8430278598214835,null,6.0,23.136531232712326,null,6.0,12.768853755693936,null,6.0,-4.93602838566959,null,6.0,17.667529701595683,null,6.0,6.680297900075719,null,6.0,-1.5648887093165473,null,6.0,-1.3421310730266336,null,6.0,-2.583767920768202,null,6.0,-7.311731031040678,null,6.0,-14.559170320273356,null,6.0,17.464954671037173,null,6.0,5.987795734866909,null,6.0,-11.697816096750248,null,6.0,15.91887638146815,null,6.0,-0.43235243152552505,null,6.0,6.502470558227425,null,6.0,13.298193204074131,null,6.0,-3.2119209803246944,null,6.0,-7.342972495150307,null,6.0,-8.323574012456525,null,6.0,-9.261815010241566,null,6.0,-11.669944490848891,null,14.272576402075785,24.0,null,24.0,21.905987977902953,null,24.0,11.74061032213265,null,24.0,18.256057420502163,null,24.0,13.686478308270908,null,24.0,10.503036778311209,null,24.0,13.112272730266811,null,24.0,14.000353638941565,null,24.0,16.274576086517012,null,24.0,17.219469441551055,null,24.0,9.41813154501429,null,24.0,11.012182359812856,null,24.0,28.76986333249657,null,24.0,16.958049905100854,null,24.0,24.612392437933828,null,24.0,19.19998778184831,null,24.0,5.8430278598214835,null,24.0,23.136531232712326,null,24.0,12.768853755693936,null,24.0,17.667529701595683,null,24.0,17.464954671037173,null,24.0,5.987795734866909,null,24.0,15.91887638146815,null,24.0,33.25873997119757,null,24.0,26.388348095827514,null,24.0,40.54541957400515,null,24.0,35.300820701264726,null,24.0,43.07727154852335,null,24.0,25.053288559089445,null,24.0,42.712717646385904,null,24.0,31.07636468532566,null,24.0,36.7866943992098,null,24.0,47.89725770397128,null,24.0,41.945747662879924,null,24.0,48.23960618473971,null,24.0,28.51128965705673,null,24.0,49.176248818097896,null,24.0,53.72897429925394,null,24.0,56.76120580428473,null,24.0,50.895385168515936,null,24.0,57.52912010332923,null,24.0,10.524123155422341,null,24.0,53.71363853594478,null,24.0,54.99468270251573,null,24.0,48.54047539655713,null,24.0,55.816824521123436,null,24.0,34.55910644049508,null,24.0,46.33361879488576,null,24.0,40.7037238768374,null,24.0,4.040900211395893,null],\"type\":\"scatter\"},{\"hoverinfo\":\"text\",\"marker\":{\"color\":[\"lightblue\",\"lightgreen\",\"lightgreen\",\"lightgreen\",\"lightblue\",\"lightblue\",\"lightgreen\",\"lightblue\",\"lightblue\",\"lightblue\",\"lightblue\",\"lightblue\",\"lightblue\",\"lightblue\",\"lightblue\",\"lightblue\",\"lightblue\",\"lightblue\",\"lightblue\",\"lightblue\",\"lightblue\",\"lightblue\",\"lightblue\",\"lightblue\",\"lightblue\",\"lightblue\",\"lightblue\",\"lightblue\",\"lightblue\",\"lightblue\",\"lightblue\",\"lightblue\",\"lightblue\",\"lightblue\",\"lightblue\",\"lightblue\",\"lightblue\",\"lightblue\",\"lightblue\",\"lightblue\",\"lightblue\",\"lightblue\",\"lightblue\",\"lightblue\",\"lightblue\",\"lightblue\",\"lightblue\",\"lightblue\",\"lightblue\",\"lightblue\",\"lightblue\",\"lightblue\",\"lightblue\",\"lightblue\",\"lightblue\",\"lightblue\",\"lightblue\",\"lightblue\",\"lightblue\",\"lightblue\",\"lightblue\",\"lightblue\",\"lightblue\",\"lightblue\",\"lightblue\",\"lightblue\",\"lightblue\",\"lightblue\",\"lightblue\",\"lightblue\",\"lightblue\",\"lightblue\",\"lightblue\",\"lightblue\",\"lightblue\",\"lightblue\",\"lightblue\",\"lightblue\",\"lightblue\",\"lightblue\",\"lightblue\",\"lightblue\",\"lightblue\",\"lightblue\",\"lightblue\",\"lightblue\",\"lightblue\",\"lightblue\",\"lightblue\",\"lightblue\",\"lightblue\",\"lightblue\",\"lightblue\",\"lightblue\",\"lightblue\",\"lightblue\",\"lightblue\",\"lightblue\",\"lightblue\",\"lightblue\",\"lightblue\",\"lightblue\",\"lightblue\",\"lightblue\",\"lightblue\",\"lightblue\",\"lightblue\",\"lightblue\",\"lightblue\",\"lightblue\",\"lightblue\",\"lightblue\",\"lightblue\",\"lightblue\",\"lightblue\",\"lightblue\",\"lightblue\",\"lightblue\",\"lightblue\",\"lightblue\"],\"colorscale\":[[0.0,\"rgb(255,255,217)\"],[0.125,\"rgb(237,248,177)\"],[0.25,\"rgb(199,233,180)\"],[0.375,\"rgb(127,205,187)\"],[0.5,\"rgb(65,182,196)\"],[0.625,\"rgb(29,145,192)\"],[0.75,\"rgb(34,94,168)\"],[0.875,\"rgb(37,52,148)\"],[1.0,\"rgb(8,29,88)\"]],\"line\":{\"width\":2},\"showscale\":false,\"size\":[10,25,25,25,10,10,25,10,10,10,10,10,10,10,10,10,10,10,10,10,10,10,10,10,10,10,10,10,10,10,10,10,10,10,10,10,10,10,10,10,10,10,10,10,10,10,10,10,10,10,10,10,10,10,10,10,10,10,10,10,10,10,10,10,10,10,10,10,10,10,10,10,10,10,10,10,10,10,10,10,10,10,10,10,10,10,10,10,10,10,10,10,10,10,10,10,10,10,10,10,10,10,10,10,10,10,10,10,10,10,10,10,10,10,10,10,10,10,10,10]},\"mode\":\"markers+text\",\"text\":[\"photo\",\"\",\"\",\"\",\"art\",\"new\",\"\",\"artist\",\"trump\",\"one\",\"show\",\"year\",\"video\",\"time\",\"woman\",\"world\",\"make\",\"week\",\"first\",\"look\",\"day\",\"work\",\"people\",\"book\",\"life\",\"imageblog\",\"donald\",\"love\",\"film\",\"star\",\"take\",\"style\",\"best\",\"know\",\"snl\",\"see\",\"music\",\"would\",\"fashion\",\"story\",\"colbert\",\"night\",\"exhibition\",\"york\",\"two\",\"museum\",\"movie\",\"back\",\"gallery\",\"american\",\"painting\",\"may\",\"say\",\"theater\",\"child\",\"kid\",\"school\",\"student\",\"help\",\"college\",\"many\",\"family\",\"change\",\"man\",\"right\",\"black\",\"state\",\"climate\",\"parent\",\"dog\",\"good\",\"even\",\"mom\",\"thing\",\"come\",\"police\",\"president\",\"attack\",\"news\",\"killed\",\"country\",\"shooting\",\"isi\",\"syria\",\"death\",\"iran\",\"war\",\"leader\",\"korea\",\"russia\",\"dead\",\"medium\",\"government\",\"city\",\"officer\",\"official\",\"report\",\"north\",\"syrian\",\"former\",\"china\",\"election\",\"recipe\",\"wedding\",\"divorce\",\"food\",\"home\",\"find\",\"way\",\"health\",\"think\",\"better\",\"study\",\"really\",\"never\",\"much\",\"every\",\"feel\",\"marriage\",\"ever\"],\"textposition\":\"bottom center\",\"x\":[26.67688268200002,-10.0,26.666666666666664,100.0,-17.80314765540682,40.926912873468474,63.33333333333333,-22.008983547412864,37.76513889169262,44.43446031355681,31.03463440502722,45.36793492999651,36.209282834914404,46.78637827095807,51.10264936547844,48.1150891415832,41.316331089617485,43.883909473648416,41.24230930454041,31.838947762860144,49.43407248419864,34.48446826994592,52.19262699206067,-27.636535421140454,46.171832913618694,-18.031274752953802,24.26033552907366,38.54548564472384,-24.376403180081766,-28.274970645310002,43.23329875425318,-34.12912166505686,39.87560008944788,45.90705170531836,-31.539562201451645,36.782085022251636,-33.98914073074938,47.37110790506538,-31.585006078167773,-39.07974766970196,-20.589404129126915,-39.243401088151,-26.97745646254969,-31.787438008150723,46.175542675858715,-39.593865975272124,-38.09815660658483,44.155832046326225,-43.10608944321647,51.89120056551262,-38.359802742206575,48.876448643154184,50.48321280332101,-45.500057170681295,92.99979402877321,117.16654411168868,97.11516197044972,121.64922165348301,69.66600224205773,123.7213646047195,66.36294023675917,72.62515082721134,116.78688102041205,88.19956236956997,69.23543067729867,122.68932333880272,82.22576732632884,130.4518105132431,130.559865691038,129.0343186768115,61.9174924862382,64.01102078899078,128.93836134467415,60.75534320252005,67.20251822899293,70.44061057983596,77.24980692202422,65.8776364009494,77.62226864808919,57.21873088835043,84.88487884492558,73.98079800907273,85.18453627904992,85.44842923635258,60.953318978876986,81.6488351830929,69.89095838588152,92.95822876584452,78.2532644633029,65.51125461895217,60.72094001095556,50.5242006598585,69.42103768363778,86.43911072217243,81.41017405513135,55.054825313177155,85.65572511199527,75.14675007041087,95.78573674310891,90.9748934060953,93.71753503938832,86.99905808256362,21.901189504880627,10.083033531339755,11.420476759184004,7.978866975058582,14.948597469816047,1.4534750624558694,27.046934286805786,19.350432423250925,7.418176927169618,1.5089445791659117,11.995299005624625,31.870889835827832,-2.917831254434453,19.870724923215434,0.1874345888657119,5.170859843824056,12.665923551927792,25.50313267162839],\"y\":[14.225230433185052,20.0,2.0,6.0,25.515119980935985,14.272576402075785,24.0,17.967138309712976,21.905987977902953,11.74061032213265,18.256057420502163,13.686478308270908,12.372494700192691,10.503036778311209,13.112272730266811,14.000353638941565,8.321044297886862,16.274576086517012,17.219469441551055,11.090567178194322,9.41813154501429,15.66696436098218,11.012182359812856,24.987991888187196,6.379745861462486,37.91564221491606,28.76986333249657,8.833578279325915,34.63696847412582,10.001530530852751,4.531188312859462,25.207277188025365,2.936221504445307,2.5237428929044556,33.0847906406282,5.173053803143999,15.204844784672865,16.958049905100854,2.738048122117153,20.27754927978552,46.10630415380133,11.425449356484702,44.71243128713752,40.98169769494892,24.612392437933828,32.17312059543919,5.0730486177359255,22.284956797203566,26.437378953196873,19.19998778184831,39.09368281677519,5.8430278598214835,23.136531232712326,16.847646884585,12.768853755693936,-4.93602838566959,17.667529701595683,6.680297900075719,-1.5648887093165473,-1.3421310730266336,-2.583767920768202,-7.311731031040678,-14.559170320273356,17.464954671037173,5.987795734866909,-11.697816096750248,15.91887638146815,-0.43235243152552505,6.502470558227425,13.298193204074131,-3.2119209803246944,-7.342972495150307,-8.323574012456525,-9.261815010241566,-11.669944490848891,33.25873997119757,26.388348095827514,40.54541957400515,35.300820701264726,43.07727154852335,25.053288559089445,42.712717646385904,31.07636468532566,36.7866943992098,47.89725770397128,41.945747662879924,48.23960618473971,28.51128965705673,49.176248818097896,53.72897429925394,56.76120580428473,50.895385168515936,57.52912010332923,10.524123155422341,53.71363853594478,54.99468270251573,48.54047539655713,55.816824521123436,34.55910644049508,46.33361879488576,40.7037238768374,4.040900211395893,-14.000344737894478,-1.7477853053827281,-7.863964345221888,5.0595106306486155,-13.522599291781786,-2.0145413826507985,-23.904205037913016,-22.845550626028533,-18.106369713603677,-13.38127339539043,-24.326437166922517,-29.180854949095135,-8.955777525315884,-30.582486354890378,-20.45013958008468,-26.86027786128828,-31.797348876864195,-34.546479245410545],\"type\":\"scatter\"}],                        {\"height\":600,\"hovermode\":\"closest\",\"margin\":{\"b\":20,\"l\":5,\"r\":5,\"t\":40},\"showlegend\":false,\"title\":{\"text\":\"Keyword-Cluster Network Graph\"},\"width\":1000,\"xaxis\":{\"showgrid\":false,\"showticklabels\":false,\"zeroline\":false},\"yaxis\":{\"showgrid\":false,\"showticklabels\":false,\"zeroline\":false},\"template\":{\"data\":{\"histogram2dcontour\":[{\"type\":\"histogram2dcontour\",\"colorbar\":{\"outlinewidth\":0,\"ticks\":\"\"},\"colorscale\":[[0.0,\"#0d0887\"],[0.1111111111111111,\"#46039f\"],[0.2222222222222222,\"#7201a8\"],[0.3333333333333333,\"#9c179e\"],[0.4444444444444444,\"#bd3786\"],[0.5555555555555556,\"#d8576b\"],[0.6666666666666666,\"#ed7953\"],[0.7777777777777778,\"#fb9f3a\"],[0.8888888888888888,\"#fdca26\"],[1.0,\"#f0f921\"]]}],\"choropleth\":[{\"type\":\"choropleth\",\"colorbar\":{\"outlinewidth\":0,\"ticks\":\"\"}}],\"histogram2d\":[{\"type\":\"histogram2d\",\"colorbar\":{\"outlinewidth\":0,\"ticks\":\"\"},\"colorscale\":[[0.0,\"#0d0887\"],[0.1111111111111111,\"#46039f\"],[0.2222222222222222,\"#7201a8\"],[0.3333333333333333,\"#9c179e\"],[0.4444444444444444,\"#bd3786\"],[0.5555555555555556,\"#d8576b\"],[0.6666666666666666,\"#ed7953\"],[0.7777777777777778,\"#fb9f3a\"],[0.8888888888888888,\"#fdca26\"],[1.0,\"#f0f921\"]]}],\"heatmap\":[{\"type\":\"heatmap\",\"colorbar\":{\"outlinewidth\":0,\"ticks\":\"\"},\"colorscale\":[[0.0,\"#0d0887\"],[0.1111111111111111,\"#46039f\"],[0.2222222222222222,\"#7201a8\"],[0.3333333333333333,\"#9c179e\"],[0.4444444444444444,\"#bd3786\"],[0.5555555555555556,\"#d8576b\"],[0.6666666666666666,\"#ed7953\"],[0.7777777777777778,\"#fb9f3a\"],[0.8888888888888888,\"#fdca26\"],[1.0,\"#f0f921\"]]}],\"heatmapgl\":[{\"type\":\"heatmapgl\",\"colorbar\":{\"outlinewidth\":0,\"ticks\":\"\"},\"colorscale\":[[0.0,\"#0d0887\"],[0.1111111111111111,\"#46039f\"],[0.2222222222222222,\"#7201a8\"],[0.3333333333333333,\"#9c179e\"],[0.4444444444444444,\"#bd3786\"],[0.5555555555555556,\"#d8576b\"],[0.6666666666666666,\"#ed7953\"],[0.7777777777777778,\"#fb9f3a\"],[0.8888888888888888,\"#fdca26\"],[1.0,\"#f0f921\"]]}],\"contourcarpet\":[{\"type\":\"contourcarpet\",\"colorbar\":{\"outlinewidth\":0,\"ticks\":\"\"}}],\"contour\":[{\"type\":\"contour\",\"colorbar\":{\"outlinewidth\":0,\"ticks\":\"\"},\"colorscale\":[[0.0,\"#0d0887\"],[0.1111111111111111,\"#46039f\"],[0.2222222222222222,\"#7201a8\"],[0.3333333333333333,\"#9c179e\"],[0.4444444444444444,\"#bd3786\"],[0.5555555555555556,\"#d8576b\"],[0.6666666666666666,\"#ed7953\"],[0.7777777777777778,\"#fb9f3a\"],[0.8888888888888888,\"#fdca26\"],[1.0,\"#f0f921\"]]}],\"surface\":[{\"type\":\"surface\",\"colorbar\":{\"outlinewidth\":0,\"ticks\":\"\"},\"colorscale\":[[0.0,\"#0d0887\"],[0.1111111111111111,\"#46039f\"],[0.2222222222222222,\"#7201a8\"],[0.3333333333333333,\"#9c179e\"],[0.4444444444444444,\"#bd3786\"],[0.5555555555555556,\"#d8576b\"],[0.6666666666666666,\"#ed7953\"],[0.7777777777777778,\"#fb9f3a\"],[0.8888888888888888,\"#fdca26\"],[1.0,\"#f0f921\"]]}],\"mesh3d\":[{\"type\":\"mesh3d\",\"colorbar\":{\"outlinewidth\":0,\"ticks\":\"\"}}],\"scatter\":[{\"fillpattern\":{\"fillmode\":\"overlay\",\"size\":10,\"solidity\":0.2},\"type\":\"scatter\"}],\"parcoords\":[{\"type\":\"parcoords\",\"line\":{\"colorbar\":{\"outlinewidth\":0,\"ticks\":\"\"}}}],\"scatterpolargl\":[{\"type\":\"scatterpolargl\",\"marker\":{\"colorbar\":{\"outlinewidth\":0,\"ticks\":\"\"}}}],\"bar\":[{\"error_x\":{\"color\":\"#2a3f5f\"},\"error_y\":{\"color\":\"#2a3f5f\"},\"marker\":{\"line\":{\"color\":\"#E5ECF6\",\"width\":0.5},\"pattern\":{\"fillmode\":\"overlay\",\"size\":10,\"solidity\":0.2}},\"type\":\"bar\"}],\"scattergeo\":[{\"type\":\"scattergeo\",\"marker\":{\"colorbar\":{\"outlinewidth\":0,\"ticks\":\"\"}}}],\"scatterpolar\":[{\"type\":\"scatterpolar\",\"marker\":{\"colorbar\":{\"outlinewidth\":0,\"ticks\":\"\"}}}],\"histogram\":[{\"marker\":{\"pattern\":{\"fillmode\":\"overlay\",\"size\":10,\"solidity\":0.2}},\"type\":\"histogram\"}],\"scattergl\":[{\"type\":\"scattergl\",\"marker\":{\"colorbar\":{\"outlinewidth\":0,\"ticks\":\"\"}}}],\"scatter3d\":[{\"type\":\"scatter3d\",\"line\":{\"colorbar\":{\"outlinewidth\":0,\"ticks\":\"\"}},\"marker\":{\"colorbar\":{\"outlinewidth\":0,\"ticks\":\"\"}}}],\"scattermapbox\":[{\"type\":\"scattermapbox\",\"marker\":{\"colorbar\":{\"outlinewidth\":0,\"ticks\":\"\"}}}],\"scatterternary\":[{\"type\":\"scatterternary\",\"marker\":{\"colorbar\":{\"outlinewidth\":0,\"ticks\":\"\"}}}],\"scattercarpet\":[{\"type\":\"scattercarpet\",\"marker\":{\"colorbar\":{\"outlinewidth\":0,\"ticks\":\"\"}}}],\"carpet\":[{\"aaxis\":{\"endlinecolor\":\"#2a3f5f\",\"gridcolor\":\"white\",\"linecolor\":\"white\",\"minorgridcolor\":\"white\",\"startlinecolor\":\"#2a3f5f\"},\"baxis\":{\"endlinecolor\":\"#2a3f5f\",\"gridcolor\":\"white\",\"linecolor\":\"white\",\"minorgridcolor\":\"white\",\"startlinecolor\":\"#2a3f5f\"},\"type\":\"carpet\"}],\"table\":[{\"cells\":{\"fill\":{\"color\":\"#EBF0F8\"},\"line\":{\"color\":\"white\"}},\"header\":{\"fill\":{\"color\":\"#C8D4E3\"},\"line\":{\"color\":\"white\"}},\"type\":\"table\"}],\"barpolar\":[{\"marker\":{\"line\":{\"color\":\"#E5ECF6\",\"width\":0.5},\"pattern\":{\"fillmode\":\"overlay\",\"size\":10,\"solidity\":0.2}},\"type\":\"barpolar\"}],\"pie\":[{\"automargin\":true,\"type\":\"pie\"}]},\"layout\":{\"autotypenumbers\":\"strict\",\"colorway\":[\"#636efa\",\"#EF553B\",\"#00cc96\",\"#ab63fa\",\"#FFA15A\",\"#19d3f3\",\"#FF6692\",\"#B6E880\",\"#FF97FF\",\"#FECB52\"],\"font\":{\"color\":\"#2a3f5f\"},\"hovermode\":\"closest\",\"hoverlabel\":{\"align\":\"left\"},\"paper_bgcolor\":\"white\",\"plot_bgcolor\":\"#E5ECF6\",\"polar\":{\"bgcolor\":\"#E5ECF6\",\"angularaxis\":{\"gridcolor\":\"white\",\"linecolor\":\"white\",\"ticks\":\"\"},\"radialaxis\":{\"gridcolor\":\"white\",\"linecolor\":\"white\",\"ticks\":\"\"}},\"ternary\":{\"bgcolor\":\"#E5ECF6\",\"aaxis\":{\"gridcolor\":\"white\",\"linecolor\":\"white\",\"ticks\":\"\"},\"baxis\":{\"gridcolor\":\"white\",\"linecolor\":\"white\",\"ticks\":\"\"},\"caxis\":{\"gridcolor\":\"white\",\"linecolor\":\"white\",\"ticks\":\"\"}},\"coloraxis\":{\"colorbar\":{\"outlinewidth\":0,\"ticks\":\"\"}},\"colorscale\":{\"sequential\":[[0.0,\"#0d0887\"],[0.1111111111111111,\"#46039f\"],[0.2222222222222222,\"#7201a8\"],[0.3333333333333333,\"#9c179e\"],[0.4444444444444444,\"#bd3786\"],[0.5555555555555556,\"#d8576b\"],[0.6666666666666666,\"#ed7953\"],[0.7777777777777778,\"#fb9f3a\"],[0.8888888888888888,\"#fdca26\"],[1.0,\"#f0f921\"]],\"sequentialminus\":[[0.0,\"#0d0887\"],[0.1111111111111111,\"#46039f\"],[0.2222222222222222,\"#7201a8\"],[0.3333333333333333,\"#9c179e\"],[0.4444444444444444,\"#bd3786\"],[0.5555555555555556,\"#d8576b\"],[0.6666666666666666,\"#ed7953\"],[0.7777777777777778,\"#fb9f3a\"],[0.8888888888888888,\"#fdca26\"],[1.0,\"#f0f921\"]],\"diverging\":[[0,\"#8e0152\"],[0.1,\"#c51b7d\"],[0.2,\"#de77ae\"],[0.3,\"#f1b6da\"],[0.4,\"#fde0ef\"],[0.5,\"#f7f7f7\"],[0.6,\"#e6f5d0\"],[0.7,\"#b8e186\"],[0.8,\"#7fbc41\"],[0.9,\"#4d9221\"],[1,\"#276419\"]]},\"xaxis\":{\"gridcolor\":\"white\",\"linecolor\":\"white\",\"ticks\":\"\",\"title\":{\"standoff\":15},\"zerolinecolor\":\"white\",\"automargin\":true,\"zerolinewidth\":2},\"yaxis\":{\"gridcolor\":\"white\",\"linecolor\":\"white\",\"ticks\":\"\",\"title\":{\"standoff\":15},\"zerolinecolor\":\"white\",\"automargin\":true,\"zerolinewidth\":2},\"scene\":{\"xaxis\":{\"backgroundcolor\":\"#E5ECF6\",\"gridcolor\":\"white\",\"linecolor\":\"white\",\"showbackground\":true,\"ticks\":\"\",\"zerolinecolor\":\"white\",\"gridwidth\":2},\"yaxis\":{\"backgroundcolor\":\"#E5ECF6\",\"gridcolor\":\"white\",\"linecolor\":\"white\",\"showbackground\":true,\"ticks\":\"\",\"zerolinecolor\":\"white\",\"gridwidth\":2},\"zaxis\":{\"backgroundcolor\":\"#E5ECF6\",\"gridcolor\":\"white\",\"linecolor\":\"white\",\"showbackground\":true,\"ticks\":\"\",\"zerolinecolor\":\"white\",\"gridwidth\":2}},\"shapedefaults\":{\"line\":{\"color\":\"#2a3f5f\"}},\"annotationdefaults\":{\"arrowcolor\":\"#2a3f5f\",\"arrowhead\":0,\"arrowwidth\":1},\"geo\":{\"bgcolor\":\"white\",\"landcolor\":\"#E5ECF6\",\"subunitcolor\":\"white\",\"showland\":true,\"showlakes\":true,\"lakecolor\":\"white\"},\"title\":{\"x\":0.05},\"mapbox\":{\"style\":\"light\"}}},\"annotations\":[{\"bgcolor\":\"lightgreen\",\"borderpad\":4,\"font\":{\"color\":\"black\",\"size\":10},\"showarrow\":false,\"text\":\"ENTERTAINMENT - ARTS - ARTS & CULTURE\",\"textangle\":0,\"x\":26.666666666666664,\"y\":2.0,\"yanchor\":\"bottom\"},{\"bgcolor\":\"lightgreen\",\"borderpad\":4,\"font\":{\"color\":\"black\",\"size\":10},\"showarrow\":false,\"text\":\"IMPACT - BUSINESS - PARENTING\",\"textangle\":0,\"x\":-10.0,\"y\":20.0,\"yanchor\":\"bottom\"},{\"bgcolor\":\"lightgreen\",\"borderpad\":4,\"font\":{\"color\":\"black\",\"size\":10},\"showarrow\":false,\"text\":\"POLITICS - WORLD NEWS - THE WORLDPOST\",\"textangle\":0,\"x\":63.33333333333333,\"y\":24.0,\"yanchor\":\"bottom\"},{\"bgcolor\":\"lightgreen\",\"borderpad\":4,\"font\":{\"color\":\"black\",\"size\":10},\"showarrow\":false,\"text\":\"WELLNESS - HEALTHY LIVING - FIFTY\",\"textangle\":0,\"x\":100.0,\"y\":6.0,\"yanchor\":\"bottom\"}]},                        {\"responsive\": true}                    ).then(function(){\n",
       "                            \n",
       "var gd = document.getElementById('fa9deadd-3235-44a8-baab-592764d56253');\n",
       "var x = new MutationObserver(function (mutations, observer) {{\n",
       "        var display = window.getComputedStyle(gd).display;\n",
       "        if (!display || display === 'none') {{\n",
       "            console.log([gd, 'removed!']);\n",
       "            Plotly.purge(gd);\n",
       "            observer.disconnect();\n",
       "        }}\n",
       "}});\n",
       "\n",
       "// Listen for the removal of the full notebook cells\n",
       "var notebookContainer = gd.closest('#notebook-container');\n",
       "if (notebookContainer) {{\n",
       "    x.observe(notebookContainer, {childList: true});\n",
       "}}\n",
       "\n",
       "// Listen for the clearing of the current output cell\n",
       "var outputEl = gd.closest('.output');\n",
       "if (outputEl) {{\n",
       "    x.observe(outputEl, {childList: true});\n",
       "}}\n",
       "\n",
       "                        })                };                });            </script>        </div>"
      ]
     },
     "metadata": {},
     "output_type": "display_data"
    }
   ],
   "execution_count": 1275
  },
  {
   "metadata": {},
   "cell_type": "markdown",
   "source": "## Visualize Category Clusterization",
   "id": "158e5c7d00dcca1"
  },
  {
   "metadata": {
    "ExecuteTime": {
     "end_time": "2025-01-24T17:56:47.616331Z",
     "start_time": "2025-01-24T17:56:47.597570Z"
    }
   },
   "cell_type": "code",
   "source": [
    "import plotly.graph_objects as go\n",
    "\n",
    "size_scale_factor = 30\n",
    "marker_sizes = np.array(category_dominance_scores) * size_scale_factor\n",
    "\n",
    "fig = go.Figure(\n",
    "    data=[go.Scatter3d(\n",
    "        x=reduced_data[:, 0],\n",
    "        y=reduced_data[:, 1],\n",
    "        z=reduced_data[:, 2],\n",
    "        mode='markers',\n",
    "        marker=dict(\n",
    "            size=marker_sizes,\n",
    "            color=kmeans_results.labels_,\n",
    "            colorscale='Rainbow',\n",
    "            symbol='circle',\n",
    "        ),\n",
    "        text=category_names,\n",
    "        textposition='top center',\n",
    "    )],\n",
    "    layout=go.Layout(\n",
    "        width=1000,\n",
    "        height=1200,\n",
    "        scene=dict(\n",
    "            xaxis=dict(\n",
    "                showbackground=False,\n",
    "                showgrid=True,\n",
    "                gridcolor='#ddd',\n",
    "                zerolinecolor='black',\n",
    "            ),\n",
    "            yaxis=dict(\n",
    "                showbackground=False,\n",
    "                showgrid=True,\n",
    "                gridcolor='#ddd',\n",
    "                zerolinecolor='black',\n",
    "            ),\n",
    "            zaxis=dict(\n",
    "                showbackground=False,\n",
    "                showgrid=True,\n",
    "                gridcolor='#ddd',\n",
    "                zerolinecolor='black',\n",
    "            ),\n",
    "            xaxis_title='t-SNE Dimension 1',\n",
    "            yaxis_title='t-SNE Dimension 2',\n",
    "            zaxis_title='t-SNE Dimension 3',\n",
    "        ),\n",
    "        title='K-Means Clustering Visualization with t-SNE'\n",
    "    ),\n",
    ")\n",
    "\n",
    "\n",
    "fig.update_traces(mode='markers+text')\n",
    "\n",
    "fig.show()"
   ],
   "id": "91675bac39315d3",
   "outputs": [
    {
     "data": {
      "application/vnd.plotly.v1+json": {
       "data": [
        {
         "marker": {
          "color": [
           1,
           1,
           3,
           3,
           3,
           1,
           2,
           1,
           0,
           3,
           1,
           3,
           0,
           0,
           3,
           3,
           0,
           0,
           3,
           3,
           2,
           3,
           3,
           3,
           2,
           3,
           3,
           0,
           3,
           0,
           1,
           0,
           3,
           2,
           3,
           2,
           0,
           3,
           0,
           3,
           2,
           2
          ],
          "colorscale": [
           [
            0.0,
            "rgb(150,0,90)"
           ],
           [
            0.125,
            "rgb(0,0,200)"
           ],
           [
            0.25,
            "rgb(0,25,255)"
           ],
           [
            0.375,
            "rgb(0,152,255)"
           ],
           [
            0.5,
            "rgb(44,255,150)"
           ],
           [
            0.625,
            "rgb(151,255,0)"
           ],
           [
            0.75,
            "rgb(255,234,0)"
           ],
           [
            0.875,
            "rgb(255,111,0)"
           ],
           [
            1.0,
            "rgb(255,0,0)"
           ]
          ],
          "size": [
           15.12878202223267,
           15.087293900135702,
           12.764449335072985,
           14.796502605572416,
           10.132759348162947,
           13.499858697544006,
           12.322294262119499,
           14.687309722602393,
           9.948806385295171,
           10.554647538395777,
           20.054331037463324,
           12.035457844268834,
           15.066715124007997,
           13.973894049703869,
           13.449888881298442,
           12.382211410137401,
           16.41895042564281,
           11.931505088632665,
           15.922341250167209,
           10.096536354071931,
           12.631828055676543,
           12.109406210702199,
           14.717047430093956,
           13.424234580469719,
           21.205945978886838,
           11.755944121624177,
           11.166628503416954,
           11.565281016950246,
           11.258333456420553,
           12.096588611788912,
           14.56859092406792,
           12.928647730531141,
           11.31980937299083,
           15.787558255669262,
           13.655921423203951,
           14.43333434059103,
           9.660244102433298,
           13.183332013408767,
           19.17485529092882,
           12.077736567064555,
           16.24621046818633,
           14.07314744313892
          ],
          "symbol": "circle"
         },
         "mode": "markers+text",
         "text": [
          "ARTS",
          "ARTS & CULTURE",
          "BLACK VOICES",
          "BUSINESS",
          "COLLEGE",
          "COMEDY",
          "CRIME",
          "CULTURE & ARTS",
          "DIVORCE",
          "EDUCATION",
          "ENTERTAINMENT",
          "ENVIRONMENT",
          "FIFTY",
          "FOOD & DRINK",
          "GOOD NEWS",
          "GREEN",
          "HEALTHY LIVING",
          "HOME & LIVING",
          "IMPACT",
          "LATINO VOICES",
          "MEDIA",
          "MONEY",
          "PARENTING",
          "PARENTS",
          "POLITICS",
          "QUEER VOICES",
          "RELIGION",
          "SCIENCE",
          "SPORTS",
          "STYLE",
          "STYLE & BEAUTY",
          "TASTE",
          "TECH",
          "THE WORLDPOST",
          "TRAVEL",
          "U.S. NEWS",
          "WEDDINGS",
          "WEIRD NEWS",
          "WELLNESS",
          "WOMEN",
          "WORLD NEWS",
          "WORLDPOST"
         ],
         "textposition": "top center",
         "x": [
          61.72544860839844,
          -49.53342819213867,
          -21.620695114135742,
          8.725614547729492,
          -49.80487823486328,
          -23.827280044555664,
          -67.1734619140625,
          12.261228561401367,
          130.98362731933594,
          79.36148071289062,
          116.07036590576172,
          84.84814453125,
          -15.902754783630371,
          -122.91083526611328,
          -102.03998565673828,
          130.6554718017578,
          -1.3327580690383911,
          83.09930419921875,
          21.214399337768555,
          -87.0833969116211,
          61.77947235107422,
          59.508934020996094,
          8.986236572265625,
          -84.00897979736328,
          -127.25482940673828,
          1.818231225013733,
          15.38183307647705,
          51.271270751953125,
          -26.713062286376953,
          -85.87396240234375,
          -62.7916145324707,
          -144.06932067871094,
          -79.67874908447266,
          49.40025329589844,
          29.110746383666992,
          -40.75907516479492,
          86.97692108154297,
          -31.67025375366211,
          52.69866943359375,
          123.61328125,
          7.314555644989014,
          -8.06032657623291
         ],
         "y": [
          1.3981692790985107,
          7.2646613121032715,
          7.631618022918701,
          138.5550537109375,
          -60.295467376708984,
          -8.198566436767578,
          -68.20075988769531,
          -30.374618530273438,
          -21.999374389648438,
          44.65574264526367,
          58.30368423461914,
          -49.621402740478516,
          -33.810157775878906,
          -68.75194549560547,
          71.37551879882812,
          -21.53309440612793,
          68.54154968261719,
          -97.85778045654297,
          -82.17330932617188,
          45.611270904541016,
          94.05794525146484,
          -21.99071502685547,
          -104.0262222290039,
          34.96389389038086,
          -7.436579704284668,
          73.81544494628906,
          -95.66517639160156,
          14.056495666503906,
          4.144829750061035,
          -39.625572204589844,
          117.83727264404297,
          -21.40593719482422,
          -115.52527618408203,
          34.75122833251953,
          -48.99644470214844,
          114.93253326416016,
          -117.7201156616211,
          -117.02385711669922,
          100.42747497558594,
          59.19437026977539,
          73.31388854980469,
          46.09578323364258
         ],
         "z": [
          69.16352844238281,
          72.35121154785156,
          141.75094604492188,
          -1.7715805768966675,
          -88.05532836914062,
          -140.94314575195312,
          98.11611938476562,
          75.42523956298828,
          -66.51422882080078,
          130.23583984375,
          -73.07941436767578,
          1.935314655303955,
          7.452331066131592,
          -78.3454818725586,
          39.67176055908203,
          25.552064895629883,
          -34.64105987548828,
          58.26144027709961,
          -93.20003509521484,
          -101.69951629638672,
          40.4943733215332,
          -117.04304504394531,
          22.730928421020508,
          -18.668020248413086,
          63.35067367553711,
          -120.7353515625,
          114.66537475585938,
          -4.348320484161377,
          -56.99587631225586,
          1.4873461723327637,
          -53.1051139831543,
          -49.7628173828125,
          23.875308990478516,
          -73.4340591430664,
          -37.01279067993164,
          55.81730651855469,
          -44.62989044189453,
          -39.575889587402344,
          -42.98477554321289,
          9.898113250732422,
          92.22615051269531,
          30.45265769958496
         ],
         "type": "scatter3d"
        }
       ],
       "layout": {
        "height": 1200,
        "scene": {
         "xaxis": {
          "gridcolor": "#ddd",
          "showbackground": false,
          "showgrid": true,
          "title": {
           "text": "t-SNE Dimension 1"
          },
          "zerolinecolor": "black"
         },
         "yaxis": {
          "gridcolor": "#ddd",
          "showbackground": false,
          "showgrid": true,
          "title": {
           "text": "t-SNE Dimension 2"
          },
          "zerolinecolor": "black"
         },
         "zaxis": {
          "gridcolor": "#ddd",
          "showbackground": false,
          "showgrid": true,
          "title": {
           "text": "t-SNE Dimension 3"
          },
          "zerolinecolor": "black"
         }
        },
        "title": {
         "text": "K-Means Clustering Visualization with t-SNE"
        },
        "width": 1000,
        "template": {
         "data": {
          "histogram2dcontour": [
           {
            "type": "histogram2dcontour",
            "colorbar": {
             "outlinewidth": 0,
             "ticks": ""
            },
            "colorscale": [
             [
              0.0,
              "#0d0887"
             ],
             [
              0.1111111111111111,
              "#46039f"
             ],
             [
              0.2222222222222222,
              "#7201a8"
             ],
             [
              0.3333333333333333,
              "#9c179e"
             ],
             [
              0.4444444444444444,
              "#bd3786"
             ],
             [
              0.5555555555555556,
              "#d8576b"
             ],
             [
              0.6666666666666666,
              "#ed7953"
             ],
             [
              0.7777777777777778,
              "#fb9f3a"
             ],
             [
              0.8888888888888888,
              "#fdca26"
             ],
             [
              1.0,
              "#f0f921"
             ]
            ]
           }
          ],
          "choropleth": [
           {
            "type": "choropleth",
            "colorbar": {
             "outlinewidth": 0,
             "ticks": ""
            }
           }
          ],
          "histogram2d": [
           {
            "type": "histogram2d",
            "colorbar": {
             "outlinewidth": 0,
             "ticks": ""
            },
            "colorscale": [
             [
              0.0,
              "#0d0887"
             ],
             [
              0.1111111111111111,
              "#46039f"
             ],
             [
              0.2222222222222222,
              "#7201a8"
             ],
             [
              0.3333333333333333,
              "#9c179e"
             ],
             [
              0.4444444444444444,
              "#bd3786"
             ],
             [
              0.5555555555555556,
              "#d8576b"
             ],
             [
              0.6666666666666666,
              "#ed7953"
             ],
             [
              0.7777777777777778,
              "#fb9f3a"
             ],
             [
              0.8888888888888888,
              "#fdca26"
             ],
             [
              1.0,
              "#f0f921"
             ]
            ]
           }
          ],
          "heatmap": [
           {
            "type": "heatmap",
            "colorbar": {
             "outlinewidth": 0,
             "ticks": ""
            },
            "colorscale": [
             [
              0.0,
              "#0d0887"
             ],
             [
              0.1111111111111111,
              "#46039f"
             ],
             [
              0.2222222222222222,
              "#7201a8"
             ],
             [
              0.3333333333333333,
              "#9c179e"
             ],
             [
              0.4444444444444444,
              "#bd3786"
             ],
             [
              0.5555555555555556,
              "#d8576b"
             ],
             [
              0.6666666666666666,
              "#ed7953"
             ],
             [
              0.7777777777777778,
              "#fb9f3a"
             ],
             [
              0.8888888888888888,
              "#fdca26"
             ],
             [
              1.0,
              "#f0f921"
             ]
            ]
           }
          ],
          "heatmapgl": [
           {
            "type": "heatmapgl",
            "colorbar": {
             "outlinewidth": 0,
             "ticks": ""
            },
            "colorscale": [
             [
              0.0,
              "#0d0887"
             ],
             [
              0.1111111111111111,
              "#46039f"
             ],
             [
              0.2222222222222222,
              "#7201a8"
             ],
             [
              0.3333333333333333,
              "#9c179e"
             ],
             [
              0.4444444444444444,
              "#bd3786"
             ],
             [
              0.5555555555555556,
              "#d8576b"
             ],
             [
              0.6666666666666666,
              "#ed7953"
             ],
             [
              0.7777777777777778,
              "#fb9f3a"
             ],
             [
              0.8888888888888888,
              "#fdca26"
             ],
             [
              1.0,
              "#f0f921"
             ]
            ]
           }
          ],
          "contourcarpet": [
           {
            "type": "contourcarpet",
            "colorbar": {
             "outlinewidth": 0,
             "ticks": ""
            }
           }
          ],
          "contour": [
           {
            "type": "contour",
            "colorbar": {
             "outlinewidth": 0,
             "ticks": ""
            },
            "colorscale": [
             [
              0.0,
              "#0d0887"
             ],
             [
              0.1111111111111111,
              "#46039f"
             ],
             [
              0.2222222222222222,
              "#7201a8"
             ],
             [
              0.3333333333333333,
              "#9c179e"
             ],
             [
              0.4444444444444444,
              "#bd3786"
             ],
             [
              0.5555555555555556,
              "#d8576b"
             ],
             [
              0.6666666666666666,
              "#ed7953"
             ],
             [
              0.7777777777777778,
              "#fb9f3a"
             ],
             [
              0.8888888888888888,
              "#fdca26"
             ],
             [
              1.0,
              "#f0f921"
             ]
            ]
           }
          ],
          "surface": [
           {
            "type": "surface",
            "colorbar": {
             "outlinewidth": 0,
             "ticks": ""
            },
            "colorscale": [
             [
              0.0,
              "#0d0887"
             ],
             [
              0.1111111111111111,
              "#46039f"
             ],
             [
              0.2222222222222222,
              "#7201a8"
             ],
             [
              0.3333333333333333,
              "#9c179e"
             ],
             [
              0.4444444444444444,
              "#bd3786"
             ],
             [
              0.5555555555555556,
              "#d8576b"
             ],
             [
              0.6666666666666666,
              "#ed7953"
             ],
             [
              0.7777777777777778,
              "#fb9f3a"
             ],
             [
              0.8888888888888888,
              "#fdca26"
             ],
             [
              1.0,
              "#f0f921"
             ]
            ]
           }
          ],
          "mesh3d": [
           {
            "type": "mesh3d",
            "colorbar": {
             "outlinewidth": 0,
             "ticks": ""
            }
           }
          ],
          "scatter": [
           {
            "fillpattern": {
             "fillmode": "overlay",
             "size": 10,
             "solidity": 0.2
            },
            "type": "scatter"
           }
          ],
          "parcoords": [
           {
            "type": "parcoords",
            "line": {
             "colorbar": {
              "outlinewidth": 0,
              "ticks": ""
             }
            }
           }
          ],
          "scatterpolargl": [
           {
            "type": "scatterpolargl",
            "marker": {
             "colorbar": {
              "outlinewidth": 0,
              "ticks": ""
             }
            }
           }
          ],
          "bar": [
           {
            "error_x": {
             "color": "#2a3f5f"
            },
            "error_y": {
             "color": "#2a3f5f"
            },
            "marker": {
             "line": {
              "color": "#E5ECF6",
              "width": 0.5
             },
             "pattern": {
              "fillmode": "overlay",
              "size": 10,
              "solidity": 0.2
             }
            },
            "type": "bar"
           }
          ],
          "scattergeo": [
           {
            "type": "scattergeo",
            "marker": {
             "colorbar": {
              "outlinewidth": 0,
              "ticks": ""
             }
            }
           }
          ],
          "scatterpolar": [
           {
            "type": "scatterpolar",
            "marker": {
             "colorbar": {
              "outlinewidth": 0,
              "ticks": ""
             }
            }
           }
          ],
          "histogram": [
           {
            "marker": {
             "pattern": {
              "fillmode": "overlay",
              "size": 10,
              "solidity": 0.2
             }
            },
            "type": "histogram"
           }
          ],
          "scattergl": [
           {
            "type": "scattergl",
            "marker": {
             "colorbar": {
              "outlinewidth": 0,
              "ticks": ""
             }
            }
           }
          ],
          "scatter3d": [
           {
            "type": "scatter3d",
            "line": {
             "colorbar": {
              "outlinewidth": 0,
              "ticks": ""
             }
            },
            "marker": {
             "colorbar": {
              "outlinewidth": 0,
              "ticks": ""
             }
            }
           }
          ],
          "scattermapbox": [
           {
            "type": "scattermapbox",
            "marker": {
             "colorbar": {
              "outlinewidth": 0,
              "ticks": ""
             }
            }
           }
          ],
          "scatterternary": [
           {
            "type": "scatterternary",
            "marker": {
             "colorbar": {
              "outlinewidth": 0,
              "ticks": ""
             }
            }
           }
          ],
          "scattercarpet": [
           {
            "type": "scattercarpet",
            "marker": {
             "colorbar": {
              "outlinewidth": 0,
              "ticks": ""
             }
            }
           }
          ],
          "carpet": [
           {
            "aaxis": {
             "endlinecolor": "#2a3f5f",
             "gridcolor": "white",
             "linecolor": "white",
             "minorgridcolor": "white",
             "startlinecolor": "#2a3f5f"
            },
            "baxis": {
             "endlinecolor": "#2a3f5f",
             "gridcolor": "white",
             "linecolor": "white",
             "minorgridcolor": "white",
             "startlinecolor": "#2a3f5f"
            },
            "type": "carpet"
           }
          ],
          "table": [
           {
            "cells": {
             "fill": {
              "color": "#EBF0F8"
             },
             "line": {
              "color": "white"
             }
            },
            "header": {
             "fill": {
              "color": "#C8D4E3"
             },
             "line": {
              "color": "white"
             }
            },
            "type": "table"
           }
          ],
          "barpolar": [
           {
            "marker": {
             "line": {
              "color": "#E5ECF6",
              "width": 0.5
             },
             "pattern": {
              "fillmode": "overlay",
              "size": 10,
              "solidity": 0.2
             }
            },
            "type": "barpolar"
           }
          ],
          "pie": [
           {
            "automargin": true,
            "type": "pie"
           }
          ]
         },
         "layout": {
          "autotypenumbers": "strict",
          "colorway": [
           "#636efa",
           "#EF553B",
           "#00cc96",
           "#ab63fa",
           "#FFA15A",
           "#19d3f3",
           "#FF6692",
           "#B6E880",
           "#FF97FF",
           "#FECB52"
          ],
          "font": {
           "color": "#2a3f5f"
          },
          "hovermode": "closest",
          "hoverlabel": {
           "align": "left"
          },
          "paper_bgcolor": "white",
          "plot_bgcolor": "#E5ECF6",
          "polar": {
           "bgcolor": "#E5ECF6",
           "angularaxis": {
            "gridcolor": "white",
            "linecolor": "white",
            "ticks": ""
           },
           "radialaxis": {
            "gridcolor": "white",
            "linecolor": "white",
            "ticks": ""
           }
          },
          "ternary": {
           "bgcolor": "#E5ECF6",
           "aaxis": {
            "gridcolor": "white",
            "linecolor": "white",
            "ticks": ""
           },
           "baxis": {
            "gridcolor": "white",
            "linecolor": "white",
            "ticks": ""
           },
           "caxis": {
            "gridcolor": "white",
            "linecolor": "white",
            "ticks": ""
           }
          },
          "coloraxis": {
           "colorbar": {
            "outlinewidth": 0,
            "ticks": ""
           }
          },
          "colorscale": {
           "sequential": [
            [
             0.0,
             "#0d0887"
            ],
            [
             0.1111111111111111,
             "#46039f"
            ],
            [
             0.2222222222222222,
             "#7201a8"
            ],
            [
             0.3333333333333333,
             "#9c179e"
            ],
            [
             0.4444444444444444,
             "#bd3786"
            ],
            [
             0.5555555555555556,
             "#d8576b"
            ],
            [
             0.6666666666666666,
             "#ed7953"
            ],
            [
             0.7777777777777778,
             "#fb9f3a"
            ],
            [
             0.8888888888888888,
             "#fdca26"
            ],
            [
             1.0,
             "#f0f921"
            ]
           ],
           "sequentialminus": [
            [
             0.0,
             "#0d0887"
            ],
            [
             0.1111111111111111,
             "#46039f"
            ],
            [
             0.2222222222222222,
             "#7201a8"
            ],
            [
             0.3333333333333333,
             "#9c179e"
            ],
            [
             0.4444444444444444,
             "#bd3786"
            ],
            [
             0.5555555555555556,
             "#d8576b"
            ],
            [
             0.6666666666666666,
             "#ed7953"
            ],
            [
             0.7777777777777778,
             "#fb9f3a"
            ],
            [
             0.8888888888888888,
             "#fdca26"
            ],
            [
             1.0,
             "#f0f921"
            ]
           ],
           "diverging": [
            [
             0,
             "#8e0152"
            ],
            [
             0.1,
             "#c51b7d"
            ],
            [
             0.2,
             "#de77ae"
            ],
            [
             0.3,
             "#f1b6da"
            ],
            [
             0.4,
             "#fde0ef"
            ],
            [
             0.5,
             "#f7f7f7"
            ],
            [
             0.6,
             "#e6f5d0"
            ],
            [
             0.7,
             "#b8e186"
            ],
            [
             0.8,
             "#7fbc41"
            ],
            [
             0.9,
             "#4d9221"
            ],
            [
             1,
             "#276419"
            ]
           ]
          },
          "xaxis": {
           "gridcolor": "white",
           "linecolor": "white",
           "ticks": "",
           "title": {
            "standoff": 15
           },
           "zerolinecolor": "white",
           "automargin": true,
           "zerolinewidth": 2
          },
          "yaxis": {
           "gridcolor": "white",
           "linecolor": "white",
           "ticks": "",
           "title": {
            "standoff": 15
           },
           "zerolinecolor": "white",
           "automargin": true,
           "zerolinewidth": 2
          },
          "scene": {
           "xaxis": {
            "backgroundcolor": "#E5ECF6",
            "gridcolor": "white",
            "linecolor": "white",
            "showbackground": true,
            "ticks": "",
            "zerolinecolor": "white",
            "gridwidth": 2
           },
           "yaxis": {
            "backgroundcolor": "#E5ECF6",
            "gridcolor": "white",
            "linecolor": "white",
            "showbackground": true,
            "ticks": "",
            "zerolinecolor": "white",
            "gridwidth": 2
           },
           "zaxis": {
            "backgroundcolor": "#E5ECF6",
            "gridcolor": "white",
            "linecolor": "white",
            "showbackground": true,
            "ticks": "",
            "zerolinecolor": "white",
            "gridwidth": 2
           }
          },
          "shapedefaults": {
           "line": {
            "color": "#2a3f5f"
           }
          },
          "annotationdefaults": {
           "arrowcolor": "#2a3f5f",
           "arrowhead": 0,
           "arrowwidth": 1
          },
          "geo": {
           "bgcolor": "white",
           "landcolor": "#E5ECF6",
           "subunitcolor": "white",
           "showland": true,
           "showlakes": true,
           "lakecolor": "white"
          },
          "title": {
           "x": 0.05
          },
          "mapbox": {
           "style": "light"
          }
         }
        }
       },
       "config": {
        "plotlyServerURL": "https://plot.ly"
       }
      },
      "text/html": [
       "<div>                            <div id=\"54087575-4324-4b82-93f8-8861f1f317cb\" class=\"plotly-graph-div\" style=\"height:1200px; width:1000px;\"></div>            <script type=\"text/javascript\">                require([\"plotly\"], function(Plotly) {                    window.PLOTLYENV=window.PLOTLYENV || {};                                    if (document.getElementById(\"54087575-4324-4b82-93f8-8861f1f317cb\")) {                    Plotly.newPlot(                        \"54087575-4324-4b82-93f8-8861f1f317cb\",                        [{\"marker\":{\"color\":[1,1,3,3,3,1,2,1,0,3,1,3,0,0,3,3,0,0,3,3,2,3,3,3,2,3,3,0,3,0,1,0,3,2,3,2,0,3,0,3,2,2],\"colorscale\":[[0.0,\"rgb(150,0,90)\"],[0.125,\"rgb(0,0,200)\"],[0.25,\"rgb(0,25,255)\"],[0.375,\"rgb(0,152,255)\"],[0.5,\"rgb(44,255,150)\"],[0.625,\"rgb(151,255,0)\"],[0.75,\"rgb(255,234,0)\"],[0.875,\"rgb(255,111,0)\"],[1.0,\"rgb(255,0,0)\"]],\"size\":[15.12878202223267,15.087293900135702,12.764449335072985,14.796502605572416,10.132759348162947,13.499858697544006,12.322294262119499,14.687309722602393,9.948806385295171,10.554647538395777,20.054331037463324,12.035457844268834,15.066715124007997,13.973894049703869,13.449888881298442,12.382211410137401,16.41895042564281,11.931505088632665,15.922341250167209,10.096536354071931,12.631828055676543,12.109406210702199,14.717047430093956,13.424234580469719,21.205945978886838,11.755944121624177,11.166628503416954,11.565281016950246,11.258333456420553,12.096588611788912,14.56859092406792,12.928647730531141,11.31980937299083,15.787558255669262,13.655921423203951,14.43333434059103,9.660244102433298,13.183332013408767,19.17485529092882,12.077736567064555,16.24621046818633,14.07314744313892],\"symbol\":\"circle\"},\"mode\":\"markers+text\",\"text\":[\"ARTS\",\"ARTS & CULTURE\",\"BLACK VOICES\",\"BUSINESS\",\"COLLEGE\",\"COMEDY\",\"CRIME\",\"CULTURE & ARTS\",\"DIVORCE\",\"EDUCATION\",\"ENTERTAINMENT\",\"ENVIRONMENT\",\"FIFTY\",\"FOOD & DRINK\",\"GOOD NEWS\",\"GREEN\",\"HEALTHY LIVING\",\"HOME & LIVING\",\"IMPACT\",\"LATINO VOICES\",\"MEDIA\",\"MONEY\",\"PARENTING\",\"PARENTS\",\"POLITICS\",\"QUEER VOICES\",\"RELIGION\",\"SCIENCE\",\"SPORTS\",\"STYLE\",\"STYLE & BEAUTY\",\"TASTE\",\"TECH\",\"THE WORLDPOST\",\"TRAVEL\",\"U.S. NEWS\",\"WEDDINGS\",\"WEIRD NEWS\",\"WELLNESS\",\"WOMEN\",\"WORLD NEWS\",\"WORLDPOST\"],\"textposition\":\"top center\",\"x\":[61.72544860839844,-49.53342819213867,-21.620695114135742,8.725614547729492,-49.80487823486328,-23.827280044555664,-67.1734619140625,12.261228561401367,130.98362731933594,79.36148071289062,116.07036590576172,84.84814453125,-15.902754783630371,-122.91083526611328,-102.03998565673828,130.6554718017578,-1.3327580690383911,83.09930419921875,21.214399337768555,-87.0833969116211,61.77947235107422,59.508934020996094,8.986236572265625,-84.00897979736328,-127.25482940673828,1.818231225013733,15.38183307647705,51.271270751953125,-26.713062286376953,-85.87396240234375,-62.7916145324707,-144.06932067871094,-79.67874908447266,49.40025329589844,29.110746383666992,-40.75907516479492,86.97692108154297,-31.67025375366211,52.69866943359375,123.61328125,7.314555644989014,-8.06032657623291],\"y\":[1.3981692790985107,7.2646613121032715,7.631618022918701,138.5550537109375,-60.295467376708984,-8.198566436767578,-68.20075988769531,-30.374618530273438,-21.999374389648438,44.65574264526367,58.30368423461914,-49.621402740478516,-33.810157775878906,-68.75194549560547,71.37551879882812,-21.53309440612793,68.54154968261719,-97.85778045654297,-82.17330932617188,45.611270904541016,94.05794525146484,-21.99071502685547,-104.0262222290039,34.96389389038086,-7.436579704284668,73.81544494628906,-95.66517639160156,14.056495666503906,4.144829750061035,-39.625572204589844,117.83727264404297,-21.40593719482422,-115.52527618408203,34.75122833251953,-48.99644470214844,114.93253326416016,-117.7201156616211,-117.02385711669922,100.42747497558594,59.19437026977539,73.31388854980469,46.09578323364258],\"z\":[69.16352844238281,72.35121154785156,141.75094604492188,-1.7715805768966675,-88.05532836914062,-140.94314575195312,98.11611938476562,75.42523956298828,-66.51422882080078,130.23583984375,-73.07941436767578,1.935314655303955,7.452331066131592,-78.3454818725586,39.67176055908203,25.552064895629883,-34.64105987548828,58.26144027709961,-93.20003509521484,-101.69951629638672,40.4943733215332,-117.04304504394531,22.730928421020508,-18.668020248413086,63.35067367553711,-120.7353515625,114.66537475585938,-4.348320484161377,-56.99587631225586,1.4873461723327637,-53.1051139831543,-49.7628173828125,23.875308990478516,-73.4340591430664,-37.01279067993164,55.81730651855469,-44.62989044189453,-39.575889587402344,-42.98477554321289,9.898113250732422,92.22615051269531,30.45265769958496],\"type\":\"scatter3d\"}],                        {\"height\":1200,\"scene\":{\"xaxis\":{\"gridcolor\":\"#ddd\",\"showbackground\":false,\"showgrid\":true,\"title\":{\"text\":\"t-SNE Dimension 1\"},\"zerolinecolor\":\"black\"},\"yaxis\":{\"gridcolor\":\"#ddd\",\"showbackground\":false,\"showgrid\":true,\"title\":{\"text\":\"t-SNE Dimension 2\"},\"zerolinecolor\":\"black\"},\"zaxis\":{\"gridcolor\":\"#ddd\",\"showbackground\":false,\"showgrid\":true,\"title\":{\"text\":\"t-SNE Dimension 3\"},\"zerolinecolor\":\"black\"}},\"title\":{\"text\":\"K-Means Clustering Visualization with t-SNE\"},\"width\":1000,\"template\":{\"data\":{\"histogram2dcontour\":[{\"type\":\"histogram2dcontour\",\"colorbar\":{\"outlinewidth\":0,\"ticks\":\"\"},\"colorscale\":[[0.0,\"#0d0887\"],[0.1111111111111111,\"#46039f\"],[0.2222222222222222,\"#7201a8\"],[0.3333333333333333,\"#9c179e\"],[0.4444444444444444,\"#bd3786\"],[0.5555555555555556,\"#d8576b\"],[0.6666666666666666,\"#ed7953\"],[0.7777777777777778,\"#fb9f3a\"],[0.8888888888888888,\"#fdca26\"],[1.0,\"#f0f921\"]]}],\"choropleth\":[{\"type\":\"choropleth\",\"colorbar\":{\"outlinewidth\":0,\"ticks\":\"\"}}],\"histogram2d\":[{\"type\":\"histogram2d\",\"colorbar\":{\"outlinewidth\":0,\"ticks\":\"\"},\"colorscale\":[[0.0,\"#0d0887\"],[0.1111111111111111,\"#46039f\"],[0.2222222222222222,\"#7201a8\"],[0.3333333333333333,\"#9c179e\"],[0.4444444444444444,\"#bd3786\"],[0.5555555555555556,\"#d8576b\"],[0.6666666666666666,\"#ed7953\"],[0.7777777777777778,\"#fb9f3a\"],[0.8888888888888888,\"#fdca26\"],[1.0,\"#f0f921\"]]}],\"heatmap\":[{\"type\":\"heatmap\",\"colorbar\":{\"outlinewidth\":0,\"ticks\":\"\"},\"colorscale\":[[0.0,\"#0d0887\"],[0.1111111111111111,\"#46039f\"],[0.2222222222222222,\"#7201a8\"],[0.3333333333333333,\"#9c179e\"],[0.4444444444444444,\"#bd3786\"],[0.5555555555555556,\"#d8576b\"],[0.6666666666666666,\"#ed7953\"],[0.7777777777777778,\"#fb9f3a\"],[0.8888888888888888,\"#fdca26\"],[1.0,\"#f0f921\"]]}],\"heatmapgl\":[{\"type\":\"heatmapgl\",\"colorbar\":{\"outlinewidth\":0,\"ticks\":\"\"},\"colorscale\":[[0.0,\"#0d0887\"],[0.1111111111111111,\"#46039f\"],[0.2222222222222222,\"#7201a8\"],[0.3333333333333333,\"#9c179e\"],[0.4444444444444444,\"#bd3786\"],[0.5555555555555556,\"#d8576b\"],[0.6666666666666666,\"#ed7953\"],[0.7777777777777778,\"#fb9f3a\"],[0.8888888888888888,\"#fdca26\"],[1.0,\"#f0f921\"]]}],\"contourcarpet\":[{\"type\":\"contourcarpet\",\"colorbar\":{\"outlinewidth\":0,\"ticks\":\"\"}}],\"contour\":[{\"type\":\"contour\",\"colorbar\":{\"outlinewidth\":0,\"ticks\":\"\"},\"colorscale\":[[0.0,\"#0d0887\"],[0.1111111111111111,\"#46039f\"],[0.2222222222222222,\"#7201a8\"],[0.3333333333333333,\"#9c179e\"],[0.4444444444444444,\"#bd3786\"],[0.5555555555555556,\"#d8576b\"],[0.6666666666666666,\"#ed7953\"],[0.7777777777777778,\"#fb9f3a\"],[0.8888888888888888,\"#fdca26\"],[1.0,\"#f0f921\"]]}],\"surface\":[{\"type\":\"surface\",\"colorbar\":{\"outlinewidth\":0,\"ticks\":\"\"},\"colorscale\":[[0.0,\"#0d0887\"],[0.1111111111111111,\"#46039f\"],[0.2222222222222222,\"#7201a8\"],[0.3333333333333333,\"#9c179e\"],[0.4444444444444444,\"#bd3786\"],[0.5555555555555556,\"#d8576b\"],[0.6666666666666666,\"#ed7953\"],[0.7777777777777778,\"#fb9f3a\"],[0.8888888888888888,\"#fdca26\"],[1.0,\"#f0f921\"]]}],\"mesh3d\":[{\"type\":\"mesh3d\",\"colorbar\":{\"outlinewidth\":0,\"ticks\":\"\"}}],\"scatter\":[{\"fillpattern\":{\"fillmode\":\"overlay\",\"size\":10,\"solidity\":0.2},\"type\":\"scatter\"}],\"parcoords\":[{\"type\":\"parcoords\",\"line\":{\"colorbar\":{\"outlinewidth\":0,\"ticks\":\"\"}}}],\"scatterpolargl\":[{\"type\":\"scatterpolargl\",\"marker\":{\"colorbar\":{\"outlinewidth\":0,\"ticks\":\"\"}}}],\"bar\":[{\"error_x\":{\"color\":\"#2a3f5f\"},\"error_y\":{\"color\":\"#2a3f5f\"},\"marker\":{\"line\":{\"color\":\"#E5ECF6\",\"width\":0.5},\"pattern\":{\"fillmode\":\"overlay\",\"size\":10,\"solidity\":0.2}},\"type\":\"bar\"}],\"scattergeo\":[{\"type\":\"scattergeo\",\"marker\":{\"colorbar\":{\"outlinewidth\":0,\"ticks\":\"\"}}}],\"scatterpolar\":[{\"type\":\"scatterpolar\",\"marker\":{\"colorbar\":{\"outlinewidth\":0,\"ticks\":\"\"}}}],\"histogram\":[{\"marker\":{\"pattern\":{\"fillmode\":\"overlay\",\"size\":10,\"solidity\":0.2}},\"type\":\"histogram\"}],\"scattergl\":[{\"type\":\"scattergl\",\"marker\":{\"colorbar\":{\"outlinewidth\":0,\"ticks\":\"\"}}}],\"scatter3d\":[{\"type\":\"scatter3d\",\"line\":{\"colorbar\":{\"outlinewidth\":0,\"ticks\":\"\"}},\"marker\":{\"colorbar\":{\"outlinewidth\":0,\"ticks\":\"\"}}}],\"scattermapbox\":[{\"type\":\"scattermapbox\",\"marker\":{\"colorbar\":{\"outlinewidth\":0,\"ticks\":\"\"}}}],\"scatterternary\":[{\"type\":\"scatterternary\",\"marker\":{\"colorbar\":{\"outlinewidth\":0,\"ticks\":\"\"}}}],\"scattercarpet\":[{\"type\":\"scattercarpet\",\"marker\":{\"colorbar\":{\"outlinewidth\":0,\"ticks\":\"\"}}}],\"carpet\":[{\"aaxis\":{\"endlinecolor\":\"#2a3f5f\",\"gridcolor\":\"white\",\"linecolor\":\"white\",\"minorgridcolor\":\"white\",\"startlinecolor\":\"#2a3f5f\"},\"baxis\":{\"endlinecolor\":\"#2a3f5f\",\"gridcolor\":\"white\",\"linecolor\":\"white\",\"minorgridcolor\":\"white\",\"startlinecolor\":\"#2a3f5f\"},\"type\":\"carpet\"}],\"table\":[{\"cells\":{\"fill\":{\"color\":\"#EBF0F8\"},\"line\":{\"color\":\"white\"}},\"header\":{\"fill\":{\"color\":\"#C8D4E3\"},\"line\":{\"color\":\"white\"}},\"type\":\"table\"}],\"barpolar\":[{\"marker\":{\"line\":{\"color\":\"#E5ECF6\",\"width\":0.5},\"pattern\":{\"fillmode\":\"overlay\",\"size\":10,\"solidity\":0.2}},\"type\":\"barpolar\"}],\"pie\":[{\"automargin\":true,\"type\":\"pie\"}]},\"layout\":{\"autotypenumbers\":\"strict\",\"colorway\":[\"#636efa\",\"#EF553B\",\"#00cc96\",\"#ab63fa\",\"#FFA15A\",\"#19d3f3\",\"#FF6692\",\"#B6E880\",\"#FF97FF\",\"#FECB52\"],\"font\":{\"color\":\"#2a3f5f\"},\"hovermode\":\"closest\",\"hoverlabel\":{\"align\":\"left\"},\"paper_bgcolor\":\"white\",\"plot_bgcolor\":\"#E5ECF6\",\"polar\":{\"bgcolor\":\"#E5ECF6\",\"angularaxis\":{\"gridcolor\":\"white\",\"linecolor\":\"white\",\"ticks\":\"\"},\"radialaxis\":{\"gridcolor\":\"white\",\"linecolor\":\"white\",\"ticks\":\"\"}},\"ternary\":{\"bgcolor\":\"#E5ECF6\",\"aaxis\":{\"gridcolor\":\"white\",\"linecolor\":\"white\",\"ticks\":\"\"},\"baxis\":{\"gridcolor\":\"white\",\"linecolor\":\"white\",\"ticks\":\"\"},\"caxis\":{\"gridcolor\":\"white\",\"linecolor\":\"white\",\"ticks\":\"\"}},\"coloraxis\":{\"colorbar\":{\"outlinewidth\":0,\"ticks\":\"\"}},\"colorscale\":{\"sequential\":[[0.0,\"#0d0887\"],[0.1111111111111111,\"#46039f\"],[0.2222222222222222,\"#7201a8\"],[0.3333333333333333,\"#9c179e\"],[0.4444444444444444,\"#bd3786\"],[0.5555555555555556,\"#d8576b\"],[0.6666666666666666,\"#ed7953\"],[0.7777777777777778,\"#fb9f3a\"],[0.8888888888888888,\"#fdca26\"],[1.0,\"#f0f921\"]],\"sequentialminus\":[[0.0,\"#0d0887\"],[0.1111111111111111,\"#46039f\"],[0.2222222222222222,\"#7201a8\"],[0.3333333333333333,\"#9c179e\"],[0.4444444444444444,\"#bd3786\"],[0.5555555555555556,\"#d8576b\"],[0.6666666666666666,\"#ed7953\"],[0.7777777777777778,\"#fb9f3a\"],[0.8888888888888888,\"#fdca26\"],[1.0,\"#f0f921\"]],\"diverging\":[[0,\"#8e0152\"],[0.1,\"#c51b7d\"],[0.2,\"#de77ae\"],[0.3,\"#f1b6da\"],[0.4,\"#fde0ef\"],[0.5,\"#f7f7f7\"],[0.6,\"#e6f5d0\"],[0.7,\"#b8e186\"],[0.8,\"#7fbc41\"],[0.9,\"#4d9221\"],[1,\"#276419\"]]},\"xaxis\":{\"gridcolor\":\"white\",\"linecolor\":\"white\",\"ticks\":\"\",\"title\":{\"standoff\":15},\"zerolinecolor\":\"white\",\"automargin\":true,\"zerolinewidth\":2},\"yaxis\":{\"gridcolor\":\"white\",\"linecolor\":\"white\",\"ticks\":\"\",\"title\":{\"standoff\":15},\"zerolinecolor\":\"white\",\"automargin\":true,\"zerolinewidth\":2},\"scene\":{\"xaxis\":{\"backgroundcolor\":\"#E5ECF6\",\"gridcolor\":\"white\",\"linecolor\":\"white\",\"showbackground\":true,\"ticks\":\"\",\"zerolinecolor\":\"white\",\"gridwidth\":2},\"yaxis\":{\"backgroundcolor\":\"#E5ECF6\",\"gridcolor\":\"white\",\"linecolor\":\"white\",\"showbackground\":true,\"ticks\":\"\",\"zerolinecolor\":\"white\",\"gridwidth\":2},\"zaxis\":{\"backgroundcolor\":\"#E5ECF6\",\"gridcolor\":\"white\",\"linecolor\":\"white\",\"showbackground\":true,\"ticks\":\"\",\"zerolinecolor\":\"white\",\"gridwidth\":2}},\"shapedefaults\":{\"line\":{\"color\":\"#2a3f5f\"}},\"annotationdefaults\":{\"arrowcolor\":\"#2a3f5f\",\"arrowhead\":0,\"arrowwidth\":1},\"geo\":{\"bgcolor\":\"white\",\"landcolor\":\"#E5ECF6\",\"subunitcolor\":\"white\",\"showland\":true,\"showlakes\":true,\"lakecolor\":\"white\"},\"title\":{\"x\":0.05},\"mapbox\":{\"style\":\"light\"}}}},                        {\"responsive\": true}                    ).then(function(){\n",
       "                            \n",
       "var gd = document.getElementById('54087575-4324-4b82-93f8-8861f1f317cb');\n",
       "var x = new MutationObserver(function (mutations, observer) {{\n",
       "        var display = window.getComputedStyle(gd).display;\n",
       "        if (!display || display === 'none') {{\n",
       "            console.log([gd, 'removed!']);\n",
       "            Plotly.purge(gd);\n",
       "            observer.disconnect();\n",
       "        }}\n",
       "}});\n",
       "\n",
       "// Listen for the removal of the full notebook cells\n",
       "var notebookContainer = gd.closest('#notebook-container');\n",
       "if (notebookContainer) {{\n",
       "    x.observe(notebookContainer, {childList: true});\n",
       "}}\n",
       "\n",
       "// Listen for the clearing of the current output cell\n",
       "var outputEl = gd.closest('.output');\n",
       "if (outputEl) {{\n",
       "    x.observe(outputEl, {childList: true});\n",
       "}}\n",
       "\n",
       "                        })                };                });            </script>        </div>"
      ]
     },
     "metadata": {},
     "output_type": "display_data"
    }
   ],
   "execution_count": 1276
  },
  {
   "metadata": {
    "ExecuteTime": {
     "end_time": "2025-01-24T17:56:47.749370Z",
     "start_time": "2025-01-24T17:56:47.709776Z"
    }
   },
   "cell_type": "code",
   "source": [
    "def map_to_cluster(category):\n",
    "    sub_cat_idx = articles_by_category[articles_by_category['category'] == category].index[0]\n",
    "    cluster_idx = kmeans_results.labels_[sub_cat_idx]\n",
    "    return dominant_categories[cluster_idx]\n",
    "\n",
    "y_train['cluster_category'] = y_train['category'].map(map_to_cluster).astype(str)\n",
    "y_test['cluster_category'] = y_test['category'].map(map_to_cluster).astype(str)"
   ],
   "id": "fd657a1e2bc8e839",
   "outputs": [],
   "execution_count": 1277
  },
  {
   "cell_type": "code",
   "id": "dadfe3e0",
   "metadata": {
    "execution": {
     "iopub.execute_input": "2025-01-22T12:58:03.698374Z",
     "iopub.status.busy": "2025-01-22T12:58:03.697820Z",
     "iopub.status.idle": "2025-01-22T12:58:06.798040Z",
     "shell.execute_reply": "2025-01-22T12:58:06.796935Z"
    },
    "papermill": {
     "duration": 3.105991,
     "end_time": "2025-01-22T12:58:06.799604",
     "exception": false,
     "start_time": "2025-01-22T12:58:03.693613",
     "status": "completed"
    },
    "tags": [],
    "ExecuteTime": {
     "end_time": "2025-01-24T17:57:36.437411Z",
     "start_time": "2025-01-24T17:56:47.814411Z"
    }
   },
   "source": [
    "%%capture\n",
    "from sklearn.naive_bayes import MultinomialNB\n",
    "from sklearn.pipeline import make_pipeline\n",
    "\n",
    "model = make_pipeline(vectorizer, MultinomialNB())\n",
    "\n",
    "model.fit(x_train, y_train['cluster_category'])"
   ],
   "outputs": [],
   "execution_count": 1278
  },
  {
   "cell_type": "code",
   "id": "a8b407cf",
   "metadata": {
    "execution": {
     "iopub.execute_input": "2025-01-22T12:58:06.807686Z",
     "iopub.status.busy": "2025-01-22T12:58:06.807356Z",
     "iopub.status.idle": "2025-01-22T12:58:07.345956Z",
     "shell.execute_reply": "2025-01-22T12:58:07.345020Z"
    },
    "papermill": {
     "duration": 0.54464,
     "end_time": "2025-01-22T12:58:07.347847",
     "exception": false,
     "start_time": "2025-01-22T12:58:06.803207",
     "status": "completed"
    },
    "tags": [],
    "ExecuteTime": {
     "end_time": "2025-01-24T17:57:50.152045Z",
     "start_time": "2025-01-24T17:57:36.505641Z"
    }
   },
   "source": "labels = model.predict(x_test)",
   "outputs": [],
   "execution_count": 1279
  },
  {
   "cell_type": "code",
   "id": "f7470f45",
   "metadata": {
    "execution": {
     "iopub.execute_input": "2025-01-22T12:58:07.379283Z",
     "iopub.status.busy": "2025-01-22T12:58:07.378929Z",
     "iopub.status.idle": "2025-01-22T12:58:07.710870Z",
     "shell.execute_reply": "2025-01-22T12:58:07.710013Z"
    },
    "papermill": {
     "duration": 0.338471,
     "end_time": "2025-01-22T12:58:07.712682",
     "exception": false,
     "start_time": "2025-01-22T12:58:07.374211",
     "status": "completed"
    },
    "tags": [],
    "ExecuteTime": {
     "end_time": "2025-01-24T17:57:50.778407Z",
     "start_time": "2025-01-24T17:57:50.209260Z"
    }
   },
   "source": [
    "from sklearn.metrics import confusion_matrix, f1_score, classification_report\n",
    "\n",
    "category_names = pd.unique(y_train['cluster_category'])\n",
    "print(classification_report(y_test['cluster_category'], labels, target_names=dominant_categories))\n",
    "mat = confusion_matrix(y_test['cluster_category'], labels, labels=dominant_categories)\n",
    "f1_score_result = f1_score(y_test['cluster_category'], labels, average='micro')"
   ],
   "outputs": [
    {
     "name": "stdout",
     "output_type": "stream",
     "text": [
      "                                       precision    recall  f1-score   support\n",
      "\n",
      "ENTERTAINMENT - ARTS - ARTS & CULTURE       0.78      0.73      0.76     10067\n",
      "        IMPACT - BUSINESS - PARENTING       0.75      0.65      0.70      7301\n",
      "POLITICS - WORLD NEWS - THE WORLDPOST       0.81      0.81      0.81     10606\n",
      "    WELLNESS - HEALTHY LIVING - FIFTY       0.67      0.75      0.71     13932\n",
      "\n",
      "                             accuracy                           0.74     41906\n",
      "                            macro avg       0.75      0.73      0.74     41906\n",
      "                         weighted avg       0.75      0.74      0.74     41906\n",
      "\n"
     ]
    }
   ],
   "execution_count": 1280
  },
  {
   "cell_type": "code",
   "id": "5fbb9ab2",
   "metadata": {
    "execution": {
     "iopub.execute_input": "2025-01-22T12:58:07.721453Z",
     "iopub.status.busy": "2025-01-22T12:58:07.721131Z",
     "iopub.status.idle": "2025-01-22T12:58:12.784005Z",
     "shell.execute_reply": "2025-01-22T12:58:12.782899Z"
    },
    "papermill": {
     "duration": 5.071959,
     "end_time": "2025-01-22T12:58:12.788542",
     "exception": false,
     "start_time": "2025-01-22T12:58:07.716583",
     "status": "completed"
    },
    "tags": [],
    "ExecuteTime": {
     "end_time": "2025-01-24T17:57:50.959352Z",
     "start_time": "2025-01-24T17:57:50.837998Z"
    }
   },
   "source": [
    "import matplotlib.pyplot as plt\n",
    "import seaborn as sns\n",
    "import numpy as np\n",
    "\n",
    "np.set_printoptions(threshold=1000)\n",
    "\n",
    "print('Overall F1 Score: {:.2%}'.format(f1_score_result))\n",
    "\n",
    "plt.rcParams.update({'font.size': 8, 'figure.figsize': [6, 6]})\n",
    "sns.set_theme(font_scale=0.8)\n",
    "sns.heatmap(mat.T, square=True, annot=True, fmt='d', cbar=False, xticklabels=dominant_categories, yticklabels=dominant_categories)\n",
    "plt.xlabel('true label')\n",
    "plt.ylabel('predicted label')\n",
    "\n",
    "plt.show()"
   ],
   "outputs": [
    {
     "name": "stdout",
     "output_type": "stream",
     "text": [
      "Overall F1 Score: 74.23%\n"
     ]
    },
    {
     "data": {
      "text/plain": [
       "<Figure size 600x600 with 1 Axes>"
      ],
      "image/png": "[encoded data removed]"
     },
     "metadata": {},
     "output_type": "display_data"
    }
   ],
   "execution_count": 1281
  },
  {
   "metadata": {
    "ExecuteTime": {
     "end_time": "2025-01-24T17:57:59.079527Z",
     "start_time": "2025-01-24T17:57:51.024402Z"
    }
   },
   "cell_type": "code",
   "source": [
    "headline = input('Enter a headline')\n",
    "pred = model.predict([headline])\n",
    "print('The headline \"' + headline + '\" is in the category ' + pred[0])"
   ],
   "id": "f283d0707be1f62a",
   "outputs": [
    {
     "name": "stdout",
     "output_type": "stream",
     "text": [
      "The headline \"The Louvre Shows Off an Epic Fashion Collection\" is in the category IMPACT - BUSINESS - PARENTING\n"
     ]
    }
   ],
   "execution_count": 1282
  }
 ],
 "metadata": {
  "kaggle": {
   "accelerator": "none",
   "dataSources": [
    {
     "datasetId": 1550907,
     "sourceId": 2556316,
     "sourceType": "datasetVersion"
    },
    {
     "datasetId": 32526,
     "sourceId": 4243451,
     "sourceType": "datasetVersion"
    }
   ],
   "dockerImageVersionId": 30839,
   "isGpuEnabled": false,
   "isInternetEnabled": true,
   "language": "python",
   "sourceType": "notebook"
  },
  "kernelspec": {
   "display_name": "Python 3",
   "language": "python",
   "name": "python3"
  },
  "language_info": {
   "codemirror_mode": {
    "name": "ipython",
    "version": 3
   },
   "file_extension": ".py",
   "mimetype": "text/x-python",
   "name": "python",
   "nbconvert_exporter": "python",
   "pygments_lexer": "ipython3",
   "version": "3.10.12"
  },
  "papermill": {
   "default_parameters": {},
   "duration": 18.520466,
   "end_time": "2025-01-22T12:58:13.920573",
   "environment_variables": {},
   "exception": null,
   "input_path": "__notebook__.ipynb",
   "output_path": "__notebook__.ipynb",
   "parameters": {},
   "start_time": "2025-01-22T12:57:55.400107",
   "version": "2.6.0"
  }
 },
 "nbformat": 4,
 "nbformat_minor": 5
}
