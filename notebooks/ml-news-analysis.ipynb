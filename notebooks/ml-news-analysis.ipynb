{
 "cells": [
  {
   "cell_type": "markdown",
   "id": "0d81b0c8",
   "metadata": {
    "execution": {
     "iopub.execute_input": "2025-01-21T01:15:31.656410Z",
     "iopub.status.busy": "2025-01-21T01:15:31.655959Z",
     "iopub.status.idle": "2025-01-21T01:15:31.662800Z",
     "shell.execute_reply": "2025-01-21T01:15:31.661529Z",
     "shell.execute_reply.started": "2025-01-21T01:15:31.656382Z"
    },
    "papermill": {
     "duration": 0.003824,
     "end_time": "2025-01-22T12:57:58.073182",
     "exception": false,
     "start_time": "2025-01-22T12:57:58.069358",
     "status": "completed"
    },
    "tags": []
   },
   "source": [
    "@dataset{\n",
    "    dataset,\n",
    "    author = {Timilsina, Bimal},\n",
    "    year = {2021},\n",
    "    month = {08},\n",
    "    pages = {},\n",
    "    title = {News Article Category Dataset},\n",
    "}"
   ]
  },
  {
   "cell_type": "code",
   "id": "8845fe4a",
   "metadata": {
    "execution": {
     "iopub.execute_input": "2025-01-22T12:57:58.081101Z",
     "iopub.status.busy": "2025-01-22T12:57:58.080712Z",
     "iopub.status.idle": "2025-01-22T12:57:58.994167Z",
     "shell.execute_reply": "2025-01-22T12:57:58.993341Z"
    },
    "papermill": {
     "duration": 0.919199,
     "end_time": "2025-01-22T12:57:58.995884",
     "exception": false,
     "start_time": "2025-01-22T12:57:58.076685",
     "status": "completed"
    },
    "tags": [],
    "ExecuteTime": {
     "end_time": "2025-01-23T03:50:56.034578Z",
     "start_time": "2025-01-23T03:50:56.030806Z"
    }
   },
   "source": [
    "import pandas as pd"
   ],
   "outputs": [],
   "execution_count": 1
  },
  {
   "cell_type": "code",
   "id": "83c85909",
   "metadata": {
    "execution": {
     "iopub.execute_input": "2025-01-22T12:57:59.003212Z",
     "iopub.status.busy": "2025-01-22T12:57:59.002739Z",
     "iopub.status.idle": "2025-01-22T12:58:02.072310Z",
     "shell.execute_reply": "2025-01-22T12:58:02.070655Z"
    },
    "papermill": {
     "duration": 3.075414,
     "end_time": "2025-01-22T12:58:02.074470",
     "exception": false,
     "start_time": "2025-01-22T12:57:58.999056",
     "status": "completed"
    },
    "tags": [],
    "ExecuteTime": {
     "end_time": "2025-01-23T04:20:15.400135Z",
     "start_time": "2025-01-23T04:20:13.917807Z"
    }
   },
   "source": [
    "df = pd.read_json('../input/news-category-dataset/News_Category_Dataset_v3.json', lines=True)"
   ],
   "outputs": [],
   "execution_count": 40
  },
  {
   "cell_type": "code",
   "id": "af4e856c",
   "metadata": {
    "execution": {
     "iopub.execute_input": "2025-01-22T12:58:02.119416Z",
     "iopub.status.busy": "2025-01-22T12:58:02.119100Z",
     "iopub.status.idle": "2025-01-22T12:58:02.164882Z",
     "shell.execute_reply": "2025-01-22T12:58:02.164008Z"
    },
    "papermill": {
     "duration": 0.051793,
     "end_time": "2025-01-22T12:58:02.166814",
     "exception": false,
     "start_time": "2025-01-22T12:58:02.115021",
     "status": "completed"
    },
    "tags": [],
    "ExecuteTime": {
     "end_time": "2025-01-23T03:51:10.047273Z",
     "start_time": "2025-01-23T03:51:10.005136Z"
    }
   },
   "source": [
    "df['category'] = df['category'].astype('category')"
   ],
   "outputs": [],
   "execution_count": 3
  },
  {
   "metadata": {
    "ExecuteTime": {
     "end_time": "2025-01-23T05:04:15.276072Z",
     "start_time": "2025-01-23T05:04:15.266054Z"
    }
   },
   "cell_type": "code",
   "source": "categories = pd.read_csv('../input/category_map.csv', index_col=1, dtype={'CATEGORY': 'category', 'SUB_CATEGORY': 'category'})",
   "id": "37f4f09ffdfb0713",
   "outputs": [],
   "execution_count": 77
  },
  {
   "metadata": {
    "ExecuteTime": {
     "end_time": "2025-01-23T05:04:42.088206Z",
     "start_time": "2025-01-23T05:04:42.082302Z"
    }
   },
   "cell_type": "code",
   "source": "category_mapping = categories.to_dict()['CATEGORY']",
   "id": "4f78eab0cee7217c",
   "outputs": [],
   "execution_count": 81
  },
  {
   "metadata": {
    "ExecuteTime": {
     "end_time": "2025-01-23T05:04:43.815071Z",
     "start_time": "2025-01-23T05:04:43.810776Z"
    }
   },
   "cell_type": "code",
   "source": "print(category_mapping)",
   "id": "e5e06019f5dad373",
   "outputs": [
    {
     "name": "stdout",
     "output_type": "stream",
     "text": [
      "{'ARTS': 'ENTERTAINMENT', 'ARTS & CULTURE': 'ENTERTAINMENT', 'CULTURE & ARTS': 'ENTERTAINMENT', 'STYLE': 'ENTERTAINMENT', 'STYLE & BEAUTY': 'ENTERTAINMENT', 'ENTERTAINMENT': 'ENTERTAINMENT', 'COMEDY': 'ENTERTAINMENT', 'WEIRD NEWS': 'ENTERTAINMENT', 'SPORTS': 'ENTERTAINMENT', 'FOOD & DRINK': 'ENTERTAINMENT', 'TASTE': 'ENTERTAINMENT', 'HOME & LIVING': 'ENTERTAINMENT', 'WEDDINGS': 'ENTERTAINMENT', 'U.S. NEWS': 'NEWS', 'WORLD NEWS': 'NEWS', 'POLITICS': 'NEWS', 'CRIME': 'NEWS', 'BUSINESS': 'NEWS', 'MEDIA': 'NEWS', 'COLLEGE': 'NEWS', 'EDUCATION': 'NEWS', 'THE WORLDPOST': 'NEWS', 'WORLDPOST': 'NEWS', 'TECH': 'SCIENCE', 'SCIENCE': 'SCIENCE', 'ENVIRONMENT': 'SCIENCE', 'GREEN': 'SCIENCE', 'HEALTHY LIVING': 'SCIENCE', 'WELLNESS': 'SCIENCE', 'FIFTY': 'LIFESTYLE', 'MONEY': 'LIFESTYLE', 'PARENTS': 'LIFESTYLE', 'GOOD NEWS': 'LIFESTYLE', 'WOMEN': 'LIFESTYLE', 'TRAVEL': 'LIFESTYLE', 'RELIGION': 'LIFESTYLE', 'DIVORCE': 'LIFESTYLE', 'PARENTING': 'LIFESTYLE', 'LATINO VOICES': 'LIFESTYLE', 'QUEER VOICES': 'LIFESTYLE', 'BLACK VOICES': 'LIFESTYLE', 'IMPACT': 'LIFESTYLE'}\n"
     ]
    }
   ],
   "execution_count": 82
  },
  {
   "metadata": {
    "ExecuteTime": {
     "end_time": "2025-01-23T05:06:15.299778Z",
     "start_time": "2025-01-23T05:06:15.243844Z"
    }
   },
   "cell_type": "code",
   "source": "df['main_category'] = df['category'].map(category_mapping)",
   "id": "6df3c1b3a24b4577",
   "outputs": [],
   "execution_count": 83
  },
  {
   "cell_type": "code",
   "id": "fe6d9d4b",
   "metadata": {
    "execution": {
     "iopub.execute_input": "2025-01-22T12:58:02.175023Z",
     "iopub.status.busy": "2025-01-22T12:58:02.174613Z",
     "iopub.status.idle": "2025-01-22T12:58:03.688051Z",
     "shell.execute_reply": "2025-01-22T12:58:03.686930Z"
    },
    "papermill": {
     "duration": 1.519624,
     "end_time": "2025-01-22T12:58:03.689986",
     "exception": false,
     "start_time": "2025-01-22T12:58:02.170362",
     "status": "completed"
    },
    "tags": [],
    "ExecuteTime": {
     "end_time": "2025-01-23T05:07:31.921760Z",
     "start_time": "2025-01-23T05:07:31.440715Z"
    }
   },
   "source": [
    "from sklearn.model_selection import train_test_split\n",
    "\n",
    "x = df['headline']\n",
    "y = df['main_category']\n",
    "\n",
    "x_train, x_test, y_train, y_test = train_test_split(x, y, test_size=0.2, stratify=y)"
   ],
   "outputs": [],
   "execution_count": 85
  },
  {
   "cell_type": "code",
   "id": "dadfe3e0",
   "metadata": {
    "execution": {
     "iopub.execute_input": "2025-01-22T12:58:03.698374Z",
     "iopub.status.busy": "2025-01-22T12:58:03.697820Z",
     "iopub.status.idle": "2025-01-22T12:58:06.798040Z",
     "shell.execute_reply": "2025-01-22T12:58:06.796935Z"
    },
    "papermill": {
     "duration": 3.105991,
     "end_time": "2025-01-22T12:58:06.799604",
     "exception": false,
     "start_time": "2025-01-22T12:58:03.693613",
     "status": "completed"
    },
    "tags": [],
    "ExecuteTime": {
     "end_time": "2025-01-23T05:07:57.741326Z",
     "start_time": "2025-01-23T05:07:41.432682Z"
    }
   },
   "source": [
    "from sklearn.feature_extraction.text import TfidfVectorizer\n",
    "from sklearn.linear_model import LogisticRegression\n",
    "from sklearn.pipeline import make_pipeline\n",
    "\n",
    "model = make_pipeline(TfidfVectorizer(stop_words=\"english\", lowercase=True, ngram_range=(1,2), max_features=5000), LogisticRegression(max_iter=500, class_weight='balanced'))\n",
    "\n",
    "model.fit(x_train, y_train)\n"
   ],
   "outputs": [
    {
     "data": {
      "text/plain": [
       "Pipeline(steps=[('tfidfvectorizer',\n",
       "                 TfidfVectorizer(max_features=5000, ngram_range=(1, 2),\n",
       "                                 stop_words='english')),\n",
       "                ('logisticregression',\n",
       "                 LogisticRegression(class_weight='balanced', max_iter=500))])"
      ],
      "text/html": [
       "<style>#sk-container-id-5 {\n",
       "  /* Definition of color scheme common for light and dark mode */\n",
       "  --sklearn-color-text: #000;\n",
       "  --sklearn-color-text-muted: #666;\n",
       "  --sklearn-color-line: gray;\n",
       "  /* Definition of color scheme for unfitted estimators */\n",
       "  --sklearn-color-unfitted-level-0: #fff5e6;\n",
       "  --sklearn-color-unfitted-level-1: #f6e4d2;\n",
       "  --sklearn-color-unfitted-level-2: #ffe0b3;\n",
       "  --sklearn-color-unfitted-level-3: chocolate;\n",
       "  /* Definition of color scheme for fitted estimators */\n",
       "  --sklearn-color-fitted-level-0: #f0f8ff;\n",
       "  --sklearn-color-fitted-level-1: #d4ebff;\n",
       "  --sklearn-color-fitted-level-2: #b3dbfd;\n",
       "  --sklearn-color-fitted-level-3: cornflowerblue;\n",
       "\n",
       "  /* Specific color for light theme */\n",
       "  --sklearn-color-text-on-default-background: var(--sg-text-color, var(--theme-code-foreground, var(--jp-content-font-color1, black)));\n",
       "  --sklearn-color-background: var(--sg-background-color, var(--theme-background, var(--jp-layout-color0, white)));\n",
       "  --sklearn-color-border-box: var(--sg-text-color, var(--theme-code-foreground, var(--jp-content-font-color1, black)));\n",
       "  --sklearn-color-icon: #696969;\n",
       "\n",
       "  @media (prefers-color-scheme: dark) {\n",
       "    /* Redefinition of color scheme for dark theme */\n",
       "    --sklearn-color-text-on-default-background: var(--sg-text-color, var(--theme-code-foreground, var(--jp-content-font-color1, white)));\n",
       "    --sklearn-color-background: var(--sg-background-color, var(--theme-background, var(--jp-layout-color0, #111)));\n",
       "    --sklearn-color-border-box: var(--sg-text-color, var(--theme-code-foreground, var(--jp-content-font-color1, white)));\n",
       "    --sklearn-color-icon: #878787;\n",
       "  }\n",
       "}\n",
       "\n",
       "#sk-container-id-5 {\n",
       "  color: var(--sklearn-color-text);\n",
       "}\n",
       "\n",
       "#sk-container-id-5 pre {\n",
       "  padding: 0;\n",
       "}\n",
       "\n",
       "#sk-container-id-5 input.sk-hidden--visually {\n",
       "  border: 0;\n",
       "  clip: rect(1px 1px 1px 1px);\n",
       "  clip: rect(1px, 1px, 1px, 1px);\n",
       "  height: 1px;\n",
       "  margin: -1px;\n",
       "  overflow: hidden;\n",
       "  padding: 0;\n",
       "  position: absolute;\n",
       "  width: 1px;\n",
       "}\n",
       "\n",
       "#sk-container-id-5 div.sk-dashed-wrapped {\n",
       "  border: 1px dashed var(--sklearn-color-line);\n",
       "  margin: 0 0.4em 0.5em 0.4em;\n",
       "  box-sizing: border-box;\n",
       "  padding-bottom: 0.4em;\n",
       "  background-color: var(--sklearn-color-background);\n",
       "}\n",
       "\n",
       "#sk-container-id-5 div.sk-container {\n",
       "  /* jupyter's `normalize.less` sets `[hidden] { display: none; }`\n",
       "     but bootstrap.min.css set `[hidden] { display: none !important; }`\n",
       "     so we also need the `!important` here to be able to override the\n",
       "     default hidden behavior on the sphinx rendered scikit-learn.org.\n",
       "     See: https://github.com/scikit-learn/scikit-learn/issues/21755 */\n",
       "  display: inline-block !important;\n",
       "  position: relative;\n",
       "}\n",
       "\n",
       "#sk-container-id-5 div.sk-text-repr-fallback {\n",
       "  display: none;\n",
       "}\n",
       "\n",
       "div.sk-parallel-item,\n",
       "div.sk-serial,\n",
       "div.sk-item {\n",
       "  /* draw centered vertical line to link estimators */\n",
       "  background-image: linear-gradient(var(--sklearn-color-text-on-default-background), var(--sklearn-color-text-on-default-background));\n",
       "  background-size: 2px 100%;\n",
       "  background-repeat: no-repeat;\n",
       "  background-position: center center;\n",
       "}\n",
       "\n",
       "/* Parallel-specific style estimator block */\n",
       "\n",
       "#sk-container-id-5 div.sk-parallel-item::after {\n",
       "  content: \"\";\n",
       "  width: 100%;\n",
       "  border-bottom: 2px solid var(--sklearn-color-text-on-default-background);\n",
       "  flex-grow: 1;\n",
       "}\n",
       "\n",
       "#sk-container-id-5 div.sk-parallel {\n",
       "  display: flex;\n",
       "  align-items: stretch;\n",
       "  justify-content: center;\n",
       "  background-color: var(--sklearn-color-background);\n",
       "  position: relative;\n",
       "}\n",
       "\n",
       "#sk-container-id-5 div.sk-parallel-item {\n",
       "  display: flex;\n",
       "  flex-direction: column;\n",
       "}\n",
       "\n",
       "#sk-container-id-5 div.sk-parallel-item:first-child::after {\n",
       "  align-self: flex-end;\n",
       "  width: 50%;\n",
       "}\n",
       "\n",
       "#sk-container-id-5 div.sk-parallel-item:last-child::after {\n",
       "  align-self: flex-start;\n",
       "  width: 50%;\n",
       "}\n",
       "\n",
       "#sk-container-id-5 div.sk-parallel-item:only-child::after {\n",
       "  width: 0;\n",
       "}\n",
       "\n",
       "/* Serial-specific style estimator block */\n",
       "\n",
       "#sk-container-id-5 div.sk-serial {\n",
       "  display: flex;\n",
       "  flex-direction: column;\n",
       "  align-items: center;\n",
       "  background-color: var(--sklearn-color-background);\n",
       "  padding-right: 1em;\n",
       "  padding-left: 1em;\n",
       "}\n",
       "\n",
       "\n",
       "/* Toggleable style: style used for estimator/Pipeline/ColumnTransformer box that is\n",
       "clickable and can be expanded/collapsed.\n",
       "- Pipeline and ColumnTransformer use this feature and define the default style\n",
       "- Estimators will overwrite some part of the style using the `sk-estimator` class\n",
       "*/\n",
       "\n",
       "/* Pipeline and ColumnTransformer style (default) */\n",
       "\n",
       "#sk-container-id-5 div.sk-toggleable {\n",
       "  /* Default theme specific background. It is overwritten whether we have a\n",
       "  specific estimator or a Pipeline/ColumnTransformer */\n",
       "  background-color: var(--sklearn-color-background);\n",
       "}\n",
       "\n",
       "/* Toggleable label */\n",
       "#sk-container-id-5 label.sk-toggleable__label {\n",
       "  cursor: pointer;\n",
       "  display: flex;\n",
       "  width: 100%;\n",
       "  margin-bottom: 0;\n",
       "  padding: 0.5em;\n",
       "  box-sizing: border-box;\n",
       "  text-align: center;\n",
       "  align-items: start;\n",
       "  justify-content: space-between;\n",
       "  gap: 0.5em;\n",
       "}\n",
       "\n",
       "#sk-container-id-5 label.sk-toggleable__label .caption {\n",
       "  font-size: 0.6rem;\n",
       "  font-weight: lighter;\n",
       "  color: var(--sklearn-color-text-muted);\n",
       "}\n",
       "\n",
       "#sk-container-id-5 label.sk-toggleable__label-arrow:before {\n",
       "  /* Arrow on the left of the label */\n",
       "  content: \"▸\";\n",
       "  float: left;\n",
       "  margin-right: 0.25em;\n",
       "  color: var(--sklearn-color-icon);\n",
       "}\n",
       "\n",
       "#sk-container-id-5 label.sk-toggleable__label-arrow:hover:before {\n",
       "  color: var(--sklearn-color-text);\n",
       "}\n",
       "\n",
       "/* Toggleable content - dropdown */\n",
       "\n",
       "#sk-container-id-5 div.sk-toggleable__content {\n",
       "  max-height: 0;\n",
       "  max-width: 0;\n",
       "  overflow: hidden;\n",
       "  text-align: left;\n",
       "  /* unfitted */\n",
       "  background-color: var(--sklearn-color-unfitted-level-0);\n",
       "}\n",
       "\n",
       "#sk-container-id-5 div.sk-toggleable__content.fitted {\n",
       "  /* fitted */\n",
       "  background-color: var(--sklearn-color-fitted-level-0);\n",
       "}\n",
       "\n",
       "#sk-container-id-5 div.sk-toggleable__content pre {\n",
       "  margin: 0.2em;\n",
       "  border-radius: 0.25em;\n",
       "  color: var(--sklearn-color-text);\n",
       "  /* unfitted */\n",
       "  background-color: var(--sklearn-color-unfitted-level-0);\n",
       "}\n",
       "\n",
       "#sk-container-id-5 div.sk-toggleable__content.fitted pre {\n",
       "  /* unfitted */\n",
       "  background-color: var(--sklearn-color-fitted-level-0);\n",
       "}\n",
       "\n",
       "#sk-container-id-5 input.sk-toggleable__control:checked~div.sk-toggleable__content {\n",
       "  /* Expand drop-down */\n",
       "  max-height: 200px;\n",
       "  max-width: 100%;\n",
       "  overflow: auto;\n",
       "}\n",
       "\n",
       "#sk-container-id-5 input.sk-toggleable__control:checked~label.sk-toggleable__label-arrow:before {\n",
       "  content: \"▾\";\n",
       "}\n",
       "\n",
       "/* Pipeline/ColumnTransformer-specific style */\n",
       "\n",
       "#sk-container-id-5 div.sk-label input.sk-toggleable__control:checked~label.sk-toggleable__label {\n",
       "  color: var(--sklearn-color-text);\n",
       "  background-color: var(--sklearn-color-unfitted-level-2);\n",
       "}\n",
       "\n",
       "#sk-container-id-5 div.sk-label.fitted input.sk-toggleable__control:checked~label.sk-toggleable__label {\n",
       "  background-color: var(--sklearn-color-fitted-level-2);\n",
       "}\n",
       "\n",
       "/* Estimator-specific style */\n",
       "\n",
       "/* Colorize estimator box */\n",
       "#sk-container-id-5 div.sk-estimator input.sk-toggleable__control:checked~label.sk-toggleable__label {\n",
       "  /* unfitted */\n",
       "  background-color: var(--sklearn-color-unfitted-level-2);\n",
       "}\n",
       "\n",
       "#sk-container-id-5 div.sk-estimator.fitted input.sk-toggleable__control:checked~label.sk-toggleable__label {\n",
       "  /* fitted */\n",
       "  background-color: var(--sklearn-color-fitted-level-2);\n",
       "}\n",
       "\n",
       "#sk-container-id-5 div.sk-label label.sk-toggleable__label,\n",
       "#sk-container-id-5 div.sk-label label {\n",
       "  /* The background is the default theme color */\n",
       "  color: var(--sklearn-color-text-on-default-background);\n",
       "}\n",
       "\n",
       "/* On hover, darken the color of the background */\n",
       "#sk-container-id-5 div.sk-label:hover label.sk-toggleable__label {\n",
       "  color: var(--sklearn-color-text);\n",
       "  background-color: var(--sklearn-color-unfitted-level-2);\n",
       "}\n",
       "\n",
       "/* Label box, darken color on hover, fitted */\n",
       "#sk-container-id-5 div.sk-label.fitted:hover label.sk-toggleable__label.fitted {\n",
       "  color: var(--sklearn-color-text);\n",
       "  background-color: var(--sklearn-color-fitted-level-2);\n",
       "}\n",
       "\n",
       "/* Estimator label */\n",
       "\n",
       "#sk-container-id-5 div.sk-label label {\n",
       "  font-family: monospace;\n",
       "  font-weight: bold;\n",
       "  display: inline-block;\n",
       "  line-height: 1.2em;\n",
       "}\n",
       "\n",
       "#sk-container-id-5 div.sk-label-container {\n",
       "  text-align: center;\n",
       "}\n",
       "\n",
       "/* Estimator-specific */\n",
       "#sk-container-id-5 div.sk-estimator {\n",
       "  font-family: monospace;\n",
       "  border: 1px dotted var(--sklearn-color-border-box);\n",
       "  border-radius: 0.25em;\n",
       "  box-sizing: border-box;\n",
       "  margin-bottom: 0.5em;\n",
       "  /* unfitted */\n",
       "  background-color: var(--sklearn-color-unfitted-level-0);\n",
       "}\n",
       "\n",
       "#sk-container-id-5 div.sk-estimator.fitted {\n",
       "  /* fitted */\n",
       "  background-color: var(--sklearn-color-fitted-level-0);\n",
       "}\n",
       "\n",
       "/* on hover */\n",
       "#sk-container-id-5 div.sk-estimator:hover {\n",
       "  /* unfitted */\n",
       "  background-color: var(--sklearn-color-unfitted-level-2);\n",
       "}\n",
       "\n",
       "#sk-container-id-5 div.sk-estimator.fitted:hover {\n",
       "  /* fitted */\n",
       "  background-color: var(--sklearn-color-fitted-level-2);\n",
       "}\n",
       "\n",
       "/* Specification for estimator info (e.g. \"i\" and \"?\") */\n",
       "\n",
       "/* Common style for \"i\" and \"?\" */\n",
       "\n",
       ".sk-estimator-doc-link,\n",
       "a:link.sk-estimator-doc-link,\n",
       "a:visited.sk-estimator-doc-link {\n",
       "  float: right;\n",
       "  font-size: smaller;\n",
       "  line-height: 1em;\n",
       "  font-family: monospace;\n",
       "  background-color: var(--sklearn-color-background);\n",
       "  border-radius: 1em;\n",
       "  height: 1em;\n",
       "  width: 1em;\n",
       "  text-decoration: none !important;\n",
       "  margin-left: 0.5em;\n",
       "  text-align: center;\n",
       "  /* unfitted */\n",
       "  border: var(--sklearn-color-unfitted-level-1) 1pt solid;\n",
       "  color: var(--sklearn-color-unfitted-level-1);\n",
       "}\n",
       "\n",
       ".sk-estimator-doc-link.fitted,\n",
       "a:link.sk-estimator-doc-link.fitted,\n",
       "a:visited.sk-estimator-doc-link.fitted {\n",
       "  /* fitted */\n",
       "  border: var(--sklearn-color-fitted-level-1) 1pt solid;\n",
       "  color: var(--sklearn-color-fitted-level-1);\n",
       "}\n",
       "\n",
       "/* On hover */\n",
       "div.sk-estimator:hover .sk-estimator-doc-link:hover,\n",
       ".sk-estimator-doc-link:hover,\n",
       "div.sk-label-container:hover .sk-estimator-doc-link:hover,\n",
       ".sk-estimator-doc-link:hover {\n",
       "  /* unfitted */\n",
       "  background-color: var(--sklearn-color-unfitted-level-3);\n",
       "  color: var(--sklearn-color-background);\n",
       "  text-decoration: none;\n",
       "}\n",
       "\n",
       "div.sk-estimator.fitted:hover .sk-estimator-doc-link.fitted:hover,\n",
       ".sk-estimator-doc-link.fitted:hover,\n",
       "div.sk-label-container:hover .sk-estimator-doc-link.fitted:hover,\n",
       ".sk-estimator-doc-link.fitted:hover {\n",
       "  /* fitted */\n",
       "  background-color: var(--sklearn-color-fitted-level-3);\n",
       "  color: var(--sklearn-color-background);\n",
       "  text-decoration: none;\n",
       "}\n",
       "\n",
       "/* Span, style for the box shown on hovering the info icon */\n",
       ".sk-estimator-doc-link span {\n",
       "  display: none;\n",
       "  z-index: 9999;\n",
       "  position: relative;\n",
       "  font-weight: normal;\n",
       "  right: .2ex;\n",
       "  padding: .5ex;\n",
       "  margin: .5ex;\n",
       "  width: min-content;\n",
       "  min-width: 20ex;\n",
       "  max-width: 50ex;\n",
       "  color: var(--sklearn-color-text);\n",
       "  box-shadow: 2pt 2pt 4pt #999;\n",
       "  /* unfitted */\n",
       "  background: var(--sklearn-color-unfitted-level-0);\n",
       "  border: .5pt solid var(--sklearn-color-unfitted-level-3);\n",
       "}\n",
       "\n",
       ".sk-estimator-doc-link.fitted span {\n",
       "  /* fitted */\n",
       "  background: var(--sklearn-color-fitted-level-0);\n",
       "  border: var(--sklearn-color-fitted-level-3);\n",
       "}\n",
       "\n",
       ".sk-estimator-doc-link:hover span {\n",
       "  display: block;\n",
       "}\n",
       "\n",
       "/* \"?\"-specific style due to the `<a>` HTML tag */\n",
       "\n",
       "#sk-container-id-5 a.estimator_doc_link {\n",
       "  float: right;\n",
       "  font-size: 1rem;\n",
       "  line-height: 1em;\n",
       "  font-family: monospace;\n",
       "  background-color: var(--sklearn-color-background);\n",
       "  border-radius: 1rem;\n",
       "  height: 1rem;\n",
       "  width: 1rem;\n",
       "  text-decoration: none;\n",
       "  /* unfitted */\n",
       "  color: var(--sklearn-color-unfitted-level-1);\n",
       "  border: var(--sklearn-color-unfitted-level-1) 1pt solid;\n",
       "}\n",
       "\n",
       "#sk-container-id-5 a.estimator_doc_link.fitted {\n",
       "  /* fitted */\n",
       "  border: var(--sklearn-color-fitted-level-1) 1pt solid;\n",
       "  color: var(--sklearn-color-fitted-level-1);\n",
       "}\n",
       "\n",
       "/* On hover */\n",
       "#sk-container-id-5 a.estimator_doc_link:hover {\n",
       "  /* unfitted */\n",
       "  background-color: var(--sklearn-color-unfitted-level-3);\n",
       "  color: var(--sklearn-color-background);\n",
       "  text-decoration: none;\n",
       "}\n",
       "\n",
       "#sk-container-id-5 a.estimator_doc_link.fitted:hover {\n",
       "  /* fitted */\n",
       "  background-color: var(--sklearn-color-fitted-level-3);\n",
       "}\n",
       "</style><div id=\"sk-container-id-5\" class=\"sk-top-container\"><div class=\"sk-text-repr-fallback\"><pre>Pipeline(steps=[(&#x27;tfidfvectorizer&#x27;,\n",
       "                 TfidfVectorizer(max_features=5000, ngram_range=(1, 2),\n",
       "                                 stop_words=&#x27;english&#x27;)),\n",
       "                (&#x27;logisticregression&#x27;,\n",
       "                 LogisticRegression(class_weight=&#x27;balanced&#x27;, max_iter=500))])</pre><b>In a Jupyter environment, please rerun this cell to show the HTML representation or trust the notebook. <br />On GitHub, the HTML representation is unable to render, please try loading this page with nbviewer.org.</b></div><div class=\"sk-container\" hidden><div class=\"sk-item sk-dashed-wrapped\"><div class=\"sk-label-container\"><div class=\"sk-label fitted sk-toggleable\"><input class=\"sk-toggleable__control sk-hidden--visually\" id=\"sk-estimator-id-13\" type=\"checkbox\" ><label for=\"sk-estimator-id-13\" class=\"sk-toggleable__label fitted sk-toggleable__label-arrow\"><div><div>Pipeline</div></div><div><a class=\"sk-estimator-doc-link fitted\" rel=\"noreferrer\" target=\"_blank\" href=\"https://scikit-learn.org/1.6/modules/generated/sklearn.pipeline.Pipeline.html\">?<span>Documentation for Pipeline</span></a><span class=\"sk-estimator-doc-link fitted\">i<span>Fitted</span></span></div></label><div class=\"sk-toggleable__content fitted\"><pre>Pipeline(steps=[(&#x27;tfidfvectorizer&#x27;,\n",
       "                 TfidfVectorizer(max_features=5000, ngram_range=(1, 2),\n",
       "                                 stop_words=&#x27;english&#x27;)),\n",
       "                (&#x27;logisticregression&#x27;,\n",
       "                 LogisticRegression(class_weight=&#x27;balanced&#x27;, max_iter=500))])</pre></div> </div></div><div class=\"sk-serial\"><div class=\"sk-item\"><div class=\"sk-estimator fitted sk-toggleable\"><input class=\"sk-toggleable__control sk-hidden--visually\" id=\"sk-estimator-id-14\" type=\"checkbox\" ><label for=\"sk-estimator-id-14\" class=\"sk-toggleable__label fitted sk-toggleable__label-arrow\"><div><div>TfidfVectorizer</div></div><div><a class=\"sk-estimator-doc-link fitted\" rel=\"noreferrer\" target=\"_blank\" href=\"https://scikit-learn.org/1.6/modules/generated/sklearn.feature_extraction.text.TfidfVectorizer.html\">?<span>Documentation for TfidfVectorizer</span></a></div></label><div class=\"sk-toggleable__content fitted\"><pre>TfidfVectorizer(max_features=5000, ngram_range=(1, 2), stop_words=&#x27;english&#x27;)</pre></div> </div></div><div class=\"sk-item\"><div class=\"sk-estimator fitted sk-toggleable\"><input class=\"sk-toggleable__control sk-hidden--visually\" id=\"sk-estimator-id-15\" type=\"checkbox\" ><label for=\"sk-estimator-id-15\" class=\"sk-toggleable__label fitted sk-toggleable__label-arrow\"><div><div>LogisticRegression</div></div><div><a class=\"sk-estimator-doc-link fitted\" rel=\"noreferrer\" target=\"_blank\" href=\"https://scikit-learn.org/1.6/modules/generated/sklearn.linear_model.LogisticRegression.html\">?<span>Documentation for LogisticRegression</span></a></div></label><div class=\"sk-toggleable__content fitted\"><pre>LogisticRegression(class_weight=&#x27;balanced&#x27;, max_iter=500)</pre></div> </div></div></div></div></div></div>"
      ]
     },
     "execution_count": 87,
     "metadata": {},
     "output_type": "execute_result"
    }
   ],
   "execution_count": 87
  },
  {
   "cell_type": "code",
   "id": "a8b407cf",
   "metadata": {
    "execution": {
     "iopub.execute_input": "2025-01-22T12:58:06.807686Z",
     "iopub.status.busy": "2025-01-22T12:58:06.807356Z",
     "iopub.status.idle": "2025-01-22T12:58:07.345956Z",
     "shell.execute_reply": "2025-01-22T12:58:07.345020Z"
    },
    "papermill": {
     "duration": 0.54464,
     "end_time": "2025-01-22T12:58:07.347847",
     "exception": false,
     "start_time": "2025-01-22T12:58:06.803207",
     "status": "completed"
    },
    "tags": [],
    "ExecuteTime": {
     "end_time": "2025-01-23T05:09:28.316164Z",
     "start_time": "2025-01-23T05:09:27.490099Z"
    }
   },
   "source": "labels = model.predict(x_test)",
   "outputs": [],
   "execution_count": 88
  },
  {
   "cell_type": "code",
   "id": "f7470f45",
   "metadata": {
    "execution": {
     "iopub.execute_input": "2025-01-22T12:58:07.379283Z",
     "iopub.status.busy": "2025-01-22T12:58:07.378929Z",
     "iopub.status.idle": "2025-01-22T12:58:07.710870Z",
     "shell.execute_reply": "2025-01-22T12:58:07.710013Z"
    },
    "papermill": {
     "duration": 0.338471,
     "end_time": "2025-01-22T12:58:07.712682",
     "exception": false,
     "start_time": "2025-01-22T12:58:07.374211",
     "status": "completed"
    },
    "tags": [],
    "ExecuteTime": {
     "end_time": "2025-01-23T05:09:45.111609Z",
     "start_time": "2025-01-23T05:09:44.440468Z"
    }
   },
   "source": [
    "from sklearn.metrics import confusion_matrix, f1_score, classification_report\n",
    "\n",
    "category_names = pd.unique(y_train)\n",
    "print(classification_report(y_test, labels, target_names=category_names))\n",
    "mat = confusion_matrix(y_test, labels, labels=category_names)\n",
    "f1_score_result = f1_score(y_test, labels, average='micro')"
   ],
   "outputs": [
    {
     "name": "stdout",
     "output_type": "stream",
     "text": [
      "               precision    recall  f1-score   support\n",
      "\n",
      "ENTERTAINMENT       0.78      0.74      0.76     12603\n",
      "         NEWS       0.67      0.60      0.64     10464\n",
      "    LIFESTYLE       0.80      0.77      0.78     12236\n",
      "      SCIENCE       0.56      0.75      0.64      6603\n",
      "\n",
      "     accuracy                           0.72     41906\n",
      "    macro avg       0.70      0.72      0.71     41906\n",
      " weighted avg       0.72      0.72      0.72     41906\n",
      "\n"
     ]
    }
   ],
   "execution_count": 90
  },
  {
   "cell_type": "code",
   "id": "5fbb9ab2",
   "metadata": {
    "execution": {
     "iopub.execute_input": "2025-01-22T12:58:07.721453Z",
     "iopub.status.busy": "2025-01-22T12:58:07.721131Z",
     "iopub.status.idle": "2025-01-22T12:58:12.784005Z",
     "shell.execute_reply": "2025-01-22T12:58:12.782899Z"
    },
    "papermill": {
     "duration": 5.071959,
     "end_time": "2025-01-22T12:58:12.788542",
     "exception": false,
     "start_time": "2025-01-22T12:58:07.716583",
     "status": "completed"
    },
    "tags": [],
    "ExecuteTime": {
     "end_time": "2025-01-23T05:11:15.958873Z",
     "start_time": "2025-01-23T05:11:15.782706Z"
    }
   },
   "source": [
    "import matplotlib.pyplot as plt\n",
    "import seaborn as sns; sns.set_theme()\n",
    "import numpy as np\n",
    "\n",
    "np.set_printoptions(threshold=1000)\n",
    "\n",
    "print(f1_score_result)\n",
    "\n",
    "print(mat)\n",
    "\n",
    "plt.rcParams.update({'font.size': 8, 'figure.figsize': [2, 2]})\n",
    "sns.set(font_scale=0.8)\n",
    "sns.heatmap(mat.T, square=True, annot=True, fmt='d', cbar=False, xticklabels=category_names, yticklabels=category_names)\n",
    "plt.xlabel('true label')\n",
    "plt.ylabel('predicted label')"
   ],
   "outputs": [
    {
     "name": "stdout",
     "output_type": "stream",
     "text": [
      "0.715267503460125\n",
      "[[9280  804 1326 1193]\n",
      " [ 614 9417 1097 1108]\n",
      " [1484 1090 6327 1563]\n",
      " [ 551  462  640 4950]]\n"
     ]
    },
    {
     "data": {
      "text/plain": [
       "Text(-3.250000000000007, 0.5, 'predicted label')"
      ]
     },
     "execution_count": 93,
     "metadata": {},
     "output_type": "execute_result"
    },
    {
     "data": {
      "text/plain": [
       "<Figure size 200x200 with 1 Axes>"
      ],
      "image/png": "[encoded data removed]"
     },
     "metadata": {},
     "output_type": "display_data"
    }
   ],
   "execution_count": 93
  }
 ],
 "metadata": {
  "kaggle": {
   "accelerator": "none",
   "dataSources": [
    {
     "datasetId": 1550907,
     "sourceId": 2556316,
     "sourceType": "datasetVersion"
    },
    {
     "datasetId": 32526,
     "sourceId": 4243451,
     "sourceType": "datasetVersion"
    }
   ],
   "dockerImageVersionId": 30839,
   "isGpuEnabled": false,
   "isInternetEnabled": true,
   "language": "python",
   "sourceType": "notebook"
  },
  "kernelspec": {
   "display_name": "Python 3",
   "language": "python",
   "name": "python3"
  },
  "language_info": {
   "codemirror_mode": {
    "name": "ipython",
    "version": 3
   },
   "file_extension": ".py",
   "mimetype": "text/x-python",
   "name": "python",
   "nbconvert_exporter": "python",
   "pygments_lexer": "ipython3",
   "version": "3.10.12"
  },
  "papermill": {
   "default_parameters": {},
   "duration": 18.520466,
   "end_time": "2025-01-22T12:58:13.920573",
   "environment_variables": {},
   "exception": null,
   "input_path": "__notebook__.ipynb",
   "output_path": "__notebook__.ipynb",
   "parameters": {},
   "start_time": "2025-01-22T12:57:55.400107",
   "version": "2.6.0"
  }
 },
 "nbformat": 4,
 "nbformat_minor": 5
}
