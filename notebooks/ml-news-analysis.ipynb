{
 "cells": [
  {
   "cell_type": "markdown",
   "id": "ae7cca8d3174b8d6",
   "metadata": {},
   "source": [
    "# News Classification with Machine Learning\n",
    "\n",
    "This project demonstrates an application of natural language processing (NLP) to classify news stories.\n",
    "\n",
    "## Overview\n",
    "The notebook should be run in order initially. More details are documented with each section and in comments on code.\n",
    "1. [Load and setup data](#1---Load-and-Setup-Data) - load, split, and group data\n",
    "2. [Vectorize data](#2---Vectorize-Data) - identify common words and weights\n",
    "3. [Group categories using K-means clustering](#3---Group-Categories-Using-K-Means-Clustering) - identify clusters using vectorized data\n",
    "4. [Visualize category clusters](#4---Visualize-Category-Clusters) - render 3D scatter plot of categories\n",
    "5. [Visualize cluster features (keywords)](#5---Visualize-Cluster-Features) - render network graph of words connected to clusters\n",
    "6. [Train classification model](#6---Train-Classification-Model) - train model, test model, render confusion matrix\n",
    "7. [Predict from user input](#7---Predict-from-user-input) - accept user input to predict"
   ]
  },
  {
   "metadata": {},
   "cell_type": "markdown",
   "source": [
    "## **1** - Load and Setup Data\n",
    "\n",
    "1. Load data from json file\n",
    "2. Split into x (input, independent variable) and y (output, dependent variable)\n",
    "3. Split into train (80%) and test (remaining 20%)\n",
    "4. Create new articles_by_category dataframe with all text grouped into each category to use for clustering categories together\n",
    "\n",
    "### About the source dataset\n",
    "Load data from the CSV in the input directory.\n",
    "Data is structured as individual JSON lines with the following properties:\n",
    "\n",
    "| Column Name        | Type       | Description                    |\n",
    "|:-------------------|:-----------|:-------------------------------|\n",
    "| category           | category   | One of 42 categories           |\n",
    "| headline           | string     | Story headline                 |\n",
    "| short_description  | string     | Brief description of the story |\n",
    "| link               | string     | URL to story                   |\n",
    "| authors            | string     | Name of article authors        |\n",
    "| date               | YYYY-MM-DD | Date article was published     |\n",
    "\n",
    "#### Data source\n",
    "    Misra, Rishabh. \"News Category Dataset.\" arXiv preprint arXiv:2209.11429 (2022).\n",
    "    Misra, Rishabh and Jigyasa Grover. \"Sculpting Data for ML: The first act of Machine Learning.\" ISBN 9798585463570 (2021).\n",
    "    https://rishabhmisra.github.io/publications/"
   ],
   "id": "806fd44f7d24c8e"
  },
  {
   "cell_type": "code",
   "id": "8845fe4a",
   "metadata": {
    "papermill": {
     "duration": 0.919199,
     "end_time": "2025-01-22T12:57:58.995884",
     "exception": false,
     "start_time": "2025-01-22T12:57:58.076685",
     "status": "completed"
    },
    "tags": [],
    "ExecuteTime": {
     "end_time": "2025-01-27T09:46:33.643418Z",
     "start_time": "2025-01-27T09:46:31.422328Z"
    }
   },
   "source": [
    "import pandas as pd\n",
    "from sklearn.model_selection import train_test_split\n",
    "\n",
    "df = pd.read_json('../input/news-category-dataset/News_Category_Dataset_v3.json', lines=True)\n",
    "df['category'] = df['category'].astype('category') # Set category column as panda's category type to ensure efficient processing\n",
    "df['full_text'] = df['headline'] + ' ' + df['short_description']\n",
    "\n",
    "x = df['full_text'] # x, input, independent variable, is all text headline + short_description\n",
    "y = df[['category']] # y, output, dependent variable, is dataframe with only category column\n",
    "\n",
    "# Split data into train (80%) and test (remaining 20%). Use stratify to ensure even split of categories\n",
    "x_train, x_test, y_train, y_test = train_test_split(x, y, test_size=0.2, stratify=y['category'], random_state=5)\n",
    "\n",
    "# Group training data by category\n",
    "articles_by_category = (\n",
    "    df\n",
    "        .groupby(['category'], observed=True)[['category', 'full_text']]\n",
    "        .apply(lambda article: ' '.join(article['full_text'].astype(str))) # all_articles column contains text from all articles for the category\n",
    "        .reset_index(name='all_articles')\n",
    ")\n",
    "\n",
    "category_names = articles_by_category['category']"
   ],
   "outputs": [],
   "execution_count": 1671
  },
  {
   "metadata": {},
   "cell_type": "markdown",
   "source": [
    "## **2** - Vectorize Data\n",
    "\n",
    "Using a term frequency - inverse document frequency (TF-IDF) algorithm, extract the top 15k words used amongst all categories. Use a score to determine weight of each term based on frequency and uniqueness to a specific category.\n",
    "\n",
    "1. Articles are tokenized\n",
    "    1. **Separate** \"all_articles\" by words into a list\n",
    "    2. **Lowercase** all words so words like \"President\" and \"president\" are treated as equal\n",
    "    3. **Lemmatize** each word so \"runs\" and \"run\" are treated as equal\n",
    "    4. Filter out **stop words** so words like \"the\" and \"and\" that do not add meaning do not skew results.\n",
    "    5. Filter out words **less than 3 characters**.\n",
    "2. Count terms in each document\n",
    "3. Score term frequency by determining frequency in individual documents and weighting terms that are more distinct in particular documents\n",
    "4. Limit to top 15k words (max features)"
   ],
   "id": "d05cc2883d94a34d"
  },
  {
   "cell_type": "code",
   "id": "464057fe3a8a14a3",
   "metadata": {
    "ExecuteTime": {
     "end_time": "2025-01-27T09:47:41.352469Z",
     "start_time": "2025-01-27T09:46:33.807832Z"
    }
   },
   "source": [
    "import nltk\n",
    "import subprocess\n",
    "import sys\n",
    "import re\n",
    "from nltk.tokenize import word_tokenize\n",
    "from nltk.stem import WordNetLemmatizer\n",
    "from nltk.corpus import stopwords\n",
    "from sklearn.feature_extraction.text import TfidfVectorizer\n",
    "\n",
    "'''\n",
    "Download data needed for tokenization\n",
    "'''\n",
    "try:\n",
    "    nltk.data.find('wordnet') # Attempt to locate wordnet\n",
    "except LookupError:\n",
    "    # When wordnet data is not found, download to working directory and unzip.\n",
    "    nltk.download('wordnet', download_dir='../working/', quiet=True)\n",
    "    if sys.platform.startswith('linux'): # Unzip is necessary on Kaggle but this will work in any linux based environment\n",
    "        command = \"unzip -o -q ../working/corpora/wordnet.zip -d ../working/corpora\"\n",
    "        subprocess.run(command.split())\n",
    "        nltk.data.path.append('../working/')\n",
    "\n",
    "nltk.download('stopwords', quiet=True)\n",
    "nltk.download('punkt', quiet=True)\n",
    "nltk.download('punkt_tab', quiet=True)\n",
    "\n",
    "'''\n",
    "TF-IDF Vectorizer\n",
    "'''\n",
    "# lemmatizer is used to convert words to a common version. For example, \"runs\" and \"run\" become \"run\"\n",
    "lemmatizer = WordNetLemmatizer()\n",
    "# stopwords are common words that do not add meaning. Words like \"the\" \"and\" add noise so this list can filter these\n",
    "stopwords_list = stopwords.words('english') + ['want', 'say', 'way', 'need', 'said', 'get', 'like', 'could', 'thing']\n",
    "\n",
    "# Define tokenizer function for use during vectorization\n",
    "def tokenizer(text):\n",
    "    # tokenize the string - split the sentence to the individual words, remove non-alphanumeric characters, and lowercase the tokens\n",
    "    tokens = [re.sub(r'[^A-Za-z0-9]', '', t).strip() for t in word_tokenize(text.lower())]\n",
    "    # remove stopwords and words less than 3 characters\n",
    "    return [lemmatizer.lemmatize(token) for token in tokens if token not in stopwords_list and len(token) > 2]\n",
    "\n",
    "# TfidfVectorizer counts words in each document, then uses the TF-IDF algorithm to determine each term (features) weight\n",
    "vectorizer_settings = dict(tokenizer=tokenizer, max_features=15000, token_pattern=None)\n",
    "vectorizer = TfidfVectorizer(**vectorizer_settings)\n",
    "# Apply vectorizer to the articles by category dataframe\n",
    "tfidf_category_matrix = vectorizer.fit_transform(articles_by_category['all_articles'])"
   ],
   "outputs": [],
   "execution_count": 1672
  },
  {
   "metadata": {},
   "cell_type": "markdown",
   "source": [
    "## **3** - Group Categories Using K-Means Clustering\n",
    "\n",
    "Use the K-Means clustering algorithm to determine categories that should be grouped together. The K-Means algorithm is an unsupervised clustering algorithm used to identify a specific number of clusters from the provided data.\n",
    "\n",
    "1. Find clusters using K-Means algorithm\n",
    "2. Calculate mean TF-IDF matrix for each cluster\n",
    "3. Find the dominant categories in each cluster using the cosine_similarity to the cluster TF-IDF matrix (60%) and article count (40%)\n",
    "4. Use the top categories for the cluster to create a cluster name in the format \"Category 1 - Category 2 - Category 3\" where \"Category #\" is the name of the category.\n",
    "5. Add a column to the y dataframes with the cluster name"
   ],
   "id": "1616e938fa493ba"
  },
  {
   "cell_type": "code",
   "id": "1f89e360a98a4800",
   "metadata": {
    "ExecuteTime": {
     "end_time": "2025-01-27T09:47:44.692470Z",
     "start_time": "2025-01-27T09:47:41.518672Z"
    }
   },
   "source": [
    "from sklearn.cluster import KMeans\n",
    "import numpy as np\n",
    "from collections import defaultdict\n",
    "from sklearn.metrics.pairwise import cosine_similarity\n",
    "\n",
    "'''\n",
    "K-Means Clustering\n",
    "\n",
    "Find specific number of clusters\n",
    "'''\n",
    "kmeans = KMeans(n_clusters=4, random_state=20, max_iter=500, init='random', n_init=300)\n",
    "kmeans_results = kmeans.fit(tfidf_category_matrix)\n",
    "\n",
    "'''\n",
    " For each category, find the assigned cluster. Use cluster_categories dict to store the list of categories for each cluster.\n",
    "\n",
    " Example where 6 categories are clustered in two groups:\n",
    "    # input\n",
    "    kmeans_results.labels_ == [1, 1, 0, 0, 1, 1]\n",
    "    # expected output\n",
    "    cluster_categories == {\n",
    "        0: [2, 3],\n",
    "        1: [0, 1, 4, 5]\n",
    "    }\n",
    "'''\n",
    "cluster_categories = defaultdict(list)\n",
    "for i, label in enumerate(kmeans_results.labels_):\n",
    "    cluster_categories[label].append(i)\n",
    "\n",
    "# Find mean for all TF-IDF matrices in each cluster.\n",
    "cluster_tfidf_matrices = {}\n",
    "for cluster_id, category_indices in cluster_categories.items():\n",
    "    cluster_tfidf_matrices[cluster_id] = np.asarray(np.mean(tfidf_category_matrix[category_indices], axis=0))\n",
    "\n",
    "# Use mean matrices to determine dominant categories in each cluster\n",
    "dominant_categories = [] # After following for loop, result in name of each cluster using dominant categories in each cluster\n",
    "category_dominance_scores = [0] * len(category_names) # Initialize an array of 0 for each category\n",
    "for cluster_id, category_indices in cluster_categories.items(): # Use cluster_categories generated above\n",
    "    # Compare each category TF-IDF matrix to the overall cluster TF-IDF mean matrix using cosine similarity.\n",
    "    # Cosine similarity compares the **angle** between the vectors which ensures clusters with more articles are not unfairly weighted at this stage.\n",
    "    cluster_tfidf = cluster_tfidf_matrices[cluster_id]\n",
    "    similarity = cosine_similarity(tfidf_category_matrix[category_indices], cluster_tfidf)\n",
    "\n",
    "    # Get the article counts for each category using the x_train (from before the articles_by_category grouping)\n",
    "    article_counts = np.array([len(x_train[y_train['category'] == category_names[i]]) for i in category_indices])\n",
    "    article_counts = article_counts / article_counts.sum() # normalize counts\n",
    "\n",
    "    # Use a combination of similarity and article count with a high weight on the TF-IDF similarity aspect\n",
    "    combined_scores = 0.6 * similarity.flatten() + 0.4 * article_counts\n",
    "\n",
    "    top_3_indices = np.argsort(combined_scores)[-3:][::-1] # Find top 3 scores - returns indices of combined_scores\n",
    "    top_3_names = [category_names[category_indices[i]] for i in top_3_indices] # Use top_3 indexes to index over the category_indices and map to category names\n",
    "\n",
    "    dominant_categories.append(\" - \".join(top_3_names)) # Join top_3_names with \" - \" between each category\n",
    "\n",
    "    # Store dominance scores to be used by the 3D scatter plot later\n",
    "    # Will inform the size of the scatter points to show dominance within the category\n",
    "    for list_idx, cat_idx in enumerate(category_indices):\n",
    "        category_dominance_scores[cat_idx] = combined_scores[list_idx]\n",
    "\n",
    "def map_to_cluster(category):\n",
    "    sub_cat_idx = articles_by_category[articles_by_category['category'] == category].index[0] # Determine index for matching category string\n",
    "    cluster_idx = kmeans_results.labels_[sub_cat_idx] # Use index to find cluster index\n",
    "    return dominant_categories[cluster_idx] # use name instead of cluster number\n",
    "\n",
    "# Add the clusters as a new column on the training data\n",
    "y_train['cluster_category'] = y_train['category'].map(map_to_cluster).astype('category')\n",
    "y_test['cluster_category'] = y_test['category'].map(map_to_cluster).astype('category')\n",
    "\n",
    "print(dominant_categories)"
   ],
   "outputs": [
    {
     "name": "stdout",
     "output_type": "stream",
     "text": [
      "['ENTERTAINMENT - STYLE & BEAUTY - ARTS', 'WELLNESS - IMPACT - HEALTHY LIVING', 'POLITICS - WORLD NEWS - THE WORLDPOST', 'FOOD & DRINK - TASTE']\n"
     ]
    }
   ],
   "execution_count": 1673
  },
  {
   "metadata": {},
   "cell_type": "markdown",
   "source": [
    "## **4** - Visualize Category Clusters\n",
    "\n",
    "1. Use a t-SNE dimensionality reduction algorithm to reduce the 15k features to 3 dimensions\n",
    "2. Plot to 3D scatter plot\n",
    "   1. Plot point **size** is based on category **dominance** in the cluster.\n",
    "   2. Plot point **color** is based on the **cluster**. Same color categories are grouped together in a single cluster.\n",
    "\n",
    "\n",
    "**Click and drag** on the visualization. Scatter plot is interactive."
   ],
   "id": "68a5205087969f4c"
  },
  {
   "cell_type": "code",
   "id": "91675bac39315d3",
   "metadata": {
    "ExecuteTime": {
     "end_time": "2025-01-27T09:47:48.507715Z",
     "start_time": "2025-01-27T09:47:44.703764Z"
    }
   },
   "source": [
    "import sklearn\n",
    "from sklearn.manifold import TSNE\n",
    "import plotly.graph_objects as go\n",
    "\n",
    "# Depending on version of sklearn in the environment, use the max_iter (new property) or n_iter (deprecated)\n",
    "# Necessary for Kaggle support\n",
    "tsne_iter_prop = dict(max_iter=15000)\n",
    "major, minor, patch = list(map(int, sklearn.__version__.split('.')))\n",
    "if major < 1 or minor < 5:\n",
    "    tsne_iter_prop = dict(n_iter=15000)\n",
    "\n",
    "'''\n",
    "t-SNE Dimensionality Reduction\n",
    "\n",
    "Algorithm takes highly dimensional feature matrix and reduces it to 3d array that can be used to visualize the clusters\n",
    "'''\n",
    "tsne = TSNE(n_components=3, init='random', random_state=5, perplexity=20, learning_rate=100, early_exaggeration=32, **tsne_iter_prop)\n",
    "reduced_data = tsne.fit_transform(tfidf_category_matrix)\n",
    "\n",
    "# Calculate marker_sizes using the category_dominance_scores as the weight\n",
    "marker_sizes = np.array(category_dominance_scores) * 30\n",
    "axis_base = dict(showbackground=False, showgrid=True, gridcolor='#ddd', zerolinecolor='black')\n",
    "\n",
    "fig = go.Figure(\n",
    "    data=[go.Scatter3d(\n",
    "        x=reduced_data[:, 0], y=reduced_data[:, 1], z=reduced_data[:, 2],\n",
    "        text=category_names, mode='markers', textposition='top center',\n",
    "        marker=dict(size=marker_sizes, color=kmeans_results.labels_, colorscale='Rainbow', symbol='circle'),\n",
    "    )],\n",
    "    layout=go.Layout(\n",
    "        width=800, height=800, margin=dict(l=0, r=0, b=0, t=30, pad=0),\n",
    "        scene=dict(\n",
    "            xaxis=dict(axis_base, title='t-SNE Dimension 1'),\n",
    "            yaxis=dict(axis_base, title='t-SNE Dimension 2'),\n",
    "            zaxis=dict(axis_base, title='t-SNE Dimension 3'),\n",
    "        ),\n",
    "        title='Category Cluster Scatterplot'\n",
    "    ),\n",
    ")\n",
    "\n",
    "fig.update_traces(mode='markers+text') # show labels on points\n",
    "\n",
    "fig.show()"
   ],
   "outputs": [
    {
     "data": {
      "application/vnd.plotly.v1+json": {
       "data": [
        {
         "marker": {
          "color": [
           1,
           1,
           1,
           0,
           0,
           2,
           0,
           1,
           0,
           0,
           1,
           0,
           0,
           3,
           0,
           0,
           0,
           1,
           0,
           2,
           2,
           0,
           0,
           0,
           2,
           0,
           0,
           0,
           0,
           1,
           1,
           3,
           0,
           2,
           0,
           2,
           1,
           0,
           0,
           0,
           2,
           2
          ],
          "colorscale": [
           [
            0.0,
            "rgb(150,0,90)"
           ],
           [
            0.125,
            "rgb(0,0,200)"
           ],
           [
            0.25,
            "rgb(0,25,255)"
           ],
           [
            0.375,
            "rgb(0,152,255)"
           ],
           [
            0.5,
            "rgb(44,255,150)"
           ],
           [
            0.625,
            "rgb(151,255,0)"
           ],
           [
            0.75,
            "rgb(255,234,0)"
           ],
           [
            0.875,
            "rgb(255,111,0)"
           ],
           [
            1.0,
            "rgb(255,0,0)"
           ]
          ],
          "size": [
           14.189827700527314,
           13.974464613606465,
           13.08332979505778,
           14.50228284088716,
           9.836842958217964,
           13.161628624434448,
           9.76936985305476,
           13.921184874088404,
           8.780501985682484,
           10.138306185078465,
           18.346485162682235,
           11.870419153798624,
           15.24713954188472,
           26.624140902159247,
           13.625497497820191,
           12.248668623186445,
           15.469240125637608,
           12.654019883743194,
           15.942280314269187,
           11.267494935077158,
           13.522834125113766,
           12.089504530352315,
           14.543182488093237,
           13.441433084944745,
           21.912548766111463,
           11.320542367373717,
           11.00599000642609,
           11.396018688165366,
           10.785384757203863,
           13.469532040914224,
           15.374006895601118,
           20.587691057738176,
           11.23721701056365,
           15.165287889421826,
           13.30274756855358,
           13.241836683107369,
           9.689934954593122,
           13.250894159670834,
           16.715864187498564,
           11.87327123542346,
           15.674513086161854,
           13.781269896816898
          ],
          "symbol": "circle"
         },
         "mode": "markers+text",
         "text": [
          "ARTS",
          "ARTS & CULTURE",
          "BLACK VOICES",
          "BUSINESS",
          "COLLEGE",
          "COMEDY",
          "CRIME",
          "CULTURE & ARTS",
          "DIVORCE",
          "EDUCATION",
          "ENTERTAINMENT",
          "ENVIRONMENT",
          "FIFTY",
          "FOOD & DRINK",
          "GOOD NEWS",
          "GREEN",
          "HEALTHY LIVING",
          "HOME & LIVING",
          "IMPACT",
          "LATINO VOICES",
          "MEDIA",
          "MONEY",
          "PARENTING",
          "PARENTS",
          "POLITICS",
          "QUEER VOICES",
          "RELIGION",
          "SCIENCE",
          "SPORTS",
          "STYLE",
          "STYLE & BEAUTY",
          "TASTE",
          "TECH",
          "THE WORLDPOST",
          "TRAVEL",
          "U.S. NEWS",
          "WEDDINGS",
          "WEIRD NEWS",
          "WELLNESS",
          "WOMEN",
          "WORLD NEWS",
          "WORLDPOST"
         ],
         "textposition": "top center",
         "x": [
          -572.5328369140625,
          623.3486938476562,
          1165.04296875,
          512.2869873046875,
          157.99697875976562,
          -1074.353759765625,
          -981.9027709960938,
          -339.7384033203125,
          -155.9665985107422,
          -93.67426300048828,
          845.6503295898438,
          -379.4930725097656,
          375.3429870605469,
          -669.5597534179688,
          -322.5410461425781,
          -61.69123458862305,
          76.11305236816406,
          -307.6754150390625,
          86.82798767089844,
          -1232.20068359375,
          -918.9168090820312,
          -178.88485717773438,
          91.00244140625,
          -133.6099853515625,
          646.3675537109375,
          759.4402465820312,
          -658.7946166992188,
          -64.0085678100586,
          543.4031982421875,
          1122.535888671875,
          -690.2891845703125,
          -659.127197265625,
          658.6033325195312,
          -262.96978759765625,
          -439.2078857421875,
          755.1868286132812,
          -936.1143188476562,
          455.9257507324219,
          245.38414001464844,
          947.64404296875,
          533.032958984375,
          -95.570068359375
         ],
         "y": [
          748.1921997070312,
          -823.2545776367188,
          252.72850036621094,
          928.9839477539062,
          -543.0017700195312,
          -380.550537109375,
          284.27838134765625,
          1149.425537109375,
          -26.641315460205078,
          786.6444091796875,
          250.13108825683594,
          -287.8703308105469,
          129.9643096923828,
          -546.9452514648438,
          219.0790557861328,
          -560.158203125,
          61.04817581176758,
          915.823974609375,
          593.4384155273438,
          278.452880859375,
          285.73956298828125,
          -1496.2191162109375,
          530.5164184570312,
          178.78338623046875,
          22.98135757446289,
          692.0376586914062,
          -170.85015869140625,
          -418.7946472167969,
          309.8841552734375,
          -412.5130920410156,
          1044.2747802734375,
          -902.211181640625,
          -871.745361328125,
          -881.3728637695312,
          384.9794006347656,
          -157.5254364013672,
          -567.9449462890625,
          -231.49160766601562,
          -353.6832580566406,
          -44.51530456542969,
          576.3850708007812,
          -1029.576171875
         ],
         "z": [
          349.23101806640625,
          -363.62799072265625,
          -283.39544677734375,
          65.3389663696289,
          -1101.6983642578125,
          -188.00900268554688,
          -688.6775512695312,
          286.21832275390625,
          1100.137451171875,
          1053.3914794921875,
          160.0184783935547,
          -286.27264404296875,
          769.877197265625,
          -910.1161499023438,
          -911.6889038085938,
          -424.25433349609375,
          -485.1527099609375,
          -634.4772338867188,
          -74.30980682373047,
          108.8764419555664,
          806.9983520507812,
          441.2899169921875,
          507.64495849609375,
          413.4933776855469,
          -1214.1380615234375,
          695.5697631835938,
          334.94366455078125,
          186.96035766601562,
          -249.24813842773438,
          74.86006927490234,
          -319.06988525390625,
          -659.4707641601562,
          483.96026611328125,
          571.3939819335938,
          -212.45135498046875,
          -618.8759765625,
          822.7919921875,
          -16.857208251953125,
          619.3106079101562,
          722.5220336914062,
          -848.0402221679688,
          49.03087615966797
         ],
         "type": "scatter3d"
        }
       ],
       "layout": {
        "height": 800,
        "margin": {
         "b": 0,
         "l": 0,
         "pad": 0,
         "r": 0,
         "t": 30
        },
        "scene": {
         "xaxis": {
          "gridcolor": "#ddd",
          "showbackground": false,
          "showgrid": true,
          "title": {
           "text": "t-SNE Dimension 1"
          },
          "zerolinecolor": "black"
         },
         "yaxis": {
          "gridcolor": "#ddd",
          "showbackground": false,
          "showgrid": true,
          "title": {
           "text": "t-SNE Dimension 2"
          },
          "zerolinecolor": "black"
         },
         "zaxis": {
          "gridcolor": "#ddd",
          "showbackground": false,
          "showgrid": true,
          "title": {
           "text": "t-SNE Dimension 3"
          },
          "zerolinecolor": "black"
         }
        },
        "title": {
         "text": "Category Cluster Scatterplot"
        },
        "width": 800,
        "template": {
         "data": {
          "histogram2dcontour": [
           {
            "type": "histogram2dcontour",
            "colorbar": {
             "outlinewidth": 0,
             "ticks": ""
            },
            "colorscale": [
             [
              0.0,
              "#0d0887"
             ],
             [
              0.1111111111111111,
              "#46039f"
             ],
             [
              0.2222222222222222,
              "#7201a8"
             ],
             [
              0.3333333333333333,
              "#9c179e"
             ],
             [
              0.4444444444444444,
              "#bd3786"
             ],
             [
              0.5555555555555556,
              "#d8576b"
             ],
             [
              0.6666666666666666,
              "#ed7953"
             ],
             [
              0.7777777777777778,
              "#fb9f3a"
             ],
             [
              0.8888888888888888,
              "#fdca26"
             ],
             [
              1.0,
              "#f0f921"
             ]
            ]
           }
          ],
          "choropleth": [
           {
            "type": "choropleth",
            "colorbar": {
             "outlinewidth": 0,
             "ticks": ""
            }
           }
          ],
          "histogram2d": [
           {
            "type": "histogram2d",
            "colorbar": {
             "outlinewidth": 0,
             "ticks": ""
            },
            "colorscale": [
             [
              0.0,
              "#0d0887"
             ],
             [
              0.1111111111111111,
              "#46039f"
             ],
             [
              0.2222222222222222,
              "#7201a8"
             ],
             [
              0.3333333333333333,
              "#9c179e"
             ],
             [
              0.4444444444444444,
              "#bd3786"
             ],
             [
              0.5555555555555556,
              "#d8576b"
             ],
             [
              0.6666666666666666,
              "#ed7953"
             ],
             [
              0.7777777777777778,
              "#fb9f3a"
             ],
             [
              0.8888888888888888,
              "#fdca26"
             ],
             [
              1.0,
              "#f0f921"
             ]
            ]
           }
          ],
          "heatmap": [
           {
            "type": "heatmap",
            "colorbar": {
             "outlinewidth": 0,
             "ticks": ""
            },
            "colorscale": [
             [
              0.0,
              "#0d0887"
             ],
             [
              0.1111111111111111,
              "#46039f"
             ],
             [
              0.2222222222222222,
              "#7201a8"
             ],
             [
              0.3333333333333333,
              "#9c179e"
             ],
             [
              0.4444444444444444,
              "#bd3786"
             ],
             [
              0.5555555555555556,
              "#d8576b"
             ],
             [
              0.6666666666666666,
              "#ed7953"
             ],
             [
              0.7777777777777778,
              "#fb9f3a"
             ],
             [
              0.8888888888888888,
              "#fdca26"
             ],
             [
              1.0,
              "#f0f921"
             ]
            ]
           }
          ],
          "heatmapgl": [
           {
            "type": "heatmapgl",
            "colorbar": {
             "outlinewidth": 0,
             "ticks": ""
            },
            "colorscale": [
             [
              0.0,
              "#0d0887"
             ],
             [
              0.1111111111111111,
              "#46039f"
             ],
             [
              0.2222222222222222,
              "#7201a8"
             ],
             [
              0.3333333333333333,
              "#9c179e"
             ],
             [
              0.4444444444444444,
              "#bd3786"
             ],
             [
              0.5555555555555556,
              "#d8576b"
             ],
             [
              0.6666666666666666,
              "#ed7953"
             ],
             [
              0.7777777777777778,
              "#fb9f3a"
             ],
             [
              0.8888888888888888,
              "#fdca26"
             ],
             [
              1.0,
              "#f0f921"
             ]
            ]
           }
          ],
          "contourcarpet": [
           {
            "type": "contourcarpet",
            "colorbar": {
             "outlinewidth": 0,
             "ticks": ""
            }
           }
          ],
          "contour": [
           {
            "type": "contour",
            "colorbar": {
             "outlinewidth": 0,
             "ticks": ""
            },
            "colorscale": [
             [
              0.0,
              "#0d0887"
             ],
             [
              0.1111111111111111,
              "#46039f"
             ],
             [
              0.2222222222222222,
              "#7201a8"
             ],
             [
              0.3333333333333333,
              "#9c179e"
             ],
             [
              0.4444444444444444,
              "#bd3786"
             ],
             [
              0.5555555555555556,
              "#d8576b"
             ],
             [
              0.6666666666666666,
              "#ed7953"
             ],
             [
              0.7777777777777778,
              "#fb9f3a"
             ],
             [
              0.8888888888888888,
              "#fdca26"
             ],
             [
              1.0,
              "#f0f921"
             ]
            ]
           }
          ],
          "surface": [
           {
            "type": "surface",
            "colorbar": {
             "outlinewidth": 0,
             "ticks": ""
            },
            "colorscale": [
             [
              0.0,
              "#0d0887"
             ],
             [
              0.1111111111111111,
              "#46039f"
             ],
             [
              0.2222222222222222,
              "#7201a8"
             ],
             [
              0.3333333333333333,
              "#9c179e"
             ],
             [
              0.4444444444444444,
              "#bd3786"
             ],
             [
              0.5555555555555556,
              "#d8576b"
             ],
             [
              0.6666666666666666,
              "#ed7953"
             ],
             [
              0.7777777777777778,
              "#fb9f3a"
             ],
             [
              0.8888888888888888,
              "#fdca26"
             ],
             [
              1.0,
              "#f0f921"
             ]
            ]
           }
          ],
          "mesh3d": [
           {
            "type": "mesh3d",
            "colorbar": {
             "outlinewidth": 0,
             "ticks": ""
            }
           }
          ],
          "scatter": [
           {
            "fillpattern": {
             "fillmode": "overlay",
             "size": 10,
             "solidity": 0.2
            },
            "type": "scatter"
           }
          ],
          "parcoords": [
           {
            "type": "parcoords",
            "line": {
             "colorbar": {
              "outlinewidth": 0,
              "ticks": ""
             }
            }
           }
          ],
          "scatterpolargl": [
           {
            "type": "scatterpolargl",
            "marker": {
             "colorbar": {
              "outlinewidth": 0,
              "ticks": ""
             }
            }
           }
          ],
          "bar": [
           {
            "error_x": {
             "color": "#2a3f5f"
            },
            "error_y": {
             "color": "#2a3f5f"
            },
            "marker": {
             "line": {
              "color": "#E5ECF6",
              "width": 0.5
             },
             "pattern": {
              "fillmode": "overlay",
              "size": 10,
              "solidity": 0.2
             }
            },
            "type": "bar"
           }
          ],
          "scattergeo": [
           {
            "type": "scattergeo",
            "marker": {
             "colorbar": {
              "outlinewidth": 0,
              "ticks": ""
             }
            }
           }
          ],
          "scatterpolar": [
           {
            "type": "scatterpolar",
            "marker": {
             "colorbar": {
              "outlinewidth": 0,
              "ticks": ""
             }
            }
           }
          ],
          "histogram": [
           {
            "marker": {
             "pattern": {
              "fillmode": "overlay",
              "size": 10,
              "solidity": 0.2
             }
            },
            "type": "histogram"
           }
          ],
          "scattergl": [
           {
            "type": "scattergl",
            "marker": {
             "colorbar": {
              "outlinewidth": 0,
              "ticks": ""
             }
            }
           }
          ],
          "scatter3d": [
           {
            "type": "scatter3d",
            "line": {
             "colorbar": {
              "outlinewidth": 0,
              "ticks": ""
             }
            },
            "marker": {
             "colorbar": {
              "outlinewidth": 0,
              "ticks": ""
             }
            }
           }
          ],
          "scattermapbox": [
           {
            "type": "scattermapbox",
            "marker": {
             "colorbar": {
              "outlinewidth": 0,
              "ticks": ""
             }
            }
           }
          ],
          "scatterternary": [
           {
            "type": "scatterternary",
            "marker": {
             "colorbar": {
              "outlinewidth": 0,
              "ticks": ""
             }
            }
           }
          ],
          "scattercarpet": [
           {
            "type": "scattercarpet",
            "marker": {
             "colorbar": {
              "outlinewidth": 0,
              "ticks": ""
             }
            }
           }
          ],
          "carpet": [
           {
            "aaxis": {
             "endlinecolor": "#2a3f5f",
             "gridcolor": "white",
             "linecolor": "white",
             "minorgridcolor": "white",
             "startlinecolor": "#2a3f5f"
            },
            "baxis": {
             "endlinecolor": "#2a3f5f",
             "gridcolor": "white",
             "linecolor": "white",
             "minorgridcolor": "white",
             "startlinecolor": "#2a3f5f"
            },
            "type": "carpet"
           }
          ],
          "table": [
           {
            "cells": {
             "fill": {
              "color": "#EBF0F8"
             },
             "line": {
              "color": "white"
             }
            },
            "header": {
             "fill": {
              "color": "#C8D4E3"
             },
             "line": {
              "color": "white"
             }
            },
            "type": "table"
           }
          ],
          "barpolar": [
           {
            "marker": {
             "line": {
              "color": "#E5ECF6",
              "width": 0.5
             },
             "pattern": {
              "fillmode": "overlay",
              "size": 10,
              "solidity": 0.2
             }
            },
            "type": "barpolar"
           }
          ],
          "pie": [
           {
            "automargin": true,
            "type": "pie"
           }
          ]
         },
         "layout": {
          "autotypenumbers": "strict",
          "colorway": [
           "#636efa",
           "#EF553B",
           "#00cc96",
           "#ab63fa",
           "#FFA15A",
           "#19d3f3",
           "#FF6692",
           "#B6E880",
           "#FF97FF",
           "#FECB52"
          ],
          "font": {
           "color": "#2a3f5f"
          },
          "hovermode": "closest",
          "hoverlabel": {
           "align": "left"
          },
          "paper_bgcolor": "white",
          "plot_bgcolor": "#E5ECF6",
          "polar": {
           "bgcolor": "#E5ECF6",
           "angularaxis": {
            "gridcolor": "white",
            "linecolor": "white",
            "ticks": ""
           },
           "radialaxis": {
            "gridcolor": "white",
            "linecolor": "white",
            "ticks": ""
           }
          },
          "ternary": {
           "bgcolor": "#E5ECF6",
           "aaxis": {
            "gridcolor": "white",
            "linecolor": "white",
            "ticks": ""
           },
           "baxis": {
            "gridcolor": "white",
            "linecolor": "white",
            "ticks": ""
           },
           "caxis": {
            "gridcolor": "white",
            "linecolor": "white",
            "ticks": ""
           }
          },
          "coloraxis": {
           "colorbar": {
            "outlinewidth": 0,
            "ticks": ""
           }
          },
          "colorscale": {
           "sequential": [
            [
             0.0,
             "#0d0887"
            ],
            [
             0.1111111111111111,
             "#46039f"
            ],
            [
             0.2222222222222222,
             "#7201a8"
            ],
            [
             0.3333333333333333,
             "#9c179e"
            ],
            [
             0.4444444444444444,
             "#bd3786"
            ],
            [
             0.5555555555555556,
             "#d8576b"
            ],
            [
             0.6666666666666666,
             "#ed7953"
            ],
            [
             0.7777777777777778,
             "#fb9f3a"
            ],
            [
             0.8888888888888888,
             "#fdca26"
            ],
            [
             1.0,
             "#f0f921"
            ]
           ],
           "sequentialminus": [
            [
             0.0,
             "#0d0887"
            ],
            [
             0.1111111111111111,
             "#46039f"
            ],
            [
             0.2222222222222222,
             "#7201a8"
            ],
            [
             0.3333333333333333,
             "#9c179e"
            ],
            [
             0.4444444444444444,
             "#bd3786"
            ],
            [
             0.5555555555555556,
             "#d8576b"
            ],
            [
             0.6666666666666666,
             "#ed7953"
            ],
            [
             0.7777777777777778,
             "#fb9f3a"
            ],
            [
             0.8888888888888888,
             "#fdca26"
            ],
            [
             1.0,
             "#f0f921"
            ]
           ],
           "diverging": [
            [
             0,
             "#8e0152"
            ],
            [
             0.1,
             "#c51b7d"
            ],
            [
             0.2,
             "#de77ae"
            ],
            [
             0.3,
             "#f1b6da"
            ],
            [
             0.4,
             "#fde0ef"
            ],
            [
             0.5,
             "#f7f7f7"
            ],
            [
             0.6,
             "#e6f5d0"
            ],
            [
             0.7,
             "#b8e186"
            ],
            [
             0.8,
             "#7fbc41"
            ],
            [
             0.9,
             "#4d9221"
            ],
            [
             1,
             "#276419"
            ]
           ]
          },
          "xaxis": {
           "gridcolor": "white",
           "linecolor": "white",
           "ticks": "",
           "title": {
            "standoff": 15
           },
           "zerolinecolor": "white",
           "automargin": true,
           "zerolinewidth": 2
          },
          "yaxis": {
           "gridcolor": "white",
           "linecolor": "white",
           "ticks": "",
           "title": {
            "standoff": 15
           },
           "zerolinecolor": "white",
           "automargin": true,
           "zerolinewidth": 2
          },
          "scene": {
           "xaxis": {
            "backgroundcolor": "#E5ECF6",
            "gridcolor": "white",
            "linecolor": "white",
            "showbackground": true,
            "ticks": "",
            "zerolinecolor": "white",
            "gridwidth": 2
           },
           "yaxis": {
            "backgroundcolor": "#E5ECF6",
            "gridcolor": "white",
            "linecolor": "white",
            "showbackground": true,
            "ticks": "",
            "zerolinecolor": "white",
            "gridwidth": 2
           },
           "zaxis": {
            "backgroundcolor": "#E5ECF6",
            "gridcolor": "white",
            "linecolor": "white",
            "showbackground": true,
            "ticks": "",
            "zerolinecolor": "white",
            "gridwidth": 2
           }
          },
          "shapedefaults": {
           "line": {
            "color": "#2a3f5f"
           }
          },
          "annotationdefaults": {
           "arrowcolor": "#2a3f5f",
           "arrowhead": 0,
           "arrowwidth": 1
          },
          "geo": {
           "bgcolor": "white",
           "landcolor": "#E5ECF6",
           "subunitcolor": "white",
           "showland": true,
           "showlakes": true,
           "lakecolor": "white"
          },
          "title": {
           "x": 0.05
          },
          "mapbox": {
           "style": "light"
          }
         }
        }
       },
       "config": {
        "plotlyServerURL": "https://plot.ly"
       }
      },
      "text/html": [
       "<div>                            <div id=\"90591dc6-c0c0-4903-b899-054b6a796e53\" class=\"plotly-graph-div\" style=\"height:800px; width:800px;\"></div>            <script type=\"text/javascript\">                require([\"plotly\"], function(Plotly) {                    window.PLOTLYENV=window.PLOTLYENV || {};                                    if (document.getElementById(\"90591dc6-c0c0-4903-b899-054b6a796e53\")) {                    Plotly.newPlot(                        \"90591dc6-c0c0-4903-b899-054b6a796e53\",                        [{\"marker\":{\"color\":[1,1,1,0,0,2,0,1,0,0,1,0,0,3,0,0,0,1,0,2,2,0,0,0,2,0,0,0,0,1,1,3,0,2,0,2,1,0,0,0,2,2],\"colorscale\":[[0.0,\"rgb(150,0,90)\"],[0.125,\"rgb(0,0,200)\"],[0.25,\"rgb(0,25,255)\"],[0.375,\"rgb(0,152,255)\"],[0.5,\"rgb(44,255,150)\"],[0.625,\"rgb(151,255,0)\"],[0.75,\"rgb(255,234,0)\"],[0.875,\"rgb(255,111,0)\"],[1.0,\"rgb(255,0,0)\"]],\"size\":[14.189827700527314,13.974464613606465,13.08332979505778,14.50228284088716,9.836842958217964,13.161628624434448,9.76936985305476,13.921184874088404,8.780501985682484,10.138306185078465,18.346485162682235,11.870419153798624,15.24713954188472,26.624140902159247,13.625497497820191,12.248668623186445,15.469240125637608,12.654019883743194,15.942280314269187,11.267494935077158,13.522834125113766,12.089504530352315,14.543182488093237,13.441433084944745,21.912548766111463,11.320542367373717,11.00599000642609,11.396018688165366,10.785384757203863,13.469532040914224,15.374006895601118,20.587691057738176,11.23721701056365,15.165287889421826,13.30274756855358,13.241836683107369,9.689934954593122,13.250894159670834,16.715864187498564,11.87327123542346,15.674513086161854,13.781269896816898],\"symbol\":\"circle\"},\"mode\":\"markers+text\",\"text\":[\"ARTS\",\"ARTS & CULTURE\",\"BLACK VOICES\",\"BUSINESS\",\"COLLEGE\",\"COMEDY\",\"CRIME\",\"CULTURE & ARTS\",\"DIVORCE\",\"EDUCATION\",\"ENTERTAINMENT\",\"ENVIRONMENT\",\"FIFTY\",\"FOOD & DRINK\",\"GOOD NEWS\",\"GREEN\",\"HEALTHY LIVING\",\"HOME & LIVING\",\"IMPACT\",\"LATINO VOICES\",\"MEDIA\",\"MONEY\",\"PARENTING\",\"PARENTS\",\"POLITICS\",\"QUEER VOICES\",\"RELIGION\",\"SCIENCE\",\"SPORTS\",\"STYLE\",\"STYLE & BEAUTY\",\"TASTE\",\"TECH\",\"THE WORLDPOST\",\"TRAVEL\",\"U.S. NEWS\",\"WEDDINGS\",\"WEIRD NEWS\",\"WELLNESS\",\"WOMEN\",\"WORLD NEWS\",\"WORLDPOST\"],\"textposition\":\"top center\",\"x\":[-572.5328369140625,623.3486938476562,1165.04296875,512.2869873046875,157.99697875976562,-1074.353759765625,-981.9027709960938,-339.7384033203125,-155.9665985107422,-93.67426300048828,845.6503295898438,-379.4930725097656,375.3429870605469,-669.5597534179688,-322.5410461425781,-61.69123458862305,76.11305236816406,-307.6754150390625,86.82798767089844,-1232.20068359375,-918.9168090820312,-178.88485717773438,91.00244140625,-133.6099853515625,646.3675537109375,759.4402465820312,-658.7946166992188,-64.0085678100586,543.4031982421875,1122.535888671875,-690.2891845703125,-659.127197265625,658.6033325195312,-262.96978759765625,-439.2078857421875,755.1868286132812,-936.1143188476562,455.9257507324219,245.38414001464844,947.64404296875,533.032958984375,-95.570068359375],\"y\":[748.1921997070312,-823.2545776367188,252.72850036621094,928.9839477539062,-543.0017700195312,-380.550537109375,284.27838134765625,1149.425537109375,-26.641315460205078,786.6444091796875,250.13108825683594,-287.8703308105469,129.9643096923828,-546.9452514648438,219.0790557861328,-560.158203125,61.04817581176758,915.823974609375,593.4384155273438,278.452880859375,285.73956298828125,-1496.2191162109375,530.5164184570312,178.78338623046875,22.98135757446289,692.0376586914062,-170.85015869140625,-418.7946472167969,309.8841552734375,-412.5130920410156,1044.2747802734375,-902.211181640625,-871.745361328125,-881.3728637695312,384.9794006347656,-157.5254364013672,-567.9449462890625,-231.49160766601562,-353.6832580566406,-44.51530456542969,576.3850708007812,-1029.576171875],\"z\":[349.23101806640625,-363.62799072265625,-283.39544677734375,65.3389663696289,-1101.6983642578125,-188.00900268554688,-688.6775512695312,286.21832275390625,1100.137451171875,1053.3914794921875,160.0184783935547,-286.27264404296875,769.877197265625,-910.1161499023438,-911.6889038085938,-424.25433349609375,-485.1527099609375,-634.4772338867188,-74.30980682373047,108.8764419555664,806.9983520507812,441.2899169921875,507.64495849609375,413.4933776855469,-1214.1380615234375,695.5697631835938,334.94366455078125,186.96035766601562,-249.24813842773438,74.86006927490234,-319.06988525390625,-659.4707641601562,483.96026611328125,571.3939819335938,-212.45135498046875,-618.8759765625,822.7919921875,-16.857208251953125,619.3106079101562,722.5220336914062,-848.0402221679688,49.03087615966797],\"type\":\"scatter3d\"}],                        {\"height\":800,\"margin\":{\"b\":0,\"l\":0,\"pad\":0,\"r\":0,\"t\":30},\"scene\":{\"xaxis\":{\"gridcolor\":\"#ddd\",\"showbackground\":false,\"showgrid\":true,\"title\":{\"text\":\"t-SNE Dimension 1\"},\"zerolinecolor\":\"black\"},\"yaxis\":{\"gridcolor\":\"#ddd\",\"showbackground\":false,\"showgrid\":true,\"title\":{\"text\":\"t-SNE Dimension 2\"},\"zerolinecolor\":\"black\"},\"zaxis\":{\"gridcolor\":\"#ddd\",\"showbackground\":false,\"showgrid\":true,\"title\":{\"text\":\"t-SNE Dimension 3\"},\"zerolinecolor\":\"black\"}},\"title\":{\"text\":\"Category Cluster Scatterplot\"},\"width\":800,\"template\":{\"data\":{\"histogram2dcontour\":[{\"type\":\"histogram2dcontour\",\"colorbar\":{\"outlinewidth\":0,\"ticks\":\"\"},\"colorscale\":[[0.0,\"#0d0887\"],[0.1111111111111111,\"#46039f\"],[0.2222222222222222,\"#7201a8\"],[0.3333333333333333,\"#9c179e\"],[0.4444444444444444,\"#bd3786\"],[0.5555555555555556,\"#d8576b\"],[0.6666666666666666,\"#ed7953\"],[0.7777777777777778,\"#fb9f3a\"],[0.8888888888888888,\"#fdca26\"],[1.0,\"#f0f921\"]]}],\"choropleth\":[{\"type\":\"choropleth\",\"colorbar\":{\"outlinewidth\":0,\"ticks\":\"\"}}],\"histogram2d\":[{\"type\":\"histogram2d\",\"colorbar\":{\"outlinewidth\":0,\"ticks\":\"\"},\"colorscale\":[[0.0,\"#0d0887\"],[0.1111111111111111,\"#46039f\"],[0.2222222222222222,\"#7201a8\"],[0.3333333333333333,\"#9c179e\"],[0.4444444444444444,\"#bd3786\"],[0.5555555555555556,\"#d8576b\"],[0.6666666666666666,\"#ed7953\"],[0.7777777777777778,\"#fb9f3a\"],[0.8888888888888888,\"#fdca26\"],[1.0,\"#f0f921\"]]}],\"heatmap\":[{\"type\":\"heatmap\",\"colorbar\":{\"outlinewidth\":0,\"ticks\":\"\"},\"colorscale\":[[0.0,\"#0d0887\"],[0.1111111111111111,\"#46039f\"],[0.2222222222222222,\"#7201a8\"],[0.3333333333333333,\"#9c179e\"],[0.4444444444444444,\"#bd3786\"],[0.5555555555555556,\"#d8576b\"],[0.6666666666666666,\"#ed7953\"],[0.7777777777777778,\"#fb9f3a\"],[0.8888888888888888,\"#fdca26\"],[1.0,\"#f0f921\"]]}],\"heatmapgl\":[{\"type\":\"heatmapgl\",\"colorbar\":{\"outlinewidth\":0,\"ticks\":\"\"},\"colorscale\":[[0.0,\"#0d0887\"],[0.1111111111111111,\"#46039f\"],[0.2222222222222222,\"#7201a8\"],[0.3333333333333333,\"#9c179e\"],[0.4444444444444444,\"#bd3786\"],[0.5555555555555556,\"#d8576b\"],[0.6666666666666666,\"#ed7953\"],[0.7777777777777778,\"#fb9f3a\"],[0.8888888888888888,\"#fdca26\"],[1.0,\"#f0f921\"]]}],\"contourcarpet\":[{\"type\":\"contourcarpet\",\"colorbar\":{\"outlinewidth\":0,\"ticks\":\"\"}}],\"contour\":[{\"type\":\"contour\",\"colorbar\":{\"outlinewidth\":0,\"ticks\":\"\"},\"colorscale\":[[0.0,\"#0d0887\"],[0.1111111111111111,\"#46039f\"],[0.2222222222222222,\"#7201a8\"],[0.3333333333333333,\"#9c179e\"],[0.4444444444444444,\"#bd3786\"],[0.5555555555555556,\"#d8576b\"],[0.6666666666666666,\"#ed7953\"],[0.7777777777777778,\"#fb9f3a\"],[0.8888888888888888,\"#fdca26\"],[1.0,\"#f0f921\"]]}],\"surface\":[{\"type\":\"surface\",\"colorbar\":{\"outlinewidth\":0,\"ticks\":\"\"},\"colorscale\":[[0.0,\"#0d0887\"],[0.1111111111111111,\"#46039f\"],[0.2222222222222222,\"#7201a8\"],[0.3333333333333333,\"#9c179e\"],[0.4444444444444444,\"#bd3786\"],[0.5555555555555556,\"#d8576b\"],[0.6666666666666666,\"#ed7953\"],[0.7777777777777778,\"#fb9f3a\"],[0.8888888888888888,\"#fdca26\"],[1.0,\"#f0f921\"]]}],\"mesh3d\":[{\"type\":\"mesh3d\",\"colorbar\":{\"outlinewidth\":0,\"ticks\":\"\"}}],\"scatter\":[{\"fillpattern\":{\"fillmode\":\"overlay\",\"size\":10,\"solidity\":0.2},\"type\":\"scatter\"}],\"parcoords\":[{\"type\":\"parcoords\",\"line\":{\"colorbar\":{\"outlinewidth\":0,\"ticks\":\"\"}}}],\"scatterpolargl\":[{\"type\":\"scatterpolargl\",\"marker\":{\"colorbar\":{\"outlinewidth\":0,\"ticks\":\"\"}}}],\"bar\":[{\"error_x\":{\"color\":\"#2a3f5f\"},\"error_y\":{\"color\":\"#2a3f5f\"},\"marker\":{\"line\":{\"color\":\"#E5ECF6\",\"width\":0.5},\"pattern\":{\"fillmode\":\"overlay\",\"size\":10,\"solidity\":0.2}},\"type\":\"bar\"}],\"scattergeo\":[{\"type\":\"scattergeo\",\"marker\":{\"colorbar\":{\"outlinewidth\":0,\"ticks\":\"\"}}}],\"scatterpolar\":[{\"type\":\"scatterpolar\",\"marker\":{\"colorbar\":{\"outlinewidth\":0,\"ticks\":\"\"}}}],\"histogram\":[{\"marker\":{\"pattern\":{\"fillmode\":\"overlay\",\"size\":10,\"solidity\":0.2}},\"type\":\"histogram\"}],\"scattergl\":[{\"type\":\"scattergl\",\"marker\":{\"colorbar\":{\"outlinewidth\":0,\"ticks\":\"\"}}}],\"scatter3d\":[{\"type\":\"scatter3d\",\"line\":{\"colorbar\":{\"outlinewidth\":0,\"ticks\":\"\"}},\"marker\":{\"colorbar\":{\"outlinewidth\":0,\"ticks\":\"\"}}}],\"scattermapbox\":[{\"type\":\"scattermapbox\",\"marker\":{\"colorbar\":{\"outlinewidth\":0,\"ticks\":\"\"}}}],\"scatterternary\":[{\"type\":\"scatterternary\",\"marker\":{\"colorbar\":{\"outlinewidth\":0,\"ticks\":\"\"}}}],\"scattercarpet\":[{\"type\":\"scattercarpet\",\"marker\":{\"colorbar\":{\"outlinewidth\":0,\"ticks\":\"\"}}}],\"carpet\":[{\"aaxis\":{\"endlinecolor\":\"#2a3f5f\",\"gridcolor\":\"white\",\"linecolor\":\"white\",\"minorgridcolor\":\"white\",\"startlinecolor\":\"#2a3f5f\"},\"baxis\":{\"endlinecolor\":\"#2a3f5f\",\"gridcolor\":\"white\",\"linecolor\":\"white\",\"minorgridcolor\":\"white\",\"startlinecolor\":\"#2a3f5f\"},\"type\":\"carpet\"}],\"table\":[{\"cells\":{\"fill\":{\"color\":\"#EBF0F8\"},\"line\":{\"color\":\"white\"}},\"header\":{\"fill\":{\"color\":\"#C8D4E3\"},\"line\":{\"color\":\"white\"}},\"type\":\"table\"}],\"barpolar\":[{\"marker\":{\"line\":{\"color\":\"#E5ECF6\",\"width\":0.5},\"pattern\":{\"fillmode\":\"overlay\",\"size\":10,\"solidity\":0.2}},\"type\":\"barpolar\"}],\"pie\":[{\"automargin\":true,\"type\":\"pie\"}]},\"layout\":{\"autotypenumbers\":\"strict\",\"colorway\":[\"#636efa\",\"#EF553B\",\"#00cc96\",\"#ab63fa\",\"#FFA15A\",\"#19d3f3\",\"#FF6692\",\"#B6E880\",\"#FF97FF\",\"#FECB52\"],\"font\":{\"color\":\"#2a3f5f\"},\"hovermode\":\"closest\",\"hoverlabel\":{\"align\":\"left\"},\"paper_bgcolor\":\"white\",\"plot_bgcolor\":\"#E5ECF6\",\"polar\":{\"bgcolor\":\"#E5ECF6\",\"angularaxis\":{\"gridcolor\":\"white\",\"linecolor\":\"white\",\"ticks\":\"\"},\"radialaxis\":{\"gridcolor\":\"white\",\"linecolor\":\"white\",\"ticks\":\"\"}},\"ternary\":{\"bgcolor\":\"#E5ECF6\",\"aaxis\":{\"gridcolor\":\"white\",\"linecolor\":\"white\",\"ticks\":\"\"},\"baxis\":{\"gridcolor\":\"white\",\"linecolor\":\"white\",\"ticks\":\"\"},\"caxis\":{\"gridcolor\":\"white\",\"linecolor\":\"white\",\"ticks\":\"\"}},\"coloraxis\":{\"colorbar\":{\"outlinewidth\":0,\"ticks\":\"\"}},\"colorscale\":{\"sequential\":[[0.0,\"#0d0887\"],[0.1111111111111111,\"#46039f\"],[0.2222222222222222,\"#7201a8\"],[0.3333333333333333,\"#9c179e\"],[0.4444444444444444,\"#bd3786\"],[0.5555555555555556,\"#d8576b\"],[0.6666666666666666,\"#ed7953\"],[0.7777777777777778,\"#fb9f3a\"],[0.8888888888888888,\"#fdca26\"],[1.0,\"#f0f921\"]],\"sequentialminus\":[[0.0,\"#0d0887\"],[0.1111111111111111,\"#46039f\"],[0.2222222222222222,\"#7201a8\"],[0.3333333333333333,\"#9c179e\"],[0.4444444444444444,\"#bd3786\"],[0.5555555555555556,\"#d8576b\"],[0.6666666666666666,\"#ed7953\"],[0.7777777777777778,\"#fb9f3a\"],[0.8888888888888888,\"#fdca26\"],[1.0,\"#f0f921\"]],\"diverging\":[[0,\"#8e0152\"],[0.1,\"#c51b7d\"],[0.2,\"#de77ae\"],[0.3,\"#f1b6da\"],[0.4,\"#fde0ef\"],[0.5,\"#f7f7f7\"],[0.6,\"#e6f5d0\"],[0.7,\"#b8e186\"],[0.8,\"#7fbc41\"],[0.9,\"#4d9221\"],[1,\"#276419\"]]},\"xaxis\":{\"gridcolor\":\"white\",\"linecolor\":\"white\",\"ticks\":\"\",\"title\":{\"standoff\":15},\"zerolinecolor\":\"white\",\"automargin\":true,\"zerolinewidth\":2},\"yaxis\":{\"gridcolor\":\"white\",\"linecolor\":\"white\",\"ticks\":\"\",\"title\":{\"standoff\":15},\"zerolinecolor\":\"white\",\"automargin\":true,\"zerolinewidth\":2},\"scene\":{\"xaxis\":{\"backgroundcolor\":\"#E5ECF6\",\"gridcolor\":\"white\",\"linecolor\":\"white\",\"showbackground\":true,\"ticks\":\"\",\"zerolinecolor\":\"white\",\"gridwidth\":2},\"yaxis\":{\"backgroundcolor\":\"#E5ECF6\",\"gridcolor\":\"white\",\"linecolor\":\"white\",\"showbackground\":true,\"ticks\":\"\",\"zerolinecolor\":\"white\",\"gridwidth\":2},\"zaxis\":{\"backgroundcolor\":\"#E5ECF6\",\"gridcolor\":\"white\",\"linecolor\":\"white\",\"showbackground\":true,\"ticks\":\"\",\"zerolinecolor\":\"white\",\"gridwidth\":2}},\"shapedefaults\":{\"line\":{\"color\":\"#2a3f5f\"}},\"annotationdefaults\":{\"arrowcolor\":\"#2a3f5f\",\"arrowhead\":0,\"arrowwidth\":1},\"geo\":{\"bgcolor\":\"white\",\"landcolor\":\"#E5ECF6\",\"subunitcolor\":\"white\",\"showland\":true,\"showlakes\":true,\"lakecolor\":\"white\"},\"title\":{\"x\":0.05},\"mapbox\":{\"style\":\"light\"}}}},                        {\"responsive\": true}                    ).then(function(){\n",
       "                            \n",
       "var gd = document.getElementById('90591dc6-c0c0-4903-b899-054b6a796e53');\n",
       "var x = new MutationObserver(function (mutations, observer) {{\n",
       "        var display = window.getComputedStyle(gd).display;\n",
       "        if (!display || display === 'none') {{\n",
       "            console.log([gd, 'removed!']);\n",
       "            Plotly.purge(gd);\n",
       "            observer.disconnect();\n",
       "        }}\n",
       "}});\n",
       "\n",
       "// Listen for the removal of the full notebook cells\n",
       "var notebookContainer = gd.closest('#notebook-container');\n",
       "if (notebookContainer) {{\n",
       "    x.observe(notebookContainer, {childList: true});\n",
       "}}\n",
       "\n",
       "// Listen for the clearing of the current output cell\n",
       "var outputEl = gd.closest('.output');\n",
       "if (outputEl) {{\n",
       "    x.observe(outputEl, {childList: true});\n",
       "}}\n",
       "\n",
       "                        })                };                });            </script>        </div>"
      ]
     },
     "metadata": {},
     "output_type": "display_data"
    }
   ],
   "execution_count": 1674
  },
  {
   "metadata": {},
   "cell_type": "markdown",
   "source": [
    "## **5** - Visualize Cluster Features\n",
    "\n",
    "1. Create list of top 50 keywords based on the TF-IDF scores\n",
    "2. Save cluster association and the associated TF-IDF score for each word\n",
    "3. Build graph with clusters in green and words in blue, edges to connect words to clusters weighted based on TF-IDF score for that cluster"
   ],
   "id": "8d59d0a5f1976645"
  },
  {
   "metadata": {
    "scrolled": true,
    "ExecuteTime": {
     "end_time": "2025-01-27T09:47:49.314988Z",
     "start_time": "2025-01-27T09:47:48.706253Z"
    }
   },
   "cell_type": "code",
   "source": [
    "from collections import defaultdict\n",
    "import networkx as nx\n",
    "import plotly.graph_objects as go\n",
    "\n",
    "feature_names = vectorizer.get_feature_names_out() # keywords found by vectorizer\n",
    "keyword_cluster_association = defaultdict(lambda: defaultdict(float)) # dictionary of {keyword: { cluster_name: tfidf_score } }\n",
    "for cluster_id, cluster_tfidf in cluster_tfidf_matrices.items():\n",
    "    top_word_indices = np.argsort(cluster_tfidf.flatten())[::-1][:50] # keep top 50\n",
    "    for word_index in top_word_indices:\n",
    "        tfidf_score = cluster_tfidf.flatten()[word_index]\n",
    "        word = feature_names[word_index]\n",
    "        keyword_cluster_association[word][dominant_categories[cluster_id]] = tfidf_score\n",
    "\n",
    "# Initialize network graph\n",
    "G = nx.Graph()\n",
    "\n",
    "# Add node for each keyword\n",
    "for keyword, associations in keyword_cluster_association.items():\n",
    "    G.add_node(keyword, type='keyword')\n",
    "    for cluster_name in set(dominant_categories):\n",
    "        score = associations.get(cluster_name)\n",
    "        if score is not None: # add edge to match keyword to associated clusters\n",
    "            G.add_edge(keyword, cluster_name, weight=score)\n",
    "\n",
    "# Add node for each cluster\n",
    "for cluster_name in set(dominant_categories):\n",
    "    G.add_node(cluster_name, type='cluster')\n",
    "\n",
    "# Set fixed positions for clusters to ensure graph is spaced out\n",
    "num_clusters = len(set(dominant_categories))\n",
    "x_positions = np.linspace(-10, 100, num_clusters)\n",
    "y_positions = [20 + 2*i if i%2 == 0 else 2*i for i in range(num_clusters)]\n",
    "cluster_positions = { cluster_name: (x, y) for cluster_name, x, y in zip(set(dominant_categories), x_positions, y_positions) }\n",
    "\n",
    "# Calculate positions - used for positioning in Plotly figure\n",
    "pos = nx.spring_layout(G, k=3, iterations=500, scale=2, pos=cluster_positions, fixed=list(cluster_positions.keys()))\n",
    "\n",
    "# Add edges to figure\n",
    "edge_x = []\n",
    "edge_y = []\n",
    "edge_weights = []\n",
    "for edge in G.edges():\n",
    "    x0, y0 = pos[edge[0]]\n",
    "    x1, y1 = pos[edge[1]]\n",
    "    edge_x.extend([x0, x1, None])\n",
    "    edge_y.extend([y0, y1, None])\n",
    "    edge_weights.append(G.edges[edge]['weight'])\n",
    "edge_trace = go.Scatter(x=edge_x, y=edge_y, line=dict(width=0.5, color=\"#888\"), hoverinfo=\"none\", mode=\"lines\")\n",
    "\n",
    "# Add nodes to figure\n",
    "node_x = []\n",
    "node_y = []\n",
    "node_colors = []\n",
    "node_sizes = []\n",
    "all_nodes = []\n",
    "for node, data in G.nodes(data=True):\n",
    "    all_nodes.append(node)\n",
    "    x, y = pos[node]\n",
    "    node_x.append(x)\n",
    "    node_y.append(y)\n",
    "    if data[\"type\"] == \"keyword\":\n",
    "        node_colors.append(\"lightblue\")\n",
    "        node_sizes.append(10)\n",
    "    else: # Cluster properties\n",
    "        node_colors.append(\"lightgreen\")\n",
    "        node_sizes.append(25)\n",
    "node_trace = go.Scatter(\n",
    "    x=node_x, y=node_y, mode=\"markers+text\", hoverinfo=\"text\", textposition=\"bottom center\",\n",
    "    text=[t if t not in dominant_categories else '' for t in all_nodes], # Hide default label for cluster nodes\n",
    "    marker=dict(showscale=False, colorscale=\"YlGnBu\", size=node_sizes, color=node_colors, line_width=2),\n",
    ")\n",
    "\n",
    "# Create figure\n",
    "fig = go.Figure(\n",
    "    data=[edge_trace, node_trace],\n",
    "    layout=go.Layout(\n",
    "        title=\"Keyword-Cluster Network Graph\",\n",
    "        width=1000, height=600, showlegend=False, hovermode=\"closest\", margin=dict(b=20, l=5, r=5, t=40),\n",
    "        xaxis=dict(showgrid=False, zeroline=False, showticklabels=False),\n",
    "        yaxis=dict(showgrid=False, zeroline=False, showticklabels=False),\n",
    "    ),\n",
    ")\n",
    "fig.update_layout(plot_bgcolor='rgba(0,0,0,0)')\n",
    "\n",
    "# Make cluster node labels more prominent\n",
    "for i, cluster_name in enumerate(dominant_categories):\n",
    "    fig.add_annotation(\n",
    "        text=cluster_name, x=node_x[all_nodes.index(cluster_name)], y=node_y[all_nodes.index(cluster_name)],\n",
    "        font=dict(size=10, color=\"black\"), showarrow=False, bgcolor=\"lightgreen\", borderpad=4, yanchor=\"bottom\", textangle=360\n",
    "    )\n",
    "\n",
    "fig.show()"
   ],
   "id": "607d5c3a7e753221",
   "outputs": [
    {
     "data": {
      "application/vnd.plotly.v1+json": {
       "data": [
        {
         "hoverinfo": "none",
         "line": {
          "color": "#888",
          "width": 0.5
         },
         "mode": "lines",
         "x": [
          25.734250739072262,
          -10.0,
          null,
          25.734250739072262,
          26.666666666666664,
          null,
          25.734250739072262,
          100.0,
          null,
          -10.0,
          42.256171157124555,
          null,
          -10.0,
          -19.598353257242657,
          null,
          -10.0,
          46.05970130783312,
          null,
          -10.0,
          47.84137068602231,
          null,
          -10.0,
          -25.53532740462654,
          null,
          -10.0,
          -27.46290730865412,
          null,
          -10.0,
          -28.340028208564952,
          null,
          -10.0,
          32.16876099506117,
          null,
          -10.0,
          41.77586040934814,
          null,
          -10.0,
          48.50922874123539,
          null,
          -10.0,
          46.07221447182555,
          null,
          -10.0,
          36.42263059949002,
          null,
          -10.0,
          51.60489091597558,
          null,
          -10.0,
          43.57718779873758,
          null,
          -10.0,
          34.25409315407269,
          null,
          -10.0,
          53.74706403016617,
          null,
          -10.0,
          43.81800357005353,
          null,
          -10.0,
          45.490131857698984,
          null,
          -10.0,
          38.77516672222382,
          null,
          -10.0,
          -27.178819684784113,
          null,
          -10.0,
          -34.38720934703558,
          null,
          -10.0,
          50.99232811780031,
          null,
          -10.0,
          56.46634487240272,
          null,
          -10.0,
          37.50736518446713,
          null,
          -10.0,
          39.37442833172544,
          null,
          -10.0,
          -21.704539514499384,
          null,
          -10.0,
          46.64792277756755,
          null,
          -10.0,
          -36.07466159556502,
          null,
          -10.0,
          50.01985966221059,
          null,
          -10.0,
          -27.955524684319496,
          null,
          -10.0,
          40.39713145169034,
          null,
          -10.0,
          -35.25414622659261,
          null,
          -10.0,
          41.56989451148127,
          null,
          -10.0,
          -40.04800938765328,
          null,
          -10.0,
          54.71401402731873,
          null,
          -10.0,
          -39.075824291207475,
          null,
          -10.0,
          -34.534433446866906,
          null,
          -10.0,
          -43.40863419573319,
          null,
          -10.0,
          -44.40860181792968,
          null,
          -10.0,
          48.66184936111335,
          null,
          -10.0,
          -46.1994062925927,
          null,
          -10.0,
          52.52060245072649,
          null,
          -10.0,
          31.937043648802433,
          null,
          -10.0,
          47.21283963190157,
          null,
          -10.0,
          50.64263202533997,
          null,
          -10.0,
          50.583222384238944,
          null,
          -10.0,
          58.39879124524648,
          null,
          -10.0,
          -44.66829696945396,
          null,
          -10.0,
          55.825674792894254,
          null,
          26.666666666666664,
          42.256171157124555,
          null,
          26.666666666666664,
          46.05970130783312,
          null,
          26.666666666666664,
          47.84137068602231,
          null,
          26.666666666666664,
          41.77586040934814,
          null,
          26.666666666666664,
          48.50922874123539,
          null,
          26.666666666666664,
          46.07221447182555,
          null,
          26.666666666666664,
          38.77516672222382,
          null,
          26.666666666666664,
          50.99232811780031,
          null,
          26.666666666666664,
          37.50736518446713,
          null,
          26.666666666666664,
          46.64792277756755,
          null,
          26.666666666666664,
          62.17794743079119,
          null,
          26.666666666666664,
          66.15707486110658,
          null,
          26.666666666666664,
          20.022970373339273,
          null,
          26.666666666666664,
          22.71381235960217,
          null,
          26.666666666666664,
          14.561483872035383,
          null,
          26.666666666666664,
          22.644201139001613,
          null,
          26.666666666666664,
          29.86157955862013,
          null,
          26.666666666666664,
          10.066685885036243,
          null,
          26.666666666666664,
          12.92956129776993,
          null,
          26.666666666666664,
          10.062009208882584,
          null,
          26.666666666666664,
          7.557690208751085,
          null,
          26.666666666666664,
          13.518513371536228,
          null,
          26.666666666666664,
          16.91442749012742,
          null,
          26.666666666666664,
          4.39267594309016,
          null,
          26.666666666666664,
          10.617315457401943,
          null,
          26.666666666666664,
          3.7401525417746146,
          null,
          26.666666666666664,
          32.94206115347281,
          null,
          26.666666666666664,
          38.23532901772175,
          null,
          26.666666666666664,
          6.671130825955932,
          null,
          26.666666666666664,
          26.495570065625706,
          null,
          26.666666666666664,
          21.097297209580123,
          null,
          26.666666666666664,
          2.407306645888656,
          null,
          26.666666666666664,
          10.42249828379269,
          null,
          26.666666666666664,
          14.458935092513066,
          null,
          26.666666666666664,
          1.7489843265777005,
          null,
          26.666666666666664,
          4.9981849626937604,
          null,
          26.666666666666664,
          6.807461593184309,
          null,
          26.666666666666664,
          29.64861496368805,
          null,
          26.666666666666664,
          -0.48829063098494546,
          null,
          26.666666666666664,
          40.046458746502125,
          null,
          26.666666666666664,
          -3.108653820979223,
          null,
          26.666666666666664,
          14.400503290319632,
          null,
          26.666666666666664,
          35.28697772545248,
          null,
          26.666666666666664,
          22.5853416514512,
          null,
          26.666666666666664,
          28.186015450843612,
          null,
          26.666666666666664,
          -3.519950417827524,
          null,
          26.666666666666664,
          8.078627613279297,
          null,
          26.666666666666664,
          2.669745285237173,
          null,
          26.666666666666664,
          17.549871645965457,
          null,
          100.0,
          42.256171157124555,
          null,
          100.0,
          46.05970130783312,
          null,
          100.0,
          47.84137068602231,
          null,
          100.0,
          32.16876099506117,
          null,
          100.0,
          41.77586040934814,
          null,
          100.0,
          48.50922874123539,
          null,
          100.0,
          46.07221447182555,
          null,
          100.0,
          36.42263059949002,
          null,
          100.0,
          51.60489091597558,
          null,
          100.0,
          43.57718779873758,
          null,
          100.0,
          34.25409315407269,
          null,
          100.0,
          53.74706403016617,
          null,
          100.0,
          43.81800357005353,
          null,
          100.0,
          45.490131857698984,
          null,
          100.0,
          38.77516672222382,
          null,
          100.0,
          50.99232811780031,
          null,
          100.0,
          56.46634487240272,
          null,
          100.0,
          37.50736518446713,
          null,
          100.0,
          39.37442833172544,
          null,
          100.0,
          46.64792277756755,
          null,
          100.0,
          50.01985966221059,
          null,
          100.0,
          41.56989451148127,
          null,
          100.0,
          54.71401402731873,
          null,
          100.0,
          48.66184936111335,
          null,
          100.0,
          52.52060245072649,
          null,
          100.0,
          47.21283963190157,
          null,
          100.0,
          50.64263202533997,
          null,
          100.0,
          50.583222384238944,
          null,
          100.0,
          58.39879124524648,
          null,
          100.0,
          55.825674792894254,
          null,
          100.0,
          95.4709866830824,
          null,
          100.0,
          117.7191053042394,
          null,
          100.0,
          113.0417572352703,
          null,
          100.0,
          121.34499430192311,
          null,
          100.0,
          123.5068770419557,
          null,
          100.0,
          121.16771531463321,
          null,
          100.0,
          125.15819707169375,
          null,
          100.0,
          126.74411980894885,
          null,
          100.0,
          62.17794743079119,
          null,
          100.0,
          66.15707486110658,
          null,
          100.0,
          119.68356588437868,
          null,
          100.0,
          131.24608862943262,
          null,
          100.0,
          116.6507487826102,
          null,
          100.0,
          130.1686552725614,
          null,
          100.0,
          126.6159872139419,
          null,
          100.0,
          85.04548076116967,
          null,
          100.0,
          133.78363600821373,
          null,
          100.0,
          131.35577671144384,
          null,
          100.0,
          134.89241335923973,
          null,
          42.256171157124555,
          63.33333333333333,
          null,
          63.33333333333333,
          46.05970130783312,
          null,
          63.33333333333333,
          47.84137068602231,
          null,
          63.33333333333333,
          41.77586040934814,
          null,
          63.33333333333333,
          48.50922874123539,
          null,
          63.33333333333333,
          46.07221447182555,
          null,
          63.33333333333333,
          36.42263059949002,
          null,
          63.33333333333333,
          51.60489091597558,
          null,
          63.33333333333333,
          43.57718779873758,
          null,
          63.33333333333333,
          53.74706403016617,
          null,
          63.33333333333333,
          43.81800357005353,
          null,
          63.33333333333333,
          45.490131857698984,
          null,
          63.33333333333333,
          50.99232811780031,
          null,
          63.33333333333333,
          56.46634487240272,
          null,
          63.33333333333333,
          50.01985966221059,
          null,
          63.33333333333333,
          40.39713145169034,
          null,
          63.33333333333333,
          54.71401402731873,
          null,
          63.33333333333333,
          48.66184936111335,
          null,
          63.33333333333333,
          52.52060245072649,
          null,
          63.33333333333333,
          31.937043648802433,
          null,
          63.33333333333333,
          50.64263202533997,
          null,
          63.33333333333333,
          58.39879124524648,
          null,
          63.33333333333333,
          95.4709866830824,
          null,
          63.33333333333333,
          85.04548076116967,
          null,
          63.33333333333333,
          73.92269116338565,
          null,
          63.33333333333333,
          79.31639447911257,
          null,
          63.33333333333333,
          62.63789176934008,
          null,
          63.33333333333333,
          68.76473053090814,
          null,
          63.33333333333333,
          81.73117897877044,
          null,
          63.33333333333333,
          74.9627505450432,
          null,
          63.33333333333333,
          82.3010357009996,
          null,
          63.33333333333333,
          88.76286414706581,
          null,
          63.33333333333333,
          90.58991765390398,
          null,
          63.33333333333333,
          81.26941837647558,
          null,
          63.33333333333333,
          86.80360980781549,
          null,
          63.33333333333333,
          92.45117340503033,
          null,
          63.33333333333333,
          87.23790994796897,
          null,
          63.33333333333333,
          75.57555271120134,
          null,
          63.33333333333333,
          89.00788088605927,
          null,
          63.33333333333333,
          82.64277944618384,
          null,
          63.33333333333333,
          54.587286503609455,
          null,
          63.33333333333333,
          67.62199009503703,
          null,
          63.33333333333333,
          73.2023084719193,
          null,
          63.33333333333333,
          61.574196239397054,
          null,
          63.33333333333333,
          96.60253477016305,
          null,
          63.33333333333333,
          80.57223422346898,
          null,
          63.33333333333333,
          95.72051443571819,
          null,
          63.33333333333333,
          67.56432642138806,
          null,
          63.33333333333333,
          58.00036271479684,
          null,
          63.33333333333333,
          89.52014924476833,
          null
         ],
         "y": [
          14.975181383967271,
          20.0,
          null,
          14.975181383967271,
          2.0,
          null,
          14.975181383967271,
          6.0,
          null,
          20.0,
          14.150978225988782,
          null,
          20.0,
          29.920266116313826,
          null,
          20.0,
          12.23704789734442,
          null,
          20.0,
          13.733399796923935,
          null,
          20.0,
          28.355726613121693,
          null,
          20.0,
          15.95338511964928,
          null,
          20.0,
          23.010763091804154,
          null,
          20.0,
          18.27612900354706,
          null,
          20.0,
          9.162689311778513,
          null,
          20.0,
          10.485785170118533,
          null,
          20.0,
          9.641922008644338,
          null,
          20.0,
          21.782554351908615,
          null,
          20.0,
          14.734264029857886,
          null,
          20.0,
          17.274699992894494,
          null,
          20.0,
          15.166890606699862,
          null,
          20.0,
          11.8460540653013,
          null,
          20.0,
          21.221284975354738,
          null,
          20.0,
          19.089823010697586,
          null,
          20.0,
          10.735788692109033,
          null,
          20.0,
          35.86078961003483,
          null,
          20.0,
          18.38339068727677,
          null,
          20.0,
          9.994355650894255,
          null,
          20.0,
          14.56774525544324,
          null,
          20.0,
          7.099629282213838,
          null,
          20.0,
          18.749126302433933,
          null,
          20.0,
          43.882013925429696,
          null,
          20.0,
          5.29775128009565,
          null,
          20.0,
          9.673426889342133,
          null,
          20.0,
          18.458723058429737,
          null,
          20.0,
          43.04908311229489,
          null,
          20.0,
          29.054280282099157,
          null,
          20.0,
          32.277912870635525,
          null,
          20.0,
          4.26798641341089,
          null,
          20.0,
          25.314153445699326,
          null,
          20.0,
          18.279628966446413,
          null,
          20.0,
          38.71750072683514,
          null,
          20.0,
          44.48986659288451,
          null,
          20.0,
          32.35686342881586,
          null,
          20.0,
          16.47025449305191,
          null,
          20.0,
          23.77244318853309,
          null,
          20.0,
          23.715139163174822,
          null,
          20.0,
          22.19792610466239,
          null,
          20.0,
          33.11100677094737,
          null,
          20.0,
          0.582408962268919,
          null,
          20.0,
          26.05645760604312,
          null,
          20.0,
          2.6195218019760773,
          null,
          20.0,
          11.098609183843308,
          null,
          20.0,
          8.972363268777595,
          null,
          20.0,
          5.1716469494067905,
          null,
          2.0,
          14.150978225988782,
          null,
          2.0,
          12.23704789734442,
          null,
          2.0,
          13.733399796923935,
          null,
          2.0,
          9.162689311778513,
          null,
          2.0,
          10.485785170118533,
          null,
          2.0,
          9.641922008644338,
          null,
          2.0,
          10.735788692109033,
          null,
          2.0,
          9.994355650894255,
          null,
          2.0,
          7.099629282213838,
          null,
          2.0,
          5.29775128009565,
          null,
          2.0,
          -4.3387609029676515,
          null,
          2.0,
          -5.106958751725103,
          null,
          2.0,
          1.1853521567958398,
          null,
          2.0,
          -5.256186263372078,
          null,
          2.0,
          -6.62632669637261,
          null,
          2.0,
          -12.980268142917499,
          null,
          2.0,
          -13.433973798677261,
          null,
          2.0,
          -0.4012029325703682,
          null,
          2.0,
          13.632687324745415,
          null,
          2.0,
          6.725837119725494,
          null,
          2.0,
          13.278334196894225,
          null,
          2.0,
          20.150609593639576,
          null,
          2.0,
          -15.693694500368608,
          null,
          2.0,
          3.6419842938095197,
          null,
          2.0,
          -11.699508676039326,
          null,
          2.0,
          9.252453978446358,
          null,
          2.0,
          -19.71601254579865,
          null,
          2.0,
          -17.64821556942084,
          null,
          2.0,
          -6.5755872058910425,
          null,
          2.0,
          -20.19800313855448,
          null,
          2.0,
          -21.455549515716363,
          null,
          2.0,
          -1.78205123044579,
          null,
          2.0,
          -17.85968935690347,
          null,
          2.0,
          -21.807347276072772,
          null,
          2.0,
          -9.622936751731897,
          null,
          2.0,
          -16.151437678493394,
          null,
          2.0,
          20.109794301879138,
          null,
          2.0,
          -25.845964954255678,
          null,
          2.0,
          -14.854518131923253,
          null,
          2.0,
          -24.335071514094757,
          null,
          2.0,
          -6.4796966847404205,
          null,
          2.0,
          -27.105884907911165,
          null,
          2.0,
          -28.300242743549653,
          null,
          2.0,
          -29.000945887955137,
          null,
          2.0,
          -31.027065032497593,
          null,
          2.0,
          1.8119660890522415,
          null,
          2.0,
          -26.139997480291495,
          null,
          2.0,
          -22.33662883356054,
          null,
          2.0,
          -31.680884572846892,
          null,
          6.0,
          14.150978225988782,
          null,
          6.0,
          12.23704789734442,
          null,
          6.0,
          13.733399796923935,
          null,
          6.0,
          18.27612900354706,
          null,
          6.0,
          9.162689311778513,
          null,
          6.0,
          10.485785170118533,
          null,
          6.0,
          9.641922008644338,
          null,
          6.0,
          21.782554351908615,
          null,
          6.0,
          14.734264029857886,
          null,
          6.0,
          17.274699992894494,
          null,
          6.0,
          15.166890606699862,
          null,
          6.0,
          11.8460540653013,
          null,
          6.0,
          21.221284975354738,
          null,
          6.0,
          19.089823010697586,
          null,
          6.0,
          10.735788692109033,
          null,
          6.0,
          9.994355650894255,
          null,
          6.0,
          14.56774525544324,
          null,
          6.0,
          7.099629282213838,
          null,
          6.0,
          18.749126302433933,
          null,
          6.0,
          5.29775128009565,
          null,
          6.0,
          18.458723058429737,
          null,
          6.0,
          4.26798641341089,
          null,
          6.0,
          18.279628966446413,
          null,
          6.0,
          23.77244318853309,
          null,
          6.0,
          22.19792610466239,
          null,
          6.0,
          0.582408962268919,
          null,
          6.0,
          26.05645760604312,
          null,
          6.0,
          2.6195218019760773,
          null,
          6.0,
          11.098609183843308,
          null,
          6.0,
          5.1716469494067905,
          null,
          6.0,
          14.395034881991963,
          null,
          6.0,
          -1.0596533495693627,
          null,
          6.0,
          -11.414413243501599,
          null,
          6.0,
          14.413007135156803,
          null,
          6.0,
          5.564745857624367,
          null,
          6.0,
          -7.81461023248786,
          null,
          6.0,
          -1.664478735213627,
          null,
          6.0,
          11.837407039120198,
          null,
          6.0,
          -4.3387609029676515,
          null,
          6.0,
          -5.106958751725103,
          null,
          6.0,
          -14.596225558643328,
          null,
          6.0,
          3.8560447361465235,
          null,
          6.0,
          -20.21517068669198,
          null,
          6.0,
          -8.506858840480422,
          null,
          6.0,
          -14.707048671377422,
          null,
          6.0,
          17.589977007931694,
          null,
          6.0,
          -2.368671204837872,
          null,
          6.0,
          18.01448886243038,
          null,
          6.0,
          9.548137507636001,
          null,
          14.150978225988782,
          24.0,
          null,
          24.0,
          12.23704789734442,
          null,
          24.0,
          13.733399796923935,
          null,
          24.0,
          9.162689311778513,
          null,
          24.0,
          10.485785170118533,
          null,
          24.0,
          9.641922008644338,
          null,
          24.0,
          21.782554351908615,
          null,
          24.0,
          14.734264029857886,
          null,
          24.0,
          17.274699992894494,
          null,
          24.0,
          11.8460540653013,
          null,
          24.0,
          21.221284975354738,
          null,
          24.0,
          19.089823010697586,
          null,
          24.0,
          9.994355650894255,
          null,
          24.0,
          14.56774525544324,
          null,
          24.0,
          18.458723058429737,
          null,
          24.0,
          29.054280282099157,
          null,
          24.0,
          18.279628966446413,
          null,
          24.0,
          23.77244318853309,
          null,
          24.0,
          22.19792610466239,
          null,
          24.0,
          33.11100677094737,
          null,
          24.0,
          26.05645760604312,
          null,
          24.0,
          11.098609183843308,
          null,
          24.0,
          14.395034881991963,
          null,
          24.0,
          17.589977007931694,
          null,
          24.0,
          34.35775969784618,
          null,
          24.0,
          26.19649247793289,
          null,
          24.0,
          44.04829664415676,
          null,
          24.0,
          43.44100214946871,
          null,
          24.0,
          33.88378071530381,
          null,
          24.0,
          42.64466516135549,
          null,
          24.0,
          13.537960649849971,
          null,
          24.0,
          29.805741430442772,
          null,
          24.0,
          23.689137009277875,
          null,
          24.0,
          44.409434336996505,
          null,
          24.0,
          39.28569777765498,
          null,
          24.0,
          36.02854143316021,
          null,
          24.0,
          8.135818540587787,
          null,
          24.0,
          52.16870161737242,
          null,
          24.0,
          45.733374474995955,
          null,
          24.0,
          51.058801728052416,
          null,
          24.0,
          53.794923815002456,
          null,
          24.0,
          54.056217806729855,
          null,
          24.0,
          57.66018973574887,
          null,
          24.0,
          55.67477081604314,
          null,
          24.0,
          30.689658285435684,
          null,
          24.0,
          57.81727727446451,
          null,
          24.0,
          43.01421136010823,
          null,
          24.0,
          61.73241946298128,
          null,
          24.0,
          60.72290996893786,
          null,
          24.0,
          53.16887414600747,
          null
         ],
         "type": "scatter"
        },
        {
         "hoverinfo": "text",
         "marker": {
          "color": [
           "lightblue",
           "lightgreen",
           "lightgreen",
           "lightgreen",
           "lightblue",
           "lightgreen",
           "lightblue",
           "lightblue",
           "lightblue",
           "lightblue",
           "lightblue",
           "lightblue",
           "lightblue",
           "lightblue",
           "lightblue",
           "lightblue",
           "lightblue",
           "lightblue",
           "lightblue",
           "lightblue",
           "lightblue",
           "lightblue",
           "lightblue",
           "lightblue",
           "lightblue",
           "lightblue",
           "lightblue",
           "lightblue",
           "lightblue",
           "lightblue",
           "lightblue",
           "lightblue",
           "lightblue",
           "lightblue",
           "lightblue",
           "lightblue",
           "lightblue",
           "lightblue",
           "lightblue",
           "lightblue",
           "lightblue",
           "lightblue",
           "lightblue",
           "lightblue",
           "lightblue",
           "lightblue",
           "lightblue",
           "lightblue",
           "lightblue",
           "lightblue",
           "lightblue",
           "lightblue",
           "lightblue",
           "lightblue",
           "lightblue",
           "lightblue",
           "lightblue",
           "lightblue",
           "lightblue",
           "lightblue",
           "lightblue",
           "lightblue",
           "lightblue",
           "lightblue",
           "lightblue",
           "lightblue",
           "lightblue",
           "lightblue",
           "lightblue",
           "lightblue",
           "lightblue",
           "lightblue",
           "lightblue",
           "lightblue",
           "lightblue",
           "lightblue",
           "lightblue",
           "lightblue",
           "lightblue",
           "lightblue",
           "lightblue",
           "lightblue",
           "lightblue",
           "lightblue",
           "lightblue",
           "lightblue",
           "lightblue",
           "lightblue",
           "lightblue",
           "lightblue",
           "lightblue",
           "lightblue",
           "lightblue",
           "lightblue",
           "lightblue",
           "lightblue",
           "lightblue",
           "lightblue",
           "lightblue",
           "lightblue",
           "lightblue",
           "lightblue",
           "lightblue",
           "lightblue",
           "lightblue",
           "lightblue",
           "lightblue",
           "lightblue",
           "lightblue",
           "lightblue",
           "lightblue",
           "lightblue",
           "lightblue",
           "lightblue",
           "lightblue",
           "lightblue",
           "lightblue",
           "lightblue",
           "lightblue",
           "lightblue",
           "lightblue",
           "lightblue",
           "lightblue",
           "lightblue",
           "lightblue",
           "lightblue",
           "lightblue",
           "lightblue",
           "lightblue",
           "lightblue",
           "lightblue",
           "lightblue",
           "lightblue",
           "lightblue",
           "lightblue",
           "lightblue"
          ],
          "colorscale": [
           [
            0.0,
            "rgb(255,255,217)"
           ],
           [
            0.125,
            "rgb(237,248,177)"
           ],
           [
            0.25,
            "rgb(199,233,180)"
           ],
           [
            0.375,
            "rgb(127,205,187)"
           ],
           [
            0.5,
            "rgb(65,182,196)"
           ],
           [
            0.625,
            "rgb(29,145,192)"
           ],
           [
            0.75,
            "rgb(34,94,168)"
           ],
           [
            0.875,
            "rgb(37,52,148)"
           ],
           [
            1.0,
            "rgb(8,29,88)"
           ]
          ],
          "line": {
           "width": 2
          },
          "showscale": false,
          "size": [
           10,
           25,
           25,
           25,
           10,
           25,
           10,
           10,
           10,
           10,
           10,
           10,
           10,
           10,
           10,
           10,
           10,
           10,
           10,
           10,
           10,
           10,
           10,
           10,
           10,
           10,
           10,
           10,
           10,
           10,
           10,
           10,
           10,
           10,
           10,
           10,
           10,
           10,
           10,
           10,
           10,
           10,
           10,
           10,
           10,
           10,
           10,
           10,
           10,
           10,
           10,
           10,
           10,
           10,
           10,
           10,
           10,
           10,
           10,
           10,
           10,
           10,
           10,
           10,
           10,
           10,
           10,
           10,
           10,
           10,
           10,
           10,
           10,
           10,
           10,
           10,
           10,
           10,
           10,
           10,
           10,
           10,
           10,
           10,
           10,
           10,
           10,
           10,
           10,
           10,
           10,
           10,
           10,
           10,
           10,
           10,
           10,
           10,
           10,
           10,
           10,
           10,
           10,
           10,
           10,
           10,
           10,
           10,
           10,
           10,
           10,
           10,
           10,
           10,
           10,
           10,
           10,
           10,
           10,
           10,
           10,
           10,
           10,
           10,
           10,
           10,
           10,
           10,
           10,
           10,
           10,
           10,
           10,
           10,
           10,
           10
          ]
         },
         "mode": "markers+text",
         "text": [
          "photo",
          "",
          "",
          "",
          "new",
          "",
          "art",
          "one",
          "year",
          "wedding",
          "artist",
          "black",
          "look",
          "make",
          "time",
          "day",
          "show",
          "woman",
          "week",
          "home",
          "life",
          "video",
          "first",
          "love",
          "style",
          "fashion",
          "world",
          "people",
          "best",
          "work",
          "star",
          "know",
          "book",
          "take",
          "film",
          "trump",
          "dress",
          "see",
          "imageblog",
          "would",
          "beauty",
          "story",
          "pinterest",
          "york",
          "two",
          "music",
          "right",
          "say",
          "come",
          "american",
          "back",
          "may",
          "hair",
          "many",
          "child",
          "kid",
          "help",
          "school",
          "man",
          "change",
          "student",
          "family",
          "good",
          "even",
          "thing",
          "college",
          "parent",
          "find",
          "think",
          "state",
          "dog",
          "every",
          "health",
          "president",
          "donald",
          "latino",
          "news",
          "attack",
          "police",
          "country",
          "war",
          "isi",
          "syria",
          "iran",
          "medium",
          "killed",
          "death",
          "leader",
          "election",
          "government",
          "korea",
          "north",
          "official",
          "russia",
          "city",
          "last",
          "report",
          "bill",
          "china",
          "recipe",
          "food",
          "delicious",
          "wine",
          "dessert",
          "cooking",
          "cake",
          "eat",
          "cheese",
          "cocktail",
          "chocolate",
          "dish",
          "easy",
          "chicken",
          "summer",
          "cream",
          "salad",
          "flavor",
          "taste",
          "chef",
          "dinner",
          "sweet",
          "restaurant",
          "meal",
          "cooky",
          "beer",
          "drink",
          "favorite",
          "butter",
          "soup",
          "burger",
          "kitchen",
          "breakfast",
          "cook",
          "better",
          "cuff",
          "sauce"
         ],
         "textposition": "bottom center",
         "x": [
          25.734250739072262,
          -10.0,
          26.666666666666664,
          100.0,
          42.256171157124555,
          63.33333333333333,
          -19.598353257242657,
          46.05970130783312,
          47.84137068602231,
          -25.53532740462654,
          -27.46290730865412,
          -28.340028208564952,
          32.16876099506117,
          41.77586040934814,
          48.50922874123539,
          46.07221447182555,
          36.42263059949002,
          51.60489091597558,
          43.57718779873758,
          34.25409315407269,
          53.74706403016617,
          43.81800357005353,
          45.490131857698984,
          38.77516672222382,
          -27.178819684784113,
          -34.38720934703558,
          50.99232811780031,
          56.46634487240272,
          37.50736518446713,
          39.37442833172544,
          -21.704539514499384,
          46.64792277756755,
          -36.07466159556502,
          50.01985966221059,
          -27.955524684319496,
          40.39713145169034,
          -35.25414622659261,
          41.56989451148127,
          -40.04800938765328,
          54.71401402731873,
          -39.075824291207475,
          -34.534433446866906,
          -43.40863419573319,
          -44.40860181792968,
          48.66184936111335,
          -46.1994062925927,
          52.52060245072649,
          31.937043648802433,
          47.21283963190157,
          50.64263202533997,
          50.583222384238944,
          58.39879124524648,
          -44.66829696945396,
          55.825674792894254,
          95.4709866830824,
          117.7191053042394,
          113.0417572352703,
          121.34499430192311,
          123.5068770419557,
          121.16771531463321,
          125.15819707169375,
          126.74411980894885,
          62.17794743079119,
          66.15707486110658,
          119.68356588437868,
          131.24608862943262,
          116.6507487826102,
          130.1686552725614,
          126.6159872139419,
          85.04548076116967,
          133.78363600821373,
          131.35577671144384,
          134.89241335923973,
          73.92269116338565,
          79.31639447911257,
          62.63789176934008,
          68.76473053090814,
          81.73117897877044,
          74.9627505450432,
          82.3010357009996,
          88.76286414706581,
          90.58991765390398,
          81.26941837647558,
          86.80360980781549,
          92.45117340503033,
          87.23790994796897,
          75.57555271120134,
          89.00788088605927,
          82.64277944618384,
          54.587286503609455,
          67.62199009503703,
          73.2023084719193,
          61.574196239397054,
          96.60253477016305,
          80.57223422346898,
          95.72051443571819,
          67.56432642138806,
          58.00036271479684,
          89.52014924476833,
          20.022970373339273,
          22.71381235960217,
          14.561483872035383,
          22.644201139001613,
          29.86157955862013,
          10.066685885036243,
          12.92956129776993,
          10.062009208882584,
          7.557690208751085,
          13.518513371536228,
          16.91442749012742,
          4.39267594309016,
          10.617315457401943,
          3.7401525417746146,
          32.94206115347281,
          38.23532901772175,
          6.671130825955932,
          26.495570065625706,
          21.097297209580123,
          2.407306645888656,
          10.42249828379269,
          14.458935092513066,
          1.7489843265777005,
          4.9981849626937604,
          6.807461593184309,
          29.64861496368805,
          -0.48829063098494546,
          40.046458746502125,
          -3.108653820979223,
          14.400503290319632,
          35.28697772545248,
          22.5853416514512,
          28.186015450843612,
          -3.519950417827524,
          8.078627613279297,
          2.669745285237173,
          17.549871645965457
         ],
         "y": [
          14.975181383967271,
          20.0,
          2.0,
          6.0,
          14.150978225988782,
          24.0,
          29.920266116313826,
          12.23704789734442,
          13.733399796923935,
          28.355726613121693,
          15.95338511964928,
          23.010763091804154,
          18.27612900354706,
          9.162689311778513,
          10.485785170118533,
          9.641922008644338,
          21.782554351908615,
          14.734264029857886,
          17.274699992894494,
          15.166890606699862,
          11.8460540653013,
          21.221284975354738,
          19.089823010697586,
          10.735788692109033,
          35.86078961003483,
          18.38339068727677,
          9.994355650894255,
          14.56774525544324,
          7.099629282213838,
          18.749126302433933,
          43.882013925429696,
          5.29775128009565,
          9.673426889342133,
          18.458723058429737,
          43.04908311229489,
          29.054280282099157,
          32.277912870635525,
          4.26798641341089,
          25.314153445699326,
          18.279628966446413,
          38.71750072683514,
          44.48986659288451,
          32.35686342881586,
          16.47025449305191,
          23.77244318853309,
          23.715139163174822,
          22.19792610466239,
          33.11100677094737,
          0.582408962268919,
          26.05645760604312,
          2.6195218019760773,
          11.098609183843308,
          8.972363268777595,
          5.1716469494067905,
          14.395034881991963,
          -1.0596533495693627,
          -11.414413243501599,
          14.413007135156803,
          5.564745857624367,
          -7.81461023248786,
          -1.664478735213627,
          11.837407039120198,
          -4.3387609029676515,
          -5.106958751725103,
          -14.596225558643328,
          3.8560447361465235,
          -20.21517068669198,
          -8.506858840480422,
          -14.707048671377422,
          17.589977007931694,
          -2.368671204837872,
          18.01448886243038,
          9.548137507636001,
          34.35775969784618,
          26.19649247793289,
          44.04829664415676,
          43.44100214946871,
          33.88378071530381,
          42.64466516135549,
          13.537960649849971,
          29.805741430442772,
          23.689137009277875,
          44.409434336996505,
          39.28569777765498,
          36.02854143316021,
          8.135818540587787,
          52.16870161737242,
          45.733374474995955,
          51.058801728052416,
          53.794923815002456,
          54.056217806729855,
          57.66018973574887,
          55.67477081604314,
          30.689658285435684,
          57.81727727446451,
          43.01421136010823,
          61.73241946298128,
          60.72290996893786,
          53.16887414600747,
          1.1853521567958398,
          -5.256186263372078,
          -6.62632669637261,
          -12.980268142917499,
          -13.433973798677261,
          -0.4012029325703682,
          13.632687324745415,
          6.725837119725494,
          13.278334196894225,
          20.150609593639576,
          -15.693694500368608,
          3.6419842938095197,
          -11.699508676039326,
          9.252453978446358,
          -19.71601254579865,
          -17.64821556942084,
          -6.5755872058910425,
          -20.19800313855448,
          -21.455549515716363,
          -1.78205123044579,
          -17.85968935690347,
          -21.807347276072772,
          -9.622936751731897,
          -16.151437678493394,
          20.109794301879138,
          -25.845964954255678,
          -14.854518131923253,
          -24.335071514094757,
          -6.4796966847404205,
          -27.105884907911165,
          -28.300242743549653,
          -29.000945887955137,
          -31.027065032497593,
          1.8119660890522415,
          -26.139997480291495,
          -22.33662883356054,
          -31.680884572846892
         ],
         "type": "scatter"
        }
       ],
       "layout": {
        "height": 600,
        "hovermode": "closest",
        "margin": {
         "b": 20,
         "l": 5,
         "r": 5,
         "t": 40
        },
        "showlegend": false,
        "title": {
         "text": "Keyword-Cluster Network Graph"
        },
        "width": 1000,
        "xaxis": {
         "showgrid": false,
         "showticklabels": false,
         "zeroline": false
        },
        "yaxis": {
         "showgrid": false,
         "showticklabels": false,
         "zeroline": false
        },
        "template": {
         "data": {
          "histogram2dcontour": [
           {
            "type": "histogram2dcontour",
            "colorbar": {
             "outlinewidth": 0,
             "ticks": ""
            },
            "colorscale": [
             [
              0.0,
              "#0d0887"
             ],
             [
              0.1111111111111111,
              "#46039f"
             ],
             [
              0.2222222222222222,
              "#7201a8"
             ],
             [
              0.3333333333333333,
              "#9c179e"
             ],
             [
              0.4444444444444444,
              "#bd3786"
             ],
             [
              0.5555555555555556,
              "#d8576b"
             ],
             [
              0.6666666666666666,
              "#ed7953"
             ],
             [
              0.7777777777777778,
              "#fb9f3a"
             ],
             [
              0.8888888888888888,
              "#fdca26"
             ],
             [
              1.0,
              "#f0f921"
             ]
            ]
           }
          ],
          "choropleth": [
           {
            "type": "choropleth",
            "colorbar": {
             "outlinewidth": 0,
             "ticks": ""
            }
           }
          ],
          "histogram2d": [
           {
            "type": "histogram2d",
            "colorbar": {
             "outlinewidth": 0,
             "ticks": ""
            },
            "colorscale": [
             [
              0.0,
              "#0d0887"
             ],
             [
              0.1111111111111111,
              "#46039f"
             ],
             [
              0.2222222222222222,
              "#7201a8"
             ],
             [
              0.3333333333333333,
              "#9c179e"
             ],
             [
              0.4444444444444444,
              "#bd3786"
             ],
             [
              0.5555555555555556,
              "#d8576b"
             ],
             [
              0.6666666666666666,
              "#ed7953"
             ],
             [
              0.7777777777777778,
              "#fb9f3a"
             ],
             [
              0.8888888888888888,
              "#fdca26"
             ],
             [
              1.0,
              "#f0f921"
             ]
            ]
           }
          ],
          "heatmap": [
           {
            "type": "heatmap",
            "colorbar": {
             "outlinewidth": 0,
             "ticks": ""
            },
            "colorscale": [
             [
              0.0,
              "#0d0887"
             ],
             [
              0.1111111111111111,
              "#46039f"
             ],
             [
              0.2222222222222222,
              "#7201a8"
             ],
             [
              0.3333333333333333,
              "#9c179e"
             ],
             [
              0.4444444444444444,
              "#bd3786"
             ],
             [
              0.5555555555555556,
              "#d8576b"
             ],
             [
              0.6666666666666666,
              "#ed7953"
             ],
             [
              0.7777777777777778,
              "#fb9f3a"
             ],
             [
              0.8888888888888888,
              "#fdca26"
             ],
             [
              1.0,
              "#f0f921"
             ]
            ]
           }
          ],
          "heatmapgl": [
           {
            "type": "heatmapgl",
            "colorbar": {
             "outlinewidth": 0,
             "ticks": ""
            },
            "colorscale": [
             [
              0.0,
              "#0d0887"
             ],
             [
              0.1111111111111111,
              "#46039f"
             ],
             [
              0.2222222222222222,
              "#7201a8"
             ],
             [
              0.3333333333333333,
              "#9c179e"
             ],
             [
              0.4444444444444444,
              "#bd3786"
             ],
             [
              0.5555555555555556,
              "#d8576b"
             ],
             [
              0.6666666666666666,
              "#ed7953"
             ],
             [
              0.7777777777777778,
              "#fb9f3a"
             ],
             [
              0.8888888888888888,
              "#fdca26"
             ],
             [
              1.0,
              "#f0f921"
             ]
            ]
           }
          ],
          "contourcarpet": [
           {
            "type": "contourcarpet",
            "colorbar": {
             "outlinewidth": 0,
             "ticks": ""
            }
           }
          ],
          "contour": [
           {
            "type": "contour",
            "colorbar": {
             "outlinewidth": 0,
             "ticks": ""
            },
            "colorscale": [
             [
              0.0,
              "#0d0887"
             ],
             [
              0.1111111111111111,
              "#46039f"
             ],
             [
              0.2222222222222222,
              "#7201a8"
             ],
             [
              0.3333333333333333,
              "#9c179e"
             ],
             [
              0.4444444444444444,
              "#bd3786"
             ],
             [
              0.5555555555555556,
              "#d8576b"
             ],
             [
              0.6666666666666666,
              "#ed7953"
             ],
             [
              0.7777777777777778,
              "#fb9f3a"
             ],
             [
              0.8888888888888888,
              "#fdca26"
             ],
             [
              1.0,
              "#f0f921"
             ]
            ]
           }
          ],
          "surface": [
           {
            "type": "surface",
            "colorbar": {
             "outlinewidth": 0,
             "ticks": ""
            },
            "colorscale": [
             [
              0.0,
              "#0d0887"
             ],
             [
              0.1111111111111111,
              "#46039f"
             ],
             [
              0.2222222222222222,
              "#7201a8"
             ],
             [
              0.3333333333333333,
              "#9c179e"
             ],
             [
              0.4444444444444444,
              "#bd3786"
             ],
             [
              0.5555555555555556,
              "#d8576b"
             ],
             [
              0.6666666666666666,
              "#ed7953"
             ],
             [
              0.7777777777777778,
              "#fb9f3a"
             ],
             [
              0.8888888888888888,
              "#fdca26"
             ],
             [
              1.0,
              "#f0f921"
             ]
            ]
           }
          ],
          "mesh3d": [
           {
            "type": "mesh3d",
            "colorbar": {
             "outlinewidth": 0,
             "ticks": ""
            }
           }
          ],
          "scatter": [
           {
            "fillpattern": {
             "fillmode": "overlay",
             "size": 10,
             "solidity": 0.2
            },
            "type": "scatter"
           }
          ],
          "parcoords": [
           {
            "type": "parcoords",
            "line": {
             "colorbar": {
              "outlinewidth": 0,
              "ticks": ""
             }
            }
           }
          ],
          "scatterpolargl": [
           {
            "type": "scatterpolargl",
            "marker": {
             "colorbar": {
              "outlinewidth": 0,
              "ticks": ""
             }
            }
           }
          ],
          "bar": [
           {
            "error_x": {
             "color": "#2a3f5f"
            },
            "error_y": {
             "color": "#2a3f5f"
            },
            "marker": {
             "line": {
              "color": "#E5ECF6",
              "width": 0.5
             },
             "pattern": {
              "fillmode": "overlay",
              "size": 10,
              "solidity": 0.2
             }
            },
            "type": "bar"
           }
          ],
          "scattergeo": [
           {
            "type": "scattergeo",
            "marker": {
             "colorbar": {
              "outlinewidth": 0,
              "ticks": ""
             }
            }
           }
          ],
          "scatterpolar": [
           {
            "type": "scatterpolar",
            "marker": {
             "colorbar": {
              "outlinewidth": 0,
              "ticks": ""
             }
            }
           }
          ],
          "histogram": [
           {
            "marker": {
             "pattern": {
              "fillmode": "overlay",
              "size": 10,
              "solidity": 0.2
             }
            },
            "type": "histogram"
           }
          ],
          "scattergl": [
           {
            "type": "scattergl",
            "marker": {
             "colorbar": {
              "outlinewidth": 0,
              "ticks": ""
             }
            }
           }
          ],
          "scatter3d": [
           {
            "type": "scatter3d",
            "line": {
             "colorbar": {
              "outlinewidth": 0,
              "ticks": ""
             }
            },
            "marker": {
             "colorbar": {
              "outlinewidth": 0,
              "ticks": ""
             }
            }
           }
          ],
          "scattermapbox": [
           {
            "type": "scattermapbox",
            "marker": {
             "colorbar": {
              "outlinewidth": 0,
              "ticks": ""
             }
            }
           }
          ],
          "scatterternary": [
           {
            "type": "scatterternary",
            "marker": {
             "colorbar": {
              "outlinewidth": 0,
              "ticks": ""
             }
            }
           }
          ],
          "scattercarpet": [
           {
            "type": "scattercarpet",
            "marker": {
             "colorbar": {
              "outlinewidth": 0,
              "ticks": ""
             }
            }
           }
          ],
          "carpet": [
           {
            "aaxis": {
             "endlinecolor": "#2a3f5f",
             "gridcolor": "white",
             "linecolor": "white",
             "minorgridcolor": "white",
             "startlinecolor": "#2a3f5f"
            },
            "baxis": {
             "endlinecolor": "#2a3f5f",
             "gridcolor": "white",
             "linecolor": "white",
             "minorgridcolor": "white",
             "startlinecolor": "#2a3f5f"
            },
            "type": "carpet"
           }
          ],
          "table": [
           {
            "cells": {
             "fill": {
              "color": "#EBF0F8"
             },
             "line": {
              "color": "white"
             }
            },
            "header": {
             "fill": {
              "color": "#C8D4E3"
             },
             "line": {
              "color": "white"
             }
            },
            "type": "table"
           }
          ],
          "barpolar": [
           {
            "marker": {
             "line": {
              "color": "#E5ECF6",
              "width": 0.5
             },
             "pattern": {
              "fillmode": "overlay",
              "size": 10,
              "solidity": 0.2
             }
            },
            "type": "barpolar"
           }
          ],
          "pie": [
           {
            "automargin": true,
            "type": "pie"
           }
          ]
         },
         "layout": {
          "autotypenumbers": "strict",
          "colorway": [
           "#636efa",
           "#EF553B",
           "#00cc96",
           "#ab63fa",
           "#FFA15A",
           "#19d3f3",
           "#FF6692",
           "#B6E880",
           "#FF97FF",
           "#FECB52"
          ],
          "font": {
           "color": "#2a3f5f"
          },
          "hovermode": "closest",
          "hoverlabel": {
           "align": "left"
          },
          "paper_bgcolor": "white",
          "plot_bgcolor": "#E5ECF6",
          "polar": {
           "bgcolor": "#E5ECF6",
           "angularaxis": {
            "gridcolor": "white",
            "linecolor": "white",
            "ticks": ""
           },
           "radialaxis": {
            "gridcolor": "white",
            "linecolor": "white",
            "ticks": ""
           }
          },
          "ternary": {
           "bgcolor": "#E5ECF6",
           "aaxis": {
            "gridcolor": "white",
            "linecolor": "white",
            "ticks": ""
           },
           "baxis": {
            "gridcolor": "white",
            "linecolor": "white",
            "ticks": ""
           },
           "caxis": {
            "gridcolor": "white",
            "linecolor": "white",
            "ticks": ""
           }
          },
          "coloraxis": {
           "colorbar": {
            "outlinewidth": 0,
            "ticks": ""
           }
          },
          "colorscale": {
           "sequential": [
            [
             0.0,
             "#0d0887"
            ],
            [
             0.1111111111111111,
             "#46039f"
            ],
            [
             0.2222222222222222,
             "#7201a8"
            ],
            [
             0.3333333333333333,
             "#9c179e"
            ],
            [
             0.4444444444444444,
             "#bd3786"
            ],
            [
             0.5555555555555556,
             "#d8576b"
            ],
            [
             0.6666666666666666,
             "#ed7953"
            ],
            [
             0.7777777777777778,
             "#fb9f3a"
            ],
            [
             0.8888888888888888,
             "#fdca26"
            ],
            [
             1.0,
             "#f0f921"
            ]
           ],
           "sequentialminus": [
            [
             0.0,
             "#0d0887"
            ],
            [
             0.1111111111111111,
             "#46039f"
            ],
            [
             0.2222222222222222,
             "#7201a8"
            ],
            [
             0.3333333333333333,
             "#9c179e"
            ],
            [
             0.4444444444444444,
             "#bd3786"
            ],
            [
             0.5555555555555556,
             "#d8576b"
            ],
            [
             0.6666666666666666,
             "#ed7953"
            ],
            [
             0.7777777777777778,
             "#fb9f3a"
            ],
            [
             0.8888888888888888,
             "#fdca26"
            ],
            [
             1.0,
             "#f0f921"
            ]
           ],
           "diverging": [
            [
             0,
             "#8e0152"
            ],
            [
             0.1,
             "#c51b7d"
            ],
            [
             0.2,
             "#de77ae"
            ],
            [
             0.3,
             "#f1b6da"
            ],
            [
             0.4,
             "#fde0ef"
            ],
            [
             0.5,
             "#f7f7f7"
            ],
            [
             0.6,
             "#e6f5d0"
            ],
            [
             0.7,
             "#b8e186"
            ],
            [
             0.8,
             "#7fbc41"
            ],
            [
             0.9,
             "#4d9221"
            ],
            [
             1,
             "#276419"
            ]
           ]
          },
          "xaxis": {
           "gridcolor": "white",
           "linecolor": "white",
           "ticks": "",
           "title": {
            "standoff": 15
           },
           "zerolinecolor": "white",
           "automargin": true,
           "zerolinewidth": 2
          },
          "yaxis": {
           "gridcolor": "white",
           "linecolor": "white",
           "ticks": "",
           "title": {
            "standoff": 15
           },
           "zerolinecolor": "white",
           "automargin": true,
           "zerolinewidth": 2
          },
          "scene": {
           "xaxis": {
            "backgroundcolor": "#E5ECF6",
            "gridcolor": "white",
            "linecolor": "white",
            "showbackground": true,
            "ticks": "",
            "zerolinecolor": "white",
            "gridwidth": 2
           },
           "yaxis": {
            "backgroundcolor": "#E5ECF6",
            "gridcolor": "white",
            "linecolor": "white",
            "showbackground": true,
            "ticks": "",
            "zerolinecolor": "white",
            "gridwidth": 2
           },
           "zaxis": {
            "backgroundcolor": "#E5ECF6",
            "gridcolor": "white",
            "linecolor": "white",
            "showbackground": true,
            "ticks": "",
            "zerolinecolor": "white",
            "gridwidth": 2
           }
          },
          "shapedefaults": {
           "line": {
            "color": "#2a3f5f"
           }
          },
          "annotationdefaults": {
           "arrowcolor": "#2a3f5f",
           "arrowhead": 0,
           "arrowwidth": 1
          },
          "geo": {
           "bgcolor": "white",
           "landcolor": "#E5ECF6",
           "subunitcolor": "white",
           "showland": true,
           "showlakes": true,
           "lakecolor": "white"
          },
          "title": {
           "x": 0.05
          },
          "mapbox": {
           "style": "light"
          }
         }
        },
        "plot_bgcolor": "rgba(0,0,0,0)",
        "annotations": [
         {
          "bgcolor": "lightgreen",
          "borderpad": 4,
          "font": {
           "color": "black",
           "size": 10
          },
          "showarrow": false,
          "text": "ENTERTAINMENT - STYLE & BEAUTY - ARTS",
          "textangle": 0,
          "x": 100.0,
          "y": 6.0,
          "yanchor": "bottom"
         },
         {
          "bgcolor": "lightgreen",
          "borderpad": 4,
          "font": {
           "color": "black",
           "size": 10
          },
          "showarrow": false,
          "text": "WELLNESS - IMPACT - HEALTHY LIVING",
          "textangle": 0,
          "x": -10.0,
          "y": 20.0,
          "yanchor": "bottom"
         },
         {
          "bgcolor": "lightgreen",
          "borderpad": 4,
          "font": {
           "color": "black",
           "size": 10
          },
          "showarrow": false,
          "text": "POLITICS - WORLD NEWS - THE WORLDPOST",
          "textangle": 0,
          "x": 63.33333333333333,
          "y": 24.0,
          "yanchor": "bottom"
         },
         {
          "bgcolor": "lightgreen",
          "borderpad": 4,
          "font": {
           "color": "black",
           "size": 10
          },
          "showarrow": false,
          "text": "FOOD & DRINK - TASTE",
          "textangle": 0,
          "x": 26.666666666666664,
          "y": 2.0,
          "yanchor": "bottom"
         }
        ]
       },
       "config": {
        "plotlyServerURL": "https://plot.ly"
       }
      },
      "text/html": [
       "<div>                            <div id=\"e0ebb600-455b-4276-b82c-0be89cea9180\" class=\"plotly-graph-div\" style=\"height:600px; width:1000px;\"></div>            <script type=\"text/javascript\">                require([\"plotly\"], function(Plotly) {                    window.PLOTLYENV=window.PLOTLYENV || {};                                    if (document.getElementById(\"e0ebb600-455b-4276-b82c-0be89cea9180\")) {                    Plotly.newPlot(                        \"e0ebb600-455b-4276-b82c-0be89cea9180\",                        [{\"hoverinfo\":\"none\",\"line\":{\"color\":\"#888\",\"width\":0.5},\"mode\":\"lines\",\"x\":[25.734250739072262,-10.0,null,25.734250739072262,26.666666666666664,null,25.734250739072262,100.0,null,-10.0,42.256171157124555,null,-10.0,-19.598353257242657,null,-10.0,46.05970130783312,null,-10.0,47.84137068602231,null,-10.0,-25.53532740462654,null,-10.0,-27.46290730865412,null,-10.0,-28.340028208564952,null,-10.0,32.16876099506117,null,-10.0,41.77586040934814,null,-10.0,48.50922874123539,null,-10.0,46.07221447182555,null,-10.0,36.42263059949002,null,-10.0,51.60489091597558,null,-10.0,43.57718779873758,null,-10.0,34.25409315407269,null,-10.0,53.74706403016617,null,-10.0,43.81800357005353,null,-10.0,45.490131857698984,null,-10.0,38.77516672222382,null,-10.0,-27.178819684784113,null,-10.0,-34.38720934703558,null,-10.0,50.99232811780031,null,-10.0,56.46634487240272,null,-10.0,37.50736518446713,null,-10.0,39.37442833172544,null,-10.0,-21.704539514499384,null,-10.0,46.64792277756755,null,-10.0,-36.07466159556502,null,-10.0,50.01985966221059,null,-10.0,-27.955524684319496,null,-10.0,40.39713145169034,null,-10.0,-35.25414622659261,null,-10.0,41.56989451148127,null,-10.0,-40.04800938765328,null,-10.0,54.71401402731873,null,-10.0,-39.075824291207475,null,-10.0,-34.534433446866906,null,-10.0,-43.40863419573319,null,-10.0,-44.40860181792968,null,-10.0,48.66184936111335,null,-10.0,-46.1994062925927,null,-10.0,52.52060245072649,null,-10.0,31.937043648802433,null,-10.0,47.21283963190157,null,-10.0,50.64263202533997,null,-10.0,50.583222384238944,null,-10.0,58.39879124524648,null,-10.0,-44.66829696945396,null,-10.0,55.825674792894254,null,26.666666666666664,42.256171157124555,null,26.666666666666664,46.05970130783312,null,26.666666666666664,47.84137068602231,null,26.666666666666664,41.77586040934814,null,26.666666666666664,48.50922874123539,null,26.666666666666664,46.07221447182555,null,26.666666666666664,38.77516672222382,null,26.666666666666664,50.99232811780031,null,26.666666666666664,37.50736518446713,null,26.666666666666664,46.64792277756755,null,26.666666666666664,62.17794743079119,null,26.666666666666664,66.15707486110658,null,26.666666666666664,20.022970373339273,null,26.666666666666664,22.71381235960217,null,26.666666666666664,14.561483872035383,null,26.666666666666664,22.644201139001613,null,26.666666666666664,29.86157955862013,null,26.666666666666664,10.066685885036243,null,26.666666666666664,12.92956129776993,null,26.666666666666664,10.062009208882584,null,26.666666666666664,7.557690208751085,null,26.666666666666664,13.518513371536228,null,26.666666666666664,16.91442749012742,null,26.666666666666664,4.39267594309016,null,26.666666666666664,10.617315457401943,null,26.666666666666664,3.7401525417746146,null,26.666666666666664,32.94206115347281,null,26.666666666666664,38.23532901772175,null,26.666666666666664,6.671130825955932,null,26.666666666666664,26.495570065625706,null,26.666666666666664,21.097297209580123,null,26.666666666666664,2.407306645888656,null,26.666666666666664,10.42249828379269,null,26.666666666666664,14.458935092513066,null,26.666666666666664,1.7489843265777005,null,26.666666666666664,4.9981849626937604,null,26.666666666666664,6.807461593184309,null,26.666666666666664,29.64861496368805,null,26.666666666666664,-0.48829063098494546,null,26.666666666666664,40.046458746502125,null,26.666666666666664,-3.108653820979223,null,26.666666666666664,14.400503290319632,null,26.666666666666664,35.28697772545248,null,26.666666666666664,22.5853416514512,null,26.666666666666664,28.186015450843612,null,26.666666666666664,-3.519950417827524,null,26.666666666666664,8.078627613279297,null,26.666666666666664,2.669745285237173,null,26.666666666666664,17.549871645965457,null,100.0,42.256171157124555,null,100.0,46.05970130783312,null,100.0,47.84137068602231,null,100.0,32.16876099506117,null,100.0,41.77586040934814,null,100.0,48.50922874123539,null,100.0,46.07221447182555,null,100.0,36.42263059949002,null,100.0,51.60489091597558,null,100.0,43.57718779873758,null,100.0,34.25409315407269,null,100.0,53.74706403016617,null,100.0,43.81800357005353,null,100.0,45.490131857698984,null,100.0,38.77516672222382,null,100.0,50.99232811780031,null,100.0,56.46634487240272,null,100.0,37.50736518446713,null,100.0,39.37442833172544,null,100.0,46.64792277756755,null,100.0,50.01985966221059,null,100.0,41.56989451148127,null,100.0,54.71401402731873,null,100.0,48.66184936111335,null,100.0,52.52060245072649,null,100.0,47.21283963190157,null,100.0,50.64263202533997,null,100.0,50.583222384238944,null,100.0,58.39879124524648,null,100.0,55.825674792894254,null,100.0,95.4709866830824,null,100.0,117.7191053042394,null,100.0,113.0417572352703,null,100.0,121.34499430192311,null,100.0,123.5068770419557,null,100.0,121.16771531463321,null,100.0,125.15819707169375,null,100.0,126.74411980894885,null,100.0,62.17794743079119,null,100.0,66.15707486110658,null,100.0,119.68356588437868,null,100.0,131.24608862943262,null,100.0,116.6507487826102,null,100.0,130.1686552725614,null,100.0,126.6159872139419,null,100.0,85.04548076116967,null,100.0,133.78363600821373,null,100.0,131.35577671144384,null,100.0,134.89241335923973,null,42.256171157124555,63.33333333333333,null,63.33333333333333,46.05970130783312,null,63.33333333333333,47.84137068602231,null,63.33333333333333,41.77586040934814,null,63.33333333333333,48.50922874123539,null,63.33333333333333,46.07221447182555,null,63.33333333333333,36.42263059949002,null,63.33333333333333,51.60489091597558,null,63.33333333333333,43.57718779873758,null,63.33333333333333,53.74706403016617,null,63.33333333333333,43.81800357005353,null,63.33333333333333,45.490131857698984,null,63.33333333333333,50.99232811780031,null,63.33333333333333,56.46634487240272,null,63.33333333333333,50.01985966221059,null,63.33333333333333,40.39713145169034,null,63.33333333333333,54.71401402731873,null,63.33333333333333,48.66184936111335,null,63.33333333333333,52.52060245072649,null,63.33333333333333,31.937043648802433,null,63.33333333333333,50.64263202533997,null,63.33333333333333,58.39879124524648,null,63.33333333333333,95.4709866830824,null,63.33333333333333,85.04548076116967,null,63.33333333333333,73.92269116338565,null,63.33333333333333,79.31639447911257,null,63.33333333333333,62.63789176934008,null,63.33333333333333,68.76473053090814,null,63.33333333333333,81.73117897877044,null,63.33333333333333,74.9627505450432,null,63.33333333333333,82.3010357009996,null,63.33333333333333,88.76286414706581,null,63.33333333333333,90.58991765390398,null,63.33333333333333,81.26941837647558,null,63.33333333333333,86.80360980781549,null,63.33333333333333,92.45117340503033,null,63.33333333333333,87.23790994796897,null,63.33333333333333,75.57555271120134,null,63.33333333333333,89.00788088605927,null,63.33333333333333,82.64277944618384,null,63.33333333333333,54.587286503609455,null,63.33333333333333,67.62199009503703,null,63.33333333333333,73.2023084719193,null,63.33333333333333,61.574196239397054,null,63.33333333333333,96.60253477016305,null,63.33333333333333,80.57223422346898,null,63.33333333333333,95.72051443571819,null,63.33333333333333,67.56432642138806,null,63.33333333333333,58.00036271479684,null,63.33333333333333,89.52014924476833,null],\"y\":[14.975181383967271,20.0,null,14.975181383967271,2.0,null,14.975181383967271,6.0,null,20.0,14.150978225988782,null,20.0,29.920266116313826,null,20.0,12.23704789734442,null,20.0,13.733399796923935,null,20.0,28.355726613121693,null,20.0,15.95338511964928,null,20.0,23.010763091804154,null,20.0,18.27612900354706,null,20.0,9.162689311778513,null,20.0,10.485785170118533,null,20.0,9.641922008644338,null,20.0,21.782554351908615,null,20.0,14.734264029857886,null,20.0,17.274699992894494,null,20.0,15.166890606699862,null,20.0,11.8460540653013,null,20.0,21.221284975354738,null,20.0,19.089823010697586,null,20.0,10.735788692109033,null,20.0,35.86078961003483,null,20.0,18.38339068727677,null,20.0,9.994355650894255,null,20.0,14.56774525544324,null,20.0,7.099629282213838,null,20.0,18.749126302433933,null,20.0,43.882013925429696,null,20.0,5.29775128009565,null,20.0,9.673426889342133,null,20.0,18.458723058429737,null,20.0,43.04908311229489,null,20.0,29.054280282099157,null,20.0,32.277912870635525,null,20.0,4.26798641341089,null,20.0,25.314153445699326,null,20.0,18.279628966446413,null,20.0,38.71750072683514,null,20.0,44.48986659288451,null,20.0,32.35686342881586,null,20.0,16.47025449305191,null,20.0,23.77244318853309,null,20.0,23.715139163174822,null,20.0,22.19792610466239,null,20.0,33.11100677094737,null,20.0,0.582408962268919,null,20.0,26.05645760604312,null,20.0,2.6195218019760773,null,20.0,11.098609183843308,null,20.0,8.972363268777595,null,20.0,5.1716469494067905,null,2.0,14.150978225988782,null,2.0,12.23704789734442,null,2.0,13.733399796923935,null,2.0,9.162689311778513,null,2.0,10.485785170118533,null,2.0,9.641922008644338,null,2.0,10.735788692109033,null,2.0,9.994355650894255,null,2.0,7.099629282213838,null,2.0,5.29775128009565,null,2.0,-4.3387609029676515,null,2.0,-5.106958751725103,null,2.0,1.1853521567958398,null,2.0,-5.256186263372078,null,2.0,-6.62632669637261,null,2.0,-12.980268142917499,null,2.0,-13.433973798677261,null,2.0,-0.4012029325703682,null,2.0,13.632687324745415,null,2.0,6.725837119725494,null,2.0,13.278334196894225,null,2.0,20.150609593639576,null,2.0,-15.693694500368608,null,2.0,3.6419842938095197,null,2.0,-11.699508676039326,null,2.0,9.252453978446358,null,2.0,-19.71601254579865,null,2.0,-17.64821556942084,null,2.0,-6.5755872058910425,null,2.0,-20.19800313855448,null,2.0,-21.455549515716363,null,2.0,-1.78205123044579,null,2.0,-17.85968935690347,null,2.0,-21.807347276072772,null,2.0,-9.622936751731897,null,2.0,-16.151437678493394,null,2.0,20.109794301879138,null,2.0,-25.845964954255678,null,2.0,-14.854518131923253,null,2.0,-24.335071514094757,null,2.0,-6.4796966847404205,null,2.0,-27.105884907911165,null,2.0,-28.300242743549653,null,2.0,-29.000945887955137,null,2.0,-31.027065032497593,null,2.0,1.8119660890522415,null,2.0,-26.139997480291495,null,2.0,-22.33662883356054,null,2.0,-31.680884572846892,null,6.0,14.150978225988782,null,6.0,12.23704789734442,null,6.0,13.733399796923935,null,6.0,18.27612900354706,null,6.0,9.162689311778513,null,6.0,10.485785170118533,null,6.0,9.641922008644338,null,6.0,21.782554351908615,null,6.0,14.734264029857886,null,6.0,17.274699992894494,null,6.0,15.166890606699862,null,6.0,11.8460540653013,null,6.0,21.221284975354738,null,6.0,19.089823010697586,null,6.0,10.735788692109033,null,6.0,9.994355650894255,null,6.0,14.56774525544324,null,6.0,7.099629282213838,null,6.0,18.749126302433933,null,6.0,5.29775128009565,null,6.0,18.458723058429737,null,6.0,4.26798641341089,null,6.0,18.279628966446413,null,6.0,23.77244318853309,null,6.0,22.19792610466239,null,6.0,0.582408962268919,null,6.0,26.05645760604312,null,6.0,2.6195218019760773,null,6.0,11.098609183843308,null,6.0,5.1716469494067905,null,6.0,14.395034881991963,null,6.0,-1.0596533495693627,null,6.0,-11.414413243501599,null,6.0,14.413007135156803,null,6.0,5.564745857624367,null,6.0,-7.81461023248786,null,6.0,-1.664478735213627,null,6.0,11.837407039120198,null,6.0,-4.3387609029676515,null,6.0,-5.106958751725103,null,6.0,-14.596225558643328,null,6.0,3.8560447361465235,null,6.0,-20.21517068669198,null,6.0,-8.506858840480422,null,6.0,-14.707048671377422,null,6.0,17.589977007931694,null,6.0,-2.368671204837872,null,6.0,18.01448886243038,null,6.0,9.548137507636001,null,14.150978225988782,24.0,null,24.0,12.23704789734442,null,24.0,13.733399796923935,null,24.0,9.162689311778513,null,24.0,10.485785170118533,null,24.0,9.641922008644338,null,24.0,21.782554351908615,null,24.0,14.734264029857886,null,24.0,17.274699992894494,null,24.0,11.8460540653013,null,24.0,21.221284975354738,null,24.0,19.089823010697586,null,24.0,9.994355650894255,null,24.0,14.56774525544324,null,24.0,18.458723058429737,null,24.0,29.054280282099157,null,24.0,18.279628966446413,null,24.0,23.77244318853309,null,24.0,22.19792610466239,null,24.0,33.11100677094737,null,24.0,26.05645760604312,null,24.0,11.098609183843308,null,24.0,14.395034881991963,null,24.0,17.589977007931694,null,24.0,34.35775969784618,null,24.0,26.19649247793289,null,24.0,44.04829664415676,null,24.0,43.44100214946871,null,24.0,33.88378071530381,null,24.0,42.64466516135549,null,24.0,13.537960649849971,null,24.0,29.805741430442772,null,24.0,23.689137009277875,null,24.0,44.409434336996505,null,24.0,39.28569777765498,null,24.0,36.02854143316021,null,24.0,8.135818540587787,null,24.0,52.16870161737242,null,24.0,45.733374474995955,null,24.0,51.058801728052416,null,24.0,53.794923815002456,null,24.0,54.056217806729855,null,24.0,57.66018973574887,null,24.0,55.67477081604314,null,24.0,30.689658285435684,null,24.0,57.81727727446451,null,24.0,43.01421136010823,null,24.0,61.73241946298128,null,24.0,60.72290996893786,null,24.0,53.16887414600747,null],\"type\":\"scatter\"},{\"hoverinfo\":\"text\",\"marker\":{\"color\":[\"lightblue\",\"lightgreen\",\"lightgreen\",\"lightgreen\",\"lightblue\",\"lightgreen\",\"lightblue\",\"lightblue\",\"lightblue\",\"lightblue\",\"lightblue\",\"lightblue\",\"lightblue\",\"lightblue\",\"lightblue\",\"lightblue\",\"lightblue\",\"lightblue\",\"lightblue\",\"lightblue\",\"lightblue\",\"lightblue\",\"lightblue\",\"lightblue\",\"lightblue\",\"lightblue\",\"lightblue\",\"lightblue\",\"lightblue\",\"lightblue\",\"lightblue\",\"lightblue\",\"lightblue\",\"lightblue\",\"lightblue\",\"lightblue\",\"lightblue\",\"lightblue\",\"lightblue\",\"lightblue\",\"lightblue\",\"lightblue\",\"lightblue\",\"lightblue\",\"lightblue\",\"lightblue\",\"lightblue\",\"lightblue\",\"lightblue\",\"lightblue\",\"lightblue\",\"lightblue\",\"lightblue\",\"lightblue\",\"lightblue\",\"lightblue\",\"lightblue\",\"lightblue\",\"lightblue\",\"lightblue\",\"lightblue\",\"lightblue\",\"lightblue\",\"lightblue\",\"lightblue\",\"lightblue\",\"lightblue\",\"lightblue\",\"lightblue\",\"lightblue\",\"lightblue\",\"lightblue\",\"lightblue\",\"lightblue\",\"lightblue\",\"lightblue\",\"lightblue\",\"lightblue\",\"lightblue\",\"lightblue\",\"lightblue\",\"lightblue\",\"lightblue\",\"lightblue\",\"lightblue\",\"lightblue\",\"lightblue\",\"lightblue\",\"lightblue\",\"lightblue\",\"lightblue\",\"lightblue\",\"lightblue\",\"lightblue\",\"lightblue\",\"lightblue\",\"lightblue\",\"lightblue\",\"lightblue\",\"lightblue\",\"lightblue\",\"lightblue\",\"lightblue\",\"lightblue\",\"lightblue\",\"lightblue\",\"lightblue\",\"lightblue\",\"lightblue\",\"lightblue\",\"lightblue\",\"lightblue\",\"lightblue\",\"lightblue\",\"lightblue\",\"lightblue\",\"lightblue\",\"lightblue\",\"lightblue\",\"lightblue\",\"lightblue\",\"lightblue\",\"lightblue\",\"lightblue\",\"lightblue\",\"lightblue\",\"lightblue\",\"lightblue\",\"lightblue\",\"lightblue\",\"lightblue\",\"lightblue\",\"lightblue\",\"lightblue\",\"lightblue\",\"lightblue\"],\"colorscale\":[[0.0,\"rgb(255,255,217)\"],[0.125,\"rgb(237,248,177)\"],[0.25,\"rgb(199,233,180)\"],[0.375,\"rgb(127,205,187)\"],[0.5,\"rgb(65,182,196)\"],[0.625,\"rgb(29,145,192)\"],[0.75,\"rgb(34,94,168)\"],[0.875,\"rgb(37,52,148)\"],[1.0,\"rgb(8,29,88)\"]],\"line\":{\"width\":2},\"showscale\":false,\"size\":[10,25,25,25,10,25,10,10,10,10,10,10,10,10,10,10,10,10,10,10,10,10,10,10,10,10,10,10,10,10,10,10,10,10,10,10,10,10,10,10,10,10,10,10,10,10,10,10,10,10,10,10,10,10,10,10,10,10,10,10,10,10,10,10,10,10,10,10,10,10,10,10,10,10,10,10,10,10,10,10,10,10,10,10,10,10,10,10,10,10,10,10,10,10,10,10,10,10,10,10,10,10,10,10,10,10,10,10,10,10,10,10,10,10,10,10,10,10,10,10,10,10,10,10,10,10,10,10,10,10,10,10,10,10,10,10]},\"mode\":\"markers+text\",\"text\":[\"photo\",\"\",\"\",\"\",\"new\",\"\",\"art\",\"one\",\"year\",\"wedding\",\"artist\",\"black\",\"look\",\"make\",\"time\",\"day\",\"show\",\"woman\",\"week\",\"home\",\"life\",\"video\",\"first\",\"love\",\"style\",\"fashion\",\"world\",\"people\",\"best\",\"work\",\"star\",\"know\",\"book\",\"take\",\"film\",\"trump\",\"dress\",\"see\",\"imageblog\",\"would\",\"beauty\",\"story\",\"pinterest\",\"york\",\"two\",\"music\",\"right\",\"say\",\"come\",\"american\",\"back\",\"may\",\"hair\",\"many\",\"child\",\"kid\",\"help\",\"school\",\"man\",\"change\",\"student\",\"family\",\"good\",\"even\",\"thing\",\"college\",\"parent\",\"find\",\"think\",\"state\",\"dog\",\"every\",\"health\",\"president\",\"donald\",\"latino\",\"news\",\"attack\",\"police\",\"country\",\"war\",\"isi\",\"syria\",\"iran\",\"medium\",\"killed\",\"death\",\"leader\",\"election\",\"government\",\"korea\",\"north\",\"official\",\"russia\",\"city\",\"last\",\"report\",\"bill\",\"china\",\"recipe\",\"food\",\"delicious\",\"wine\",\"dessert\",\"cooking\",\"cake\",\"eat\",\"cheese\",\"cocktail\",\"chocolate\",\"dish\",\"easy\",\"chicken\",\"summer\",\"cream\",\"salad\",\"flavor\",\"taste\",\"chef\",\"dinner\",\"sweet\",\"restaurant\",\"meal\",\"cooky\",\"beer\",\"drink\",\"favorite\",\"butter\",\"soup\",\"burger\",\"kitchen\",\"breakfast\",\"cook\",\"better\",\"cuff\",\"sauce\"],\"textposition\":\"bottom center\",\"x\":[25.734250739072262,-10.0,26.666666666666664,100.0,42.256171157124555,63.33333333333333,-19.598353257242657,46.05970130783312,47.84137068602231,-25.53532740462654,-27.46290730865412,-28.340028208564952,32.16876099506117,41.77586040934814,48.50922874123539,46.07221447182555,36.42263059949002,51.60489091597558,43.57718779873758,34.25409315407269,53.74706403016617,43.81800357005353,45.490131857698984,38.77516672222382,-27.178819684784113,-34.38720934703558,50.99232811780031,56.46634487240272,37.50736518446713,39.37442833172544,-21.704539514499384,46.64792277756755,-36.07466159556502,50.01985966221059,-27.955524684319496,40.39713145169034,-35.25414622659261,41.56989451148127,-40.04800938765328,54.71401402731873,-39.075824291207475,-34.534433446866906,-43.40863419573319,-44.40860181792968,48.66184936111335,-46.1994062925927,52.52060245072649,31.937043648802433,47.21283963190157,50.64263202533997,50.583222384238944,58.39879124524648,-44.66829696945396,55.825674792894254,95.4709866830824,117.7191053042394,113.0417572352703,121.34499430192311,123.5068770419557,121.16771531463321,125.15819707169375,126.74411980894885,62.17794743079119,66.15707486110658,119.68356588437868,131.24608862943262,116.6507487826102,130.1686552725614,126.6159872139419,85.04548076116967,133.78363600821373,131.35577671144384,134.89241335923973,73.92269116338565,79.31639447911257,62.63789176934008,68.76473053090814,81.73117897877044,74.9627505450432,82.3010357009996,88.76286414706581,90.58991765390398,81.26941837647558,86.80360980781549,92.45117340503033,87.23790994796897,75.57555271120134,89.00788088605927,82.64277944618384,54.587286503609455,67.62199009503703,73.2023084719193,61.574196239397054,96.60253477016305,80.57223422346898,95.72051443571819,67.56432642138806,58.00036271479684,89.52014924476833,20.022970373339273,22.71381235960217,14.561483872035383,22.644201139001613,29.86157955862013,10.066685885036243,12.92956129776993,10.062009208882584,7.557690208751085,13.518513371536228,16.91442749012742,4.39267594309016,10.617315457401943,3.7401525417746146,32.94206115347281,38.23532901772175,6.671130825955932,26.495570065625706,21.097297209580123,2.407306645888656,10.42249828379269,14.458935092513066,1.7489843265777005,4.9981849626937604,6.807461593184309,29.64861496368805,-0.48829063098494546,40.046458746502125,-3.108653820979223,14.400503290319632,35.28697772545248,22.5853416514512,28.186015450843612,-3.519950417827524,8.078627613279297,2.669745285237173,17.549871645965457],\"y\":[14.975181383967271,20.0,2.0,6.0,14.150978225988782,24.0,29.920266116313826,12.23704789734442,13.733399796923935,28.355726613121693,15.95338511964928,23.010763091804154,18.27612900354706,9.162689311778513,10.485785170118533,9.641922008644338,21.782554351908615,14.734264029857886,17.274699992894494,15.166890606699862,11.8460540653013,21.221284975354738,19.089823010697586,10.735788692109033,35.86078961003483,18.38339068727677,9.994355650894255,14.56774525544324,7.099629282213838,18.749126302433933,43.882013925429696,5.29775128009565,9.673426889342133,18.458723058429737,43.04908311229489,29.054280282099157,32.277912870635525,4.26798641341089,25.314153445699326,18.279628966446413,38.71750072683514,44.48986659288451,32.35686342881586,16.47025449305191,23.77244318853309,23.715139163174822,22.19792610466239,33.11100677094737,0.582408962268919,26.05645760604312,2.6195218019760773,11.098609183843308,8.972363268777595,5.1716469494067905,14.395034881991963,-1.0596533495693627,-11.414413243501599,14.413007135156803,5.564745857624367,-7.81461023248786,-1.664478735213627,11.837407039120198,-4.3387609029676515,-5.106958751725103,-14.596225558643328,3.8560447361465235,-20.21517068669198,-8.506858840480422,-14.707048671377422,17.589977007931694,-2.368671204837872,18.01448886243038,9.548137507636001,34.35775969784618,26.19649247793289,44.04829664415676,43.44100214946871,33.88378071530381,42.64466516135549,13.537960649849971,29.805741430442772,23.689137009277875,44.409434336996505,39.28569777765498,36.02854143316021,8.135818540587787,52.16870161737242,45.733374474995955,51.058801728052416,53.794923815002456,54.056217806729855,57.66018973574887,55.67477081604314,30.689658285435684,57.81727727446451,43.01421136010823,61.73241946298128,60.72290996893786,53.16887414600747,1.1853521567958398,-5.256186263372078,-6.62632669637261,-12.980268142917499,-13.433973798677261,-0.4012029325703682,13.632687324745415,6.725837119725494,13.278334196894225,20.150609593639576,-15.693694500368608,3.6419842938095197,-11.699508676039326,9.252453978446358,-19.71601254579865,-17.64821556942084,-6.5755872058910425,-20.19800313855448,-21.455549515716363,-1.78205123044579,-17.85968935690347,-21.807347276072772,-9.622936751731897,-16.151437678493394,20.109794301879138,-25.845964954255678,-14.854518131923253,-24.335071514094757,-6.4796966847404205,-27.105884907911165,-28.300242743549653,-29.000945887955137,-31.027065032497593,1.8119660890522415,-26.139997480291495,-22.33662883356054,-31.680884572846892],\"type\":\"scatter\"}],                        {\"height\":600,\"hovermode\":\"closest\",\"margin\":{\"b\":20,\"l\":5,\"r\":5,\"t\":40},\"showlegend\":false,\"title\":{\"text\":\"Keyword-Cluster Network Graph\"},\"width\":1000,\"xaxis\":{\"showgrid\":false,\"showticklabels\":false,\"zeroline\":false},\"yaxis\":{\"showgrid\":false,\"showticklabels\":false,\"zeroline\":false},\"template\":{\"data\":{\"histogram2dcontour\":[{\"type\":\"histogram2dcontour\",\"colorbar\":{\"outlinewidth\":0,\"ticks\":\"\"},\"colorscale\":[[0.0,\"#0d0887\"],[0.1111111111111111,\"#46039f\"],[0.2222222222222222,\"#7201a8\"],[0.3333333333333333,\"#9c179e\"],[0.4444444444444444,\"#bd3786\"],[0.5555555555555556,\"#d8576b\"],[0.6666666666666666,\"#ed7953\"],[0.7777777777777778,\"#fb9f3a\"],[0.8888888888888888,\"#fdca26\"],[1.0,\"#f0f921\"]]}],\"choropleth\":[{\"type\":\"choropleth\",\"colorbar\":{\"outlinewidth\":0,\"ticks\":\"\"}}],\"histogram2d\":[{\"type\":\"histogram2d\",\"colorbar\":{\"outlinewidth\":0,\"ticks\":\"\"},\"colorscale\":[[0.0,\"#0d0887\"],[0.1111111111111111,\"#46039f\"],[0.2222222222222222,\"#7201a8\"],[0.3333333333333333,\"#9c179e\"],[0.4444444444444444,\"#bd3786\"],[0.5555555555555556,\"#d8576b\"],[0.6666666666666666,\"#ed7953\"],[0.7777777777777778,\"#fb9f3a\"],[0.8888888888888888,\"#fdca26\"],[1.0,\"#f0f921\"]]}],\"heatmap\":[{\"type\":\"heatmap\",\"colorbar\":{\"outlinewidth\":0,\"ticks\":\"\"},\"colorscale\":[[0.0,\"#0d0887\"],[0.1111111111111111,\"#46039f\"],[0.2222222222222222,\"#7201a8\"],[0.3333333333333333,\"#9c179e\"],[0.4444444444444444,\"#bd3786\"],[0.5555555555555556,\"#d8576b\"],[0.6666666666666666,\"#ed7953\"],[0.7777777777777778,\"#fb9f3a\"],[0.8888888888888888,\"#fdca26\"],[1.0,\"#f0f921\"]]}],\"heatmapgl\":[{\"type\":\"heatmapgl\",\"colorbar\":{\"outlinewidth\":0,\"ticks\":\"\"},\"colorscale\":[[0.0,\"#0d0887\"],[0.1111111111111111,\"#46039f\"],[0.2222222222222222,\"#7201a8\"],[0.3333333333333333,\"#9c179e\"],[0.4444444444444444,\"#bd3786\"],[0.5555555555555556,\"#d8576b\"],[0.6666666666666666,\"#ed7953\"],[0.7777777777777778,\"#fb9f3a\"],[0.8888888888888888,\"#fdca26\"],[1.0,\"#f0f921\"]]}],\"contourcarpet\":[{\"type\":\"contourcarpet\",\"colorbar\":{\"outlinewidth\":0,\"ticks\":\"\"}}],\"contour\":[{\"type\":\"contour\",\"colorbar\":{\"outlinewidth\":0,\"ticks\":\"\"},\"colorscale\":[[0.0,\"#0d0887\"],[0.1111111111111111,\"#46039f\"],[0.2222222222222222,\"#7201a8\"],[0.3333333333333333,\"#9c179e\"],[0.4444444444444444,\"#bd3786\"],[0.5555555555555556,\"#d8576b\"],[0.6666666666666666,\"#ed7953\"],[0.7777777777777778,\"#fb9f3a\"],[0.8888888888888888,\"#fdca26\"],[1.0,\"#f0f921\"]]}],\"surface\":[{\"type\":\"surface\",\"colorbar\":{\"outlinewidth\":0,\"ticks\":\"\"},\"colorscale\":[[0.0,\"#0d0887\"],[0.1111111111111111,\"#46039f\"],[0.2222222222222222,\"#7201a8\"],[0.3333333333333333,\"#9c179e\"],[0.4444444444444444,\"#bd3786\"],[0.5555555555555556,\"#d8576b\"],[0.6666666666666666,\"#ed7953\"],[0.7777777777777778,\"#fb9f3a\"],[0.8888888888888888,\"#fdca26\"],[1.0,\"#f0f921\"]]}],\"mesh3d\":[{\"type\":\"mesh3d\",\"colorbar\":{\"outlinewidth\":0,\"ticks\":\"\"}}],\"scatter\":[{\"fillpattern\":{\"fillmode\":\"overlay\",\"size\":10,\"solidity\":0.2},\"type\":\"scatter\"}],\"parcoords\":[{\"type\":\"parcoords\",\"line\":{\"colorbar\":{\"outlinewidth\":0,\"ticks\":\"\"}}}],\"scatterpolargl\":[{\"type\":\"scatterpolargl\",\"marker\":{\"colorbar\":{\"outlinewidth\":0,\"ticks\":\"\"}}}],\"bar\":[{\"error_x\":{\"color\":\"#2a3f5f\"},\"error_y\":{\"color\":\"#2a3f5f\"},\"marker\":{\"line\":{\"color\":\"#E5ECF6\",\"width\":0.5},\"pattern\":{\"fillmode\":\"overlay\",\"size\":10,\"solidity\":0.2}},\"type\":\"bar\"}],\"scattergeo\":[{\"type\":\"scattergeo\",\"marker\":{\"colorbar\":{\"outlinewidth\":0,\"ticks\":\"\"}}}],\"scatterpolar\":[{\"type\":\"scatterpolar\",\"marker\":{\"colorbar\":{\"outlinewidth\":0,\"ticks\":\"\"}}}],\"histogram\":[{\"marker\":{\"pattern\":{\"fillmode\":\"overlay\",\"size\":10,\"solidity\":0.2}},\"type\":\"histogram\"}],\"scattergl\":[{\"type\":\"scattergl\",\"marker\":{\"colorbar\":{\"outlinewidth\":0,\"ticks\":\"\"}}}],\"scatter3d\":[{\"type\":\"scatter3d\",\"line\":{\"colorbar\":{\"outlinewidth\":0,\"ticks\":\"\"}},\"marker\":{\"colorbar\":{\"outlinewidth\":0,\"ticks\":\"\"}}}],\"scattermapbox\":[{\"type\":\"scattermapbox\",\"marker\":{\"colorbar\":{\"outlinewidth\":0,\"ticks\":\"\"}}}],\"scatterternary\":[{\"type\":\"scatterternary\",\"marker\":{\"colorbar\":{\"outlinewidth\":0,\"ticks\":\"\"}}}],\"scattercarpet\":[{\"type\":\"scattercarpet\",\"marker\":{\"colorbar\":{\"outlinewidth\":0,\"ticks\":\"\"}}}],\"carpet\":[{\"aaxis\":{\"endlinecolor\":\"#2a3f5f\",\"gridcolor\":\"white\",\"linecolor\":\"white\",\"minorgridcolor\":\"white\",\"startlinecolor\":\"#2a3f5f\"},\"baxis\":{\"endlinecolor\":\"#2a3f5f\",\"gridcolor\":\"white\",\"linecolor\":\"white\",\"minorgridcolor\":\"white\",\"startlinecolor\":\"#2a3f5f\"},\"type\":\"carpet\"}],\"table\":[{\"cells\":{\"fill\":{\"color\":\"#EBF0F8\"},\"line\":{\"color\":\"white\"}},\"header\":{\"fill\":{\"color\":\"#C8D4E3\"},\"line\":{\"color\":\"white\"}},\"type\":\"table\"}],\"barpolar\":[{\"marker\":{\"line\":{\"color\":\"#E5ECF6\",\"width\":0.5},\"pattern\":{\"fillmode\":\"overlay\",\"size\":10,\"solidity\":0.2}},\"type\":\"barpolar\"}],\"pie\":[{\"automargin\":true,\"type\":\"pie\"}]},\"layout\":{\"autotypenumbers\":\"strict\",\"colorway\":[\"#636efa\",\"#EF553B\",\"#00cc96\",\"#ab63fa\",\"#FFA15A\",\"#19d3f3\",\"#FF6692\",\"#B6E880\",\"#FF97FF\",\"#FECB52\"],\"font\":{\"color\":\"#2a3f5f\"},\"hovermode\":\"closest\",\"hoverlabel\":{\"align\":\"left\"},\"paper_bgcolor\":\"white\",\"plot_bgcolor\":\"#E5ECF6\",\"polar\":{\"bgcolor\":\"#E5ECF6\",\"angularaxis\":{\"gridcolor\":\"white\",\"linecolor\":\"white\",\"ticks\":\"\"},\"radialaxis\":{\"gridcolor\":\"white\",\"linecolor\":\"white\",\"ticks\":\"\"}},\"ternary\":{\"bgcolor\":\"#E5ECF6\",\"aaxis\":{\"gridcolor\":\"white\",\"linecolor\":\"white\",\"ticks\":\"\"},\"baxis\":{\"gridcolor\":\"white\",\"linecolor\":\"white\",\"ticks\":\"\"},\"caxis\":{\"gridcolor\":\"white\",\"linecolor\":\"white\",\"ticks\":\"\"}},\"coloraxis\":{\"colorbar\":{\"outlinewidth\":0,\"ticks\":\"\"}},\"colorscale\":{\"sequential\":[[0.0,\"#0d0887\"],[0.1111111111111111,\"#46039f\"],[0.2222222222222222,\"#7201a8\"],[0.3333333333333333,\"#9c179e\"],[0.4444444444444444,\"#bd3786\"],[0.5555555555555556,\"#d8576b\"],[0.6666666666666666,\"#ed7953\"],[0.7777777777777778,\"#fb9f3a\"],[0.8888888888888888,\"#fdca26\"],[1.0,\"#f0f921\"]],\"sequentialminus\":[[0.0,\"#0d0887\"],[0.1111111111111111,\"#46039f\"],[0.2222222222222222,\"#7201a8\"],[0.3333333333333333,\"#9c179e\"],[0.4444444444444444,\"#bd3786\"],[0.5555555555555556,\"#d8576b\"],[0.6666666666666666,\"#ed7953\"],[0.7777777777777778,\"#fb9f3a\"],[0.8888888888888888,\"#fdca26\"],[1.0,\"#f0f921\"]],\"diverging\":[[0,\"#8e0152\"],[0.1,\"#c51b7d\"],[0.2,\"#de77ae\"],[0.3,\"#f1b6da\"],[0.4,\"#fde0ef\"],[0.5,\"#f7f7f7\"],[0.6,\"#e6f5d0\"],[0.7,\"#b8e186\"],[0.8,\"#7fbc41\"],[0.9,\"#4d9221\"],[1,\"#276419\"]]},\"xaxis\":{\"gridcolor\":\"white\",\"linecolor\":\"white\",\"ticks\":\"\",\"title\":{\"standoff\":15},\"zerolinecolor\":\"white\",\"automargin\":true,\"zerolinewidth\":2},\"yaxis\":{\"gridcolor\":\"white\",\"linecolor\":\"white\",\"ticks\":\"\",\"title\":{\"standoff\":15},\"zerolinecolor\":\"white\",\"automargin\":true,\"zerolinewidth\":2},\"scene\":{\"xaxis\":{\"backgroundcolor\":\"#E5ECF6\",\"gridcolor\":\"white\",\"linecolor\":\"white\",\"showbackground\":true,\"ticks\":\"\",\"zerolinecolor\":\"white\",\"gridwidth\":2},\"yaxis\":{\"backgroundcolor\":\"#E5ECF6\",\"gridcolor\":\"white\",\"linecolor\":\"white\",\"showbackground\":true,\"ticks\":\"\",\"zerolinecolor\":\"white\",\"gridwidth\":2},\"zaxis\":{\"backgroundcolor\":\"#E5ECF6\",\"gridcolor\":\"white\",\"linecolor\":\"white\",\"showbackground\":true,\"ticks\":\"\",\"zerolinecolor\":\"white\",\"gridwidth\":2}},\"shapedefaults\":{\"line\":{\"color\":\"#2a3f5f\"}},\"annotationdefaults\":{\"arrowcolor\":\"#2a3f5f\",\"arrowhead\":0,\"arrowwidth\":1},\"geo\":{\"bgcolor\":\"white\",\"landcolor\":\"#E5ECF6\",\"subunitcolor\":\"white\",\"showland\":true,\"showlakes\":true,\"lakecolor\":\"white\"},\"title\":{\"x\":0.05},\"mapbox\":{\"style\":\"light\"}}},\"plot_bgcolor\":\"rgba(0,0,0,0)\",\"annotations\":[{\"bgcolor\":\"lightgreen\",\"borderpad\":4,\"font\":{\"color\":\"black\",\"size\":10},\"showarrow\":false,\"text\":\"ENTERTAINMENT - STYLE & BEAUTY - ARTS\",\"textangle\":0,\"x\":100.0,\"y\":6.0,\"yanchor\":\"bottom\"},{\"bgcolor\":\"lightgreen\",\"borderpad\":4,\"font\":{\"color\":\"black\",\"size\":10},\"showarrow\":false,\"text\":\"WELLNESS - IMPACT - HEALTHY LIVING\",\"textangle\":0,\"x\":-10.0,\"y\":20.0,\"yanchor\":\"bottom\"},{\"bgcolor\":\"lightgreen\",\"borderpad\":4,\"font\":{\"color\":\"black\",\"size\":10},\"showarrow\":false,\"text\":\"POLITICS - WORLD NEWS - THE WORLDPOST\",\"textangle\":0,\"x\":63.33333333333333,\"y\":24.0,\"yanchor\":\"bottom\"},{\"bgcolor\":\"lightgreen\",\"borderpad\":4,\"font\":{\"color\":\"black\",\"size\":10},\"showarrow\":false,\"text\":\"FOOD & DRINK - TASTE\",\"textangle\":0,\"x\":26.666666666666664,\"y\":2.0,\"yanchor\":\"bottom\"}]},                        {\"responsive\": true}                    ).then(function(){\n",
       "                            \n",
       "var gd = document.getElementById('e0ebb600-455b-4276-b82c-0be89cea9180');\n",
       "var x = new MutationObserver(function (mutations, observer) {{\n",
       "        var display = window.getComputedStyle(gd).display;\n",
       "        if (!display || display === 'none') {{\n",
       "            console.log([gd, 'removed!']);\n",
       "            Plotly.purge(gd);\n",
       "            observer.disconnect();\n",
       "        }}\n",
       "}});\n",
       "\n",
       "// Listen for the removal of the full notebook cells\n",
       "var notebookContainer = gd.closest('#notebook-container');\n",
       "if (notebookContainer) {{\n",
       "    x.observe(notebookContainer, {childList: true});\n",
       "}}\n",
       "\n",
       "// Listen for the clearing of the current output cell\n",
       "var outputEl = gd.closest('.output');\n",
       "if (outputEl) {{\n",
       "    x.observe(outputEl, {childList: true});\n",
       "}}\n",
       "\n",
       "                        })                };                });            </script>        </div>"
      ]
     },
     "metadata": {},
     "output_type": "display_data"
    }
   ],
   "execution_count": 1675
  },
  {
   "metadata": {},
   "cell_type": "markdown",
   "source": [
    "## **6** - Train Classification Model\n",
    "\n",
    "1. Create model pipeline so that training and predictions are vectorized in the same way\n",
    "    1. First step: TF-IDF vectorizer first (same process and parameters as vectorizer for K-Means)\n",
    "    2. Second step: Multinomial Naive Bayes classifier. Naive Bayes is a supervised learning algorithm for text classification.\n",
    "2. Train model with cluster category as expected output\n",
    "3. Use model to predict categories for test data\n",
    "4. Calculate metrics based on predicted calories compared to the expected categories\n",
    "5. Display overall F1 score\n",
    "6. Render confusion matrix using a heatmap"
   ],
   "id": "49fc26d6e601d1d7"
  },
  {
   "cell_type": "code",
   "id": "dadfe3e0",
   "metadata": {
    "papermill": {
     "duration": 3.105991,
     "end_time": "2025-01-22T12:58:06.799604",
     "exception": false,
     "start_time": "2025-01-22T12:58:03.693613",
     "status": "completed"
    },
    "tags": [],
    "ExecuteTime": {
     "end_time": "2025-01-27T09:48:59.491774Z",
     "start_time": "2025-01-27T09:47:49.429342Z"
    }
   },
   "source": [
    "from sklearn.naive_bayes import MultinomialNB\n",
    "from sklearn.pipeline import make_pipeline\n",
    "from sklearn.metrics import confusion_matrix, f1_score\n",
    "import matplotlib.pyplot as plt\n",
    "import seaborn as sns\n",
    "\n",
    "# Fit the training data to the model\n",
    "model = make_pipeline(TfidfVectorizer(**vectorizer_settings), MultinomialNB())\n",
    "model.fit(x_train, y_train['cluster_category'])\n",
    "\n",
    "# Test the model using reserved test data not included in the training\n",
    "predicted_categories = model.predict(x_test)\n",
    "\n",
    "# calculate the confusion matrix and overall F1 score\n",
    "c_matrix = confusion_matrix(y_test['cluster_category'], predicted_categories, labels=dominant_categories, normalize='true')\n",
    "f1_score_result = f1_score(y_test['cluster_category'], predicted_categories, average='micro')\n",
    "\n",
    "\n",
    "print('Overall F1 Score: {:.2%}'.format(f1_score_result))\n",
    "\n",
    "plt.rcParams.update({'font.size': 8, 'figure.figsize': [6, 6]})\n",
    "sns.set_theme(font_scale=0.8)\n",
    "sns.color_palette(\"Blues\", as_cmap=True)\n",
    "sns.heatmap(c_matrix.T, square=True, cmap='Blues', annot=True, cbar=True, xticklabels=dominant_categories, yticklabels=dominant_categories)\n",
    "plt.xlabel('TRUE label')\n",
    "plt.ylabel('PREDICTED label')\n",
    "\n",
    "plt.show()"
   ],
   "outputs": [
    {
     "name": "stdout",
     "output_type": "stream",
     "text": [
      "Overall F1 Score: 78.44%\n"
     ]
    },
    {
     "data": {
      "text/plain": [
       "<Figure size 600x600 with 2 Axes>"
      ],
      "image/png": "[encoded data removed]"
     },
     "metadata": {},
     "output_type": "display_data"
    }
   ],
   "execution_count": 1676
  },
  {
   "metadata": {},
   "cell_type": "markdown",
   "source": [
    "## **7** - Predict from user input\n",
    "\n",
    "1. Prompt user to enter a headline\n",
    "2. Use model to predict category for headline\n",
    "3. Show the prediction to the user\n",
    "\n",
    "This section can be run multiple times."
   ],
   "id": "7fd9b895c0013337"
  },
  {
   "cell_type": "code",
   "id": "f283d0707be1f62a",
   "metadata": {
    "ExecuteTime": {
     "end_time": "2025-01-27T09:50:03.258964Z",
     "start_time": "2025-01-27T09:49:34.819622Z"
    }
   },
   "source": [
    "headline = input('Enter a headline') # Prompt the user for a headline\n",
    "pred = model.predict([headline]) # Use the model to make a prediction\n",
    "print('The headline \"' + headline + '\" is in the category ' + pred[0]) # Show the prediction to the user"
   ],
   "outputs": [
    {
     "name": "stdout",
     "output_type": "stream",
     "text": [
      "The headline \"Taylor Swift arrives at Chiefs-Bills AFC Championship in black Louis Vuitton outfit\" is in the category WELLNESS - IMPACT - HEALTHY LIVING\n"
     ]
    }
   ],
   "execution_count": 1678
  }
 ],
 "metadata": {
  "kaggle": {
   "accelerator": "none",
   "dataSources": [
    {
     "datasetId": 1550907,
     "sourceId": 2556316,
     "sourceType": "datasetVersion"
    },
    {
     "datasetId": 32526,
     "sourceId": 4243451,
     "sourceType": "datasetVersion"
    }
   ],
   "dockerImageVersionId": 30839,
   "isGpuEnabled": false,
   "isInternetEnabled": true,
   "language": "python",
   "sourceType": "notebook"
  },
  "kernelspec": {
   "display_name": "Python 3 (ipykernel)",
   "language": "python",
   "name": "python3"
  },
  "language_info": {
   "codemirror_mode": {
    "name": "ipython",
    "version": 3
   },
   "file_extension": ".py",
   "mimetype": "text/x-python",
   "name": "python",
   "nbconvert_exporter": "python",
   "pygments_lexer": "ipython3",
   "version": "3.13.0"
  },
  "papermill": {
   "default_parameters": {},
   "duration": 18.520466,
   "end_time": "2025-01-22T12:58:13.920573",
   "environment_variables": {},
   "exception": null,
   "input_path": "__notebook__.ipynb",
   "output_path": "__notebook__.ipynb",
   "parameters": {},
   "start_time": "2025-01-22T12:57:55.400107",
   "version": "2.6.0"
  }
 },
 "nbformat": 4,
 "nbformat_minor": 5
}
